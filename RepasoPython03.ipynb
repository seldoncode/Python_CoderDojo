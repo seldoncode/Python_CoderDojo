{
  "nbformat": 4,
  "nbformat_minor": 0,
  "metadata": {
    "colab": {
      "name": "RepasoPython03.ipynb",
      "provenance": [],
      "authorship_tag": "ABX9TyMhB6r+lo1vUqFRBO/fEaEr",
      "include_colab_link": true
    },
    "kernelspec": {
      "name": "python3",
      "display_name": "Python 3"
    },
    "language_info": {
      "name": "python"
    }
  },
  "cells": [
    {
      "cell_type": "markdown",
      "metadata": {
        "id": "view-in-github",
        "colab_type": "text"
      },
      "source": [
        "<a href=\"https://colab.research.google.com/github/seldoncode/Python_CoderDojo/blob/main/RepasoPython03.ipynb\" target=\"_parent\"><img src=\"https://colab.research.google.com/assets/colab-badge.svg\" alt=\"Open In Colab\"/></a>"
      ]
    },
    {
      "cell_type": "markdown",
      "metadata": {
        "id": "NSXVYfZTYyF0"
      },
      "source": [
        "# Bucle ```while```"
      ]
    },
    {
      "cell_type": "code",
      "metadata": {
        "colab": {
          "base_uri": "https://localhost:8080/"
        },
        "id": "Ys7jyQO8YvP-",
        "outputId": "877ec69a-1d99-4f90-9a76-257901761df2"
      },
      "source": [
        "n = 1                      # inicializamos la variable n con el valor 1\n",
        "while n < 10:              # mientras n sea menor que 10\n",
        "  print(n)                 # imprime n\n",
        "  n += 1                   # incrementa en 1 el contador\n",
        "\n",
        "print(\"Fin del programa.\") # Se ejecuta al salir del bucle"
      ],
      "execution_count": 1,
      "outputs": [
        {
          "output_type": "stream",
          "name": "stdout",
          "text": [
            "1\n",
            "2\n",
            "3\n",
            "4\n",
            "5\n",
            "6\n",
            "7\n",
            "8\n",
            "9\n",
            "Fin del programa.\n"
          ]
        }
      ]
    },
    {
      "cell_type": "code",
      "metadata": {
        "colab": {
          "base_uri": "https://localhost:8080/"
        },
        "id": "FDdmCROyZQ9_",
        "outputId": "e3b43b16-43cb-4cce-fa8c-5bb6f38ee085"
      },
      "source": [
        "jugar = \"s\"             # inicilizamos la variable\n",
        "while jugar == \"s\":\n",
        "  print(\"Estamos jugando una partida.\")\n",
        "  jugar = input(\"¿Quiere seguir jugando (s/n)?: \")\n",
        "  \n",
        "print(\"Fin del juego.\")"
      ],
      "execution_count": 2,
      "outputs": [
        {
          "output_type": "stream",
          "name": "stdout",
          "text": [
            "Estamos jugando una partida.\n",
            "¿Quiere seguir jugando (s/n)?: s\n",
            "Estamos jugando una partida.\n",
            "¿Quiere seguir jugando (s/n)?: s\n",
            "Estamos jugando una partida.\n",
            "¿Quiere seguir jugando (s/n)?: n\n",
            "Fin del juego.\n"
          ]
        }
      ]
    },
    {
      "cell_type": "markdown",
      "metadata": {
        "id": "aOHOrPDgZ3rT"
      },
      "source": [
        "# Generación de un número aleatorio\n",
        "Para generar un número aleatorio primero necesitamos importar la librería ```random```.  \n",
        "Luego se invoca la función que genera los números aleatorios enteros, llamada ```randint```."
      ]
    },
    {
      "cell_type": "code",
      "metadata": {
        "colab": {
          "base_uri": "https://localhost:8080/"
        },
        "id": "XjFB0TPLZ-4d",
        "outputId": "92c726b6-1028-4f1f-b4ed-bdd24dbaa708"
      },
      "source": [
        "import random\n",
        "rnd = random.randint(10,20)       # genera un número aleatorio entero entre 10 y 20, ambos incluidos\n",
        "print(rnd)"
      ],
      "execution_count": 3,
      "outputs": [
        {
          "output_type": "stream",
          "name": "stdout",
          "text": [
            "14\n"
          ]
        }
      ]
    },
    {
      "cell_type": "markdown",
      "metadata": {
        "id": "vO9K6lNIazhR"
      },
      "source": [
        "## Elegir aleatoriamente de una lista\n",
        "Dada una lista podemos elegir uno de sus elementos de forma aleatoria usando la librería ```random``` y la función ```choice```."
      ]
    },
    {
      "cell_type": "code",
      "metadata": {
        "colab": {
          "base_uri": "https://localhost:8080/"
        },
        "id": "OQXaqCnba1LZ",
        "outputId": "f18d858c-99c6-41a0-9020-f2f4cd407d02"
      },
      "source": [
        "import random\n",
        "lista = [\"América\",\"Europa\", \"África\",\"Oceanía\", \"Asia\"]\n",
        "print(\"Vamos a elegir de forma aleatoria un continente donde vivir.\")\n",
        "elegido = random.choice(lista)\n",
        "print(\"Me voy a a ir a vivir a\", elegido)"
      ],
      "execution_count": 4,
      "outputs": [
        {
          "output_type": "stream",
          "name": "stdout",
          "text": [
            "Vamos a elegir de forma aleatoria un continente donde vivir.\n",
            "Me voy a a ir a vivir a  África\n"
          ]
        }
      ]
    },
    {
      "cell_type": "markdown",
      "metadata": {
        "id": "CC3Et0v5a_Nc"
      },
      "source": [
        "### Reto. Número favorito y color favorito\n",
        "* Un amigo tiene un número favorito del 0 al 9 y un color favorito entre:\n",
        " - rojo, verde, azul, amarillo, naranja, violeta, rosa, marrón, negro, blanco.\n",
        "* Tienes que adivinar cual es su número y su color favorito.\n",
        "* El programa cada vez te pedirá que digas un número y un color. \n",
        "* Si aciertas uno de ellos te dirá cuál has acertado\n",
        "* Si no acietas ninguno te dirá que no has acertado ninguno.\n",
        "* El objetivo es llegar a acertar ambos en el menor número de tiradas posibles.\n",
        "* El juego termina cuando se aciertan ambos, color y número.\n",
        "* Al inicio del programa se elige de forma aleatoria el número favorito, y también se elige de forma aleatoria el color favorito del amigo. \n",
        "* Finalmente se informa del número de tiradas empleadas y del número y color favoritos del amigo."
      ]
    }
  ]
}