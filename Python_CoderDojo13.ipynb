{
  "nbformat": 4,
  "nbformat_minor": 0,
  "metadata": {
    "colab": {
      "name": "Python_CoderDojo13.ipynb",
      "provenance": [],
      "collapsed_sections": [],
      "authorship_tag": "ABX9TyOWvf7CYHhF9dUgnhH/D1nk",
      "include_colab_link": true
    },
    "kernelspec": {
      "name": "python3",
      "display_name": "Python 3"
    },
    "language_info": {
      "name": "python"
    }
  },
  "cells": [
    {
      "cell_type": "markdown",
      "metadata": {
        "id": "view-in-github",
        "colab_type": "text"
      },
      "source": [
        "<a href=\"https://colab.research.google.com/github/seldoncode/Python_CoderDojo/blob/main/Python_CoderDojo13.ipynb\" target=\"_parent\"><img src=\"https://colab.research.google.com/assets/colab-badge.svg\" alt=\"Open In Colab\"/></a>"
      ]
    },
    {
      "cell_type": "markdown",
      "metadata": {
        "id": "fZkoBQspWZjK"
      },
      "source": [
        "# Listas anidadas\n",
        "* Son listas de listas\n",
        "* Dentro de una lista los elementos son a su vez otras listas.\n",
        "* También se llaman matrices o arrays de dos dimensiones o listas bidimiensionales.\n",
        "* Si las listas anidadas son de nivel 3 se llaman listas tridimencionales, y si son de múltiples dimensiones se llaman multidimiensionales."
      ]
    },
    {
      "cell_type": "code",
      "metadata": {
        "colab": {
          "base_uri": "https://localhost:8080/"
        },
        "id": "gqZW59EkWsEL",
        "outputId": "31a3fa3e-ad18-4ea0-c307-f9e90c301f3f"
      },
      "source": [
        "nombres = [\"Ana\", \"Luis\", \"Eva\", \"Jose\"]\n",
        "edades = [15,16,14,17]\n",
        "\n",
        "# organizando la información en forma de matriz\n",
        "amigos = [[\"Ana\",15],\n",
        "          [\"Luis\",16],\n",
        "          [\"Eva\",14],\n",
        "          [\"Jose\",17]]\n",
        "amigos"
      ],
      "execution_count": null,
      "outputs": [
        {
          "output_type": "execute_result",
          "data": {
            "text/plain": [
              "[['Ana', 15], ['Luis', 16], ['Eva', 14], ['Jose', 17]]"
            ]
          },
          "metadata": {},
          "execution_count": 3
        }
      ]
    },
    {
      "cell_type": "code",
      "metadata": {
        "colab": {
          "base_uri": "https://localhost:8080/"
        },
        "id": "Jw7r8-PpYBPj",
        "outputId": "0b7bb4ab-9cd0-4b2b-e1ba-7212b439ba57"
      },
      "source": [
        "# accediendo al primer elemento de la lista amigos\n",
        "amigos[0]"
      ],
      "execution_count": null,
      "outputs": [
        {
          "output_type": "execute_result",
          "data": {
            "text/plain": [
              "['Ana', 15]"
            ]
          },
          "metadata": {},
          "execution_count": 4
        }
      ]
    },
    {
      "cell_type": "code",
      "metadata": {
        "colab": {
          "base_uri": "https://localhost:8080/"
        },
        "id": "EQPrjnhjYNoN",
        "outputId": "08ab1ce6-2539-4575-eef5-f98afdf00baa"
      },
      "source": [
        "# accediendo a los años de Eva\n",
        "amigos[2][1]"
      ],
      "execution_count": null,
      "outputs": [
        {
          "output_type": "execute_result",
          "data": {
            "text/plain": [
              "14"
            ]
          },
          "metadata": {},
          "execution_count": 5
        }
      ]
    },
    {
      "cell_type": "code",
      "metadata": {
        "colab": {
          "base_uri": "https://localhost:8080/"
        },
        "id": "gahi-YxOYj1W",
        "outputId": "284d65e0-458a-4f9b-cd7d-1285ecfc2793"
      },
      "source": [
        "# ha sido el cumpleaños de Jose\n",
        "amigos[3][1] += 1\n",
        "amigos"
      ],
      "execution_count": null,
      "outputs": [
        {
          "output_type": "execute_result",
          "data": {
            "text/plain": [
              "[['Ana', 15], ['Luis', 16], ['Eva', 14], ['Jose', 18]]"
            ]
          },
          "metadata": {},
          "execution_count": 6
        }
      ]
    },
    {
      "cell_type": "code",
      "metadata": {
        "colab": {
          "base_uri": "https://localhost:8080/"
        },
        "id": "DyfnTcijZCbr",
        "outputId": "3a900bb9-768a-4f35-b02b-46c0277a348d"
      },
      "source": [
        "# se incorpora un nuevo amigo al grupo\n",
        "amigos.append([\"Isa\"])    # de momento no hemos puesto la edad\n",
        "amigos"
      ],
      "execution_count": null,
      "outputs": [
        {
          "output_type": "execute_result",
          "data": {
            "text/plain": [
              "[['Ana', 15], ['Luis', 16], ['Eva', 14], ['Jose', 18], ['Isa']]"
            ]
          },
          "metadata": {},
          "execution_count": 7
        }
      ]
    },
    {
      "cell_type": "code",
      "metadata": {
        "colab": {
          "base_uri": "https://localhost:8080/"
        },
        "id": "01nHD0ufZW4a",
        "outputId": "771c3868-1c9f-4611-bf8b-ea5dcf4f067e"
      },
      "source": [
        "# añadimos la edad de Isa\n",
        "amigos[4].append(17)\n",
        "amigos"
      ],
      "execution_count": null,
      "outputs": [
        {
          "output_type": "execute_result",
          "data": {
            "text/plain": [
              "[['Ana', 15], ['Luis', 16], ['Eva', 14], ['Jose', 18], ['Isa', 17]]"
            ]
          },
          "metadata": {},
          "execution_count": 9
        }
      ]
    },
    {
      "cell_type": "markdown",
      "metadata": {
        "id": "oVgTc_IHZzBI"
      },
      "source": [
        "### Recorriendo listas con un ```for```"
      ]
    },
    {
      "cell_type": "code",
      "metadata": {
        "colab": {
          "base_uri": "https://localhost:8080/"
        },
        "id": "4YQK92OuZ6l4",
        "outputId": "a4d94986-c753-44ce-af4c-27906e5d7441"
      },
      "source": [
        "for amigo in amigos:\n",
        "  print(f\"{amigo[0]:5}: {amigo[1]:2}\")"
      ],
      "execution_count": null,
      "outputs": [
        {
          "output_type": "stream",
          "name": "stdout",
          "text": [
            "Ana  : 15\n",
            "Luis : 16\n",
            "Eva  : 14\n",
            "Jose : 18\n",
            "Isa  : 17\n"
          ]
        }
      ]
    },
    {
      "cell_type": "markdown",
      "metadata": {
        "id": "XU5uy5_jbJk7"
      },
      "source": [
        "### Inventarios de videojuegos\n",
        "* Una tienda de videojuego quiere hacer inventario.\n",
        "* Clasifica los videojuegos en cuatro tipos:\n",
        " - Acción\n",
        " - Arcade\n",
        " - Estrategia\n",
        " - Simulación\n",
        "* Conocen cuántos videojuegos de cada tipo existen en su tienda.\n",
        " - Acción: 456\n",
        " - Arcade: 321\n",
        " - Estrategia: 209\n",
        " - Simulación: 105"
      ]
    },
    {
      "cell_type": "code",
      "metadata": {
        "id": "6m9AGidocwan"
      },
      "source": [
        "juegos = [[\"Acción\", 456],\n",
        "          [\"Arcade\", 321],\n",
        "          [\"Estrategia\", 209],\n",
        "          [\"Simulación\", 105]]"
      ],
      "execution_count": null,
      "outputs": []
    },
    {
      "cell_type": "markdown",
      "metadata": {
        "id": "55JFyecgdXjm"
      },
      "source": [
        "#### Además quieren añadir su ubicación\n",
        "Anotando para cada tipo de juego la localización en una estantería indicando fila y columna de la estantería.\n",
        "* Los juegos de Acción están en la fila=1, columna=3.\n",
        "* Los juegos de Arcade están en la fila=2, columna=1.\n",
        "* Los juegos de Estrategia están en la fila=2, columna=2.\n",
        "* Los juegos de Simulación están en la fila=3, columna=4."
      ]
    },
    {
      "cell_type": "code",
      "metadata": {
        "id": "PPC0Z8xyRi8Z"
      },
      "source": [
        "juegos = [[\"Acción\", 456, [1,3]],\n",
        "          [\"Arcade\", 321, [2,1]],\n",
        "          [\"Estrategia\", 209, [2,2]],\n",
        "          [\"Simulación\", 105, [3,4]]]"
      ],
      "execution_count": 1,
      "outputs": []
    },
    {
      "cell_type": "markdown",
      "metadata": {
        "id": "FcHpX58zR5iS"
      },
      "source": [
        "Se ha vendido un juego de Acción."
      ]
    },
    {
      "cell_type": "code",
      "metadata": {
        "colab": {
          "base_uri": "https://localhost:8080/"
        },
        "id": "yZeIXyBvSCqF",
        "outputId": "07a76418-df69-4de0-9f57-3049da5241eb"
      },
      "source": [
        "juegos[0][1] = 455\n",
        "juegos"
      ],
      "execution_count": 3,
      "outputs": [
        {
          "output_type": "execute_result",
          "data": {
            "text/plain": [
              "[['Acción', 455, [1, 3]],\n",
              " ['Arcade', 321, [2, 1]],\n",
              " ['Estrategia', 209, [2, 2]],\n",
              " ['Simulación', 105, [3, 4]]]"
            ]
          },
          "metadata": {},
          "execution_count": 3
        }
      ]
    },
    {
      "cell_type": "markdown",
      "metadata": {
        "id": "8JshDd47SO_c"
      },
      "source": [
        "Imprimiendo los valores con un ```for```."
      ]
    },
    {
      "cell_type": "code",
      "metadata": {
        "colab": {
          "base_uri": "https://localhost:8080/"
        },
        "id": "HiBFxOyhSUhg",
        "outputId": "547db92a-5cfb-4202-b119-78e12aa11eb3"
      },
      "source": [
        "for j in juegos:\n",
        "  print(f\"{j[0]:10} → {j[1]:2} → {j[2]}\")"
      ],
      "execution_count": 5,
      "outputs": [
        {
          "output_type": "stream",
          "name": "stdout",
          "text": [
            "Acción     → 455 → [1, 3]\n",
            "Arcade     → 321 → [2, 1]\n",
            "Estrategia → 209 → [2, 2]\n",
            "Simulación → 105 → [3, 4]\n"
          ]
        }
      ]
    },
    {
      "cell_type": "markdown",
      "metadata": {
        "id": "GNNTS0gvS8vo"
      },
      "source": [
        "Deseamos cambiar los juegos de Acción a la fila 3, columna 1."
      ]
    },
    {
      "cell_type": "code",
      "metadata": {
        "colab": {
          "base_uri": "https://localhost:8080/"
        },
        "id": "wB9QiN_CTKwY",
        "outputId": "a813b8c8-4826-4d0b-ec8c-2cf6ef791c43"
      },
      "source": [
        "juegos[0][2] = [3, 1]\n",
        "juegos"
      ],
      "execution_count": 6,
      "outputs": [
        {
          "output_type": "execute_result",
          "data": {
            "text/plain": [
              "[['Acción', 455, [3, 1]],\n",
              " ['Arcade', 321, [2, 1]],\n",
              " ['Estrategia', 209, [2, 2]],\n",
              " ['Simulación', 105, [3, 4]]]"
            ]
          },
          "metadata": {},
          "execution_count": 6
        }
      ]
    },
    {
      "cell_type": "markdown",
      "metadata": {
        "id": "K139JUsdTffJ"
      },
      "source": [
        "Ahora queremos cambiar los juegos de Simulación de la posición [3,4] a la posición [2,4].\n",
        "* Esto es, la columna no cambia, solo cambia la fila."
      ]
    },
    {
      "cell_type": "code",
      "metadata": {
        "colab": {
          "base_uri": "https://localhost:8080/"
        },
        "id": "qbrgc0OdT08v",
        "outputId": "4342debb-afef-4024-a3d9-e6624368a01b"
      },
      "source": [
        "juegos[3][2][0] = 2\n",
        "juegos"
      ],
      "execution_count": 7,
      "outputs": [
        {
          "output_type": "execute_result",
          "data": {
            "text/plain": [
              "[['Acción', 455, [3, 1]],\n",
              " ['Arcade', 321, [2, 1]],\n",
              " ['Estrategia', 209, [2, 2]],\n",
              " ['Simulación', 105, [2, 4]]]"
            ]
          },
          "metadata": {},
          "execution_count": 7
        }
      ]
    },
    {
      "cell_type": "markdown",
      "metadata": {
        "id": "xkR5ivkwU-7l"
      },
      "source": [
        "#### Cambiar el formato de impresión de la tabla\n",
        "Deseamos que se imprima según este formato:\n",
        "* Acción &nbsp;&nbsp;&nbsp;&nbsp;&nbsp;&nbsp;&nbsp;- &nbsp;Cantidad: 455 → Columna: 1, Fila: 3.\n",
        "* Arcade &nbsp;&nbsp;&nbsp;&nbsp;&nbsp;&nbsp;&nbsp;- &nbsp;Cantidad: 321 → Columna: 1, Fila: 2.\n",
        "* Estrategia &nbsp;&nbsp;- &nbsp;Cantidad: 209 → Columna: 2, Fila: 2.\n",
        "* Simulación - &nbsp;Cantidad: 105 → Columna: 4, Fila: 2."
      ]
    },
    {
      "cell_type": "code",
      "metadata": {
        "colab": {
          "base_uri": "https://localhost:8080/"
        },
        "id": "Zeem0SyMWKMD",
        "outputId": "ef3ef561-d23a-4a61-e2e3-b79a71fc63ea"
      },
      "source": [
        "for j in juegos:\n",
        "  print(f\"{j[0]:10} - Cantidad: {j[1]:2} → Columna: {j[2][1]}, Fila: {j[2][0]}.\")"
      ],
      "execution_count": 8,
      "outputs": [
        {
          "output_type": "stream",
          "name": "stdout",
          "text": [
            "Acción     - Cantidad: 455 → Columna: 1, Fila: 3.\n",
            "Arcade     - Cantidad: 321 → Columna: 1, Fila: 2.\n",
            "Estrategia - Cantidad: 209 → Columna: 2, Fila: 2.\n",
            "Simulación - Cantidad: 105 → Columna: 4, Fila: 2.\n"
          ]
        }
      ]
    },
    {
      "cell_type": "markdown",
      "metadata": {
        "id": "zSoLTqwvXv_m"
      },
      "source": [
        "### Inventarios de letras en dos cajones\n",
        "* En una ferretería guardan letras de madera en dos cajones.\n",
        "* Imprimir el contenido de los dos cajones, indicando el número de letras de cada tipo y en orden alfabético.\n",
        "* Cada cajón tiene 3 filas y 4 columnas\n",
        "* Cajón 1\n",
        "  - Fila 1: A,B,C,D,E\n",
        "  - Fila 2: F,G,H,I,J\n",
        "  - Fila 3: K,L,M,N,Ñ\n",
        "* Cajón 1:\n",
        " - A: 21 letras\n",
        " - B: 16 letras\n",
        " - C: 15 letras\n",
        " - D: 12 letras\n",
        " - E: 31 letras\n",
        " - F: 10 letras\n",
        " - G: 11 letras\n",
        " - H: 9 letras\n",
        " - I: 22 letras\n",
        " - J: 14 letras\n",
        " - K: 8 letras\n",
        " - L: 20 letras\n",
        " - M: 19 letras\n",
        " - N: 18 letras\n",
        " - Ñ: 7 letras\n",
        "* Cajón 2\n",
        "  - Fila 1: O,P,Q,R,S\n",
        "  - Fila 2: T,U,V,W,X\n",
        "  - Fila 3: Y,Z, , , \n",
        "   + Los tres últimos elementos de la fila 3 están vacíos\n",
        "* Cajón 2:\n",
        " - O: 24 letras\n",
        " - P: 17 letras\n",
        " - Q: 13 letras\n",
        " - R: 19 letras\n",
        " - S: 21 letras\n",
        " - T: 25 letras\n",
        " - U: 32 letras\n",
        " - V: 15 letras\n",
        " - W: 6 letras\n",
        " - X: 7 letras\n",
        " - Y: 12 letras\n",
        " - Z: 10 letras"
      ]
    },
    {
      "cell_type": "code",
      "metadata": {
        "colab": {
          "base_uri": "https://localhost:8080/"
        },
        "id": "3scMnpbuZbeZ",
        "outputId": "30eed5d6-11fc-4e78-e3e7-99985c29652a"
      },
      "source": [
        "fila11 = [[\"A\",21],\n",
        "          [\"B\",16],\n",
        "          [\"C\",15],\n",
        "          [\"D\",12],\n",
        "          [\"E\",31]]\n",
        "\n",
        "fila12 = [[\"F\",10],\n",
        "          [\"G\",11],\n",
        "          [\"H\",9],\n",
        "          [\"I\",22],\n",
        "          [\"J\",14]]\n",
        "\n",
        "fila13 = [[\"K\",8],\n",
        "          [\"L\",20],\n",
        "          [\"M\",19],\n",
        "          [\"N\",18],\n",
        "          [\"Ñ\",7]]\n",
        "\n",
        "cajon1 = [fila11, fila12, fila13]\n",
        "\n",
        "\n",
        "fila21 = [[\"O\",24],\n",
        "          [\"P\",17],\n",
        "          [\"Q\",13],\n",
        "          [\"R\",19],\n",
        "          [\"S\",21]]\n",
        "\n",
        "fila22 = [[\"T\",25],\n",
        "          [\"U\",32],\n",
        "          [\"V\",15],\n",
        "          [\"W\",6],\n",
        "          [\"X\",7]]\n",
        "\n",
        "fila23 = [[\"Y\",12],\n",
        "          [\"Z\",10],\n",
        "          [\"\",0],\n",
        "          [\"\",0],\n",
        "          [\"\",0]]\n",
        "\n",
        "cajon2 = [fila21, fila22, fila23]\n",
        "\n",
        "cajonera = [cajon1, cajon2]\n",
        "cajonera"
      ],
      "execution_count": 12,
      "outputs": [
        {
          "output_type": "execute_result",
          "data": {
            "text/plain": [
              "[[[['A', 21], ['B', 16], ['C', 15], ['D', 12], ['E', 31]],\n",
              "  [['F', 10], ['G', 11], ['H', 9], ['I', 22], ['J', 14]],\n",
              "  [['K', 8], ['L', 20], ['M', 19], ['N', 18], ['Ñ', 7]]],\n",
              " [[['O', 24], ['P', 17], ['Q', 13], ['R', 19], ['S', 21]],\n",
              "  [['T', 25], ['U', 32], ['V', 15], ['W', 6], ['X', 7]],\n",
              "  [['Y', 12], ['Z', 10], ['', 0], ['', 0], ['', 0]]]]"
            ]
          },
          "metadata": {},
          "execution_count": 12
        }
      ]
    },
    {
      "cell_type": "markdown",
      "metadata": {
        "id": "Gk6CPx1es_sc"
      },
      "source": [
        "#### Imprimir el inventario de la cajonera"
      ]
    },
    {
      "cell_type": "code",
      "metadata": {
        "colab": {
          "base_uri": "https://localhost:8080/"
        },
        "id": "fKMKswaAr_lv",
        "outputId": "ed61517e-463c-4ac4-c2a0-63a3e9f64117"
      },
      "source": [
        "print(\"CAJONERA\".center(50))\n",
        "print()\n",
        "for cajon in cajonera:\n",
        "  for fila in cajon:\n",
        "    for celda in fila:\n",
        "      print(f\"{celda[0]:1} : {celda[1]:2}     \", end=\"\")\n",
        "    print()\n",
        "  print()"
      ],
      "execution_count": 15,
      "outputs": [
        {
          "output_type": "stream",
          "name": "stdout",
          "text": [
            "                     CAJONERA                     \n",
            "\n",
            "A : 21     B : 16     C : 15     D : 12     E : 31     \n",
            "F : 10     G : 11     H :  9     I : 22     J : 14     \n",
            "K :  8     L : 20     M : 19     N : 18     Ñ :  7     \n",
            "\n",
            "O : 24     P : 17     Q : 13     R : 19     S : 21     \n",
            "T : 25     U : 32     V : 15     W :  6     X :  7     \n",
            "Y : 12     Z : 10       :  0       :  0       :  0     \n",
            "\n"
          ]
        }
      ]
    },
    {
      "cell_type": "markdown",
      "metadata": {
        "id": "T16GbtnttI3T"
      },
      "source": [
        "#### Crear un menú\n",
        "* Para disminuir unidades cuando se vende alguna letra\n",
        "* Para añadir unidades cuando llega un pedido"
      ]
    },
    {
      "cell_type": "code",
      "metadata": {
        "colab": {
          "base_uri": "https://localhost:8080/"
        },
        "id": "v0XmmTtmtftj",
        "outputId": "db8e6691-36b7-422e-9e4c-76749df93a96"
      },
      "source": [
        "while True:\n",
        "  print(\"1. Mostrar inventario\")\n",
        "  print(\"2. Venta de letra\")\n",
        "  print(\"3. Reposición de letra\")\n",
        "  print(\"4. Salir\")\n",
        "  \n",
        "  opcion = input(\"→ \")\n",
        "\n",
        "  if opcion == \"1\":\n",
        "    print()\n",
        "    print(\"CAJONERA\".center(50))\n",
        "    print()\n",
        "    for cajon in cajonera:\n",
        "      for fila in cajon:\n",
        "        for celda in fila:\n",
        "          print(f\"{celda[0]:1} : {celda[1]:2}     \", end=\"\")\n",
        "        print()\n",
        "      print()\n",
        "  elif opcion == \"2\":\n",
        "    letra = input(\"Indique la letra vendida: \").upper()\n",
        "    for cajon in cajonera:\n",
        "      for fila in cajon:\n",
        "        for celda in fila:\n",
        "          if letra == celda[0]:\n",
        "            unidades_vendidas = int(input(\"Indique el número de unidades vendidas (si 1 presione ENTER): \") or 1)\n",
        "            if celda[1] >= unidades_vendidas:\n",
        "              print(f\"Entregando {unidades_vendidas} unidades de la letra {celda[0]}.\")\n",
        "              celda[1] -= unidades_vendidas\n",
        "            else: \n",
        "              print(f\"Stock insuficiente, solo podemos venderle {celda[1]} unidades.\")\n",
        "  elif opcion == \"3\":\n",
        "    letra = input(\"Indique la letra a reponer: \").upper()\n",
        "    for cajon in cajonera:\n",
        "      for fila in cajon:\n",
        "        for celda in fila:\n",
        "          if letra == celda[0]:\n",
        "            unidades_repuestas = int(input(\"Indique el número de unidades repuestas: \"))\n",
        "            print(f\"Reponiendo {unidades_repuestas} unidades de la letra {celda[0]}.\")\n",
        "            celda[1] += unidades_repuestas\n",
        "  elif opcion == \"4\":\n",
        "    print(\"Fin del programa\")\n",
        "    break\n",
        "  else:\n",
        "    print(\"Por favor, introduzca una opción correcta.\")"
      ],
      "execution_count": 22,
      "outputs": [
        {
          "output_type": "stream",
          "name": "stdout",
          "text": [
            "1. Mostrar inventario\n",
            "2. Venta de letra\n",
            "3. Reposición de letra\n",
            "4. Salir\n",
            "→ 3\n",
            "Indique la letra a reponer: z\n",
            "Indique el número de unidades repuestas: 9\n",
            "Reponiendo 9 unidades de la letra Z.\n",
            "1. Mostrar inventario\n",
            "2. Venta de letra\n",
            "3. Reposición de letra\n",
            "4. Salir\n",
            "→ 1\n",
            "\n",
            "                     CAJONERA                     \n",
            "\n",
            "A : 21     B : 16     C : 15     D : 12     E : 31     \n",
            "F : 10     G : 11     H :  9     I : 22     J : 14     \n",
            "K :  8     L : 20     M : 19     N : 18     Ñ :  7     \n",
            "\n",
            "O : 24     P : 17     Q : 13     R : 19     S : 21     \n",
            "T : 25     U : 32     V : 15     W :  6     X :  7     \n",
            "Y : 12     Z : 19       :  0       :  0       :  0     \n",
            "\n",
            "1. Mostrar inventario\n",
            "2. Venta de letra\n",
            "3. Reposición de letra\n",
            "4. Salir\n",
            "→ 4\n",
            "Fin del programa\n"
          ]
        }
      ]
    },
    {
      "cell_type": "markdown",
      "metadata": {
        "id": "-ljb_RLJ0n2a"
      },
      "source": [
        "### Transformar un lista bidimensional en dos unidimensionales\n",
        "* Nos dan la lista bidimiensional siguiente:\n",
        " - grupos = [[1,\"A\"],[2,\"B\"],[3,\"C\"],[4,\"D\"],[5,\"E\"],[6,\"F\"],[7,\"G\"],[8,\"H\"],[9,\"I\"],[0,\"J\"]]\n",
        "* Deseamos crear un algoritmo que transforme la lista bidimiesional anterior en las dos listas unidimensionales siguientes.\n",
        " - numeros = [1,2,3,4,5,6,7,8,9,0]\n",
        " - letras = [\"A\",\"B\",\"C\",\"D\",\"E\",\"F\",\"G\",\"H\",\"I\",\"J\"]"
      ]
    },
    {
      "cell_type": "code",
      "metadata": {
        "colab": {
          "base_uri": "https://localhost:8080/"
        },
        "id": "fdrbkjSD13E3",
        "outputId": "432d9fb1-c747-4626-fd50-520e29f1082e"
      },
      "source": [
        "grupos = [[1,\"A\"],[2,\"B\"],[3,\"C\"],[4,\"D\"],[5,\"E\"],[6,\"F\"],[7,\"G\"],[8,\"H\"],[9,\"I\"],[0,\"J\"]]\n",
        "print(grupos)\n",
        "numeros = []\n",
        "letras = []\n",
        "for grupo in grupos:\n",
        "  numeros.append(grupo[0])\n",
        "  letras.append(grupo[1])\n",
        "\n",
        "print(numeros)\n",
        "print(letras)"
      ],
      "execution_count": 25,
      "outputs": [
        {
          "output_type": "stream",
          "name": "stdout",
          "text": [
            "[[1, 'A'], [2, 'B'], [3, 'C'], [4, 'D'], [5, 'E'], [6, 'F'], [7, 'G'], [8, 'H'], [9, 'I'], [0, 'J']]\n",
            "[1, 2, 3, 4, 5, 6, 7, 8, 9, 0]\n",
            "['A', 'B', 'C', 'D', 'E', 'F', 'G', 'H', 'I', 'J']\n"
          ]
        }
      ]
    },
    {
      "cell_type": "markdown",
      "metadata": {
        "id": "jqy6W6S02h6k"
      },
      "source": [
        "### Transformar dos listas unidimensionales en una lista bidimensional\n",
        "* Nos dan las listas unidimiensionales siguientes:\n",
        " - numeros = [1,2,3,4,5,6,7,8,9,0]\n",
        " - letras = [\"A\",\"B\",\"C\",\"D\",\"E\",\"F\",\"G\",\"H\",\"I\",\"J\"]\n",
        " - estamos suponiendo que el número de elementos de ambas listas son iguales\n",
        "* Deseamos crear un algoritmo que transforme esas listas unidimiesionales en una lista bidimensional como esta:\n",
        " - grupos = [[1,\"A\"],[2,\"B\"],[3,\"C\"],[4,\"D\"],[5,\"E\"],[6,\"F\"],[7,\"G\"],[8,\"H\"],[9,\"I\"],[0,\"J\"]]"
      ]
    },
    {
      "cell_type": "markdown",
      "metadata": {
        "id": "avh0BDYv8jIW"
      },
      "source": [
        "#### Solución 1 con ```append```"
      ]
    },
    {
      "cell_type": "code",
      "metadata": {
        "id": "gwVT6H-U8D0L"
      },
      "source": [
        "numeros = [1,2,3,4,5,6,7,8,9,0]\n",
        "letras = [\"A\",\"B\",\"C\",\"D\",\"E\",\"F\",\"G\",\"H\",\"I\",\"J\"]\n",
        "n = len(numeros)\n",
        "grupos = []\n",
        "for i in range(n):\n",
        "  grupos.append([numero[i],letras[i]])"
      ],
      "execution_count": null,
      "outputs": []
    },
    {
      "cell_type": "markdown",
      "metadata": {
        "id": "IDW8AYAI8o12"
      },
      "source": [
        "#### Solución 2 inicializando una lista bidimensional\n",
        "* Inicializamos una lista bidimiensional donde los números son todos cero y las letras están vacías.\n",
        "* grupos = [[0, ''], [0, ''], [0, ''], [0, ''], [0, ''], [0, ''], [0, ''], [0, ''], [0, ''], [0, '']]\n",
        "* No intentes inicializar la lista así:\n",
        " - grupos = [[0,'']]*n\n",
        " - aparentemente el resultado será el mismo pero esta forma de inicializar la lista grupos, lo que hace es repetir el primer elemento [0,''] n veces, pero se trata del mismo elemento\n",
        " - Recordemos que para copiar bien una lista se ha de hacer una copia profunda, si se pone el signo de multiplicar * lo que se está haciendo es una copia del mismo elemento de la lista 10 veces, de forma que al cambiar uno se cambian todos porque son en realidad el mismo."
      ]
    },
    {
      "cell_type": "code",
      "metadata": {
        "colab": {
          "base_uri": "https://localhost:8080/"
        },
        "id": "R-j6Hij33FcA",
        "outputId": "99cc0934-c950-49e7-81a6-db7916d15912"
      },
      "source": [
        "numeros = [1,2,3,4,5,6,7,8,9,0]\n",
        "letras = [\"A\",\"B\",\"C\",\"D\",\"E\",\"F\",\"G\",\"H\",\"I\",\"J\"]\n",
        "n = len(numeros)\n",
        "grupos = [[0,''] for j in range(n)]  # forma correcta de inicializar una lista con n elementos diferentes\n",
        "print(grupos)\n",
        "\n",
        "for i in range(n):\n",
        "  grupos[i][0] = numeros[i]         # con este sistema no es necesario usar append\n",
        "  grupos[i][1] = letras[i]          # ya que lo que hacemos es cambiar el valor de los elementos ya existentes\n",
        "print(grupos)"
      ],
      "execution_count": 3,
      "outputs": [
        {
          "output_type": "stream",
          "name": "stdout",
          "text": [
            "[[0, ''], [0, ''], [0, ''], [0, ''], [0, ''], [0, ''], [0, ''], [0, ''], [0, ''], [0, '']]\n",
            "[[1, 'A'], [2, 'B'], [3, 'C'], [4, 'D'], [5, 'E'], [6, 'F'], [7, 'G'], [8, 'H'], [9, 'I'], [0, 'J']]\n"
          ]
        }
      ]
    },
    {
      "cell_type": "markdown",
      "metadata": {
        "id": "37bhiZvc-P62"
      },
      "source": [
        "# Copia de listas\n",
        "Recordemos primero cómo se hace una copia de una lista que no sea una copia independiente."
      ]
    },
    {
      "cell_type": "code",
      "metadata": {
        "colab": {
          "base_uri": "https://localhost:8080/"
        },
        "id": "gWgCaNq6-WAW",
        "outputId": "2508b252-32c9-49f6-9757-357de115af7a"
      },
      "source": [
        "l1 = [1,2,3]\n",
        "l2 = l1         # esto no es una copia independiente, l1 y l2 son la misma lista\n",
        "print(id(l1))   # ambas listas tienen el mismo id\n",
        "print(id(l2))   # ambas ocupan el mismo lugar en memoria ya que en realidad son la misma lista"
      ],
      "execution_count": 4,
      "outputs": [
        {
          "output_type": "stream",
          "name": "stdout",
          "text": [
            "140555754385312\n",
            "140555754385312\n"
          ]
        }
      ]
    },
    {
      "cell_type": "code",
      "metadata": {
        "colab": {
          "base_uri": "https://localhost:8080/"
        },
        "id": "23QxZwRU-wGX",
        "outputId": "cc9963b1-55a0-44fc-d063-b70daf149ca3"
      },
      "source": [
        "# si cambiarmos un elemento de la lista l1 se cambia también en l2\n",
        "l1[0] = 7\n",
        "l2"
      ],
      "execution_count": 5,
      "outputs": [
        {
          "output_type": "execute_result",
          "data": {
            "text/plain": [
              "[7, 2, 3]"
            ]
          },
          "metadata": {},
          "execution_count": 5
        }
      ]
    },
    {
      "cell_type": "markdown",
      "metadata": {
        "id": "FLDM3ztv-9Kd"
      },
      "source": [
        "## Haciendo correctamente una copia independiente de una lista\n",
        "### Método 1 usando ```lista[:]```"
      ]
    },
    {
      "cell_type": "code",
      "metadata": {
        "colab": {
          "base_uri": "https://localhost:8080/"
        },
        "id": "962zifI6_O_Z",
        "outputId": "8040d1d9-1ac3-444c-8edd-efdf91515259"
      },
      "source": [
        "l1 =[1,2,3]\n",
        "l2 = l1[:]       # así copiamos todos los elementos de la lista, pero l2 es una lista distinta de l1\n",
        "print(id(l1))    # las listas tienen distinto id\n",
        "print(id(l2))    # ocupan distinto lugar en memoria ya que en realidad se trata de listas distintas"
      ],
      "execution_count": 6,
      "outputs": [
        {
          "output_type": "stream",
          "name": "stdout",
          "text": [
            "140555754838208\n",
            "140555823203664\n"
          ]
        }
      ]
    },
    {
      "cell_type": "code",
      "metadata": {
        "colab": {
          "base_uri": "https://localhost:8080/"
        },
        "id": "SQYxJotQ_xhn",
        "outputId": "a874d3f9-a3af-4206-f04d-e2dc4d0aff0a"
      },
      "source": [
        "# si cambiarmos un elemento de la lista l1, la lista l2 no se altera\n",
        "l1[0] = 7\n",
        "l2"
      ],
      "execution_count": 7,
      "outputs": [
        {
          "output_type": "execute_result",
          "data": {
            "text/plain": [
              "[1, 2, 3]"
            ]
          },
          "metadata": {},
          "execution_count": 7
        }
      ]
    },
    {
      "cell_type": "markdown",
      "metadata": {
        "id": "k4uHxpUQ_7JR"
      },
      "source": [
        "### Método 2 usando ```list```"
      ]
    },
    {
      "cell_type": "code",
      "metadata": {
        "colab": {
          "base_uri": "https://localhost:8080/"
        },
        "id": "Wi_se2B_AOBx",
        "outputId": "8e45bc2e-d811-4095-f380-b45240b0d2ed"
      },
      "source": [
        "l1 = [1,2,3]\n",
        "l2 = list(l1)\n",
        "print(id(l1))    # las listas tienen distinto id\n",
        "print(id(l2))"
      ],
      "execution_count": 8,
      "outputs": [
        {
          "output_type": "stream",
          "name": "stdout",
          "text": [
            "140555755003088\n",
            "140555754740864\n"
          ]
        }
      ]
    },
    {
      "cell_type": "code",
      "metadata": {
        "colab": {
          "base_uri": "https://localhost:8080/"
        },
        "id": "10K1akwoAw3z",
        "outputId": "38d6643e-a016-4665-d3ee-0c8bd929eec7"
      },
      "source": [
        "# si cambiarmos un elemento de la lista l1, la lista l2 no se altera\n",
        "l1[0] = 7\n",
        "l2"
      ],
      "execution_count": 9,
      "outputs": [
        {
          "output_type": "execute_result",
          "data": {
            "text/plain": [
              "[1, 2, 3]"
            ]
          },
          "metadata": {},
          "execution_count": 9
        }
      ]
    },
    {
      "cell_type": "markdown",
      "metadata": {
        "id": "wR98_rjeA0Zh"
      },
      "source": [
        "## El problema surge con las listas anidadas"
      ]
    },
    {
      "cell_type": "code",
      "metadata": {
        "colab": {
          "base_uri": "https://localhost:8080/"
        },
        "id": "oyIsrMnkBPto",
        "outputId": "e73a67b9-053e-4fe3-846d-f1ee8f655d8e"
      },
      "source": [
        "p = [1, [2,3], [4,5,6]]\n",
        "q = list(p)\n",
        "print(p)\n",
        "print(q)\n",
        "p[0] = 10            # en este caso funciona bien, al cambiar el elemento p[0] no cambia q[0]\n",
        "p[1][0] = 20         # funciona mal, ya que al cambiar p[1][0] también cambia q[1][0] \n",
        "p[2][0] = 40         # funciona mal, ya que al cambiar p[2][0] también cambia q[2][0]\n",
        "print()\n",
        "print(p)\n",
        "print(q)"
      ],
      "execution_count": 10,
      "outputs": [
        {
          "output_type": "stream",
          "name": "stdout",
          "text": [
            "[1, [2, 3], [4, 5, 6]]\n",
            "[1, [2, 3], [4, 5, 6]]\n",
            "\n",
            "[10, [20, 3], [40, 5, 6]]\n",
            "[1, [20, 3], [40, 5, 6]]\n"
          ]
        }
      ]
    },
    {
      "cell_type": "markdown",
      "metadata": {
        "id": "h_SYT8iGCZQ2"
      },
      "source": [
        "#### Solución 1 copia profunda manual"
      ]
    },
    {
      "cell_type": "code",
      "metadata": {
        "colab": {
          "base_uri": "https://localhost:8080/"
        },
        "id": "ohSdtAo0dy3y",
        "outputId": "eebbd6e4-0416-4798-bc0d-e3e47c03be5b"
      },
      "source": [
        "p = [1, [2,3], [4,5,6]]\n",
        "q = [p[0],list(p[1]),list(p[2])]\n",
        "print(p)\n",
        "print(q)\n",
        "p[0] = 10            # cambiamos el valor de p[0] y no cambia q[0]\n",
        "p[1][0] = 20         # cambiamos p[1][0] y no cambia q[1][0] \n",
        "p[2][0] = 40         # cambiamos p[2][0] y no cambia q[2][0]\n",
        "print()\n",
        "print(p)\n",
        "print(q)"
      ],
      "execution_count": 3,
      "outputs": [
        {
          "output_type": "stream",
          "name": "stdout",
          "text": [
            "[1, [2, 3], [4, 5, 6]]\n",
            "[1, [2, 3], [4, 5, 6]]\n",
            "\n",
            "[10, [20, 3], [40, 5, 6]]\n",
            "[1, [2, 3], [4, 5, 6]]\n"
          ]
        }
      ]
    },
    {
      "cell_type": "markdown",
      "metadata": {
        "id": "Uy7mGi7wjFnb"
      },
      "source": [
        "#### Solución 2 concatenando listas\n"
      ]
    },
    {
      "cell_type": "code",
      "metadata": {
        "colab": {
          "base_uri": "https://localhost:8080/"
        },
        "id": "tq6RZn-NjMBv",
        "outputId": "5400999f-369d-41a7-be9b-d4f521db92a9"
      },
      "source": [
        "p = [1, [2,3], [4,5,6]]\n",
        "q = [p[0]] + [list(p[1])] + [list(p[2])]\n",
        "print(p)\n",
        "print(q)\n",
        "p[0] = 10            # cambiamos el valor de p[0] y no cambia q[0]\n",
        "p[1][0] = 20         # cambiamos p[1][0] y no cambia q[1][0] \n",
        "p[2][0] = 40         # cambiamos p[2][0] y no cambia q[2][0]\n",
        "print()\n",
        "print(p)\n",
        "print(q)"
      ],
      "execution_count": 17,
      "outputs": [
        {
          "output_type": "stream",
          "name": "stdout",
          "text": [
            "[1, [2, 3], [4, 5, 6]]\n",
            "[1, [2, 3], [4, 5, 6]]\n",
            "\n",
            "[10, [20, 3], [40, 5, 6]]\n",
            "[1, [2, 3], [4, 5, 6]]\n"
          ]
        }
      ]
    },
    {
      "cell_type": "markdown",
      "metadata": {
        "id": "29CEvsyKjiJ-"
      },
      "source": [
        "#### Solución 3 con segmentos de indexación"
      ]
    },
    {
      "cell_type": "code",
      "metadata": {
        "colab": {
          "base_uri": "https://localhost:8080/"
        },
        "id": "rT2ldC96jrKF",
        "outputId": "4b0ab647-3934-4c2f-aedf-2995e79a1b64"
      },
      "source": [
        "p = [1, [2,3], [4,5,6]]\n",
        "q = [p[0], p[1][:], p[2][:]]\n",
        "print(p)\n",
        "print(q)\n",
        "p[0] = 10            # cambiamos el valor de p[0] y no cambia q[0]\n",
        "p[1][0] = 20         # cambiamos p[1][0] y no cambia q[1][0] \n",
        "p[2][0] = 40         # cambiamos p[2][0] y no cambia q[2][0]\n",
        "print()\n",
        "print(p)\n",
        "print(q)"
      ],
      "execution_count": 19,
      "outputs": [
        {
          "output_type": "stream",
          "name": "stdout",
          "text": [
            "[1, [2, 3], [4, 5, 6]]\n",
            "[1, [2, 3], [4, 5, 6]]\n",
            "\n",
            "[10, [20, 3], [40, 5, 6]]\n",
            "[1, [2, 3], [4, 5, 6]]\n"
          ]
        }
      ]
    },
    {
      "cell_type": "markdown",
      "metadata": {
        "id": "dW7HcJhZflKP"
      },
      "source": [
        "#### Solución 4 sin librería"
      ]
    },
    {
      "cell_type": "code",
      "metadata": {
        "colab": {
          "base_uri": "https://localhost:8080/"
        },
        "id": "gYLlBbd8ClW4",
        "outputId": "beca6807-00ba-4f45-8b84-0d200dc1151e"
      },
      "source": [
        "p = [1, [2,3], [4,5,6]]\n",
        "q = []\n",
        "for i in range(len(p)):\n",
        "  if type(p[i])==list:\n",
        "    q.append(list(p[i]))\n",
        "  else:\n",
        "    q.append(p[i])\n",
        "print(p)\n",
        "print(q)\n",
        "p[0] = 10            # cambiamos el valor de p[0] y no cambia q[0]\n",
        "p[1][0] = 20         # cambiamos p[1][0] y no cambia q[1][0] \n",
        "p[2][0] = 40         # cambiamos p[2][0] y no cambia q[2][0]\n",
        "print()\n",
        "print(p)\n",
        "print(q)"
      ],
      "execution_count": 14,
      "outputs": [
        {
          "output_type": "stream",
          "name": "stdout",
          "text": [
            "[1, [2, 3], [4, 5, 6]]\n",
            "[1, [2, 3], [4, 5, 6]]\n",
            "\n",
            "[10, [20, 3], [40, 5, 6]]\n",
            "[1, [2, 3], [4, 5, 6]]\n"
          ]
        }
      ]
    },
    {
      "cell_type": "markdown",
      "metadata": {
        "id": "vGVFKZv9Cgp2"
      },
      "source": [
        "#### Solución 5 copia profunda usando la librería ```Deepcopy```"
      ]
    },
    {
      "cell_type": "code",
      "metadata": {
        "colab": {
          "base_uri": "https://localhost:8080/"
        },
        "id": "QM-dXV0DfulO",
        "outputId": "fd244392-bb2b-43be-c2ba-c22485f1ff70"
      },
      "source": [
        "import copy\n",
        "p = [1, [2,3], [4,5,6]]\n",
        "q = copy.deepcopy(p) # con deepcopy conseguimos que la copia de listas de listas sea una copia independiente           \n",
        "print(p)\n",
        "print(q)\n",
        "p[0] = 10            # cambiamos el valor de p[0] y no cambia q[0]\n",
        "p[1][0] = 20         # cambiamos p[1][0] y no cambia q[1][0] \n",
        "p[2][0] = 40         # cambiamos p[2][0] y no cambia q[2][0]\n",
        "print()\n",
        "print(p)\n",
        "print(q)"
      ],
      "execution_count": 16,
      "outputs": [
        {
          "output_type": "stream",
          "name": "stdout",
          "text": [
            "[1, [2, 3], [4, 5, 6]]\n",
            "[1, [2, 3], [4, 5, 6]]\n",
            "\n",
            "[10, [20, 3], [40, 5, 6]]\n",
            "[1, [2, 3], [4, 5, 6]]\n"
          ]
        }
      ]
    },
    {
      "cell_type": "markdown",
      "metadata": {
        "id": "iAzgGGHJkoop"
      },
      "source": [
        "## Aplanar una lista\n",
        "Se denomina aplanar una lista a tomar una lista anidada y con todos sus elementos obtener una lista unidimensional."
      ]
    },
    {
      "cell_type": "code",
      "metadata": {
        "colab": {
          "base_uri": "https://localhost:8080/"
        },
        "id": "twATrPe9k0wW",
        "outputId": "e4f0572d-bd5e-46b2-9977-f0d97ad7aa56"
      },
      "source": [
        "datos = [[1,2,3], [4,5,6], [7,8,9]]\n",
        "plana = []\n",
        "\n",
        "for lista in datos:\n",
        "  for elemento in lista:\n",
        "    plana.append(elemento)\n",
        "\n",
        "plana"
      ],
      "execution_count": 20,
      "outputs": [
        {
          "output_type": "execute_result",
          "data": {
            "text/plain": [
              "[1, 2, 3, 4, 5, 6, 7, 8, 9]"
            ]
          },
          "metadata": {},
          "execution_count": 20
        }
      ]
    },
    {
      "cell_type": "markdown",
      "metadata": {
        "id": "9iR6ixrAnHey"
      },
      "source": [
        "### Función ```type```"
      ]
    },
    {
      "cell_type": "code",
      "metadata": {
        "colab": {
          "base_uri": "https://localhost:8080/"
        },
        "id": "NefBElEVnUpZ",
        "outputId": "bfc5117f-5dca-45cd-de96-fa81e5edd48e"
      },
      "source": [
        "type(5)"
      ],
      "execution_count": 22,
      "outputs": [
        {
          "output_type": "execute_result",
          "data": {
            "text/plain": [
              "int"
            ]
          },
          "metadata": {},
          "execution_count": 22
        }
      ]
    },
    {
      "cell_type": "code",
      "metadata": {
        "colab": {
          "base_uri": "https://localhost:8080/"
        },
        "id": "dtQxXfPonX27",
        "outputId": "ffeae6ef-08a3-4741-fd98-92365a347ffa"
      },
      "source": [
        "type(5) == int"
      ],
      "execution_count": 23,
      "outputs": [
        {
          "output_type": "execute_result",
          "data": {
            "text/plain": [
              "True"
            ]
          },
          "metadata": {},
          "execution_count": 23
        }
      ]
    },
    {
      "cell_type": "code",
      "metadata": {
        "colab": {
          "base_uri": "https://localhost:8080/"
        },
        "id": "E9QXiYGxnbrl",
        "outputId": "bab1a2a8-d263-4f35-bbe5-bce9d632fe12"
      },
      "source": [
        "type([1,2,3])"
      ],
      "execution_count": 24,
      "outputs": [
        {
          "output_type": "execute_result",
          "data": {
            "text/plain": [
              "list"
            ]
          },
          "metadata": {},
          "execution_count": 24
        }
      ]
    },
    {
      "cell_type": "markdown",
      "metadata": {
        "id": "T_awB5Zmng4d"
      },
      "source": [
        "### Función ```isinstance```"
      ]
    },
    {
      "cell_type": "code",
      "metadata": {
        "colab": {
          "base_uri": "https://localhost:8080/"
        },
        "id": "MEomEfvinq29",
        "outputId": "d27a4975-7b86-438c-b6ff-c086c51514da"
      },
      "source": [
        "isinstance(5, int)"
      ],
      "execution_count": 26,
      "outputs": [
        {
          "output_type": "execute_result",
          "data": {
            "text/plain": [
              "True"
            ]
          },
          "metadata": {},
          "execution_count": 26
        }
      ]
    },
    {
      "cell_type": "code",
      "metadata": {
        "colab": {
          "base_uri": "https://localhost:8080/"
        },
        "id": "XUWeEsBsnubl",
        "outputId": "19fd7aab-1042-4c50-e510-dda71f106b72"
      },
      "source": [
        "isinstance([1,2,3], list)"
      ],
      "execution_count": 27,
      "outputs": [
        {
          "output_type": "execute_result",
          "data": {
            "text/plain": [
              "True"
            ]
          },
          "metadata": {},
          "execution_count": 27
        }
      ]
    },
    {
      "cell_type": "markdown",
      "metadata": {
        "id": "hVaaScGFmNhY"
      },
      "source": [
        "### Aplanar una lista que contiene tanto listas como números enteros"
      ]
    },
    {
      "cell_type": "markdown",
      "metadata": {
        "id": "fJKc-oVkn2So"
      },
      "source": [
        "#### Solución 1 con ```type```"
      ]
    },
    {
      "cell_type": "code",
      "metadata": {
        "colab": {
          "base_uri": "https://localhost:8080/"
        },
        "id": "IpWunfTcmUFw",
        "outputId": "ff2dbb9f-9fc9-4c82-a0cc-10a5a5241359"
      },
      "source": [
        "datos = [[1,2,3],4,5,[6,7],8,9]\n",
        "plana = []\n",
        "\n",
        "for dato in datos:\n",
        "  if type(dato) == int:\n",
        "    plana.append(dato)\n",
        "  elif type(dato) == list:\n",
        "    for elemento in dato:\n",
        "      plana.append(elemento)\n",
        "\n",
        "plana"
      ],
      "execution_count": 21,
      "outputs": [
        {
          "output_type": "execute_result",
          "data": {
            "text/plain": [
              "[1, 2, 3, 4, 5, 6, 7, 8, 9]"
            ]
          },
          "metadata": {},
          "execution_count": 21
        }
      ]
    },
    {
      "cell_type": "markdown",
      "metadata": {
        "id": "vPsBASagn9xo"
      },
      "source": [
        "#### Solución 2 con ```isinstance```"
      ]
    },
    {
      "cell_type": "code",
      "metadata": {
        "colab": {
          "base_uri": "https://localhost:8080/"
        },
        "id": "43KAJoqeoCNy",
        "outputId": "ead9e5fa-4d4a-433a-c275-b7caa8c6d366"
      },
      "source": [
        "datos = [[1,2,3],4,5,[6,7],8,9]\n",
        "plana = []\n",
        "\n",
        "for dato in datos:\n",
        "  if isinstance(dato, int):\n",
        "    plana.append(dato)\n",
        "  elif isinstance(dato, list):\n",
        "    for elemento in dato:\n",
        "      plana.append(elemento)\n",
        "\n",
        "plana"
      ],
      "execution_count": 28,
      "outputs": [
        {
          "output_type": "execute_result",
          "data": {
            "text/plain": [
              "[1, 2, 3, 4, 5, 6, 7, 8, 9]"
            ]
          },
          "metadata": {},
          "execution_count": 28
        }
      ]
    },
    {
      "cell_type": "markdown",
      "metadata": {
        "id": "xaQoeMUroYyp"
      },
      "source": [
        ""
      ]
    },
    {
      "cell_type": "markdown",
      "metadata": {
        "id": "GFNOURxRonfr"
      },
      "source": [
        "### Aplanar una lista compuesta por números y letras"
      ]
    },
    {
      "cell_type": "code",
      "metadata": {
        "colab": {
          "base_uri": "https://localhost:8080/"
        },
        "id": "lb3qEPxTotbL",
        "outputId": "90b1b8aa-c072-4462-ae24-2cc7bf836653"
      },
      "source": [
        "datos = [[1,2,3,4],\n",
        "         ['a','b','c','d'],\n",
        "         [5,6,7,8],\n",
        "         ['e','f','g','h'],\n",
        "         [9,10,11,12],\n",
        "         ['i','j','k','l'],\n",
        "         [13,14,15,16],\n",
        "         ['m','n','ñ','o']]\n",
        "print(datos)"
      ],
      "execution_count": 52,
      "outputs": [
        {
          "output_type": "stream",
          "name": "stdout",
          "text": [
            "[[1, 2, 3, 4], ['a', 'b', 'c', 'd'], [5, 6, 7, 8], ['e', 'f', 'g', 'h'], [9, 10, 11, 12], ['i', 'j', 'k', 'l'], [13, 14, 15, 16], ['m', 'n', 'ñ', 'o']]\n"
          ]
        }
      ]
    },
    {
      "cell_type": "markdown",
      "metadata": {
        "id": "PtPqJZWLrx4S"
      },
      "source": [
        "#### Imprimir la lista con formato usando ```in```"
      ]
    },
    {
      "cell_type": "code",
      "metadata": {
        "colab": {
          "base_uri": "https://localhost:8080/"
        },
        "id": "Y2Oj3c_Kr68_",
        "outputId": "7a092487-91cd-436d-b588-60e260d7c14f"
      },
      "source": [
        "for lista in datos:\n",
        "  for elemento in lista:\n",
        "    print(f\"{elemento:>5}\", end=\"\")\n",
        "  print()"
      ],
      "execution_count": 53,
      "outputs": [
        {
          "output_type": "stream",
          "name": "stdout",
          "text": [
            "    1    2    3    4\n",
            "    a    b    c    d\n",
            "    5    6    7    8\n",
            "    e    f    g    h\n",
            "    9   10   11   12\n",
            "    i    j    k    l\n",
            "   13   14   15   16\n",
            "    m    n    ñ    o\n"
          ]
        }
      ]
    },
    {
      "cell_type": "markdown",
      "metadata": {
        "id": "jukrH7bCsCBD"
      },
      "source": [
        "#### Imprimir la lista con formato usando ```range``` en el ```for```"
      ]
    },
    {
      "cell_type": "code",
      "metadata": {
        "colab": {
          "base_uri": "https://localhost:8080/"
        },
        "id": "7LvHXGNcsJyX",
        "outputId": "1c2ad8b5-0fec-41e2-d3ae-774d571d06b0"
      },
      "source": [
        "for i in range(len(datos)):\n",
        "  for j in range(len(datos[i])):\n",
        "    print(f\"{datos[i][j]:>5}\", end=\" \")\n",
        "  print()"
      ],
      "execution_count": 54,
      "outputs": [
        {
          "output_type": "stream",
          "name": "stdout",
          "text": [
            "    1     2     3     4 \n",
            "    a     b     c     d \n",
            "    5     6     7     8 \n",
            "    e     f     g     h \n",
            "    9    10    11    12 \n",
            "    i     j     k     l \n",
            "   13    14    15    16 \n",
            "    m     n     ñ     o \n"
          ]
        }
      ]
    },
    {
      "cell_type": "markdown",
      "metadata": {
        "id": "3wgQLMrWtSzC"
      },
      "source": [
        "#### Extraemos la lista numeros"
      ]
    },
    {
      "cell_type": "code",
      "metadata": {
        "colab": {
          "base_uri": "https://localhost:8080/"
        },
        "id": "NSFvKMPhqYyZ",
        "outputId": "e54c6e2c-0f4a-427c-a721-7802498e3a51"
      },
      "source": [
        "numeros = []\n",
        "for i in range(0,len(datos),2):\n",
        "  for j in range(len(datos[i])):\n",
        "    numeros.append(datos[i][j])\n",
        "numeros"
      ],
      "execution_count": 42,
      "outputs": [
        {
          "output_type": "execute_result",
          "data": {
            "text/plain": [
              "[1, 2, 3, 4, 5, 6, 7, 8, 9, 10, 11, 12, 13, 14, 15, 16]"
            ]
          },
          "metadata": {},
          "execution_count": 42
        }
      ]
    },
    {
      "cell_type": "markdown",
      "metadata": {
        "id": "QWnXUEbgtXI0"
      },
      "source": [
        "#### Extraemos la lista letras"
      ]
    },
    {
      "cell_type": "code",
      "metadata": {
        "colab": {
          "base_uri": "https://localhost:8080/"
        },
        "id": "2YkS0ep7q-sz",
        "outputId": "17fad55c-8af1-4fd8-c73d-7b8f6b28957b"
      },
      "source": [
        "letras = []\n",
        "for i in range(1,len(datos),2):\n",
        "  for j in range(len(datos[i])):\n",
        "    letras.append(datos[i][j])\n",
        "letras"
      ],
      "execution_count": 51,
      "outputs": [
        {
          "output_type": "execute_result",
          "data": {
            "text/plain": [
              "['a',\n",
              " 'b',\n",
              " 'c',\n",
              " 'd',\n",
              " 'e',\n",
              " 'f',\n",
              " 'g',\n",
              " 'h',\n",
              " 'i',\n",
              " 'j',\n",
              " 'k',\n",
              " 'l',\n",
              " 'm',\n",
              " 'n',\n",
              " 'ñ',\n",
              " 'o']"
            ]
          },
          "metadata": {},
          "execution_count": 51
        }
      ]
    },
    {
      "cell_type": "markdown",
      "metadata": {
        "id": "PTHncxTMtlIL"
      },
      "source": [
        "##### Imprimiendo solo las letras"
      ]
    },
    {
      "cell_type": "code",
      "metadata": {
        "colab": {
          "base_uri": "https://localhost:8080/"
        },
        "id": "sIFdKtTmtpjA",
        "outputId": "c6896fa9-0697-4cfb-b50d-7f8b20a267af"
      },
      "source": [
        "for i in range(len(datos)):\n",
        "  if i%2:                                # solo letras\n",
        "    for j in range(len(datos[i])):\n",
        "      print(datos[i][j], end=\" \")\n",
        "    print()"
      ],
      "execution_count": 57,
      "outputs": [
        {
          "output_type": "stream",
          "name": "stdout",
          "text": [
            "a b c d \n",
            "e f g h \n",
            "i j k l \n",
            "m n ñ o \n"
          ]
        }
      ]
    }
  ]
}