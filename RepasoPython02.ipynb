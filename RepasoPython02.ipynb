{
  "nbformat": 4,
  "nbformat_minor": 0,
  "metadata": {
    "colab": {
      "name": "RepasoPython02.ipynb",
      "provenance": [],
      "authorship_tag": "ABX9TyP7I5nBGXbBl22CEYM84pf0",
      "include_colab_link": true
    },
    "kernelspec": {
      "name": "python3",
      "display_name": "Python 3"
    },
    "language_info": {
      "name": "python"
    }
  },
  "cells": [
    {
      "cell_type": "markdown",
      "metadata": {
        "id": "view-in-github",
        "colab_type": "text"
      },
      "source": [
        "<a href=\"https://colab.research.google.com/github/seldoncode/Python_CoderDojo/blob/main/RepasoPython02.ipynb\" target=\"_parent\"><img src=\"https://colab.research.google.com/assets/colab-badge.svg\" alt=\"Open In Colab\"/></a>"
      ]
    },
    {
      "cell_type": "markdown",
      "metadata": {
        "id": "IP2Fjf9uVeNi"
      },
      "source": [
        "# Condicional ```if```"
      ]
    },
    {
      "cell_type": "code",
      "metadata": {
        "colab": {
          "base_uri": "https://localhost:8080/"
        },
        "id": "vGKD6nThVQ9y",
        "outputId": "a4c1ca25-bd3f-4914-b79a-131358438cfe"
      },
      "source": [
        "if 2<5:\n",
        "  print(\"Hola\")"
      ],
      "execution_count": 1,
      "outputs": [
        {
          "output_type": "stream",
          "name": "stdout",
          "text": [
            "Hola\n"
          ]
        }
      ]
    },
    {
      "cell_type": "markdown",
      "metadata": {
        "id": "MSNLjDpYXlAL"
      },
      "source": [
        "## ```else```"
      ]
    },
    {
      "cell_type": "code",
      "metadata": {
        "colab": {
          "base_uri": "https://localhost:8080/"
        },
        "id": "6KDy0lCOVmMR",
        "outputId": "b3d41a92-6a00-4de9-dd46-3c427c57a64b"
      },
      "source": [
        "edad = 18\n",
        "\n",
        "if edad < 18:\n",
        "  print(\"Usted es menor de edad.\")\n",
        "else:                                  # y en caso contrario\n",
        "  print(\"Usted es mayor de edad.\")\n",
        "\n",
        "print(\"Fin del programa.\")             # esta linea se ejecuta siempre"
      ],
      "execution_count": 2,
      "outputs": [
        {
          "output_type": "stream",
          "name": "stdout",
          "text": [
            "Usted es mayor de edad.\n",
            "Fin del programa.\n"
          ]
        }
      ]
    },
    {
      "cell_type": "markdown",
      "metadata": {
        "id": "4jPT2QGHXqQH"
      },
      "source": [
        "## ```elif```"
      ]
    },
    {
      "cell_type": "code",
      "metadata": {
        "colab": {
          "base_uri": "https://localhost:8080/"
        },
        "id": "zi9UN_XoWLlu",
        "outputId": "f40de453-47cf-44ce-9f7a-e6f699945c58"
      },
      "source": [
        "edad = 16\n",
        "\n",
        "if edad < 7:\n",
        "  print(\"No hay abono para niños.\")\n",
        "elif 7 <= edad <= 26:\n",
        "  print(\"Puedes tener abono Joven.\")\n",
        "elif 27 <= edad < 65:\n",
        "  print(\"Abono normal.\")\n",
        "else:\n",
        "  print(\"Abono de tercera edad.\")"
      ],
      "execution_count": 4,
      "outputs": [
        {
          "output_type": "stream",
          "name": "stdout",
          "text": [
            "Puedes tener abono Joven.\n"
          ]
        }
      ]
    },
    {
      "cell_type": "markdown",
      "metadata": {
        "id": "2Iz0_om-XwEf"
      },
      "source": [
        "## ```if``` anidado"
      ]
    },
    {
      "cell_type": "code",
      "metadata": {
        "colab": {
          "base_uri": "https://localhost:8080/"
        },
        "id": "FthgVX1zX0Z7",
        "outputId": "a79001a5-32cf-411f-d362-46e06e5fbe9b"
      },
      "source": [
        "x = 7 # dinero que tengo ahorrado, pruebe también con 16 € y con 23 €.\n",
        "\n",
        "if x > 10:\n",
        "  print(\"Tengo ahrrados más de 10 €,\")\n",
        "  if x > 20:                                   # este segundo if está anidado dentro del otro\n",
        "    print(\"e incluso ¡más de 20 €!\")\n",
        "  else:\n",
        "    print(\"pero menos de 20 €.\")\n",
        "else:\n",
        "  print(f\"Lo que he ahorrado no supera los 10 €, son exactamente {x} €.\") "
      ],
      "execution_count": 5,
      "outputs": [
        {
          "output_type": "stream",
          "name": "stdout",
          "text": [
            "Lo que he ahorrado no supera los 10 €, son exactamente 7 €.\n"
          ]
        }
      ]
    }
  ]
}