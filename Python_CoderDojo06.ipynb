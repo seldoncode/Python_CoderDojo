{
  "nbformat": 4,
  "nbformat_minor": 0,
  "metadata": {
    "colab": {
      "name": "Python_CoderDojo06.ipynb",
      "provenance": [],
      "collapsed_sections": [],
      "include_colab_link": true
    },
    "kernelspec": {
      "display_name": "Python 3",
      "name": "python3"
    },
    "language_info": {
      "name": "python"
    }
  },
  "cells": [
    {
      "cell_type": "markdown",
      "metadata": {
        "id": "view-in-github",
        "colab_type": "text"
      },
      "source": [
        "<a href=\"https://colab.research.google.com/github/seldoncode/Python_CoderDojo/blob/main/Python_CoderDojo06.ipynb\" target=\"_parent\"><img src=\"https://colab.research.google.com/assets/colab-badge.svg\" alt=\"Open In Colab\"/></a>"
      ]
    },
    {
      "cell_type": "markdown",
      "metadata": {
        "id": "3NYDJESZih28"
      },
      "source": [
        "# Bucle ```while```\n",
        "Un bucle es una estructura repetitiva.  \n",
        "También se le llama loop.  \n",
        "Existe varios tipos de bucles. Ahora veremos el bucle ```while```.\n",
        "\n",
        "**Mientras** se cumpla la condición:  \n",
        " &nbsp; &nbsp; &nbsp; &nbsp; Código interno  \n",
        " &nbsp; &nbsp; &nbsp; &nbsp; Código interno  "
      ]
    },
    {
      "cell_type": "code",
      "metadata": {
        "collapsed": true,
        "id": "Kp2CLl1_O8zr"
      },
      "source": [
        "while 1<2:          # esto es un bucle sin fin, ya que la condición 1<2 siempre es True\n",
        "  print(\"Hola\")      # se ejecuta continuamente hasta que se pulsa Control+c o hasta que el intérprete de python desborda la memoria RAM del PC, el núcleo del Jupyter se desborda "
      ],
      "execution_count": null,
      "outputs": []
    },
    {
      "cell_type": "markdown",
      "metadata": {
        "id": "z9yiJlhmRK1X"
      },
      "source": [
        "En un bucle ```while``` la condición en algún momento tendrá que ser False para que deje de ejecutarse el bucle y finalice el loop. "
      ]
    },
    {
      "cell_type": "code",
      "metadata": {
        "id": "5YLbVfjAReFM"
      },
      "source": [
        "n = 1                      # inicializamos la variable n con el valor 1\n",
        "while n<10:                # mientras n sea menor que 10\n",
        "  print(n)                 # imprime n\n",
        "  n += 1                   # incrementa en 1 el contador\n",
        "\n",
        "print(\"Fin del programa.\") # Se ejecuta al salir del bucle"
      ],
      "execution_count": null,
      "outputs": []
    },
    {
      "cell_type": "code",
      "metadata": {
        "id": "tuHU1v5FShUW"
      },
      "source": [
        "# imprimimos solo los impares entre 10 y 30\n",
        "n = 10\n",
        "while n<=30:\n",
        "  if n%2:\n",
        "    print(n)\n",
        "  n += 1\n",
        "\n",
        "print(\"Fin del programa.\")"
      ],
      "execution_count": null,
      "outputs": []
    },
    {
      "cell_type": "code",
      "metadata": {
        "id": "K_BSVPZpaxX3"
      },
      "source": [
        "# Imprimir los múltiplos de 5 entre 0 y 100, en orden descendente.\n",
        "n = 100\n",
        "while n>=0:\n",
        "  if not(n%5):\n",
        "    print(n)\n",
        "  n -= 1                      # equivale a   n = n-1\n",
        "\n",
        "print(\"Fin del programa.\")"
      ],
      "execution_count": null,
      "outputs": []
    },
    {
      "cell_type": "markdown",
      "metadata": {
        "id": "qzTcl8_NgXJU"
      },
      "source": [
        "### ¿Seguir jugando?\n",
        "Crear un código que pregunte si se ha de seguir jugando."
      ]
    },
    {
      "cell_type": "code",
      "metadata": {
        "id": "Mi9BqV7bg1J-"
      },
      "source": [
        "jugar = \"s\"             # inicilizamos la variable\n",
        "while jugar == \"s\":\n",
        "  print(\"Estamos jugando una partida.\")\n",
        "  jugar = input(\"¿Quiere seguir jugando (s/n)?: \")\n",
        "  \n",
        "print(\"Fin del juego.\")"
      ],
      "execution_count": null,
      "outputs": []
    },
    {
      "cell_type": "markdown",
      "metadata": {
        "id": "3mv-fV4CZHRl"
      },
      "source": [
        "### Reto 6.1. Pedir números hasta que sea negativo\n",
        "* Pedir reiteradamente al usuario que introduzca un número.\n",
        "* Cada número que introduce el usuario se imprime en pantalla.\n",
        "* Se finaliza cuando el usuario ha introducido un número negativo.\n",
        "* Finalmente se imprime una frase como esta:  \n",
        "* El proceso ha terminado porque se ha introducido el -4 que es un número negativo."
      ]
    },
    {
      "cell_type": "markdown",
      "metadata": {
        "id": "qHoNVGjqj47J"
      },
      "source": [
        "## Decir números hasta que se salga de rango\n",
        "* Pedir al usuario que diga un número entre 10 y 20.\n",
        "* Si el número está en el rango se pide otro número y así sucesivamente.\n",
        "* El juego termina cuando se responde con un valor que no está en el rango indicado."
      ]
    },
    {
      "cell_type": "code",
      "metadata": {
        "id": "9bexXHwSnCRc"
      },
      "source": [
        "n = int(input(\"Diga un número entre 10 y 20: \"))\n",
        "while 10<=n<=20:\n",
        "  print(f\"Número correcto: {n}.\")\n",
        "  n = int(input(\"Introduzca otro número: \"))\n",
        "\n",
        "print(\"Fin del programa.\")"
      ],
      "execution_count": null,
      "outputs": []
    },
    {
      "cell_type": "markdown",
      "metadata": {
        "id": "fb9rKHTjo9qt"
      },
      "source": [
        "## Usando un contador y un acumulador\n",
        "Volver a programar el caso anterior, mostrando al final cúantos números se han introducido que estén en el rango, y también se imprima la suma de todos ellos."
      ]
    },
    {
      "cell_type": "code",
      "metadata": {
        "id": "YMR1zVbWpSZ7"
      },
      "source": [
        "contador = 0       # contador cuenta los números que se introducen y están en el rango pedido\n",
        "acumulado = 0      # inicializamos el acumulador que ira sumando los valores introducidos en el rango\n",
        "n = int(input(\"Diga un número entre 10 y 20: \"))\n",
        "\n",
        "while 10<= n <=20:\n",
        "  print(f\"Número correcto: {n}.\")\n",
        "  contador += 1\n",
        "  acumulado += n\n",
        "  n = int(input(\"Introduzca otro número: \"))\n",
        "\n",
        "print(f\"Se han introducido {contador} valores dentro del rango y su suma es {acumulado}.\")"
      ],
      "execution_count": null,
      "outputs": []
    },
    {
      "cell_type": "markdown",
      "metadata": {
        "id": "IMMZPaRWR6HY"
      },
      "source": [
        "# Generación de un número aleatorio\n",
        "Para generar un número aleatorio primero necesitamos importar la librería ```random```.  \n",
        "Luego se invoca la función que genera los números aleatorios enteros, llamada ```randint```."
      ]
    },
    {
      "cell_type": "code",
      "metadata": {
        "id": "YG_tJmh1SN6K"
      },
      "source": [
        "import random\n",
        "rnd = random.randint(10,20)       # genera un número aleatorio entero entre 10 y 20, ambos incluidos\n",
        "print(rnd)"
      ],
      "execution_count": null,
      "outputs": []
    },
    {
      "cell_type": "markdown",
      "metadata": {
        "id": "x72uFS3vXyDD"
      },
      "source": [
        "### Reto 6.2. Generar números aleatorios pares\n",
        "Mostrar en pantalla 9 números aleatorios pares que se encuentren en el rango entre 100 y 200, ambos incluidos."
      ]
    },
    {
      "cell_type": "markdown",
      "metadata": {
        "id": "K5h3qZu2Q6VC"
      },
      "source": [
        "### Adivinar un número del 1 al 5\n",
        "* Generar un número aleatorio entero entre 1 y 5, este será el númeo secreto que se tenga que adivinar. \n",
        "* Pedir al usuario números continuamente, del 1 al 5, hasta que se adivine el número secreto.  \n",
        "* Finalmente decir en cuántas tiradas se ha adivinado y mostrar el número secreto."
      ]
    },
    {
      "cell_type": "code",
      "metadata": {
        "colab": {
          "base_uri": "https://localhost:8080/"
        },
        "id": "MC0ZeLfXRcZH",
        "outputId": "44c56ae9-2426-4652-cdf3-88cc5ca70397"
      },
      "source": [
        "import random           # por costumbre, los import van al inicio del programa\n",
        "secreto = random.randint(1,5)       # genera un número aleatorio entero entre 1 y 5, ambos incluidos\n",
        "print(\"=== Adivine un número secreto entre 1 y 5 ===\")\n",
        "n = int(input(\"Introduzca un número entre 1 y 5: \"))\n",
        "tiradas = 1                         # inicializamos el contador de tiradas\n",
        "while n!=secreto:\n",
        "  n = int(input(\"No es correcto, por favor, diga otro número: \"))\n",
        "  tiradas+=1\n",
        "else:\n",
        "  print(f\"Felicidades,  ha adivinado el número secreto {secreto}, en {tiradas} tiradas.\")"
      ],
      "execution_count": null,
      "outputs": [
        {
          "name": "stdout",
          "output_type": "stream",
          "text": [
            "=== Adivine un número secreto entre 1 y 5 ===\n",
            "Introduzca un número entre 1 y 5: 1\n",
            "No es correcto, por favor, diga otro número2\n",
            "No es correcto, por favor, diga otro número3\n",
            "No es correcto, por favor, diga otro número4\n",
            "No es correcto, por favor, diga otro número5\n",
            "Felicidades,  ha adivinado el número secreto 5 en 1 tiradas.\n"
          ]
        }
      ]
    },
    {
      "cell_type": "markdown",
      "metadata": {
        "id": "UccZ9LxwWCah"
      },
      "source": [
        "### Reto 6.3. Adivinar un número binario\n",
        "* Generar un número secreto binario de 4 que comienze por 1, por ejemplo, el número 1010.\n",
        "* El jugador dirá números binarios con esas características hasta que lo adivine.\n",
        "* Finalmente se felicita al jugador y se dice cuántas tiradas han sido necesarias para adivinarlo."
      ]
    },
    {
      "cell_type": "markdown",
      "metadata": {
        "id": "mlGxXgvQaLfW"
      },
      "source": [
        "# Operadores de asignación\n",
        "* = Ejemplo: x=5\n",
        "* += Ejemplo: x += 2 Equivale a: x = x + 2\n",
        "* -= Ejemplo: x -= 2 Equivale a: x = x - 2\n",
        "* *= Ejemplo: x *= 2 Equivale a: x = x * 2\n",
        "* /= Ejemplo: x /= 2 Equivale a: x = x / 2\n",
        "* %= Ejemplo: x %= 2 Equivale a: x = x%2\n",
        "* //= Ejemplo: x //= 2 Equivale a: x = x//2"
      ]
    },
    {
      "cell_type": "code",
      "metadata": {
        "colab": {
          "base_uri": "https://localhost:8080/"
        },
        "id": "msjqtAvCbByk",
        "outputId": "166a4a00-e62a-4222-bf48-42d305025a53"
      },
      "source": [
        "x = 5\n",
        "print(\"x =\", x)\n",
        "x += 2\n",
        "print(\"x =\", x)\n",
        "x -= 2\n",
        "print(\"x =\", x)\n",
        "x *= 2\n",
        "print(\"x =\", x)\n",
        "x /= 2\n",
        "print(\"x =\", x)\n",
        "x %= 2\n",
        "print(\"x =\", x)\n",
        "x += 6\n",
        "print(\"x =\", x)\n",
        "x //= 2\n",
        "print(\"x =\", x)"
      ],
      "execution_count": null,
      "outputs": [
        {
          "name": "stdout",
          "output_type": "stream",
          "text": [
            "x = 5\n",
            "x = 7\n",
            "x = 5\n",
            "x = 10\n",
            "x = 5.0\n",
            "x = 1.0\n",
            "x = 3.0\n"
          ]
        }
      ]
    },
    {
      "cell_type": "markdown",
      "metadata": {
        "id": "RwmdtYl9l7nq"
      },
      "source": [
        "## Programa que suma los números del 1 al 100\n",
        "La suma de los números del 1 al 100 nos da un acumulado igual a 5050.  \n",
        "Vamos a programar un procedimiento que acumula entre un valor inicial y uno final."
      ]
    },
    {
      "cell_type": "code",
      "metadata": {
        "colab": {
          "base_uri": "https://localhost:8080/"
        },
        "id": "5LS797q5ma9D",
        "outputId": "a27580fa-b1e2-47ef-d98c-60ff4c078fc5"
      },
      "source": [
        "inicio = 1        # valor inicial por el que comenzamos a sumar\n",
        "fin = 100         # valor final hasta el que llegamos acumulando\n",
        "suma = 0          # valor acumulado, se inicializa en cero\n",
        "n = inicio\n",
        "while n <= fin:   # mientras n sea menor o igual a fin\n",
        "  suma += n       # acumulamos el valor de n\n",
        "  n += 1          # el contador va incrementando de uno en uno\n",
        "  \n",
        "print(f\"La suma de los números entre {inicio} y {fin} es {suma}.\")"
      ],
      "execution_count": null,
      "outputs": [
        {
          "name": "stdout",
          "output_type": "stream",
          "text": [
            "La suma de los números entre 1 y 100 es 5050.\n"
          ]
        }
      ]
    },
    {
      "cell_type": "markdown",
      "metadata": {
        "id": "XSPnkuQtobg8"
      },
      "source": [
        "### Reto 5.4. Acumular los impares\n",
        "* Acumular los impares entre un número inicial y uno final.  \n",
        "* Comprobar que si el número inicial es 100 y el final es 200, la suma de los impares es 7500.\n",
        "* ¿Sería posible resolver este reto por dos métodos?"
      ]
    },
    {
      "cell_type": "markdown",
      "metadata": {
        "id": "1im34-8YpBN6"
      },
      "source": [
        "### Solo se entra al sistema si se pone bien el usuario y la contraseña\n",
        "Dado un usuario y una contraseña, pedir que se introduzca correctamente el usuario y la contraseña.\n",
        "* Si ambos no son correctos pedir que se introduzcan reiteradamente hasta que se consiga ponerlo bien.\n",
        "* Si ambos son corrector, informar de ello y mostrar la frase \"Entrando al sistema...\""
      ]
    },
    {
      "cell_type": "code",
      "metadata": {
        "colab": {
          "base_uri": "https://localhost:8080/"
        },
        "id": "O81WwuGLr2B3",
        "outputId": "0495a555-10e9-4ffc-9d41-0461efc8b04e"
      },
      "source": [
        "usuario = \"Jose\"\n",
        "contra = \"1234\"\n",
        "u = input(\"Introduzca el usuario: \")\n",
        "c = input(\"Introduzca la contraseña: \")\n",
        "while usuario!=u or contra!=c:\n",
        "  print(\"El usuario y/o la contraseña no son correctos.\")\n",
        "  u = input(\"Introduzca nuevamente el usuario: \")\n",
        "  c = input(\"Introduzca nuevamente la contraseña: \")\n",
        "else:\n",
        "  print(\"Usuario y contraseña correctos.\")\n",
        "  print(\"Entrando en el sistema...\")"
      ],
      "execution_count": null,
      "outputs": [
        {
          "name": "stdout",
          "output_type": "stream",
          "text": [
            "Introduzca el usuario: Jose\n",
            "Introduzca la contraseña: 1122\n",
            "El usuario y/o la contraseña no son correctos.\n",
            "Introduzca nuevamente el usuario: jose\n",
            "Introduzca nuevamente la contraseña: 1234\n",
            "El usuario y/o la contraseña no son correctos.\n",
            "Introduzca nuevamente el usuario: ana\n",
            "Introduzca nuevamente la contraseña: 1010\n",
            "El usuario y/o la contraseña no son correctos.\n",
            "Introduzca nuevamente el usuario: Jose\n",
            "Introduzca nuevamente la contraseña: 1234\n",
            "Usuario y contraseña correctos.\n",
            "Entrando en el sistema...\n"
          ]
        }
      ]
    },
    {
      "cell_type": "markdown",
      "metadata": {
        "id": "ZcA-o9BhuYDq"
      },
      "source": [
        "## Banderas\n",
        "Al trabajar con condicionales en ocasiones interesa disponer de una variable de tipo booleano, que puede ser True o False, y que actúa de bandera (flag) para avisarnos de si se cumple o no cierta condición.\n",
        "\n",
        "Vamos a resolver el caso anterior usando una bandera.\n"
      ]
    },
    {
      "cell_type": "code",
      "metadata": {
        "colab": {
          "base_uri": "https://localhost:8080/"
        },
        "id": "rvSeK8471Wb3",
        "outputId": "214f74b6-c225-4011-906f-842f225a0950"
      },
      "source": [
        "usuario = \"Jose\"\n",
        "contra = \"1234\"\n",
        "entrando = True    # creamos la varible booleana entrando que es inicialmente True, ya que si estamos intentando entrar al sistema\n",
        "while entrando:    # se seguira ejecutando el bucle hasta que entrando ya no sea True\n",
        "  u = input(\"Introduzca el usuario: \")\n",
        "  c = input(\"Introduzca la contraseña: \")\n",
        "  if usuario == u and contra ==c:\n",
        "    print(\"Usuario y contraseña correctos.\")\n",
        "    entrando = False      # haceos que la bandera sea False para que ya no se entre nuevamente en el bucle\n",
        "  else:\n",
        "    print(\"Usuario y/o contraseña incorrectos.\")\n",
        "\n",
        "print(\"Entrando en el sistema...\")"
      ],
      "execution_count": null,
      "outputs": [
        {
          "name": "stdout",
          "output_type": "stream",
          "text": [
            "Introduzca el usuario: Ana\n",
            "Introduzca la contraseña: 111\n",
            "Usuario y/o contraseña incorrectos.\n",
            "Introduzca el usuario: Jose\n",
            "Introduzca la contraseña: 222\n",
            "Usuario y/o contraseña incorrectos.\n",
            "Introduzca el usuario: Luis\n",
            "Introduzca la contraseña: 333\n",
            "Usuario y/o contraseña incorrectos.\n",
            "Introduzca el usuario: Jose\n",
            "Introduzca la contraseña: 1234\n",
            "Usuario y contraseña correctos.\n",
            "Entrando en el sistema...\n"
          ]
        }
      ]
    },
    {
      "cell_type": "markdown",
      "metadata": {
        "id": "EeQyteVA3DLC"
      },
      "source": [
        "* El código que usa banderas tiene la ventaja de que no ha sido necesario repetir las preguntas de usuario y contraseña antes y después del while.  \n",
        "* Ahora las preguntas solo van dentro del while.  \n",
        "* En programación siempre tenemos que evitar repetir código."
      ]
    },
    {
      "cell_type": "markdown",
      "metadata": {
        "id": "mBzzGBMp6zHD"
      },
      "source": [
        "## Número y vocal\n",
        "\n",
        "* Juego que pregunta un número del 1 al 5 y luego una vocal.\n",
        "* Tienes inicialmente 100 puntos.\n",
        "* Si aciertas solo uno de ellos te quitan 2 puntos.\n",
        "* Si no aciertas ninguno te quitan 5 puntos\n",
        "* El programa finaliza cuando aciertas los dos.\n",
        "* Finalmente de dicen los puntos que te quedan."
      ]
    },
    {
      "cell_type": "code",
      "metadata": {
        "colab": {
          "base_uri": "https://localhost:8080/"
        },
        "id": "5-sNUoBA73pg",
        "outputId": "efb178be-40c6-467d-8890-b1933fe14163"
      },
      "source": [
        "puntos = 100\n",
        "numero = 2\n",
        "vocal = 'e'\n",
        "jugando = True\n",
        "while jugando:\n",
        "  n = int(input(\"Diga un número del 1 al 5: \"))\n",
        "  v = input(\"Diga una vocal: \")\n",
        "  if n==numero and v==vocal:\n",
        "    print(f\"Felicidades, has acertado, te quedan {puntos} puntos.\")\n",
        "    jugando = False\n",
        "  elif n!=numero and v!=vocal:\n",
        "    puntos -= 5\n",
        "    print(f\"Ninguno es correcto. Te quedan {puntos} puntos.\")\n",
        "  else:\n",
        "    puntos -= 2\n",
        "    print(f\"Has acertado uno. Te quedan {puntos} puntos.\")\n",
        "\n",
        "print(\"Fin del juego\")"
      ],
      "execution_count": null,
      "outputs": [
        {
          "name": "stdout",
          "output_type": "stream",
          "text": [
            "Diga un número del 1 al 5: 1\n",
            "Diga una vocal: a\n",
            "Ninguno es correcto. Te quedan 95 puntos.\n",
            "Diga un número del 1 al 5: 2\n",
            "Diga una vocal: a\n",
            "Has acertado uno. Te quedan 93 puntos.\n",
            "Diga un número del 1 al 5: 2\n",
            "Diga una vocal: e\n",
            "Felicidades, has acertado, te quedan 93 puntos.\n",
            "Fin del juego\n"
          ]
        }
      ]
    },
    {
      "cell_type": "markdown",
      "metadata": {
        "id": "MgYizeHXBw4q"
      },
      "source": [
        "## Elegir aleatoriamente de una lista\n",
        "Dada una lista podemos elegir uno de sus elementos de forma aleatoria usando la librería ```random``` y la función ```choice```."
      ]
    },
    {
      "cell_type": "code",
      "metadata": {
        "colab": {
          "base_uri": "https://localhost:8080/"
        },
        "id": "Q0AfMQ21B8f-",
        "outputId": "39c00d8a-8eb3-4bd9-acf1-168831aeae33"
      },
      "source": [
        "import random\n",
        "lista = [\"América\",\"Europa\", \"África\",\"Oceanía\", \"Asia\"]\n",
        "print(\"Vamos a elegir de forma aleatoria un continente donde vivir.\")\n",
        "elegido = random.choice(lista)\n",
        "print(\"Me voy a a ir a vivir a \", elegido)"
      ],
      "execution_count": null,
      "outputs": [
        {
          "name": "stdout",
          "output_type": "stream",
          "text": [
            "Vamos a elegir de forma aleatoria un continente donde vivir.\n",
            "Me voy a a ir a vivir a  Asía\n"
          ]
        }
      ]
    },
    {
      "cell_type": "markdown",
      "metadata": {
        "id": "duETHGge_OFz"
      },
      "source": [
        "### Reto 5.5. Número favorito y color favorito\n",
        "* Un amigo tiene un número favorito del 0 al 9 y un color favorito entre:\n",
        " - rojo, verde, azul, amarillo, naranja, violeta, rosa, marrón, negro, blanco.\n",
        "* Tienes que adivinar cual es su número y su color favorito.\n",
        "* El programa cada vez te pedirá que digas un número y un color. \n",
        "* Si aciertas uno de ellos te dirá cuál has acertado\n",
        "* Si no acietas ninguno te dirá que no has acertado ninguno.\n",
        "* El objetivo es llegar a acertar ambos en el menor número de tiradas posibles.\n",
        "* El juego termina cuando se aciertan ambos, color y número.\n",
        "* Al inicio del programa se elige de forma aleatoria el número favorito, y también se elige de forma aleatoria el color favorito del amigo. \n",
        "* Finalmente se informa del número de tiradas empleadas y del número y color favoritos del amigo."
      ]
    }
  ]
}