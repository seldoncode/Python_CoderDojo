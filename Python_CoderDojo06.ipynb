{
  "nbformat": 4,
  "nbformat_minor": 0,
  "metadata": {
    "colab": {
      "name": "Python_CoderDojo06.ipynb",
      "provenance": [],
      "collapsed_sections": [],
      "authorship_tag": "ABX9TyOQRzJV5AzNAsCqeHHDU6ih",
      "include_colab_link": true
    },
    "kernelspec": {
      "name": "python3",
      "display_name": "Python 3"
    },
    "language_info": {
      "name": "python"
    }
  },
  "cells": [
    {
      "cell_type": "markdown",
      "metadata": {
        "id": "view-in-github",
        "colab_type": "text"
      },
      "source": [
        "<a href=\"https://colab.research.google.com/github/seldoncode/Python_CoderDojo/blob/main/Python_CoderDojo06.ipynb\" target=\"_parent\"><img src=\"https://colab.research.google.com/assets/colab-badge.svg\" alt=\"Open In Colab\"/></a>"
      ]
    },
    {
      "cell_type": "markdown",
      "metadata": {
        "id": "3NYDJESZih28"
      },
      "source": [
        "# Bucle ```while```\n",
        "Un bucle es una estructura repetitiva.  \n",
        "También se le llama loop.  \n",
        "Existe varios tipos de bucles. Ahora veremos el bucle ```while```.\n",
        "\n",
        "**Mientras** se cumpla la condición:  \n",
        " &nbsp; &nbsp; &nbsp; &nbsp; Código interno  \n",
        " &nbsp; &nbsp; &nbsp; &nbsp; Código interno  "
      ]
    },
    {
      "cell_type": "code",
      "metadata": {
        "collapsed": true,
        "id": "Kp2CLl1_O8zr"
      },
      "source": [
        "while 1<2:          # esto es un bucle sin fin, ya que la condición 1<2 siempre es True\n",
        "  print(\"Hola\")      # se ejecuta continuamente hasta que se pulsa Control+c o hasta que el intérprete de python desborda la memoria RAM del PC, el núcleo del Jupyter se desborda "
      ],
      "execution_count": null,
      "outputs": []
    },
    {
      "cell_type": "markdown",
      "metadata": {
        "id": "z9yiJlhmRK1X"
      },
      "source": [
        "En un bucle ```while``` la condición en algún momento tendrá que ser False para que deje de ejecutarse el bucle y finalice el loop. "
      ]
    },
    {
      "cell_type": "code",
      "metadata": {
        "colab": {
          "base_uri": "https://localhost:8080/"
        },
        "id": "5YLbVfjAReFM",
        "outputId": "649826cf-122b-44da-ed43-f900160d1f68"
      },
      "source": [
        "n = 1                      # inicializamos la variable n con el valor 1\n",
        "while n<10:                # mientras n sea menor que 10\n",
        "  print(n)                 # imprime n\n",
        "  n += 1                   # incrementa en 1 el contador\n",
        "\n",
        "print(\"Fin del programa.\") # Se ejecuta al salir del bucle"
      ],
      "execution_count": 4,
      "outputs": [
        {
          "output_type": "stream",
          "name": "stdout",
          "text": [
            "1\n",
            "2\n",
            "3\n",
            "4\n",
            "5\n",
            "6\n",
            "7\n",
            "8\n",
            "9\n",
            "Fin del programa.\n"
          ]
        }
      ]
    },
    {
      "cell_type": "code",
      "metadata": {
        "colab": {
          "base_uri": "https://localhost:8080/"
        },
        "id": "tuHU1v5FShUW",
        "outputId": "9fd03c21-d6fb-44b2-8dbe-3707f66fdc2f"
      },
      "source": [
        "# imprimimos solo los impares entre 10 y 30\n",
        "n = 10\n",
        "while n<=30:\n",
        "  if n%2:\n",
        "    print(n)\n",
        "  n += 1\n",
        "\n",
        "print(\"Fin del programa.\")"
      ],
      "execution_count": 5,
      "outputs": [
        {
          "output_type": "stream",
          "name": "stdout",
          "text": [
            "11\n",
            "13\n",
            "15\n",
            "17\n",
            "19\n",
            "21\n",
            "23\n",
            "25\n",
            "27\n",
            "29\n",
            "Fin del programa.\n"
          ]
        }
      ]
    },
    {
      "cell_type": "code",
      "metadata": {
        "colab": {
          "base_uri": "https://localhost:8080/"
        },
        "id": "K_BSVPZpaxX3",
        "outputId": "1fba3e30-a2ae-4c33-e22e-1a95a82b84a6"
      },
      "source": [
        "# Imprimir los múltiplos de 5 entre 100 y 0, en orden descendente.\n",
        "n = 100\n",
        "while n>=0:\n",
        "  if not(n%5):\n",
        "    print(n)\n",
        "  n -= 1                      # equivale a   n = n-1\n",
        "\n",
        "print(\"Fin del programa.\")"
      ],
      "execution_count": 7,
      "outputs": [
        {
          "output_type": "stream",
          "name": "stdout",
          "text": [
            "100\n",
            "95\n",
            "90\n",
            "85\n",
            "80\n",
            "75\n",
            "70\n",
            "65\n",
            "60\n",
            "55\n",
            "50\n",
            "45\n",
            "40\n",
            "35\n",
            "30\n",
            "25\n",
            "20\n",
            "15\n",
            "10\n",
            "5\n",
            "0\n",
            "Fin del programa.\n"
          ]
        }
      ]
    },
    {
      "cell_type": "markdown",
      "metadata": {
        "id": "qzTcl8_NgXJU"
      },
      "source": [
        "### ¿Seguir jugando?\n",
        "Crear un código que pregunte si se ha de seguir jugando."
      ]
    },
    {
      "cell_type": "code",
      "metadata": {
        "colab": {
          "base_uri": "https://localhost:8080/"
        },
        "id": "Mi9BqV7bg1J-",
        "outputId": "dc04adf7-120b-4da5-9e76-3d23de271b0e"
      },
      "source": [
        "jugar = \"s\"             # inicilizamos la variable\n",
        "while jugar == \"s\":\n",
        "  print(\"Estamos jugando una partida.\")\n",
        "  jugar = input(\"¿Quiere seguir jugando (s/n)?: \")\n",
        "  \n",
        "print(\"Fin del juego.\")"
      ],
      "execution_count": 11,
      "outputs": [
        {
          "output_type": "stream",
          "name": "stdout",
          "text": [
            "Estamos jugando una partida.\n",
            "¿Quiere seguir jugando (s/n)?: s\n",
            "Estamos jugando una partida.\n",
            "¿Quiere seguir jugando (s/n)?: s\n",
            "Estamos jugando una partida.\n",
            "¿Quiere seguir jugando (s/n)?: n\n",
            "Fin del juego.\n"
          ]
        }
      ]
    },
    {
      "cell_type": "markdown",
      "metadata": {
        "id": "qHoNVGjqj47J"
      },
      "source": [
        "## Decir números hasta que se salga de rango\n",
        "* Pedir al usuario que diga un número entre 10 y 20.\n",
        "* Si el número está en el rango se pide otro número y así sucesivamente.\n",
        "* El juego termina cuando se responde con un valor que no está en el rango indicado."
      ]
    },
    {
      "cell_type": "code",
      "metadata": {
        "colab": {
          "base_uri": "https://localhost:8080/"
        },
        "id": "9bexXHwSnCRc",
        "outputId": "a5970794-8ff6-4c0d-8cb8-552f4b9daf2d"
      },
      "source": [
        "n = int(input(\"Diga un número entre 10 y 20: \"))\n",
        "while 10<=n<=20:\n",
        "  print(f\"Número correcto: {n}.\")\n",
        "  n = int(input(\"Introduzca otro número: \"))\n",
        "\n",
        "print(\"Fin del programa.\")"
      ],
      "execution_count": 13,
      "outputs": [
        {
          "output_type": "stream",
          "name": "stdout",
          "text": [
            "Diga un número entre 10 y 20: 5\n",
            "Fin del programa.\n"
          ]
        }
      ]
    },
    {
      "cell_type": "markdown",
      "metadata": {
        "id": "fb9rKHTjo9qt"
      },
      "source": [
        "## Usando un contador y un acumulador\n",
        "Volver a programar el caso anterior, donde al final se diga cúantos números se han dicho que estén en el rango, y también se diga la suma de todos ellos."
      ]
    },
    {
      "cell_type": "code",
      "metadata": {
        "colab": {
          "base_uri": "https://localhost:8080/"
        },
        "id": "YMR1zVbWpSZ7",
        "outputId": "b68111f8-d08c-40a4-da63-e0394736c8d2"
      },
      "source": [
        "contador = 0\n",
        "acumulado = 0\n",
        "n = int(input(\"Diga un número entre 10 y 20: \"))\n",
        "\n",
        "while 10<= n <=20:\n",
        "  print(f\"Número correcto: {n}.\")\n",
        "  contador += 1\n",
        "  acumulado += n\n",
        "  n = int(input(\"Introduzca otro número: \"))\n",
        "\n",
        "print(f\"Se ha introducido {contador} valores dentro del rango y su suma es {acumulado}.\")"
      ],
      "execution_count": 15,
      "outputs": [
        {
          "output_type": "stream",
          "name": "stdout",
          "text": [
            "Diga un número entre 10 y 20: 10\n",
            "Número correcto: 10.\n",
            "Introduzca otro número: 10\n",
            "Número correcto: 10.\n",
            "Introduzca otro número: 10\n",
            "Número correcto: 10.\n",
            "Introduzca otro número: 10\n",
            "Número correcto: 10.\n",
            "Introduzca otro número: 1111\n",
            "Se ha introducido 4 valores dentro del rango y su suma es 40.\n"
          ]
        }
      ]
    }
  ]
}