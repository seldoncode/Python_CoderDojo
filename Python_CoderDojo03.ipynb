{
  "nbformat": 4,
  "nbformat_minor": 0,
  "metadata": {
    "colab": {
      "name": "Python_CoderDojo03.ipynb",
      "provenance": [],
      "collapsed_sections": [],
      "authorship_tag": "ABX9TyMahYdQ+5wTLgsqN1s5cdGh",
      "include_colab_link": true
    },
    "kernelspec": {
      "name": "python3",
      "display_name": "Python 3"
    },
    "language_info": {
      "name": "python"
    }
  },
  "cells": [
    {
      "cell_type": "markdown",
      "metadata": {
        "id": "view-in-github",
        "colab_type": "text"
      },
      "source": [
        "<a href=\"https://colab.research.google.com/github/seldoncode/Python_CoderDojo/blob/main/Python_CoderDojo03.ipynb\" target=\"_parent\"><img src=\"https://colab.research.google.com/assets/colab-badge.svg\" alt=\"Open In Colab\"/></a>"
      ]
    },
    {
      "cell_type": "code",
      "metadata": {
        "id": "-qJmg6fKpZoy"
      },
      "source": [
        "# Tipos de datos\n",
        "## String (cadenas alfanuméricas)"
      ],
      "execution_count": null,
      "outputs": []
    },
    {
      "cell_type": "code",
      "metadata": {
        "colab": {
          "base_uri": "https://localhost:8080/"
        },
        "id": "i8o8qDw1qaP_",
        "outputId": "ad7ef60a-55bc-4211-b2c5-5d9097b3b822"
      },
      "source": [
        "# Comillas dobles dentro de comillas simples\n",
        "print('Ella digo \"Hola\" al entrar en casa')"
      ],
      "execution_count": 2,
      "outputs": [
        {
          "output_type": "stream",
          "name": "stdout",
          "text": [
            "Ella digo \"Hola\" al entrar en casa\n"
          ]
        }
      ]
    },
    {
      "cell_type": "code",
      "metadata": {
        "colab": {
          "base_uri": "https://localhost:8080/"
        },
        "id": "rocoNGeDrFzE",
        "outputId": "87d61af5-f2a2-4f07-c307-76cabeb942d9"
      },
      "source": [
        "# Comillas simples dentro de comillas dobles\n",
        "print(\"El digo 'Hey' al subir al bus\")"
      ],
      "execution_count": 4,
      "outputs": [
        {
          "output_type": "stream",
          "name": "stdout",
          "text": [
            "El digo 'Hey' al subir al bus\n"
          ]
        }
      ]
    },
    {
      "cell_type": "code",
      "metadata": {
        "colab": {
          "base_uri": "https://localhost:8080/"
        },
        "id": "GmrWgk1NrmgD",
        "outputId": "87c3c195-a81f-4dcb-e852-c2253ce76e36"
      },
      "source": [
        "print(\"2+3\", \"=\", 2+3)       # \"2+3\" es un string porque va entre comillas y 2+3 se evalúa y da un número porque no lleva comillas     "
      ],
      "execution_count": 8,
      "outputs": [
        {
          "output_type": "stream",
          "name": "stdout",
          "text": [
            "2+3 = 5\n"
          ]
        }
      ]
    },
    {
      "cell_type": "code",
      "metadata": {
        "id": "3KTsANX5t6m6"
      },
      "source": [
        "\"2+3\" == \"3+2\"               # False, porque son cadenas diferentes, no se evalúan como números"
      ],
      "execution_count": null,
      "outputs": []
    },
    {
      "cell_type": "code",
      "metadata": {
        "id": "5_pPfpbGuPc0"
      },
      "source": [
        "\"2+3\" == \"5\"                 # False, porque no se evalúan como números"
      ],
      "execution_count": null,
      "outputs": []
    },
    {
      "cell_type": "code",
      "metadata": {
        "colab": {
          "base_uri": "https://localhost:8080/"
        },
        "id": "qNn_FAl0vGv0",
        "outputId": "73bc4ed1-f8e7-43a1-8e0e-0ba197de17e7"
      },
      "source": [
        "eval(\"2+3\")                  # función que evalúa un string"
      ],
      "execution_count": 9,
      "outputs": [
        {
          "output_type": "execute_result",
          "data": {
            "text/plain": [
              "5"
            ]
          },
          "metadata": {},
          "execution_count": 9
        }
      ]
    },
    {
      "cell_type": "markdown",
      "metadata": {
        "id": "kFktv1LYpe-R"
      },
      "source": [
        "### Reto3.1 Genitivo sajón\n",
        "Usando print, imprimir por pantalla una frase sencilla que use el genitivo sajón."
      ]
    },
    {
      "cell_type": "markdown",
      "metadata": {
        "id": "iwN01FPsvRYB"
      },
      "source": [
        "### Reto 3.2 Evaluar un booleano\n",
        "* Evalúe la expresión ```-eval(\"2==2\")*7``` y trate de explicar su resultado.\n",
        "* Evalúen con ```eval()``` algunas operaciones que contengan operaciones algebráicas y que incluyan algún booleano."
      ]
    },
    {
      "cell_type": "markdown",
      "metadata": {
        "id": "Max_hzdZysji"
      },
      "source": [
        "## Ordenar cadenas alfabéticamente"
      ]
    },
    {
      "cell_type": "code",
      "metadata": {
        "colab": {
          "base_uri": "https://localhost:8080/"
        },
        "id": "hdYdHgNUx30K",
        "outputId": "a17438b1-8645-4036-d160-3a6c72b8c69b"
      },
      "source": [
        "print(5 < 10)            # True, 5 es menor que 10\n",
        "print('a' < 'z')         # True, 'a' está antes que 'z' en el orden alfabético\n",
        "print('abzzzz' < 'ac')   # True, 'abzzzz'  está antes que 'ac' en el orden alfabético"
      ],
      "execution_count": 22,
      "outputs": [
        {
          "output_type": "stream",
          "name": "stdout",
          "text": [
            "True\n",
            "True\n",
            "True\n"
          ]
        }
      ]
    },
    {
      "cell_type": "markdown",
      "metadata": {
        "id": "h2x5KyEGzjCR"
      },
      "source": [
        "## Concatenar cadenas\n",
        "Los string se unen usando el signo más +"
      ]
    },
    {
      "cell_type": "code",
      "metadata": {
        "colab": {
          "base_uri": "https://localhost:8080/",
          "height": 35
        },
        "id": "g2tbqDWBziWO",
        "outputId": "6ffe7278-46e4-47d7-8550-a9678d50bd02"
      },
      "source": [
        "'Hola ' + '¿qué tal?'"
      ],
      "execution_count": 23,
      "outputs": [
        {
          "output_type": "execute_result",
          "data": {
            "application/vnd.google.colaboratory.intrinsic+json": {
              "type": "string"
            },
            "text/plain": [
              "'Hola ¿qué tal?'"
            ]
          },
          "metadata": {},
          "execution_count": 23
        }
      ]
    },
    {
      "cell_type": "code",
      "metadata": {
        "colab": {
          "base_uri": "https://localhost:8080/",
          "height": 35
        },
        "id": "uTjZUi0Sz1nj",
        "outputId": "7cde8e60-7116-4d6c-8a5e-326fa461f4d4"
      },
      "source": [
        "'Buenos ' + 'días'"
      ],
      "execution_count": 24,
      "outputs": [
        {
          "output_type": "execute_result",
          "data": {
            "application/vnd.google.colaboratory.intrinsic+json": {
              "type": "string"
            },
            "text/plain": [
              "'Buenos días'"
            ]
          },
          "metadata": {},
          "execution_count": 24
        }
      ]
    }
  ]
}