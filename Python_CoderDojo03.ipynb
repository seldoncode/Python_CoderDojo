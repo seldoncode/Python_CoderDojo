{
  "nbformat": 4,
  "nbformat_minor": 0,
  "metadata": {
    "colab": {
      "name": "Python_CoderDojo03.ipynb",
      "provenance": [],
      "collapsed_sections": [],
      "authorship_tag": "ABX9TyN2gXQnO6OeeG5dUPKhryoY",
      "include_colab_link": true
    },
    "kernelspec": {
      "name": "python3",
      "display_name": "Python 3"
    },
    "language_info": {
      "name": "python"
    }
  },
  "cells": [
    {
      "cell_type": "markdown",
      "metadata": {
        "id": "view-in-github",
        "colab_type": "text"
      },
      "source": [
        "<a href=\"https://colab.research.google.com/github/seldoncode/Python_CoderDojo/blob/main/Python_CoderDojo03.ipynb\" target=\"_parent\"><img src=\"https://colab.research.google.com/assets/colab-badge.svg\" alt=\"Open In Colab\"/></a>"
      ]
    },
    {
      "cell_type": "markdown",
      "metadata": {
        "id": "4X-dzFFus-xF"
      },
      "source": [
        "# Tipos de datos\n",
        "## String (cadenas alfanuméricas)"
      ]
    },
    {
      "cell_type": "code",
      "metadata": {
        "colab": {
          "base_uri": "https://localhost:8080/"
        },
        "id": "i8o8qDw1qaP_",
        "outputId": "9cda8a9a-c000-44db-be13-b67eae4ed510"
      },
      "source": [
        "# Comillas dobles dentro de comillas simples\n",
        "print('Ella digo \"Hola\" al entrar en casa')"
      ],
      "execution_count": null,
      "outputs": [
        {
          "output_type": "stream",
          "name": "stdout",
          "text": [
            "Ella digo \"Hola\" al entrar en casa\n"
          ]
        }
      ]
    },
    {
      "cell_type": "code",
      "metadata": {
        "colab": {
          "base_uri": "https://localhost:8080/"
        },
        "id": "rocoNGeDrFzE",
        "outputId": "615303d7-8d27-44e2-d9f6-6ddc7bedce98"
      },
      "source": [
        "# Comillas simples dentro de comillas dobles\n",
        "print(\"El digo 'Hey' al subir al bus\")"
      ],
      "execution_count": null,
      "outputs": [
        {
          "output_type": "stream",
          "name": "stdout",
          "text": [
            "El digo 'Hey' al subir al bus\n"
          ]
        }
      ]
    },
    {
      "cell_type": "code",
      "metadata": {
        "colab": {
          "base_uri": "https://localhost:8080/"
        },
        "id": "GmrWgk1NrmgD",
        "outputId": "87c3c195-a81f-4dcb-e852-c2253ce76e36"
      },
      "source": [
        "print(\"2+3\", \"=\", 2+3)       # \"2+3\" es un string porque va entre comillas y 2+3 se evalúa y da un número porque no lleva comillas     "
      ],
      "execution_count": null,
      "outputs": [
        {
          "output_type": "stream",
          "name": "stdout",
          "text": [
            "2+3 = 5\n"
          ]
        }
      ]
    },
    {
      "cell_type": "code",
      "metadata": {
        "id": "3KTsANX5t6m6"
      },
      "source": [
        "\"2+3\" == \"3+2\"               # False, porque son cadenas diferentes, no se evalúan como números"
      ],
      "execution_count": null,
      "outputs": []
    },
    {
      "cell_type": "code",
      "metadata": {
        "id": "5_pPfpbGuPc0"
      },
      "source": [
        "\"2+3\" == \"5\"                 # False, porque no se evalúan como números"
      ],
      "execution_count": null,
      "outputs": []
    },
    {
      "cell_type": "code",
      "metadata": {
        "colab": {
          "base_uri": "https://localhost:8080/"
        },
        "id": "qNn_FAl0vGv0",
        "outputId": "73bc4ed1-f8e7-43a1-8e0e-0ba197de17e7"
      },
      "source": [
        "eval(\"2+3\")                  # función que evalúa un string"
      ],
      "execution_count": null,
      "outputs": [
        {
          "output_type": "execute_result",
          "data": {
            "text/plain": [
              "5"
            ]
          },
          "metadata": {},
          "execution_count": 9
        }
      ]
    },
    {
      "cell_type": "markdown",
      "metadata": {
        "id": "kFktv1LYpe-R"
      },
      "source": [
        "### Reto3.1 Genitivo sajón\n",
        "Usando print, imprimir por pantalla una frase sencilla que use el genitivo sajón."
      ]
    },
    {
      "cell_type": "markdown",
      "metadata": {
        "id": "iwN01FPsvRYB"
      },
      "source": [
        "### Reto 3.2 Evaluar un booleano\n",
        "* Evalúe la expresión ```-eval(\"2==2\")*7``` y trate de explicar su resultado.\n",
        "* Evalúe con ```eval()``` algunas operaciones que contengan operaciones algebráicas y que incluyan algún booleano."
      ]
    },
    {
      "cell_type": "markdown",
      "metadata": {
        "id": "Max_hzdZysji"
      },
      "source": [
        "## Ordenar cadenas alfabéticamente"
      ]
    },
    {
      "cell_type": "code",
      "metadata": {
        "colab": {
          "base_uri": "https://localhost:8080/"
        },
        "id": "hdYdHgNUx30K",
        "outputId": "a17438b1-8645-4036-d160-3a6c72b8c69b"
      },
      "source": [
        "print(5 < 10)            # True, 5 es menor que 10\n",
        "print('a' < 'z')         # True, 'a' está antes que 'z' en el orden alfabético\n",
        "print('abzzzz' < 'ac')   # True, 'abzzzz'  está antes que 'ac' en el orden alfabético"
      ],
      "execution_count": null,
      "outputs": [
        {
          "output_type": "stream",
          "name": "stdout",
          "text": [
            "True\n",
            "True\n",
            "True\n"
          ]
        }
      ]
    },
    {
      "cell_type": "markdown",
      "metadata": {
        "id": "h2x5KyEGzjCR"
      },
      "source": [
        "## Concatenar cadenas\n",
        "Los string se unen usando el signo más +"
      ]
    },
    {
      "cell_type": "code",
      "metadata": {
        "colab": {
          "base_uri": "https://localhost:8080/",
          "height": 35
        },
        "id": "g2tbqDWBziWO",
        "outputId": "55a5f0d5-c97e-4920-866f-30c9ea531ce6"
      },
      "source": [
        "'Spider' + 'man'"
      ],
      "execution_count": 2,
      "outputs": [
        {
          "output_type": "execute_result",
          "data": {
            "application/vnd.google.colaboratory.intrinsic+json": {
              "type": "string"
            },
            "text/plain": [
              "'Spiderman'"
            ]
          },
          "metadata": {},
          "execution_count": 2
        }
      ]
    },
    {
      "cell_type": "code",
      "metadata": {
        "colab": {
          "base_uri": "https://localhost:8080/",
          "height": 35
        },
        "id": "uTjZUi0Sz1nj",
        "outputId": "7cde8e60-7116-4d6c-8a5e-326fa461f4d4"
      },
      "source": [
        "'Buenos ' + 'días'    # hemos dejado un espacio después de la palabra Buenos para que quede con espacio la frase"
      ],
      "execution_count": null,
      "outputs": [
        {
          "output_type": "execute_result",
          "data": {
            "application/vnd.google.colaboratory.intrinsic+json": {
              "type": "string"
            },
            "text/plain": [
              "'Buenos días'"
            ]
          },
          "metadata": {},
          "execution_count": 24
        }
      ]
    },
    {
      "cell_type": "markdown",
      "metadata": {
        "id": "cRKn6Ap51Sz9"
      },
      "source": [
        "## Repetir cadenas\n",
        "Los string se pueden repetir, esto se consigue multiplicando por un número."
      ]
    },
    {
      "cell_type": "code",
      "metadata": {
        "colab": {
          "base_uri": "https://localhost:8080/"
        },
        "id": "gP2Wug061iK8",
        "outputId": "76d2650a-5b07-4d46-cd8e-6443a6cb39ef"
      },
      "source": [
        "print(\"Hi\"*3)"
      ],
      "execution_count": 6,
      "outputs": [
        {
          "output_type": "stream",
          "name": "stdout",
          "text": [
            "HiHiHi\n"
          ]
        }
      ]
    },
    {
      "cell_type": "code",
      "metadata": {
        "colab": {
          "base_uri": "https://localhost:8080/",
          "height": 35
        },
        "id": "tO-qFpcU1qvz",
        "outputId": "d233c06d-ed11-4a44-d00d-7113e77bd999"
      },
      "source": [
        "\"Estoy seguro de eso, \" + \"nunca \"*3 + \"lo haré.\""
      ],
      "execution_count": 5,
      "outputs": [
        {
          "output_type": "execute_result",
          "data": {
            "application/vnd.google.colaboratory.intrinsic+json": {
              "type": "string"
            },
            "text/plain": [
              "'Estoy seguro de eso, nunca nunca nunca lo haré.'"
            ]
          },
          "metadata": {},
          "execution_count": 5
        }
      ]
    },
    {
      "cell_type": "markdown",
      "metadata": {
        "id": "g20ASQQ52cih"
      },
      "source": [
        "## Comparar cadenas"
      ]
    },
    {
      "cell_type": "code",
      "metadata": {
        "colab": {
          "base_uri": "https://localhost:8080/"
        },
        "id": "Iy2eR9az2gQt",
        "outputId": "78bc3aa2-4119-4013-da4c-a4e843669bd4"
      },
      "source": [
        "\"a\"+\"b\"+\"c\" == \"abc\"        # True"
      ],
      "execution_count": 8,
      "outputs": [
        {
          "output_type": "execute_result",
          "data": {
            "text/plain": [
              "True"
            ]
          },
          "metadata": {},
          "execution_count": 8
        }
      ]
    },
    {
      "cell_type": "markdown",
      "metadata": {
        "id": "zCeArJdu3PdP"
      },
      "source": [
        "## Imprimir cadenas y variables"
      ]
    },
    {
      "cell_type": "code",
      "metadata": {
        "id": "oz_Do5i93WKV"
      },
      "source": [
        "print(\"Hola, me llamo Pedro\")            # siempre imprime lo mismo, no hay variable\n",
        "\n",
        "nombre = Susana\n",
        "print(\"Hola, me llamo\", nombre)          # se puede cambiar el contenido de la variable"
      ],
      "execution_count": null,
      "outputs": []
    },
    {
      "cell_type": "code",
      "metadata": {
        "colab": {
          "base_uri": "https://localhost:8080/"
        },
        "id": "hbsebH_q5Udp",
        "outputId": "9d4041b7-5faf-48cc-cad6-0af66d34312c"
      },
      "source": [
        "nombre = \"Susana\"\n",
        "edad = 14\n",
        "print(\"Hola, me llamo\", nombre, \" y tengo\",edad,\" años.\")          # separando con comas"
      ],
      "execution_count": 15,
      "outputs": [
        {
          "output_type": "stream",
          "name": "stdout",
          "text": [
            "Hola, me llamo Susana  y tengo 14  años.\n"
          ]
        }
      ]
    },
    {
      "cell_type": "code",
      "metadata": {
        "colab": {
          "base_uri": "https://localhost:8080/"
        },
        "id": "zdmw9ZVb5ufl",
        "outputId": "6dc538a7-2a1f-4293-ad19-35b54b7c9f94"
      },
      "source": [
        "# concatenando\n",
        "nombre = \"Raul\"\n",
        "edad = 17\n",
        "print(\"Hola, me llamo \" + nombre + \" y tengo \" + str(edad) +\" años.\")          # str es una función que convierte un número en un string, si no se pone da error"
      ],
      "execution_count": 16,
      "outputs": [
        {
          "output_type": "stream",
          "name": "stdout",
          "text": [
            "Hola, me llamo Raul y tengo 17 años.\n"
          ]
        }
      ]
    },
    {
      "cell_type": "markdown",
      "metadata": {
        "id": "bhlaXOXP39mQ"
      },
      "source": [
        "## Imprimir usando format"
      ]
    },
    {
      "cell_type": "code",
      "metadata": {
        "colab": {
          "base_uri": "https://localhost:8080/"
        },
        "id": "XXpakTcM4DBj",
        "outputId": "8521acd1-6f4b-41de-e44b-2b2193d77204"
      },
      "source": [
        "print(\"Hola, me llamo {} y tengo {} años\".format(\"Ana\", 16))"
      ],
      "execution_count": 12,
      "outputs": [
        {
          "output_type": "stream",
          "name": "stdout",
          "text": [
            "Hola, me llamo Ana y tengo 16 años\n"
          ]
        }
      ]
    },
    {
      "cell_type": "code",
      "metadata": {
        "colab": {
          "base_uri": "https://localhost:8080/"
        },
        "id": "s_GV4jNa4UmG",
        "outputId": "32b3f559-c944-442e-f191-a4a12f5da6f5"
      },
      "source": [
        "# usando el sistema f de format que es más moderno\n",
        "nombre = 'Jorge'\n",
        "edad = 15\n",
        "print(f\"Hola, me llamo {nombre} y tengo {edad} años\")"
      ],
      "execution_count": 13,
      "outputs": [
        {
          "output_type": "stream",
          "name": "stdout",
          "text": [
            "Hola, me llamo Jorge y tengo 15 años\n"
          ]
        }
      ]
    }
  ]
}