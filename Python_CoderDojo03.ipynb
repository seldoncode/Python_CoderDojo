{
  "nbformat": 4,
  "nbformat_minor": 0,
  "metadata": {
    "colab": {
      "name": "Python_CoderDojo03.ipynb",
      "provenance": [],
      "collapsed_sections": [],
      "authorship_tag": "ABX9TyPQ7p5EqfuJ5ne6nFrq5OzV",
      "include_colab_link": true
    },
    "kernelspec": {
      "name": "python3",
      "display_name": "Python 3"
    },
    "language_info": {
      "name": "python"
    }
  },
  "cells": [
    {
      "cell_type": "markdown",
      "metadata": {
        "id": "view-in-github",
        "colab_type": "text"
      },
      "source": [
        "<a href=\"https://colab.research.google.com/github/seldoncode/Python_CoderDojo/blob/main/Python_CoderDojo03.ipynb\" target=\"_parent\"><img src=\"https://colab.research.google.com/assets/colab-badge.svg\" alt=\"Open In Colab\"/></a>"
      ]
    },
    {
      "cell_type": "markdown",
      "metadata": {
        "id": "4X-dzFFus-xF"
      },
      "source": [
        "# Tipos de datos\n",
        "## String (cadenas alfanuméricas)\n",
        "Los string van entre comillas dobles, o entre comillas simples.\n",
        "Si dentro de un string queremos que aparezcan unas comillas, se deben emplear diferentes comillas. Uno de estos dos casos:\n",
        "* el string va con comillas simples y dentro ponemos las comillas dobles\n",
        "* el string va con comillas dobles y dentro ponemos las comillas simples"
      ]
    },
    {
      "cell_type": "code",
      "metadata": {
        "id": "i8o8qDw1qaP_"
      },
      "source": [
        "# Comillas dobles dentro de comillas simples\n",
        "print('Ella digo \"Hola\" al entrar en casa')"
      ],
      "execution_count": null,
      "outputs": []
    },
    {
      "cell_type": "code",
      "metadata": {
        "id": "rocoNGeDrFzE"
      },
      "source": [
        "# Comillas simples dentro de comillas dobles\n",
        "print(\"El digo 'Hey' al subir al bus\")"
      ],
      "execution_count": null,
      "outputs": []
    },
    {
      "cell_type": "code",
      "metadata": {
        "id": "GmrWgk1NrmgD"
      },
      "source": [
        "print(\"2+3\", \"=\", 2+3)       # \"2+3\" es un string porque va entre comillas y 2+3 se evalúa y da un número porque no lleva comillas     "
      ],
      "execution_count": null,
      "outputs": []
    },
    {
      "cell_type": "code",
      "metadata": {
        "id": "3KTsANX5t6m6"
      },
      "source": [
        "\"2+3\" == \"3+2\"               # False, porque son cadenas diferentes, no se evalúan como números"
      ],
      "execution_count": null,
      "outputs": []
    },
    {
      "cell_type": "code",
      "metadata": {
        "id": "5_pPfpbGuPc0"
      },
      "source": [
        "\"2+3\" == \"5\"                 # False, porque no se evalúan como números"
      ],
      "execution_count": null,
      "outputs": []
    },
    {
      "cell_type": "code",
      "metadata": {
        "id": "qNn_FAl0vGv0"
      },
      "source": [
        "eval(\"2+3\")                  # función que evalúa un string"
      ],
      "execution_count": null,
      "outputs": []
    },
    {
      "cell_type": "markdown",
      "metadata": {
        "id": "kFktv1LYpe-R"
      },
      "source": [
        "### Reto3.1 Genitivo sajón\n",
        "Usando print, imprimir por pantalla una frase sencilla que use el genitivo sajón."
      ]
    },
    {
      "cell_type": "markdown",
      "metadata": {
        "id": "iwN01FPsvRYB"
      },
      "source": [
        "### Reto 3.2 Evaluar un booleano\n",
        "* Evalúe la expresión ```-eval(\"2==2\")*7``` y trate de explicar su resultado.\n",
        "* Evalúe con ```eval()``` algunas operaciones que contengan operaciones algebráicas y que incluyan algún booleano."
      ]
    },
    {
      "cell_type": "markdown",
      "metadata": {
        "id": "Max_hzdZysji"
      },
      "source": [
        "## Ordenar cadenas alfabéticamente"
      ]
    },
    {
      "cell_type": "code",
      "metadata": {
        "id": "hdYdHgNUx30K"
      },
      "source": [
        "print(5 < 10)            # True, 5 es menor que 10, con números ya lo habíamos visto\n",
        "print('a' < 'z')         # True, 'a' está antes que 'z' en el orden alfabético\n",
        "print('abzzzz' < 'ac')   # True, 'abzzzz'  está antes que 'ac' en el orden alfabético"
      ],
      "execution_count": null,
      "outputs": []
    },
    {
      "cell_type": "markdown",
      "metadata": {
        "id": "h2x5KyEGzjCR"
      },
      "source": [
        "## Concatenar cadenas\n",
        "Los string se unen usando el signo más +"
      ]
    },
    {
      "cell_type": "code",
      "metadata": {
        "id": "g2tbqDWBziWO"
      },
      "source": [
        "'Spider' + 'man'      # concatenamos dos string, el resultado será un nuevo string donde ambas cadenas quedan unidas"
      ],
      "execution_count": null,
      "outputs": []
    },
    {
      "cell_type": "code",
      "metadata": {
        "id": "uTjZUi0Sz1nj"
      },
      "source": [
        "'Buenos ' + 'días'    # hemos dejado un espacio después de la palabra Buenos para que quede con espacio la frase"
      ],
      "execution_count": null,
      "outputs": []
    },
    {
      "cell_type": "markdown",
      "metadata": {
        "id": "cRKn6Ap51Sz9"
      },
      "source": [
        "## Repetir cadenas\n",
        "Los string se pueden repetir, esto se consigue multiplicando por un número."
      ]
    },
    {
      "cell_type": "code",
      "metadata": {
        "id": "gP2Wug061iK8"
      },
      "source": [
        "print(\"Hi\"*3)"
      ],
      "execution_count": null,
      "outputs": []
    },
    {
      "cell_type": "code",
      "metadata": {
        "id": "tO-qFpcU1qvz"
      },
      "source": [
        "\"Estoy seguro de eso, \" + \"nunca \"*3 + \"lo haré.\""
      ],
      "execution_count": null,
      "outputs": []
    },
    {
      "cell_type": "markdown",
      "metadata": {
        "id": "g20ASQQ52cih"
      },
      "source": [
        "## Comparar cadenas"
      ]
    },
    {
      "cell_type": "code",
      "metadata": {
        "id": "Iy2eR9az2gQt"
      },
      "source": [
        "\"a\"+\"b\"+\"c\" == \"abc\"        # True"
      ],
      "execution_count": null,
      "outputs": []
    },
    {
      "cell_type": "markdown",
      "metadata": {
        "id": "FDWbebcZgznB"
      },
      "source": [
        "### Reto 3.3 Concatenar, ordenar y multiplicar strings\n",
        "Crea cuatro condicionales lógicos que contengan strings y que todos ellos den como resultado **True**.\n",
        "1. un condicional que contenga cadenas concatenadas\n",
        "2. un condicional que tenga una comparación del orden de sus caracteres tipo diccionario\n",
        "3. un condicional que tenga un producto de una cadena por un número  \n",
        "4. una combinación de varios de los anteriores\n"
      ]
    },
    {
      "cell_type": "markdown",
      "metadata": {
        "id": "zCeArJdu3PdP"
      },
      "source": [
        "## Imprimir cadenas y variables"
      ]
    },
    {
      "cell_type": "code",
      "metadata": {
        "id": "oz_Do5i93WKV"
      },
      "source": [
        "print(\"Hola, me llamo Pedro\")            # siempre imprime lo mismo, no hay variable\n",
        "\n",
        "nombre = 'Susana'\n",
        "print(\"Hola, me llamo\", nombre)          # se puede cambiar el contenido de la variable"
      ],
      "execution_count": null,
      "outputs": []
    },
    {
      "cell_type": "code",
      "metadata": {
        "id": "hbsebH_q5Udp"
      },
      "source": [
        "nombre = \"Susana\"\n",
        "edad = 14\n",
        "print(\"Hola, me llamo\", nombre, \" y tengo\",edad,\" años.\")                      # separando con comas"
      ],
      "execution_count": null,
      "outputs": []
    },
    {
      "cell_type": "code",
      "metadata": {
        "id": "zdmw9ZVb5ufl"
      },
      "source": [
        "# concatenando\n",
        "nombre = \"Raul\"\n",
        "edad = 17\n",
        "print(\"Hola, me llamo \" + nombre + \" y tengo \" + str(edad) +\" años.\")          # str es una función que convierte un número en un string, si no se pone da error"
      ],
      "execution_count": null,
      "outputs": []
    },
    {
      "cell_type": "markdown",
      "metadata": {
        "id": "bhlaXOXP39mQ"
      },
      "source": [
        "## Imprimir usando format\n",
        "Existen dos sistemas de imprimir con formato:\n",
        "1. Sistema antiguo con format: \n",
        " * print(\"Hola, me llamo {} y tengo {} años\".format(\"Ana\", 16))\n",
        "2. Sistema nuevo, con **f** de format: \n",
        " * nombre = \"Jorge\"\n",
        " * edad = 15\n",
        " * print(**f**\"Hola, me llamo {nombre} y tengo {edad} años\")"
      ]
    },
    {
      "cell_type": "code",
      "metadata": {
        "id": "XXpakTcM4DBj"
      },
      "source": [
        "print(\"Hola, me llamo {} y tengo {} años\".format(\"Ana\", 16))"
      ],
      "execution_count": null,
      "outputs": []
    },
    {
      "cell_type": "code",
      "metadata": {
        "id": "s_GV4jNa4UmG"
      },
      "source": [
        "# usando el sistema f de format que es más moderno\n",
        "nombre = 'Jorge'\n",
        "edad = 15\n",
        "print(f\"Hola, me llamo {nombre} y tengo {edad} años\")"
      ],
      "execution_count": null,
      "outputs": []
    },
    {
      "cell_type": "markdown",
      "metadata": {
        "id": "rcI1utzKf43K"
      },
      "source": [
        "## Funciones que convierten el tipo de datos\n",
        "* ```str()``` convierte a string\n",
        "* ```int()``` convierte a número entero (integer)\n",
        "* ```float()``` convierte un número flotante"
      ]
    },
    {
      "cell_type": "code",
      "metadata": {
        "id": "tpn6ilXEgVzl"
      },
      "source": [
        "str(25.4)"
      ],
      "execution_count": null,
      "outputs": []
    },
    {
      "cell_type": "code",
      "metadata": {
        "id": "W2RPQAxQgibo"
      },
      "source": [
        "int(\"37\")"
      ],
      "execution_count": null,
      "outputs": []
    },
    {
      "cell_type": "code",
      "metadata": {
        "id": "dcZjIH_pgoOo"
      },
      "source": [
        "float(\"25.4\")"
      ],
      "execution_count": null,
      "outputs": []
    },
    {
      "cell_type": "code",
      "metadata": {
        "colab": {
          "base_uri": "https://localhost:8080/"
        },
        "id": "RJkpvF0FmX6m",
        "outputId": "3905df11-c194-4e9f-a989-7e34a3aaa049"
      },
      "source": [
        "float(4)"
      ],
      "execution_count": 1,
      "outputs": [
        {
          "output_type": "execute_result",
          "data": {
            "text/plain": [
              "4.0"
            ]
          },
          "metadata": {},
          "execution_count": 1
        }
      ]
    },
    {
      "cell_type": "markdown",
      "metadata": {
        "id": "JRBNZhPTiP-x"
      },
      "source": [
        "### Reto 3.4. Imprimiendo con formato\n",
        "Crea cuatro variables:\n",
        "* marca del coche\n",
        "* modelo del coche\n",
        "* color\n",
        "* velocidad máxima\n",
        "\n",
        "Imprime una frase con formato que use estas variables."
      ]
    },
    {
      "cell_type": "markdown",
      "metadata": {
        "id": "u_byh1nHkBa8"
      },
      "source": [
        "### Reto 3.5. Corrigiendo errores\n",
        "Las siguientes líneas de código dan un error.\n",
        "* Por favor, escriba el código correcto para evitar el error.\n",
        "* Escriba una forma alternativa de imprimir con formato. "
      ]
    },
    {
      "cell_type": "code",
      "metadata": {
        "id": "lZPXHDyJk3EM"
      },
      "source": [
        "nombre = Silvia\n",
        "edad = 13\n",
        "print(\"Hola, soy\", nombre, \"y tengo\", edad, \"años\".)        # da error y hay que depurarlo"
      ],
      "execution_count": null,
      "outputs": []
    },
    {
      "cell_type": "markdown",
      "metadata": {
        "id": "Vpd-fhCImqT1"
      },
      "source": [
        "# Introduciendo datos con ```input()```\n",
        "Con la función input conseguimos capturar lo que el usuario escriba por teclado.  \n",
        "Input siempre captura un **string**. Si introducimos un número 5 lo que captura es '5'."
      ]
    },
    {
      "cell_type": "code",
      "metadata": {
        "colab": {
          "base_uri": "https://localhost:8080/",
          "height": 69
        },
        "id": "jOMo5pSxmz21",
        "outputId": "5d953521-602c-4732-bbbf-96de4a0088cb"
      },
      "source": [
        "print(\"Hola, buenos días.\")\n",
        "input(\"¿Cómo te llamas? \")                   # nos piden el nombre pero no se guarda en una variable, por lo que se olvida"
      ],
      "execution_count": 3,
      "outputs": [
        {
          "name": "stdout",
          "output_type": "stream",
          "text": [
            "Hola, buenos días.\n",
            "¿Cómo te llamas? Ana\n"
          ]
        },
        {
          "output_type": "execute_result",
          "data": {
            "application/vnd.google.colaboratory.intrinsic+json": {
              "type": "string"
            },
            "text/plain": [
              "'Ana'"
            ]
          },
          "metadata": {},
          "execution_count": 3
        }
      ]
    },
    {
      "cell_type": "code",
      "metadata": {
        "colab": {
          "base_uri": "https://localhost:8080/"
        },
        "id": "NFA7COSMnSg1",
        "outputId": "6fe24540-8298-46cd-c9e4-8bdfe7763643"
      },
      "source": [
        "print(\"Hola.\")\n",
        "nombre = input(\"¿Cómo te llamas? \")          # recogemos el nombre en una variable, esto hace que se recuerde y se pueda usar luego\n",
        "print(f\"Buenos días {nombre}, hoy conocerás a muchos amigos.\")"
      ],
      "execution_count": 6,
      "outputs": [
        {
          "output_type": "stream",
          "name": "stdout",
          "text": [
            "Hola.\n",
            "¿Cómo te llamas? Eva\n",
            "Buenos días Eva, hoy conocerás a muchos amigos.\n"
          ]
        }
      ]
    },
    {
      "cell_type": "markdown",
      "metadata": {
        "id": "DeumruH5o9_M"
      },
      "source": [
        "### Reto 3.6. Saludando a los nuevos amigos\n",
        "Pregunta a alguien tres cosas, una que sera numérica. Por ejemplo:\n",
        "* nombre\n",
        "* edad\n",
        "* juego favorito o afición  \n",
        "Imprime una frase con esos tres datos."
      ]
    },
    {
      "cell_type": "markdown",
      "metadata": {
        "id": "v8A4i2k4p6jj"
      },
      "source": [
        "### Reto 3.7. Doble de años\n",
        "* Pregunta a alguien su nombre y su edad.\n",
        "* Di a esa persona cuantos años tendrá cuando doble su edad."
      ]
    },
    {
      "cell_type": "markdown",
      "metadata": {
        "id": "uzyxsE9NfCLx"
      },
      "source": [
        "## Convirtiendo la entrada de un ```input``` en un número\n",
        "Lo que recoge un ```input``` siempre es un string,  \n",
        "en algunos casos nos interesará convertirlo en un número de tipo ```int``` o de tipo ```float```."
      ]
    },
    {
      "cell_type": "code",
      "metadata": {
        "colab": {
          "base_uri": "https://localhost:8080/"
        },
        "id": "B1L1vt7JffFh",
        "outputId": "56e443df-332e-46cb-835b-20e489ff4768"
      },
      "source": [
        "print(\"Por favor, diga:\")\n",
        "year = input(\"¿En que año estamos hoy? \")                                  # lo que se obtiene con el input es un string. Evitamos poner año por la ñ\n",
        "year = int(year)                                                           # convertimos el string en un int\n",
        "\n",
        "edad = int(input(\"¿Cuántos años ha cumplido o va a cumplir este año? \"))   # en una sola línea ponemos el input y lo convertimos en int\n",
        "\n",
        "print(\"He calculado que usted nació en el año \" + str(year-edad))          # si concatenamos con +, es necesario usar str()"
      ],
      "execution_count": 12,
      "outputs": [
        {
          "output_type": "stream",
          "name": "stdout",
          "text": [
            "Por favor, diga:\n",
            "¿En que año estamos hoy? 2022\n",
            "¿Cuántos años ha cumplido o va a cumplir este año? 16\n",
            "He calculado que usted nació en el año 2006\n"
          ]
        }
      ]
    },
    {
      "cell_type": "code",
      "metadata": {
        "id": "Qd3BHUSLiVdD"
      },
      "source": [
        "# otra opción para imprimir el texto anterior que no usa str()\n",
        "print(\"He calculado que usted nació en el año\", year-edad)                # separando con coma no se usa str()"
      ],
      "execution_count": null,
      "outputs": []
    },
    {
      "cell_type": "code",
      "metadata": {
        "id": "BDeMyABbipqp"
      },
      "source": [
        "# también podemos usar el formato f (¿cuál es tu sistema preferido?)\n",
        "print(f\"He calculado que usted nació en el año {year-edad}.\")             # aquí hemos cerrado la frase con punto, en los otros sistemas sería más incómodo poner el punto"
      ],
      "execution_count": null,
      "outputs": []
    },
    {
      "cell_type": "markdown",
      "metadata": {
        "id": "gu_7-eiNwgV3"
      },
      "source": [
        "## Calcular la nota media de dos exámenes "
      ]
    },
    {
      "cell_type": "code",
      "metadata": {
        "colab": {
          "base_uri": "https://localhost:8080/"
        },
        "id": "uH5_530ewrzK",
        "outputId": "a5ae7d07-06dd-4cec-8580-aa690472973f"
      },
      "source": [
        "nota1 = 7.4\n",
        "nota2 = 8.6\n",
        "media = (nota1+nota2)/2\n",
        "print(\"La nota media es \" + str(media))"
      ],
      "execution_count": 6,
      "outputs": [
        {
          "output_type": "stream",
          "name": "stdout",
          "text": [
            "La nota media es 8.0\n"
          ]
        }
      ]
    },
    {
      "cell_type": "code",
      "metadata": {
        "colab": {
          "base_uri": "https://localhost:8080/"
        },
        "id": "rnB8swSvxjH8",
        "outputId": "f8a1a076-4324-4928-93f8-b0d349993c73"
      },
      "source": [
        "# otra forma de resolverlo, usando input, float y formato f para imprimir el resultado\n",
        "print(\"**********************************\")\n",
        "print(\"*                                *\")\n",
        "print(\"*    CÁLCULO DE LA NOTA MEDIA    *\")\n",
        "print(\"*                                *\")\n",
        "print(\"**********************************\")\n",
        "\n",
        "nota1 = float(input(\"Indique la primera nota: \"))      # float convierte el string capturado por input y lo convierte en un número de coma flotante\n",
        "nota2 = float(input(\"Indique la segunda nota: \"))\n",
        "\n",
        "print(f\"La nota media es {(nota1+nota2)/2}\")           # con el sistema f de formato podemos escribir fórmulas dentro de las llaves {}"
      ],
      "execution_count": 13,
      "outputs": [
        {
          "output_type": "stream",
          "name": "stdout",
          "text": [
            "**********************************\n",
            "*                                *\n",
            "*    CÁLCULO DE LA NOTA MEDIA    *\n",
            "*                                *\n",
            "**********************************\n",
            "Indique la primera nota: 6.5\n",
            "Indique la segunda nota: 9.7\n",
            "La nota media es 8.1\n"
          ]
        }
      ]
    },
    {
      "cell_type": "markdown",
      "metadata": {
        "id": "WDeTc_0F0oXH"
      },
      "source": [
        "### Reto 3.8. Calcular el área de un rectángulo\n",
        "Sabemos que la superficie de un rectángulo se obtiene multiplicamdo sus dos lados.  \n",
        "Crear un programa que pida al usuario la longitud de los dos lados del rectángulo y muestre en pantalla su superficie.\n",
        "\n",
        "Por ejemplo, la frase a imprimir podría ser parecida a esta:  \n",
        "En un rectángulo donde un lado es 12 m y el otro es 5 m, el área es 60 m²."
      ]
    }
  ]
}