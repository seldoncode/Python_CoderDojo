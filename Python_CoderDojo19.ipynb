{
  "nbformat": 4,
  "nbformat_minor": 0,
  "metadata": {
    "colab": {
      "name": "Python_CoderDojo19.ipynb",
      "provenance": [],
      "authorship_tag": "ABX9TyMv1EW2j4RUPnSM351KlBNd",
      "include_colab_link": true
    },
    "kernelspec": {
      "name": "python3",
      "display_name": "Python 3"
    },
    "language_info": {
      "name": "python"
    }
  },
  "cells": [
    {
      "cell_type": "markdown",
      "metadata": {
        "id": "view-in-github",
        "colab_type": "text"
      },
      "source": [
        "<a href=\"https://colab.research.google.com/github/seldoncode/Python_CoderDojo/blob/main/Python_CoderDojo19.ipynb\" target=\"_parent\"><img src=\"https://colab.research.google.com/assets/colab-badge.svg\" alt=\"Open In Colab\"/></a>"
      ]
    },
    {
      "cell_type": "markdown",
      "source": [
        "# Juegos con Inteligencia artificial"
      ],
      "metadata": {
        "id": "Zbk70VkEwVCI"
      }
    },
    {
      "cell_type": "markdown",
      "source": [
        "### Juego de los palillos\n",
        "* El [NIM](https://es.wikipedia.org/wiki/Nimrod_(videojuego)) es el precursor de los videojuegos, contruido en 1951.\n",
        "* El juego de los palillos similar al \"juego de la última piedra\"\n",
        "* Dados unos palillos iniciales, por ejemplo entre 16 y 23\n",
        "* Dos jugadores (persona y máquina) quitan por turnos 1 o 2 o 3 palillos\n",
        "* Comienza quitando el humano\n",
        "* El último en quitar gana\n",
        "\n",
        "Fases del juego:\n",
        " 1. Presentación del juego\n",
        " 2. Elección por el usuario de nivel (fácil / difícil)\n",
        " 3. Elección aleatoria de palillos iniciales (entre 16 y 23)\n",
        " 4. Elección aleatoria de palillos quitados:\n",
        "  - entre 1 y 3, o\n",
        "  - entre 1 y 4, o\n",
        "  - entre 1 y 5\n",
        " 5. El jugador humano comienza siempre el juego\n",
        " 6. Mostrar el área de juego con los palillos totales\n",
        " 7. Turno del jugador humano:\n",
        "  - Elige el número de palillos a quitar\n",
        "  - Se muestra el área de juego sin esos palillos\n",
        "  - Se cambia el turno\n",
        " 8. Turno de la máquina\n",
        "  - Si el nivel es fácil elige aleatoriamente\n",
        "  - Si el nivel es difícil llama a la IA\n",
        "  - Se muestra el área de juego sin los palillos retirados\n",
        "  - Se cambia el turno\n",
        " 9. Después de cada movimiento se comprueba si no hay más palillos:\n",
        "  - Si es así se comprueba quién cogió el último\n",
        "  - Se muestra el ganador de la partida\n",
        " 10. Si aún hay palillos, se sigue con el turno siguiente"
      ],
      "metadata": {
        "id": "KfZc5GsYwZz-"
      }
    },
    {
      "cell_type": "code",
      "source": [
        "'''Juego de los palillos o de Nim'''\n",
        "import random\n",
        "import time\n",
        "import os\n",
        "\n",
        "def presentacion_1():\n",
        "  '''Mostramos una pantalla de inicio\n",
        "  Se indica el nivel fácil o dificil que elige el usuario'''\n",
        "  print()\n",
        "  print(\"    *****************  JUEGO DE LOS PALILLOS   *****************\")\n",
        "  print()\n",
        "  print()\n",
        "  print(\"          Gana quien toma el último palillo   \")\n",
        "  print()\n",
        "  print()\n",
        "  print(\"             1.   FÁCIL            2. DIFÍCIL\")\n",
        "  print()\n",
        "  print()\n",
        "  print(\"    ************************************************************\")\n",
        "  print()\n",
        "  nivel = \"\"\n",
        "  while nivel != \"1\" and nivel != \"2\":\n",
        "    nivel = input(\"     Elige nivel(1/2): \")\n",
        "  return nivel\n",
        "\n",
        "\n",
        "def presentacion_2(palillos, quitas):\n",
        "  '''Mostramos una segunda pantalla con los datos del juego,\n",
        "  y pedimos al usuario que e enter para empezar.'''\n",
        "  print()\n",
        "  print(\"    *****************  JUEGO DE LOS PALILLOS   *****************\")\n",
        "  print()\n",
        "  print()\n",
        "  print(f\"                      Habrá {palillos} iniciales   \")\n",
        "  print()\n",
        "  print(f\"                 Se pueden quitar entre 1 y {quitas}\")\n",
        "  print()\n",
        "  print(\"                     Empiezas a mover tu\")\n",
        "  print()\n",
        "  print(\"    ************************************************************\")\n",
        "  print()\n",
        "  imput(\"Pulsa Enter para empezar ...\")\n",
        "\n",
        "def sorteo_opciones():\n",
        "  '''Devuelve dos valores aleatorios: Número de palillos iniciales (entre 16 y 23)\n",
        "  y número máximo de palillos a quitar (entre 3 y 5)'''\n",
        "  palillos = random.randint(16, 23)\n",
        "  quitas = random.randint(3, 5)\n",
        "  return palillos, quitas\n",
        "\n",
        "\n",
        "def area_de_juego(palillos, quitas):\n",
        "  '''Muestra los palillos que hay en cada jugada de la partida.'''\n",
        "  print()\n",
        "  print(\"    *****************  JUEGO DE LOS PALILLOS   *****************\")\n",
        "  print()\n",
        "  print()\n",
        "\n",
        "  for fila in range(4):\n",
        "    print(end = \"   \")\n",
        "    for p in range(1, palillos+1):\n",
        "      print(\"|\", end = \"   \")\n",
        "      if p % quitas == 0: # haciendo grupos de 4 palillos, o el nº de quitas que sea\n",
        "        print(end = \" \")  # un espacio más\n",
        "    print()\n",
        "  \n",
        "  print()\n",
        "  print()\n",
        "  print()\n",
        "\n",
        "def movimientos_jugador():\n",
        "  '''Devuelve el número de palillos que el usuario quita en cada jugada'''\n",
        "  \n",
        "\n",
        "\n",
        "\n",
        "\n",
        "\n",
        "def movimiento_ordenador_aleatorio():\n",
        "  '''Devuelve el número aleatorio de palillos a quitar como jugada del ordenador'''\n",
        "  pass\n",
        "\n",
        "def movimiento_ordenador_con_ia():\n",
        "  '''Devuelve el número de palillos a quitar como jugada del ordenador\n",
        "  calculados para que el ordenador gane siempre que pueda'''\n",
        "  pass\n",
        "\n",
        "def mostrar_ganador():\n",
        "  '''Muestra pantalla final con el ganador de la partida: jugador u ordenador'''\n",
        "  pass\n",
        "\n",
        "##########  Programa principal  #############\n",
        "\n",
        "# Flujo del programa\n",
        "\n"
      ],
      "metadata": {
        "id": "ZIBdcmeI0xar"
      },
      "execution_count": null,
      "outputs": []
    }
  ]
}