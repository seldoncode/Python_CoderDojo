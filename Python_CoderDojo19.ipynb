{
  "nbformat": 4,
  "nbformat_minor": 0,
  "metadata": {
    "colab": {
      "name": "Python_CoderDojo19.ipynb",
      "provenance": [],
      "authorship_tag": "ABX9TyMlTg1lrTy6v5iH+rwpAxpA",
      "include_colab_link": true
    },
    "kernelspec": {
      "name": "python3",
      "display_name": "Python 3"
    },
    "language_info": {
      "name": "python"
    }
  },
  "cells": [
    {
      "cell_type": "markdown",
      "metadata": {
        "id": "view-in-github",
        "colab_type": "text"
      },
      "source": [
        "<a href=\"https://colab.research.google.com/github/seldoncode/Python_CoderDojo/blob/main/Python_CoderDojo19.ipynb\" target=\"_parent\"><img src=\"https://colab.research.google.com/assets/colab-badge.svg\" alt=\"Open In Colab\"/></a>"
      ]
    },
    {
      "cell_type": "markdown",
      "source": [
        "# Juegos con Inteligencia artificial"
      ],
      "metadata": {
        "id": "Zbk70VkEwVCI"
      }
    },
    {
      "cell_type": "markdown",
      "source": [
        "### Juego de los palillos\n",
        "* El [NIM](https://es.wikipedia.org/wiki/Nimrod_(videojuego)) es el precursor de los videojuegos, contruido en 1951.\n",
        "* El juego de los palillos también conocido como \"el juego de la última piedra\"\n",
        "* Dados unos palillos o piedras iniciales, por ejemplo entre 16 y 23\n",
        "* Dos jugadores (persona y máquina) quitan por turnos 1 o 2 o 3 palillos\n",
        "* Comienza quitando el humano\n",
        "* El último que quite pierde\n",
        "\n",
        "Fases del juego:\n",
        " 1. Presentación del juego\n",
        " 2. Elección por el usuario de nivel (fácil / difícil)\n",
        " 3. Elección aleatoria de palillos iniciales (entre 16 y 23)\n",
        " 4. Elección aleatoria de palillos quitados:\n",
        "  - entre 1 y 3, o\n",
        "  - entre 1 y 4, o\n",
        "  - entre 1 y 5\n",
        " 5. El jugador humano comienza siempre el juego\n",
        " 6. Mostrar el área de juego con los palillos totales\n",
        " 7. Turno del jugador humano:\n",
        "  - Elige el número de palillos a quitar\n",
        "  - Se muestra el área de juego sin esos palillos\n",
        "  - Se cambia el turno\n",
        " 8. Turno de la máquina\n",
        "  - Si el nivel es fácil elige aleatoriamente\n",
        "  - Si el nivel es difícil llama a la IA\n",
        "  - Se muestra el área de juego sin los palillos retirados\n",
        "  - Se cambia el turno\n",
        " 9. Después de cada movimiento se comprueba si no hay más palillos:\n",
        "  - Si es así se comprueba quién cogió el último\n",
        "  - Se muestra el ganador de la partida\n",
        " 10. Si aún hay palillos, se sigue con el turno siguiente"
      ],
      "metadata": {
        "id": "KfZc5GsYwZz-"
      }
    },
    {
      "cell_type": "code",
      "source": [
        ""
      ],
      "metadata": {
        "id": "ZIBdcmeI0xar"
      },
      "execution_count": null,
      "outputs": []
    }
  ]
}