{
  "nbformat": 4,
  "nbformat_minor": 0,
  "metadata": {
    "colab": {
      "name": "Python_CoderDojo01.ipynb",
      "provenance": [],
      "collapsed_sections": [],
      "authorship_tag": "ABX9TyMxXwlG2Bf0Z33+qCD7x7Hv"
    },
    "kernelspec": {
      "name": "python3",
      "display_name": "Python 3"
    },
    "language_info": {
      "name": "python"
    }
  },
  "cells": [
    {
      "cell_type": "markdown",
      "metadata": {
        "id": "y4o6ZMAqhnrs"
      },
      "source": [
        "# Presentación de Python\n",
        "* El logo es una serpiente\n",
        "* El creador es un holandés: [Guido van Rossum](https://es.wikipedia.org/wiki/Guido_van_Rossum)\n",
        "* Lenguje de programación interpretado"
      ]
    },
    {
      "cell_type": "code",
      "metadata": {
        "id": "J2nLk8ZPhl6L"
      },
      "source": [
        "print(\"Hola mundo\")"
      ],
      "execution_count": null,
      "outputs": []
    },
    {
      "cell_type": "markdown",
      "metadata": {
        "id": "tk4ggCkhnSF3"
      },
      "source": [
        "# Operaciones aritméticas\n",
        "* \\+ Suma\n",
        "* \\- Resta\n",
        "* \\* Multiplicación\n",
        "* \\/ División\n",
        "* \\// División entera\n",
        "* \\% Resto o módulo"
      ]
    },
    {
      "cell_type": "code",
      "metadata": {
        "id": "he_FAn2OoXmE"
      },
      "source": [
        "print(2+3)\n",
        "print(2-3)\n",
        "print(2*3)\n",
        "print(28/5)\n",
        "print(28//5)   # la división entera trunca decimales, no redondea\n",
        "print(28%5)    # 25%5=0  26%5=1 27%5=2  28%5=3"
      ],
      "execution_count": null,
      "outputs": []
    },
    {
      "cell_type": "markdown",
      "metadata": {
        "id": "MN55WTwlsd6S"
      },
      "source": [
        "### Reto 1.1. Precedencia en las operaciones\n",
        "Calcular:\n",
        "* 5 - 2 * 4\n",
        "* 10 - 8 / 2 + 1 * 2\n",
        "* (10 - 8) / 2 + 1 * 2\n",
        "* 10 - 8 / (2 + 1) * 2"
      ]
    },
    {
      "cell_type": "markdown",
      "metadata": {
        "id": "5U6K_xOoud40"
      },
      "source": [
        "### Reto 1.2. De billetes a euros\n",
        "Tengo cuatro billestes de diez euros y me dan dos billetes de veinte euros. Además me encuentro tres monedas de dos euros.  \n",
        "Al final ¿cuantos euros tengo?"
      ]
    },
    {
      "cell_type": "markdown",
      "metadata": {
        "id": "q_PSxi8Hwwdb"
      },
      "source": [
        "### Reto 1.3. Repartir caramelos en el cumpleaños\n",
        "Ana ha comprado una bolsa de 100 caramelos para repartir entre los 23 alumnos de su clase, incluida ella. Tiene la intención de dar a todos el mismo número de caramelso, incluida a ella misma y si sobran traer alguno a su hermano pequeño.  \n",
        "* ¿cuantos caramelos comío Ana?\n",
        "* ¿cuantos caramelos le correspondían al hermano?\n",
        "* A Ana le pareció un poco injusto que su hermano pudiera llegar a comer más caramelso que ella, así que le convención para que le diera algún caramelo de forma que al final ambos comieran los mismos ¿cuantos caramelos la dió su hermano?"
      ]
    },
    {
      "cell_type": "markdown",
      "metadata": {
        "id": "B04NLJ-11d7R"
      },
      "source": [
        "# Operadores de comparación\n",
        "* \\== Igual que\n",
        "* \\!= Distinto que\n",
        "* \\< Menor que\n",
        "* \\<= Menor o igual que\n",
        "* \\> Mayor que\n",
        "* \\>= Mayor o igual que\n",
        "\n"
      ]
    },
    {
      "cell_type": "code",
      "metadata": {
        "id": "u2vV_KET1dC4"
      },
      "source": [
        "print(3 == 3)       # True\n",
        "print(3 != 5)       # True\n",
        "print(4 > 3+7)      # False\n",
        "print(6 != 3*2)     # False"
      ],
      "execution_count": null,
      "outputs": []
    },
    {
      "cell_type": "code",
      "metadata": {
        "id": "20aRuzqm3u4x"
      },
      "source": [
        "3 = 3          # da error"
      ],
      "execution_count": null,
      "outputs": []
    },
    {
      "cell_type": "code",
      "metadata": {
        "id": "8rO5aWKK4NHk"
      },
      "source": [
        "4 < = 5        # da error"
      ],
      "execution_count": null,
      "outputs": []
    },
    {
      "cell_type": "markdown",
      "metadata": {
        "id": "FK5axC4O5bRq"
      },
      "source": [
        "### Reto 1.4. Compara valores\n",
        "1. Ver si son verdaderas o falsas las siguientes comparaciones.\n",
        " * Dos más tres es menor que doce entre cuatro\n",
        " * Menos uno por True es igual a False menos True\n",
        "2. ¿Por qué la siguiente expresión da error? y ¿cómo arreglarías el error?\n",
        " * (2<4) = (3>1)\n"
      ]
    },
    {
      "cell_type": "markdown",
      "metadata": {
        "id": "5lb--cYA9cwu"
      },
      "source": [
        "# Operadores lógicos\n",
        "* and\n",
        "* or\n",
        "* not"
      ]
    },
    {
      "cell_type": "markdown",
      "metadata": {
        "id": "FC1Dr_CI9qsM"
      },
      "source": [
        "## Operador ```not```\n",
        "Convierte lo verdadero en falso y lo falso en verdadero."
      ]
    },
    {
      "cell_type": "code",
      "metadata": {
        "colab": {
          "base_uri": "https://localhost:8080/"
        },
        "id": "OwkJdJc39b29",
        "outputId": "ccb2eff4-5ff3-4933-ab1c-d749efa179e7"
      },
      "source": [
        "print(not(2>3))      # True\n",
        "print(not(4!=5))     # False"
      ],
      "execution_count": 14,
      "outputs": [
        {
          "output_type": "stream",
          "name": "stdout",
          "text": [
            "True\n",
            "False\n"
          ]
        }
      ]
    },
    {
      "cell_type": "code",
      "metadata": {
        "colab": {
          "base_uri": "https://localhost:8080/"
        },
        "id": "b2mBodGbHTK1",
        "outputId": "b569ca62-109c-44bd-8827-0d8f030f1875"
      },
      "source": [
        "print(not(False))    # True\n",
        "print(not(True))     # False"
      ],
      "execution_count": 13,
      "outputs": [
        {
          "output_type": "stream",
          "name": "stdout",
          "text": [
            "True\n",
            "False\n"
          ]
        }
      ]
    },
    {
      "cell_type": "markdown",
      "metadata": {
        "id": "RS1KfTXv-pI3"
      },
      "source": [
        "## Operador ```and```\n",
        "* True and True es igual a True\n",
        "* True and False es igual a False\n",
        "* False and False es igual a False"
      ]
    },
    {
      "cell_type": "code",
      "metadata": {
        "colab": {
          "base_uri": "https://localhost:8080/"
        },
        "id": "4r-rgQSy_xvw",
        "outputId": "74051d50-4cd1-4f33-a816-bf5c40159baf"
      },
      "source": [
        "print((1<2) and (2<3))               # True, para que sea True todas las condiciones tienen que ser True\n",
        "print((1<2) and (2>3))               # False\n",
        "print((1>2) and (2<3))               # False\n",
        "print((1>2) and (2>3))               # False\n",
        "print((1<2) and (2<3) and (4==5))    # False, en cuanto una sea False el resultado es False"
      ],
      "execution_count": 18,
      "outputs": [
        {
          "output_type": "stream",
          "name": "stdout",
          "text": [
            "True\n",
            "False\n",
            "False\n",
            "False\n",
            "False\n"
          ]
        }
      ]
    },
    {
      "cell_type": "code",
      "metadata": {
        "colab": {
          "base_uri": "https://localhost:8080/"
        },
        "id": "5SFC_8KNDIvm",
        "outputId": "6e8dfbc4-fe75-412c-ae9d-c7807e9ba035"
      },
      "source": [
        "print(True and True)                 # True, para que sea True todas las condiciones tienen que ser True\n",
        "print(True and False)                # False\n",
        "print(False and True)                # False\n",
        "print(False and False)               # False\n",
        "print(True and True and False)       # False, en cuanto una sea False el resultado es False"
      ],
      "execution_count": 17,
      "outputs": [
        {
          "output_type": "stream",
          "name": "stdout",
          "text": [
            "True\n",
            "False\n",
            "False\n",
            "False\n",
            "False\n"
          ]
        }
      ]
    },
    {
      "cell_type": "markdown",
      "metadata": {
        "id": "z0Jftomr_h3n"
      },
      "source": [
        "## Operador ```or```\n",
        "* True and True es igual a True\n",
        "* True and False es igual a True\n",
        "* False and False es igual a False"
      ]
    },
    {
      "cell_type": "code",
      "metadata": {
        "colab": {
          "base_uri": "https://localhost:8080/"
        },
        "id": "G0Bv4b_VBVqr",
        "outputId": "e8743a26-fc0e-4c8e-99f2-bdf9d4b179da"
      },
      "source": [
        "print((1<2) or (2<3))               # True\n",
        "print((1<2) or (2>3))               # True\n",
        "print((1>2) or (2<3))               # True\n",
        "print((1>2) or (2>3))               # False, solo se obtiene False si todas las condiciones son False\n",
        "print((1<2) or (2<3) or (4==5))     # True, en cuanto una sea True el resultado es True"
      ],
      "execution_count": 8,
      "outputs": [
        {
          "output_type": "stream",
          "name": "stdout",
          "text": [
            "True\n",
            "True\n",
            "False\n",
            "True\n"
          ]
        }
      ]
    },
    {
      "cell_type": "code",
      "metadata": {
        "colab": {
          "base_uri": "https://localhost:8080/"
        },
        "id": "e6LScAZ6CMWq",
        "outputId": "69be86bc-91db-497b-c775-01334c14d17d"
      },
      "source": [
        "print(True or True)                # True\n",
        "print(True or False)               # True\n",
        "print(False or True)               # True\n",
        "print(True or False)               # False, solo se obtiene False si todas las condiciones son False\n",
        "print(True or True or False)       # True, en cuanto una sea True el resultado es True"
      ],
      "execution_count": 11,
      "outputs": [
        {
          "output_type": "stream",
          "name": "stdout",
          "text": [
            "True\n",
            "True\n",
            "True\n",
            "True\n"
          ]
        }
      ]
    },
    {
      "cell_type": "markdown",
      "metadata": {
        "id": "JlfsvIs1F3Zm"
      },
      "source": [
        "## Varios operadores\n",
        "Podemos combiar operadores."
      ]
    },
    {
      "cell_type": "code",
      "metadata": {
        "colab": {
          "base_uri": "https://localhost:8080/"
        },
        "id": "acbRQmmsGDIs",
        "outputId": "b79f1a13-c627-45a4-cc61-30c4cc0e5c4f"
      },
      "source": [
        "print((True and True) or False)                  # True\n",
        "print((True or True) and not(True and False))    # True"
      ],
      "execution_count": 12,
      "outputs": [
        {
          "output_type": "stream",
          "name": "stdout",
          "text": [
            "True\n",
            "True\n"
          ]
        }
      ]
    },
    {
      "cell_type": "markdown",
      "metadata": {
        "id": "gq6yE_WaKwmM"
      },
      "source": [
        "### Reto 1.5. Adivina si es Verdadero o Falso\n",
        "Intenta averiguar si el resultado es True o False antes de ejecutarlo.\n",
        "* 2+3==6 or 3!=9/3\n",
        "* not 2+2==4\n",
        "* not((not(6<=2))*True)\n",
        "* 2*4!=7 or (9%3+True) "
      ]
    },
    {
      "cell_type": "markdown",
      "metadata": {
        "id": "qghbeDDQDnt-"
      },
      "source": [
        "### Reto 1.6. Compara condicones lógicas\n",
        "A tres amigos, Ana, Borja y Claudia, solo les dejan ir a la piscina municipal si sus familias les dejan ir a todos ellos.\n",
        "- Para que Ana logre ir a la piscina la tienen que dar permiso su padre y su madre.\n",
        "- Para que a Borja le dejen ir a la piscina le tiene que dar permiso su padre o su madre.\n",
        "- Para que a Claudia la dejer ir a la piscina la tiene que dar permiso su madre o preguntar a su dos hermanos mayores y ambos la tiene que dar permiso.\n",
        "\n",
        "Pregunta: ¿Conseguirán ir los tres amigos a la piscina?\n",
        "Montar unos cuantos casos para ver que sucederá."
      ]
    }
  ]
}