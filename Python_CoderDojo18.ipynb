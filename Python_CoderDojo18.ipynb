{
  "cells": [
    {
      "cell_type": "markdown",
      "metadata": {
        "id": "view-in-github",
        "colab_type": "text"
      },
      "source": [
        "<a href=\"https://colab.research.google.com/github/seldoncode/Python_CoderDojo/blob/main/Python_CoderDojo18.ipynb\" target=\"_parent\"><img src=\"https://colab.research.google.com/assets/colab-badge.svg\" alt=\"Open In Colab\"/></a>"
      ]
    },
    {
      "cell_type": "markdown",
      "metadata": {
        "id": "DqZZhK2KcDey"
      },
      "source": [
        "# Matemáticas"
      ]
    },
    {
      "cell_type": "markdown",
      "metadata": {
        "id": "llPJQWpucQoe"
      },
      "source": [
        "### Valor absoluto\n",
        "Valor positivo independientemente de su signo."
      ]
    },
    {
      "cell_type": "code",
      "execution_count": null,
      "metadata": {
        "colab": {
          "base_uri": "https://localhost:8080/"
        },
        "id": "l3Gw-gDxcWYm",
        "outputId": "ab3a87ec-4db2-434d-a9ab-e7813a0b8b6f"
      },
      "outputs": [
        {
          "name": "stdout",
          "output_type": "stream",
          "text": [
            "5\n",
            "5\n"
          ]
        }
      ],
      "source": [
        "x = -5\n",
        "print(abs(x))\n",
        "\n",
        "def valor_absoluto(x):\n",
        "  if x<0:\n",
        "    x = -x\n",
        "  return x\n",
        "\n",
        "print(valor_absoluto(x))"
      ]
    },
    {
      "cell_type": "markdown",
      "metadata": {
        "id": "XvGMylDodauf"
      },
      "source": [
        "### Potencia de un número"
      ]
    },
    {
      "cell_type": "code",
      "execution_count": null,
      "metadata": {
        "colab": {
          "base_uri": "https://localhost:8080/"
        },
        "id": "4E-XNKMzdoNX",
        "outputId": "82762b32-5592-4b95-8abd-783731577b9b"
      },
      "outputs": [
        {
          "name": "stdout",
          "output_type": "stream",
          "text": [
            "32\n",
            "32\n"
          ]
        },
        {
          "data": {
            "text/plain": [
              "32"
            ]
          },
          "execution_count": 9,
          "metadata": {},
          "output_type": "execute_result"
        }
      ],
      "source": [
        "x = 2\n",
        "y = 5\n",
        "print(x**y)\n",
        "print(pow(x,y))\n",
        "\n",
        "def potencia(x,y):    # y tiene que ser un número entero\n",
        "  resultado = 1\n",
        "  for i in range(y):\n",
        "    resultado *= x\n",
        "  return resultado\n",
        "\n",
        "potencia(x,y)"
      ]
    },
    {
      "cell_type": "markdown",
      "metadata": {
        "id": "7qRdwhY-fFIe"
      },
      "source": [
        "### Raiz cuadrada"
      ]
    },
    {
      "cell_type": "markdown",
      "metadata": {
        "id": "U7cJwu1o2PlS"
      },
      "source": [
        "#### Método 1\n",
        "* Método muy poco eficiente.\n",
        "* Admite un error grande, o si queremos que el error admitido sea menor, el tiempo de cálculo será muy grande."
      ]
    },
    {
      "cell_type": "code",
      "execution_count": null,
      "metadata": {
        "colab": {
          "base_uri": "https://localhost:8080/"
        },
        "id": "Kx4VNagQ9Mid",
        "outputId": "8f1e2685-fb52-4e65-c6c1-e27335ec2f0c"
      },
      "outputs": [
        {
          "name": "stdout",
          "output_type": "stream",
          "text": [
            "1414.213562373095\n",
            "1414.213562373095\n",
            "1414.2139999734702\n"
          ]
        }
      ],
      "source": [
        "import math\n",
        "a = 81\n",
        "print(a**.5)           # elevando a (1/2)\n",
        "print(math.sqrt(a))    # con la librería math usando la función sqrt\n",
        "\n",
        "def raiz1(n):\n",
        "  x = 0\n",
        "  while x * x <= n:    # buscamos un número (x) que multiplicado por si mismo de el número buscado (n)\n",
        "    x += 0.001\n",
        "  return x\n",
        "\n",
        "print(raiz1(a))"
      ]
    },
    {
      "cell_type": "markdown",
      "metadata": {
        "id": "ww6hz2Z5862_"
      },
      "source": [
        "#### Método 2\n",
        "Método babilónico"
      ]
    },
    {
      "cell_type": "code",
      "execution_count": null,
      "metadata": {
        "colab": {
          "base_uri": "https://localhost:8080/"
        },
        "id": "DnMWlkXd5mDH",
        "outputId": "40d9d1d5-2c52-4d24-b04d-1acd7103389e"
      },
      "outputs": [
        {
          "name": "stdout",
          "output_type": "stream",
          "text": [
            "1414.213562373095\n",
            "1414.213562373095\n",
            "1414.213562373095\n"
          ]
        }
      ],
      "source": [
        "import math\n",
        "x = 2_000_000       # tiene que ser no negativo\n",
        "print(x**.5)\n",
        "print(math.sqrt(x))\n",
        "\n",
        "def raiz2(x):\n",
        "  b = 1             # base del rectángulo\n",
        "  h = x / b         # altura del rectángulo\n",
        "  if x<1: b,h=h,b   # para que conveja el caso en que x<1\n",
        "  while True:       # deseamos que b y h coincidan para que el rectángulo sea un cuadrado\n",
        "    med = (b+h)/2   # media\n",
        "    if abs(med*med - x) < 1e-9:\n",
        "      return med\n",
        "    elif med*med -x < 0:\n",
        "      b = med\n",
        "    else:\n",
        "      h = med\n",
        "\n",
        "print(raiz2(x))"
      ]
    },
    {
      "cell_type": "markdown",
      "metadata": {
        "id": "BtQ9ubkE2xV-"
      },
      "source": [
        "#### Método 3\n",
        "* Es una variante del método anterior.\n",
        "* En lugar de usar una cierta tolerancia o error admitido para salir del bucle y terminar el cálculo, lo que hacemos es aprovecharnos de que los cálculos con coma flotante llega un momento en que ya no admiten más precisión y que la media se estanca y no mejora en precisión.\n",
        "* Cuando vemos que la media se ha estancado es cuando finaliza el bucle\n",
        "* Sabemos que la media se ha estancado porque tomamos su valor de la iteración anterior con la variable old y la comparamos con la nueva media med.\n",
        "* Cuando ambas son iguales se acaba el bucle.\n",
        "* Cuando ```med == old```"
      ]
    },
    {
      "cell_type": "code",
      "execution_count": null,
      "metadata": {
        "colab": {
          "base_uri": "https://localhost:8080/"
        },
        "id": "WCrMseLUIpkU",
        "outputId": "f50365a3-dd0c-4ec2-b4c3-80c2f1949ad5"
      },
      "outputs": [
        {
          "name": "stdout",
          "output_type": "stream",
          "text": [
            "1414.213562373095\n",
            "1414.213562373095\n",
            "1414.213562373095\n"
          ]
        }
      ],
      "source": [
        "import math\n",
        "x = 2_000_000\n",
        "print(x**.5)\n",
        "print(math.sqrt(x))\n",
        "\n",
        "def raiz3(x):\n",
        "  b = 1\n",
        "  h = x / b\n",
        "  if x < 1:\n",
        "    b, h = h, b\n",
        "  med = None\n",
        "  while True:\n",
        "    old = med      # old es el valor de la media de la anterior iteración\n",
        "    med = (b+h)/2  # en esta nueva iteración se recalcula el valor de la media\n",
        "    if med == old: # se termina cuando la media se estanca\n",
        "      return med\n",
        "    elif med*med -x < 0:\n",
        "      b = med\n",
        "    else:\n",
        "      h = med\n",
        "\n",
        "print(raiz3(x))"
      ]
    },
    {
      "cell_type": "markdown",
      "metadata": {
        "id": "mcuynohBPLY4"
      },
      "source": [
        "#### Método 4\n",
        "* Deseamos calcular la raiz cuadrada de x\n",
        "* Buscamos un infimo (inf) suficientemente bajo, con el que estemos seguros de que su cuadrado es menor que x\n",
        "* Buscamos un supremo (sup) suficientemente alto, con el que estemos seguros de que su cuadrado es mayor que x\n",
        "* Si el infimo (inf) no es suficientemente bajo nos metemos en un bucle para hacer mitades hasta que se cumpla que su cuadrado es menor o igual que x\n",
        "* Si el supremo (sup) no es suficientemente alto nos metemos en un bucle para hacer dobles hasta que se cumpla que su cuadrado es mayor o igual que x"
      ]
    },
    {
      "cell_type": "code",
      "execution_count": null,
      "metadata": {
        "colab": {
          "base_uri": "https://localhost:8080/"
        },
        "id": "GplQDqYNfI0B",
        "outputId": "3dc34d41-4874-46f0-bbf2-c3132e07e86d"
      },
      "outputs": [
        {
          "name": "stdout",
          "output_type": "stream",
          "text": [
            "1414.213562373095\n",
            "1414.213562373095\n",
            "1414.2135623730953\n"
          ]
        }
      ],
      "source": [
        "import math\n",
        "x = 2_000_000\n",
        "print(x**.5)\n",
        "print(math.sqrt(x))\n",
        "\n",
        "def raiz4(x):\n",
        "  tolerancia = 1e-9\n",
        "  inf = 1   # infimo\n",
        "  sup = 100 # supremo\n",
        "  while inf*inf > x:  # nos aseguramos que el inf es suficientemente bajo\n",
        "    inf /= 2\n",
        "  while sup*sup < x:  # nos aseguramos que el sup es suficientemente alto\n",
        "    sup *= 2\n",
        "  while True:\n",
        "    med = (inf+sup)/2   # media\n",
        "    dif_med = med*med-x # diferencia entre x y la media al cuadrado\n",
        "    if abs(dif_med) < tolerancia:\n",
        "      break\n",
        "    if dif_med > 0:\n",
        "      sup = med\n",
        "    else:\n",
        "      inf = med\n",
        "  return med\n",
        "\n",
        "print(raiz4(x))"
      ]
    },
    {
      "cell_type": "markdown",
      "metadata": {
        "id": "5y21dAQ_8NZt"
      },
      "source": [
        "### Factorial\n",
        "* El factorial de 5 es:\n",
        " - 5! = 5 * 4 * 3 * 2 * 1 = 120\n",
        "* El factorial de n es:\n",
        " - n! = n * (n-1) * (n-2) * ···· * 1"
      ]
    },
    {
      "cell_type": "markdown",
      "metadata": {
        "id": "wjHIaF4Z8oF5"
      },
      "source": [
        "#### Método 1\n",
        "Usando una librería."
      ]
    },
    {
      "cell_type": "code",
      "execution_count": null,
      "metadata": {
        "colab": {
          "base_uri": "https://localhost:8080/"
        },
        "id": "xBqqKud_8uUw",
        "outputId": "ea64b1f5-df30-4f4d-d398-a74c952bd48b"
      },
      "outputs": [
        {
          "name": "stdout",
          "output_type": "stream",
          "text": [
            "120\n",
            "1\n"
          ]
        }
      ],
      "source": [
        "import math\n",
        "print(math.factorial(5))\n",
        "print(math.factorial(0))  # por definición, el factorial de cero es uno"
      ]
    },
    {
      "cell_type": "markdown",
      "metadata": {
        "id": "j2FtttPj9hdt"
      },
      "source": [
        "#### Método 2\n",
        "Programando nuestra propia función factorial."
      ]
    },
    {
      "cell_type": "code",
      "execution_count": null,
      "metadata": {
        "colab": {
          "base_uri": "https://localhost:8080/"
        },
        "id": "Ex1jutc39nD2",
        "outputId": "8bce961c-942a-411a-f528-f2889fa5aab0"
      },
      "outputs": [
        {
          "name": "stdout",
          "output_type": "stream",
          "text": [
            "120\n",
            "1\n"
          ]
        }
      ],
      "source": [
        "def fac(n):\n",
        "  f = 1\n",
        "  for i in range(1,n+1):\n",
        "    f *= i\n",
        "  return f\n",
        "\n",
        "print(fac(5))\n",
        "print(fac(0))"
      ]
    },
    {
      "cell_type": "markdown",
      "metadata": {
        "id": "rNVWfBA_L209"
      },
      "source": [
        "### Combinaciones sin repetición\n",
        "* Calcular el número de combinaciones sin repetición de m elementos tomados de n en n.\n",
        "* Requiere calcular el factorial."
      ]
    },
    {
      "cell_type": "markdown",
      "metadata": {
        "id": "Rf9oMzyOODWO"
      },
      "source": [
        "#### Método 1\n",
        "$$C^n_m=\\frac{m!}{n!*(m-n)!}$$"
      ]
    },
    {
      "cell_type": "code",
      "execution_count": null,
      "metadata": {
        "colab": {
          "base_uri": "https://localhost:8080/"
        },
        "id": "qqI-MYCSMHcp",
        "outputId": "f2d73c90-eabf-4415-cbc4-5757a91682c9"
      },
      "outputs": [
        {
          "name": "stdout",
          "output_type": "stream",
          "text": [
            "56.0\n"
          ]
        }
      ],
      "source": [
        "from math import factorial\n",
        "def combinaciones_sin_repeticion(m,n):\n",
        "  if m<n:\n",
        "    return 0\n",
        "  else:\n",
        "    comb = factorial(m) / (factorial(n) * factorial(m-n))\n",
        "    return comb\n",
        "\n",
        "print(combinaciones_sin_repeticion(8,3))"
      ]
    },
    {
      "cell_type": "markdown",
      "metadata": {
        "id": "4OJn-4scOH57"
      },
      "source": [
        "#### Método 2\n",
        "* Podemos simplificar la expresión para no realizar tantos cálculos.\n",
        "\n",
        "\n",
        "$$C^8_3 = \\frac{8!}{3!*(8-3)!} = \\frac{8!}{3!*5!} = \\frac{8·7·6·5!}{3!*5!} = \\frac{8·7·6}{3·2·1} = 56$$"
      ]
    },
    {
      "cell_type": "code",
      "execution_count": null,
      "metadata": {
        "colab": {
          "base_uri": "https://localhost:8080/"
        },
        "id": "LAejyp5FQ2l9",
        "outputId": "745efb40-db50-4667-b051-6ea7c39c8ec3"
      },
      "outputs": [
        {
          "name": "stdout",
          "output_type": "stream",
          "text": [
            "56.0\n",
            "56.0\n"
          ]
        }
      ],
      "source": [
        "from math import factorial\n",
        "\n",
        "def combina_sin_rep(m,n):\n",
        "  if m<n:\n",
        "    return 0\n",
        "  else:\n",
        "    numerador = denominador = 1\n",
        "    for i in range(m,m-n,-1):\n",
        "      numerador *= i\n",
        "      denominador *= i-(m-n)\n",
        "    return numerador / denominador\n",
        "\n",
        "print(combina_sin_rep(8,3))\n",
        "print(factorial(8) / (factorial(3) * factorial(8-3)))"
      ]
    },
    {
      "cell_type": "markdown",
      "metadata": {
        "id": "7z3zeILfgRn5"
      },
      "source": [
        "### Números primos\n",
        "#### Ver si un número es primo"
      ]
    },
    {
      "cell_type": "markdown",
      "source": [
        "# Método 1\n",
        "Medimos tiempos en este algoritmo sin optimizar."
      ],
      "metadata": {
        "id": "Mu5muyl52TBs"
      }
    },
    {
      "cell_type": "code",
      "execution_count": null,
      "metadata": {
        "colab": {
          "base_uri": "https://localhost:8080/"
        },
        "id": "9euO4G_hjcaP",
        "outputId": "186b9a4b-41a4-45f5-f81a-cdc43a38a1a5"
      },
      "outputs": [
        {
          "output_type": "stream",
          "name": "stdout",
          "text": [
            "True\n",
            "True\n",
            "170.44832563400269 segundos\n"
          ]
        }
      ],
      "source": [
        "from sympy import isprime\n",
        "from time import time\n",
        "\n",
        "def es_primo(n):\n",
        "  if n<2: return False  # para el caso en que sea n=1\n",
        "  for i in range(2,n):\n",
        "    if n%i==0:\n",
        "      return False\n",
        "  return True\n",
        "\n",
        "n = 1234567891\n",
        "\n",
        "t0 = time()\n",
        "print(es_primo(n))\n",
        "t1 = time()\n",
        "print(isprime(n))\n",
        "print(t1-t0, \"segundos\")"
      ]
    },
    {
      "cell_type": "markdown",
      "source": [
        "# Método 2\n",
        "Algoritmo optimizado:\n",
        " -  buscamos divisores hasta la raiz cuadrada del número analizado\n",
        " - solo los impares"
      ],
      "metadata": {
        "id": "5xcYX8FU2b1-"
      }
    },
    {
      "cell_type": "code",
      "execution_count": null,
      "metadata": {
        "colab": {
          "base_uri": "https://localhost:8080/"
        },
        "id": "G8RpZ0KTgU3g",
        "outputId": "1d032758-4ca1-4150-9b92-95701bd1a867"
      },
      "outputs": [
        {
          "output_type": "stream",
          "name": "stdout",
          "text": [
            "True\n",
            "True\n",
            "0.0044820308685302734 segundos\n"
          ]
        }
      ],
      "source": [
        "from sympy import isprime\n",
        "from math import sqrt\n",
        "from time import time\n",
        "\n",
        "def es_primo(n):  # n tiene que ser un entero mayor que 1\n",
        "  if n == 2: return True # si n es 2 es primo\n",
        "  elif n%2==0: return False # si n!=2 es par, entonces no es primo \n",
        "  for i in range(3,int(sqrt(n)+1),2):\n",
        "    if n%i == 0:\n",
        "      return False\n",
        "  return True\n",
        "\n",
        "n = 1234567891\n",
        "\n",
        "t0 = time()\n",
        "print(es_primo(n))\n",
        "t1 = time()\n",
        "print(isprime(n))\n",
        "print(t1-t0, \"segundos\")"
      ]
    },
    {
      "cell_type": "markdown",
      "source": [
        "#### Encontrar todos los primos en un rango\n",
        "* Crear una función que proporcione todos los números primos que existen en un rango.\n",
        "* El usuario nos proporciona el número menos y el mayor del rango y se pasan como parámetros a la función"
      ],
      "metadata": {
        "id": "wtvUhGIEL2De"
      }
    },
    {
      "cell_type": "markdown",
      "source": [
        "#### Método 1"
      ],
      "metadata": {
        "id": "5gTvmM_CcLle"
      }
    },
    {
      "cell_type": "code",
      "source": [
        "def encontrar_primos(a, b):\n",
        "  lista = []\n",
        "  for n in range(a, b+1):\n",
        "    contador = 0\n",
        "    for i in range(1, n+1):\n",
        "      if n%i == 0:\n",
        "        contador += 1\n",
        "    if contador == 2: # Un primo solo es divisible entre 1 y él mismo\n",
        "      lista.append(n)\n",
        "  return lista\n",
        "\n",
        "a = int(input(\"Número inicial: \") or 1)\n",
        "b = int(input(\"Número final: \") or 101)\n",
        "print(encontrar_primos(a,b))"
      ],
      "metadata": {
        "colab": {
          "base_uri": "https://localhost:8080/"
        },
        "id": "iQx8aS6_cOcm",
        "outputId": "d42f8577-6656-480e-ea1c-2ced691ab7f6"
      },
      "execution_count": null,
      "outputs": [
        {
          "output_type": "stream",
          "name": "stdout",
          "text": [
            "Número inicial: \n",
            "Número final: \n",
            "[2, 3, 5, 7, 11, 13, 17, 19, 23, 29, 31, 37, 41, 43, 47, 53, 59, 61, 67, 71, 73, 79, 83, 89, 97, 101]\n"
          ]
        }
      ]
    },
    {
      "cell_type": "markdown",
      "source": [
        "#### Método 2\n",
        "* Eliminamos tener que dividir entre 1 y entre n\n",
        "* Ya no hace falta que el contador sea igual a 2\n",
        "* Eliminamos el contador y usamos una bandera"
      ],
      "metadata": {
        "id": "GM93H_gLcPTC"
      }
    },
    {
      "cell_type": "code",
      "source": [
        "def encontrar_primos(a, b):\n",
        "  lista = []\n",
        "  if a == 1: # para que no se considere el 1 como primo\n",
        "    a = 2    # el número inicial fuera 1, asi se comiena en 2\n",
        "  for n in range(a, b+1):\n",
        "    primo = True    # bandera, inicialmente consideramos el número como Primo\n",
        "    for i in range(2, n):\n",
        "      if n%i == 0:\n",
        "        primo = False\n",
        "        break\n",
        "    if primo:\n",
        "      lista.append(n)\n",
        "  return lista\n",
        "\n",
        "a = int(input(\"Número inicial: \") or 1)\n",
        "b = int(input(\"Número final: \") or 101)\n",
        "print(encontrar_primos(a,b))"
      ],
      "metadata": {
        "colab": {
          "base_uri": "https://localhost:8080/"
        },
        "id": "MPo34LU2cQvW",
        "outputId": "30288692-c7d7-41de-c9c7-950935fc3dbe"
      },
      "execution_count": null,
      "outputs": [
        {
          "output_type": "stream",
          "name": "stdout",
          "text": [
            "Número inicial: \n",
            "Número final: \n",
            "[2, 3, 5, 7, 11, 13, 17, 19, 23, 29, 31, 37, 41, 43, 47, 53, 59, 61, 67, 71, 73, 79, 83, 89, 97, 101]\n"
          ]
        }
      ]
    },
    {
      "cell_type": "markdown",
      "source": [
        "#### Método 3"
      ],
      "metadata": {
        "id": "dxYBcZgacRAb"
      }
    },
    {
      "cell_type": "code",
      "source": [
        "from math import sqrt\n",
        "\n",
        "def encontrar_primos(a, b):\n",
        "  lista = []\n",
        "  for n in range(a,b+1):\n",
        "    primo = True\n",
        "    if n==2:\n",
        "      lista.append(2)\n",
        "      continue\n",
        "    if n%2==0 or n==1:\n",
        "      continue\n",
        "    for i in range(3,int(sqrt(n))+1,2):\n",
        "      if n%i == 0:\n",
        "        primo = False\n",
        "        break\n",
        "    if primo:\n",
        "      lista.append(n)\n",
        "  return lista  \n",
        "\n",
        "a = int(input(\"Número inicial: \") or 1)\n",
        "b = int(input(\"Número final: \") or 101)\n",
        "print(encontrar_primos(a,b))"
      ],
      "metadata": {
        "colab": {
          "base_uri": "https://localhost:8080/"
        },
        "id": "8jj1sqIkMLTG",
        "outputId": "68238942-7cf2-4446-d5db-d7006d899540"
      },
      "execution_count": null,
      "outputs": [
        {
          "output_type": "stream",
          "name": "stdout",
          "text": [
            "Número inicial: \n",
            "Número final: \n",
            "[2, 3, 5, 7, 11, 13, 17, 19, 23, 29, 31, 37, 41, 43, 47, 53, 59, 61, 67, 71, 73, 79, 83, 89, 97, 101]\n"
          ]
        }
      ]
    },
    {
      "cell_type": "markdown",
      "source": [
        "#### Método 4  For ... break ... else\n",
        "* Ver el uso de ```break``` y de ```else``` en un ```for```\n",
        "* [w3schools](https://www.w3schools.com/python/python_for_loops.asp)\n",
        "* [documentación oficial](https://docs.python.org/3/tutorial/controlflow.html)\n",
        "* Las instrucciones que van con el ```else``` se ejecutan al final del bucle ```for```\n",
        "* El bloque ```else``` NO se ejecutará si el bucle se detiene con una instrucción ```break```.\n",
        "* Si el ciclo se rompe (```break```), el bloque ```else``` no se ejecuta."
      ],
      "metadata": {
        "id": "FY22syrGhWre"
      }
    },
    {
      "cell_type": "code",
      "source": [
        "def encontrar_primos(a, b):\n",
        "  lista = []\n",
        "  for n in range(a, b+1):\n",
        "    for i in range(2, n):\n",
        "      if n % i == 0:\n",
        "        break\n",
        "    else:\n",
        "      lista.append(n)\n",
        "  return lista\n",
        "\n",
        "a = int(input(\"Número inicial: \") or 2) # no empezar en 1\n",
        "b = int(input(\"Número final: \") or 101)\n",
        "print(encontrar_primos(a,b))"
      ],
      "metadata": {
        "colab": {
          "base_uri": "https://localhost:8080/"
        },
        "id": "wfYC4l75iFVi",
        "outputId": "b1899b97-8f5d-446d-849f-9aef013a278c"
      },
      "execution_count": null,
      "outputs": [
        {
          "output_type": "stream",
          "name": "stdout",
          "text": [
            "Número inicial: \n",
            "Número final: \n",
            "[2, 3, 5, 7, 11, 13, 17, 19, 23, 29, 31, 37, 41, 43, 47, 53, 59, 61, 67, 71, 73, 79, 83, 89, 97, 101]\n"
          ]
        }
      ]
    },
    {
      "cell_type": "markdown",
      "source": [
        "# Método 5\n",
        "* Buscando un método eficiente para números grandes"
      ],
      "metadata": {
        "id": "idHxEjDcmg2D"
      }
    },
    {
      "cell_type": "code",
      "source": [
        "def encontrar_primos(a, b):\n",
        "  lista = []\n",
        "  for n in range(a, b+1):\n",
        "    if n==2:\n",
        "      lista.append(2)\n",
        "      continue\n",
        "    if n%2==0 or n==1:\n",
        "      continue\n",
        "    for i in range(3, int(sqrt(n))+1, 2): # solo impares y hasta la raiz cuadrada\n",
        "      if n%i == 0:\n",
        "        break\n",
        "    else:\n",
        "      lista.append(n)\n",
        "  return lista\n",
        "\n",
        "a = int(input(\"Número inicial: \") or 1_000_000_000)\n",
        "b = int(input(\"Número final: \") or 1_000_000_100)\n",
        "print(encontrar_primos(a,b))"
      ],
      "metadata": {
        "colab": {
          "base_uri": "https://localhost:8080/"
        },
        "id": "Itr5P7vXmrOe",
        "outputId": "797c511f-6c85-4c6d-e0de-b1ec522860b3"
      },
      "execution_count": null,
      "outputs": [
        {
          "output_type": "stream",
          "name": "stdout",
          "text": [
            "Número inicial: \n",
            "Número final: \n",
            "[1000000007, 1000000009, 1000000021, 1000000033, 1000000087, 1000000093, 1000000097]\n"
          ]
        }
      ]
    },
    {
      "cell_type": "markdown",
      "source": [
        "### Descomposición en factores primos\n",
        "* Dado un número realizar la descomposición en factores primos.\n",
        "* Ejemplo:\n",
        " - 33.880   =   2 × 2 × 2 × 5 × 7 × 11 × 11   =   2^3 × 5 × 7 × 11^2\n",
        " - 19800  =  2^3 × 3^2 × 5^2 × 11\n",
        " - 12108  =  2^2 × 3 × 1009\n",
        " - 19800  =  2^3 × 3^2 × 5^2 × 11\n",
        "  - 202 = 2 × 101\n",
        " - 9900000246 = 2 × 3 × 61 × 27049181\n"
      ],
      "metadata": {
        "id": "iw3K7d2PsaY1"
      }
    },
    {
      "cell_type": "markdown",
      "source": [
        "#### Método 1\n",
        "Generamos una lista con todos los factores primos de un número."
      ],
      "metadata": {
        "id": "zZFMfrYyy-bq"
      }
    },
    {
      "cell_type": "code",
      "source": [
        "def descomponer(n):\n",
        "  primos = []\n",
        "  for i in range(2, n+1):\n",
        "    while n % i == 0:\n",
        "      primos.append(i)\n",
        "      n /= i\n",
        "  return primos\n",
        "\n",
        "#print(descomponer(33880))\n",
        "#print(descomponer(19800))\n",
        "#print(descomponer(12108))\n",
        "#print(descomponer(19800))\n",
        "print(descomponer(202))\n",
        "print(descomponer(9900000246))"
      ],
      "metadata": {
        "colab": {
          "base_uri": "https://localhost:8080/"
        },
        "id": "flaKf4pHqL6G",
        "outputId": "49d66f13-13c0-434f-f498-dfb4c895d241"
      },
      "execution_count": 10,
      "outputs": [
        {
          "output_type": "stream",
          "name": "stdout",
          "text": [
            "[2, 101]\n",
            "[2, 3, 61, 27049181]\n"
          ]
        }
      ]
    },
    {
      "cell_type": "markdown",
      "source": [
        "#### Método 3\n",
        "* Intentaremos reducir tiempos de proceso considerando solo los impares mayores de 2\n"
      ],
      "metadata": {
        "id": "dOaz0I8SzZgT"
      }
    },
    {
      "cell_type": "code",
      "source": [
        "#!/bin/python3\n",
        "# Descomposición en factores primos\n",
        "\n",
        "def factoring(n): #descomposición en factores primos\n",
        "  text= str(n) + ' = '\n",
        "  i = 1\n",
        "  for i in range(1, n+1, 2): # impares, hasta el mismo n ya que podría ser primo\n",
        "    if i==1: i=2             # salvo el 1 que será 2\n",
        "    counter = 0\n",
        "    while n % i == 0:\n",
        "      n /= i\n",
        "      counter += 1\n",
        "    if counter == 1:\n",
        "      text += str(i)+ ' × '\n",
        "    elif counter > 1:\n",
        "      text += str(i) + '^' + str (counter) + ' × '\n",
        "  text += '1'\n",
        "  return text\n",
        "\n",
        "if __name__ == \"__main__\":\n",
        "  while True:\n",
        "    try:\n",
        "      n = int(input('Introduzca el número a factorizar: ') or 202)\n",
        "      if 1 < n <= 1e10:\n",
        "        break\n",
        "      else:\n",
        "        print('Por favor, introduzca un número en el rango [2,10_000_000_000]')\n",
        "    except ValueError:\n",
        "      print('Por favor itroduzca un número entero positivo.')\n",
        "\n",
        "  print(factoring(n))"
      ],
      "metadata": {
        "colab": {
          "base_uri": "https://localhost:8080/"
        },
        "id": "F8CPAFdvuEa5",
        "outputId": "21aa1cb1-1b45-49cf-b684-7ef20cb2c436"
      },
      "execution_count": 11,
      "outputs": [
        {
          "output_type": "stream",
          "name": "stdout",
          "text": [
            "Introduzca el número a factorizar: \n",
            "202 = 2 × 101 × 1\n"
          ]
        }
      ]
    },
    {
      "cell_type": "markdown",
      "source": [
        "#### Método 3\n",
        "* Similar al método anterior, pero ahora llegamos en el for solo hasta la mitad (aproximadamente) de los valores anteriores.\n",
        "* Esto es debido a que si n es divisible entre 2 (que es el primer primo), el siguiente n será n/2.\n",
        "* Con ello nos hemos quitado la mitad de los valores de n para evaluar."
      ],
      "metadata": {
        "id": "Sp9DUjT00Ctj"
      }
    },
    {
      "cell_type": "code",
      "source": [
        "#!/bin/python3\n",
        "# Descomposición en factores primos\n",
        "\n",
        "def factoring(n): #descomposición en factores primos\n",
        "  text= str(n) + ' = '\n",
        "  i = 1\n",
        "  for i in range(1, int(n/2)+1, 2):      # impares\n",
        "    if i==1: i=2                         # salvo el 1 que será 2\n",
        "    counter = 0\n",
        "    while n % i == 0:\n",
        "      n /= i\n",
        "      counter += 1\n",
        "    if counter == 1:\n",
        "      text += str(i)+ ' × '\n",
        "    elif counter > 1:\n",
        "      text += str(i) + '^' + str (counter) + ' × '\n",
        "  if text[-2] == \"=\":       # si no hay divisores\n",
        "    text += str(n) + ' × '  # en ese caso el propio n será primo\n",
        "  text += '1'\n",
        "  return text\n",
        "\n",
        "print(factoring(33880))\n",
        "print(factoring(19800))\n",
        "print(factoring(12108))\n",
        "print(factoring(19800))\n",
        "print(factoring(202))\n",
        "print(factoring(9900000246))"
      ],
      "metadata": {
        "colab": {
          "base_uri": "https://localhost:8080/",
          "height": 420
        },
        "id": "DrTHbZ2I0rgs",
        "outputId": "ea3803d6-2eb4-4c96-e82a-4bb667eb4ac7"
      },
      "execution_count": 12,
      "outputs": [
        {
          "output_type": "stream",
          "name": "stdout",
          "text": [
            "33880 = 2^3 × 5 × 7 × 11^2 × 1\n",
            "19800 = 2^3 × 3^2 × 5^2 × 11 × 1\n",
            "12108 = 2^2 × 3 × 1009 × 1\n",
            "19800 = 2^3 × 3^2 × 5^2 × 11 × 1\n",
            "202 = 2 × 101 × 1\n"
          ]
        },
        {
          "output_type": "error",
          "ename": "KeyboardInterrupt",
          "evalue": "ignored",
          "traceback": [
            "\u001b[0;31m---------------------------------------------------------------------------\u001b[0m",
            "\u001b[0;31mKeyboardInterrupt\u001b[0m                         Traceback (most recent call last)",
            "\u001b[0;32m<ipython-input-12-db9bc2f98307>\u001b[0m in \u001b[0;36m<module>\u001b[0;34m()\u001b[0m\n\u001b[1;32m     25\u001b[0m \u001b[0mprint\u001b[0m\u001b[0;34m(\u001b[0m\u001b[0mfactoring\u001b[0m\u001b[0;34m(\u001b[0m\u001b[0;36m19800\u001b[0m\u001b[0;34m)\u001b[0m\u001b[0;34m)\u001b[0m\u001b[0;34m\u001b[0m\u001b[0;34m\u001b[0m\u001b[0m\n\u001b[1;32m     26\u001b[0m \u001b[0mprint\u001b[0m\u001b[0;34m(\u001b[0m\u001b[0mfactoring\u001b[0m\u001b[0;34m(\u001b[0m\u001b[0;36m202\u001b[0m\u001b[0;34m)\u001b[0m\u001b[0;34m)\u001b[0m\u001b[0;34m\u001b[0m\u001b[0;34m\u001b[0m\u001b[0m\n\u001b[0;32m---> 27\u001b[0;31m \u001b[0mprint\u001b[0m\u001b[0;34m(\u001b[0m\u001b[0mfactoring\u001b[0m\u001b[0;34m(\u001b[0m\u001b[0;36m9900000246\u001b[0m\u001b[0;34m)\u001b[0m\u001b[0;34m)\u001b[0m\u001b[0;34m\u001b[0m\u001b[0;34m\u001b[0m\u001b[0m\n\u001b[0m",
            "\u001b[0;32m<ipython-input-12-db9bc2f98307>\u001b[0m in \u001b[0;36mfactoring\u001b[0;34m(n)\u001b[0m\n\u001b[1;32m      8\u001b[0m     \u001b[0;32mif\u001b[0m \u001b[0mi\u001b[0m\u001b[0;34m==\u001b[0m\u001b[0;36m1\u001b[0m\u001b[0;34m:\u001b[0m \u001b[0mi\u001b[0m\u001b[0;34m=\u001b[0m\u001b[0;36m2\u001b[0m                         \u001b[0;31m# salvo el 1 que será 2\u001b[0m\u001b[0;34m\u001b[0m\u001b[0;34m\u001b[0m\u001b[0m\n\u001b[1;32m      9\u001b[0m     \u001b[0mcounter\u001b[0m \u001b[0;34m=\u001b[0m \u001b[0;36m0\u001b[0m\u001b[0;34m\u001b[0m\u001b[0;34m\u001b[0m\u001b[0m\n\u001b[0;32m---> 10\u001b[0;31m     \u001b[0;32mwhile\u001b[0m \u001b[0mn\u001b[0m \u001b[0;34m%\u001b[0m \u001b[0mi\u001b[0m \u001b[0;34m==\u001b[0m \u001b[0;36m0\u001b[0m\u001b[0;34m:\u001b[0m\u001b[0;34m\u001b[0m\u001b[0;34m\u001b[0m\u001b[0m\n\u001b[0m\u001b[1;32m     11\u001b[0m       \u001b[0mn\u001b[0m \u001b[0;34m/=\u001b[0m \u001b[0mi\u001b[0m\u001b[0;34m\u001b[0m\u001b[0;34m\u001b[0m\u001b[0m\n\u001b[1;32m     12\u001b[0m       \u001b[0mcounter\u001b[0m \u001b[0;34m+=\u001b[0m \u001b[0;36m1\u001b[0m\u001b[0;34m\u001b[0m\u001b[0;34m\u001b[0m\u001b[0m\n",
            "\u001b[0;31mKeyboardInterrupt\u001b[0m: "
          ]
        }
      ]
    },
    {
      "cell_type": "markdown",
      "source": [
        "### Múltiplos de un número\n",
        "* Los múltiplos de un número son infinitos\n",
        "* Ejemplo\n",
        " - Los múltiplos de 5 son: \n",
        "  * 5 × 1 = 5\n",
        "  * 5 × 2 = 10\n",
        "  * 5 × 3 = 15\n",
        "  * 5 × 4 = 20\n",
        "  * 5 × 5 = 25\n",
        "  * ... / ..."
      ],
      "metadata": {
        "id": "r-rUPKfZ1xhL"
      }
    },
    {
      "cell_type": "markdown",
      "source": [
        "#### Método 1\n",
        "Múltiplos de un número hasta cierto límite"
      ],
      "metadata": {
        "id": "KRKK8ldt2NN0"
      }
    },
    {
      "cell_type": "code",
      "source": [
        "def multiplos_hasta_limite(numero, limite):\n",
        "  multiplos = []\n",
        "  i = 1\n",
        "  while numero*i <= limite:\n",
        "    multiplos.append(numero*i)\n",
        "    i += 1\n",
        "  return multiplos\n",
        "\n",
        "multiplos_hasta_limite(5,50)"
      ],
      "metadata": {
        "colab": {
          "base_uri": "https://localhost:8080/"
        },
        "id": "7qc0WjwT2Tc3",
        "outputId": "a7542acc-4fbd-4301-d88e-28f4edd8baeb"
      },
      "execution_count": 17,
      "outputs": [
        {
          "output_type": "execute_result",
          "data": {
            "text/plain": [
              "[5, 10, 15, 20, 25, 30, 35, 40, 45, 50]"
            ]
          },
          "metadata": {},
          "execution_count": 17
        }
      ]
    },
    {
      "cell_type": "markdown",
      "source": [
        "#### Método 2\n",
        "* Múltiplos de un número, indicando el número y la cantidad de múltiplos que queremos obtener"
      ],
      "metadata": {
        "id": "24tJ28Ys3_4_"
      }
    },
    {
      "cell_type": "code",
      "source": [
        "def multiplos_hasta_cantidad(numero, cantidad):\n",
        "  multiplos = []\n",
        "  for i in range(1,cantidad+1):\n",
        "    multiplos.append(numero*i)\n",
        "  return multiplos\n",
        "\n",
        "multiplos_hasta_cantidad(5, 10)"
      ],
      "metadata": {
        "colab": {
          "base_uri": "https://localhost:8080/"
        },
        "id": "h3T0MCeN4Jnh",
        "outputId": "8653cac4-792d-4f12-afdc-3523005d5a7f"
      },
      "execution_count": 18,
      "outputs": [
        {
          "output_type": "execute_result",
          "data": {
            "text/plain": [
              "[5, 10, 15, 20, 25, 30, 35, 40, 45, 50]"
            ]
          },
          "metadata": {},
          "execution_count": 18
        }
      ]
    },
    {
      "cell_type": "markdown",
      "source": [
        "### Divisores de un número\n",
        "* Son todos los números que son capaces de dividir a un número con división exacta\n",
        "* La división es exacta cuando el resto es cero\n",
        "* Ejemplo\n",
        " - El 6 es divisor de 30 porque al dividir 30 entre 6 el resultado es 5.0\n",
        " - 30 % 6 = 0\n",
        " - Los divisores de 30 son: [1, 2, 3, 5, 6, 10, 15, 30]"
      ],
      "metadata": {
        "id": "_hnb8nHy5JC-"
      }
    },
    {
      "cell_type": "code",
      "source": [
        "def divisores(n):\n",
        "  lista = []\n",
        "  for i in range(1,n+1):\n",
        "    if n % i == 0:\n",
        "      lista.append(i)\n",
        "  return lista\n",
        "\n",
        "divisores(30)"
      ],
      "metadata": {
        "colab": {
          "base_uri": "https://localhost:8080/"
        },
        "id": "5_jyYaoc502p",
        "outputId": "db884471-f8b8-4b57-ca75-6b5292c69cef"
      },
      "execution_count": 19,
      "outputs": [
        {
          "output_type": "execute_result",
          "data": {
            "text/plain": [
              "[1, 2, 3, 5, 6, 10, 15, 30]"
            ]
          },
          "metadata": {},
          "execution_count": 19
        }
      ]
    }
  ],
  "metadata": {
    "colab": {
      "name": "Python_CoderDojo18.ipynb",
      "provenance": [],
      "collapsed_sections": [],
      "authorship_tag": "ABX9TyOrFF7R+dvHXSW72yln922m",
      "include_colab_link": true
    },
    "kernelspec": {
      "display_name": "Python 3",
      "name": "python3"
    },
    "language_info": {
      "name": "python"
    }
  },
  "nbformat": 4,
  "nbformat_minor": 0
}