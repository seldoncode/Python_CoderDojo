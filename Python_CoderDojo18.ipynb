{
  "nbformat": 4,
  "nbformat_minor": 0,
  "metadata": {
    "colab": {
      "name": "Python_CoderDojo18.ipynb",
      "provenance": [],
      "authorship_tag": "ABX9TyMbZUpsM4LnE0SHfBA0vgHV",
      "include_colab_link": true
    },
    "kernelspec": {
      "name": "python3",
      "display_name": "Python 3"
    },
    "language_info": {
      "name": "python"
    }
  },
  "cells": [
    {
      "cell_type": "markdown",
      "metadata": {
        "id": "view-in-github",
        "colab_type": "text"
      },
      "source": [
        "<a href=\"https://colab.research.google.com/github/seldoncode/Python_CoderDojo/blob/main/Python_CoderDojo18.ipynb\" target=\"_parent\"><img src=\"https://colab.research.google.com/assets/colab-badge.svg\" alt=\"Open In Colab\"/></a>"
      ]
    },
    {
      "cell_type": "markdown",
      "source": [
        "# Matemáticas"
      ],
      "metadata": {
        "id": "DqZZhK2KcDey"
      }
    },
    {
      "cell_type": "markdown",
      "source": [
        "### Valor absoluto\n",
        "Valor positivo independientemente de su signo."
      ],
      "metadata": {
        "id": "llPJQWpucQoe"
      }
    },
    {
      "cell_type": "code",
      "source": [
        "x = -5\n",
        "print(abs(x))\n",
        "\n",
        "def valor_absoluto(x):\n",
        "  if x<0:\n",
        "    x = -x\n",
        "  return x\n",
        "\n",
        "print(valor_absoluto(x))"
      ],
      "metadata": {
        "colab": {
          "base_uri": "https://localhost:8080/"
        },
        "id": "l3Gw-gDxcWYm",
        "outputId": "ab3a87ec-4db2-434d-a9ab-e7813a0b8b6f"
      },
      "execution_count": 10,
      "outputs": [
        {
          "output_type": "stream",
          "name": "stdout",
          "text": [
            "5\n",
            "5\n"
          ]
        }
      ]
    },
    {
      "cell_type": "markdown",
      "source": [
        "### Potencia de un número"
      ],
      "metadata": {
        "id": "XvGMylDodauf"
      }
    },
    {
      "cell_type": "code",
      "source": [
        "x = 2\n",
        "y = 5\n",
        "print(x**y)\n",
        "print(pow(x,y))\n",
        "\n",
        "def potencia(x,y):    # y tiene que ser un número entero\n",
        "  resultado = 1\n",
        "  for i in range(y):\n",
        "    resultado *= x\n",
        "  return resultado\n",
        "\n",
        "potencia(x,y)"
      ],
      "metadata": {
        "colab": {
          "base_uri": "https://localhost:8080/"
        },
        "id": "4E-XNKMzdoNX",
        "outputId": "82762b32-5592-4b95-8abd-783731577b9b"
      },
      "execution_count": 9,
      "outputs": [
        {
          "output_type": "stream",
          "name": "stdout",
          "text": [
            "32\n",
            "32\n"
          ]
        },
        {
          "output_type": "execute_result",
          "data": {
            "text/plain": [
              "32"
            ]
          },
          "metadata": {},
          "execution_count": 9
        }
      ]
    },
    {
      "cell_type": "markdown",
      "source": [
        "### Raiz cuadrada"
      ],
      "metadata": {
        "id": "7qRdwhY-fFIe"
      }
    },
    {
      "cell_type": "code",
      "source": [
        "import math\n",
        "x = 2_000_000\n",
        "print(x**.5)\n",
        "print(math.sqrt(x))\n",
        "\n",
        "def raiz_cuadrada(x):\n",
        "  tolerancia = 1e-9\n",
        "  inf = 1   # infimo\n",
        "  sup = 100 # supremo\n",
        "  while inf*inf > x:  # nos aseguramos que el inf es suficientemente bajo\n",
        "    inf /= 2\n",
        "  while sup*sup < x:  # nos aseguramos que el sup es suficientemente alto\n",
        "    sup *= 2\n",
        "  while True:\n",
        "    med = (inf+sup)/2   # media\n",
        "    dif_med = med*med-x # diferencia entre x y la media al cuadrado\n",
        "    if abs(dif_med) < tolerancia:\n",
        "      break\n",
        "    if dif_med > 0:\n",
        "      sup = med\n",
        "    else:\n",
        "      inf = med\n",
        "  return med\n",
        "\n",
        "print(raiz_cuadrada(x))"
      ],
      "metadata": {
        "colab": {
          "base_uri": "https://localhost:8080/"
        },
        "id": "GplQDqYNfI0B",
        "outputId": "3dc34d41-4874-46f0-bbf2-c3132e07e86d"
      },
      "execution_count": 48,
      "outputs": [
        {
          "output_type": "stream",
          "name": "stdout",
          "text": [
            "1414.213562373095\n",
            "1414.213562373095\n",
            "1414.2135623730953\n"
          ]
        }
      ]
    }
  ]
}