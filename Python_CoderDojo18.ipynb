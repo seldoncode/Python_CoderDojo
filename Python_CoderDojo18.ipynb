{
  "cells": [
    {
      "cell_type": "markdown",
      "metadata": {
        "id": "view-in-github",
        "colab_type": "text"
      },
      "source": [
        "<a href=\"https://colab.research.google.com/github/seldoncode/Python_CoderDojo/blob/main/Python_CoderDojo18.ipynb\" target=\"_parent\"><img src=\"https://colab.research.google.com/assets/colab-badge.svg\" alt=\"Open In Colab\"/></a>"
      ]
    },
    {
      "cell_type": "markdown",
      "metadata": {
        "id": "DqZZhK2KcDey"
      },
      "source": [
        "# Matemáticas"
      ]
    },
    {
      "cell_type": "markdown",
      "metadata": {
        "id": "llPJQWpucQoe"
      },
      "source": [
        "### Valor absoluto\n",
        "Valor positivo independientemente de su signo."
      ]
    },
    {
      "cell_type": "code",
      "execution_count": null,
      "metadata": {
        "colab": {
          "base_uri": "https://localhost:8080/"
        },
        "id": "l3Gw-gDxcWYm",
        "outputId": "ab3a87ec-4db2-434d-a9ab-e7813a0b8b6f"
      },
      "outputs": [
        {
          "name": "stdout",
          "output_type": "stream",
          "text": [
            "5\n",
            "5\n"
          ]
        }
      ],
      "source": [
        "x = -5\n",
        "print(abs(x))\n",
        "\n",
        "def valor_absoluto(x):\n",
        "  if x<0:\n",
        "    x = -x\n",
        "  return x\n",
        "\n",
        "print(valor_absoluto(x))"
      ]
    },
    {
      "cell_type": "markdown",
      "metadata": {
        "id": "XvGMylDodauf"
      },
      "source": [
        "### Potencia de un número"
      ]
    },
    {
      "cell_type": "code",
      "execution_count": null,
      "metadata": {
        "colab": {
          "base_uri": "https://localhost:8080/"
        },
        "id": "4E-XNKMzdoNX",
        "outputId": "82762b32-5592-4b95-8abd-783731577b9b"
      },
      "outputs": [
        {
          "name": "stdout",
          "output_type": "stream",
          "text": [
            "32\n",
            "32\n"
          ]
        },
        {
          "data": {
            "text/plain": [
              "32"
            ]
          },
          "execution_count": 9,
          "metadata": {},
          "output_type": "execute_result"
        }
      ],
      "source": [
        "x = 2\n",
        "y = 5\n",
        "print(x**y)\n",
        "print(pow(x,y))\n",
        "\n",
        "def potencia(x,y):    # y tiene que ser un número entero\n",
        "  resultado = 1\n",
        "  for i in range(y):\n",
        "    resultado *= x\n",
        "  return resultado\n",
        "\n",
        "potencia(x,y)"
      ]
    },
    {
      "cell_type": "markdown",
      "metadata": {
        "id": "7qRdwhY-fFIe"
      },
      "source": [
        "### Raiz cuadrada"
      ]
    },
    {
      "cell_type": "markdown",
      "metadata": {
        "id": "U7cJwu1o2PlS"
      },
      "source": [
        "#### Método 1\n",
        "* Método muy poco eficiente.\n",
        "* Admite un error grande, o si queremos que el error admitido sea menor, el tiempo de cálculo será muy grande."
      ]
    },
    {
      "cell_type": "code",
      "execution_count": null,
      "metadata": {
        "colab": {
          "base_uri": "https://localhost:8080/"
        },
        "id": "Kx4VNagQ9Mid",
        "outputId": "8f1e2685-fb52-4e65-c6c1-e27335ec2f0c"
      },
      "outputs": [
        {
          "name": "stdout",
          "output_type": "stream",
          "text": [
            "1414.213562373095\n",
            "1414.213562373095\n",
            "1414.2139999734702\n"
          ]
        }
      ],
      "source": [
        "import math\n",
        "a = 81\n",
        "print(a**.5)           # elevando a (1/2)\n",
        "print(math.sqrt(a))    # con la librería math usando la función sqrt\n",
        "\n",
        "def raiz1(n):\n",
        "  x = 0\n",
        "  while x * x <= n:    # buscamos un número (x) que multiplicado por si mismo de el número buscado (n)\n",
        "    x += 0.001\n",
        "  return x\n",
        "\n",
        "print(raiz1(a))"
      ]
    },
    {
      "cell_type": "markdown",
      "metadata": {
        "id": "ww6hz2Z5862_"
      },
      "source": [
        "#### Método 2\n",
        "Método babilónico"
      ]
    },
    {
      "cell_type": "code",
      "execution_count": null,
      "metadata": {
        "colab": {
          "base_uri": "https://localhost:8080/"
        },
        "id": "DnMWlkXd5mDH",
        "outputId": "40d9d1d5-2c52-4d24-b04d-1acd7103389e"
      },
      "outputs": [
        {
          "name": "stdout",
          "output_type": "stream",
          "text": [
            "1414.213562373095\n",
            "1414.213562373095\n",
            "1414.213562373095\n"
          ]
        }
      ],
      "source": [
        "import math\n",
        "x = 2_000_000       # tiene que ser no negativo\n",
        "print(x**.5)\n",
        "print(math.sqrt(x))\n",
        "\n",
        "def raiz2(x):\n",
        "  b = 1             # base del rectángulo\n",
        "  h = x / b         # altura del rectángulo\n",
        "  if x<1: b,h=h,b   # para que conveja el caso en que x<1\n",
        "  while True:       # deseamos que b y h coincidan para que el rectángulo sea un cuadrado\n",
        "    med = (b+h)/2   # media\n",
        "    if abs(med*med - x) < 1e-9:\n",
        "      return med\n",
        "    elif med*med -x < 0:\n",
        "      b = med\n",
        "    else:\n",
        "      h = med\n",
        "\n",
        "print(raiz2(x))"
      ]
    },
    {
      "cell_type": "markdown",
      "metadata": {
        "id": "BtQ9ubkE2xV-"
      },
      "source": [
        "#### Método 3\n",
        "* Es una variante del método anterior.\n",
        "* En lugar de usar una cierta tolerancia o error admitido para salir del bucle y terminar el cálculo, lo que hacemos es aprovecharnos de que los cálculos con coma flotante llega un momento en que ya no admiten más precisión y que la media se estanca y no mejora en precisión.\n",
        "* Cuando vemos que la media se ha estancado es cuando finaliza el bucle\n",
        "* Sabemos que la media se ha estancado porque tomamos su valor de la iteración anterior con la variable old y la comparamos con la nueva media med.\n",
        "* Cuando ambas son iguales se acaba el bucle.\n",
        "* Cuando ```med == old```"
      ]
    },
    {
      "cell_type": "code",
      "execution_count": null,
      "metadata": {
        "colab": {
          "base_uri": "https://localhost:8080/"
        },
        "id": "WCrMseLUIpkU",
        "outputId": "f50365a3-dd0c-4ec2-b4c3-80c2f1949ad5"
      },
      "outputs": [
        {
          "name": "stdout",
          "output_type": "stream",
          "text": [
            "1414.213562373095\n",
            "1414.213562373095\n",
            "1414.213562373095\n"
          ]
        }
      ],
      "source": [
        "import math\n",
        "x = 2_000_000\n",
        "print(x**.5)\n",
        "print(math.sqrt(x))\n",
        "\n",
        "def raiz3(x):\n",
        "  b = 1\n",
        "  h = x / b\n",
        "  if x < 1:\n",
        "    b, h = h, b\n",
        "  med = None\n",
        "  while True:\n",
        "    old = med      # old es el valor de la media de la anterior iteración\n",
        "    med = (b+h)/2  # en esta nueva iteración se recalcula el valor de la media\n",
        "    if med == old: # se termina cuando la media se estanca\n",
        "      return med\n",
        "    elif med*med -x < 0:\n",
        "      b = med\n",
        "    else:\n",
        "      h = med\n",
        "\n",
        "print(raiz3(x))"
      ]
    },
    {
      "cell_type": "markdown",
      "metadata": {
        "id": "mcuynohBPLY4"
      },
      "source": [
        "#### Método 4\n",
        "* Deseamos calcular la raiz cuadrada de x\n",
        "* Buscamos un infimo (inf) suficientemente bajo, con el que estemos seguros de que su cuadrado es menor que x\n",
        "* Buscamos un supremo (sup) suficientemente alto, con el que estemos seguros de que su cuadrado es mayor que x\n",
        "* Si el infimo (inf) no es suficientemente bajo nos metemos en un bucle para hacer mitades hasta que se cumpla que su cuadrado es menor o igual que x\n",
        "* Si el supremo (sup) no es suficientemente alto nos metemos en un bucle para hacer dobles hasta que se cumpla que su cuadrado es mayor o igual que x"
      ]
    },
    {
      "cell_type": "code",
      "execution_count": null,
      "metadata": {
        "colab": {
          "base_uri": "https://localhost:8080/"
        },
        "id": "GplQDqYNfI0B",
        "outputId": "3dc34d41-4874-46f0-bbf2-c3132e07e86d"
      },
      "outputs": [
        {
          "name": "stdout",
          "output_type": "stream",
          "text": [
            "1414.213562373095\n",
            "1414.213562373095\n",
            "1414.2135623730953\n"
          ]
        }
      ],
      "source": [
        "import math\n",
        "x = 2_000_000\n",
        "print(x**.5)\n",
        "print(math.sqrt(x))\n",
        "\n",
        "def raiz4(x):\n",
        "  tolerancia = 1e-9\n",
        "  inf = 1   # infimo\n",
        "  sup = 100 # supremo\n",
        "  while inf*inf > x:  # nos aseguramos que el inf es suficientemente bajo\n",
        "    inf /= 2\n",
        "  while sup*sup < x:  # nos aseguramos que el sup es suficientemente alto\n",
        "    sup *= 2\n",
        "  while True:\n",
        "    med = (inf+sup)/2   # media\n",
        "    dif_med = med*med-x # diferencia entre x y la media al cuadrado\n",
        "    if abs(dif_med) < tolerancia:\n",
        "      break\n",
        "    if dif_med > 0:\n",
        "      sup = med\n",
        "    else:\n",
        "      inf = med\n",
        "  return med\n",
        "\n",
        "print(raiz4(x))"
      ]
    },
    {
      "cell_type": "markdown",
      "metadata": {
        "id": "5y21dAQ_8NZt"
      },
      "source": [
        "### Factorial\n",
        "* El factorial de 5 es:\n",
        " - 5! = 5 * 4 * 3 * 2 * 1 = 120\n",
        "* El factorial de n es:\n",
        " - n! = n * (n-1) * (n-2) * ···· * 1"
      ]
    },
    {
      "cell_type": "markdown",
      "metadata": {
        "id": "wjHIaF4Z8oF5"
      },
      "source": [
        "#### Método 1\n",
        "Usando una librería."
      ]
    },
    {
      "cell_type": "code",
      "execution_count": null,
      "metadata": {
        "colab": {
          "base_uri": "https://localhost:8080/"
        },
        "id": "xBqqKud_8uUw",
        "outputId": "ea64b1f5-df30-4f4d-d398-a74c952bd48b"
      },
      "outputs": [
        {
          "name": "stdout",
          "output_type": "stream",
          "text": [
            "120\n",
            "1\n"
          ]
        }
      ],
      "source": [
        "import math\n",
        "print(math.factorial(5))\n",
        "print(math.factorial(0))  # por definición, el factorial de cero es uno"
      ]
    },
    {
      "cell_type": "markdown",
      "metadata": {
        "id": "j2FtttPj9hdt"
      },
      "source": [
        "#### Método 2\n",
        "Programando nuestra propia función factorial."
      ]
    },
    {
      "cell_type": "code",
      "execution_count": null,
      "metadata": {
        "colab": {
          "base_uri": "https://localhost:8080/"
        },
        "id": "Ex1jutc39nD2",
        "outputId": "8bce961c-942a-411a-f528-f2889fa5aab0"
      },
      "outputs": [
        {
          "name": "stdout",
          "output_type": "stream",
          "text": [
            "120\n",
            "1\n"
          ]
        }
      ],
      "source": [
        "def fac(n):\n",
        "  f = 1\n",
        "  for i in range(1,n+1):\n",
        "    f *= i\n",
        "  return f\n",
        "\n",
        "print(fac(5))\n",
        "print(fac(0))"
      ]
    },
    {
      "cell_type": "markdown",
      "metadata": {
        "id": "rNVWfBA_L209"
      },
      "source": [
        "### Combinaciones sin repetición\n",
        "* Calcular el número de combinaciones sin repetición de m elementos tomados de n en n.\n",
        "* Requiere calcular el factorial."
      ]
    },
    {
      "cell_type": "markdown",
      "metadata": {
        "id": "Rf9oMzyOODWO"
      },
      "source": [
        "#### Método 1\n",
        "$$C^n_m=\\frac{m!}{n!*(m-n)!}$$"
      ]
    },
    {
      "cell_type": "code",
      "execution_count": null,
      "metadata": {
        "colab": {
          "base_uri": "https://localhost:8080/"
        },
        "id": "qqI-MYCSMHcp",
        "outputId": "f2d73c90-eabf-4415-cbc4-5757a91682c9"
      },
      "outputs": [
        {
          "name": "stdout",
          "output_type": "stream",
          "text": [
            "56.0\n"
          ]
        }
      ],
      "source": [
        "from math import factorial\n",
        "def combinaciones_sin_repeticion(m,n):\n",
        "  if m<n:\n",
        "    return 0\n",
        "  else:\n",
        "    comb = factorial(m) / (factorial(n) * factorial(m-n))\n",
        "    return comb\n",
        "\n",
        "print(combinaciones_sin_repeticion(8,3))"
      ]
    },
    {
      "cell_type": "markdown",
      "metadata": {
        "id": "4OJn-4scOH57"
      },
      "source": [
        "#### Método 2\n",
        "* Podemos simplificar la expresión para no realizar tantos cálculos.\n",
        "\n",
        "\n",
        "$$C^8_3 = \\frac{8!}{3!*(8-3)!} = \\frac{8!}{3!*5!} = \\frac{8·7·6·5!}{3!*5!} = \\frac{8·7·6}{3·2·1} = 56$$"
      ]
    },
    {
      "cell_type": "code",
      "execution_count": null,
      "metadata": {
        "colab": {
          "base_uri": "https://localhost:8080/"
        },
        "id": "LAejyp5FQ2l9",
        "outputId": "745efb40-db50-4667-b051-6ea7c39c8ec3"
      },
      "outputs": [
        {
          "name": "stdout",
          "output_type": "stream",
          "text": [
            "56.0\n",
            "56.0\n"
          ]
        }
      ],
      "source": [
        "from math import factorial\n",
        "\n",
        "def combina_sin_rep(m,n):\n",
        "  if m<n:\n",
        "    return 0\n",
        "  else:\n",
        "    numerador = denominador = 1\n",
        "    for i in range(m,m-n,-1):\n",
        "      numerador *= i\n",
        "      denominador *= i-(m-n)\n",
        "    return numerador / denominador\n",
        "\n",
        "print(combina_sin_rep(8,3))\n",
        "print(factorial(8) / (factorial(3) * factorial(8-3)))"
      ]
    },
    {
      "cell_type": "markdown",
      "metadata": {
        "id": "7z3zeILfgRn5"
      },
      "source": [
        "### Números primos\n",
        "#### Ver si un número es primo"
      ]
    },
    {
      "cell_type": "markdown",
      "source": [
        "# Método 1\n",
        "Medimos tiempos en este algoritmo sin optimizar."
      ],
      "metadata": {
        "id": "Mu5muyl52TBs"
      }
    },
    {
      "cell_type": "code",
      "execution_count": null,
      "metadata": {
        "colab": {
          "base_uri": "https://localhost:8080/"
        },
        "id": "9euO4G_hjcaP",
        "outputId": "186b9a4b-41a4-45f5-f81a-cdc43a38a1a5"
      },
      "outputs": [
        {
          "output_type": "stream",
          "name": "stdout",
          "text": [
            "True\n",
            "True\n",
            "170.44832563400269 segundos\n"
          ]
        }
      ],
      "source": [
        "from sympy import isprime\n",
        "from time import time\n",
        "\n",
        "def es_primo(n):\n",
        "  if n<2: return False  # para el caso en que sea n=1\n",
        "  for i in range(2,n):\n",
        "    if n%i==0:\n",
        "      return False\n",
        "  return True\n",
        "\n",
        "n = 1234567891\n",
        "\n",
        "t0 = time()\n",
        "print(es_primo(n))\n",
        "t1 = time()\n",
        "print(isprime(n))\n",
        "print(t1-t0, \"segundos\")"
      ]
    },
    {
      "cell_type": "markdown",
      "source": [
        "# Método 2\n",
        "Algoritmo optimizado:\n",
        " -  buscamos divisores hasta la raiz cuadrada del número analizado\n",
        " - solo los impares"
      ],
      "metadata": {
        "id": "5xcYX8FU2b1-"
      }
    },
    {
      "cell_type": "code",
      "execution_count": null,
      "metadata": {
        "colab": {
          "base_uri": "https://localhost:8080/"
        },
        "id": "G8RpZ0KTgU3g",
        "outputId": "1d032758-4ca1-4150-9b92-95701bd1a867"
      },
      "outputs": [
        {
          "output_type": "stream",
          "name": "stdout",
          "text": [
            "True\n",
            "True\n",
            "0.0044820308685302734 segundos\n"
          ]
        }
      ],
      "source": [
        "from sympy import isprime\n",
        "from math import sqrt\n",
        "from time import time\n",
        "\n",
        "def es_primo(n):  # n tiene que ser un entero mayor que 1\n",
        "  if n == 2: return True # si n es 2 es primo\n",
        "  elif n%2==0: return False # si n!=2 es par, entonces no es primo \n",
        "  for i in range(3,int(sqrt(n)+1),2):\n",
        "    if n%i == 0:\n",
        "      return False\n",
        "  return True\n",
        "\n",
        "n = 1234567891\n",
        "\n",
        "t0 = time()\n",
        "print(es_primo(n))\n",
        "t1 = time()\n",
        "print(isprime(n))\n",
        "print(t1-t0, \"segundos\")"
      ]
    },
    {
      "cell_type": "markdown",
      "source": [
        "#### Encontrar todos los primos en un rango\n",
        "* Crear una función que proporcione todos los números primos que existen en un rango.\n",
        "* El usuario nos proporciona el número menos y el mayor del rango y se pasan como parámetros a la función"
      ],
      "metadata": {
        "id": "wtvUhGIEL2De"
      }
    },
    {
      "cell_type": "markdown",
      "source": [
        "#### Método 1"
      ],
      "metadata": {
        "id": "5gTvmM_CcLle"
      }
    },
    {
      "cell_type": "code",
      "source": [
        "def encontrar_primos(a, b):\n",
        "  lista = []\n",
        "  for n in range(a, b+1):\n",
        "    contador = 0\n",
        "    for i in range(1, n+1):\n",
        "      if n%i == 0:\n",
        "        contador += 1\n",
        "    if contador == 2: # Un primo solo es divisible entre 1 y él mismo\n",
        "      lista.append(n)\n",
        "  return lista\n",
        "\n",
        "a = int(input(\"Número inicial: \") or 1)\n",
        "b = int(input(\"Número final: \") or 101)\n",
        "print(encontrar_primos(a,b))"
      ],
      "metadata": {
        "colab": {
          "base_uri": "https://localhost:8080/"
        },
        "id": "iQx8aS6_cOcm",
        "outputId": "d42f8577-6656-480e-ea1c-2ced691ab7f6"
      },
      "execution_count": null,
      "outputs": [
        {
          "output_type": "stream",
          "name": "stdout",
          "text": [
            "Número inicial: \n",
            "Número final: \n",
            "[2, 3, 5, 7, 11, 13, 17, 19, 23, 29, 31, 37, 41, 43, 47, 53, 59, 61, 67, 71, 73, 79, 83, 89, 97, 101]\n"
          ]
        }
      ]
    },
    {
      "cell_type": "markdown",
      "source": [
        "#### Método 2\n",
        "* Eliminamos tener que dividir entre 1 y entre n\n",
        "* Ya no hace falta que el contador sea igual a 2\n",
        "* Eliminamos el contador y usamos una bandera"
      ],
      "metadata": {
        "id": "GM93H_gLcPTC"
      }
    },
    {
      "cell_type": "code",
      "source": [
        "def encontrar_primos(a, b):\n",
        "  lista = []\n",
        "  if a == 1: # para que no se considere el 1 como primo\n",
        "    a = 2    # el número inicial fuera 1, asi se comiena en 2\n",
        "  for n in range(a, b+1):\n",
        "    primo = True    # bandera, inicialmente consideramos el número como Primo\n",
        "    for i in range(2, n):\n",
        "      if n%i == 0:\n",
        "        primo = False\n",
        "        break\n",
        "    if primo:\n",
        "      lista.append(n)\n",
        "  return lista\n",
        "\n",
        "a = int(input(\"Número inicial: \") or 1)\n",
        "b = int(input(\"Número final: \") or 101)\n",
        "print(encontrar_primos(a,b))"
      ],
      "metadata": {
        "colab": {
          "base_uri": "https://localhost:8080/"
        },
        "id": "MPo34LU2cQvW",
        "outputId": "30288692-c7d7-41de-c9c7-950935fc3dbe"
      },
      "execution_count": null,
      "outputs": [
        {
          "output_type": "stream",
          "name": "stdout",
          "text": [
            "Número inicial: \n",
            "Número final: \n",
            "[2, 3, 5, 7, 11, 13, 17, 19, 23, 29, 31, 37, 41, 43, 47, 53, 59, 61, 67, 71, 73, 79, 83, 89, 97, 101]\n"
          ]
        }
      ]
    },
    {
      "cell_type": "markdown",
      "source": [
        "#### Método 3"
      ],
      "metadata": {
        "id": "dxYBcZgacRAb"
      }
    },
    {
      "cell_type": "code",
      "source": [
        "from math import sqrt\n",
        "\n",
        "def encontrar_primos(a, b):\n",
        "  lista = []\n",
        "  for n in range(a,b+1):\n",
        "    primo = True\n",
        "    if n==2:\n",
        "      lista.append(2)\n",
        "      continue\n",
        "    if n%2==0 or n==1:\n",
        "      continue\n",
        "    for i in range(3,int(sqrt(n))+1,2):\n",
        "      if n%i == 0:\n",
        "        primo = False\n",
        "        break\n",
        "    if primo:\n",
        "      lista.append(n)\n",
        "  return lista  \n",
        "\n",
        "a = int(input(\"Número inicial: \") or 1)\n",
        "b = int(input(\"Número final: \") or 101)\n",
        "print(encontrar_primos(a,b))"
      ],
      "metadata": {
        "colab": {
          "base_uri": "https://localhost:8080/"
        },
        "id": "8jj1sqIkMLTG",
        "outputId": "68238942-7cf2-4446-d5db-d7006d899540"
      },
      "execution_count": null,
      "outputs": [
        {
          "output_type": "stream",
          "name": "stdout",
          "text": [
            "Número inicial: \n",
            "Número final: \n",
            "[2, 3, 5, 7, 11, 13, 17, 19, 23, 29, 31, 37, 41, 43, 47, 53, 59, 61, 67, 71, 73, 79, 83, 89, 97, 101]\n"
          ]
        }
      ]
    },
    {
      "cell_type": "markdown",
      "source": [
        "#### Método 4  For ... break ... else\n",
        "* Ver el uso de ```break``` y de ```else``` en un ```for```\n",
        "* [w3schools](https://www.w3schools.com/python/python_for_loops.asp)\n",
        "* [documentación oficial](https://docs.python.org/3/tutorial/controlflow.html)\n",
        "* Las instrucciones que van con el ```else``` se ejecutan al final del bucle ```for```\n",
        "* El bloque ```else``` NO se ejecutará si el bucle se detiene con una instrucción ```break```.\n",
        "* Si el ciclo se rompe (```break```), el bloque ```else``` no se ejecuta."
      ],
      "metadata": {
        "id": "FY22syrGhWre"
      }
    },
    {
      "cell_type": "code",
      "source": [
        "def encontrar_primos(a, b):\n",
        "  lista = []\n",
        "  for n in range(a, b+1):\n",
        "    for i in range(2, n):\n",
        "      if n % i == 0:\n",
        "        break\n",
        "    else:\n",
        "      lista.append(n)\n",
        "  return lista\n",
        "\n",
        "a = int(input(\"Número inicial: \") or 2) # no empezar en 1\n",
        "b = int(input(\"Número final: \") or 101)\n",
        "print(encontrar_primos(a,b))"
      ],
      "metadata": {
        "colab": {
          "base_uri": "https://localhost:8080/"
        },
        "id": "wfYC4l75iFVi",
        "outputId": "b1899b97-8f5d-446d-849f-9aef013a278c"
      },
      "execution_count": null,
      "outputs": [
        {
          "output_type": "stream",
          "name": "stdout",
          "text": [
            "Número inicial: \n",
            "Número final: \n",
            "[2, 3, 5, 7, 11, 13, 17, 19, 23, 29, 31, 37, 41, 43, 47, 53, 59, 61, 67, 71, 73, 79, 83, 89, 97, 101]\n"
          ]
        }
      ]
    },
    {
      "cell_type": "markdown",
      "source": [
        "# Método 5\n",
        "* Buscando un método eficiente para números grandes"
      ],
      "metadata": {
        "id": "idHxEjDcmg2D"
      }
    },
    {
      "cell_type": "code",
      "source": [
        "def encontrar_primos(a, b):\n",
        "  lista = []\n",
        "  for n in range(a, b+1):\n",
        "    if n==2:\n",
        "      lista.append(2)\n",
        "      continue\n",
        "    if n%2==0 or n==1:\n",
        "      continue\n",
        "    for i in range(3, int(sqrt(n))+1, 2): # solo impares y hasta la raiz cuadrada\n",
        "      if n%i == 0:\n",
        "        break\n",
        "    else:\n",
        "      lista.append(n)\n",
        "  return lista\n",
        "\n",
        "a = int(input(\"Número inicial: \") or 1_000_000_000)\n",
        "b = int(input(\"Número final: \") or 1_000_000_100)\n",
        "print(encontrar_primos(a,b))"
      ],
      "metadata": {
        "colab": {
          "base_uri": "https://localhost:8080/"
        },
        "id": "Itr5P7vXmrOe",
        "outputId": "797c511f-6c85-4c6d-e0de-b1ec522860b3"
      },
      "execution_count": null,
      "outputs": [
        {
          "output_type": "stream",
          "name": "stdout",
          "text": [
            "Número inicial: \n",
            "Número final: \n",
            "[1000000007, 1000000009, 1000000021, 1000000033, 1000000087, 1000000093, 1000000097]\n"
          ]
        }
      ]
    },
    {
      "cell_type": "markdown",
      "source": [
        "### Descomposición en factores primos\n",
        "* Dado un número realizar la descomposición en factores primos.\n",
        "* Ejemplo:\n",
        " - 33.880   =   2 × 2 × 2 × 5 × 7 × 11 × 11   =   2^3 × 5 × 7 × 11^2\n",
        " - 19800  =  2^3 × 3^2 × 5^2 × 11\n",
        " - 12108  =  2^2 × 3 × 1009\n",
        " - 19800  =  2^3 × 3^2 × 5^2 × 11\n",
        "  - 202 = 2 × 101\n",
        " - 9900000246 = 2 × 3 × 61 × 27049181\n"
      ],
      "metadata": {
        "id": "iw3K7d2PsaY1"
      }
    },
    {
      "cell_type": "markdown",
      "source": [
        "#### Método 1\n",
        "Generamos una lista con todos los factores primos de un número."
      ],
      "metadata": {
        "id": "zZFMfrYyy-bq"
      }
    },
    {
      "cell_type": "code",
      "source": [
        "def descomponer(n):\n",
        "  primos = []\n",
        "  for i in range(2, n+1):\n",
        "    while n % i == 0:\n",
        "      primos.append(i)\n",
        "      n /= i            # también puede ser: n //= i\n",
        "  return primos\n",
        "\n",
        "#print(descomponer(33880))\n",
        "#print(descomponer(19800))\n",
        "#print(descomponer(12108))\n",
        "#print(descomponer(19800))\n",
        "print(descomponer(202))\n",
        "print(descomponer(9900000246))"
      ],
      "metadata": {
        "colab": {
          "base_uri": "https://localhost:8080/"
        },
        "id": "flaKf4pHqL6G",
        "outputId": "49d66f13-13c0-434f-f498-dfb4c895d241"
      },
      "execution_count": null,
      "outputs": [
        {
          "output_type": "stream",
          "name": "stdout",
          "text": [
            "[2, 101]\n",
            "[2, 3, 61, 27049181]\n"
          ]
        }
      ]
    },
    {
      "cell_type": "markdown",
      "source": [
        "#### Método 3\n",
        "* Intentaremos reducir tiempos de proceso considerando solo los impares mayores de 2\n"
      ],
      "metadata": {
        "id": "dOaz0I8SzZgT"
      }
    },
    {
      "cell_type": "code",
      "source": [
        "#!/bin/python3\n",
        "# Descomposición en factores primos\n",
        "\n",
        "def factoring(n): #descomposición en factores primos\n",
        "  text= str(n) + ' = '\n",
        "  i = 1\n",
        "  for i in range(1, n+1, 2): # impares, hasta el mismo n ya que podría ser primo\n",
        "    if i==1: i=2             # salvo el 1 que será 2\n",
        "    counter = 0\n",
        "    while n % i == 0:\n",
        "      n /= i\n",
        "      counter += 1\n",
        "    if counter == 1:\n",
        "      text += str(i)+ ' × '\n",
        "    elif counter > 1:\n",
        "      text += str(i) + '^' + str (counter) + ' × '\n",
        "  text += '1'\n",
        "  return text\n",
        "\n",
        "if __name__ == \"__main__\":\n",
        "  while True:\n",
        "    try:\n",
        "      n = int(input('Introduzca el número a factorizar: ') or 202)\n",
        "      if 1 < n <= 1e10:\n",
        "        break\n",
        "      else:\n",
        "        print('Por favor, introduzca un número en el rango [2,10_000_000_000]')\n",
        "    except ValueError:\n",
        "      print('Por favor itroduzca un número entero positivo.')\n",
        "\n",
        "  print(factoring(n))"
      ],
      "metadata": {
        "colab": {
          "base_uri": "https://localhost:8080/"
        },
        "id": "F8CPAFdvuEa5",
        "outputId": "21aa1cb1-1b45-49cf-b684-7ef20cb2c436"
      },
      "execution_count": null,
      "outputs": [
        {
          "output_type": "stream",
          "name": "stdout",
          "text": [
            "Introduzca el número a factorizar: \n",
            "202 = 2 × 101 × 1\n"
          ]
        }
      ]
    },
    {
      "cell_type": "markdown",
      "source": [
        "#### Método 3\n",
        "* Similar al método anterior, pero ahora llegamos en el for solo hasta la mitad (aproximadamente) de los valores anteriores.\n",
        "* Esto es debido a que si n es divisible entre 2 (que es el primer primo), el siguiente n será n/2.\n",
        "* Con ello nos hemos quitado la mitad de los valores de n para evaluar."
      ],
      "metadata": {
        "id": "Sp9DUjT00Ctj"
      }
    },
    {
      "cell_type": "code",
      "source": [
        "#!/bin/python3\n",
        "# Descomposición en factores primos\n",
        "\n",
        "def factoring(n): #descomposición en factores primos\n",
        "  text= str(n) + ' = '\n",
        "  i = 1\n",
        "  for i in range(1, int(n/2)+1, 2):      # impares\n",
        "    if i==1: i=2                         # salvo el 1 que será 2\n",
        "    counter = 0\n",
        "    while n % i == 0:\n",
        "      n /= i\n",
        "      counter += 1\n",
        "    if counter == 1:\n",
        "      text += str(i)+ ' × '\n",
        "    elif counter > 1:\n",
        "      text += str(i) + '^' + str (counter) + ' × '\n",
        "  if text[-2] == \"=\":       # si no hay divisores\n",
        "    text += str(n) + ' × '  # en ese caso el propio n será primo\n",
        "  text += '1'\n",
        "  return text\n",
        "\n",
        "print(factoring(33880))\n",
        "print(factoring(19800))\n",
        "print(factoring(12108))\n",
        "print(factoring(19800))\n",
        "print(factoring(202))\n",
        "print(factoring(9900000246))"
      ],
      "metadata": {
        "colab": {
          "base_uri": "https://localhost:8080/",
          "height": 420
        },
        "id": "DrTHbZ2I0rgs",
        "outputId": "ea3803d6-2eb4-4c96-e82a-4bb667eb4ac7"
      },
      "execution_count": null,
      "outputs": [
        {
          "output_type": "stream",
          "name": "stdout",
          "text": [
            "33880 = 2^3 × 5 × 7 × 11^2 × 1\n",
            "19800 = 2^3 × 3^2 × 5^2 × 11 × 1\n",
            "12108 = 2^2 × 3 × 1009 × 1\n",
            "19800 = 2^3 × 3^2 × 5^2 × 11 × 1\n",
            "202 = 2 × 101 × 1\n"
          ]
        },
        {
          "output_type": "error",
          "ename": "KeyboardInterrupt",
          "evalue": "ignored",
          "traceback": [
            "\u001b[0;31m---------------------------------------------------------------------------\u001b[0m",
            "\u001b[0;31mKeyboardInterrupt\u001b[0m                         Traceback (most recent call last)",
            "\u001b[0;32m<ipython-input-12-db9bc2f98307>\u001b[0m in \u001b[0;36m<module>\u001b[0;34m()\u001b[0m\n\u001b[1;32m     25\u001b[0m \u001b[0mprint\u001b[0m\u001b[0;34m(\u001b[0m\u001b[0mfactoring\u001b[0m\u001b[0;34m(\u001b[0m\u001b[0;36m19800\u001b[0m\u001b[0;34m)\u001b[0m\u001b[0;34m)\u001b[0m\u001b[0;34m\u001b[0m\u001b[0;34m\u001b[0m\u001b[0m\n\u001b[1;32m     26\u001b[0m \u001b[0mprint\u001b[0m\u001b[0;34m(\u001b[0m\u001b[0mfactoring\u001b[0m\u001b[0;34m(\u001b[0m\u001b[0;36m202\u001b[0m\u001b[0;34m)\u001b[0m\u001b[0;34m)\u001b[0m\u001b[0;34m\u001b[0m\u001b[0;34m\u001b[0m\u001b[0m\n\u001b[0;32m---> 27\u001b[0;31m \u001b[0mprint\u001b[0m\u001b[0;34m(\u001b[0m\u001b[0mfactoring\u001b[0m\u001b[0;34m(\u001b[0m\u001b[0;36m9900000246\u001b[0m\u001b[0;34m)\u001b[0m\u001b[0;34m)\u001b[0m\u001b[0;34m\u001b[0m\u001b[0;34m\u001b[0m\u001b[0m\n\u001b[0m",
            "\u001b[0;32m<ipython-input-12-db9bc2f98307>\u001b[0m in \u001b[0;36mfactoring\u001b[0;34m(n)\u001b[0m\n\u001b[1;32m      8\u001b[0m     \u001b[0;32mif\u001b[0m \u001b[0mi\u001b[0m\u001b[0;34m==\u001b[0m\u001b[0;36m1\u001b[0m\u001b[0;34m:\u001b[0m \u001b[0mi\u001b[0m\u001b[0;34m=\u001b[0m\u001b[0;36m2\u001b[0m                         \u001b[0;31m# salvo el 1 que será 2\u001b[0m\u001b[0;34m\u001b[0m\u001b[0;34m\u001b[0m\u001b[0m\n\u001b[1;32m      9\u001b[0m     \u001b[0mcounter\u001b[0m \u001b[0;34m=\u001b[0m \u001b[0;36m0\u001b[0m\u001b[0;34m\u001b[0m\u001b[0;34m\u001b[0m\u001b[0m\n\u001b[0;32m---> 10\u001b[0;31m     \u001b[0;32mwhile\u001b[0m \u001b[0mn\u001b[0m \u001b[0;34m%\u001b[0m \u001b[0mi\u001b[0m \u001b[0;34m==\u001b[0m \u001b[0;36m0\u001b[0m\u001b[0;34m:\u001b[0m\u001b[0;34m\u001b[0m\u001b[0;34m\u001b[0m\u001b[0m\n\u001b[0m\u001b[1;32m     11\u001b[0m       \u001b[0mn\u001b[0m \u001b[0;34m/=\u001b[0m \u001b[0mi\u001b[0m\u001b[0;34m\u001b[0m\u001b[0;34m\u001b[0m\u001b[0m\n\u001b[1;32m     12\u001b[0m       \u001b[0mcounter\u001b[0m \u001b[0;34m+=\u001b[0m \u001b[0;36m1\u001b[0m\u001b[0;34m\u001b[0m\u001b[0;34m\u001b[0m\u001b[0m\n",
            "\u001b[0;31mKeyboardInterrupt\u001b[0m: "
          ]
        }
      ]
    },
    {
      "cell_type": "markdown",
      "source": [
        "### Múltiplos de un número\n",
        "* Los múltiplos de un número son infinitos\n",
        "* Ejemplo\n",
        " - Los múltiplos de 5 son: \n",
        "  * 5 × 1 = 5\n",
        "  * 5 × 2 = 10\n",
        "  * 5 × 3 = 15\n",
        "  * 5 × 4 = 20\n",
        "  * 5 × 5 = 25\n",
        "  * ... / ..."
      ],
      "metadata": {
        "id": "r-rUPKfZ1xhL"
      }
    },
    {
      "cell_type": "markdown",
      "source": [
        "#### Método 1\n",
        "Múltiplos de un número hasta cierto límite"
      ],
      "metadata": {
        "id": "KRKK8ldt2NN0"
      }
    },
    {
      "cell_type": "code",
      "source": [
        "def multiplos_hasta_limite(numero, limite):\n",
        "  multiplos = []\n",
        "  i = 1\n",
        "  while numero*i <= limite:\n",
        "    multiplos.append(numero*i)\n",
        "    i += 1\n",
        "  return multiplos\n",
        "\n",
        "multiplos_hasta_limite(5,50)"
      ],
      "metadata": {
        "colab": {
          "base_uri": "https://localhost:8080/"
        },
        "id": "7qc0WjwT2Tc3",
        "outputId": "a7542acc-4fbd-4301-d88e-28f4edd8baeb"
      },
      "execution_count": null,
      "outputs": [
        {
          "output_type": "execute_result",
          "data": {
            "text/plain": [
              "[5, 10, 15, 20, 25, 30, 35, 40, 45, 50]"
            ]
          },
          "metadata": {},
          "execution_count": 17
        }
      ]
    },
    {
      "cell_type": "markdown",
      "source": [
        "#### Método 2\n",
        "* Múltiplos de un número, indicando el número y la cantidad de múltiplos que queremos obtener"
      ],
      "metadata": {
        "id": "24tJ28Ys3_4_"
      }
    },
    {
      "cell_type": "code",
      "source": [
        "def multiplos_hasta_cantidad(numero, cantidad):\n",
        "  multiplos = []\n",
        "  for i in range(1,cantidad+1):\n",
        "    multiplos.append(numero*i)\n",
        "  return multiplos\n",
        "\n",
        "multiplos_hasta_cantidad(5, 10)"
      ],
      "metadata": {
        "colab": {
          "base_uri": "https://localhost:8080/"
        },
        "id": "h3T0MCeN4Jnh",
        "outputId": "8653cac4-792d-4f12-afdc-3523005d5a7f"
      },
      "execution_count": null,
      "outputs": [
        {
          "output_type": "execute_result",
          "data": {
            "text/plain": [
              "[5, 10, 15, 20, 25, 30, 35, 40, 45, 50]"
            ]
          },
          "metadata": {},
          "execution_count": 18
        }
      ]
    },
    {
      "cell_type": "markdown",
      "source": [
        "### Divisores de un número\n",
        "* Son todos los números que son capaces de dividir a un número con división exacta\n",
        "* La división es exacta cuando el resto es cero\n",
        "* Ejemplo\n",
        " - El 6 es divisor de 30 porque al dividir 30 entre 6 el resultado es 5.0\n",
        " - 30 % 6 = 0\n",
        " - Los divisores de 30 son: [1, 2, 3, 5, 6, 10, 15, 30]"
      ],
      "metadata": {
        "id": "_hnb8nHy5JC-"
      }
    },
    {
      "cell_type": "code",
      "source": [
        "def divisores(n):\n",
        "  lista = []\n",
        "  for i in range(1,n+1):\n",
        "    if n % i == 0:\n",
        "      lista.append(i)\n",
        "  return lista\n",
        "\n",
        "divisores(30)"
      ],
      "metadata": {
        "colab": {
          "base_uri": "https://localhost:8080/"
        },
        "id": "5_jyYaoc502p",
        "outputId": "db884471-f8b8-4b57-ca75-6b5292c69cef"
      },
      "execution_count": null,
      "outputs": [
        {
          "output_type": "execute_result",
          "data": {
            "text/plain": [
              "[1, 2, 3, 5, 6, 10, 15, 30]"
            ]
          },
          "metadata": {},
          "execution_count": 19
        }
      ]
    },
    {
      "cell_type": "markdown",
      "source": [
        "### Máximo común divisor\n",
        "* Dados variso números, el máximo común divisor de todos ellos se obtiene calculando el máximo de todos los divisores comunes.\n",
        "* Ejemplo\n",
        " - Divisores de 20: 1,2,4,5,10,20\n",
        " - Divisores de 12: 1,2,3,4,6,12\n",
        " - Divisores comunes: 1,2,4\n",
        " - El Máximo Común Divisor es: 4"
      ],
      "metadata": {
        "id": "NsIFSEE4BdJG"
      }
    },
    {
      "cell_type": "markdown",
      "source": [
        "# Método 1"
      ],
      "metadata": {
        "id": "UNUzxBjJCHcA"
      }
    },
    {
      "cell_type": "code",
      "source": [
        "def divisores(n):\n",
        "  lista = []\n",
        "  for i in range(1,n+1):\n",
        "    if n % i == 0:\n",
        "      lista.append(i)\n",
        "  return lista\n",
        "\n",
        "def mcd(n1,n2):\n",
        "  d1 = divisores(n1)\n",
        "  d2 = divisores(n2)\n",
        "  print(d1)\n",
        "  print(d2)\n",
        "  comunes = []\n",
        "  for i in d1:\n",
        "    if i in d2:\n",
        "      comunes.append(i)\n",
        "  print(comunes)\n",
        "  return comunes[-1] # retorna el último de los divisores comunes que es el mayor\n",
        "\n",
        "mcd(60,48)"
      ],
      "metadata": {
        "colab": {
          "base_uri": "https://localhost:8080/"
        },
        "id": "wBb2KwKQCMRu",
        "outputId": "d102bdb9-7446-4642-c2f6-49e4599863ee"
      },
      "execution_count": null,
      "outputs": [
        {
          "output_type": "stream",
          "name": "stdout",
          "text": [
            "[1, 2, 3, 4, 5, 6, 10, 12, 15, 20, 30, 60]\n",
            "[1, 2, 3, 4, 6, 8, 12, 16, 24, 48]\n",
            "[1, 2, 3, 4, 6, 12]\n"
          ]
        },
        {
          "output_type": "execute_result",
          "data": {
            "text/plain": [
              "12"
            ]
          },
          "metadata": {},
          "execution_count": 2
        }
      ]
    },
    {
      "cell_type": "markdown",
      "source": [
        "#### Método 2\n",
        "* Por fuerza bruta.\n",
        "* Recorre todos los número posibles hasta encontrar el máximo común divisor\n",
        "* Recorremos todos los posibles valores para encontrar el divisor común mayor.\n",
        "* Este método es más eficiente que el anterior (tarda menos)."
      ],
      "metadata": {
        "id": "HjzFuaCEHk0K"
      }
    },
    {
      "cell_type": "code",
      "source": [
        "def mcd(n1, n2):\n",
        "  for i in range(min(n1,n2), 1, -1): # el bucle es descendente hasta el mínimo de n1 y n2\n",
        "    if n1%i == 0 and n2%i == 0:      # i es divisor exacto de n1 y n2\n",
        "      return i                       # se retorna ese i al ser el primer divisor común\n",
        "\n",
        "print(mcd(60, 48))\n",
        "print(mcd(1199092733403101, 50420370))"
      ],
      "metadata": {
        "colab": {
          "base_uri": "https://localhost:8080/"
        },
        "id": "j1O_CGDwLfP4",
        "outputId": "739a8837-cce2-4c42-99db-794b279e057e"
      },
      "execution_count": null,
      "outputs": [
        {
          "output_type": "stream",
          "name": "stdout",
          "text": [
            "12\n",
            "73\n"
          ]
        }
      ]
    },
    {
      "cell_type": "markdown",
      "source": [
        "#### Método 3 Algoritmo de Euclides\n",
        "* Si tenemos dos números enteros positivos, a y b, tales que a > b >= 0:\n",
        " - a = b*q + r\n",
        "* entonces:\n",
        " - mcd(a,b) = mcd(b,r)\n",
        "* Ejemplo 1:\n",
        " - buscamos el mcd entre 12 y 8\n",
        " - 12 = 8*1 + 4\n",
        " - mcd(12,8) = mcd(8,4)\n",
        "* Ejemplo 2: usando segmentos\n",
        " - buscamos el mcd entre 16 y 10\n",
        " - 16 % 10 = 6\n",
        " - 10 % 6 = 4\n",
        " - 6 % 4 = 2\n",
        " - 4 % 2 = 0 (fin)\n",
        " - mcd(16,10)=mcd(10,6)=mcd(6,4)=mcd(4,2)=mcd(2,0)=2\n",
        "* Ejemplo 3:\n",
        " - buscamos el mcd entre 16 y 9\n",
        " - 16 % 9 = 7\n",
        " - 9 % 7 = 2\n",
        " - 7 % 2 = 1\n",
        " - 2 % 1 = 0 (fin)\n",
        " - mcd(16,9)=mcd(9,7)=mcd(7,2)=mcd(2,1)=mcd(1,0)=1\n",
        " - 16 y 9 son \"primos entre si\" lo que supone que su único divisor común es 1"
      ],
      "metadata": {
        "id": "4ZZIURZNOlPB"
      }
    },
    {
      "cell_type": "code",
      "source": [
        "def mcd_euclides(n1, n2):\n",
        "  while True:          # repetimos el proceso\n",
        "    resto = n1 % n2\n",
        "    if resto == 0:     # hasta que el resto se cero\n",
        "      return n2        # al llegar a ese punto se retorna el mcd\n",
        "    else:              # si no se ha llegado a resto cero\n",
        "      n1 = n2          # n1 pasa a ser n2\n",
        "      n2 =resto        # n2 toma el valor del resto\n",
        "\n",
        "print(mcd_euclides(60,48))"
      ],
      "metadata": {
        "colab": {
          "base_uri": "https://localhost:8080/"
        },
        "id": "BU_9ZKEmPZ4L",
        "outputId": "6066ec02-66aa-4870-923e-46f722317ff3"
      },
      "execution_count": null,
      "outputs": [
        {
          "output_type": "stream",
          "name": "stdout",
          "text": [
            "12\n"
          ]
        }
      ]
    },
    {
      "cell_type": "markdown",
      "source": [
        "#### Método 4\n",
        "Una variante del código anterior, mejorando un poco el estilo."
      ],
      "metadata": {
        "id": "bVYUK9YEVF3u"
      }
    },
    {
      "cell_type": "code",
      "source": [
        "def mcd_euclides(n1, n2):\n",
        "  while n1 % n2 != 0:          # repetimos el proceso mientras no se llege a resto cero\n",
        "    resto = n1 % n2\n",
        "    n1 = n2\n",
        "    n2 = resto\n",
        "  return n2\n",
        "\n",
        "print(mcd_euclides(60,48))"
      ],
      "metadata": {
        "colab": {
          "base_uri": "https://localhost:8080/"
        },
        "id": "MC1sBvS1VPX-",
        "outputId": "76ecc5f3-6842-480b-b462-f4b6e6cbb678"
      },
      "execution_count": null,
      "outputs": [
        {
          "output_type": "stream",
          "name": "stdout",
          "text": [
            "12\n"
          ]
        }
      ]
    },
    {
      "cell_type": "markdown",
      "source": [
        "#### Método 5\n",
        "Una pequeña variación sobre el código anterior."
      ],
      "metadata": {
        "id": "DLOh1skrVyea"
      }
    },
    {
      "cell_type": "code",
      "source": [
        "def mcd_euclides(n1, n2):\n",
        "  while n1 % n2 != 0:\n",
        "    n1, n2 = n2, n1%n2\n",
        "  return n2\n",
        "\n",
        "print(mcd_euclides(60,48))"
      ],
      "metadata": {
        "colab": {
          "base_uri": "https://localhost:8080/"
        },
        "id": "QyXUaEbWV7TV",
        "outputId": "3b14c492-43ce-4ba2-d82f-b28e3f8beb31"
      },
      "execution_count": null,
      "outputs": [
        {
          "output_type": "stream",
          "name": "stdout",
          "text": [
            "12\n"
          ]
        }
      ]
    },
    {
      "cell_type": "markdown",
      "source": [
        "##### Tiempos\n",
        "Veamos cuantos segundos tarda el algoritmo de Euclides (método 5) y el de fuerza bruta (método 2) con números grandes."
      ],
      "metadata": {
        "id": "tn6avafz-S8d"
      }
    },
    {
      "cell_type": "code",
      "source": [
        "import time\n",
        "a =1199092733403101\n",
        "b = 50420370\n",
        "t0 = time.time()\n",
        "fb = mcd(a,b)\n",
        "t1 = time.time()\n",
        "t2 = time.time()\n",
        "eu = mcd_euclides(a,b)\n",
        "t3 = time.time()\n",
        "print(fb, t1-t0)\n",
        "print(eu, t3-t2)"
      ],
      "metadata": {
        "colab": {
          "base_uri": "https://localhost:8080/"
        },
        "id": "4zwm5Du4-yq_",
        "outputId": "172adc3d-3ed2-4493-a893-d2c65fb558b6"
      },
      "execution_count": null,
      "outputs": [
        {
          "output_type": "stream",
          "name": "stdout",
          "text": [
            "73 6.726821422576904\n",
            "73 4.6253204345703125e-05\n"
          ]
        }
      ]
    },
    {
      "cell_type": "markdown",
      "source": [
        "### Conjetura de Collatz\n",
        "* Una conjetura es una proposición matemática que se ha comprobado que se cumple para una gran cantidad de casos pero aún no se ha logrado probar que se cumple para todos los casos posibles.\n",
        "* Si una conjetura no se cumpliera para un solo caso quedaría refutada.\n",
        "* Si se llegara a probar que esa conjetura es válida para todos los casos posibles pasaría a ser considerada como un teoréma matemático.\n",
        "* La [conjetura de Collatz](https://es.wikipedia.org/wiki/Conjetura_de_Collatz) nos dice que si partimos de un número n, entero positivo y hacemos las siguientes operaciones recurrentes, siempre se llega a 1.\n",
        " - Si n es par se divide entre 2\n",
        " - Si n es impar se multiplica por 3 y luego se suma 1\n",
        "* Ejemplo:\n",
        "  - n = 13\n",
        "  - por ser 13 impar: 3 * 13 + 1 = 40\n",
        "  - por ser 40 par: 40 / 2 = 20\n",
        "  - por ser 20 par: 20 / 2 = 10\n",
        "  - por ser 10 par: 10 / 2 =5\n",
        "  - por ser 5 impar: 5 * 3 + 1 = 16\n",
        "  - por ser 16 par: 16 / 2 = 8\n",
        "  - por ser 8 par: 8 / 2 = 4\n",
        "  - por ser 4 par: 4 / 2 = 2\n",
        "  - por ser 2 par: 2 / 2 = 1 (ya hemos llegado a 1)\n",
        "  - La secuencia es: 13, 40, 20, 10, 5, 16, 8, 4, 2, **1**"
      ],
      "metadata": {
        "id": "_vo7Bh1m_2Hc"
      }
    },
    {
      "cell_type": "markdown",
      "source": [
        "#### Método 1\n",
        "Mostramos la secuencia hasta llegar a 1."
      ],
      "metadata": {
        "id": "KCFF5nT4aVRJ"
      }
    },
    {
      "cell_type": "code",
      "source": [
        "def collatz(n):\n",
        "  sec = [n]\n",
        "  while n > 1:\n",
        "    if n % 2:\n",
        "      n = 3 * n + 1\n",
        "    else:\n",
        "      n //= 2    # poniendo división entera no devuelve números float\n",
        "    sec.append(n)\n",
        "  return sec\n",
        "\n",
        "print(collatz(11))"
      ],
      "metadata": {
        "colab": {
          "base_uri": "https://localhost:8080/"
        },
        "id": "LWyBfzQXCxXd",
        "outputId": "899c171a-6f7f-4a51-ade4-6b961add602f"
      },
      "execution_count": 1,
      "outputs": [
        {
          "output_type": "stream",
          "name": "stdout",
          "text": [
            "[11, 34, 17, 52, 26, 13, 40, 20, 10, 5, 16, 8, 4, 2, 1]\n"
          ]
        }
      ]
    },
    {
      "cell_type": "markdown",
      "source": [
        "#### Método 2\n",
        "Comprobamos que se cumple la conjetura para los números hasta un millón."
      ],
      "metadata": {
        "id": "VZrof-jsa-VC"
      }
    },
    {
      "cell_type": "code",
      "source": [
        "def collatz(n):\n",
        "  while n > 1:\n",
        "    if n % 2:\n",
        "      n = 3 * n + 1\n",
        "    else:\n",
        "      n //= 2\n",
        "  return n\n",
        "\n",
        "for i in range(1, 1_000_001):\n",
        "  if i % 100_000 == 0:\n",
        "    print(\"Comprobado hasta el\", i)\n",
        "  if collatz(i) != 1:\n",
        "    print(\"No se cumple para el\", i)\n",
        "    break\n",
        "else:\n",
        "  print(\"Se cumple para todos los números del rango indicado.\")"
      ],
      "metadata": {
        "colab": {
          "base_uri": "https://localhost:8080/"
        },
        "id": "5oil5eedbGRJ",
        "outputId": "ff8b576b-fb33-4ae4-8d48-544811f1f14f"
      },
      "execution_count": 5,
      "outputs": [
        {
          "output_type": "stream",
          "name": "stdout",
          "text": [
            "Comprobado hasta el 100000\n",
            "Comprobado hasta el 200000\n",
            "Comprobado hasta el 300000\n",
            "Comprobado hasta el 400000\n",
            "Comprobado hasta el 500000\n",
            "Comprobado hasta el 600000\n",
            "Comprobado hasta el 700000\n",
            "Comprobado hasta el 800000\n",
            "Comprobado hasta el 900000\n",
            "Comprobado hasta el 1000000\n",
            "Se cumple para todos los números del rango indicado.\n"
          ]
        }
      ]
    },
    {
      "cell_type": "markdown",
      "source": [
        "### Conjetura de Goldbach\n",
        "La [Conjetura de Goldbach](https://es.wikipedia.org/wiki/Conjetura_de_Goldbach) dice:\n",
        "* Todo número par mayor que 2 puede escribirse como suma de dos números primos.\n",
        "* Hacer un programa que muestre todas las parejas de primos en las que se puede expresar todo número par mayor que 2.\n",
        "* Ejemplo para el número 14\n",
        " - 3+11=14\n",
        " - 7+7=14\n",
        " - 1+13=14 no vale porque el 1 no se considera primo"
      ],
      "metadata": {
        "id": "TadobPKGdsxn"
      }
    },
    {
      "cell_type": "markdown",
      "source": [
        "#### Método 1"
      ],
      "metadata": {
        "id": "2O1oqMUBjYyx"
      }
    },
    {
      "cell_type": "code",
      "source": [
        "def es_primo(n):\n",
        "  if n<2:\n",
        "    return False\n",
        "  for i in range(2,n):\n",
        "    if n % i == 0:\n",
        "      return False\n",
        "  return True\n",
        "\n",
        "def lista_primos(n):\n",
        "  primos = []\n",
        "  for i in range(2,n):\n",
        "    if es_primo(i):\n",
        "      primos.append(i)\n",
        "  return primos\n",
        "\n",
        "def parejas(n):\n",
        "  primos = lista_primos(n)\n",
        "  listado = []\n",
        "  for i in primos:\n",
        "    for j in primos:\n",
        "      if i+j==n:\n",
        "        candidato = [i,j]\n",
        "        candidato.sort()\n",
        "        if candidato not in listado:\n",
        "          listado.append([i,j])\n",
        "  return listado\n",
        "\n",
        "n = 50\n",
        "print(lista_primos(n))\n",
        "print(parejas(n))"
      ],
      "metadata": {
        "colab": {
          "base_uri": "https://localhost:8080/"
        },
        "id": "hRxqamZle1LT",
        "outputId": "7a5d010d-f4b5-49f0-b140-3c34c36f6f08"
      },
      "execution_count": 23,
      "outputs": [
        {
          "output_type": "stream",
          "name": "stdout",
          "text": [
            "[2, 3, 5, 7, 11, 13, 17, 19, 23, 29, 31, 37, 41, 43, 47]\n",
            "[[3, 47], [7, 43], [13, 37], [19, 31]]\n"
          ]
        }
      ]
    },
    {
      "cell_type": "markdown",
      "source": [
        "#### Método 2\n",
        "* Dado el número par n (por ejemplo n = 14)\n",
        "* Recorremos todos los números primos desde 2 hasta n-1 (hasta 13)\n",
        " - Llegamos al primer primo (a) que es 2\n",
        " - Si al número n le restamos el primer primo (a), nos quedará otro número (llamado b)\n",
        " - Si b es primo, ya tenemos nuestra primera pareja de primos\n",
        " - Continuamos con el siguiente primo después del 2, que es 3 y repetimos el proceso\n",
        "* Al final la parejas se repiten ya que:\n",
        " - 3 + 11 = 14\n",
        " - 11 + 3 = 14\n",
        "* Para evitar repetidos añadimos otro condicional para que solo trabaje con números donde a<=b"
      ],
      "metadata": {
        "id": "OLo4HElcjbpP"
      }
    },
    {
      "cell_type": "code",
      "source": [
        "def es_primo(n):\n",
        "  if n<2:\n",
        "    return False\n",
        "  for i in range(2, n):  # desde 2 hasta n-1\n",
        "    if n % i == 0:\n",
        "      return False\n",
        "  return True\n",
        "\n",
        "n = 50\n",
        "for a in range(2,n):\n",
        "  if es_primo(a):\n",
        "    b = n - a\n",
        "    if es_primo(b):\n",
        "      if a <= b:\n",
        "        print(f\"Pareja de Primos {a} + {b} = {n}\")"
      ],
      "metadata": {
        "colab": {
          "base_uri": "https://localhost:8080/"
        },
        "id": "uIinc37kjg2p",
        "outputId": "7d9f55d5-2767-4d0e-90f2-0561930efe6a"
      },
      "execution_count": 21,
      "outputs": [
        {
          "output_type": "stream",
          "name": "stdout",
          "text": [
            "Pareja de Primos 3 + 47 = 50\n",
            "Pareja de Primos 7 + 43 = 50\n",
            "Pareja de Primos 13 + 37 = 50\n",
            "Pareja de Primos 19 + 31 = 50\n"
          ]
        }
      ]
    },
    {
      "cell_type": "markdown",
      "source": [
        "#### Método 3\n",
        "Optimizando el código para evitar que nos den un n impar o un n que no sea mayor que 2."
      ],
      "metadata": {
        "id": "9tUphr34m7y4"
      }
    },
    {
      "cell_type": "code",
      "source": [
        "def es_primo(n):\n",
        "  if n<2:\n",
        "    return False\n",
        "  for i in range(2,n):  # desde 2 hasta n-1\n",
        "    if n % i == 0:\n",
        "      return False\n",
        "  return True\n",
        "\n",
        "n = 100\n",
        "\n",
        "if n % 2 == 0 and n > 2:\n",
        "  print(f\"{n} \", end=\"\")\n",
        "  encontrado = False\n",
        "  for a in range(2, n):\n",
        "    if es_primo(a):\n",
        "      b = n - a\n",
        "      if es_primo(b):\n",
        "        encontrado = True\n",
        "        if a <= b:\n",
        "          print(f\"= {a}+{b} \", end=\"\")\n",
        "  if not encontrado:\n",
        "    print(\"No se ha encontrado ninguna pareja\")\n",
        "else:\n",
        "  print(\"No es un número válido\")"
      ],
      "metadata": {
        "colab": {
          "base_uri": "https://localhost:8080/"
        },
        "id": "QyCY9cIznE09",
        "outputId": "c5094dfc-31ef-4797-e628-7406cc12f083"
      },
      "execution_count": 28,
      "outputs": [
        {
          "output_type": "stream",
          "name": "stdout",
          "text": [
            "100 = 3+97 = 11+89 = 17+83 = 29+71 = 41+59 = 47+53 "
          ]
        }
      ]
    }
  ],
  "metadata": {
    "colab": {
      "name": "Python_CoderDojo18.ipynb",
      "provenance": [],
      "collapsed_sections": [],
      "authorship_tag": "ABX9TyPNG55Awl8k2oVTeS8D23tF",
      "include_colab_link": true
    },
    "kernelspec": {
      "display_name": "Python 3",
      "name": "python3"
    },
    "language_info": {
      "name": "python"
    }
  },
  "nbformat": 4,
  "nbformat_minor": 0
}