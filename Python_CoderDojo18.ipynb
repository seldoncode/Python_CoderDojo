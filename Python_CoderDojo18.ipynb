{
  "nbformat": 4,
  "nbformat_minor": 0,
  "metadata": {
    "colab": {
      "name": "Python_CoderDojo18.ipynb",
      "provenance": [],
      "authorship_tag": "ABX9TyN0xrpkenbfCvKud2XsHIFg",
      "include_colab_link": true
    },
    "kernelspec": {
      "name": "python3",
      "display_name": "Python 3"
    },
    "language_info": {
      "name": "python"
    }
  },
  "cells": [
    {
      "cell_type": "markdown",
      "metadata": {
        "id": "view-in-github",
        "colab_type": "text"
      },
      "source": [
        "<a href=\"https://colab.research.google.com/github/seldoncode/Python_CoderDojo/blob/main/Python_CoderDojo18.ipynb\" target=\"_parent\"><img src=\"https://colab.research.google.com/assets/colab-badge.svg\" alt=\"Open In Colab\"/></a>"
      ]
    },
    {
      "cell_type": "markdown",
      "source": [
        "# Matemáticas"
      ],
      "metadata": {
        "id": "DqZZhK2KcDey"
      }
    },
    {
      "cell_type": "markdown",
      "source": [
        "### Valor absoluto\n",
        "Valor positivo independientemente de su signo."
      ],
      "metadata": {
        "id": "llPJQWpucQoe"
      }
    },
    {
      "cell_type": "code",
      "source": [
        "x = -5\n",
        "print(abs(x))\n",
        "\n",
        "def valor_absoluto(x):\n",
        "  if x<0:\n",
        "    x = -x\n",
        "  return x\n",
        "\n",
        "print(valor_absoluto(x))"
      ],
      "metadata": {
        "colab": {
          "base_uri": "https://localhost:8080/"
        },
        "id": "l3Gw-gDxcWYm",
        "outputId": "ab3a87ec-4db2-434d-a9ab-e7813a0b8b6f"
      },
      "execution_count": null,
      "outputs": [
        {
          "output_type": "stream",
          "name": "stdout",
          "text": [
            "5\n",
            "5\n"
          ]
        }
      ]
    },
    {
      "cell_type": "markdown",
      "source": [
        "### Potencia de un número"
      ],
      "metadata": {
        "id": "XvGMylDodauf"
      }
    },
    {
      "cell_type": "code",
      "source": [
        "x = 2\n",
        "y = 5\n",
        "print(x**y)\n",
        "print(pow(x,y))\n",
        "\n",
        "def potencia(x,y):    # y tiene que ser un número entero\n",
        "  resultado = 1\n",
        "  for i in range(y):\n",
        "    resultado *= x\n",
        "  return resultado\n",
        "\n",
        "potencia(x,y)"
      ],
      "metadata": {
        "colab": {
          "base_uri": "https://localhost:8080/"
        },
        "id": "4E-XNKMzdoNX",
        "outputId": "82762b32-5592-4b95-8abd-783731577b9b"
      },
      "execution_count": null,
      "outputs": [
        {
          "output_type": "stream",
          "name": "stdout",
          "text": [
            "32\n",
            "32\n"
          ]
        },
        {
          "output_type": "execute_result",
          "data": {
            "text/plain": [
              "32"
            ]
          },
          "metadata": {},
          "execution_count": 9
        }
      ]
    },
    {
      "cell_type": "markdown",
      "source": [
        "### Raiz cuadrada"
      ],
      "metadata": {
        "id": "7qRdwhY-fFIe"
      }
    },
    {
      "cell_type": "markdown",
      "source": [
        "#### Método 1\n",
        "* Método muy poco eficiente.\n",
        "* Admite un error grande, o si queremos que el error admitido sea menor, el tiempo de cálculo será muy grande."
      ],
      "metadata": {
        "id": "U7cJwu1o2PlS"
      }
    },
    {
      "cell_type": "code",
      "source": [
        "import math\n",
        "a = 81\n",
        "print(a**.5)           # elevando a (1/2)\n",
        "print(math.sqrt(a))    # con la librería math usando la función sqrt\n",
        "\n",
        "def raiz1(n):\n",
        "  x = 0\n",
        "  while x * x <= n:    # buscamos un número (x) que multiplicado por si mismo de el número buscado (n)\n",
        "    x += 0.001\n",
        "  return x\n",
        "\n",
        "print(raiz1(a))"
      ],
      "metadata": {
        "colab": {
          "base_uri": "https://localhost:8080/"
        },
        "id": "Kx4VNagQ9Mid",
        "outputId": "8f1e2685-fb52-4e65-c6c1-e27335ec2f0c"
      },
      "execution_count": null,
      "outputs": [
        {
          "output_type": "stream",
          "name": "stdout",
          "text": [
            "1414.213562373095\n",
            "1414.213562373095\n",
            "1414.2139999734702\n"
          ]
        }
      ]
    },
    {
      "cell_type": "markdown",
      "source": [
        "#### Método 2\n",
        "Método babilónico"
      ],
      "metadata": {
        "id": "ww6hz2Z5862_"
      }
    },
    {
      "cell_type": "code",
      "source": [
        "import math\n",
        "x = 2_000_000       # tiene que ser no negativo\n",
        "print(x**.5)\n",
        "print(math.sqrt(x))\n",
        "\n",
        "def raiz2(x):\n",
        "  b = 1             # base del rectángulo\n",
        "  h = x / b         # altura del rectángulo\n",
        "  if x<1: b,h=h,b   # para que conveja el caso en que x<1\n",
        "  while True:       # deseamos que b y h coincidan para que el rectángulo sea un cuadrado\n",
        "    med = (b+h)/2   # media\n",
        "    if abs(med*med - x) < 1e-9:\n",
        "      return med\n",
        "    elif med*med -x < 0:\n",
        "      b = med\n",
        "    else:\n",
        "      h = med\n",
        "\n",
        "print(raiz2(x))"
      ],
      "metadata": {
        "colab": {
          "base_uri": "https://localhost:8080/"
        },
        "id": "DnMWlkXd5mDH",
        "outputId": "40d9d1d5-2c52-4d24-b04d-1acd7103389e"
      },
      "execution_count": null,
      "outputs": [
        {
          "output_type": "stream",
          "name": "stdout",
          "text": [
            "1414.213562373095\n",
            "1414.213562373095\n",
            "1414.213562373095\n"
          ]
        }
      ]
    },
    {
      "cell_type": "markdown",
      "source": [
        "#### Método 3\n",
        "* Es una variante del método anterior.\n",
        "* En lugar de usar una cierta tolerancia o error admitido para salir del bucle y terminar el cálculo, lo que hacemos es aprovecharnos de que los cálculos con coma flotante llega un momento en que ya no admiten más precisión y que la media se estanca y no mejora en precisión.\n",
        "* Cuando vemos que la media se ha estancado es cuando finaliza el bucle\n",
        "* Sabemos que la media se ha estancado porque tomamos su valor de la iteración anterior con la variable old y la comparamos con la nueva media med.\n",
        "* Cuando ambas son iguales se acaba el bucle.\n",
        "* Cuando ```med == old```"
      ],
      "metadata": {
        "id": "BtQ9ubkE2xV-"
      }
    },
    {
      "cell_type": "code",
      "source": [
        "import math\n",
        "x = 2_000_000\n",
        "print(x**.5)\n",
        "print(math.sqrt(x))\n",
        "\n",
        "def raiz3(x):\n",
        "  b = 1\n",
        "  h = x / b\n",
        "  if x < 1:\n",
        "    b, h = h, b\n",
        "  med = None\n",
        "  while True:\n",
        "    old = med      # old es el valor de la media de la anterior iteración\n",
        "    med = (b+h)/2  # en esta nueva iteración se recalcula el valor de la media\n",
        "    if med == old: # se termina cuando la media se estanca\n",
        "      return med\n",
        "    elif med*med -x < 0:\n",
        "      b = med\n",
        "    else:\n",
        "      h = med\n",
        "\n",
        "print(raiz3(x))"
      ],
      "metadata": {
        "colab": {
          "base_uri": "https://localhost:8080/"
        },
        "id": "WCrMseLUIpkU",
        "outputId": "f50365a3-dd0c-4ec2-b4c3-80c2f1949ad5"
      },
      "execution_count": null,
      "outputs": [
        {
          "output_type": "stream",
          "name": "stdout",
          "text": [
            "1414.213562373095\n",
            "1414.213562373095\n",
            "1414.213562373095\n"
          ]
        }
      ]
    },
    {
      "cell_type": "markdown",
      "source": [
        "#### Método 4\n",
        "* Deseamos calcular la raiz cuadrada de x\n",
        "* Buscamos un infimo (inf) suficientemente bajo, con el que estemos seguros de que su cuadrado es menor que x\n",
        "* Buscamos un supremo (sup) suficientemente alto, con el que estemos seguros de que su cuadrado es mayor que x\n",
        "* Si el infimo (inf) no es suficientemente bajo nos metemos en un bucle para hacer mitades hasta que se cumpla que su cuadrado es menor o igual que x\n",
        "* Si el supremo (sup) no es suficientemente alto nos metemos en un bucle para hacer dobles hasta que se cumpla que su cuadrado es mayor o igual que x"
      ],
      "metadata": {
        "id": "mcuynohBPLY4"
      }
    },
    {
      "cell_type": "code",
      "source": [
        "import math\n",
        "x = 2_000_000\n",
        "print(x**.5)\n",
        "print(math.sqrt(x))\n",
        "\n",
        "def raiz4(x):\n",
        "  tolerancia = 1e-9\n",
        "  inf = 1   # infimo\n",
        "  sup = 100 # supremo\n",
        "  while inf*inf > x:  # nos aseguramos que el inf es suficientemente bajo\n",
        "    inf /= 2\n",
        "  while sup*sup < x:  # nos aseguramos que el sup es suficientemente alto\n",
        "    sup *= 2\n",
        "  while True:\n",
        "    med = (inf+sup)/2   # media\n",
        "    dif_med = med*med-x # diferencia entre x y la media al cuadrado\n",
        "    if abs(dif_med) < tolerancia:\n",
        "      break\n",
        "    if dif_med > 0:\n",
        "      sup = med\n",
        "    else:\n",
        "      inf = med\n",
        "  return med\n",
        "\n",
        "print(raiz4(x))"
      ],
      "metadata": {
        "colab": {
          "base_uri": "https://localhost:8080/"
        },
        "id": "GplQDqYNfI0B",
        "outputId": "3dc34d41-4874-46f0-bbf2-c3132e07e86d"
      },
      "execution_count": null,
      "outputs": [
        {
          "output_type": "stream",
          "name": "stdout",
          "text": [
            "1414.213562373095\n",
            "1414.213562373095\n",
            "1414.2135623730953\n"
          ]
        }
      ]
    },
    {
      "cell_type": "markdown",
      "source": [
        "### Factorial\n",
        "* El factorial de 5 es:\n",
        " - 5! = 5 * 4 * 3 * 2 * 1 = 120\n",
        "* El factorial de n es:\n",
        " - n! = n * (n-1) * (n-2) * ···· * 1"
      ],
      "metadata": {
        "id": "5y21dAQ_8NZt"
      }
    },
    {
      "cell_type": "markdown",
      "source": [
        "#### Método 1\n",
        "Usando una librería."
      ],
      "metadata": {
        "id": "wjHIaF4Z8oF5"
      }
    },
    {
      "cell_type": "code",
      "source": [
        "import math\n",
        "print(math.factorial(5))\n",
        "print(math.factorial(0))  # por definición, el factorial de cero es uno"
      ],
      "metadata": {
        "colab": {
          "base_uri": "https://localhost:8080/"
        },
        "id": "xBqqKud_8uUw",
        "outputId": "ea64b1f5-df30-4f4d-d398-a74c952bd48b"
      },
      "execution_count": 4,
      "outputs": [
        {
          "output_type": "stream",
          "name": "stdout",
          "text": [
            "120\n",
            "1\n"
          ]
        }
      ]
    },
    {
      "cell_type": "markdown",
      "source": [
        "#### Método 2\n",
        "Programando nuestra propia función factorial."
      ],
      "metadata": {
        "id": "j2FtttPj9hdt"
      }
    },
    {
      "cell_type": "code",
      "source": [
        "def fac(n):\n",
        "  f = 1\n",
        "  for i in range(1,n+1):\n",
        "    f *= i\n",
        "  return f\n",
        "\n",
        "print(fac(5))\n",
        "print(fac(0))"
      ],
      "metadata": {
        "colab": {
          "base_uri": "https://localhost:8080/"
        },
        "id": "Ex1jutc39nD2",
        "outputId": "8bce961c-942a-411a-f528-f2889fa5aab0"
      },
      "execution_count": 6,
      "outputs": [
        {
          "output_type": "stream",
          "name": "stdout",
          "text": [
            "120\n",
            "1\n"
          ]
        }
      ]
    },
    {
      "cell_type": "markdown",
      "source": [
        "### Combinaciones sin repetición\n",
        "* Calcular el número de combinaciones sin repetición de m elementos tomados de n en n.\n",
        "* Requiere calcular el factorial."
      ],
      "metadata": {
        "id": "rNVWfBA_L209"
      }
    },
    {
      "cell_type": "markdown",
      "source": [
        "#### Método 1\n",
        "$$C^n_m=\\frac{m!}{n!*(m-n)!}$$"
      ],
      "metadata": {
        "id": "Rf9oMzyOODWO"
      }
    },
    {
      "cell_type": "code",
      "source": [
        "from math import factorial\n",
        "def combinaciones_sin_repeticion(m,n):\n",
        "  if m<n:\n",
        "    return 0\n",
        "  else:\n",
        "    comb = factorial(m) / (factorial(n) * factorial(m-n))\n",
        "    return comb\n",
        "\n",
        "print(combinaciones_sin_repeticion(8,3))"
      ],
      "metadata": {
        "colab": {
          "base_uri": "https://localhost:8080/"
        },
        "id": "qqI-MYCSMHcp",
        "outputId": "f2d73c90-eabf-4415-cbc4-5757a91682c9"
      },
      "execution_count": 22,
      "outputs": [
        {
          "output_type": "stream",
          "name": "stdout",
          "text": [
            "56.0\n"
          ]
        }
      ]
    },
    {
      "cell_type": "markdown",
      "source": [
        "#### Método 2\n",
        "* Podemos simplificar la expresión para no realizar tantos cálculos.\n",
        "\n",
        "\n",
        "$$C^8_3 = \\frac{8!}{3!*(8-3)!} = \\frac{8!}{3!*5!} = \\frac{8·7·6·5!}{3!*5!} = \\frac{8·7·6}{3·2·1} = 56$$"
      ],
      "metadata": {
        "id": "4OJn-4scOH57"
      }
    },
    {
      "cell_type": "code",
      "source": [
        "from math import factorial\n",
        "\n",
        "def combina_sin_rep(m,n):\n",
        "  if m<n:\n",
        "    return 0\n",
        "  else:\n",
        "    numerador = denominador = 1\n",
        "    for i in range(m,m-n,-1):\n",
        "      numerador *= i\n",
        "      denominador *= i-(m-n)\n",
        "    return numerador / denominador\n",
        "\n",
        "print(combina_sin_rep(8,3))\n",
        "print(factorial(8) / (factorial(3) * factorial(8-3)))"
      ],
      "metadata": {
        "colab": {
          "base_uri": "https://localhost:8080/"
        },
        "id": "LAejyp5FQ2l9",
        "outputId": "745efb40-db50-4667-b051-6ea7c39c8ec3"
      },
      "execution_count": 23,
      "outputs": [
        {
          "output_type": "stream",
          "name": "stdout",
          "text": [
            "56.0\n",
            "56.0\n"
          ]
        }
      ]
    }
  ]
}