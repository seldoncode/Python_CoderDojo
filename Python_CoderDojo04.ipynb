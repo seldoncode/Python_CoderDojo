{
  "nbformat": 4,
  "nbformat_minor": 0,
  "metadata": {
    "colab": {
      "name": "Python_CoderDojo04.ipynb",
      "provenance": [],
      "collapsed_sections": [],
      "authorship_tag": "ABX9TyPnLIk2Oc73foBs/4QrX8dB",
      "include_colab_link": true
    },
    "kernelspec": {
      "name": "python3",
      "display_name": "Python 3"
    },
    "language_info": {
      "name": "python"
    }
  },
  "cells": [
    {
      "cell_type": "markdown",
      "metadata": {
        "id": "view-in-github",
        "colab_type": "text"
      },
      "source": [
        "<a href=\"https://colab.research.google.com/github/seldoncode/Python_CoderDojo/blob/main/Python_CoderDojo04.ipynb\" target=\"_parent\"><img src=\"https://colab.research.google.com/assets/colab-badge.svg\" alt=\"Open In Colab\"/></a>"
      ]
    },
    {
      "cell_type": "markdown",
      "metadata": {
        "id": "XjkvhFfc-eQT"
      },
      "source": [
        "# Los condicionales\n",
        "Usando un condicional ```if``` podremos tomar decisiones.\n",
        "\n",
        "Sintaxis:\n",
        "\n",
        "```if condición:```  \n",
        "&nbsp; &nbsp; &nbsp;  ```  línea 1```  \n",
        "&nbsp; &nbsp; &nbsp;  ```  línea 2```  \n",
        "    \n",
        "```línea 3```\n",
        "\n",
        "* Se analiza la condición y si es verdadera (```True```) se ejecutan las líneas que están dentro del if (que son las ve van indentadas).\n",
        "* Después de la condición se pone el signo de dos puntos ```:```\n",
        "* Cuando se termina de ejecutar el ```if``` se continúa ejecutando el resto del códgio, por ejemplo la línea 3.\n",
        "* Si la condición fuera ```False``` no se ejecutarían las líneas 1 y 2 pero si la 3."
      ]
    },
    {
      "cell_type": "code",
      "metadata": {
        "colab": {
          "base_uri": "https://localhost:8080/"
        },
        "id": "8GKmR0W9_Iox",
        "outputId": "f55c16ea-d37b-4b68-f027-1135e0012f69"
      },
      "source": [
        "if 2<5:\n",
        "  print(\"Hola\")"
      ],
      "execution_count": 1,
      "outputs": [
        {
          "output_type": "stream",
          "name": "stdout",
          "text": [
            "Hola\n"
          ]
        }
      ]
    },
    {
      "cell_type": "code",
      "metadata": {
        "colab": {
          "base_uri": "https://localhost:8080/"
        },
        "id": "IPcho3XdBY3v",
        "outputId": "2d2d2611-bb00-4ed3-b51e-b72a3207b56e"
      },
      "source": [
        "# ejecute el programa primero con n=10 y luego cambie a otro valor, por ejemplo, n=2\n",
        "n = 10                                          # si n=2 solo se imprimiría la primera frase y la última, pero no la del interior del if porque no se cumpliría la condición\n",
        "print(\"Inicio del programa\")                    # esta frase se imprime siempre\n",
        "if 5 < n:                                       # se analiza la condición lógica que puede ser un True o un False\n",
        "  print(f\"Hemos visto que 5 es menor que {n}\")  # esta frase solo se imprime si se cumple la condición\n",
        "\n",
        "print(\"Fin del programa\")                       # esta frase se imprime siempre"
      ],
      "execution_count": 2,
      "outputs": [
        {
          "output_type": "stream",
          "name": "stdout",
          "text": [
            "Inicio del programa\n",
            "Hemos visto que 5 es menor que 10\n",
            "Fin del programa\n"
          ]
        }
      ]
    },
    {
      "cell_type": "markdown",
      "metadata": {
        "id": "FIZr0i-jCrI3"
      },
      "source": [
        "### Reto 4.1. Ver si es mayor de edad\n",
        "* Pedir al usuario que diga su nombre.\n",
        "* Pedir al usuario que diga su edad.\n",
        "* Si es mayor de edad imprimir una frase que lo diga.\n",
        "* Imprimir una frase de despedida donde se mencione el nombre del usuario.\n",
        "* Al final imprimir \"Fin del programa\"."
      ]
    },
    {
      "cell_type": "markdown",
      "metadata": {
        "id": "e_OZuVHwD9cs"
      },
      "source": [
        "## Comparar dos números\n",
        "Veamos varias condiciones ```if```que van seguidos.  \n",
        "Se analizarán todos de forma independiente."
      ]
    },
    {
      "cell_type": "code",
      "metadata": {
        "colab": {
          "base_uri": "https://localhost:8080/"
        },
        "id": "eXnT2p2xEbth",
        "outputId": "f91cda69-cf58-4353-eb15-cebdecf6106e"
      },
      "source": [
        "x = 5\n",
        "y = 10                  # puede cambiar los valores de x e y para ver actuar los condicionales siguientes\n",
        "\n",
        "if x < y:\n",
        "  print(f\"Comprobamos que {x} es menor que {y}.\")\n",
        "\n",
        "if x > y:\n",
        "  print(f\"Comprobamos que {x} es mayor que {y}.\")\n",
        "\n",
        "print(\"Fin del programa.\")"
      ],
      "execution_count": 7,
      "outputs": [
        {
          "output_type": "stream",
          "name": "stdout",
          "text": [
            "Comprobamos que 5 es menor que 10.\n",
            "Fin del programa.\n"
          ]
        }
      ]
    },
    {
      "cell_type": "markdown",
      "metadata": {
        "id": "5hMuTPLFFvwH"
      },
      "source": [
        "### Reto 4.2. Incluir el caso en que los dos números sean iguales\n",
        "Mejore el códgio anterior incluyendo el caso en que los dos números puedan llegar a ser iguales."
      ]
    },
    {
      "cell_type": "markdown",
      "metadata": {
        "id": "lti1cHl1GZvU"
      },
      "source": [
        "### Reto 4.3. Juego de la suma de dos números\n",
        "* Pedir al usuario que introduzca dos números cuya suma sea 10\n",
        "* Si la suma es 10, informar al usario que ha GANADO\n",
        "* Si la suma no es 10, informar al usario que ha PERDIDO\n",
        "* Imprimir finalmente \"Game over\""
      ]
    },
    {
      "cell_type": "markdown",
      "metadata": {
        "id": "BHpzyjnWH8TG"
      },
      "source": [
        "## Y en caso contrario: ```else```\n",
        "Podemos crear un condicional ```if``` que analiza una condición,  \n",
        "* si se cumple ejecuta una línea (o varias) y  \n",
        "* si no se cumple, ejecuta otra línea (u otras)"
      ]
    },
    {
      "cell_type": "code",
      "metadata": {
        "colab": {
          "base_uri": "https://localhost:8080/"
        },
        "id": "w0pz5ZKlIf6U",
        "outputId": "d9f75af3-f892-4aab-d5a4-11d70a7f82c3"
      },
      "source": [
        "print(\"Veamos si usted es mayor de edad o no.\")\n",
        "edad = int(input(\"Diga su edad: \"))\n",
        "\n",
        "if edad < 18:\n",
        "  print(\"Usted es menor de edad.\")\n",
        "else:                                  # y en caso contrario\n",
        "  print(\"Usted es mayor de edad.\")\n",
        "\n",
        "print(\"Fin del programa.\")             # esta linea se ejecuta siempre"
      ],
      "execution_count": 12,
      "outputs": [
        {
          "output_type": "stream",
          "name": "stdout",
          "text": [
            "Veamos si usted es mayor de edad o no.\n",
            "Diga su edad: 12\n",
            "Usted es menor de edad.\n",
            "Fin del programa.\n"
          ]
        }
      ]
    }
  ]
}