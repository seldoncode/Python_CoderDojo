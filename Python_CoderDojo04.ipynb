{
  "nbformat": 4,
  "nbformat_minor": 0,
  "metadata": {
    "colab": {
      "name": "Python_CoderDojo04.ipynb",
      "provenance": [],
      "collapsed_sections": [],
      "include_colab_link": true
    },
    "kernelspec": {
      "name": "python3",
      "display_name": "Python 3"
    },
    "language_info": {
      "name": "python"
    }
  },
  "cells": [
    {
      "cell_type": "markdown",
      "metadata": {
        "id": "view-in-github",
        "colab_type": "text"
      },
      "source": [
        "<a href=\"https://colab.research.google.com/github/seldoncode/Python_CoderDojo/blob/main/Python_CoderDojo04.ipynb\" target=\"_parent\"><img src=\"https://colab.research.google.com/assets/colab-badge.svg\" alt=\"Open In Colab\"/></a>"
      ]
    },
    {
      "cell_type": "markdown",
      "metadata": {
        "id": "XjkvhFfc-eQT"
      },
      "source": [
        "# Los condicionales\n",
        "Usando un condicional ```if``` podremos tomar decisiones.\n",
        "\n",
        "Sintaxis:\n",
        "\n",
        "```if condición:```  \n",
        "&nbsp; &nbsp; &nbsp;  ```  línea 1```  \n",
        "&nbsp; &nbsp; &nbsp;  ```  línea 2```  \n",
        "    \n",
        "```línea 3```\n",
        "\n",
        "* Se analiza la condición y si es verdadera (```True```) se ejecutan las líneas que están dentro del if (que son las ve van indentadas).\n",
        "* Después de la condición se pone el signo de dos puntos ```:```\n",
        "* Cuando se termina de ejecutar el ```if``` se continúa ejecutando el resto del códgio, por ejemplo la línea 3.\n",
        "* Si la condición fuera ```False``` no se ejecutarían las líneas 1 y 2 pero si la 3."
      ]
    },
    {
      "cell_type": "code",
      "metadata": {
        "colab": {
          "base_uri": "https://localhost:8080/"
        },
        "id": "8GKmR0W9_Iox",
        "outputId": "f55c16ea-d37b-4b68-f027-1135e0012f69"
      },
      "source": [
        "if 2<5:\n",
        "  print(\"Hola\")"
      ],
      "execution_count": null,
      "outputs": [
        {
          "output_type": "stream",
          "name": "stdout",
          "text": [
            "Hola\n"
          ]
        }
      ]
    },
    {
      "cell_type": "code",
      "metadata": {
        "colab": {
          "base_uri": "https://localhost:8080/"
        },
        "id": "IPcho3XdBY3v",
        "outputId": "77b8e0bc-c305-425a-ba4c-1bfb725fb417"
      },
      "source": [
        "# ejecute el programa primero con n=10 y luego cambie a otro valor, por ejemplo, n=2\n",
        "n = 10                                            # si n=2 solo se imprimiría la primera frase y la última, pero no la del interior del if porque no se cumpliría la condición\n",
        "print(\"Inicio del programa.\")                     # esta frase se imprime siempre\n",
        "if n > 5:                                         # se analiza la condición lógica que puede ser un True o un False\n",
        "  print(f\"Hemos visto que {n} es mayor que 5.\")   # esta frase solo se imprime si se cumple la condición\n",
        "\n",
        "print(\"Fin del programa.\")                        # esta frase se imprime siempre"
      ],
      "execution_count": null,
      "outputs": [
        {
          "output_type": "stream",
          "name": "stdout",
          "text": [
            "Inicio del programa.\n",
            "Fin del programa.\n"
          ]
        }
      ]
    },
    {
      "cell_type": "markdown",
      "metadata": {
        "id": "FIZr0i-jCrI3"
      },
      "source": [
        "### Reto 4.1. Ver si es mayor de edad\n",
        "* Pedir al usuario que diga su nombre.\n",
        "* Pedir al usuario que diga su edad.\n",
        "* Si es mayor de edad imprimir una frase que lo diga.\n",
        "* Imprimir una frase de despedida donde se mencione el nombre del usuario.\n",
        "* Al final imprimir \"Fin del programa\"."
      ]
    },
    {
      "cell_type": "markdown",
      "metadata": {
        "id": "e_OZuVHwD9cs"
      },
      "source": [
        "## Comparar dos números\n",
        "Veamos varias condiciones ```if``` que van seguidas.  \n",
        "Se analizarán todas las condiciones, de forma independiente."
      ]
    },
    {
      "cell_type": "code",
      "metadata": {
        "colab": {
          "base_uri": "https://localhost:8080/"
        },
        "id": "eXnT2p2xEbth",
        "outputId": "f91cda69-cf58-4353-eb15-cebdecf6106e"
      },
      "source": [
        "x = 5\n",
        "y = 10                  # puede cambiar los valores de x e y para ver actuar los condicionales siguientes\n",
        "\n",
        "if x < y:\n",
        "  print(f\"Comprobamos que {x} es menor que {y}.\")\n",
        "\n",
        "if x > y:\n",
        "  print(f\"Comprobamos que {x} es mayor que {y}.\")\n",
        "\n",
        "print(\"Fin del programa.\")"
      ],
      "execution_count": null,
      "outputs": [
        {
          "output_type": "stream",
          "name": "stdout",
          "text": [
            "Comprobamos que 5 es menor que 10.\n",
            "Fin del programa.\n"
          ]
        }
      ]
    },
    {
      "cell_type": "markdown",
      "metadata": {
        "id": "5hMuTPLFFvwH"
      },
      "source": [
        "### Reto 4.2. Incluir el caso en que los dos números sean iguales\n",
        "Mejore el códgio anterior incluyendo el caso en que los dos números puedan llegar a ser iguales."
      ]
    },
    {
      "cell_type": "markdown",
      "metadata": {
        "id": "lti1cHl1GZvU"
      },
      "source": [
        "### Reto 4.3. Juego de la suma de dos números\n",
        "* Pedir al usuario que introduzca dos números cuya suma sea 10\n",
        "* Si la suma es 10, informar al usario que ha GANADO\n",
        "* Si la suma no es 10, informar al usario que ha PERDIDO\n",
        "* Imprimir finalmente \"Game over\""
      ]
    },
    {
      "cell_type": "markdown",
      "metadata": {
        "id": "BHpzyjnWH8TG"
      },
      "source": [
        "## Y en caso contrario: ```else```\n",
        "Podemos crear un condicional ```if``` que analiza una condición,  \n",
        "* si se cumple ejecuta una línea (o varias) y  \n",
        "* si no se cumple, ejecuta otra línea (u otras)"
      ]
    },
    {
      "cell_type": "code",
      "metadata": {
        "colab": {
          "base_uri": "https://localhost:8080/"
        },
        "id": "w0pz5ZKlIf6U",
        "outputId": "d9f75af3-f892-4aab-d5a4-11d70a7f82c3"
      },
      "source": [
        "print(\"Veamos si usted es mayor de edad o no.\")\n",
        "edad = int(input(\"Diga su edad: \"))\n",
        "\n",
        "if edad < 18:\n",
        "  print(\"Usted es menor de edad.\")\n",
        "else:                                  # y en caso contrario\n",
        "  print(\"Usted es mayor de edad.\")\n",
        "\n",
        "print(\"Fin del programa.\")             # esta linea se ejecuta siempre"
      ],
      "execution_count": null,
      "outputs": [
        {
          "output_type": "stream",
          "name": "stdout",
          "text": [
            "Veamos si usted es mayor de edad o no.\n",
            "Diga su edad: 12\n",
            "Usted es menor de edad.\n",
            "Fin del programa.\n"
          ]
        }
      ]
    },
    {
      "cell_type": "markdown",
      "metadata": {
        "id": "mLwcdluYLoID"
      },
      "source": [
        "## Condicionales anidados\n"
      ]
    },
    {
      "cell_type": "code",
      "metadata": {
        "colab": {
          "base_uri": "https://localhost:8080/"
        },
        "id": "jvJiIF4L8ge1",
        "outputId": "67f2c2ac-6910-4a08-b14a-21bbd76ba7a9"
      },
      "source": [
        "x = 7 # dinero que tengo ahorrado, pruebe también con 16 € y con 23 €.\n",
        "\n",
        "if x > 10:\n",
        "  print(\"Tengo ahrrados más de 10 €,\")\n",
        "  if x > 20:                                   # este segundo if está anidado dentro del otro\n",
        "    print(\"e incluso ¡más de 20 €!\")\n",
        "  else:\n",
        "    print(\"pero menos de 20 €.\")\n",
        "else:\n",
        "  print(f\"Lo que he ahorrado no supera los 10 €, son exactamente {x} €.\") "
      ],
      "execution_count": null,
      "outputs": [
        {
          "output_type": "stream",
          "name": "stdout",
          "text": [
            "Lo que he ahorrado no supera los 10 €, son exactamente 7 €.\n"
          ]
        }
      ]
    },
    {
      "cell_type": "markdown",
      "metadata": {
        "id": "6P4lK2_k9IHd"
      },
      "source": [
        "### Reto 4.4. Comparar edades de dos amigos\n",
        "* Solicitar que se introduzca el nombre y la edad de un amigo\n",
        "* Solicitar que se introduzca el nombre y la edad del segundo amigo\n",
        "* Comparar las edades de ambos, comenzando por el caso en que sean iguales\n",
        "* Usar condicionales anidados."
      ]
    },
    {
      "cell_type": "markdown",
      "metadata": {
        "id": "1Uz9pUOt-RTT"
      },
      "source": [
        "# Estructura if, elif, else\n",
        "La palabra ```elif``` es una abreviatura de 'else if'.\n",
        "\n",
        "```if condición1:```    \n",
        "&nbsp; &nbsp; ```código_1```  \n",
        "```elif condición2:```  \n",
        "&nbsp; &nbsp; ```código_2```  \n",
        "```elif condición3:```  \n",
        "&nbsp; &nbsp; ```código_3```  \n",
        "```elif condición4:```  \n",
        "&nbsp; &nbsp; ```código_4```  \n",
        "```else:```  \n",
        "&nbsp; &nbsp; ```código_n```\n",
        "\n",
        "En esta estructura, en el momento en el que una condición se cumple ya no se siguen evaluando las restantes.  \n",
        "En este sentido se diferencia de una estructura ```if``` repetida.  \n",
        "En una estructura ```if``` con varios ```if``` que están al mismo nivel, se evaluarán todos ellos.\n",
        "\n",
        "```if condición1:```    \n",
        "&nbsp; &nbsp; ```código_1```  \n",
        "```if condición2:```    \n",
        "&nbsp; &nbsp; ```código_2```  \n",
        "```if condición3:```    \n",
        "&nbsp; &nbsp; ```código_3```  \n",
        "```if condición4:```    \n",
        "&nbsp; &nbsp; ```código_4```  \n",
        "  \n",
        "\n"
      ]
    },
    {
      "cell_type": "code",
      "metadata": {
        "colab": {
          "base_uri": "https://localhost:8080/"
        },
        "id": "qBrW1YvYBI4Y",
        "outputId": "c2e52de9-c20c-4336-c24e-0f98e183d767"
      },
      "source": [
        "# este código funciona BIEN, porque en el momento en el que una de las condiciones se cumple se deja de evaluar el resto\n",
        "\n",
        "nota = 7.5   # nota de una asignatura\n",
        "\n",
        "if nota<5:\n",
        "  print(\"Suspenso\")\n",
        "elif nota<7:\n",
        "  print(\"Aprobado\")\n",
        "elif nota<9:\n",
        "  print(\"Notable\")\n",
        "else:\n",
        "  print(\"Sobresaliente\")"
      ],
      "execution_count": null,
      "outputs": [
        {
          "output_type": "stream",
          "name": "stdout",
          "text": [
            "Notable\n"
          ]
        }
      ]
    },
    {
      "cell_type": "markdown",
      "metadata": {
        "id": "btKb2Dy9CEUS"
      },
      "source": [
        "#### Una estructura de varios ```if``` no funciona bien para analizar el caso anterior\n",
        "* Este código no es correcto tal y como está programado ya que para una nota de 4.5 da tres calificaciones diferentes\n",
        "* el motivo del MAL funcionamiento es que cuando se analiza un ```if``` no se dejan sin analizar los siguientes\n",
        "* se evalúan todos los ```if``` porque son independientes\n",
        "* se podría arreglar el código creando varios ```if``` anidados pero es preferible usar los ```elif```."
      ]
    },
    {
      "cell_type": "code",
      "metadata": {
        "colab": {
          "base_uri": "https://localhost:8080/"
        },
        "id": "8sfwaqzLB3jk",
        "outputId": "b26037d6-5a52-4f6c-9f2c-6a0e80a9aa42"
      },
      "source": [
        "# código INCORRECTO\n",
        "\n",
        "nota = 4.5   # nota de una asignatura\n",
        "\n",
        "if nota<5:\n",
        "  print(\"Suspenso\")\n",
        "if nota<7:\n",
        "  print(\"Aprobado\")\n",
        "if nota<9:\n",
        "  print(\"Notable\")\n",
        "else:\n",
        "  print(\"Sobresaliente\")"
      ],
      "execution_count": null,
      "outputs": [
        {
          "output_type": "stream",
          "name": "stdout",
          "text": [
            "Suspenso\n",
            "Aprobado\n",
            "Notable\n"
          ]
        }
      ]
    },
    {
      "cell_type": "markdown",
      "metadata": {
        "id": "1dJbLZCTESfz"
      },
      "source": [
        "## Creación de un menú\n",
        "Creamos un menú para elegir una bebida en una máquina de refrescos.\n",
        "1. Naranja\n",
        "2. Limón\n",
        "3. Cola\n",
        "4. Agua\n",
        "\n",
        "El usuario teclea un número y se imprime el tipo de bebida que ha elegido."
      ]
    },
    {
      "cell_type": "code",
      "metadata": {
        "colab": {
          "base_uri": "https://localhost:8080/"
        },
        "id": "do9L0JJ5E3vR",
        "outputId": "31dba82c-defa-4f34-cf07-198bb4f4826d"
      },
      "source": [
        "print(\"Menú de la máquina de bebidas.\")\n",
        "n = int(input('''Indique el número de su elección:\n",
        "       1. Naranja\n",
        "       2. Limón\n",
        "       3. Cola\n",
        "       4. Agua\n",
        "       '''))\n",
        "if n==1:\n",
        "  print(\"Ha elegido un Refresco de naranja.\")\n",
        "elif n==2:\n",
        "  print(\"Ha elegido un Refresco de limón.\")\n",
        "elif n==3:\n",
        "  print(\"Ha elegido un Refresco de cola.\")\n",
        "elif n==4:\n",
        "  print(\"Ha elegido una Botella de agua.\")\n",
        "else:\n",
        "  print(\"Producto no disponible.\")\n",
        "\n",
        "print(\"Esperamos volver a verle pronto.\")"
      ],
      "execution_count": null,
      "outputs": [
        {
          "output_type": "stream",
          "name": "stdout",
          "text": [
            "Menú de la máquina de bebidas.\n",
            "Indique el número de su elección:\n",
            "       1. Naranja\n",
            "       2. Limón\n",
            "       3. Cola\n",
            "       4. Agua\n",
            "       1\n",
            "Ha elegido un Refresco de naranja.\n",
            "Esperamos volver a verle pronto.\n"
          ]
        }
      ]
    },
    {
      "cell_type": "markdown",
      "metadata": {
        "id": "SN9Ei3AYHnhL"
      },
      "source": [
        "### Reto 4.5. Elegir las vacaciones\n",
        "Crear un menú para poder elegir vacaciones:\n",
        "1. Playa\n",
        "2. Montaña\n",
        "3. Ciudad\n",
        "4. Rural\n",
        "\n",
        "Si el usuario no introduce un número del 1 al 4, indique que la opción no es válida."
      ]
    },
    {
      "cell_type": "markdown",
      "metadata": {
        "id": "RAhuiDeOKHQ0"
      },
      "source": [
        "## Operadores lógicos\n",
        "Las condiciones de los ```if``` pueden llevar operadores lógiocos ```and```, ```or```, ```not```. "
      ]
    },
    {
      "cell_type": "markdown",
      "metadata": {
        "id": "2hK3kJ2sOn1x"
      },
      "source": [
        "### Caso 1 Operador lógico ```and```\n",
        "Suponga que para viajar solos en avión necesitamos llevar pasaporte **y** tener 16 años o más."
      ]
    },
    {
      "cell_type": "code",
      "metadata": {
        "colab": {
          "base_uri": "https://localhost:8080/"
        },
        "id": "6Ja3wxDLKcvq",
        "outputId": "c4376b2c-819f-4240-f58b-d56f3f07cd1b"
      },
      "source": [
        "edad = 17\n",
        "pasaporte = False   # False indica que no llevamos pasaporte\n",
        "\n",
        "if edad>=16 and pasaporte:    # pasaporte es una variable booleana, es si misma es True o False, no es necesario igualarla a nada\n",
        "  print(\"Puede viajar\")\n",
        "else:\n",
        "  print(\"No cumple todas las condiciones, no puede viajar.\")"
      ],
      "execution_count": null,
      "outputs": [
        {
          "output_type": "stream",
          "name": "stdout",
          "text": [
            "No cumple todas las condiciones, no puede viajar.\n"
          ]
        }
      ]
    },
    {
      "cell_type": "markdown",
      "metadata": {
        "id": "hzhUkR7oPIn7"
      },
      "source": [
        "### Caso 2 Operadores lógicos ```or```\n",
        "* En un juego elegimos dos cartas, con una numeración entre 1 y 10\n",
        "* Ganamos el juego si alguna de las cartas es 10, o bien si\n",
        "* La suma de ambas cartas es mayor o igual a 17"
      ]
    },
    {
      "cell_type": "code",
      "metadata": {
        "colab": {
          "base_uri": "https://localhost:8080/"
        },
        "id": "99rddghLLjjV",
        "outputId": "bf55446b-129f-47b7-e3ce-506441c08a22"
      },
      "source": [
        "carta1 = 9              # puede probar a variar los puntos de las cartas\n",
        "carta2 = 8\n",
        "\n",
        "if carta1==10 or carta2==10 or carta1+carta2>=17:\n",
        "  print(\"Felicidades, ha GANADO el juego.\")\n",
        "else:\n",
        "  print(\"Lo siento, ha PERDIDO el juego.\")"
      ],
      "execution_count": null,
      "outputs": [
        {
          "output_type": "stream",
          "name": "stdout",
          "text": [
            "Felicidades, ha GANADO el juego.\n"
          ]
        }
      ]
    },
    {
      "cell_type": "markdown",
      "metadata": {
        "id": "Me-mmlhgUoBp"
      },
      "source": [
        "### Caso 3 Operador lógico ```or```\n",
        "En un parque de atracciones existe una atracción que por motivos de seguridad exige que para poder subir se cumpla que:\n",
        "* se mida más de 1.2 metros de altura **o**\n",
        "* se pese más de 30 kilos"
      ]
    },
    {
      "cell_type": "code",
      "metadata": {
        "colab": {
          "base_uri": "https://localhost:8080/"
        },
        "id": "K9dit9eUQpE7",
        "outputId": "ccb8b6c1-5172-462d-e8c1-d494f718ef2a"
      },
      "source": [
        "altura = float(input(\"Dime tu altura en metros: \"))\n",
        "peso = float(input(\"Dime tu peso en kilos: \"))\n",
        "if altura>=1.2 or peso>=30:\n",
        "  print(\"Puedes subir a la atracción.\")\n",
        "else:\n",
        "  print(\"Por motivos de seguridad, NO puedes subir a la atracción.\")"
      ],
      "execution_count": null,
      "outputs": [
        {
          "output_type": "stream",
          "name": "stdout",
          "text": [
            "Dime tu altura en metros: 1.1\n",
            "Dime tu peso en kilos: 25\n",
            "Por motivos de seguridad, NO puedes subir a la atracción.\n"
          ]
        }
      ]
    },
    {
      "cell_type": "markdown",
      "metadata": {
        "id": "GsTsLfAHR9OM"
      },
      "source": [
        "### Caso 4 Mejorando el caso anterior\n",
        "En el caso anterior se pregunta siempre por la altura y el peso.  \n",
        "Se podría programar para que se pregunte primero por la altura y si no se cumple esa condición ya no sea necesario preguntar por el peso.\n",
        "\n",
        "Para resolverlo utilizaremos dos ```if``` anidados."
      ]
    },
    {
      "cell_type": "code",
      "metadata": {
        "colab": {
          "base_uri": "https://localhost:8080/"
        },
        "id": "TKqoxxlfSPxq",
        "outputId": "17b39657-d259-47ea-ee76-e2fc39eb04c7"
      },
      "source": [
        "altura = float(input(\"Dime tu altura en metros: \"))\n",
        "if altura<1.2:\n",
        "  print(\"NO puedes subir a la atracción.\")    # si no se cumple la condición de la altura ya no se sigue preguntando\n",
        "else:\n",
        "  peso = float(input(\"Dime tu peso en kilos: \"))\n",
        "  if peso>=30:\n",
        "    print(\"Puedes subir a la atracción.\")\n",
        "  else:\n",
        "    print(\"Por motivos de seguridad, NO puedes subir a la atracción.\")"
      ],
      "execution_count": null,
      "outputs": [
        {
          "output_type": "stream",
          "name": "stdout",
          "text": [
            "Dime tu altura en metros: 1.2\n",
            "Dime tu peso en kilos: 29\n",
            "Por motivos de seguridad, NO puedes subir a la atracción.\n"
          ]
        }
      ]
    },
    {
      "cell_type": "markdown",
      "metadata": {
        "id": "DoRwyzoEU92d"
      },
      "source": [
        "### Caso 5 Intervalo de peso\n",
        "Caso similar al anterior pero ahora con un **y** y con un límite de peso por arriba.\n",
        "\n",
        "En un parque de atracciones existe una atracción que por motivos de seguridad exige que para poder subir se cumpla que:\n",
        "* se mide más de 1.2 metros de altura **y**\n",
        "* se pese más de 30 kilos **pero menos de 90**"
      ]
    },
    {
      "cell_type": "code",
      "metadata": {
        "colab": {
          "base_uri": "https://localhost:8080/"
        },
        "id": "hHOC3aQXVYQH",
        "outputId": "2348b52b-f1f5-4cdb-d50b-ac5e2f3c4dc5"
      },
      "source": [
        "peso = float(input(\"Dime tu peso en kilos: \"))\n",
        "if 30<=peso<90:    # la condición del peso que hemos puesto equivale a poner: peso>=30 and peso<90\n",
        "  altura = float(input(\"Dime tu altura en metros: \"))\n",
        "  if altura>1.2:\n",
        "    print(\"Puedes subir a la atracción.\")\n",
        "  else:\n",
        "    print(\"NO puedes subir a la atracción.\")\n",
        "else:\n",
        "  print(\"NO es posible subir a la atracción.\")\n"
      ],
      "execution_count": null,
      "outputs": [
        {
          "output_type": "stream",
          "name": "stdout",
          "text": [
            "Dime tu peso en kilos: 50\n",
            "Dime tu altura en metros: 1\n",
            "NO puedes subir a la atracción.\n"
          ]
        }
      ]
    },
    {
      "cell_type": "markdown",
      "metadata": {
        "id": "Yr88H2mgM1py"
      },
      "source": [
        "### Reto 4.6. Una piscina de bolas con un ```or```\n",
        "Para entrar a una piscina de bolas nos exigen que se cumpla:\n",
        "* Tener entre 4 y 12 años **o** \n",
        "* Pesar entre 14.5 y 35 kilos.\n",
        "\n",
        "Comprobar que un chico de 13 años que pese 34 kilos, si puede entrar a la piscina."
      ]
    },
    {
      "cell_type": "markdown",
      "metadata": {
        "id": "wbLz6_coRCuP"
      },
      "source": [
        "### Reto 4.7. Una piscina de bolas con un ```and```\n",
        "Para entrar a una piscina de bolas nos exigen que se cumpla:\n",
        "* Tener entre 4 y 12 años **y** \n",
        "* Pesar entre 14.5 y 35 kilos.\n",
        "\n",
        "Comprobar que un chico de 13 años que pese 34 kilos, no puede entrar a la piscina."
      ]
    },
    {
      "cell_type": "markdown",
      "metadata": {
        "id": "Gp5y46-KNUHA"
      },
      "source": [
        "### Reto 4.8. Condicional con operadores lógicos\n",
        "Diseñe un caso donde se puedan usar condicionales con operadores lógicos.  \n",
        "Añada comentarios del programador para explicarlo."
      ]
    }
  ]
}