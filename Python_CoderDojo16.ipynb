{
  "nbformat": 4,
  "nbformat_minor": 0,
  "metadata": {
    "colab": {
      "name": "Python_CoderDojo16.ipynb",
      "provenance": [],
      "collapsed_sections": [],
      "authorship_tag": "ABX9TyNyQxOaJNHBqLHbaO2Mkhzx",
      "include_colab_link": true
    },
    "kernelspec": {
      "name": "python3",
      "display_name": "Python 3"
    },
    "language_info": {
      "name": "python"
    }
  },
  "cells": [
    {
      "cell_type": "markdown",
      "metadata": {
        "id": "view-in-github",
        "colab_type": "text"
      },
      "source": [
        "<a href=\"https://colab.research.google.com/github/seldoncode/Python_CoderDojo/blob/main/Python_CoderDojo16.ipynb\" target=\"_parent\"><img src=\"https://colab.research.google.com/assets/colab-badge.svg\" alt=\"Open In Colab\"/></a>"
      ]
    },
    {
      "cell_type": "code",
      "metadata": {
        "id": "n90PkIIcCt6X"
      },
      "source": [
        ""
      ],
      "execution_count": null,
      "outputs": []
    },
    {
      "cell_type": "markdown",
      "metadata": {
        "id": "ilKG3168Cwg_"
      },
      "source": [
        "# Funciones\n",
        "## Función sin ```return```"
      ]
    },
    {
      "cell_type": "code",
      "metadata": {
        "colab": {
          "base_uri": "https://localhost:8080/"
        },
        "id": "cQU7-IT3C-bJ",
        "outputId": "24ad0b93-6dc4-4d89-f649-7e7fd0ae6871"
      },
      "source": [
        "def saluda():\n",
        "  print(\"Hola\")\n",
        "\n",
        "saluda()"
      ],
      "execution_count": 1,
      "outputs": [
        {
          "output_type": "stream",
          "name": "stdout",
          "text": [
            "Hola\n"
          ]
        }
      ]
    },
    {
      "cell_type": "markdown",
      "metadata": {
        "id": "pcQUOke9DHcP"
      },
      "source": [
        "## Función con ```retuntn```"
      ]
    },
    {
      "cell_type": "code",
      "metadata": {
        "colab": {
          "base_uri": "https://localhost:8080/"
        },
        "id": "0ouSvzHGDLLr",
        "outputId": "e02fa01f-1462-4537-ce9b-4946cddf8a5c"
      },
      "source": [
        "def buenos_dias():\n",
        "  return \"Buenos días\"\n",
        "\n",
        "print(buenos_dias())"
      ],
      "execution_count": 3,
      "outputs": [
        {
          "output_type": "stream",
          "name": "stdout",
          "text": [
            "Buenos días\n"
          ]
        }
      ]
    },
    {
      "cell_type": "markdown",
      "metadata": {
        "id": "TRnl21H_Dbvn"
      },
      "source": [
        "## Función con parámetro"
      ]
    },
    {
      "cell_type": "code",
      "metadata": {
        "colab": {
          "base_uri": "https://localhost:8080/"
        },
        "id": "2GUs3mH0Dfpt",
        "outputId": "773e4dd3-f4c9-4680-936e-ce3c319d7cd2"
      },
      "source": [
        "def buenas_tardes(nombre):\n",
        "  return f\"Buenas tardes {nombre}.\"\n",
        "\n",
        "print(buenas_tardes(\"Laura\"))"
      ],
      "execution_count": 6,
      "outputs": [
        {
          "output_type": "stream",
          "name": "stdout",
          "text": [
            "Buenas tardes Laura.\n"
          ]
        }
      ]
    },
    {
      "cell_type": "markdown",
      "metadata": {
        "id": "9XuNmyyXD3rc"
      },
      "source": [
        "### Función doblar llamada varias veces"
      ]
    },
    {
      "cell_type": "code",
      "metadata": {
        "colab": {
          "base_uri": "https://localhost:8080/"
        },
        "id": "vp5UcRCoEBpe",
        "outputId": "e4297c56-9967-4809-afab-6ad0aa7e8ed2"
      },
      "source": [
        "def doblar(n):\n",
        "  return 2*n\n",
        "\n",
        "for i in range(1,6):\n",
        "  print(f\"El doble de {i} es {doblar(i)}.\")"
      ],
      "execution_count": 8,
      "outputs": [
        {
          "output_type": "stream",
          "name": "stdout",
          "text": [
            "El doble de 1 es 2.\n",
            "El doble de 2 es 4.\n",
            "El doble de 3 es 6.\n",
            "El doble de 4 es 8.\n",
            "El doble de 5 es 10.\n"
          ]
        }
      ]
    }
  ]
}