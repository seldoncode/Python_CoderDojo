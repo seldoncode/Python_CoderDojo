{
  "nbformat": 4,
  "nbformat_minor": 0,
  "metadata": {
    "colab": {
      "name": "Python_CoderDojo16.ipynb",
      "provenance": [],
      "collapsed_sections": [],
      "authorship_tag": "ABX9TyPlX9Ziy7OwJlnVnTUQW3B3",
      "include_colab_link": true
    },
    "kernelspec": {
      "name": "python3",
      "display_name": "Python 3"
    },
    "language_info": {
      "name": "python"
    }
  },
  "cells": [
    {
      "cell_type": "markdown",
      "metadata": {
        "id": "view-in-github",
        "colab_type": "text"
      },
      "source": [
        "<a href=\"https://colab.research.google.com/github/seldoncode/Python_CoderDojo/blob/main/Python_CoderDojo16.ipynb\" target=\"_parent\"><img src=\"https://colab.research.google.com/assets/colab-badge.svg\" alt=\"Open In Colab\"/></a>"
      ]
    },
    {
      "cell_type": "markdown",
      "metadata": {
        "id": "ilKG3168Cwg_"
      },
      "source": [
        "# Funciones\n",
        "## Función sin ```return```"
      ]
    },
    {
      "cell_type": "code",
      "metadata": {
        "colab": {
          "base_uri": "https://localhost:8080/"
        },
        "id": "cQU7-IT3C-bJ",
        "outputId": "24ad0b93-6dc4-4d89-f649-7e7fd0ae6871"
      },
      "source": [
        "def saluda():        # definimos la función\n",
        "  print(\"Hola\")\n",
        "\n",
        "saluda()             # invocamos o llamamos a la función"
      ],
      "execution_count": null,
      "outputs": [
        {
          "output_type": "stream",
          "name": "stdout",
          "text": [
            "Hola\n"
          ]
        }
      ]
    },
    {
      "cell_type": "markdown",
      "metadata": {
        "id": "pcQUOke9DHcP"
      },
      "source": [
        "## Función con ```return```"
      ]
    },
    {
      "cell_type": "code",
      "metadata": {
        "colab": {
          "base_uri": "https://localhost:8080/"
        },
        "id": "0ouSvzHGDLLr",
        "outputId": "e02fa01f-1462-4537-ce9b-4946cddf8a5c"
      },
      "source": [
        "def buenos_dias():         # el nombre de la función se elige como las variables (minúsculas, sin espacios, ...)\n",
        "  return \"Buenos días\"     # función que devuelve (retorna) un string\n",
        "\n",
        "print(buenos_dias())       # invocamos la función dentro de un print puesto que queremos imprimir lo retornado por la función"
      ],
      "execution_count": null,
      "outputs": [
        {
          "output_type": "stream",
          "name": "stdout",
          "text": [
            "Buenos días\n"
          ]
        }
      ]
    },
    {
      "cell_type": "markdown",
      "metadata": {
        "id": "TRnl21H_Dbvn"
      },
      "source": [
        "## Función con parámetro"
      ]
    },
    {
      "cell_type": "code",
      "metadata": {
        "colab": {
          "base_uri": "https://localhost:8080/"
        },
        "id": "2GUs3mH0Dfpt",
        "outputId": "773e4dd3-f4c9-4680-936e-ce3c319d7cd2"
      },
      "source": [
        "def buenas_tardes(nombre):             # el parámetro es 'nombre'\n",
        "  return f\"Buenas tardes {nombre}.\"\n",
        "\n",
        "print(buenas_tardes(\"Laura\"))          # el argumento es \"Laura\""
      ],
      "execution_count": null,
      "outputs": [
        {
          "output_type": "stream",
          "name": "stdout",
          "text": [
            "Buenas tardes Laura.\n"
          ]
        }
      ]
    },
    {
      "cell_type": "markdown",
      "metadata": {
        "id": "9XuNmyyXD3rc"
      },
      "source": [
        "\n",
        "\n",
        "```\n",
        "# Tiene formato de código\n",
        "```\n",
        "\n",
        "### Función doblar, llamada varias veces"
      ]
    },
    {
      "cell_type": "code",
      "metadata": {
        "colab": {
          "base_uri": "https://localhost:8080/"
        },
        "id": "vp5UcRCoEBpe",
        "outputId": "e4297c56-9967-4809-afab-6ad0aa7e8ed2"
      },
      "source": [
        "def doblar(n):\n",
        "  return 2*n\n",
        "\n",
        "for i in range(1,6):\n",
        "  print(f\"El doble de {i} es {doblar(i)}.\")"
      ],
      "execution_count": null,
      "outputs": [
        {
          "output_type": "stream",
          "name": "stdout",
          "text": [
            "El doble de 1 es 2.\n",
            "El doble de 2 es 4.\n",
            "El doble de 3 es 6.\n",
            "El doble de 4 es 8.\n",
            "El doble de 5 es 10.\n"
          ]
        }
      ]
    },
    {
      "cell_type": "markdown",
      "metadata": {
        "id": "KNSBcPwC7YGY"
      },
      "source": [
        "## Asignar a una variable lo retornado por una función"
      ]
    },
    {
      "cell_type": "code",
      "metadata": {
        "colab": {
          "base_uri": "https://localhost:8080/"
        },
        "id": "4kvjPrn27eDg",
        "outputId": "01221cd9-46d4-4d5a-b49d-f9a06f728747"
      },
      "source": [
        "def triple_mas_uno(n):\n",
        "  resultado = 3*n+1            # la variable resultado es interna a la función, fuera de ella no se conoce, es una 'variable local'\n",
        "  return resultado             # las variables locales restringen su ámbito solo al interior de la función, fuera no existen\n",
        "\n",
        "x = 5                          # por contraposición, la variable x es una 'variable global' porque está fuera de la funicón\n",
        "t = triple_mas_uno(x)          # podemos asignar a una variable lo que retorne una función\n",
        "print(f\"El triple más uno de {x} es {t}.\")"
      ],
      "execution_count": null,
      "outputs": [
        {
          "output_type": "stream",
          "name": "stdout",
          "text": [
            "El triple más uno de 5 es 16.\n"
          ]
        }
      ]
    },
    {
      "cell_type": "markdown",
      "metadata": {
        "id": "Te6eZIGIAi7h"
      },
      "source": [
        "## Función con dos parámetros"
      ]
    },
    {
      "cell_type": "code",
      "metadata": {
        "colab": {
          "base_uri": "https://localhost:8080/"
        },
        "id": "uODVs2qVApKK",
        "outputId": "8340257d-35a5-4aa4-aade-213f35db2458"
      },
      "source": [
        "def area_triangulo(base, altura):\n",
        "  return base * altura / 2               # aquí nos hemos ahorrado la variable resultado y directamente lo ponemos en el return\n",
        "\n",
        "b = float(input(\"Indique la base: \"))\n",
        "h = float(input(\"Indique la altura: \"))\n",
        "superficie = area_triangulo(b, h)        # invocamos la función con las variables b y h que son diferentes a los parámetros base y altura\n",
        "print(f\"El área del triángulo de base {b} y altura {h} es {superficie}.\")"
      ],
      "execution_count": null,
      "outputs": [
        {
          "output_type": "stream",
          "name": "stdout",
          "text": [
            "Indique la base: 100\n",
            "Indique la altura: 50\n",
            "El área del triángulo de base 100.0 y altura 50.0 es 2500.0.\n"
          ]
        }
      ]
    },
    {
      "cell_type": "markdown",
      "metadata": {
        "id": "W2-pAWRgCpwR"
      },
      "source": [
        "### Función que concatena\n",
        "* Definir una función que concatene dos cadenas de caracteres, las veces que se indique.\n",
        "* El programa nos pide dos cadenas y nos pide las veces que han de repetirse, y muestra el resultado en pantalla."
      ]
    },
    {
      "cell_type": "code",
      "metadata": {
        "colab": {
          "base_uri": "https://localhost:8080/"
        },
        "id": "uvIHTMBOMzvW",
        "outputId": "313f9d4e-371b-49c2-9198-a71f3dbb70e5"
      },
      "source": [
        "def concatena(cadena1, cadena2, veces):\n",
        "  return (cadena1 + cadena2) * veces\n",
        "\n",
        "c1 = input(\"Introduzca la primera cadena: \")\n",
        "c2 = input(\"Introduzca la segunda cadena: \")\n",
        "n = int(input(\"Introduzca cuantas veces se han de repetir: \"))\n",
        "print(concatena(c1, c2, n))"
      ],
      "execution_count": null,
      "outputs": [
        {
          "output_type": "stream",
          "name": "stdout",
          "text": [
            "Introduzca la primera cadena: *\n",
            "Introduzca la segunda cadena: =\n",
            "Introduzca cuantas veces se han de repetir: 20\n",
            "*=*=*=*=*=*=*=*=*=*=*=*=*=*=*=*=*=*=*=*=\n"
          ]
        }
      ]
    },
    {
      "cell_type": "markdown",
      "metadata": {
        "id": "srciP1oENfD1"
      },
      "source": [
        "## Función que realiza un procedimiento\n",
        "* Esta función no devuelve nada, lo que realiza es un procedimiento.\n",
        "* Las funciones que no llevan ```return``` devuelven el valor ```None```."
      ]
    },
    {
      "cell_type": "code",
      "metadata": {
        "colab": {
          "base_uri": "https://localhost:8080/"
        },
        "id": "zrBX8iKuNqhN",
        "outputId": "be8356fe-1e91-4dfb-eb89-35f50524ab85"
      },
      "source": [
        "def pantalla_inicio():\n",
        "  print(\"*********************************\")\n",
        "  print(\"*                               *\")\n",
        "  print(\"*      PANTALLA DE INICIO       *\")\n",
        "  print(\"*                               *\")\n",
        "  print(\"*     Bienvenido al sistema     *\")\n",
        "  print(\"*                               *\")\n",
        "  print(\"*********************************\")\n",
        "\n",
        "pantalla_inicio()      # invocación de la función"
      ],
      "execution_count": null,
      "outputs": [
        {
          "output_type": "stream",
          "name": "stdout",
          "text": [
            "*********************************\n",
            "*                               *\n",
            "*      PANTALLA DE INICIO       *\n",
            "*                               *\n",
            "*     Bienvenido al sistema     *\n",
            "*                               *\n",
            "*********************************\n"
          ]
        }
      ]
    },
    {
      "cell_type": "markdown",
      "metadata": {
        "id": "Nunhv0PsPfaH"
      },
      "source": [
        "## Las funciones sin ```return``` devuelven ```None```\n",
        "* Vamos a crear la misma función que vimos al inicio, la función saluda, pero viendo lo que devuelve\n",
        "* Igalamos el resultado a una variable ```s``` y luego la imprimimos\n",
        "* Veamos dos casos:\n",
        " - poniendo ``` return None```\n",
        " - poniendo simplemente ``` return```"
      ]
    },
    {
      "cell_type": "markdown",
      "metadata": {
        "id": "7lqBdZYPQz_i"
      },
      "source": [
        "#### Caso 1"
      ]
    },
    {
      "cell_type": "code",
      "metadata": {
        "colab": {
          "base_uri": "https://localhost:8080/"
        },
        "id": "INqPbBuvPl9n",
        "outputId": "6202f4d2-c2b1-4c28-ef4f-c6130ce4832d"
      },
      "source": [
        "def saluda():\n",
        "  print(\"Hola\")\n",
        "  return None\n",
        "\n",
        "s = saluda()\n",
        "print(s)          # vemos que la variable s es None"
      ],
      "execution_count": null,
      "outputs": [
        {
          "output_type": "stream",
          "name": "stdout",
          "text": [
            "Hola\n",
            "None\n"
          ]
        }
      ]
    },
    {
      "cell_type": "markdown",
      "metadata": {
        "id": "M5lKaHr-Q2UJ"
      },
      "source": [
        "#### Caso 2"
      ]
    },
    {
      "cell_type": "code",
      "metadata": {
        "colab": {
          "base_uri": "https://localhost:8080/"
        },
        "id": "QGT4U1qEP60P",
        "outputId": "413e0acd-866d-4c21-d0be-aed26607fdfb"
      },
      "source": [
        "def saluda():\n",
        "  print(\"Hola\")\n",
        "  return          # aunque no pongamos None, se sigue devolviendo None\n",
        "\n",
        "s = saluda()\n",
        "print(s)          # vemos que la variable s es None"
      ],
      "execution_count": null,
      "outputs": [
        {
          "output_type": "stream",
          "name": "stdout",
          "text": [
            "Hola\n",
            "None\n"
          ]
        }
      ]
    },
    {
      "cell_type": "markdown",
      "metadata": {
        "id": "FEAo3O9BQFFr"
      },
      "source": [
        "### Función sin ```return``` y con un parámetro\n",
        "Usaremos un caso visto anteriormente donde hemos sustituido el return por un print dentro de la función."
      ]
    },
    {
      "cell_type": "code",
      "metadata": {
        "colab": {
          "base_uri": "https://localhost:8080/"
        },
        "id": "5FoeJdwwRt-l",
        "outputId": "48d17e81-e39a-40f3-c5db-46fc24daaaa0"
      },
      "source": [
        "def buenas_tardes(nombre):\n",
        "  print(f\"Buenas tardes {nombre}.\")\n",
        "\n",
        "buenas_tardes(\"Laura\")       # invocamos directamente la función sin poner un print porque la función ya lleva el print"
      ],
      "execution_count": null,
      "outputs": [
        {
          "output_type": "stream",
          "name": "stdout",
          "text": [
            "Buenas tardes Laura.\n"
          ]
        }
      ]
    },
    {
      "cell_type": "markdown",
      "metadata": {
        "id": "KSvfBNsJSwXn"
      },
      "source": [
        "# Buenas prácticas con funciones\n",
        "* Lo aconsejable es que las funciones realicen tareas sencillas, para que puedan ser reutilizadas facilmente.\n",
        "* Veamos dos formas de sumar dos números:\n",
        " - Una con print (no aconsejable)\n",
        " - Otra con return (es preferible)"
      ]
    },
    {
      "cell_type": "markdown",
      "metadata": {
        "id": "YAmxfCuovShm"
      },
      "source": [
        "#### Método 1"
      ]
    },
    {
      "cell_type": "code",
      "metadata": {
        "colab": {
          "base_uri": "https://localhost:8080/"
        },
        "id": "vwknYukAvAlT",
        "outputId": "d470e560-6c6d-470e-a037-df9a4fa80fe6"
      },
      "source": [
        "def sumar(n1, n2):\n",
        "  print(n1 + n2)      # no usa un return, no retorna nada\n",
        "\n",
        "sumar(2, 3)           # invocamos la función, pero no podemos asignar lo que retorne a una variable"
      ],
      "execution_count": null,
      "outputs": [
        {
          "output_type": "stream",
          "name": "stdout",
          "text": [
            "5\n"
          ]
        }
      ]
    },
    {
      "cell_type": "markdown",
      "metadata": {
        "id": "gOswNF49vWsw"
      },
      "source": [
        "#### Método 2"
      ]
    },
    {
      "cell_type": "code",
      "metadata": {
        "colab": {
          "base_uri": "https://localhost:8080/"
        },
        "id": "gToMTuL2vZzA",
        "outputId": "07e017e9-2640-4e5d-c1df-a5170903fc11"
      },
      "source": [
        "def sumar(n1, n2):\n",
        "  return n1 + n2\n",
        "\n",
        "resultado = sumar(2, 3)  # aquí si podemos asignar el resultado a una variable\n",
        "print(resultado)"
      ],
      "execution_count": null,
      "outputs": [
        {
          "output_type": "stream",
          "name": "stdout",
          "text": [
            "5\n"
          ]
        }
      ]
    },
    {
      "cell_type": "markdown",
      "metadata": {
        "id": "UIJmkTk6wmLm"
      },
      "source": [
        "#### Ejemplo\n",
        "Es más útil el método 2 ya que usa un return."
      ]
    },
    {
      "cell_type": "code",
      "metadata": {
        "colab": {
          "base_uri": "https://localhost:8080/"
        },
        "id": "tlcn6rzkwuY5",
        "outputId": "1691fe82-1099-48d6-8c1b-77d266b57fdc"
      },
      "source": [
        "def sumar(n1, n2):\n",
        "  return n1 + n2\n",
        "\n",
        "resultado = sumar(2, 3) + sumar(1,5)  # esto no se podría haber hecho con una función sin return y con un print\n",
        "print(resultado)"
      ],
      "execution_count": null,
      "outputs": [
        {
          "output_type": "stream",
          "name": "stdout",
          "text": [
            "11\n"
          ]
        }
      ]
    },
    {
      "cell_type": "markdown",
      "metadata": {
        "id": "utTV9TLJxN7Y"
      },
      "source": [
        "### Calcula la nota\n",
        "* Un examen tiene 40 preguntas\n",
        "* Cada fallo quita 0.10 puntos\n",
        "* Crear una función que calcule la nota en base a 10 puntos, en base a las preguntas acertadas del examen."
      ]
    },
    {
      "cell_type": "code",
      "metadata": {
        "colab": {
          "base_uri": "https://localhost:8080/"
        },
        "id": "0FJpNauJxTP_",
        "outputId": "d968566f-8c9b-4321-a441-3643f715082c"
      },
      "source": [
        "def calcula_nota(aciertos):\n",
        "  nota = 0.25 *aciertos - 0.1 * (40 - aciertos)  # 0,25 es lo que vale cada pregunta correcta, sale de 10/40\n",
        "  return nota\n",
        "\n",
        "aciertos = int(input(\"Introduzca los aciertos: \")) # esta variable aciertos es diferente del parámetro aciertos, podrían llamarse de forma diferente\n",
        "nota = calcula_nota(aciertos)            # esta variable nota es diferente de la variable local interna de la función, podrían tener distinto nombre\n",
        "print(nota)"
      ],
      "execution_count": null,
      "outputs": [
        {
          "output_type": "stream",
          "name": "stdout",
          "text": [
            "Introduzca los aciertos: 26\n",
            "5.1\n"
          ]
        }
      ]
    },
    {
      "cell_type": "markdown",
      "metadata": {
        "id": "1oNIbRGy10Y-"
      },
      "source": [
        "### Calcula nota para cualquier test\n",
        "* Hacer una función que calcule la nota:\n",
        " - Para cualquier número de preguntas del examen\n",
        " - Para cualquier clase de penalización al fallar"
      ]
    },
    {
      "cell_type": "code",
      "metadata": {
        "colab": {
          "base_uri": "https://localhost:8080/"
        },
        "id": "sQnILGCp2KDW",
        "outputId": "e41b10f4-9616-46b4-d3eb-05817cc8f566"
      },
      "source": [
        "def calcula_nota(preguntas, aciertos, penalizacion):\n",
        "  punto = 10 / preguntas\n",
        "  nota = punto * aciertos - penalizacion * (preguntas - aciertos)\n",
        "  return nota\n",
        "\n",
        "preguntas = 50\n",
        "penalizacion = 0.07\n",
        "aciertos = int(input(\"Introduzca los aciertos: \"))\n",
        "nota = calcula_nota(preguntas, aciertos, penalizacion)\n",
        "print(nota)"
      ],
      "execution_count": null,
      "outputs": [
        {
          "output_type": "stream",
          "name": "stdout",
          "text": [
            "Introduzca los aciertos: 40\n",
            "7.3\n"
          ]
        }
      ]
    },
    {
      "cell_type": "markdown",
      "metadata": {
        "id": "4mfKbI9-5BJE"
      },
      "source": [
        "# Función con varios ```return```"
      ]
    },
    {
      "cell_type": "markdown",
      "metadata": {
        "id": "YytEqc2w5QOd"
      },
      "source": [
        "### Función que detecta números impares"
      ]
    },
    {
      "cell_type": "markdown",
      "metadata": {
        "id": "0Hupe8Qc61nS"
      },
      "source": [
        "#### Método 1"
      ]
    },
    {
      "cell_type": "code",
      "metadata": {
        "colab": {
          "base_uri": "https://localhost:8080/"
        },
        "id": "r0JBOXgr5VBC",
        "outputId": "afb39be9-370a-4de0-a074-d97586be62c7"
      },
      "source": [
        "def es_impar(n):\n",
        "  if n%2:\n",
        "    return True\n",
        "  else:\n",
        "    return False\n",
        "\n",
        "numero = int(input(\"Introduzca un número entero: \"))\n",
        "\n",
        "print(f\"El número {numero} es impar: {es_impar(numero)}.\")"
      ],
      "execution_count": null,
      "outputs": [
        {
          "output_type": "stream",
          "name": "stdout",
          "text": [
            "Introduzca un número entero: 7\n",
            "El número 7 es impar: True.\n"
          ]
        }
      ]
    },
    {
      "cell_type": "markdown",
      "metadata": {
        "id": "uT6kow9066TA"
      },
      "source": [
        "#### Método 2"
      ]
    },
    {
      "cell_type": "code",
      "metadata": {
        "colab": {
          "base_uri": "https://localhost:8080/"
        },
        "id": "uChnrab-68Lb",
        "outputId": "2d4bfa83-9515-4bc1-9c07-e37af78ec067"
      },
      "source": [
        "def es_impar(n):\n",
        "  if n%2:\n",
        "    return True  # al ejecutar un return el flujo del programa se sale de la función\n",
        "  return False   # este no siempre se ejecuta, solo si no se ha salido de la función antes\n",
        "\n",
        "numero = int(input(\"Introduzca un número entero: \"))\n",
        "\n",
        "if es_impar(numero):\n",
        "  print(f\"El número {numero} es impar.\")\n",
        "else:\n",
        "  print(f\"El número {numero} es par.\")"
      ],
      "execution_count": null,
      "outputs": [
        {
          "output_type": "stream",
          "name": "stdout",
          "text": [
            "Introduzca un número entero: 7\n",
            "El número 7 es impar.\n"
          ]
        }
      ]
    },
    {
      "cell_type": "markdown",
      "metadata": {
        "id": "DA_5_Ltg7vPF"
      },
      "source": [
        "### Comprobar si un número es divisor de otro\n",
        "Resolverlo con dos ```return```"
      ]
    },
    {
      "cell_type": "code",
      "metadata": {
        "colab": {
          "base_uri": "https://localhost:8080/"
        },
        "id": "toj-fFCR78Bf",
        "outputId": "740a1a79-20e7-47e5-d568-d672314d5c17"
      },
      "source": [
        "def son_divisibles(numerador, denominador):\n",
        "  if numerador % denominador == 0:\n",
        "    return \"si es divisible\"\n",
        "  else:\n",
        "    return \"no es divisible\"\n",
        "\n",
        "p = 120\n",
        "q = 17\n",
        "\n",
        "print(f\"Al dividir {p} entre {q} el resultado {son_divisibles(p,q)}.\")"
      ],
      "execution_count": null,
      "outputs": [
        {
          "output_type": "stream",
          "name": "stdout",
          "text": [
            "Al dividir 120 entre 40 el resultado es divisible.\n"
          ]
        }
      ]
    }
  ]
}