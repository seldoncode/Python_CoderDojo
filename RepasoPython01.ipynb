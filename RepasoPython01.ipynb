{
  "nbformat": 4,
  "nbformat_minor": 0,
  "metadata": {
    "colab": {
      "name": "RepasoPython01.ipynb",
      "provenance": [],
      "authorship_tag": "ABX9TyMa6ROOiQIi6Lj1wWJeXk0G",
      "include_colab_link": true
    },
    "kernelspec": {
      "name": "python3",
      "display_name": "Python 3"
    },
    "language_info": {
      "name": "python"
    }
  },
  "cells": [
    {
      "cell_type": "markdown",
      "metadata": {
        "id": "view-in-github",
        "colab_type": "text"
      },
      "source": [
        "<a href=\"https://colab.research.google.com/github/seldoncode/Python_CoderDojo/blob/main/RepasoPython01.ipynb\" target=\"_parent\"><img src=\"https://colab.research.google.com/assets/colab-badge.svg\" alt=\"Open In Colab\"/></a>"
      ]
    },
    {
      "cell_type": "markdown",
      "metadata": {
        "id": "4QjmJTVYIHe1"
      },
      "source": [
        "# Variables"
      ]
    },
    {
      "cell_type": "markdown",
      "metadata": {
        "id": "DxKId6qbJLZN"
      },
      "source": [
        "## Integer"
      ]
    },
    {
      "cell_type": "code",
      "metadata": {
        "colab": {
          "base_uri": "https://localhost:8080/"
        },
        "id": "dpDC2IDzHgcK",
        "outputId": "349cda06-3eb9-4424-cd19-a12f17ba106d"
      },
      "source": [
        "x = 5\n",
        "print(x)\n",
        "print(type(x))"
      ],
      "execution_count": null,
      "outputs": [
        {
          "output_type": "stream",
          "name": "stdout",
          "text": [
            "5\n",
            "<class 'int'>\n"
          ]
        }
      ]
    },
    {
      "cell_type": "markdown",
      "metadata": {
        "id": "R9Bqb4IDJOn-"
      },
      "source": [
        "## String"
      ]
    },
    {
      "cell_type": "code",
      "metadata": {
        "colab": {
          "base_uri": "https://localhost:8080/"
        },
        "id": "hFuzakzUImSL",
        "outputId": "90dbb950-4e31-4118-b422-847da251cdc5"
      },
      "source": [
        "y = '5'\n",
        "print(y)\n",
        "print(type(y))"
      ],
      "execution_count": null,
      "outputs": [
        {
          "output_type": "stream",
          "name": "stdout",
          "text": [
            "5\n",
            "<class 'str'>\n"
          ]
        }
      ]
    },
    {
      "cell_type": "markdown",
      "metadata": {
        "id": "bt18Sf6OJRME"
      },
      "source": [
        "### Diferencia entre integer y string"
      ]
    },
    {
      "cell_type": "code",
      "metadata": {
        "colab": {
          "base_uri": "https://localhost:8080/"
        },
        "id": "e3XDsBGYIaXv",
        "outputId": "ffe6cbe9-81b2-44d3-ab3e-bc00825ceb73"
      },
      "source": [
        "print(5 == '5')"
      ],
      "execution_count": null,
      "outputs": [
        {
          "output_type": "stream",
          "name": "stdout",
          "text": [
            "False\n"
          ]
        }
      ]
    },
    {
      "cell_type": "markdown",
      "metadata": {
        "id": "ZxWmPhP3JXuY"
      },
      "source": [
        "### No es lo mismo comparar que asignar"
      ]
    },
    {
      "cell_type": "code",
      "metadata": {
        "colab": {
          "base_uri": "https://localhost:8080/"
        },
        "id": "5FfsSQJrI_FB",
        "outputId": "203b7c2d-ab37-4d80-9916-fb99e4df7497"
      },
      "source": [
        "print(x == 5)"
      ],
      "execution_count": null,
      "outputs": [
        {
          "output_type": "stream",
          "name": "stdout",
          "text": [
            "True\n"
          ]
        }
      ]
    },
    {
      "cell_type": "markdown",
      "metadata": {
        "id": "Eo_4vGVuJe4H"
      },
      "source": [
        "## Boolean"
      ]
    },
    {
      "cell_type": "code",
      "metadata": {
        "colab": {
          "base_uri": "https://localhost:8080/"
        },
        "id": "mOFaAmzDJepJ",
        "outputId": "e21d9807-f3d3-4572-b1ab-f5e137433cb4"
      },
      "source": [
        "print(2 <= 5)\n",
        "print(type(2 <= 5))"
      ],
      "execution_count": null,
      "outputs": [
        {
          "output_type": "stream",
          "name": "stdout",
          "text": [
            "True\n",
            "<class 'bool'>\n"
          ]
        }
      ]
    },
    {
      "cell_type": "markdown",
      "metadata": {
        "id": "oWxzD4sIKglL"
      },
      "source": [
        "## Float\n",
        "* Con punto decimal\n",
        "* En español se llaman \"números de coma flotante\""
      ]
    },
    {
      "cell_type": "code",
      "metadata": {
        "colab": {
          "base_uri": "https://localhost:8080/"
        },
        "id": "OvvLwad3KsIm",
        "outputId": "909393c3-0d85-4f82-c145-70cf50077b67"
      },
      "source": [
        "print(12/4)\n",
        "print(type(12/4))"
      ],
      "execution_count": null,
      "outputs": [
        {
          "output_type": "stream",
          "name": "stdout",
          "text": [
            "3.0\n",
            "<class 'float'>\n"
          ]
        }
      ]
    },
    {
      "cell_type": "code",
      "metadata": {
        "colab": {
          "base_uri": "https://localhost:8080/"
        },
        "id": "xWwqKUDSK43R",
        "outputId": "47cc5925-2f1c-405e-d796-e26110dedb58"
      },
      "source": [
        "2 + 3."
      ],
      "execution_count": null,
      "outputs": [
        {
          "output_type": "execute_result",
          "data": {
            "text/plain": [
              "5.0"
            ]
          },
          "metadata": {},
          "execution_count": 12
        }
      ]
    },
    {
      "cell_type": "markdown",
      "metadata": {
        "id": "6dLMGyOkLIQJ"
      },
      "source": [
        "## Lista\n",
        "* Se usan muchísimo en Python\n",
        "* Es un array o vector"
      ]
    },
    {
      "cell_type": "code",
      "metadata": {
        "colab": {
          "base_uri": "https://localhost:8080/"
        },
        "id": "ccZ1N4U-LKzV",
        "outputId": "f5fb5f3a-673f-4b7b-c781-8dc8b885c166"
      },
      "source": [
        "lista = [1,2,3]\n",
        "print(lista)\n",
        "print(type(lista))"
      ],
      "execution_count": null,
      "outputs": [
        {
          "output_type": "stream",
          "name": "stdout",
          "text": [
            "[1, 2, 3]\n",
            "<class 'list'>\n"
          ]
        }
      ]
    },
    {
      "cell_type": "markdown",
      "metadata": {
        "id": "ial6uoJcMNuY"
      },
      "source": [
        "# Operadores lógicos"
      ]
    },
    {
      "cell_type": "markdown",
      "metadata": {
        "id": "kxxBcad5MRUS"
      },
      "source": [
        "## ```not```"
      ]
    },
    {
      "cell_type": "code",
      "metadata": {
        "colab": {
          "base_uri": "https://localhost:8080/"
        },
        "id": "d0lRJs2DNNpc",
        "outputId": "139dd47b-74bb-481b-d8be-5e78c9004a17"
      },
      "source": [
        "print(not(5 == 5))"
      ],
      "execution_count": null,
      "outputs": [
        {
          "output_type": "stream",
          "name": "stdout",
          "text": [
            "False\n"
          ]
        }
      ]
    },
    {
      "cell_type": "markdown",
      "metadata": {
        "id": "vLw8Ce7xNX76"
      },
      "source": [
        "## ```and```"
      ]
    },
    {
      "cell_type": "code",
      "metadata": {
        "colab": {
          "base_uri": "https://localhost:8080/"
        },
        "id": "zIs8m2GDNb_f",
        "outputId": "dc0e7ef1-a1c8-4670-a95d-3c1ebcc82f51"
      },
      "source": [
        "a = True\n",
        "b = True\n",
        "c = True\n",
        "print(a and b and c)   # da verdadero si todos son verdaderos"
      ],
      "execution_count": null,
      "outputs": [
        {
          "output_type": "stream",
          "name": "stdout",
          "text": [
            "True\n"
          ]
        }
      ]
    },
    {
      "cell_type": "markdown",
      "metadata": {
        "id": "M5TkFzASNtgX"
      },
      "source": [
        "## ```or```"
      ]
    },
    {
      "cell_type": "code",
      "metadata": {
        "colab": {
          "base_uri": "https://localhost:8080/"
        },
        "id": "e10_hDcwNwJR",
        "outputId": "a1daba96-05fe-4e50-990b-dc8dbdf13ecc"
      },
      "source": [
        "a = False\n",
        "b = False\n",
        "c = False\n",
        "print(a or b or c)   # da falso si todos son falso"
      ],
      "execution_count": null,
      "outputs": [
        {
          "output_type": "stream",
          "name": "stdout",
          "text": [
            "False\n"
          ]
        }
      ]
    },
    {
      "cell_type": "markdown",
      "metadata": {
        "id": "u-fQYalFOZAI"
      },
      "source": [
        "## Contadores\n",
        "Un contador es una variable que se va incrementando, habitualmente de uno en uno."
      ]
    },
    {
      "cell_type": "code",
      "metadata": {
        "colab": {
          "base_uri": "https://localhost:8080/"
        },
        "id": "-tO8OuDDOaJ6",
        "outputId": "b0b97137-3f85-48c3-d38f-5a6cc1f1eb38"
      },
      "source": [
        "vidas = 3                  # comenzamos un juego con 3 vidas\n",
        "print(vidas)\n",
        "\n",
        "vidas = vidas + 1          # si en el juego ganamos una vida podemos incrementar su valor en uno\n",
        "print(vidas)\n",
        "\n",
        "vidas += 1                 # esta es una forma abreviada de escribir lo mismo que antes. Incrementa las vidas en una más.\n",
        "print(vidas)\n",
        "\n",
        "vidas -= 1                 # perdemos una vida. Es una forma abreviada de escribir   vidas = vidas - 1\n",
        "print(vidas)"
      ],
      "execution_count": null,
      "outputs": [
        {
          "output_type": "stream",
          "name": "stdout",
          "text": [
            "3\n",
            "4\n",
            "5\n",
            "4\n"
          ]
        }
      ]
    },
    {
      "cell_type": "markdown",
      "metadata": {
        "id": "EbzmAFhQPftj"
      },
      "source": [
        "# Concatenar"
      ]
    },
    {
      "cell_type": "code",
      "metadata": {
        "colab": {
          "base_uri": "https://localhost:8080/"
        },
        "id": "eI5GkcAKPinX",
        "outputId": "76f9ceff-705f-4974-e031-43788b1109b0"
      },
      "source": [
        "a = \"Buenos \"\n",
        "b = \"Aires\"\n",
        "print(a + b + \" es la capital de Argentina.\")"
      ],
      "execution_count": null,
      "outputs": [
        {
          "output_type": "stream",
          "name": "stdout",
          "text": [
            "Buenos Aires es la capital de Argentina.\n"
          ]
        }
      ]
    },
    {
      "cell_type": "code",
      "metadata": {
        "colab": {
          "base_uri": "https://localhost:8080/"
        },
        "id": "ZNi__D4vQBD3",
        "outputId": "fbb0d086-fa93-4152-d460-ec009e9bc5fb"
      },
      "source": [
        "print(\"1\" + \"2\")"
      ],
      "execution_count": null,
      "outputs": [
        {
          "output_type": "stream",
          "name": "stdout",
          "text": [
            "12\n"
          ]
        }
      ]
    },
    {
      "cell_type": "code",
      "metadata": {
        "id": "5HoGNWvGRQX1"
      },
      "source": [
        "#print( \"Tengo\" + 15)        # ERROR"
      ],
      "execution_count": null,
      "outputs": []
    },
    {
      "cell_type": "markdown",
      "metadata": {
        "id": "-ZCIZpBpQTa1"
      },
      "source": [
        "# Imprimir"
      ]
    },
    {
      "cell_type": "code",
      "metadata": {
        "colab": {
          "base_uri": "https://localhost:8080/"
        },
        "id": "QMB-OKgxQWpP",
        "outputId": "a5952f35-ec6d-4dbb-d75a-95b5cf5beea5"
      },
      "source": [
        "nombre = \"Ana\"\n",
        "edad = 14\n",
        "print(\"Hola, me llamo \" + nombre + \" y tengo \" + str(edad) +\" años.\")\n",
        "print(\"Hola, me llamo\", nombre, \"y tengo\", edad, \"años.\") \n",
        "print(f\"Hola, me llamo {nombre} y tengo {edad} años.\")"
      ],
      "execution_count": null,
      "outputs": [
        {
          "output_type": "stream",
          "name": "stdout",
          "text": [
            "Hola, me llamo Ana y tengo 14 años.\n",
            "Hola, me llamo Ana y tengo 14 años.\n",
            "Hola, me llamo Ana y tengo 14 años.\n"
          ]
        }
      ]
    },
    {
      "cell_type": "markdown",
      "metadata": {
        "id": "YCSSHvODS4pL"
      },
      "source": [
        "# Introduciendo datos con ```input()```\n",
        "Con la función input conseguimos capturar lo que el usuario escriba por teclado.  \n",
        "Input siempre captura un **string**. Si introducimos un número 5 lo que captura es '5'."
      ]
    },
    {
      "cell_type": "code",
      "metadata": {
        "colab": {
          "base_uri": "https://localhost:8080/"
        },
        "id": "Zs8ZO7V1S5pD",
        "outputId": "9b559407-7b7d-4538-f333-6dcea892f3e6"
      },
      "source": [
        "nombre = input(\"¿Cómo te llamas? \")          # recogemos el nombre en una variable, esto hace que se recuerde y se pueda usar luego\n",
        "nota = float(input(\"Nota del examen: \"))     # float convierte el str a un número con decimales. Si fuera int convierte a un entero.\n",
        "print(f\"Buenos días {nombre}, en el examen tienes una nota de {nota}.\")"
      ],
      "execution_count": null,
      "outputs": [
        {
          "output_type": "stream",
          "name": "stdout",
          "text": [
            "¿Cómo te llamas? Jose\n",
            "Nota del examen: 7.5\n",
            "Buenos días Jose, en el examen tienes una nota de 7.5.\n"
          ]
        }
      ]
    },
    {
      "cell_type": "markdown",
      "metadata": {
        "id": "g7BTRO--UyJs"
      },
      "source": [
        "# Reto. Calcular la nota media de dos exámenes"
      ]
    }
  ]
}