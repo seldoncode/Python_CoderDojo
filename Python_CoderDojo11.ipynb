{
  "nbformat": 4,
  "nbformat_minor": 0,
  "metadata": {
    "colab": {
      "name": "Python_CoderDojo11.ipynb",
      "provenance": [],
      "collapsed_sections": [],
      "authorship_tag": "ABX9TyMRf9dd8rAyVzu5lGzNOHQM",
      "include_colab_link": true
    },
    "kernelspec": {
      "name": "python3",
      "display_name": "Python 3"
    },
    "language_info": {
      "name": "python"
    }
  },
  "cells": [
    {
      "cell_type": "markdown",
      "metadata": {
        "id": "view-in-github",
        "colab_type": "text"
      },
      "source": [
        "<a href=\"https://colab.research.google.com/github/seldoncode/Python_CoderDojo/blob/main/Python_CoderDojo11.ipynb\" target=\"_parent\"><img src=\"https://colab.research.google.com/assets/colab-badge.svg\" alt=\"Open In Colab\"/></a>"
      ]
    },
    {
      "cell_type": "markdown",
      "metadata": {
        "id": "RF5TviYI7aVn"
      },
      "source": [
        "# Variable de tipo ```None```\n",
        "Una variable tipo None es una variable sin dato, representa la ausencia de valor. Tiene un tipo propio que es el tipo None.\n",
        "\n",
        "Podemos usarla al declarar una variable que no queremos que tenga un valor concreto.\n",
        "\n"
      ]
    },
    {
      "cell_type": "code",
      "metadata": {
        "id": "0BgXjgbFrbKK"
      },
      "source": [
        "a = None\n",
        "type(a)"
      ],
      "execution_count": null,
      "outputs": []
    },
    {
      "cell_type": "markdown",
      "metadata": {
        "id": "cH7x0V-0rXXn"
      },
      "source": [
        "### El siguiente programa nos pide números hasta que se introduzca un 5."
      ]
    },
    {
      "cell_type": "code",
      "metadata": {
        "id": "qJQINGn86yoU"
      },
      "source": [
        "eleccion = None                  # indica que la variable aún no tiene valor y que se le dará valor posteriormente\n",
        "                                 # esto evita tener que poner aquí un input igual al siguiente. En programación hemos de evitar repetir código\n",
        "while eleccion != 5:\n",
        "  eleccion = int(input(\"Introduzca un número distintos de 5: \"))\n",
        "else:\n",
        "  print(\"Ha elegido el 5.\")"
      ],
      "execution_count": null,
      "outputs": []
    },
    {
      "cell_type": "markdown",
      "metadata": {
        "id": "PQQVFyU_pzqJ"
      },
      "source": [
        "* El programa anterior no funcionarría si la condición del ```while``` fuera ```eleccion > 5```"
      ]
    },
    {
      "cell_type": "code",
      "metadata": {
        "id": "xy77g6_0sy0R"
      },
      "source": [
        "#None>5         # ERROR: no se puede comparar un None con un mayor o menor respecto a un entero"
      ],
      "execution_count": null,
      "outputs": []
    },
    {
      "cell_type": "markdown",
      "metadata": {
        "id": "UFMekFJAswlO"
      },
      "source": [
        "* En ese caso se tendría que usar la siguiente versión."
      ]
    },
    {
      "cell_type": "markdown",
      "metadata": {
        "id": "xxOoXQG9sVJo"
      },
      "source": [
        "### Operador ```is```\n",
        "* Es un operador que compara dos elementos atendiendo a su identidad.\n",
        "* Se usa en ocasiones junto a ```None```"
      ]
    },
    {
      "cell_type": "code",
      "metadata": {
        "id": "nngDBsJb-skC"
      },
      "source": [
        "eleccion = None\n",
        "\n",
        "while eleccion is None or eleccion > 5:                        # la 1ª condición entra la primera vez y la segunda el resto\n",
        "  eleccion = int(input(\"Introduzca un número mayor que 5: \"))\n",
        "else:\n",
        "  print(\"Ha elegido un número menor o igual que 5.\")"
      ],
      "execution_count": null,
      "outputs": []
    },
    {
      "cell_type": "markdown",
      "metadata": {
        "id": "XpPL4Zuovzkp"
      },
      "source": [
        "## El identificador ```id``` de los objetos\n",
        "* Los números y los string iguales tienen la misma identidad\n",
        "* Las listas y tuplas iguales no tienen la misma identidad"
      ]
    },
    {
      "cell_type": "code",
      "metadata": {
        "id": "TdNl3uOutbKc"
      },
      "source": [
        "p = 5\n",
        "q = 5\n",
        "print(p==q)        # True    Son iguales\n",
        "print(p is q)      # True    Tienen la misma identidad, ambas variables apuntan el mismo objeto que es el número entero 5\n",
        "print(id(p))       # El identificador de p, hace referencia a la dirección de memoria donde está el objeto al que apunta la variable\n",
        "print(id(q))       # El identificador de q es el mismo, se trata del mismo objeto"
      ],
      "execution_count": null,
      "outputs": []
    },
    {
      "cell_type": "code",
      "metadata": {
        "id": "6IHi3XSvt8lD"
      },
      "source": [
        "p = \"Hola\"\n",
        "q = \"Hola\"\n",
        "print(p==q)        # True    Son iguales\n",
        "print(p is q)      # True    Tienen la misma identidad, ambas variables apuntan al mismo string\n",
        "print(id(p))       # El identificador de p, hace referencia a la dirección de memoria donde está el objeto al que apunta la variable\n",
        "print(id(q))       # El identificador de q es el mismo, se trata del mismo objeto"
      ],
      "execution_count": null,
      "outputs": []
    },
    {
      "cell_type": "code",
      "metadata": {
        "id": "4BH7E2y8uLWH"
      },
      "source": [
        "p = [1,2,3]        # Las listas se guardan como objetos diferentes\n",
        "q = [1,2,3]        # Las listas iguales no tienen la misma identidad ya que se guardan como objetos diferentes\n",
        "print(p==q)        # True    Son iguales, se trata de la misma lista\n",
        "print(p is q)      # False   No tienen la misma identidad, ambas listas son objetos diferentes\n",
        "print(id(p))       # El identificador de p, hace referencia a la dirección de memoria donde está el objeto al que apunta la variable\n",
        "print(id(q))       # El identificador de q es diferente, se trata de otro objeto diferente"
      ],
      "execution_count": null,
      "outputs": []
    },
    {
      "cell_type": "markdown",
      "metadata": {
        "id": "KuP-2zVow8xU"
      },
      "source": [
        "### Programa que identifica el mayor de una serie de números\n",
        "* Generar una lista con diez números enteros, aleatorios, entre 0 y 100, ambos incluidos, con posible repetición\n",
        "* Calcular el máximo por varios métodos"
      ]
    },
    {
      "cell_type": "markdown",
      "metadata": {
        "id": "URgQOtoIyKO-"
      },
      "source": [
        "#### Solución 1. Usando ```max```"
      ]
    },
    {
      "cell_type": "code",
      "metadata": {
        "id": "TmH9_h6KyPhB"
      },
      "source": [
        "import random\n",
        "lista = random.choices(range(101),k=10)\n",
        "print(lista)\n",
        "print(f\"El máximo es {max(lista)}.\")"
      ],
      "execution_count": null,
      "outputs": []
    },
    {
      "cell_type": "markdown",
      "metadata": {
        "id": "qqDXHyBu3CZC"
      },
      "source": [
        "#### Solución 2.1. Sin usar ```max```\n",
        "Usando dos bucles ```for``` uno para generar los aleatorios y otro para ir buscando el máximo."
      ]
    },
    {
      "cell_type": "code",
      "metadata": {
        "id": "5JzoNqwm3B40",
        "colab": {
          "base_uri": "https://localhost:8080/"
        },
        "outputId": "00532774-f0d6-4b8d-8927-7d3e99ba0b5e"
      },
      "source": [
        "  ºimport random\n",
        "lista = []\n",
        "for _ in range(10):\n",
        "  lista.append(random.randrange(0,101))\n",
        "\n",
        "print(lista)\n",
        "\n",
        "mayor = lista[0]                # para inicializar la variable 'mayor' elegimos el primer elemento de la lista\n",
        "\n",
        "for n in lista:\n",
        "  if n > mayor:\n",
        "    mayor=n\n",
        "\n",
        "print(f\"El máximo es {mayor}.\")"
      ],
      "execution_count": null,
      "outputs": [
        {
          "output_type": "stream",
          "name": "stdout",
          "text": [
            "[13, 9, 31, 70, 99, 28, 0, 57, 29, 19]\n",
            "El máximo es 99.\n"
          ]
        }
      ]
    },
    {
      "cell_type": "markdown",
      "metadata": {
        "id": "9Q_rODUZukEk"
      },
      "source": [
        "#### Solución 2.2. Sin usar ```max```\n",
        "Usando solo un bucle ```for``` donde podemos generar los aleatorios y al mismo tiempo ir buscando el máximo."
      ]
    },
    {
      "cell_type": "code",
      "metadata": {
        "colab": {
          "base_uri": "https://localhost:8080/"
        },
        "id": "688oNjQKuw2j",
        "outputId": "1c103db3-26d2-4c07-b715-89517e70c7e5"
      },
      "source": [
        "import random\n",
        "lista = []\n",
        "mayor = 0                # elegimos cero porque sabemos que es el menor de los valores posibles de la lista\n",
        "for _ in range(10):\n",
        "  lista.append(random.randrange(0,101))\n",
        "  if lista[-1] > mayor:\n",
        "    mayor = lista[-1]\n",
        "print(lista)\n",
        "print(f\"El máximo es {mayor}.\")"
      ],
      "execution_count": null,
      "outputs": [
        {
          "output_type": "stream",
          "name": "stdout",
          "text": [
            "[48, 69, 41, 33, 72, 8, 31, 62, 50, 39]\n",
            "El máximo es 72.\n"
          ]
        }
      ]
    },
    {
      "cell_type": "markdown",
      "metadata": {
        "id": "8egavQDu-QaR"
      },
      "source": [
        "#### Solución 3. Sin usar ```max``` y sin conocer un ínfimo\n",
        "Supongamos que no sabemos que el menor de los valores posibles de la lista es cero.  \n",
        "Y supongamos que tampoco conocemos que ningún otro número sea un ínfimo (un extremo inferior) de la lista. Por ejemplo, no estamos seguros de que no existan valores inferiores a -500.  \n",
        "Supongamos que esa información no la tenemos.  \n",
        "En ese caso no sabríamos con que valor inicializar la variable 'mayor'.  \n",
        "Podemos solucionarlo igualando 'mayor' a None."
      ]
    },
    {
      "cell_type": "code",
      "metadata": {
        "id": "AYG8o_Zh-n2u"
      },
      "source": [
        "import random\n",
        "lista = []\n",
        "for _ in range(10):\n",
        "  lista.append(random.randrange(0,101))\n",
        "\n",
        "mayor = None                # igualamos a None en el caso en que no sepamos cuál es un número que sea un ínfimo (un extremo inferior) de la lista\n",
        "\n",
        "for n in lista:\n",
        "  if mayor is None or n > mayor:  # necesitamos poner las dos condiciones lógicas con un 'or' para que la 1ª vez funciona la 1ª condición y luego la 2ª condición el resto\n",
        "    mayor=n\n",
        "\n",
        "print(f\"El máximo es {mayor}.\")"
      ],
      "execution_count": null,
      "outputs": []
    },
    {
      "cell_type": "markdown",
      "metadata": {
        "id": "35bfmjeqxo0y"
      },
      "source": [
        "#### Solución 4. Conociendo el menor de los valores ```int``` de Python\n",
        "Los números enteros de tipo ```int``` en Python varían entre -2147483648 y 2147483647.  \n",
        "Una posible solución para establecer inicializar la variable 'mayor' puede ser igualarla inicialmente al valor infimo de este tipo de datos que es -2147483648.\n",
        "\n",
        "Esto funcionará siempre que sepamos que los datos de la lista son enteros de tipo int."
      ]
    },
    {
      "cell_type": "code",
      "metadata": {
        "colab": {
          "base_uri": "https://localhost:8080/"
        },
        "id": "nNTxaBfqyZbd",
        "outputId": "b43a141a-dce6-4071-99c9-bc0afb9a7acc"
      },
      "source": [
        "import random\n",
        "lista = random.choices(range(101),k=10)\n",
        "print(lista)\n",
        "mayor = -2147483648           # inicializamos la variable mayor con el menor de los enteros de tipo int\n",
        "for n in lista:\n",
        "  if n > mayor:\n",
        "    mayor=n\n",
        "print(f\"El máximo es {mayor}.\")"
      ],
      "execution_count": null,
      "outputs": [
        {
          "output_type": "stream",
          "name": "stdout",
          "text": [
            "[44, 63, 4, 87, 88, 13, 72, 6, 64, 11]\n",
            "El máximo es 88.\n"
          ]
        }
      ]
    },
    {
      "cell_type": "markdown",
      "metadata": {
        "id": "-GEhT1aOU3Uy"
      },
      "source": [
        "### Programa que pide que tres jugadores introduzcan un número\n",
        "Cuando los tres han introducido el número finaliza el programa."
      ]
    },
    {
      "cell_type": "markdown",
      "metadata": {
        "id": "hJpB6TzrWYRV"
      },
      "source": [
        "#### Solución 1. Con un ```for```"
      ]
    },
    {
      "cell_type": "code",
      "metadata": {
        "id": "KPR3bFH3VGd2",
        "colab": {
          "base_uri": "https://localhost:8080/"
        },
        "outputId": "531a5bbf-7eae-4df5-c8d4-f3c8deac6938"
      },
      "source": [
        "numeros = []\n",
        "for i in range(3):\n",
        "  n = int(input(f\"Jugador {i+1}. Introduzca un número entero: \"))\n",
        "  numeros.append(n)\n",
        "\n",
        "print(numeros)"
      ],
      "execution_count": null,
      "outputs": [
        {
          "output_type": "stream",
          "name": "stdout",
          "text": [
            "Jugador 1. Introduzca un número entero: 11\n",
            "Jugador 2. Introduzca un número entero: 22\n",
            "Jugador 3. Introduzca un número entero: 33\n",
            "[11, 22, 33]\n"
          ]
        }
      ]
    },
    {
      "cell_type": "markdown",
      "metadata": {
        "id": "S5Lgl7bqWwsi"
      },
      "source": [
        "#### Solución 2. Con un ```while```\n",
        "En este caso supondremos que si se intenta introducir un dato para un jugador que ya lo hizo, el programa nos avisará y seguirá pidiendo datos hasta que todos los jugadores hayan introducido su cifra."
      ]
    },
    {
      "cell_type": "code",
      "metadata": {
        "colab": {
          "base_uri": "https://localhost:8080/"
        },
        "id": "0zjmVAkOUjDm",
        "outputId": "ac53ee90-4d3a-485a-c9d4-e6e8b72a2d46"
      },
      "source": [
        "valores = [None]*3         # lista con los tres valores elegidos por los tres jugadores, inicializados a None\n",
        "while not all(valores):    # equivale avalores[0] is None or valores[1] is None or valores[2] is None:\n",
        "  print()\n",
        "  print(''' Pulsa:\n",
        "            1. Para jugador A\n",
        "            2. Para jugador B\n",
        "            3. Para jugador C\n",
        "            ''')\n",
        "  jugador = int(input(\"Elige jugador: \"))\n",
        "  if jugador not in [1,2,3]:\n",
        "    print(\"Ha introducido una opción incorrecta.\")\n",
        "  elif valores[jugador-1] is None:\n",
        "    valores[jugador-1] = int(input(\"Introduzca un número entero: \"))\n",
        "  else:\n",
        "    print(\"Este jugador ya ha introducido su dato.\")\n",
        "print(\"Los tres jugadores han elegido número.\")\n",
        "print(valores)"
      ],
      "execution_count": null,
      "outputs": [
        {
          "output_type": "stream",
          "name": "stdout",
          "text": [
            "\n",
            " Pulsa:\n",
            "            1. Para jugador A\n",
            "            2. Para jugador B\n",
            "            3. Para jugador C\n",
            "            \n",
            "Elige jugador: 0\n",
            "Ha introducido una opción incorrecta.\n",
            "\n",
            " Pulsa:\n",
            "            1. Para jugador A\n",
            "            2. Para jugador B\n",
            "            3. Para jugador C\n",
            "            \n",
            "Elige jugador: 1\n",
            "Introduzca un número entero: 11\n",
            "\n",
            " Pulsa:\n",
            "            1. Para jugador A\n",
            "            2. Para jugador B\n",
            "            3. Para jugador C\n",
            "            \n",
            "Elige jugador: 2\n",
            "Introduzca un número entero: 22\n",
            "\n",
            " Pulsa:\n",
            "            1. Para jugador A\n",
            "            2. Para jugador B\n",
            "            3. Para jugador C\n",
            "            \n",
            "Elige jugador: 4\n",
            "Ha introducido una opción incorrecta.\n",
            "\n",
            " Pulsa:\n",
            "            1. Para jugador A\n",
            "            2. Para jugador B\n",
            "            3. Para jugador C\n",
            "            \n",
            "Elige jugador: 1\n",
            "Este jugador ya ha introducido su dato.\n",
            "\n",
            " Pulsa:\n",
            "            1. Para jugador A\n",
            "            2. Para jugador B\n",
            "            3. Para jugador C\n",
            "            \n",
            "Elige jugador: 3\n",
            "Introduzca un número entero: 33\n",
            "Los tres jugadores han elegido número.\n",
            "[11, 22, 33]\n"
          ]
        }
      ]
    },
    {
      "cell_type": "markdown",
      "metadata": {
        "id": "2uVrFl1BY3Xr"
      },
      "source": [
        "### Concatener condiciones lógicas con ```any```"
      ]
    },
    {
      "cell_type": "code",
      "metadata": {
        "colab": {
          "base_uri": "https://localhost:8080/"
        },
        "id": "WHmct7yjZMFZ",
        "outputId": "91eaac1a-ba61-4843-c18a-bf5aa3cc4fc5"
      },
      "source": [
        "print(any([False,False,False]))          # False\n",
        "print(any([True,False,False]))           # True\n",
        "print(any([True,True,False]))            # True\n",
        "print(any([True,True,True]))             # True"
      ],
      "execution_count": null,
      "outputs": [
        {
          "output_type": "stream",
          "name": "stdout",
          "text": [
            "False\n",
            "True\n",
            "True\n",
            "True\n"
          ]
        }
      ]
    },
    {
      "cell_type": "code",
      "metadata": {
        "colab": {
          "base_uri": "https://localhost:8080/"
        },
        "id": "GOsXxJ3PYK_M",
        "outputId": "1198a255-271a-4106-91b8-51d8dadb966d"
      },
      "source": [
        "l0 = [None,None,None]\n",
        "l1 = [1,None,None]\n",
        "l2 = [1,2,None]\n",
        "l3 = [1,2,3]\n",
        "\n",
        "print(any(l0))          # False\n",
        "print(any(l1))          # True\n",
        "print(any(l2))          # True\n",
        "print(any(l3))          # True"
      ],
      "execution_count": null,
      "outputs": [
        {
          "output_type": "stream",
          "name": "stdout",
          "text": [
            "False\n",
            "True\n",
            "True\n",
            "True\n"
          ]
        }
      ]
    },
    {
      "cell_type": "markdown",
      "metadata": {
        "id": "lOhN_R2ZZHQZ"
      },
      "source": [
        "### Concatener condiciones lógicas con ```all```"
      ]
    },
    {
      "cell_type": "code",
      "metadata": {
        "colab": {
          "base_uri": "https://localhost:8080/"
        },
        "id": "jOXLEAQmaCps",
        "outputId": "dda528ea-af89-4bf5-f00c-4eb47cbacd57"
      },
      "source": [
        "print(all([False,False,False]))          # False\n",
        "print(all([True,False,False]))           # False\n",
        "print(all([True,True,False]))            # False\n",
        "print(all([True,True,True]))             # True"
      ],
      "execution_count": null,
      "outputs": [
        {
          "output_type": "stream",
          "name": "stdout",
          "text": [
            "False\n",
            "False\n",
            "False\n",
            "True\n"
          ]
        }
      ]
    },
    {
      "cell_type": "code",
      "metadata": {
        "colab": {
          "base_uri": "https://localhost:8080/"
        },
        "id": "mhNVzE-1Yrc7",
        "outputId": "c73744a8-c641-4938-df1b-4a1f2cbdc2c8"
      },
      "source": [
        "l0 = [None,None,None]\n",
        "l1 = [1,None,None]\n",
        "l2 = [1,2,None]\n",
        "l3 = [1,2,3]\n",
        "\n",
        "print(all(l0))          # False\n",
        "print(all(l1))          # False\n",
        "print(all(l2))          # False\n",
        "print(all(l3))          # True"
      ],
      "execution_count": null,
      "outputs": [
        {
          "output_type": "stream",
          "name": "stdout",
          "text": [
            "False\n",
            "False\n",
            "False\n",
            "True\n"
          ]
        }
      ]
    },
    {
      "cell_type": "markdown",
      "metadata": {
        "id": "vtCMFYvvanBz"
      },
      "source": [
        "# La función predefinida ```tuple```\n",
        "* Convierte un iterable en una tupla. Por ejemplo\n",
        " - convierte una lista en una tupla\n",
        " - convierte un rango en tupla"
      ]
    },
    {
      "cell_type": "code",
      "metadata": {
        "colab": {
          "base_uri": "https://localhost:8080/"
        },
        "id": "jHcLDXGZa643",
        "outputId": "5b5caaaf-d044-4aeb-f686-7ecf21222b12"
      },
      "source": [
        "tuple([1,2,3])        # convierte una lista en tupla"
      ],
      "execution_count": null,
      "outputs": [
        {
          "output_type": "execute_result",
          "data": {
            "text/plain": [
              "(1, 2, 3)"
            ]
          },
          "metadata": {},
          "execution_count": 14
        }
      ]
    },
    {
      "cell_type": "code",
      "metadata": {
        "colab": {
          "base_uri": "https://localhost:8080/"
        },
        "id": "MsYy4RY6bF1J",
        "outputId": "91051e08-0970-48c1-f04c-3d4838c67caf"
      },
      "source": [
        "tuple(range(10))      # convierte un rango en tupla"
      ],
      "execution_count": null,
      "outputs": [
        {
          "output_type": "execute_result",
          "data": {
            "text/plain": [
              "(0, 1, 2, 3, 4, 5, 6, 7, 8, 9)"
            ]
          },
          "metadata": {},
          "execution_count": 15
        }
      ]
    },
    {
      "cell_type": "code",
      "metadata": {
        "colab": {
          "base_uri": "https://localhost:8080/"
        },
        "id": "CtkuMP7RcEyt",
        "outputId": "3a4bc43f-ffd1-42ad-b0a5-a3a4169b10f2"
      },
      "source": [
        "t1 = ()               # creación de una tupla vacía\n",
        "t2 = tuple()          # creación de una tupla vacía usando la función tuple\n",
        "print(t1)\n",
        "print(t2)"
      ],
      "execution_count": null,
      "outputs": [
        {
          "output_type": "stream",
          "name": "stdout",
          "text": [
            "()\n",
            "()\n"
          ]
        }
      ]
    },
    {
      "cell_type": "markdown",
      "metadata": {
        "id": "2gEF1u4obmF3"
      },
      "source": [
        "# La función predefinida ```list```\n",
        "* Convierte un iterable en una lista. Por ejemplo\n",
        " - convierte una tupla en una lista\n",
        " - convierte un rango en lista"
      ]
    },
    {
      "cell_type": "code",
      "metadata": {
        "colab": {
          "base_uri": "https://localhost:8080/"
        },
        "id": "9iRCFfJEbzL-",
        "outputId": "2272828f-8da8-4707-93bf-dc9dfe66e88e"
      },
      "source": [
        "list((1,2,3))"
      ],
      "execution_count": null,
      "outputs": [
        {
          "output_type": "execute_result",
          "data": {
            "text/plain": [
              "[1, 2, 3]"
            ]
          },
          "metadata": {},
          "execution_count": 17
        }
      ]
    },
    {
      "cell_type": "code",
      "metadata": {
        "colab": {
          "base_uri": "https://localhost:8080/"
        },
        "id": "RNxzz2Jdb4gW",
        "outputId": "6d7490fa-5e36-48cb-d400-cead04719dad"
      },
      "source": [
        "list(range(10))"
      ],
      "execution_count": null,
      "outputs": [
        {
          "output_type": "execute_result",
          "data": {
            "text/plain": [
              "[0, 1, 2, 3, 4, 5, 6, 7, 8, 9]"
            ]
          },
          "metadata": {},
          "execution_count": 18
        }
      ]
    },
    {
      "cell_type": "code",
      "metadata": {
        "colab": {
          "base_uri": "https://localhost:8080/"
        },
        "id": "DONabb1pcRri",
        "outputId": "23f94892-4b86-49e3-9f09-79fc31c9750d"
      },
      "source": [
        "l1 = []               # creación de una lista vacía\n",
        "l2 = list()           # creación de una lista vacía usando la función list\n",
        "print(l1)\n",
        "print(l2)"
      ],
      "execution_count": null,
      "outputs": [
        {
          "output_type": "stream",
          "name": "stdout",
          "text": [
            "()\n",
            "[]\n"
          ]
        }
      ]
    },
    {
      "cell_type": "markdown",
      "metadata": {
        "id": "qDZzOXtkiXCQ"
      },
      "source": [
        "## Copiar listas"
      ]
    },
    {
      "cell_type": "code",
      "metadata": {
        "colab": {
          "base_uri": "https://localhost:8080/"
        },
        "id": "Z3xcrRy-ica4",
        "outputId": "4f618525-18bb-4d9f-e1a1-32ceeb50bb82"
      },
      "source": [
        "lista_A = [1,2,3]\n",
        "lista_B = lista_A             # lista_B es una copia identica a lista_A\n",
        "lista_B"
      ],
      "execution_count": null,
      "outputs": [
        {
          "output_type": "execute_result",
          "data": {
            "text/plain": [
              "[1, 2, 3]"
            ]
          },
          "metadata": {},
          "execution_count": 22
        }
      ]
    },
    {
      "cell_type": "code",
      "metadata": {
        "colab": {
          "base_uri": "https://localhost:8080/"
        },
        "id": "nHZwL1yRiuvm",
        "outputId": "02a062aa-cb0a-46eb-da7e-3991b8806394"
      },
      "source": [
        "print(id(lista_A))            # es una copia tan idéntica que sus identificadores son los mismos\n",
        "print(id(lista_B))            # apuntan a la misma dirección de memoria. En realidad se trata del mismo objeto"
      ],
      "execution_count": null,
      "outputs": [
        {
          "output_type": "stream",
          "name": "stdout",
          "text": [
            "139640842995584\n",
            "139640842995584\n"
          ]
        }
      ]
    },
    {
      "cell_type": "code",
      "metadata": {
        "colab": {
          "base_uri": "https://localhost:8080/"
        },
        "id": "L71THju5jA0G",
        "outputId": "e89d15e5-52ee-48eb-9271-d2282d4456a3"
      },
      "source": [
        "# comprobemos que se trata del mismo objeto\n",
        "lista_A.append(4)              # añadimos un elemento a la lista_A\n",
        "lista_B                        # ese mismo elemento queda añadido a la lista_B, ya que en realidad son el mismo objeto"
      ],
      "execution_count": null,
      "outputs": [
        {
          "output_type": "execute_result",
          "data": {
            "text/plain": [
              "[1, 2, 3, 4]"
            ]
          },
          "metadata": {},
          "execution_count": 24
        }
      ]
    },
    {
      "cell_type": "markdown",
      "metadata": {
        "id": "nk-G78znjUJs"
      },
      "source": [
        "### Copiar listas no idénticas\n",
        "Si deseamos copiar una lista pero que no se trate del mismo objeto se puede hacer con ```list```"
      ]
    },
    {
      "cell_type": "code",
      "metadata": {
        "colab": {
          "base_uri": "https://localhost:8080/"
        },
        "id": "Rhy1GY6Mjg0u",
        "outputId": "1f76a471-19ef-469b-c502-195c9957d57e"
      },
      "source": [
        "l1 = [1,2,3]\n",
        "l2 = list(l1)                  # con list copiamos los valores de la lista pero no se trata del mismo objeto\n",
        "l1.append(4)                   # añadiendo un elemento a l1 no se añade a l2\n",
        "l2                             # l2 es una lista independiente de l1"
      ],
      "execution_count": null,
      "outputs": [
        {
          "output_type": "execute_result",
          "data": {
            "text/plain": [
              "[1, 2, 3]"
            ]
          },
          "metadata": {},
          "execution_count": 25
        }
      ]
    },
    {
      "cell_type": "code",
      "metadata": {
        "colab": {
          "base_uri": "https://localhost:8080/"
        },
        "id": "aBTj14qPj-Z8",
        "outputId": "d2dda9b2-e0f8-4f4b-c705-75169f28314b"
      },
      "source": [
        "print(l1)                      # las listas son diferentes\n",
        "print(l2)\n",
        "print(id(l1))                  # los identificadores son diferentes\n",
        "print(id(l2))"
      ],
      "execution_count": null,
      "outputs": [
        {
          "output_type": "stream",
          "name": "stdout",
          "text": [
            "[1, 2, 3, 4]\n",
            "[1, 2, 3]\n",
            "139640842502784\n",
            "139640843065216\n"
          ]
        }
      ]
    },
    {
      "cell_type": "markdown",
      "metadata": {
        "id": "W4IpuWRukVJx"
      },
      "source": [
        "También se hubiera conseguido hacer una copia independiente de listas copiando sus valores, así:"
      ]
    },
    {
      "cell_type": "code",
      "metadata": {
        "colab": {
          "base_uri": "https://localhost:8080/"
        },
        "id": "F3qgM8BokgcH",
        "outputId": "ffb3b768-3632-4052-dd38-fe9f8a2478c6"
      },
      "source": [
        "l1 = [1,2,3]\n",
        "l2 = l1[:]                     # esto copia todos los valores y crea una lista l2 independiente de l1\n",
        "print(id(l1))\n",
        "print(id(l2))"
      ],
      "execution_count": null,
      "outputs": [
        {
          "output_type": "stream",
          "name": "stdout",
          "text": [
            "139640843167056\n",
            "139640973721344\n"
          ]
        }
      ]
    },
    {
      "cell_type": "markdown",
      "metadata": {
        "id": "AaAdWuIgL1U-"
      },
      "source": [
        "## Reverso de una lista"
      ]
    },
    {
      "cell_type": "markdown",
      "metadata": {
        "id": "RK11M188L53Y"
      },
      "source": [
        "### Método 1"
      ]
    },
    {
      "cell_type": "code",
      "metadata": {
        "colab": {
          "base_uri": "https://localhost:8080/"
        },
        "id": "XpKeUP9SL9wT",
        "outputId": "a922de9e-2f5a-4902-bc30-9bb1ab9eb4a0"
      },
      "source": [
        "lista = list(range(10,21))\n",
        "print(lista)\n",
        "reverso = []\n",
        "for i in range(len(lista)-1,-1,-1):\n",
        "  reverso.append(lista[i])\n",
        "reverso"
      ],
      "execution_count": null,
      "outputs": [
        {
          "output_type": "stream",
          "name": "stdout",
          "text": [
            "[10, 11, 12, 13, 14, 15, 16, 17, 18, 19, 20]\n"
          ]
        },
        {
          "output_type": "execute_result",
          "data": {
            "text/plain": [
              "[20, 19, 18, 17, 16, 15, 14, 13, 12, 11, 10]"
            ]
          },
          "metadata": {},
          "execution_count": 3
        }
      ]
    },
    {
      "cell_type": "markdown",
      "metadata": {
        "id": "08eXrTaoMzW6"
      },
      "source": [
        "### Método 2"
      ]
    },
    {
      "cell_type": "code",
      "metadata": {
        "colab": {
          "base_uri": "https://localhost:8080/"
        },
        "id": "EhNAlKpUoD99",
        "outputId": "1b1080d8-50bd-4cb5-c411-15c0533c293b"
      },
      "source": [
        "import random\n",
        "n = 11              # longitud de la lista\n",
        "lista = random.sample(range(10,21),k=n)\n",
        "print(lista)\n",
        "reverso = []\n",
        "for i in range(n):\n",
        "  reverso.append(lista[n-1-i])      # si i=0 entonces n-1-i = 11-1-0 = 10 que es el último elemento de la lista\n",
        "print(reverso)"
      ],
      "execution_count": null,
      "outputs": [
        {
          "output_type": "stream",
          "name": "stdout",
          "text": [
            "[13, 14, 17, 19, 12, 20, 16, 15, 18, 11, 10]\n",
            "[10, 11, 18, 15, 16, 20, 12, 19, 17, 14, 13]\n"
          ]
        }
      ]
    },
    {
      "cell_type": "markdown",
      "metadata": {
        "id": "_NgbGFiSoBFM"
      },
      "source": [
        "### Método 3"
      ]
    },
    {
      "cell_type": "code",
      "metadata": {
        "colab": {
          "base_uri": "https://localhost:8080/"
        },
        "id": "YAyw6ZAhr6lP",
        "outputId": "dc5b25f0-1e7e-4b24-dd21-b33da29bfab5"
      },
      "source": [
        "import random\n",
        "n = 11              # longitud de la lista\n",
        "lista = random.sample(range(10,21),k=n)\n",
        "print(lista)\n",
        "reverso = []\n",
        "for i in lista:\n",
        "  reverso = [i] + reverso      # así concatenamos los elementos en orden inverso\n",
        "  print(reverso)               # vemos cómo en cada iteración se añade un elemento al inicio de la lista reverso"
      ],
      "execution_count": null,
      "outputs": [
        {
          "output_type": "stream",
          "name": "stdout",
          "text": [
            "[14, 20, 15, 13, 19, 16, 10, 18, 12, 11, 17]\n",
            "[14]\n",
            "[20, 14]\n",
            "[15, 20, 14]\n",
            "[13, 15, 20, 14]\n",
            "[19, 13, 15, 20, 14]\n",
            "[16, 19, 13, 15, 20, 14]\n",
            "[10, 16, 19, 13, 15, 20, 14]\n",
            "[18, 10, 16, 19, 13, 15, 20, 14]\n",
            "[12, 18, 10, 16, 19, 13, 15, 20, 14]\n",
            "[11, 12, 18, 10, 16, 19, 13, 15, 20, 14]\n",
            "[17, 11, 12, 18, 10, 16, 19, 13, 15, 20, 14]\n"
          ]
        }
      ]
    },
    {
      "cell_type": "markdown",
      "metadata": {
        "id": "Ih6FrVJkr3FC"
      },
      "source": [
        "### Método 4"
      ]
    },
    {
      "cell_type": "code",
      "metadata": {
        "colab": {
          "base_uri": "https://localhost:8080/"
        },
        "id": "GeX4jGAZMy6F",
        "outputId": "d80735d0-05f8-4448-970e-6a23448c5c1a"
      },
      "source": [
        "lista = list(range(10,21))\n",
        "print(lista)\n",
        "reverso = lista[::-1]          # lista total en orden inverso\n",
        "reverso"
      ],
      "execution_count": null,
      "outputs": [
        {
          "output_type": "stream",
          "name": "stdout",
          "text": [
            "[10, 11, 12, 13, 14, 15, 16, 17, 18, 19, 20]\n"
          ]
        },
        {
          "output_type": "execute_result",
          "data": {
            "text/plain": [
              "[20, 19, 18, 17, 16, 15, 14, 13, 12, 11, 10]"
            ]
          },
          "metadata": {},
          "execution_count": 4
        }
      ]
    },
    {
      "cell_type": "markdown",
      "metadata": {
        "id": "J4cQrQbxthCW"
      },
      "source": [
        "### Método 5\n",
        "La función ```reverse``` no genera una lista nueva, simplemente da la vuelta a la lista existente."
      ]
    },
    {
      "cell_type": "code",
      "metadata": {
        "colab": {
          "base_uri": "https://localhost:8080/"
        },
        "id": "dmRFnVfStrdG",
        "outputId": "d4767c32-0411-4a77-840a-2d84504f7f9a"
      },
      "source": [
        "lista = [2,6,9,4,15]\n",
        "lista.reverse()\n",
        "print(lista)"
      ],
      "execution_count": null,
      "outputs": [
        {
          "output_type": "stream",
          "name": "stdout",
          "text": [
            "[15, 4, 9, 6, 2]\n"
          ]
        }
      ]
    },
    {
      "cell_type": "markdown",
      "metadata": {
        "id": "37NQlEgjlceX"
      },
      "source": [
        "## Ordenar una lista\n",
        "* Método ```sort``` No devuelve nada. Se usa sobre una lista.\n",
        "* Función ```sorted``` Devuelve una lista. Se usa sobre cualquier iterable."
      ]
    },
    {
      "cell_type": "code",
      "metadata": {
        "colab": {
          "base_uri": "https://localhost:8080/"
        },
        "id": "s38GWm0FlgFF",
        "outputId": "7a2400e2-6217-4e3d-9b8f-d8279a9a4802"
      },
      "source": [
        "lista = [49, 79, 53, 37, 96, 75, 81, 50, 26, 86, 76, 68, 91, 95, 98, 21, 43, 10, 38]\n",
        "print(lista)\n",
        "lista.sort()               # ordena la lista pero no genera una lista nueva\n",
        "print(lista)\n",
        "lista.sort(reverse=True)   # ordena la lista en orden inverso\n",
        "print(lista)"
      ],
      "execution_count": null,
      "outputs": [
        {
          "output_type": "stream",
          "name": "stdout",
          "text": [
            "[49, 79, 53, 37, 96, 75, 81, 50, 26, 86, 76, 68, 91, 95, 98, 21, 43, 10, 38]\n",
            "[10, 21, 26, 37, 38, 43, 49, 50, 53, 68, 75, 76, 79, 81, 86, 91, 95, 96, 98]\n",
            "[98, 96, 95, 91, 86, 81, 79, 76, 75, 68, 53, 50, 49, 43, 38, 37, 26, 21, 10]\n"
          ]
        }
      ]
    },
    {
      "cell_type": "markdown",
      "metadata": {
        "id": "cLpqK9Z2mYah"
      },
      "source": [
        "### La función ```sorted``` devuelve una lista nueva\n",
        "La lista original no cambia."
      ]
    },
    {
      "cell_type": "code",
      "metadata": {
        "colab": {
          "base_uri": "https://localhost:8080/"
        },
        "id": "ofEvwDxvmiJi",
        "outputId": "7edfaa26-945f-47d5-e032-7a68eddeb983"
      },
      "source": [
        "lista = [49, 79, 53, 37, 96, 75, 81, 50, 26, 86, 76, 68, 91, 95, 98, 21, 43, 10, 38]\n",
        "print(\"Lista original:        \", lista)\n",
        "ordenada =sorted(lista)\n",
        "print(\"Lista nueva ordenada:  \", ordenada)\n",
        "reverso = sorted(lista, reverse=True)\n",
        "print(\"Lista nueva invertida: \", reverso)\n",
        "print(\"Lista original:        \", lista)"
      ],
      "execution_count": null,
      "outputs": [
        {
          "output_type": "stream",
          "name": "stdout",
          "text": [
            "Lista original:         [49, 79, 53, 37, 96, 75, 81, 50, 26, 86, 76, 68, 91, 95, 98, 21, 43, 10, 38]\n",
            "Lista nueva ordenada:   [10, 21, 26, 37, 38, 43, 49, 50, 53, 68, 75, 76, 79, 81, 86, 91, 95, 96, 98]\n",
            "Lista nueva invertida:  [98, 96, 95, 91, 86, 81, 79, 76, 75, 68, 53, 50, 49, 43, 38, 37, 26, 21, 10]\n",
            "Lista original:         [49, 79, 53, 37, 96, 75, 81, 50, 26, 86, 76, 68, 91, 95, 98, 21, 43, 10, 38]\n"
          ]
        }
      ]
    },
    {
      "cell_type": "markdown",
      "metadata": {
        "id": "v-78eNxh3Jp7"
      },
      "source": [
        "### Programa de contraseñas\n",
        "El programa nos ofrece establecer una contraseña con las siguientes características:\n",
        "* debe tener entre 8 y 15 caracteres\n",
        "* al menos una mayúscula\n",
        "* al menos una minúscula\n",
        "* al menos un dígito numérico\n",
        "* al menos un caracter especial entre estos: @$%&\n",
        "\n",
        "Habrá 5 intentos de establecer la contraseña, después de cada intento se indicará la causa en caso de fallo. Al final del quinto intento fallido se dirá que no ha sido posible establecer la contraseña y el programa terminará."
      ]
    },
    {
      "cell_type": "markdown",
      "metadata": {
        "id": "8AzN9iQ3WgAW"
      },
      "source": [
        "#### Solución 1"
      ]
    },
    {
      "cell_type": "code",
      "metadata": {
        "colab": {
          "base_uri": "https://localhost:8080/"
        },
        "id": "Tgs7HfRSWjFJ",
        "outputId": "50b17110-1457-45df-deda-db28b40ef83c"
      },
      "source": [
        "mayusculas = \"ABCDEFGHIJKLMNÑOPQRSTUVWXYZ\"\n",
        "minusculas = \"abcdefghijklmnñopqrstuvwxyz\"\n",
        "numeros = \"0123456789\"\n",
        "especiales= \"@$%&\"\n",
        "contrasena = None\n",
        "intentos = 0\n",
        "eligiendo = True\n",
        "while eligiendo:\n",
        "  intentos += 1\n",
        "  c = input(\"Escriba su contraseña elegida: \")\n",
        "  longitud = False\n",
        "  mayuscula = False\n",
        "  minuscula = False\n",
        "  numero = False\n",
        "  especial = False\n",
        "  if len(c)>7 and len(c)<16:\n",
        "    longitud = True\n",
        "  for caracter in c:\n",
        "    if caracter in minusculas:\n",
        "      minuscula = True\n",
        "    if caracter in mayusculas:\n",
        "      mayuscula = True\n",
        "    if caracter in numeros:\n",
        "      numero = True\n",
        "    if caracter in especiales:\n",
        "      especial = True\n",
        "  if longitud and minuscula and mayuscula and numero and especial:\n",
        "    print(\"La contraseña se ha elegido correctamente.\")\n",
        "    contrasena = c\n",
        "    eligiendo = False\n",
        "  else:\n",
        "    if not longitud:\n",
        "      print(\"La contraseña ha de tener entre 8 y 15 caracteres.\")\n",
        "    elif not mayuscula:\n",
        "      print(\"La contraseña debe tener al menos una mayúscula.\")\n",
        "    elif not minuscula:\n",
        "      print(\"La contraseña debe tener al menos una minúscula.\")\n",
        "    elif not numero:\n",
        "      print(\"La contraseña debe tener al menos un dígito numérico.\")\n",
        "    elif not especial:\n",
        "      print(\"La contraseña debe tener al menos un caracter especial @$%&\")\n",
        "  if intentos >= 5:\n",
        "    eligiendo = False\n",
        "if contrasena:\n",
        "  print(f\"Su contraseña es:  {contrasena}\")\n",
        "else:\n",
        "  print(\"No se ha podido establecer la contraseña.\")  "
      ],
      "execution_count": 42,
      "outputs": [
        {
          "output_type": "stream",
          "name": "stdout",
          "text": [
            "Escriba su contraseña elegida: espann1@\n",
            "La contraseña debe tener al menos una mayúscula.\n",
            "Escriba su contraseña elegida: Espanna@@\n",
            "La contraseña debe tener al menos un dígito numérico.\n",
            "Escriba su contraseña elegida: Espana14\n",
            "La contraseña debe tener al menos un caracter especial @$%&\n",
            "Escriba su contraseña elegida: Espanna88@\n",
            "La contraseña se ha elegido correctamente.\n",
            "Su contraseña es Espanna88@.\n"
          ]
        }
      ]
    },
    {
      "cell_type": "markdown",
      "metadata": {
        "id": "q5q3JPQeWcOw"
      },
      "source": [
        "#### Solución 2"
      ]
    },
    {
      "cell_type": "code",
      "metadata": {
        "id": "RnFzaS5Z4JJS",
        "colab": {
          "base_uri": "https://localhost:8080/"
        },
        "outputId": "3596df32-71cf-4a6c-9ae5-4a253bb16852"
      },
      "source": [
        "print(\"PROGRAMA PARA ESTABLECER SU CONTRASEÑA\")\n",
        "especiales = '@$%&'\n",
        "for intento in range(5):\n",
        "  c = input(\"Indique la contraseña elegida: \")\n",
        "  if not(8<=len(c)<=15):\n",
        "    print(\"La longitud debe estar entre 8 y 15 caracteres\")\n",
        "  else:\n",
        "    if not(any(elem in especiales for elem in c)):\n",
        "      print(\"Debe contener un caracter especial @$%&\")\n",
        "    else:\n",
        "      if c.islower():\n",
        "        print(\"Debe haber al menos una letra mayúscula.\")\n",
        "      else:\n",
        "        if c.isupper():\n",
        "          print(\"Debe haber al menos una letra minúscula.\")\n",
        "        else:\n",
        "          if c.isnumeric():\n",
        "            print(\"Debe haber al menos un dígito numérico.\")\n",
        "          else:\n",
        "            print(\"Contraseña válida.\")\n",
        "            break\n",
        "print(\"Fin del programa.\")"
      ],
      "execution_count": 25,
      "outputs": [
        {
          "output_type": "stream",
          "name": "stdout",
          "text": [
            "PROGRAMA PARA ESTABLECER SU CONTRASEÑA\n",
            "Indique la contraseña elegida: Espanna88\n",
            "Debe contener un caracter especial @$%&\n",
            "Indique la contraseña elegida: espanna88$\n",
            "Debe haber al menos una letra mayúscula.\n",
            "Indique la contraseña elegida: ESPANNA88$\n",
            "Debe haber al menos una letra minúscula.\n",
            "Indique la contraseña elegida: eS9$\n",
            "La longitud debe estar entre 8 y 15 caracteres\n",
            "Indique la contraseña elegida: eSPAnna888888888888888888$\n",
            "La longitud debe estar entre 8 y 15 caracteres\n",
            "Fin del programa.\n"
          ]
        }
      ]
    },
    {
      "cell_type": "markdown",
      "metadata": {
        "id": "7bDZzs4LsNgS"
      },
      "source": [
        "# Diccionarios\n",
        "Se escriben entre llaves y tiene la estructura:\n",
        "* clave : valor\n",
        "\n",
        "Es una estructura de datos no ordenada."
      ]
    },
    {
      "cell_type": "code",
      "metadata": {
        "colab": {
          "base_uri": "https://localhost:8080/"
        },
        "id": "BN_Kf-zkqa7a",
        "outputId": "7fbbd6ba-3aa3-46ed-e22b-0178ea0dba7d"
      },
      "source": [
        "dic = {'Cantón':46.7, 'Tokyo':40, 'Shanghái':33.6, 'Yakarta':31.6, 'Delhi':30.3, 'Manila':25.7, 'Bombay':25.1, 'Seúl':24.9, 'Ciudad de México':24.8, 'São Paulo':22.7, 'Nueva York':22.1}\n",
        "dic   # al imprimir el diccionario el orden puede no se el mismo en el que se creó."
      ],
      "execution_count": 49,
      "outputs": [
        {
          "output_type": "execute_result",
          "data": {
            "text/plain": [
              "{'Bombay': 25.1,\n",
              " 'Cantón': 46.7,\n",
              " 'Ciudad de México': 24.8,\n",
              " 'Delhi': 30.3,\n",
              " 'Manila': 25.7,\n",
              " 'Nueva York': 22.1,\n",
              " 'Seúl': 24.9,\n",
              " 'Shanghái': 33.6,\n",
              " 'São Paulo': 22.7,\n",
              " 'Tokyo': 40,\n",
              " 'Yakarta': 31.6}"
            ]
          },
          "metadata": {},
          "execution_count": 49
        }
      ]
    },
    {
      "cell_type": "code",
      "metadata": {
        "colab": {
          "base_uri": "https://localhost:8080/"
        },
        "id": "x1uxsTCIsqrG",
        "outputId": "cd38d357-b3de-4a1e-9cf6-d5baf6ff816d"
      },
      "source": [
        "for k,v in dic.items():\n",
        "  print(f\"La ciudad de {k:16} tenia {v:.1f} millones de habitantes en 2021.\")"
      ],
      "execution_count": 57,
      "outputs": [
        {
          "output_type": "stream",
          "name": "stdout",
          "text": [
            "La ciudad de Cantón           tenia 46.7 millones de habitantes en 2021.\n",
            "La ciudad de Tokyo            tenia 40.0 millones de habitantes en 2021.\n",
            "La ciudad de Shanghái         tenia 33.6 millones de habitantes en 2021.\n",
            "La ciudad de Yakarta          tenia 31.6 millones de habitantes en 2021.\n",
            "La ciudad de Delhi            tenia 30.3 millones de habitantes en 2021.\n",
            "La ciudad de Manila           tenia 25.7 millones de habitantes en 2021.\n",
            "La ciudad de Bombay           tenia 25.1 millones de habitantes en 2021.\n",
            "La ciudad de Seúl             tenia 24.9 millones de habitantes en 2021.\n",
            "La ciudad de Ciudad de México tenia 24.8 millones de habitantes en 2021.\n",
            "La ciudad de São Paulo        tenia 22.7 millones de habitantes en 2021.\n",
            "La ciudad de Nueva York       tenia 22.1 millones de habitantes en 2021.\n"
          ]
        }
      ]
    },
    {
      "cell_type": "markdown",
      "metadata": {
        "id": "Kg212Ficu9a-"
      },
      "source": [
        "### Programa que busca la palabra más larga\n",
        "* Dada una lista de palabras encontrar la palabra más larga.\n",
        "* En caso de empate se proporciona la primera de las palabras encontrada en la lista y que sea de longitud máxima."
      ]
    },
    {
      "cell_type": "markdown",
      "metadata": {
        "id": "3AcX96358Ci1"
      },
      "source": [
        "#### Solución 1"
      ]
    },
    {
      "cell_type": "code",
      "metadata": {
        "colab": {
          "base_uri": "https://localhost:8080/"
        },
        "id": "l6pYKyhB8JM_",
        "outputId": "348a102c-d31d-4200-defe-884856e00838"
      },
      "source": [
        "palabras = [\"rojo\", \"amarillo\", \"verde\", \"magenta\", \"naranja\", \"añil\", \"amatista\", \"turquesa\"]\n",
        "maxima = 0\n",
        "palabra_mas_larga = None\n",
        "for palabra in palabras:\n",
        "  if len(palabra) > maxima:         # poniendo > nos da la 1ª palabra más larga, si hubieramos puesto >= daría la última\n",
        "    maxima = len(palabra)\n",
        "    palabra_mas_larga = palabra     # guardamos en una variable la palabra que de momento va siendo la más larga\n",
        "print(f\"La mayor longitud es de {maxima} caracteres que la tiene la palabra {palabra_mas_larga}.\")"
      ],
      "execution_count": 87,
      "outputs": [
        {
          "output_type": "stream",
          "name": "stdout",
          "text": [
            "La mayor longitud es de 8 caracteres que la tiene la palabra amarillo.\n"
          ]
        }
      ]
    },
    {
      "cell_type": "markdown",
      "metadata": {
        "id": "xgA9XO5i8FMl"
      },
      "source": [
        "#### Solución 2\n",
        "* Esta solución es menos eficiente ya que utiliza dos bucles for.  \n",
        "* El primer bucle busca la longitud máxima.  \n",
        "* El segundo bucle busca la primera palabra con longitud máxima.\n",
        "* En el momento en el que se encuentra se sale del bucle con un ```break```."
      ]
    },
    {
      "cell_type": "code",
      "metadata": {
        "colab": {
          "base_uri": "https://localhost:8080/"
        },
        "id": "rsGGUXMMvS6y",
        "outputId": "e9804bd3-0f70-49de-c9df-3acf9689895f"
      },
      "source": [
        "palabras = [\"rojo\", \"amarillo\", \"verde\", \"magenta\", \"naranja\", \"añil\", \"amatista\", \"turquesa\"]\n",
        "maxima = 0\n",
        "for palabra in palabras:\n",
        "  if len(palabra) > maxima:\n",
        "    maxima = len(palabra)\n",
        "print(f\"La máxima longitud es de {maxima} caracteres.\")\n",
        "for palabra in palabras:\n",
        "  if len(palabra) == maxima:\n",
        "    print(f\"La palabra más larga es {palabra}.\")\n",
        "    break"
      ],
      "execution_count": 60,
      "outputs": [
        {
          "output_type": "stream",
          "name": "stdout",
          "text": [
            "La máxima longitud es de 8 caracteres.\n",
            "La palabra más larga es amarillo.\n"
          ]
        }
      ]
    },
    {
      "cell_type": "markdown",
      "metadata": {
        "id": "1X-hneb8CK8z"
      },
      "source": [
        "## El método ```find``` para cadenas\n",
        "Permite encontrar caracteres dentro de una cadena alfanumérica.\n",
        "* Si el caracter existe devuelve un número con el índice que ocupa ese caracter. \n",
        "* Si no existe devuelve -1\n",
        "* Si el caracter está repetido da el primero"
      ]
    },
    {
      "cell_type": "code",
      "metadata": {
        "colab": {
          "base_uri": "https://localhost:8080/"
        },
        "id": "sJ0iLri5CqAw",
        "outputId": "13625795-f145-447b-a010-3f0596e2bc70"
      },
      "source": [
        "palabra = \"zanahoria\"\n",
        "indice_h = palabra.find(\"h\")\n",
        "indice_h"
      ],
      "execution_count": 99,
      "outputs": [
        {
          "output_type": "execute_result",
          "data": {
            "text/plain": [
              "4"
            ]
          },
          "metadata": {},
          "execution_count": 99
        }
      ]
    },
    {
      "cell_type": "code",
      "metadata": {
        "colab": {
          "base_uri": "https://localhost:8080/"
        },
        "id": "hWMIQ9ltDHQq",
        "outputId": "d532fa1b-ae9e-46f0-cf57-176432283b02"
      },
      "source": [
        "palabra = \"zanahoria\"\n",
        "indice_p = palabra.find(\"p\")\n",
        "indice_p"
      ],
      "execution_count": 100,
      "outputs": [
        {
          "output_type": "execute_result",
          "data": {
            "text/plain": [
              "-1"
            ]
          },
          "metadata": {},
          "execution_count": 100
        }
      ]
    },
    {
      "cell_type": "markdown",
      "metadata": {
        "id": "NSNBGYOcsg8s"
      },
      "source": [
        "### El método ```find``` para subcadenas"
      ]
    },
    {
      "cell_type": "code",
      "metadata": {
        "colab": {
          "base_uri": "https://localhost:8080/"
        },
        "id": "3SqunUWHsoDi",
        "outputId": "4210aefd-0b4e-4ae4-953a-de9da26dcd13"
      },
      "source": [
        "palabra = \"zanahoria\"\n",
        "caracter = 'a'\n",
        "palabra.find(caracter, 4)     # devuelve 8 ya que comienza a buscar por el caracter de índice 4"
      ],
      "execution_count": 33,
      "outputs": [
        {
          "output_type": "execute_result",
          "data": {
            "text/plain": [
              "8"
            ]
          },
          "metadata": {},
          "execution_count": 33
        }
      ]
    },
    {
      "cell_type": "code",
      "metadata": {
        "colab": {
          "base_uri": "https://localhost:8080/"
        },
        "id": "CpHpOerVs8Mo",
        "outputId": "19966ee9-b64f-497d-afab-6422908ef43f"
      },
      "source": [
        "palabra = \"zanahoria\"\n",
        "caracter = 'a'\n",
        "palabra.find(caracter, 5, 7)  # devuelve -1 ya que no se encuentra el caracter en la subcadena que empieza en 5 y termina en 7"
      ],
      "execution_count": 34,
      "outputs": [
        {
          "output_type": "execute_result",
          "data": {
            "text/plain": [
              "-1"
            ]
          },
          "metadata": {},
          "execution_count": 34
        }
      ]
    },
    {
      "cell_type": "markdown",
      "metadata": {
        "id": "xM3vu9emDJyU"
      },
      "source": [
        "## El método ```index``` para cadenas\n",
        "Proporciona el índice que ocupa un caracter dentro de una cadena alfanumérica.\n",
        "* Si el caracter existe devuelve un número con el índice que ocupa ese caracter.\n",
        "* Si no existe daría error.\n",
        "* Si el caracter está repetido da el primero"
      ]
    },
    {
      "cell_type": "code",
      "metadata": {
        "colab": {
          "base_uri": "https://localhost:8080/"
        },
        "id": "WZZneYe8DtPC",
        "outputId": "85713db3-4e59-427d-bfdd-d4a38138a332"
      },
      "source": [
        "palabra = \"zanahoria\"\n",
        "indice_h = palabra.index(\"h\")\n",
        "indice_h"
      ],
      "execution_count": 101,
      "outputs": [
        {
          "output_type": "execute_result",
          "data": {
            "text/plain": [
              "4"
            ]
          },
          "metadata": {},
          "execution_count": 101
        }
      ]
    },
    {
      "cell_type": "code",
      "metadata": {
        "colab": {
          "base_uri": "https://localhost:8080/"
        },
        "id": "NafG8WU5D09a",
        "outputId": "d3984a4e-1d40-4153-cc8a-321b527c15be"
      },
      "source": [
        "palabra = \"zanahoria\"\n",
        "caracter = 'p'\n",
        "if caracter in palabra:              # comprobando si existe el caracter evitamos el error cuando no existe\n",
        "  indice = palabra.index(caracter)\n",
        "  print(f\"El caracter {caracter} ocupa el índice {indice} en la palabra {palabra}.\")\n",
        "else:\n",
        "  print(f\"El caracter {caracter} no existe en la palabra {palabra}.\")"
      ],
      "execution_count": 106,
      "outputs": [
        {
          "output_type": "stream",
          "name": "stdout",
          "text": [
            "El caracter h ocupa el índice 4 en la palabra zanahoria.\n"
          ]
        }
      ]
    },
    {
      "cell_type": "markdown",
      "metadata": {
        "id": "LXDqPZCBFCyT"
      },
      "source": [
        "## El método ```index``` para listas\n",
        "Proporciona el índice que ocupa un caracter dentro de una cadena alfanumérica.\n",
        "* Si el elemento existe devuelve un número con el índice que ocupa ese caracter.\n",
        "* Si no existe daría error.\n",
        "* Si el caracter está repetido da el primero"
      ]
    },
    {
      "cell_type": "code",
      "metadata": {
        "colab": {
          "base_uri": "https://localhost:8080/"
        },
        "id": "LOmGsFhkFqQi",
        "outputId": "810c0edf-8022-4bd5-9aaa-7904444bd0a8"
      },
      "source": [
        "palabra = \"zanahoria\"\n",
        "lista = list(palabra)\n",
        "print(lista)\n",
        "caracter = 'j'\n",
        "if caracter in lista:              # comprobando si existe el caracter evitamos el error cuando no existe\n",
        "  indice = lista.index(caracter)\n",
        "  print(f\"El caracter {caracter} ocupa el índice {indice} en la palabra {palabra}.\")\n",
        "else:\n",
        "  print(f\"El caracter {caracter} no existe en la palabra {palabra}.\")"
      ],
      "execution_count": 110,
      "outputs": [
        {
          "output_type": "stream",
          "name": "stdout",
          "text": [
            "['z', 'a', 'n', 'a', 'h', 'o', 'r', 'i', 'a']\n",
            "El caracter j no existe en la palabra zanahoria.\n"
          ]
        }
      ]
    },
    {
      "cell_type": "markdown",
      "metadata": {
        "id": "ogie_Jg-g6fp"
      },
      "source": [
        "### El método ```index``` para sublistas\n",
        "Podemos buscar con ```index``` no en toda la lista sino en una sublista."
      ]
    },
    {
      "cell_type": "markdown",
      "metadata": {
        "id": "ykWnGxOeqrb1"
      },
      "source": [
        "#### El método ```index``` con dos argumentos"
      ]
    },
    {
      "cell_type": "code",
      "metadata": {
        "colab": {
          "base_uri": "https://localhost:8080/"
        },
        "id": "3AYe3LNooc2K",
        "outputId": "d84ef695-cc0d-497a-aa85-3b60d2564e43"
      },
      "source": [
        "palabra = \"aguamarina\"\n",
        "lista = list(palabra)               # convertimos la palabra en una lista de caracteres\n",
        "print(lista)\n",
        "caracter = 'a'\n",
        "if caracter in lista[4:]:           # lista[4:] es una sublista desde el índice 4 hasta el final\n",
        "  print(lista.index(caracter,4))    # el 2º argumento de index indica a partir de qué índice se quiere buscar\n",
        "                                    # devuelve un 5 que es el índice donde está la tercera 'a'"
      ],
      "execution_count": 30,
      "outputs": [
        {
          "output_type": "stream",
          "name": "stdout",
          "text": [
            "['a', 'g', 'u', 'a', 'm', 'a', 'r', 'i', 'n', 'a']\n",
            "5\n"
          ]
        }
      ]
    },
    {
      "cell_type": "markdown",
      "metadata": {
        "id": "0v9W9qjfq0Hb"
      },
      "source": [
        "#### El método ```index``` con tres argumentos"
      ]
    },
    {
      "cell_type": "code",
      "metadata": {
        "colab": {
          "base_uri": "https://localhost:8080/"
        },
        "id": "w4poCgnRrEzh",
        "outputId": "acd8a31c-39b2-4552-bb58-f9643a3be396"
      },
      "source": [
        "palabra = \"aguamarina\"\n",
        "lista = list(palabra)               # convertimos la palabra en una lista de caracteres\n",
        "print(lista)\n",
        "caracter = 'n'\n",
        "if caracter in lista[2:7]:          # lista[2:7] es una sublista desde el índice 2 hasta el 7\n",
        "  print(lista.index(caracter,2,7))  # index usa tres argumentos: caracter a buscar, índice de inicio e índice de final de la búsqueda\n",
        "else:\n",
        "  print(f\"El caracter {caracter} no está en la sublista {lista[2:7]}\")"
      ],
      "execution_count": 32,
      "outputs": [
        {
          "output_type": "stream",
          "name": "stdout",
          "text": [
            "['a', 'g', 'u', 'a', 'm', 'a', 'r', 'i', 'n', 'a']\n",
            "El caracter n no está en la sublista ['u', 'a', 'm', 'a', 'r']\n"
          ]
        }
      ]
    },
    {
      "cell_type": "markdown",
      "metadata": {
        "id": "8GQ9RtUan0_6"
      },
      "source": [
        "### Buscar que índices ocupa un caracter en una palabra"
      ]
    },
    {
      "cell_type": "markdown",
      "metadata": {
        "id": "nlnb8Oxqn-BA"
      },
      "source": [
        "#### Solución 1"
      ]
    },
    {
      "cell_type": "code",
      "metadata": {
        "colab": {
          "base_uri": "https://localhost:8080/"
        },
        "id": "q8rgTRc0hPR4",
        "outputId": "05de7ce5-bb99-49ec-a580-18aba6acf9b7"
      },
      "source": [
        "palabra = \"aguamarina\"      # tiene cuatro letras a\n",
        "lista = list(palabra)\n",
        "caracter = 'a'\n",
        "for i in range(len(lista)):\n",
        "  print(lista[i:])\n",
        "for i in range(len(lista)):\n",
        "  sublista = lista[i:]\n",
        "  if sublista[0] == caracter:\n",
        "    print(f\"El caracter {caracter} ocupa el índice {i} en la palabra {palabra}.\")"
      ],
      "execution_count": 4,
      "outputs": [
        {
          "output_type": "stream",
          "name": "stdout",
          "text": [
            "['a', 'g', 'u', 'a', 'm', 'a', 'r', 'i', 'n', 'a']\n",
            "['g', 'u', 'a', 'm', 'a', 'r', 'i', 'n', 'a']\n",
            "['u', 'a', 'm', 'a', 'r', 'i', 'n', 'a']\n",
            "['a', 'm', 'a', 'r', 'i', 'n', 'a']\n",
            "['m', 'a', 'r', 'i', 'n', 'a']\n",
            "['a', 'r', 'i', 'n', 'a']\n",
            "['r', 'i', 'n', 'a']\n",
            "['i', 'n', 'a']\n",
            "['n', 'a']\n",
            "['a']\n",
            "El caracter a ocupa el índice 0 en la palabra aguamarina.\n",
            "El caracter a ocupa el índice 3 en la palabra aguamarina.\n",
            "El caracter a ocupa el índice 5 en la palabra aguamarina.\n",
            "El caracter a ocupa el índice 9 en la palabra aguamarina.\n"
          ]
        }
      ]
    },
    {
      "cell_type": "markdown",
      "metadata": {
        "id": "bQEonbaroCoe"
      },
      "source": [
        "#### Solución 2"
      ]
    },
    {
      "cell_type": "code",
      "metadata": {
        "colab": {
          "base_uri": "https://localhost:8080/"
        },
        "id": "MNP8Tzgljjju",
        "outputId": "490f99ff-219a-4332-b853-13fbdc7480e3"
      },
      "source": [
        "palabra = \"aguamarina\"\n",
        "lista = list(palabra)\n",
        "caracter = 'a'\n",
        "for i in range(len(lista)):\n",
        "  #if caracter in lista[i:]:\n",
        "  if lista[i]==caracter:\n",
        "    print(f\"El caracter {caracter} ocupa el índice {lista.index(caracter,i)} en la palabra {palabra}.\")"
      ],
      "execution_count": 12,
      "outputs": [
        {
          "output_type": "stream",
          "name": "stdout",
          "text": [
            "El caracter a ocupa el índice 0 en la palabra aguamarina.\n",
            "El caracter a ocupa el índice 3 en la palabra aguamarina.\n",
            "El caracter a ocupa el índice 5 en la palabra aguamarina.\n",
            "El caracter a ocupa el índice 9 en la palabra aguamarina.\n"
          ]
        }
      ]
    },
    {
      "cell_type": "markdown",
      "metadata": {
        "id": "9L46ex2UoEVh"
      },
      "source": [
        "#### Solución 3"
      ]
    },
    {
      "cell_type": "code",
      "metadata": {
        "colab": {
          "base_uri": "https://localhost:8080/"
        },
        "id": "slaUu4xtlncd",
        "outputId": "b14f3b5c-aa3c-4d50-d6c9-1a848b43c128"
      },
      "source": [
        "palabra = \"aguamarina\"\n",
        "lista = list(palabra)\n",
        "caracter = 'a'\n",
        "indice = None\n",
        "for i in range(len(lista)):\n",
        "  if caracter in lista[i:]:\n",
        "    if indice != lista.index(caracter,i):\n",
        "      indice = lista.index(caracter,i)           # el segundo argumento de index indica a partir de dónde comenzar a buscar\n",
        "      print(f\"El caracter {caracter} ocupa el índice {indice} en la palabra {palabra}.\")"
      ],
      "execution_count": 26,
      "outputs": [
        {
          "output_type": "stream",
          "name": "stdout",
          "text": [
            "El caracter a ocupa el índice 0 en la palabra aguamarina.\n",
            "El caracter a ocupa el índice 3 en la palabra aguamarina.\n",
            "El caracter a ocupa el índice 5 en la palabra aguamarina.\n",
            "El caracter a ocupa el índice 9 en la palabra aguamarina.\n"
          ]
        }
      ]
    },
    {
      "cell_type": "markdown",
      "metadata": {
        "id": "lWKXJYvMGZAY"
      },
      "source": [
        "No existe el método find para listas.\n",
        "\n",
        "Podemos saber los métodos que existen para cada tipo con ```dir```\n",
        "* ```dir(str)```\n",
        "* ```dir(list)```"
      ]
    },
    {
      "cell_type": "markdown",
      "metadata": {
        "id": "WhZRm1zH1ICg"
      },
      "source": [
        "### Programa que busca las palabras más largas\n",
        "* Dada una lista de palabras encontrar la palabra más larga.\n",
        "* En caso de empate se muestran todas las palabras encontrada en la lista y que sean de longitud máxima."
      ]
    },
    {
      "cell_type": "markdown",
      "metadata": {
        "id": "jnEvwq5V7Xwj"
      },
      "source": [
        "#### Solución 1"
      ]
    },
    {
      "cell_type": "code",
      "metadata": {
        "colab": {
          "base_uri": "https://localhost:8080/"
        },
        "id": "uAB1MjKm1TXk",
        "outputId": "ed6d9cf1-b7c5-468b-dd69-52aed3f92df4"
      },
      "source": [
        "palabras = [\"rojo\", \"amarillo\", \"verde\", \"magenta\", \"naranja\", \"añil\", \"amatista\", \"turquesa\"]\n",
        "palabras = [\"rojo\", \"amarillo\", \"verde\", \"magenta\", \"naranja\", \"añil\", \"amatista\", \"turquesa\", \"esmeralda\"]\n",
        "maxima = 0\n",
        "lista = []                       # lista de las palabras más largas\n",
        "for palabra in palabras:\n",
        "  if len(palabra) > maxima:\n",
        "    maxima = len(palabra)\n",
        "    lista = [palabra]             # se resetea la lista cuando encontramos un nuevo valor para la variable maxima\n",
        "  elif len(palabra) == maxima:\n",
        "    lista.append(palabra)\n",
        "print(f\"La máxima longitud es de {maxima} caracteres.\")\n",
        "if len(lista)==1:\n",
        "  print(f\"Solo existe una palabra de longitud máxima que es {lista[0]}.\")\n",
        "else:\n",
        "  print(f\"Existen varias palabras de longitud máxima que son: {lista}.\")"
      ],
      "execution_count": 89,
      "outputs": [
        {
          "output_type": "stream",
          "name": "stdout",
          "text": [
            "La máxima longitud es de 9 caracteres.\n",
            "Solo existe una palabra de longitud máxima que es esmeralda.\n"
          ]
        }
      ]
    },
    {
      "cell_type": "markdown",
      "metadata": {
        "id": "OvgioMkN7buZ"
      },
      "source": [
        "#### Solución 2"
      ]
    },
    {
      "cell_type": "code",
      "metadata": {
        "colab": {
          "base_uri": "https://localhost:8080/"
        },
        "id": "jFDFguew3ZoW",
        "outputId": "deb39120-c6f9-4d09-d407-9cc3ebbdf7af"
      },
      "source": [
        "palabras = [\"rojo\", \"amarillo\", \"verde\", \"magenta\", \"naranja\", \"añil\", \"amatista\", \"turquesa\"]\n",
        "#palabras = [\"rojo\", \"amarillo\", \"verde\", \"magenta\", \"naranja\", \"añil\", \"amatista\", \"turquesa\", \"esmeralda\"]\n",
        "largo = []   # creamos una lista que contendrá la longitud de todas las palabras en el mismo orden\n",
        "for palabra in palabras:\n",
        "  largo.append(len(palabra))\n",
        "print(\"largo =\", largo)         # longitudes de todas las palabras\n",
        "maxima = max(largo)\n",
        "print(f\"La longitud máxima es de {maxima} caracteres.\")\n",
        "if largo.count(maxima)==1:       # contamos cuantas veces aparece el nº con la máxima longitud en la lista largo, por ejemplo, cuantos 8 hay\n",
        "  print(f\"Solo existe una palabra de {maxima} caractereres que es {palabras[largo.index(maxima)]}.\")\n",
        "else:\n",
        "  print(f\"Existen {largo.count(maxima)} palabras de {maxima} caracteres que son:\")\n",
        "  for palabra in palabras:\n",
        "    if len(palabra) == maxima:\n",
        "      print(f\"\\t- {palabra}\") "
      ],
      "execution_count": 96,
      "outputs": [
        {
          "output_type": "stream",
          "name": "stdout",
          "text": [
            "largo = [4, 8, 5, 7, 7, 4, 8, 8]\n",
            "La longitud máxima es de 8 caracteres.\n",
            "Existen 3 palabras de 8 caracteres que son:\n",
            "\t- amarillo\n",
            "\t- amatista\n",
            "\t- turquesa\n"
          ]
        }
      ]
    },
    {
      "cell_type": "markdown",
      "metadata": {
        "id": "NN1Nn4KauReD"
      },
      "source": [
        "# Asignación múltiple y desempaquetado\n",
        "Con la asignación múltiple podemos asignar valores a varias variables en una sola línea de código.  \n",
        "En realidad lo que se produce es un desempaquetado de tuplas.\n"
      ]
    },
    {
      "cell_type": "code",
      "metadata": {
        "colab": {
          "base_uri": "https://localhost:8080/"
        },
        "id": "uPrXo4X6ujnC",
        "outputId": "0d96be23-6263-451f-c800-df1c3dc1f870"
      },
      "source": [
        "a, b = 1, 2         # asignación múltiple\n",
        "print('a =', a)\n",
        "print('b =', b)"
      ],
      "execution_count": 38,
      "outputs": [
        {
          "output_type": "stream",
          "name": "stdout",
          "text": [
            "a = 1\n",
            "b = 2\n"
          ]
        }
      ]
    },
    {
      "cell_type": "markdown",
      "metadata": {
        "id": "rUvcc4pxvGzz"
      },
      "source": [
        "Para crear una tupla no es necesario usar paréntesis."
      ]
    },
    {
      "cell_type": "code",
      "metadata": {
        "colab": {
          "base_uri": "https://localhost:8080/"
        },
        "id": "DvXslk7qvKy9",
        "outputId": "79774729-e67c-42f4-ba6a-50413adcd5dd"
      },
      "source": [
        "a = 1, 2        # estamos creando una tupla y no es necesario usar paréntesis\n",
        "a"
      ],
      "execution_count": 39,
      "outputs": [
        {
          "output_type": "execute_result",
          "data": {
            "text/plain": [
              "(1, 2)"
            ]
          },
          "metadata": {},
          "execution_count": 39
        }
      ]
    },
    {
      "cell_type": "markdown",
      "metadata": {
        "id": "hDenZg_tvZ6f"
      },
      "source": [
        "### Asignación múltiple de tuplas\n",
        "Si asignamos a una tupla de variables a una tupla de números se asigna cada valor a su variable.\n",
        "\n",
        "* Da igual usar paréntesis o no.\n",
        "* Los cuatro siguientes casos son equivalentes, hacen lo mismo."
      ]
    },
    {
      "cell_type": "markdown",
      "metadata": {
        "id": "bRNJ4BZtwEi9"
      },
      "source": [
        "#### Caso 1. Todo con paréntesis"
      ]
    },
    {
      "cell_type": "code",
      "metadata": {
        "colab": {
          "base_uri": "https://localhost:8080/"
        },
        "id": "lV_-Eixkvhwz",
        "outputId": "95786d03-8eb2-4be7-ad50-d50e9f5f30d6"
      },
      "source": [
        "(a, b) = (1, 2)\n",
        "print('a =', a)\n",
        "print('b =', b)"
      ],
      "execution_count": 40,
      "outputs": [
        {
          "output_type": "stream",
          "name": "stdout",
          "text": [
            "a = 1\n",
            "b = 2\n"
          ]
        }
      ]
    },
    {
      "cell_type": "markdown",
      "metadata": {
        "id": "uBfwDPQEwKcN"
      },
      "source": [
        "#### Caso 2. Paréntesis solo en las variables"
      ]
    },
    {
      "cell_type": "code",
      "metadata": {
        "colab": {
          "base_uri": "https://localhost:8080/"
        },
        "id": "YgWfbslmwMVd",
        "outputId": "d87b7beb-83c1-4a18-8ba1-3ace7dad5f02"
      },
      "source": [
        "(a, b) = 1, 2\n",
        "print('a =', a)\n",
        "print('b =', b)"
      ],
      "execution_count": 41,
      "outputs": [
        {
          "output_type": "stream",
          "name": "stdout",
          "text": [
            "a = 1\n",
            "b = 2\n"
          ]
        }
      ]
    },
    {
      "cell_type": "markdown",
      "metadata": {
        "id": "3DciEYyswa3I"
      },
      "source": [
        "#### Caso 3. Paréntesis solo en los números"
      ]
    },
    {
      "cell_type": "code",
      "metadata": {
        "colab": {
          "base_uri": "https://localhost:8080/"
        },
        "id": "m_Lkzkeuwh6b",
        "outputId": "c90b68f0-084f-45c3-f64b-a7d2790058ef"
      },
      "source": [
        "a, b = (1, 2)\n",
        "print('a =', a)\n",
        "print('b =', b)"
      ],
      "execution_count": 42,
      "outputs": [
        {
          "output_type": "stream",
          "name": "stdout",
          "text": [
            "a = 1\n",
            "b = 2\n"
          ]
        }
      ]
    },
    {
      "cell_type": "markdown",
      "metadata": {
        "id": "tXFShz5dw3VO"
      },
      "source": [
        "#### Caso 4. Nadie lleva paréntesis\n",
        "este es el caso de asignación múltiple que ya vimos."
      ]
    },
    {
      "cell_type": "code",
      "metadata": {
        "colab": {
          "base_uri": "https://localhost:8080/"
        },
        "id": "8UB4BR-aw7x6",
        "outputId": "97612522-09f8-4f37-db91-11d21dcce86a"
      },
      "source": [
        "a, b = 1, 2         # asignación múltiple\n",
        "print('a =', a)\n",
        "print('b =', b)"
      ],
      "execution_count": 43,
      "outputs": [
        {
          "output_type": "stream",
          "name": "stdout",
          "text": [
            "a = 1\n",
            "b = 2\n"
          ]
        }
      ]
    },
    {
      "cell_type": "markdown",
      "metadata": {
        "id": "MlndFeE4xbXr"
      },
      "source": [
        "## Desempaquetado de listas\n",
        "Con listas funciona de forma análoga."
      ]
    },
    {
      "cell_type": "markdown",
      "metadata": {
        "id": "uElYdBh0x7tG"
      },
      "source": [
        "#### Caso 1. Todo con paréntesis"
      ]
    },
    {
      "cell_type": "code",
      "metadata": {
        "colab": {
          "base_uri": "https://localhost:8080/"
        },
        "id": "BwTlqtGyxhVV",
        "outputId": "9b6608e5-0a0d-447e-c8e2-c85bac0e9131"
      },
      "source": [
        "[x, y] = [10, 20]         # asignación múltiple usando listas\n",
        "print('x =', x)\n",
        "print('y =', y)\n",
        "print('[x,y] =', [x,y])"
      ],
      "execution_count": 48,
      "outputs": [
        {
          "output_type": "stream",
          "name": "stdout",
          "text": [
            "x = 10\n",
            "y = 20\n",
            "[x,y] = [10, 20]\n"
          ]
        }
      ]
    },
    {
      "cell_type": "markdown",
      "metadata": {
        "id": "tQKwvQhWyBAC"
      },
      "source": [
        "#### Caso 2. Sin paréntesis\n",
        "En este caso estamos asignando una lista [x, y] a una tupla 10, 20 sin paréntesis."
      ]
    },
    {
      "cell_type": "code",
      "metadata": {
        "colab": {
          "base_uri": "https://localhost:8080/"
        },
        "id": "QOPN8qy9yHAg",
        "outputId": "8eca487c-046c-464b-c2bc-5279dd1fd482"
      },
      "source": [
        "[x, y] = 10, 20\n",
        "print('x =', x)\n",
        "print('y =', y)"
      ],
      "execution_count": 49,
      "outputs": [
        {
          "output_type": "stream",
          "name": "stdout",
          "text": [
            "x = 10\n",
            "y = 20\n"
          ]
        }
      ]
    },
    {
      "cell_type": "markdown",
      "metadata": {
        "id": "mdUo6P0uy7I4"
      },
      "source": [
        "* Para que el desempaquetado funcione es necesario que el número de variables y datos sea el mismo.  \n",
        "* En caso contrario se producirá un error.\n",
        "* Salvo que se use el operador de desempaquetado que es el asterisco **\\***"
      ]
    },
    {
      "cell_type": "code",
      "metadata": {
        "id": "pk9UBWBTzGIf"
      },
      "source": [
        "# a,b,c = 1,2       # error\n",
        "# a,b = 1,2,3       # error"
      ],
      "execution_count": null,
      "outputs": []
    },
    {
      "cell_type": "markdown",
      "metadata": {
        "id": "7J1OBEV9zgsG"
      },
      "source": [
        "## El operador de desempaquetado es el asterisco **\\***"
      ]
    },
    {
      "cell_type": "markdown",
      "metadata": {
        "id": "b3Z0n_Vx0S3E"
      },
      "source": [
        "#### Ejemplo 1"
      ]
    },
    {
      "cell_type": "code",
      "metadata": {
        "colab": {
          "base_uri": "https://localhost:8080/"
        },
        "id": "kLlxeaoYzoMl",
        "outputId": "f182e299-0aeb-4310-b41d-9f1430578db0"
      },
      "source": [
        "a, b, *r = 1,2,3,4,5,6,7,8   # la variable r (resto) gracias al asterisco que lleva recoge el resto de datos\n",
        "print('a =', a)\n",
        "print('b =', b)\n",
        "print('r =', r)"
      ],
      "execution_count": 50,
      "outputs": [
        {
          "output_type": "stream",
          "name": "stdout",
          "text": [
            "a = 1\n",
            "b = 2\n",
            "r = [3, 4, 5, 6, 7, 8]\n"
          ]
        }
      ]
    },
    {
      "cell_type": "markdown",
      "metadata": {
        "id": "-oeMkNnL0WTV"
      },
      "source": [
        "#### Ejemplo 2\n",
        "Usando una lista."
      ]
    },
    {
      "cell_type": "code",
      "metadata": {
        "colab": {
          "base_uri": "https://localhost:8080/"
        },
        "id": "l9C4ob2h0bnn",
        "outputId": "068cc796-afde-4f61-e048-a31c7c107003"
      },
      "source": [
        "numeros = [1,2,3,4,5,6,7,8]\n",
        "uno, dos, *resto = numeros\n",
        "print('uno =', uno)\n",
        "print('dos =', dos)\n",
        "print('resto =', resto)\n"
      ],
      "execution_count": 51,
      "outputs": [
        {
          "output_type": "stream",
          "name": "stdout",
          "text": [
            "uno = 1\n",
            "dos = 2\n",
            "resto = [3, 4, 5, 6, 7, 8]\n"
          ]
        }
      ]
    },
    {
      "cell_type": "markdown",
      "metadata": {
        "id": "rCB2jkOr08ER"
      },
      "source": [
        "### Usar el asterisco para asignar valores"
      ]
    },
    {
      "cell_type": "code",
      "metadata": {
        "colab": {
          "base_uri": "https://localhost:8080/"
        },
        "id": "tdwqIsAo1CaD",
        "outputId": "7690fa93-a19e-4cbf-c6e2-398b08b6104d"
      },
      "source": [
        "#*t = 1,2,3       # da error porque a la izquierda no tenemos una tupla\n",
        "*t, = 1,2,3       # ahora funciona bien porque si tenemos una tupla\n",
        "                  # cuando se tiene un solo valor para crear una tupla se ha de poner una coma\n",
        "t                 # la tupla asignada al ser consultada se devuelve en forma de lista"
      ],
      "execution_count": 53,
      "outputs": [
        {
          "output_type": "execute_result",
          "data": {
            "text/plain": [
              "[1, 2, 3]"
            ]
          },
          "metadata": {},
          "execution_count": 53
        }
      ]
    },
    {
      "cell_type": "markdown",
      "metadata": {
        "id": "4rOkIkDB11DX"
      },
      "source": [
        "#### No es necesario que el operador de desempaquetado **\\*** vaya en la última variable\n",
        "* Si existen varias variables para asignar valores y una de ellas lleva asterisco, primero se comienza asignando valores a las que no llevan asterisco y el resto de valores se asignan a la variable que si lleva asterisco.\n",
        "* Lo importante es que existan valores suficientes para asignar a las variables sin asterisco, y el resto, si queda algo, se asigna a la variable con asterisco."
      ]
    },
    {
      "cell_type": "markdown",
      "metadata": {
        "id": "WUVPAlD32TFI"
      },
      "source": [
        "#### Caso 1. El asterisco va en la primera variable"
      ]
    },
    {
      "cell_type": "code",
      "metadata": {
        "colab": {
          "base_uri": "https://localhost:8080/"
        },
        "id": "sZpbm03f2A9U",
        "outputId": "0dafdc93-ae08-4657-edc0-ba7329afef97"
      },
      "source": [
        "*a, b, c = 1,2,3,4,5,6,7,8\n",
        "print('a =', a)\n",
        "print('b =', b)\n",
        "print('c =', c)"
      ],
      "execution_count": 54,
      "outputs": [
        {
          "output_type": "stream",
          "name": "stdout",
          "text": [
            "a = [1, 2, 3, 4, 5, 6]\n",
            "b = 7\n",
            "c = 8\n"
          ]
        }
      ]
    },
    {
      "cell_type": "markdown",
      "metadata": {
        "id": "fXRU_DR72b2u"
      },
      "source": [
        "#### Caso 2. El asterisco va en una variable central"
      ]
    },
    {
      "cell_type": "code",
      "metadata": {
        "colab": {
          "base_uri": "https://localhost:8080/"
        },
        "id": "evG3PTGx2geO",
        "outputId": "332094e4-4c2e-43eb-dfe6-8fafd982884a"
      },
      "source": [
        "a, *b, c, d = 1,2,3,4,5,6,7,8\n",
        "print('a =', a)\n",
        "print('b =', b)\n",
        "print('c =', c)\n",
        "print('d =', d)"
      ],
      "execution_count": 55,
      "outputs": [
        {
          "output_type": "stream",
          "name": "stdout",
          "text": [
            "a = 1\n",
            "b = [2, 3, 4, 5, 6]\n",
            "c = 7\n",
            "d = 8\n"
          ]
        }
      ]
    },
    {
      "cell_type": "markdown",
      "metadata": {
        "id": "l-aHnZhB3dfE"
      },
      "source": [
        "#### Caso 3. No quedan valores para la variable con asterisco\n",
        "Pero no da error siempre que existan valores suficientes para las variables sin asterisco."
      ]
    },
    {
      "cell_type": "code",
      "metadata": {
        "colab": {
          "base_uri": "https://localhost:8080/"
        },
        "id": "g2Uz14dD3rk8",
        "outputId": "a3533904-576b-41d3-b17d-8d7753ef9f8d"
      },
      "source": [
        "a, *b, c, d = 1,2,3          # no da error\n",
        "print('a =', a)\n",
        "print('b =', b)              # lista vacía\n",
        "print('c =', c)\n",
        "print('d =', d)"
      ],
      "execution_count": 56,
      "outputs": [
        {
          "output_type": "stream",
          "name": "stdout",
          "text": [
            "a = 1\n",
            "b = []\n",
            "c = 2\n",
            "d = 3\n"
          ]
        }
      ]
    },
    {
      "cell_type": "markdown",
      "metadata": {
        "id": "y__pY5hB4Od2"
      },
      "source": [
        "### Simplificar la asignación de variables\n",
        "Disponemos de un código para asignar valores a cuatro variables tomando los datos de una lista.  \n",
        "Veamos que el método 2 mejora la forma de asignar las variables respecto al método 1."
      ]
    },
    {
      "cell_type": "markdown",
      "metadata": {
        "id": "up7NBfcX4mS6"
      },
      "source": [
        "#### Método 1"
      ]
    },
    {
      "cell_type": "code",
      "metadata": {
        "colab": {
          "base_uri": "https://localhost:8080/"
        },
        "id": "iJnsWvCN4lZ0",
        "outputId": "2f15cccd-06da-4d84-b8e3-40e35e121a3a"
      },
      "source": [
        "palabra  = \"abcdefghijk\"\n",
        "lista = list(palabra)\n",
        "print(lista)\n",
        "\n",
        "caracter_1 = lista[0]\n",
        "caracter_2 = lista[1]\n",
        "caracter_n = lista[-1]\n",
        "resto = lista[2:-1]\n",
        "\n",
        "print(\"Caracter 1:\", caracter_1)\n",
        "print(\"Caracter 2:\", caracter_2)\n",
        "print(\"Caracter último:\", caracter_n)\n",
        "print(\"Resto de caracteres:\", resto)\n"
      ],
      "execution_count": 57,
      "outputs": [
        {
          "output_type": "stream",
          "name": "stdout",
          "text": [
            "['a', 'b', 'c', 'd', 'e', 'f', 'g', 'h', 'i', 'j', 'k']\n",
            "Caracter 1: a\n",
            "Caracter 2: b\n",
            "Caracter último: k\n",
            "Resto de caracteres: ['c', 'd', 'e', 'f', 'g', 'h', 'i', 'j']\n"
          ]
        }
      ]
    },
    {
      "cell_type": "markdown",
      "metadata": {
        "id": "if7Gkzft5jDa"
      },
      "source": [
        "#### Método 2. Usando el desempaquetado de listas\n",
        "Usando el operador asterisco **\\*** realizamos una asignación más eficiente."
      ]
    },
    {
      "cell_type": "code",
      "metadata": {
        "colab": {
          "base_uri": "https://localhost:8080/"
        },
        "id": "JzreI0c85zsc",
        "outputId": "c85544d9-dd2d-4dd0-9e84-fd39615456cd"
      },
      "source": [
        "palabra  = \"abcdefghijk\"\n",
        "lista = list(palabra)\n",
        "print(lista)\n",
        "\n",
        "caracter_1, caracter_2, *resto, caracter_n = lista           # usando el operador * conseguimos desempaquetar una lista\n",
        "\n",
        "print(\"Caracter 1:\", caracter_1)\n",
        "print(\"Caracter 2:\", caracter_2)\n",
        "print(\"Caracter último:\", caracter_n)\n",
        "print(\"Resto de caracteres:\", resto)"
      ],
      "execution_count": 58,
      "outputs": [
        {
          "output_type": "stream",
          "name": "stdout",
          "text": [
            "['a', 'b', 'c', 'd', 'e', 'f', 'g', 'h', 'i', 'j', 'k']\n",
            "Caracter 1: a\n",
            "Caracter 2: b\n",
            "Caracter último: k\n",
            "Resto de caracteres: ['c', 'd', 'e', 'f', 'g', 'h', 'i', 'j']\n"
          ]
        }
      ]
    }
  ]
}