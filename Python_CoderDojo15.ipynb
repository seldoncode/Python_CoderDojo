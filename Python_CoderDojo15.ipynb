{
  "nbformat": 4,
  "nbformat_minor": 0,
  "metadata": {
    "colab": {
      "name": "Python_CoderDojo15.ipynb",
      "provenance": [],
      "collapsed_sections": [],
      "authorship_tag": "ABX9TyPk1iPuHDVpygmEX928UeSI",
      "include_colab_link": true
    },
    "kernelspec": {
      "name": "python3",
      "display_name": "Python 3"
    },
    "language_info": {
      "name": "python"
    }
  },
  "cells": [
    {
      "cell_type": "markdown",
      "metadata": {
        "id": "view-in-github",
        "colab_type": "text"
      },
      "source": [
        "<a href=\"https://colab.research.google.com/github/seldoncode/Python_CoderDojo/blob/main/Python_CoderDojo15.ipynb\" target=\"_parent\"><img src=\"https://colab.research.google.com/assets/colab-badge.svg\" alt=\"Open In Colab\"/></a>"
      ]
    },
    {
      "cell_type": "markdown",
      "metadata": {
        "id": "M6LYA7QGNu4G"
      },
      "source": [
        "# Trabajando con archivos ```.py``` en Visual Studio Code\n",
        "## Librería ```os```\n",
        "* Importamos la librería que nos permite acceder a los comandos del sistema operativo.\n",
        "* Vamos a limpiar la pantalla con:\n",
        "  - clear en Linux\n",
        "  - cls en Windows\n",
        "* Si no se iguala a una variable aparece un 0\n",
        "* En Jupyter Notebook no funciona bien en una celda lo de limpiar la pantalla pero si se ejecuta el fichero .py en una terminal si limpia la terminal.\n",
        "* El último comando se asigna a una variable para evitar que se vea un cero al final, si se ejecuta en la terminal. "
      ]
    },
    {
      "cell_type": "code",
      "metadata": {
        "id": "vDCMvj7hNKn3"
      },
      "source": [
        "import os\n",
        "x = os.system(\"clear\")    # en Windows es cls"
      ],
      "execution_count": null,
      "outputs": []
    },
    {
      "cell_type": "markdown",
      "metadata": {
        "id": "fRn7fMo6F1al"
      },
      "source": [
        "### Creamos el fichero saludo.py\n",
        "* El fichero se crea usando un editor de código como por ejemplo **[Visual Studio Code](https://code.visualstudio.com/)**.\n",
        "* Se graba en una carpeta que hemos llamado *mypy*\n",
        "* La carpeta está en el repositorio de GitHub llamado:\n",
        " - https://github.com/seldoncode/Python_CoderDojo\n",
        "* El fichero es este:\n",
        " - https://github.com/seldoncode/Python_CoderDojo/mypy/saludo.py\n",
        "* El fichero se ejecuta desde la terminal o desde la terminal integrada en Visual Studio Code.\n",
        "* Al ejecutarlo desde Jupyter Notebook no veremos lo mismo, ya que en la terminal se va limpiando la pantalla después de escribir cada print y en Jupyter no se limpia."
      ]
    },
    {
      "cell_type": "code",
      "metadata": {
        "colab": {
          "base_uri": "https://localhost:8080/"
        },
        "id": "reni-o9PO2u8",
        "outputId": "2aae6d24-1ff9-4ac8-e358-8a7affdf3f1e"
      },
      "source": [
        "import os\n",
        "import time\n",
        "os.system(\"clear\")    # en Windows es cls\n",
        "print(\"¡Hola!\")\n",
        "time.sleep(2)\n",
        "os.system(\"clear\")\n",
        "print(\"¿Qué tal?\")\n",
        "time.sleep(2)\n",
        "os.system(\"clear\")\n",
        "print(\"Bye, bye.\")\n",
        "time.sleep(2)"
      ],
      "execution_count": null,
      "outputs": [
        {
          "output_type": "stream",
          "name": "stdout",
          "text": [
            "¡Hola!\n",
            "¿Qué tal?\n",
            "Bye, bye.\n"
          ]
        }
      ]
    },
    {
      "cell_type": "markdown",
      "metadata": {
        "id": "fdYdnO5gVfMU"
      },
      "source": [
        "### Simular movimiento\n",
        "* Crear el archivo movimiento1.py para la versión 1\n",
        "* Crear el archivo movimiento2.py para la versión 2\n",
        "* Al ejecutarlo en la terminal simula el movimiento de un personaje.\n",
        "* Son cuatro figuras de un personaje que se repiten\n",
        "* En cada figura vamos introduciendo un espacio más para ir simulando el movimiento"
      ]
    },
    {
      "cell_type": "markdown",
      "metadata": {
        "id": "OE4UJC4LcSGU"
      },
      "source": [
        "#### Versión 1. Sin bucle"
      ]
    },
    {
      "cell_type": "code",
      "metadata": {
        "id": "2jzzYIIzVr8z",
        "colab": {
          "base_uri": "https://localhost:8080/"
        },
        "outputId": "54d5a3bb-20fa-4019-ea36-aaccb00be529"
      },
      "source": [
        "#!/usr/bin/env python\n",
        "import os\n",
        "import time\n",
        "\n",
        "os.system(\"clear\")    # en Windows es cls\n",
        "\n",
        "print()\n",
        "print(\"   o   \")\n",
        "print(\"  /|\\   \")\n",
        "print(\"  / |   \")\n",
        "\n",
        "time.sleep(.3)\n",
        "os.system(\"clear\")\n",
        "\n",
        "print()\n",
        "print(\"    o   \")\n",
        "print(\"   (|\\   \")\n",
        "print(\"   | |   \")\n",
        "\n",
        "time.sleep(.3)\n",
        "os.system(\"clear\")\n",
        "\n",
        "print()\n",
        "print(\"     o   \")\n",
        "print(\"    /|\\   \")\n",
        "print(\"    | \\   \")\n",
        "\n",
        "time.sleep(.3)\n",
        "os.system(\"clear\")\n",
        "\n",
        "print()\n",
        "print(\"      o   \")\n",
        "print(\"     /|)   \")\n",
        "print(\"     | |   \")\n",
        "\n",
        "time.sleep(.3)\n",
        "os.system(\"clear\")\n",
        "\n",
        "print()\n",
        "print(\"       o   \")\n",
        "print(\"      /|\\   \")\n",
        "print(\"      / |   \")\n",
        "\n",
        "time.sleep(.3)\n",
        "os.system(\"clear\")\n",
        "\n",
        "print()\n",
        "print(\"        o   \")\n",
        "print(\"       (|\\   \")\n",
        "print(\"       | |   \")\n",
        "\n",
        "time.sleep(.3)\n",
        "os.system(\"clear\")\n",
        "\n",
        "print()\n",
        "print(\"         o   \")\n",
        "print(\"        /|\\   \")\n",
        "print(\"        | \\   \")\n",
        "\n",
        "time.sleep(.3)\n",
        "os.system(\"clear\")\n",
        "\n",
        "print()\n",
        "print(\"          o   \")\n",
        "print(\"         /|)   \")\n",
        "print(\"         | |   \")\n",
        "\n",
        "time.sleep(.3)\n",
        "os.system(\"clear\")\n",
        "\n",
        "print()\n",
        "print(\"           o   \")\n",
        "print(\"          /|\\   \")\n",
        "print(\"          / |   \")\n",
        "\n",
        "time.sleep(.3)\n",
        "os.system(\"clear\")\n",
        "\n",
        "print()\n",
        "print(\"            o   \")\n",
        "print(\"           (|\\   \")\n",
        "print(\"           | |   \")\n",
        "\n",
        "time.sleep(.3)\n",
        "os.system(\"clear\")\n",
        "\n",
        "print()\n",
        "print(\"             o   \")\n",
        "print(\"            /|\\   \")\n",
        "print(\"            | \\   \")\n",
        "\n",
        "time.sleep(.3)\n",
        "os.system(\"clear\")\n",
        "\n",
        "print()\n",
        "print(\"              o   \")\n",
        "print(\"             /|)   \")\n",
        "print(\"             | |   \")\n",
        "\n",
        "time.sleep(.3)\n",
        "os.system(\"clear\")\n",
        "\n",
        "print()\n",
        "print(\"               o   \")\n",
        "print(\"              /|\\   \")\n",
        "print(\"              / |   \")\n",
        "\n",
        "time.sleep(.3)\n",
        "os.system(\"clear\")\n",
        "\n",
        "print()\n",
        "print(\"                o   \")\n",
        "print(\"               (|\\   \")\n",
        "print(\"               | |   \")\n",
        "\n",
        "time.sleep(.3)\n",
        "os.system(\"clear\")\n",
        "\n",
        "print()\n",
        "print(\"                 o   \")\n",
        "print(\"                /|\\   \")\n",
        "print(\"                | \\   \")\n",
        "\n",
        "time.sleep(.3)\n",
        "os.system(\"clear\")\n",
        "\n",
        "print()\n",
        "print(\"                  o   \")\n",
        "print(\"                 /|)   \")\n",
        "print(\"                 | |   \")\n",
        "\n",
        "time.sleep(.3)\n",
        "os.system(\"clear\")\n",
        "\n",
        "print()\n",
        "print(\"                   o   \")\n",
        "print(\"                  /|\\   \")\n",
        "print(\"                  / |   \")\n",
        "\n",
        "time.sleep(.3)\n",
        "os.system(\"clear\")\n",
        "\n",
        "print()\n",
        "print(\"                    o   \")\n",
        "print(\"                   (|\\   \")\n",
        "print(\"                   | |   \")\n",
        "\n",
        "time.sleep(.3)\n",
        "os.system(\"clear\")\n",
        "\n",
        "print()\n",
        "print(\"                     o   \")\n",
        "print(\"                    /|\\   \")\n",
        "print(\"                    | \\   \")\n",
        "\n",
        "time.sleep(.3)\n",
        "os.system(\"clear\")\n",
        "\n",
        "print()\n",
        "print(\"                      o   \")\n",
        "print(\"                     /|)   \")\n",
        "print(\"                     | |   \")\n",
        "\n",
        "time.sleep(.3)\n",
        "os.system(\"clear\")"
      ],
      "execution_count": null,
      "outputs": [
        {
          "output_type": "stream",
          "name": "stdout",
          "text": [
            "\n",
            "   o   \n",
            "  /|\\   \n",
            "  / |   \n",
            "\n",
            "    o   \n",
            "   (|\\   \n",
            "   | |   \n",
            "\n",
            "     o   \n",
            "    /|\\   \n",
            "    | \\   \n",
            "\n",
            "      o   \n",
            "     /|)   \n",
            "     | |   \n",
            "\n",
            "       o   \n",
            "      /|\\   \n",
            "      / |   \n",
            "\n",
            "        o   \n",
            "       (|\\   \n",
            "       | |   \n",
            "\n",
            "         o   \n",
            "        /|\\   \n",
            "        | \\   \n",
            "\n",
            "          o   \n",
            "         /|)   \n",
            "         | |   \n",
            "\n",
            "           o   \n",
            "          /|\\   \n",
            "          / |   \n",
            "\n",
            "            o   \n",
            "           (|\\   \n",
            "           | |   \n",
            "\n",
            "             o   \n",
            "            /|\\   \n",
            "            | \\   \n",
            "\n",
            "              o   \n",
            "             /|)   \n",
            "             | |   \n",
            "\n",
            "               o   \n",
            "              /|\\   \n",
            "              / |   \n",
            "\n",
            "                o   \n",
            "               (|\\   \n",
            "               | |   \n",
            "\n",
            "                 o   \n",
            "                /|\\   \n",
            "                | \\   \n",
            "\n",
            "                  o   \n",
            "                 /|)   \n",
            "                 | |   \n",
            "\n",
            "                   o   \n",
            "                  /|\\   \n",
            "                  / |   \n",
            "\n",
            "                    o   \n",
            "                   (|\\   \n",
            "                   | |   \n",
            "\n",
            "                     o   \n",
            "                    /|\\   \n",
            "                    | \\   \n",
            "\n",
            "                      o   \n",
            "                     /|)   \n",
            "                     | |   \n"
          ]
        },
        {
          "output_type": "execute_result",
          "data": {
            "text/plain": [
              "0"
            ]
          },
          "metadata": {},
          "execution_count": 1
        }
      ]
    },
    {
      "cell_type": "markdown",
      "metadata": {
        "id": "NJU3daD5cVW-"
      },
      "source": [
        "#### Versión 2. Con bucle\n",
        "* Introducimos un bucle ```for```\n",
        "* El archivo se llamará movimiento2.py"
      ]
    },
    {
      "cell_type": "code",
      "metadata": {
        "id": "0iiqDfAFciot"
      },
      "source": [
        "#!/usr/bin/env python\n",
        "import os\n",
        "import time\n",
        "\n",
        "espacios = \"\"\n",
        "\n",
        "for i in range(20):\n",
        "    time.sleep(.2)\n",
        "    os.system(\"clear\")\n",
        "\n",
        "    print()\n",
        "    print(f\"{espacios}   o   \")\n",
        "    print(f\"{espacios}  /|\\   \")\n",
        "    print(f\"{espacios}  / |   \")\n",
        "\n",
        "    espacios += \" \"\n",
        "\n",
        "    time.sleep(.2)\n",
        "    os.system(\"clear\")\n",
        "\n",
        "    print()\n",
        "    print(f\"{espacios}   o   \")\n",
        "    print(f\"{espacios}  (|\\   \")\n",
        "    print(f\"{espacios}  | |   \")\n",
        "\n",
        "    espacios += \" \"\n",
        "\n",
        "    time.sleep(.2)\n",
        "    os.system(\"clear\")\n",
        "\n",
        "    print()\n",
        "    print(f\"{espacios}   o   \")\n",
        "    print(f\"{espacios}  /|\\   \")\n",
        "    print(f\"{espacios}  | \\   \")\n",
        "\n",
        "    espacios += \" \"\n",
        "\n",
        "    time.sleep(.2)\n",
        "    os.system(\"clear\")\n",
        "\n",
        "    print()\n",
        "    print(f\"{espacios}   o   \")\n",
        "    print(f\"{espacios}  /|)   \")\n",
        "    print(f\"{espacios}  | |   \")\n",
        "\n",
        "    espacios += \" \""
      ],
      "execution_count": null,
      "outputs": []
    },
    {
      "cell_type": "markdown",
      "metadata": {
        "id": "U-5GkG7QT0-t"
      },
      "source": [
        "### Juego de Muertos y Heridos\n",
        "* Comercialmente existe el Mastermind que se juega con colores\n",
        "* Nosotros emplearemos los números del 0 al 9.\n",
        "* Jugamos contra la máquina\n",
        "* La máquina piensa un número de **cuatro** cifras **sin repetición** empleando los diez dígitos entre 0 y 9.\n",
        "* Por ejemplo, piensa el número secreto 6293\n",
        "* El jugador intenta adivinar el número secreto\n",
        "* En cada tirada se van diciendo números de cuatro cifras **sin repetición**\n",
        "* Al decir un número se trata de ver cuantos muertos y heridos hay:\n",
        " - Un Muerto se produce cuando se ha adivinado un dígito y justo en su sitio\n",
        " - Un Herido se produce cuando se ha adividando un dígito pero no está en su sitio.\n",
        " - Por ejemplo, si el número secreto es 6293 y el jugador para comprobar dice: 1234, la máquina responde con el resultado: 1M1H, el muerto (M) es el 2 y el herido (H) es el 3.\n",
        " - Si el jugador para comprobar dice: 6230, la máquina responde con el resultado: 2M1H, los muertos (M) son el 6 y el 2, el herido (H) es el 3.\n",
        "* Si después de 15 intentos no se adivina el número secreto el juego termina\n",
        "* Se podrá salir en cualquier momento si tecleamos un valor que contenga algún caracter que no sea numérico."
      ]
    },
    {
      "cell_type": "code",
      "metadata": {
        "id": "VNGknOnyWmn1",
        "colab": {
          "base_uri": "https://localhost:8080/"
        },
        "outputId": "80bb455e-8e73-498b-cd95-d1849c203879"
      },
      "source": [
        "import random\n",
        "random.seed()\n",
        "print(\"============= Juego de los Muertos y Heridos =============\")\n",
        "print(\"Dispone de 15 intentos para adivinar el número secreto de cuatro dígitos sin repetición.\")\n",
        "print(\"Puede salir en cualquier momento tecleando cualquier caracter no numérico.\")\n",
        "secreto = [str(x) for x in random.sample(range(10), 4)]\n",
        "#print(secreto)         # descomentar esta línea para hacer trampas\n",
        "tirada = 0\n",
        "jugando = True\n",
        "while jugando:\n",
        "  tirada += 1\n",
        "  incorrectos = True    # inicialmente pensamos que los número que dice el jugador están incorrectos\n",
        "  while incorrectos:    # mientras pensemos que están incorrectos pediremos que introduzca un número sin repetición y de 4 dígitos\n",
        "    n = input(f\"Tirada {tirada}: Diga un número de cuatro dígitos entre 0 y 9, sin repetir digitos: \")\n",
        "    if not(n.isnumeric()) or len(n) != 4:\n",
        "      print(\"Fin del juego.\")\n",
        "      incorrectos=False       # para salirnos del while interno\n",
        "      jugando=False           # ya nos queremos salir\n",
        "    intento = list(n)    # ['1', '2', '3', '4']\n",
        "    if sorted(intento) == sorted(list(set(intento))): # para evitar que el número que diga el jugador tenga repetidos\n",
        "      incorrectos = False\n",
        "  if not(jugando): break      # si queremos salir, ya hemos dicho que jugando=False y ya nos saliemos del while principal\n",
        "  resultado = \"\"\n",
        "  m = h = 0                   # inicializamos los muertos y heridos\n",
        "  for i in range(4):\n",
        "    if intento[i] in secreto: h += 1\n",
        "    if intento[i] == secreto[i]: m += 1; h -= 1\n",
        "    resultado = f\"{m}M{h}H\"\n",
        "  print(f\"{intento[0]+intento[1]+intento[2]+intento[3]} : {resultado}\")\n",
        "  if resultado == \"4M0H\":\n",
        "    print(f\"Felicidades: ha adivinado el número secreto {secreto[0]+secreto[1]+secreto[2]+secreto[3]} en {tirada} tiradas.\")\n",
        "    jugando = False\n",
        "  elif tirada==15:\n",
        "    print(\"Se han agotado los 15 intetos. Fin del juego.\")\n",
        "    jugando = False"
      ],
      "execution_count": 33,
      "outputs": [
        {
          "output_type": "stream",
          "name": "stdout",
          "text": [
            "============= Juego de los Muertos y Heridos =============\n",
            "Dispone de 15 intentos para adivinar el número secreto de cuatro dígitos sin repetición.\n",
            "Puede salir en cualquier momento tecleando cualquier caracter no numérico.\n",
            "Tirada 1: Diga un número de cuatro dígitos entre 0 y 9, sin repetir digitos: 1234\n",
            "1234 : 0M1H\n",
            "Tirada 2: Diga un número de cuatro dígitos entre 0 y 9, sin repetir digitos: 5678\n",
            "5678 : 0M1H\n",
            "Tirada 3: Diga un número de cuatro dígitos entre 0 y 9, sin repetir digitos: 0915\n",
            "0915 : 2M2H\n",
            "Tirada 4: Diga un número de cuatro dígitos entre 0 y 9, sin repetir digitos: 0951\n",
            "0951 : 4M0H\n",
            "Felicidades: ha adivinado el número secreto 0951 en 4 tiradas.\n"
          ]
        }
      ]
    }
  ]
}