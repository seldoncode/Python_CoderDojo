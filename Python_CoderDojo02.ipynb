{
  "nbformat": 4,
  "nbformat_minor": 0,
  "metadata": {
    "colab": {
      "name": "Python_CoderDojo02.ipynb",
      "provenance": [],
      "collapsed_sections": [],
      "authorship_tag": "ABX9TyPlr67+G+y9ytPY5H3J928p",
      "include_colab_link": true
    },
    "kernelspec": {
      "name": "python3",
      "display_name": "Python 3"
    },
    "language_info": {
      "name": "python"
    }
  },
  "cells": [
    {
      "cell_type": "markdown",
      "metadata": {
        "id": "view-in-github",
        "colab_type": "text"
      },
      "source": [
        "<a href=\"https://colab.research.google.com/github/seldoncode/Python_CoderDojo/blob/main/Python_CoderDojo02.ipynb\" target=\"_parent\"><img src=\"https://colab.research.google.com/assets/colab-badge.svg\" alt=\"Open In Colab\"/></a>"
      ]
    },
    {
      "cell_type": "markdown",
      "metadata": {
        "id": "0A284inMFZqg"
      },
      "source": [
        "# Variables\n",
        "Una variable es como una caja donde ponemos guardar valores:\n",
        "* numeros enteros (int)\n",
        "* números con decimales (float)\n",
        "* booleanos (True, False)\n",
        "* cadenas alfanuméricas (string)\n",
        "* ...\n",
        "\n",
        "Ejemplo: x = 5\n",
        "\n",
        "El sistema operativo reserva una dirección de memoria RAM donde guardar esa variable.\n",
        "\n",
        "Luego se puede cambiar el valor almacenado en la variable: \n",
        "\n",
        "Ejemplo: x = 7\n",
        "\n",
        "Se dice que hemos **asignado** un nuevo valor a la variable."
      ]
    },
    {
      "cell_type": "code",
      "metadata": {
        "colab": {
          "base_uri": "https://localhost:8080/"
        },
        "id": "IqeAqipMG7rD",
        "outputId": "dff36516-5bb5-4fae-b8dc-dbb108ea2e74"
      },
      "source": [
        "x = 5\n",
        "print(\"x =\",x)\n",
        "x = 7\n",
        "print(\"x =\",x)"
      ],
      "execution_count": null,
      "outputs": [
        {
          "output_type": "stream",
          "name": "stdout",
          "text": [
            "x = 5\n",
            "x = 7\n"
          ]
        }
      ]
    },
    {
      "cell_type": "code",
      "metadata": {
        "colab": {
          "base_uri": "https://localhost:8080/"
        },
        "id": "BoZ3cNctIHOW",
        "outputId": "46cb4fcd-f5ea-4820-b4e1-c8ece6acd916"
      },
      "source": [
        "edad = 14                        # int, número entero\n",
        "nota_examen = 7.3                # float, número flotnte (con decimales)\n",
        "ciudadNacimiento = \"Madrid\"      # string, cadena alfanumérica\n",
        "avion_aterrizado = True          # boobleano, variable de tipo boolean, True, False\n",
        "edad_hermanos = [9,12,14]        # list, variable de tipo lista. Las listas van entre corchetes []\n",
        "\n",
        "print(edad)\n",
        "print(nota_examen)\n",
        "print(ciudadNacimiento)\n",
        "print(avion_aterrizado)\n",
        "print(edad_hermanos)"
      ],
      "execution_count": 6,
      "outputs": [
        {
          "output_type": "stream",
          "name": "stdout",
          "text": [
            "14\n",
            "7.3\n",
            "Madrid\n",
            "True\n",
            "[9, 12, 14]\n"
          ]
        }
      ]
    },
    {
      "cell_type": "markdown",
      "metadata": {
        "id": "gXIy9WmPmMVL"
      },
      "source": [
        "## Tipos de variables\n",
        "Con la función ``````type()`````` podemos ver de qué tipo es una variable."
      ]
    },
    {
      "cell_type": "code",
      "metadata": {
        "colab": {
          "base_uri": "https://localhost:8080/"
        },
        "id": "5NVB5d_QmXAD",
        "outputId": "0ed6ce6b-1333-400b-8f06-a54c424521a9"
      },
      "source": [
        "print(\"edad = \", edad)\n",
        "print(type(edad))\n",
        "\n",
        "print(\"nota_examen = \", nota_examen)\n",
        "print(type(nota_examen))\n",
        "\n",
        "print(\"ciudadNacimiento = \", ciudadNacimiento)\n",
        "print(type(ciudadNacimiento))\n",
        "\n",
        "print(\"avion_aterrizado = \", avion_aterrizado)\n",
        "print(type(avion_aterrizado))\n",
        "\n",
        "print(\"edad_hermanos = \", edad_hermanos)\n",
        "print(type(edad_hermanos))\n"
      ],
      "execution_count": 8,
      "outputs": [
        {
          "output_type": "stream",
          "name": "stdout",
          "text": [
            "edad =  14\n",
            "<class 'int'>\n",
            "nota_examen =  7.3\n",
            "<class 'float'>\n",
            "_clave =  Voyager\n",
            "<class 'str'>\n",
            "avion_aterrizado =  True\n",
            "<class 'bool'>\n",
            "edad_hermanos =  [9, 12, 14]\n",
            "<class 'list'>\n"
          ]
        }
      ]
    },
    {
      "cell_type": "markdown",
      "metadata": {
        "id": "8SbGCIoBki-I"
      },
      "source": [
        "## Nombres de variables ilegales\n",
        "* No pueden empezar por número\n",
        "* No pueden llevar símbolos como $€@%&?  (la barra baja si se admite)\n",
        "* No pueden tener espacios en blanco\n",
        "* No valen palabras reservadas del lenguaje (and, or, True, import, ...)"
      ]
    },
    {
      "cell_type": "code",
      "metadata": {
        "id": "sO40EHRZJ4YY"
      },
      "source": [
        "#100Montaditos = 2.5     # error, no se puede empezar por número\n",
        "#money$ = 20             # error, no llevar simbolos\n",
        "#Elon Musk = \"Sudáfrica\" # error, no valen espacios, por convenio se usan minúsculas\n",
        "#import = 100            # error, palabra reservada del lenguaje\n",
        "_clave = \"Voyager\"       # si se puede comenzar por barra baja"
      ],
      "execution_count": 19,
      "outputs": []
    },
    {
      "cell_type": "markdown",
      "metadata": {
        "id": "KrgyE0wV3IC_"
      },
      "source": [
        "## Caracteres no recomendados\n",
        "* No se recomienda usar letras acentuadas áéíóú ÁÉÍÓÚ üá\n",
        "* No se recomenda usar ñ Ñ ç Ç\n",
        "* No se recomienda usar mayúsculas\n"
      ]
    },
    {
      "cell_type": "markdown",
      "metadata": {
        "id": "f1blFCkLLkj6"
      },
      "source": [
        "### Reto 2.1. Creación y asignación de variables\n",
        "Crea unas cuantas variable de diferente tipo:\n",
        "* int\n",
        "* float\n",
        "* string\n",
        "* boolean\n",
        "* list\n",
        "Inicializa las variables con algún valor.\n",
        "Mustra en pantalla el valor de cada variable.\n",
        "Cambia el valor de las variables.\n",
        "Imprime el nuevo valor de cada variable."
      ]
    },
    {
      "cell_type": "markdown",
      "metadata": {
        "id": "6pTGUkhaMzTP"
      },
      "source": [
        "### Reto 2.2. Precio con descuento\n",
        "- Crea una variable con el precio de un juguete que inicialmente es de 20 euros.\n",
        "- Imprime su precio\n",
        "- El juguete se pone de oferta un 35%, asigna a la variable el nuevo precio\n",
        "- Imprime el nuevo precio"
      ]
    },
    {
      "cell_type": "markdown",
      "metadata": {
        "id": "gsWJLj4tOyw4"
      },
      "source": [
        "## Operar con variables\n",
        "Podemos operar con variables usando:\n",
        "* los operadores aritméticos (+,-,*,/,//,%)\n",
        "* los operadores lógicos (not, and, or)\n",
        "* los comparadores (==, !=,<,>,<=,>=)."
      ]
    },
    {
      "cell_type": "code",
      "metadata": {
        "colab": {
          "base_uri": "https://localhost:8080/"
        },
        "id": "RX4u7Exwg3ku",
        "outputId": "1f8b253e-3d38-4de5-bb67-a1db8d484790"
      },
      "source": [
        "x = 5\n",
        "y = 2\n",
        "print(\"x+y =\", x+y)\n",
        "print(f\"La resta de {x}-{y} es {x-y}\")                # la f significa format, permite formatear lo que imprimimos\n",
        "print(f\"Si elevas {x} a {y} el resultado es {x**y}\")  # El cuadrado de 5 es 5*5=25"
      ],
      "execution_count": 10,
      "outputs": [
        {
          "output_type": "stream",
          "name": "stdout",
          "text": [
            "x+y = 7\n",
            "La resta de 5-2 es 3\n",
            "Si elevas 5 a 2 el resultado es 25\n"
          ]
        }
      ]
    },
    {
      "cell_type": "code",
      "metadata": {
        "colab": {
          "base_uri": "https://localhost:8080/"
        },
        "id": "RkMS8ssQPXRk",
        "outputId": "e04bb52d-d587-4e65-ac23-e9957bea757a"
      },
      "source": [
        "# precio de los productos en la cesta de la compra\n",
        "leche = 4.6\n",
        "lechuga = 1.2\n",
        "pan = 0.8\n",
        "huevos = 4.2\n",
        "total = leche + lechuga + pan + huevos\n",
        "print(f\"El importe todal de la cesta de la compra es {total} euros.\")"
      ],
      "execution_count": 11,
      "outputs": [
        {
          "output_type": "stream",
          "name": "stdout",
          "text": [
            "El importe todal de la cesta de la compra es 10.8 euros.\n"
          ]
        }
      ]
    },
    {
      "cell_type": "markdown",
      "metadata": {
        "id": "uiLHQjoMpYIc"
      },
      "source": [
        "### Reto 2.3 Calcular el precio con IVA\n",
        "Sabemos que el precio de un dron es de 200 € antes de aplicar el impuesto del IVA y que el impuesto aplicable es del 21%. Calcular el precio de venta al público que incluye ya el impuesto.  \n",
        "Usar variables."
      ]
    },
    {
      "cell_type": "markdown",
      "metadata": {
        "id": "bNvB5pW8rpqf"
      },
      "source": [
        "### Reto 2.4 Comprar unos refrescos\n",
        "Me han dado un billete de 20 € para ira a comprar unas latas de refrescos. El precio de cada lata antes de aplicar el IVA es de 1.2 €. El IVA aplicable a las bebidas es del 10%.\n",
        "¿Cuántas latas podré comprar?\n",
        "¿Cuánto me ha sobrado?    \n",
        "Usar variables."
      ]
    },
    {
      "cell_type": "markdown",
      "metadata": {
        "id": "3x2W2FLitawf"
      },
      "source": [
        "## Contadores\n",
        "Un contador es una variable que se va incrementando, habitualmente de uno en uno.  \n",
        "Por ejemplo, cuando cumplimos un año más nuestra edad se incrmenta en un año."
      ]
    },
    {
      "cell_type": "code",
      "metadata": {
        "colab": {
          "base_uri": "https://localhost:8080/"
        },
        "id": "JNaNOjvetz4M",
        "outputId": "221ed85b-8a0b-4536-a9e2-2c2d634e93db"
      },
      "source": [
        "edad = 15\n",
        "edad = edad + 1             # contador. La variable edad es igual al antiguo valor de la variable edad más uno.\n",
        "print(edad)"
      ],
      "execution_count": 12,
      "outputs": [
        {
          "output_type": "stream",
          "name": "stdout",
          "text": [
            "16\n"
          ]
        }
      ]
    },
    {
      "cell_type": "code",
      "metadata": {
        "colab": {
          "base_uri": "https://localhost:8080/"
        },
        "id": "ZjdupJ0iuITs",
        "outputId": "4b45f1e4-197b-4d95-95db-dc8939ef362f"
      },
      "source": [
        "vidas = 3                  # comenzamos un juego con 3 vidas\n",
        "print(vidas)\n",
        "\n",
        "vidas = vidas + 1          # si en el juego ganamos una vida podemos incrementar su valor en uno\n",
        "print(vidas)\n",
        "\n",
        "vidas += 1                 # esta es una forma abreviada de escribir lo mismo que antes. Incrementa las vidas en una más.\n",
        "print(vidas)\n",
        "\n",
        "vidas -= 1                 # perdemos una vida. Es una forma abreviada de escribir   vidas = vidas - 1\n",
        "print(vidas)"
      ],
      "execution_count": 17,
      "outputs": [
        {
          "output_type": "stream",
          "name": "stdout",
          "text": [
            "3\n",
            "4\n",
            "5\n",
            "4\n"
          ]
        }
      ]
    },
    {
      "cell_type": "code",
      "metadata": {
        "colab": {
          "base_uri": "https://localhost:8080/"
        },
        "id": "B33qx3lbuzfE",
        "outputId": "0f37e5af-3e03-414b-a956-3f5ca7127856"
      },
      "source": [
        "# vamos a ir anotando la página de un libro por la que vamos y las que leemos cada día, para ver como se incrementa\n",
        "pagina = 100      # página por la que comenamos a anotar el valor, para saber por donde vamos en la lectura del libro\n",
        "print(pagina)\n",
        "\n",
        "pagina += 12      # hoy he leido 12 páginas\n",
        "print(pagina)\n",
        "\n",
        "pagina += 18      # hoy he leido 18 páginas más\n",
        "print(pagina)\n",
        "\n",
        "pagina -= 5       # he retrocedido 5 páginas ya que quiero volver a leerlas, porque ayer no me enteré bien de esa parte\n",
        "print(pagina)"
      ],
      "execution_count": 16,
      "outputs": [
        {
          "output_type": "stream",
          "name": "stdout",
          "text": [
            "100\n",
            "112\n",
            "130\n",
            "125\n"
          ]
        }
      ]
    },
    {
      "cell_type": "markdown",
      "metadata": {
        "id": "6G_03q_fw9Wu"
      },
      "source": [
        "### Reto 2.5. Cobros y pagos\n",
        "* Inicialmente tengo 20 €.\n",
        "* Me dan 50 € por mi cumpleaños.\n",
        "* Me gasto en ir al cine 15 €\n",
        "* Me encuentro una moneda de 2 €.\n",
        "* Compro un juego de 17 €.\n",
        "* Compro un comic por 8 €.  \n",
        "¿Cuánto dinero tengo al final?  \n",
        "Utiliza variables, haciendo los pasos intermedios."
      ]
    },
    {
      "cell_type": "markdown",
      "metadata": {
        "id": "OhVFpZ6b0kJ6"
      },
      "source": [
        "### Reto 2.6. Variables permitidas\n",
        "Comprueba si la siguientes variable son o no válidas.\n",
        "* IVA = 21\n",
        "* input = 100\n",
        "* myCity = \"Madrid\"\n",
        "* _100_Km = \"Repostar\"\n",
        "* velocidad luz = 300000\n",
        "* velocidad_luz = 300_000\n",
        "* 101Dalmatas = \"Disney\"\n",
        "* ciudad_de_la_luz = \"París\"\n",
        "* nombre@email =\"jorge@gmail.com\"\n",
        "* puntos-totales = 117\n",
        "* global = \"Viaje al mundo en 80 días\"\n",
        "* número_daño = 4   # no se recomienda el uso de la ñ ni acentos"
      ]
    },
    {
      "cell_type": "markdown",
      "metadata": {
        "id": "OIjoTBLZ6LQl"
      },
      "source": [
        "## Variables booleanas\n",
        "Una variable puede tomar el valor True o False."
      ]
    },
    {
      "cell_type": "code",
      "metadata": {
        "colab": {
          "base_uri": "https://localhost:8080/"
        },
        "id": "yf5aiwAv6WYB",
        "outputId": "fab0acce-ee94-4273-efb7-3d68e8837b28"
      },
      "source": [
        "huevos = 100\n",
        "docenas = huevos//12\n",
        "sobran = huevos%12\n",
        "justos = sobran==0      # justos es una variable booleana\n",
        "print(f\"En {huevos} huevos hay {docenas} docenas y sobran {sobran} huevos.\")\n",
        "print(f\"¿Están justos? {justos}\")"
      ],
      "execution_count": 22,
      "outputs": [
        {
          "output_type": "stream",
          "name": "stdout",
          "text": [
            "En 100 huevos hay 8 docenas y sobran 4 huevos.\n",
            "¿Están justos? False\n"
          ]
        }
      ]
    },
    {
      "cell_type": "markdown",
      "metadata": {
        "id": "Tjayh3HH76JO"
      },
      "source": [
        "### Reto 2.7. Plazas de un autobús\n",
        "* Un autobús tiene 37 plazas.\n",
        "* Inicialmente viajan 20 personas.\n",
        "* Crea una variable booleana que diga si quedan plazas libres.\n",
        "* Luego suben al autobús 12 personas.\n",
        "* En la siguiente parada bajan 4 y quieren subir 8, ¿será posible?\n",
        "* En la siguiente parada bajan 3 y quieren subir 5, ¿será posible?\n",
        "* Usa variables siguiendo el proceso paso a paso."
      ]
    },
    {
      "cell_type": "markdown",
      "metadata": {
        "id": "iqSp8fUu8fsX"
      },
      "source": [
        "### Reto 2.8. Usando variables booleanas\n",
        "* Crea un caso con dos variables booleanas, por ejemplo en relación a si hemos pasado un nivel de un juego y si nos quedan recursos.  \n",
        "* Usa ambas variables booleanas y prueba a combinarlas con and, or, not."
      ]
    },
    {
      "cell_type": "markdown",
      "metadata": {
        "id": "Y1WEmFNH_20U"
      },
      "source": [
        "## Intercambio de valores de dos variables\n",
        "Tenemos dos variables:  \n",
        "* x = 3\n",
        "* y = 5  \n",
        "deseamos intercambiar sus valores.  \n",
        "Podemos resolverlo usando cualquiera de los siguientes métodos.\n",
        "### Método 1\n",
        "Usando una variable auxiliar que podemos llamar aux, que recogerá el valor de x mientras y toma su valor."
      ]
    },
    {
      "cell_type": "code",
      "metadata": {
        "colab": {
          "base_uri": "https://localhost:8080/"
        },
        "id": "friJc-pJAuVl",
        "outputId": "c76b5196-3adc-48a2-ec7b-46f4f109dc2f"
      },
      "source": [
        "x = 3\n",
        "y = 5\n",
        "aux = x\n",
        "x = y\n",
        "y = aux\n",
        "print(\"nuevo valor de x:\", x)\n",
        "print(\"nuevo valor de y;\", y)"
      ],
      "execution_count": 23,
      "outputs": [
        {
          "output_type": "stream",
          "name": "stdout",
          "text": [
            "nuevo valor de x: 5\n",
            "nuevo valor de y; 3\n"
          ]
        }
      ]
    },
    {
      "cell_type": "markdown",
      "metadata": {
        "id": "rbZEJF3ABOMN"
      },
      "source": [
        "### Método 2\n",
        "Python tiene un método estupendo que permite intercambiar los valores de x e y sin usar una variable auxiliar. Muchos otros lenguajes no tienen este método."
      ]
    },
    {
      "cell_type": "code",
      "metadata": {
        "colab": {
          "base_uri": "https://localhost:8080/"
        },
        "id": "E4pGtDLhBgBm",
        "outputId": "d9519eb5-424c-42fd-b4a0-c8c859c1b911"
      },
      "source": [
        "x = 3\n",
        "y = 5\n",
        "x,y = y,x                        # forma maravillosa de permutar valores entre variables\n",
        "print(\"nuevo valor de x:\", x)\n",
        "print(\"nuevo valor de y;\", y)"
      ],
      "execution_count": 25,
      "outputs": [
        {
          "output_type": "stream",
          "name": "stdout",
          "text": [
            "nuevo valor de x: 5\n",
            "nuevo valor de y; 3\n"
          ]
        }
      ]
    },
    {
      "cell_type": "markdown",
      "metadata": {
        "id": "iuQoOJRkCIzB"
      },
      "source": [
        "## Asignaciones múltiples"
      ]
    },
    {
      "cell_type": "code",
      "metadata": {
        "colab": {
          "base_uri": "https://localhost:8080/"
        },
        "id": "ya5YgilKCOuk",
        "outputId": "f470af7e-036b-46eb-bffa-638e850030f3"
      },
      "source": [
        "# asignamos las edades de Ana y de Eva.\n",
        "ana, eva = 14, 16\n",
        "print(f\"La edad de Ana es {ana} y la edad de Eva es {eva}.\")"
      ],
      "execution_count": 26,
      "outputs": [
        {
          "output_type": "stream",
          "name": "stdout",
          "text": [
            "La edad de Ana es 14 y la edad de Eva es 16.\n"
          ]
        }
      ]
    },
    {
      "cell_type": "code",
      "metadata": {
        "colab": {
          "base_uri": "https://localhost:8080/"
        },
        "id": "Uav_N3qjCgZP",
        "outputId": "a7086336-79f6-43aa-a5b1-8a99a5dde089"
      },
      "source": [
        "# En un juego los tres coches parten con el mismo número de puntos\n",
        "rojo = verde = azul = 100\n",
        "print(f\"El rojo tiene {rojo}, el verde tiene {verde} y el azul tiene {azul} puntos.\")"
      ],
      "execution_count": 29,
      "outputs": [
        {
          "output_type": "stream",
          "name": "stdout",
          "text": [
            "El rojo tiene 100, el verde tiene 100 y el azul tiene 100 puntos.\n"
          ]
        }
      ]
    },
    {
      "cell_type": "markdown",
      "metadata": {
        "id": "ZCld-pdaD63S"
      },
      "source": [
        "### Reto 2.9. Juego de cartas\n",
        "En un juego de cartas cuando sale la carta \"reverse\" los jugadores deben intercambiar sus cartas, y por tanto sus puntos.  \n",
        "Hay dos jugadores que tienen estos puntos:  \n",
        "* luis = 80\n",
        "* raul = 45  \n",
        "Crear una tirada de una carta donde se pueda sacar o no la carta \"reverse\", controlar este posible resultado con una variable booleana.  \n",
        "Si se da la situación de \"reverse\" intercambie los puntos de los jugadores.  \n",
        "Pruebe a realizar la permuta usando varios métodos."
      ]
    }
  ]
}