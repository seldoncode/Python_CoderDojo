{
  "nbformat": 4,
  "nbformat_minor": 0,
  "metadata": {
    "colab": {
      "name": "Python_CoderDojo02.ipynb",
      "provenance": [],
      "collapsed_sections": [],
      "authorship_tag": "ABX9TyNAjW0dCnemNBOwmq3X5mXd"
    },
    "kernelspec": {
      "name": "python3",
      "display_name": "Python 3"
    },
    "language_info": {
      "name": "python"
    }
  },
  "cells": [
    {
      "cell_type": "markdown",
      "metadata": {
        "id": "0A284inMFZqg"
      },
      "source": [
        "# Variables\n",
        "Una variable es como una caja donde ponemos guardar valores:\n",
        "* numeros enteros (int)\n",
        "* números con decimales (float)\n",
        "* booleanos (True, False)\n",
        "* cadenas alfanuméricas (string)\n",
        "* ...\n",
        "\n",
        "Ejemplo: x = 5\n",
        "\n",
        "El sistema operativo reserva una dirección de memoria RAM donde guardar esa variable.\n",
        "\n",
        "Luego se puede cambiar el valor almacenado en la variable: \n",
        "\n",
        "Ejemplo: x = 7\n",
        "\n",
        "Se dice que hemos **asignado** un nuevo valor a la variable."
      ]
    },
    {
      "cell_type": "code",
      "metadata": {
        "colab": {
          "base_uri": "https://localhost:8080/"
        },
        "id": "IqeAqipMG7rD",
        "outputId": "dff36516-5bb5-4fae-b8dc-dbb108ea2e74"
      },
      "source": [
        "x = 5\n",
        "print(\"x =\",x)\n",
        "x = 7\n",
        "print(\"x =\",x)"
      ],
      "execution_count": 10,
      "outputs": [
        {
          "output_type": "stream",
          "name": "stdout",
          "text": [
            "x = 5\n",
            "x = 7\n"
          ]
        }
      ]
    },
    {
      "cell_type": "code",
      "metadata": {
        "colab": {
          "base_uri": "https://localhost:8080/"
        },
        "id": "BoZ3cNctIHOW",
        "outputId": "42e12974-35cc-45d9-9498-966b78244527"
      },
      "source": [
        "edad = 14                        # int, número entero\n",
        "nota_examen = 7.3                # float, número flotnte (con decimales)\n",
        "ciudadNacimiento = \"Madrid\"      # string, cadena alfanumérica\n",
        "avion_aterrizado = True          # boobleano, variable de tipo boolean, True, False\n",
        "edad_hermanos = [9,12,14]        # list, variable de tipo lista. Las listas van entre corchetes []\n",
        "\n",
        "print(edad)\n",
        "print(nota_examen)\n",
        "print(ciudadNacimiento)\n",
        "print(avion_aterrizado)\n",
        "print(edad_hermanos)"
      ],
      "execution_count": 11,
      "outputs": [
        {
          "output_type": "stream",
          "name": "stdout",
          "text": [
            "14\n",
            "7.3\n",
            "Madrid\n",
            "True\n",
            "[9, 12, 14]\n"
          ]
        }
      ]
    },
    {
      "cell_type": "code",
      "metadata": {
        "id": "sO40EHRZJ4YY"
      },
      "source": [
        "100Montaditos = 2.5     # error, no se puede empezar por número\n",
        "Elon Musk = \"Sudáfrica\" # error, no valen espacios, por convenio se usan minúsculas\n",
        "import = 100            # error, palabra reservada del sistema"
      ],
      "execution_count": null,
      "outputs": []
    },
    {
      "cell_type": "markdown",
      "metadata": {
        "id": "f1blFCkLLkj6"
      },
      "source": [
        "### Reto 2.1. Creación y asignación de variables\n",
        "Crea unas cuantas variable de diferente tipo:\n",
        "* int\n",
        "* float\n",
        "* string\n",
        "* boolean\n",
        "* list\n",
        "Inicializa las variables con algún valor.\n",
        "Mustra en pantalla el valor de cada variable.\n",
        "Cambia el valor de las variables.\n",
        "Imprime el nuevo valor de cada variable."
      ]
    },
    {
      "cell_type": "markdown",
      "metadata": {
        "id": "6pTGUkhaMzTP"
      },
      "source": [
        "### Reto 2.2. Precio con descuento\n",
        "- Crea una variable con el precio de un juguete que inicialmente es de 20 euros.\n",
        "- Imprime su precio\n",
        "- El juguete se pone de oferta un 35%, asigna a la variable el nuevo precio\n",
        "- Imprime el nuevo precio"
      ]
    },
    {
      "cell_type": "markdown",
      "metadata": {
        "id": "gsWJLj4tOyw4"
      },
      "source": [
        "## Operar con variables\n",
        "Podemos operar con variables usando:\n",
        "* los operadores aritméticos (+,-,*,/,//,%)\n",
        "* los operadores lógicos (not, and, or)\n",
        "* los comparadores (==, !=,<,>,<=,>=)."
      ]
    },
    {
      "cell_type": "code",
      "metadata": {
        "colab": {
          "base_uri": "https://localhost:8080/"
        },
        "id": "RkMS8ssQPXRk",
        "outputId": "61d99934-bc36-4314-b032-3714e53b1bf6"
      },
      "source": [
        "# precio de los productos en la cesta de la compra\n",
        "leche = 4.6\n",
        "lechuga = 1.2\n",
        "pan = 0.8\n",
        "huevos = 4.2\n",
        "total = leche + lechuga + pan + huevos\n",
        "print(total)"
      ],
      "execution_count": 13,
      "outputs": [
        {
          "output_type": "stream",
          "name": "stdout",
          "text": [
            "10.8\n"
          ]
        }
      ]
    }
  ]
}