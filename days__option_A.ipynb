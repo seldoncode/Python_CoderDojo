{
  "cells": [
    {
      "cell_type": "markdown",
      "metadata": {
        "id": "view-in-github",
        "colab_type": "text"
      },
      "source": [
        "<a href=\"https://colab.research.google.com/github/seldoncode/Python_CoderDojo/blob/main/days__option_A.ipynb\" target=\"_parent\"><img src=\"https://colab.research.google.com/assets/colab-badge.svg\" alt=\"Open In Colab\"/></a>"
      ]
    },
    {
      "cell_type": "markdown",
      "metadata": {
        "id": "Nj_xjrmxSkzO"
      },
      "source": [
        "# Day 1\n",
        "## Divisores de una serie de números\n",
        "* Calcular todos los divisores de una serie de números.\n",
        "* El usuario elige el rango de números, indicando el inicio y el final del rango.\n",
        " - Por ejemplo, entre 100 y 110\n",
        " * El programa muestra, junto a cada número del rango, todos los divisores que tiene cada uno de esos números.\n",
        "  - Por ejemplo:\n",
        "   - 100 -> [1,2,4,5,10,20,25,50,100]\n",
        "   - 101 -> [1,101]\n",
        "   - 102 -> [1,2,3,6,17,34,51,102]\n",
        "   - 103 -> [1,103]\n",
        "   - 104 -> [1,2,4,8,13,26,52,104]\n",
        "   - 105 -> [1,3,5,7,15,21,35,105]\n",
        "   - 106 -> [1,2,53,106]\n",
        "   - 107 -> [1,107]\n",
        "   - 108 -> [1,2,3,4,6,9,12,18,27,36,54,108]\n",
        "   - 109 -> [1,109]\n",
        "   - 110 -> [1,2,5,10,11,22,55,110]"
      ]
    },
    {
      "cell_type": "markdown",
      "metadata": {
        "id": "JrHRI7iyXqIO"
      },
      "source": [
        "# Day 2\n",
        "## Frecuencia de caracterers de un libro\n",
        "* Analizar la frecuencia de todos los caracteres que contiene un libro\n",
        "* El libro es: \n",
        " - Frankenstein; Or, The Modern Prometheus by Mary Wollstonecraft Shelley\n",
        "* Se puede obtener libremente del proyecto Gutemberg en esta dirección:\n",
        "  - [Frankenstein](https://www.gutenberg.org/ebooks/84)"
      ]
    },
    {
      "cell_type": "markdown",
      "metadata": {
        "id": "I8oEGkZBY2K8"
      },
      "source": [
        "# Day 3\n",
        "## Detectar el número diferente\n",
        "* Generar un array de números enteros con una longitud aleatoria entre 3 y 15\n",
        "* Los números del array son aleatorios enteros entre entre -99 y +99\n",
        "* Los números del array serán todos pares, menos uno de ellos que será impar, o bien\n",
        "* todos serán impares, menos uno de ellos que será par\n",
        "* Mostrar en pantalla el array\n",
        "* El objetivo es detectar el número que es diferente dentro del array\n",
        "* Crear un método o función a la que pasamos como parámetro el array generado\n",
        "* La función retorna ese número diferente que se ha de imprimir por pantalla\n",
        "\n",
        "**Ejemplos**\n",
        " * [2, 4, 0, 100, 4, 11, 2602, 36]\n",
        "  - Debería retornar: 11 (ya que es el único número impar del array)\n",
        " * [160, 3, 1719, 19, 11, 13, -21]\n",
        "  - Debería retornar: 160 (ya que es el único número par del array)"
      ]
    },
    {
      "cell_type": "markdown",
      "metadata": {
        "id": "Gi-T5jVDIsss"
      },
      "source": [
        "# Day 4\n",
        "## Suma de números impares de un triángulo\n",
        "Dado un triángulo de números impares como este:  \n",
        " &nbsp; &nbsp; &nbsp; &nbsp; &nbsp; &nbsp; &nbsp; &nbsp; &nbsp; &nbsp; &nbsp; &nbsp; 1  \n",
        " &nbsp; &nbsp; &nbsp; &nbsp; &nbsp; &nbsp; &nbsp; &nbsp; &nbsp; 3 &nbsp; &nbsp; &nbsp; &nbsp;5  \n",
        " &nbsp; &nbsp; &nbsp; &nbsp; &nbsp; &nbsp; 7 &nbsp; &nbsp; &nbsp; &nbsp; 9 &nbsp; &nbsp; &nbsp; 11  \n",
        " &nbsp; &nbsp; 13 &nbsp; &nbsp; &nbsp; 15 &nbsp; &nbsp; &nbsp; &nbsp;  17 &nbsp; &nbsp; &nbsp; 19  \n",
        "21 &nbsp; &nbsp; &nbsp; 23 &nbsp; &nbsp; &nbsp; 25 &nbsp; &nbsp; &nbsp; 27 &nbsp; &nbsp; &nbsp; 29  \n",
        "... ... ... ... ... ... ... ... ... ... ... ... ...  \n",
        "\n",
        "* Calcule la suma de los números en la enésima fila de este triángulo (comenzando en el índice 1)\n",
        "* El programa genera aleatoriamente la fila y se la pasa como parámetro a una función que es la que da el resultado\n",
        "* por ejemplo: \n",
        " - Entrada -> Salida\n",
        " - 1ª fila -> 1\n",
        " - 2ª fila -> 3 + 5 = 8\n",
        " - 3ª fila -> 7 + 9 + 11 = 27"
      ]
    },
    {
      "cell_type": "markdown",
      "metadata": {
        "id": "DU39Zenpjf3k"
      },
      "source": [
        "# Day 5\n",
        "## Distribuir texto en líneas\n",
        "* Crear una función que reciba como parámetros dos argumentos:\n",
        " - un string, por ejemplo frase = \"ABCDEFGHIJKLIMNOQRSTUVWXYZ\"\n",
        " - un número entero entre 1 y la longitud de la frase, por ejemplo, n= 4\n",
        "* La función retornará un texto, que habitualmente ocupará varias líneas, donde en cada línea se pondrán n caracteres.\n",
        " - en la primera línea irán los n primeros caracteres\n",
        " - en la segunda línea los n siguientes caracteres\n",
        " - y asi sucesivamente hasta llegar a la última línea\n",
        " - en la última línea irán los caracteres necesarios para terminar de imprimir la frase\n",
        "* Imprimir lo que retorna la función creada\n",
        "\n",
        "**Ejemplo 1**\n",
        "* Inputs:\n",
        " - frase = \"ABCDEFGHIJKLIMNOQRSTUVWXYZ\"\n",
        " - n = 4\n",
        "* Output:  \n",
        " `ABCD`  \n",
        " `EFGH`  \n",
        " `IJKL`  \n",
        " `IMNO`  \n",
        " `QRST`  \n",
        " `UVWX`  \n",
        " `YZ`\n",
        "\n",
        "**Ejemplo 2**\n",
        "* Inputs:\n",
        " - frase = \"ABCDEFG @HIJKLIMNOQRSTUVWXYZ\"\n",
        " - n = 6\n",
        "* Output:  \n",
        " `ABCDEF`  \n",
        " `G @HIJ`  \n",
        " `KLIMNO`  \n",
        " `QRSTUV`  \n",
        " `WXYZ`"
      ]
    },
    {
      "cell_type": "markdown",
      "metadata": {
        "id": "b__ztuE8M3Ew"
      },
      "source": [
        "# Day 6\n",
        "## Matriz con escalones\n",
        "* Dado el parámetro número de filas (n) crear una matriz:\n",
        " - El número de filas (n) puede variar entre 1 y 20\n",
        " - El número de columnas siempre es el triple que el de filas\n",
        " - La matriz está compuesta por ceros y unos según la distribución que se mustra en la imagen, según sea el valor del parámetro n.\n",
        "* Se trata de imprimir la matriz en la terminal en función del valor de n que nos den.\n",
        "\n",
        "![matriz.png](https://drive.google.com/uc?id=1yff9bW_yu-U1aTdbR2mTmWkD31ZPrqnc)\n",
        "\n",
        "* Para n=5 se obtendría el siguente resultado:\n",
        "\n",
        "![matriz.png](https://drive.google.com/uc?id=1Pz5wbwCls6DAwOh2SI0Nes-011nSLTjC)\n"
      ]
    },
    {
      "cell_type": "markdown",
      "metadata": {
        "id": "VPFImDCZvvb6"
      },
      "source": [
        "# Day 7\n",
        "## The Minion Game\n",
        "* Kevin and Stuart want to play the 'The Minion Game'.\n",
        "\n",
        "### Game Rules\n",
        "* Both players are given the same string, s.\n",
        "* Both players have to make substrings using the letters of the string s .\n",
        "* Stuart has to make words starting with consonants.\n",
        "* Kevin has to make words starting with vowels.\n",
        "* The game ends when both players have made all possible substrings.\n",
        "\n",
        "### Scoring\n",
        "* A player gets +1 point for each occurrence of the substring in the string s.\n",
        "\n",
        "#### For Example\n",
        "* String s = BANANA\n",
        "* Kevin's vowel beginning word = ANA\n",
        "* Here, ANA occurs twice in BANANA. Hence, Kevin will get 2 Points.\n",
        "\n",
        "* For better understanding, see the image below:\n",
        "\n",
        "<img src=\"https://drive.google.com/uc?id=1ZlwIeyG_dsLQ04dQeKuNsGF9l6l5FDmi\" alt=\"banana.png\" width=\"420\"/>\n",
        "\n",
        "<img src=\"https://github.com/seldoncode/AdventOfCode2021/blob/main/Banana.png?raw=1\" alt=\"Banana.png\" width=\"420\"/>\n",
        "\n",
        "\n",
        "* Your **task** is to determine the winner of the game and their score.\n",
        "\n",
        "### Function Description\n",
        "* Complete the minion_game in the editor below.\n",
        "* minion_game has the following parameters:\n",
        " - string string: the string to analyze\n",
        "\n",
        "### Prints\n",
        "* string: the winner's name and score, separated by a space on one line, or Draw if there is no winner\n",
        "\n",
        "### Input Format\n",
        "* A single line of input containing the string s.\n",
        "* Note: The string  will contain only uppercase letters [A-Z].\n",
        "\n",
        "### Constraints\n",
        "* 0 < len(s) < 10**6\n",
        "\n",
        "### Sample Input\n",
        "BANANA\n",
        "\n",
        "### Sample Output\n",
        "Stuart 12\n",
        "\n",
        "#### Note\n",
        "* Vowels are only defined as A, E, I, O, U."
      ]
    },
    {
      "cell_type": "markdown",
      "source": [
        "# Day 8\n",
        "## List Comprehension\n"
      ],
      "metadata": {
        "id": "9Avf8uZ4BtvT"
      }
    },
    {
      "cell_type": "markdown",
      "source": [
        "# Day 9\n",
        "## Generar matrices\n",
        "* Generar una **matriz cuadrada** de n filas y n columnas, esto es, de dimensión n×n\n",
        "* El valor de n puede variar entre 1 y 100\n",
        "* Si n es uno, la matriz es de un elemento, por ejemplo, [[5]]\n",
        "* Si n es dos la matriz es de dimensión 2×2, por ejemplo: [[1, 2], [0, -3]]\n",
        "* Los elementos de la matriz tienen que ser números aleatorios entreros entre -9 y +9.\n",
        "* La distribución de estos números debe seguir una distribución de probabilidad escalonada con las siguiente probabilidades: [25,20,16,12,9,7,5,3,2,1]\n",
        " - 25 indica que la probabilidad de que salga un 0 es del 25%\n",
        " - 20 indica que la probabilidad de que salga un 1 o -1 es del 20%\n",
        " - 16 indica que la probabilidad de que salga un 2 o -2 es del 16%\n",
        " - ... / ...\n",
        " - 1 indica que la probabilidad de que salga un 9 o -9 es del 1% \n",
        "* No puede existir ninguna fila o columna donde todos sus elementos sean cero.\n",
        "* Dado n mostrar la matriz en pantalla"
      ],
      "metadata": {
        "id": "Tx9y75F7CAam"
      }
    },
    {
      "cell_type": "markdown",
      "source": [
        "# Day 10\n",
        "## Maximin\n",
        "### Función ```min```\n",
        "* La función ```min``` devuelve el valor mínimo a lo largo de un eje dado.\n",
        "\n",
        "```import numpy```\n",
        "\n",
        "```my_array = numpy.array([[2, 5], ```\n",
        "\n",
        "&nbsp;&nbsp;&nbsp;&nbsp;&nbsp;&nbsp;&nbsp;&nbsp;&nbsp;&nbsp;&nbsp;&nbsp;&nbsp;&nbsp;&nbsp;&nbsp;&nbsp;&nbsp;&nbsp;&nbsp;&nbsp;&nbsp;&nbsp;&nbsp;&nbsp;&nbsp;&nbsp;&nbsp;&nbsp;&nbsp;&nbsp;&nbsp;&nbsp;&nbsp;&nbsp;&nbsp;&nbsp;&nbsp;&nbsp;&nbsp;&nbsp;&nbsp;&nbsp;&nbsp;&nbsp;&nbsp;&nbsp;&nbsp;```[3, 7],```\n",
        "\n",
        "&nbsp;&nbsp;&nbsp;&nbsp;&nbsp;&nbsp;&nbsp;&nbsp;&nbsp;&nbsp;&nbsp;&nbsp;&nbsp;&nbsp;&nbsp;&nbsp;&nbsp;&nbsp;&nbsp;&nbsp;&nbsp;&nbsp;&nbsp;&nbsp;&nbsp;&nbsp;&nbsp;&nbsp;&nbsp;&nbsp;&nbsp;&nbsp;&nbsp;&nbsp;&nbsp;&nbsp;&nbsp;&nbsp;&nbsp;&nbsp;&nbsp;&nbsp;&nbsp;&nbsp;&nbsp;&nbsp;&nbsp;&nbsp;```[1, 3],```\n",
        "\n",
        "&nbsp;&nbsp;&nbsp;&nbsp;&nbsp;&nbsp;&nbsp;&nbsp;&nbsp;&nbsp;&nbsp;&nbsp;&nbsp;&nbsp;&nbsp;&nbsp;&nbsp;&nbsp;&nbsp;&nbsp;&nbsp;&nbsp;&nbsp;&nbsp;&nbsp;&nbsp;&nbsp;&nbsp;&nbsp;&nbsp;&nbsp;&nbsp;&nbsp;&nbsp;&nbsp;&nbsp;&nbsp;&nbsp;&nbsp;&nbsp;&nbsp;&nbsp;&nbsp;&nbsp;&nbsp;&nbsp;&nbsp;&nbsp;```[4, 0]])```\n",
        "\n",
        "\n",
        "```print numpy.min(my_array, axis = 0)         #Output : [1 0]```\n",
        "\n",
        "```print numpy.min(my_array, axis = 1)         #Output : [2 3 1 0]```\n",
        "\n",
        "```print numpy.min(my_array, axis = None)      #Output : 0```\n",
        "\n",
        "```print numpy.min(my_array)                   #Output : 0```\n",
        "\n",
        "* Por defecto, el valor del eje es None. Por lo tanto, encuentra el mínimo en todas las dimensiones de la matriz de entrada.\n",
        "\n",
        "### Función ```max```\n",
        "* La función ```max``` devuelve el valor máximo a lo largo de un eje dado.\n",
        "\n",
        "```import numpy```\n",
        "\n",
        "```my_array = numpy.array([[2, 5], ```\n",
        "\n",
        "&nbsp;&nbsp;&nbsp;&nbsp;&nbsp;&nbsp;&nbsp;&nbsp;&nbsp;&nbsp;&nbsp;&nbsp;&nbsp;&nbsp;&nbsp;&nbsp;&nbsp;&nbsp;&nbsp;&nbsp;&nbsp;&nbsp;&nbsp;&nbsp;&nbsp;&nbsp;&nbsp;&nbsp;&nbsp;&nbsp;&nbsp;&nbsp;&nbsp;&nbsp;&nbsp;&nbsp;&nbsp;&nbsp;&nbsp;&nbsp;&nbsp;&nbsp;&nbsp;&nbsp;&nbsp;&nbsp;&nbsp;&nbsp;```[3, 7],```\n",
        "\n",
        "&nbsp;&nbsp;&nbsp;&nbsp;&nbsp;&nbsp;&nbsp;&nbsp;&nbsp;&nbsp;&nbsp;&nbsp;&nbsp;&nbsp;&nbsp;&nbsp;&nbsp;&nbsp;&nbsp;&nbsp;&nbsp;&nbsp;&nbsp;&nbsp;&nbsp;&nbsp;&nbsp;&nbsp;&nbsp;&nbsp;&nbsp;&nbsp;&nbsp;&nbsp;&nbsp;&nbsp;&nbsp;&nbsp;&nbsp;&nbsp;&nbsp;&nbsp;&nbsp;&nbsp;&nbsp;&nbsp;&nbsp;&nbsp;```[1, 3],```\n",
        "\n",
        "&nbsp;&nbsp;&nbsp;&nbsp;&nbsp;&nbsp;&nbsp;&nbsp;&nbsp;&nbsp;&nbsp;&nbsp;&nbsp;&nbsp;&nbsp;&nbsp;&nbsp;&nbsp;&nbsp;&nbsp;&nbsp;&nbsp;&nbsp;&nbsp;&nbsp;&nbsp;&nbsp;&nbsp;&nbsp;&nbsp;&nbsp;&nbsp;&nbsp;&nbsp;&nbsp;&nbsp;&nbsp;&nbsp;&nbsp;&nbsp;&nbsp;&nbsp;&nbsp;&nbsp;&nbsp;&nbsp;&nbsp;&nbsp;```[4, 0]])```\n",
        "\n",
        "\n",
        "```print numpy.max(my_array, axis = 0)         #Output : [4 7]```\n",
        "\n",
        "```print numpy.max(my_array, axis = 1)         #Output : [5 7 3 4]```\n",
        "\n",
        "```print numpy.max(my_array, axis = None)      #Output : 7```\n",
        "\n",
        "```print numpy.max(my_array)                   #Output : 7```\n",
        "\n",
        "* Por defecto, el valor del eje es None. Por lo tanto, encuentra el máximo en todas las dimensiones de la matriz de entrada.\n",
        "\n",
        "### Objetivo\n",
        "* Dada una matriz de orden nxm su tarea es calcular la función mínima sobre el eje 1 y luego encontrar el máximo de eso.\n",
        "\n",
        "### Input\n",
        "* La primera línea de entrada contiene los valores n y m separados por un espacio. Las siguientes n líneas contienen m conjuntos de enteros separados por espacios.\n",
        "\n",
        "### Output\n",
        "* Calcule el mínimo a lo largo del eje 1 y luego imprima el máximo de ese resultado.\n",
        "\n",
        "### Ejemplo\n",
        "#### Input\n",
        "4 2  \n",
        "2 5  \n",
        "3 7  \n",
        "1 3  \n",
        "4 0\n",
        "\n",
        "#### Output\n",
        "3\n",
        "\n",
        "#### Explicación\n",
        "* El mínio a lo largo del eje 1 = [2,3,1,0]\n",
        "* El máximo de [2,3,1,0] es 3.\n",
        "\n",
        "## Nota\n",
        "* Cree una función que genere aleatoriamente los inputs con diferentes dimensiones posibles.\n",
        "* Cree una función que calcule el output."
      ],
      "metadata": {
        "id": "WaV3n_mx4T9j"
      }
    },
    {
      "cell_type": "markdown",
      "source": [
        "# Day 11\n",
        "## Capitalize\n",
        "* Disponemos de una lista de nombres y una lista de apellidos\n",
        " - nombres = ['alba','alberto','alejandro','alicia','álvaro','ana','andrés','antonio','carla','carlos','carmen','cristina','daniel','david','eduardo','enrique','esther','eva','felipe','gabriel','hector','helena','hugo','isabel','iván','javier','jesus','jorge','juan','laura','lucas','lucía','luis','manuel','mar','margarita','maría','marta','martina','miguel','patricia','paula','pilar','raquel','raúl','rocío','samuel','sara','sonia','teresa']\n",
        " - apellidos = ['alonso','álvarez','blanco','cano','castillo','castro','cortes','delgado','diaz','dominguez','fernandez','garcía','garrido','gil','gomez','gonzalez','guerrero','gutierrez','hernandez','iglesias','jimenez','lopez','lozano','marin','martin','martinez','medina','mendez','molina','morales','moreno','muñoz','navarro','nuñez','ortega','ortiz','perez','ramirez','ramos','rodriguez','romero','rubio','ruiz','sanchez','santos','sanz','serrano','suarez','torres','vazquez']\n",
        "* Crear una función que elige aleatoriamente un nombre y un apellido para formar con ellos el nombre y apellido de una persona, por ejemplo:\n",
        " - iván nuñez\n",
        " - raquel álvarez\n",
        "* El programa devuelve el nombre y el apellido con la primera letra en mayúsculas del nombre y del apellido, por ejemplo:\n",
        " - Iván Nuñez\n",
        " - Raquel Álvarez\n",
        "* Se ha de lograr sin utilizar la función ```title``` en Python que conseguiría el mismo resultado."
      ],
      "metadata": {
        "id": "y-tCHlbWsq7t"
      }
    },
    {
      "cell_type": "code",
      "source": [
        "n = \"raquel álvarez\"\n",
        "print(n.title())"
      ],
      "metadata": {
        "colab": {
          "base_uri": "https://localhost:8080/"
        },
        "id": "lSDZHTz-vCDH",
        "outputId": "10bc60e7-41e1-483b-efcf-8957e6b4458b"
      },
      "execution_count": null,
      "outputs": [
        {
          "output_type": "stream",
          "name": "stdout",
          "text": [
            "Raquel Álvarez\n"
          ]
        }
      ]
    },
    {
      "cell_type": "markdown",
      "source": [
        "# Day 12\n",
        "## Genética\n",
        "* El ADN es una molécula formada por la combinación de las cuatro letras que son la base del código genético:\n",
        " - adenina (A)\n",
        " - timina (T)\n",
        " - citosina (C)\n",
        " - guanina (G)\n",
        "* Por ejemplo:\n",
        "  - AATCGCGCACCAATGCAATT\n",
        "* Crear una función que genere combinaciones de estas cuatro letras de forma aleatoria.\n",
        " - A esta combinación la llamaremos **palabra**\n",
        " - Las palabras que genere nuestra función tendrán una longitud de 100 caracteres\n",
        " - Cada una de las letras aparecerá en términos de probabilidad con los siguientes porcentajes que son los del ADN humano:\n",
        "  * A: 29,3%\n",
        "  * G: 20,7%\n",
        "  * C: 20%\n",
        "  * T: 30%\n",
        "* De la palabra generada obtendremos aleatoriamente una subcadena de 3 caracteres que llamaremos **secuencia**.\n",
        "* Mostrar en pantalla la palabra\n",
        "* Mostrar en pantalla todas las secuencias que se repitan más de una vez.\n",
        "* Decir cuantas veces se encuentra contenida la secuencia dentro de la palabra (frecuencia)\n",
        "* Ejemplo\n",
        " - La palabra debería ser de 100 caracteres, pero en el ejemplo usaremos una de 20 caracteres.  \n",
        " La palabra es \n",
        " AATCGCGCACCAATGCAATT\n",
        " - Se mostrará en pantalla una tabla como la siguiente:  \n",
        " \n",
        "| Secuencia | Frecuencia |\n",
        "| :---: | :-: |\n",
        "| AAT | 3 |\n",
        "| CGC | 2 |\n",
        "| GCA | 2 |\n",
        "| CAA | 2 |\n",
        "\n",
        " - Comentario\n",
        "  * La secuencia AAT está contenida en la palabra AATCGCGCACCAATGCAATT 3 veces.\n",
        "  * La secuencia CGC está contenida en la palabra AATCGCGCACCAATGCAATT 2 veces.\n",
        "  * Explicación de porque CGC está dos veces. Existe un tramo de la palabra que es CGCGC donde la secuencia buscada está dos veces.\n",
        "\n",
        "* Nota  \n",
        "Si una palabra no contiene ninguna secuencia con frecuencia mayor a 1, descartar la palabra y generar otra. Seguir generando palabras hasta que obtengamos alguna que contenga al menos una secuencia con frecuencia mayor a 1."
      ],
      "metadata": {
        "id": "B5IvCwmd0cLA"
      }
    },
    {
      "cell_type": "code",
      "source": [
        ""
      ],
      "metadata": {
        "id": "pMCHdOSo2UDG"
      },
      "execution_count": null,
      "outputs": []
    }
  ],
  "metadata": {
    "colab": {
      "collapsed_sections": [],
      "name": "days _option_A.ipynb",
      "provenance": [],
      "include_colab_link": true
    },
    "kernelspec": {
      "display_name": "Python 3",
      "name": "python3"
    },
    "language_info": {
      "name": "python",
      "version": "3.9.2"
    }
  },
  "nbformat": 4,
  "nbformat_minor": 0
}