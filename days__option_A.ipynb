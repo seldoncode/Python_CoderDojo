{
  "nbformat": 4,
  "nbformat_minor": 0,
  "metadata": {
    "colab": {
      "name": "days _option_A.ipynb",
      "provenance": [],
      "collapsed_sections": [],
      "authorship_tag": "ABX9TyMD1ts58Q2MHJldAa+gyIVf",
      "include_colab_link": true
    },
    "kernelspec": {
      "name": "python3",
      "display_name": "Python 3"
    },
    "language_info": {
      "name": "python"
    }
  },
  "cells": [
    {
      "cell_type": "markdown",
      "metadata": {
        "id": "view-in-github",
        "colab_type": "text"
      },
      "source": [
        "<a href=\"https://colab.research.google.com/github/seldoncode/Python_CoderDojo/blob/main/days__option_A.ipynb\" target=\"_parent\"><img src=\"https://colab.research.google.com/assets/colab-badge.svg\" alt=\"Open In Colab\"/></a>"
      ]
    },
    {
      "cell_type": "markdown",
      "metadata": {
        "id": "Nj_xjrmxSkzO"
      },
      "source": [
        "# Day 1\n",
        "## Divisores de una serie de números\n",
        "* Calcular todos los divisores de una serie de números.\n",
        "* El usuario elige el rango de números, indicando el inicio y el final del rango.\n",
        " - Por ejemplo, entre 100 y 110\n",
        " * El programa muestra, junto a cada número del rango, todos los divisores que tiene cada uno de esos números.\n",
        "  - Por ejemplo:\n",
        "   - 100 -> [1,2,4,5,10,20,25,50,100]\n",
        "   - 101 -> [1,101]\n",
        "   - 102 -> [1,2,3,6,17,34,51,102]\n",
        "   - 103 -> [1,103]\n",
        "   - 104 -> [1,2,4,8,13,26,52,104]\n",
        "   - 105 -> [1,3,5,7,15,21,35,105]\n",
        "   - 106 -> [1,2,53,106]\n",
        "   - 107 -> [1,107]\n",
        "   - 108 -> [1,2,3,4,6,9,12,18,27,36,54,108]\n",
        "   - 109 -> [1,109]\n",
        "   - 110 -> [1,2,5,10,11,22,55,110]"
      ]
    },
    {
      "cell_type": "markdown",
      "metadata": {
        "id": "JrHRI7iyXqIO"
      },
      "source": [
        "# Day 2\n",
        "## Frecuencia de caracterers de un libro\n",
        "* Analizar la frecuencia de todos los caracteres que contiene un libro\n",
        "* El libro es: \n",
        " - Frankenstein; Or, The Modern Prometheus by Mary Wollstonecraft Shelley\n",
        "* Se puede obtener libremente del proyecto Gutemberg en esta dirección:\n",
        "  - [Frankenstein](https://www.gutenberg.org/ebooks/84)"
      ]
    },
    {
      "cell_type": "markdown",
      "metadata": {
        "id": "I8oEGkZBY2K8"
      },
      "source": [
        "# Day 3\n",
        "## Detectar el número diferente\n",
        "* Generar un array de números enteros con una longitud aleatoria entre 3 y 15\n",
        "* Los números del array son aleatorios enteros entre entre -99 y +99\n",
        "* Los números del array serán todos pares, menos uno de ellos que será impar, o bien\n",
        "* todos serán impares, menos uno de ellos que será par\n",
        "* Mostrar en pantalla el array\n",
        "* El objetivo es detectar el número que es diferente dentro del array\n",
        "* Crear un método o función a la que pasamos como parámetro el array generado\n",
        "* La función retorna ese número diferente que se ha de imprimir por pantalla\n",
        "\n",
        "**Ejemplos**\n",
        " * [2, 4, 0, 100, 4, 11, 2602, 36]\n",
        "  - Debería retornar: 11 (ya que es el único número impar del array)\n",
        " * [160, 3, 1719, 19, 11, 13, -21]\n",
        "  - Debería retornar: 160 (ya que es el único número par del array)"
      ]
    },
    {
      "cell_type": "markdown",
      "metadata": {
        "id": "Gi-T5jVDIsss"
      },
      "source": [
        "# Day 4\n",
        "## Suma de números impares de un triángulo\n",
        "Dado un triángulo de números impares como este:  \n",
        " &nbsp; &nbsp; &nbsp; &nbsp; &nbsp; &nbsp; &nbsp; &nbsp; &nbsp; &nbsp; &nbsp; &nbsp; 1  \n",
        " &nbsp; &nbsp; &nbsp; &nbsp; &nbsp; &nbsp; &nbsp; &nbsp; &nbsp; 3 &nbsp; &nbsp; &nbsp; &nbsp;5  \n",
        " &nbsp; &nbsp; &nbsp; &nbsp; &nbsp; &nbsp; 7 &nbsp; &nbsp; &nbsp; &nbsp; 9 &nbsp; &nbsp; &nbsp; 11  \n",
        " &nbsp; &nbsp; 13 &nbsp; &nbsp; &nbsp; 15 &nbsp; &nbsp; &nbsp; &nbsp;  17 &nbsp; &nbsp; &nbsp; 19  \n",
        "21 &nbsp; &nbsp; &nbsp; 23 &nbsp; &nbsp; &nbsp; 25 &nbsp; &nbsp; &nbsp; 27 &nbsp; &nbsp; &nbsp; 29  \n",
        "... ... ... ... ... ... ... ... ... ... ... ... ...  \n",
        "\n",
        "* Calcule la suma de los números en la enésima fila de este triángulo (comenzando en el índice 1)\n",
        "* El programa genera aleatoriamente la fila y se la pasa como parámetro a una función que es la que da el resultado\n",
        "* por ejemplo: \n",
        " - Entrada -> Salida\n",
        " - 1ª fila -> 1\n",
        " - 2ª fila -> 3 + 5 = 8\n",
        " - 3ª fila -> 7 + 9 + 11 = 27"
      ]
    },
    {
      "cell_type": "markdown",
      "metadata": {
        "id": "DU39Zenpjf3k"
      },
      "source": [
        "# Day 5\n",
        "## Distribuir texto en líneas\n",
        "* Crear una función que reciba como parámetros dos argumentos:\n",
        " - un string, por ejemplo frase = \"ABCDEFGHIJKLIMNOQRSTUVWXYZ\"\n",
        " - un número entero entre 1 y la longitud de la frase, por ejemplo, n= 4\n",
        "* La función retornará un texto, que habitualmente ocupará varias líneas, donde en cada línea se pondrán n caracteres.\n",
        " - en la primera línea irán los n primeros caracteres\n",
        " - en la segunda línea los n siguientes caracteres\n",
        " - y asi sucesivamente hasta llegar a la última línea\n",
        " - en la última línea irán los caracteres necesarios para terminar de imprimir la frase\n",
        "* Imprimir lo que retorna la función creada\n",
        "\n",
        "**Ejemplo 1**\n",
        "* Inputs:\n",
        " - frase = \"ABCDEFGHIJKLIMNOQRSTUVWXYZ\"\n",
        " - n = 4\n",
        "* Output:  \n",
        " `ABCD`  \n",
        " `EFGH`  \n",
        " `IJKL`  \n",
        " `IMNO`  \n",
        " `QRST`  \n",
        " `UVWX`  \n",
        " `YZ`\n",
        "\n",
        "**Ejemplo 2**\n",
        "* Inputs:\n",
        " - frase = \"ABCDEFG @HIJKLIMNOQRSTUVWXYZ\"\n",
        " - n = 6\n",
        "* Output:  \n",
        " `ABCDEF`  \n",
        " `G @HIJ`  \n",
        " `KLIMNO`  \n",
        " `QRSTUV`  \n",
        " `WXYZ`"
      ]
    },
    {
      "cell_type": "markdown",
      "metadata": {
        "id": "b__ztuE8M3Ew"
      },
      "source": [
        "# Day 6\n",
        "## Matriz con escalones\n",
        "* Dado el parámetro número de filas (n) crear una matriz:\n",
        " - El número de filas (n) puede variar entre 1 y 20\n",
        " - El número de columnas siempre es el triple que el de filas\n",
        " - La matriz está compuesta por ceros y unos según la distribución que se mustra en la imagen, según sea el valor del parámetro n.\n",
        "* Se trata de imprimir la matriz en la terminal en función del valor de n que nos den.\n",
        "\n",
        "![matriz.png](https://drive.google.com/uc?id=1yff9bW_yu-U1aTdbR2mTmWkD31ZPrqnc)\n",
        "\n",
        "* Para n=5 se obtendría el siguente resultado:\n",
        "\n",
        "![matriz.png](https://drive.google.com/uc?id=1Pz5wbwCls6DAwOh2SI0Nes-011nSLTjC)\n"
      ]
    },
    {
      "cell_type": "markdown",
      "metadata": {
        "id": "VPFImDCZvvb6"
      },
      "source": [
        "# Day 7\n",
        "## The Minion Game\n",
        "* Kevin and Stuart want to play the 'The Minion Game'.\n",
        "\n",
        "*** Game Rules\n",
        "* Both players are given the same string, s.\n",
        "* Both players have to make substrings using the letters of the string s .\n",
        "* Stuart has to make words starting with consonants.\n",
        "* Kevin has to make words starting with vowels.\n",
        "* The game ends when both players have made all possible substrings.\n",
        "\n",
        "### Scoring\n",
        "* A player gets +1 point for each occurrence of the substring in the string s.\n",
        "\n",
        "#### For Example\n",
        "* String s = BANANA\n",
        "* Kevin's vowel beginning word = ANA\n",
        "* Here, ANA occurs twice in BANANA. Hence, Kevin will get 2 Points.\n",
        "\n",
        "* For better understanding, see the image below:\n",
        "\n",
        "<img src=\"https://drive.google.com/uc?id=1ZlwIeyG_dsLQ04dQeKuNsGF9l6l5FDmi\" alt=\"banana.png\" width=\"420\"/>\n",
        "\n",
        "\n",
        "* Your **task** is to determine the winner of the game and their score.\n",
        "\n",
        "### Function Description\n",
        "* Complete the minion_game in the editor below.\n",
        "* minion_game has the following parameters:\n",
        " - string string: the string to analyze\n",
        "\n",
        "### Prints\n",
        "* string: the winner's name and score, separated by a space on one line, or Draw if there is no winner\n",
        "### Input Format\n",
        "* A single line of input containing the string s.\n",
        "* Note: The string  will contain only uppercase letters [A-Z].\n",
        "\n",
        "### Constraints\n",
        "* 0 < len(s) < 10**6\n",
        "\n",
        "### Sample Input\n",
        "BANANA\n",
        "\n",
        "### Sample Output\n",
        "Stuart 12\n",
        "\n",
        "#### Note\n",
        "* Vowels are only defined as A, E, I, O, U."
      ]
    }
  ]
}