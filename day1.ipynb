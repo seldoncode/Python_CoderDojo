{
  "nbformat": 4,
  "nbformat_minor": 0,
  "metadata": {
    "colab": {
      "name": "day1.ipynb",
      "provenance": [],
      "authorship_tag": "ABX9TyMbKhrIhJvlbGM6MhmcH82j",
      "include_colab_link": true
    },
    "kernelspec": {
      "name": "python3",
      "display_name": "Python 3"
    },
    "language_info": {
      "name": "python"
    }
  },
  "cells": [
    {
      "cell_type": "markdown",
      "metadata": {
        "id": "view-in-github",
        "colab_type": "text"
      },
      "source": [
        "<a href=\"https://colab.research.google.com/github/seldoncode/Python_CoderDojo/blob/main/day1.ipynb\" target=\"_parent\"><img src=\"https://colab.research.google.com/assets/colab-badge.svg\" alt=\"Open In Colab\"/></a>"
      ]
    },
    {
      "cell_type": "markdown",
      "metadata": {
        "id": "Nj_xjrmxSkzO"
      },
      "source": [
        "# Day 1\n",
        "## Divisores de una serie de números\n",
        "* Calcular todos los divisores de una serie de números.\n",
        "* El usuario elige el rango de números, indicando el inicio y el final del rango.\n",
        " - Por ejemplo, entre 100 y 110\n",
        " * El programa muestra, junto a cada número del rango, todos los divisores que tiene cada uno de esos números.\n",
        "  - Por ejemplo:\n",
        "   - 100 -> [1,2,4,5,10,20,25,50,100]\n",
        "   - 101 -> [1,101]\n",
        "   - 102 -> [1,2,3,6,17,34,51,102]\n",
        "   - 103 -> [1,103]\n",
        "   - 104 -> [1,2,4,8,13,26,52,104]\n",
        "   - 105 -> [1,3,5,7,15,21,35,105]\n",
        "   - 106 -> [1,2,53,106]\n",
        "   - 107 -> [1,107]\n",
        "   - 108 -> [1,2,3,4,6,9,12,18,27,36,54,108]\n",
        "   - 109 -> [1,109]\n",
        "   - 110 -> [1,2,5,10,11,22,55,110]"
      ]
    }
  ]
}