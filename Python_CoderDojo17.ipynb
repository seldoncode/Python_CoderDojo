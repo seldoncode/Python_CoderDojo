{
  "nbformat": 4,
  "nbformat_minor": 0,
  "metadata": {
    "colab": {
      "name": "Python_CoderDojo17.ipynb",
      "provenance": [],
      "authorship_tag": "ABX9TyNNADII0ep98PuvW5VIrT9B",
      "include_colab_link": true
    },
    "kernelspec": {
      "name": "python3",
      "display_name": "Python 3"
    },
    "language_info": {
      "name": "python"
    }
  },
  "cells": [
    {
      "cell_type": "markdown",
      "metadata": {
        "id": "view-in-github",
        "colab_type": "text"
      },
      "source": [
        "<a href=\"https://colab.research.google.com/github/seldoncode/Python_CoderDojo/blob/main/Python_CoderDojo17.ipynb\" target=\"_parent\"><img src=\"https://colab.research.google.com/assets/colab-badge.svg\" alt=\"Open In Colab\"/></a>"
      ]
    },
    {
      "cell_type": "markdown",
      "source": [
        "# Funciones de funciones"
      ],
      "metadata": {
        "id": "atOAOTsE1Mqq"
      }
    },
    {
      "cell_type": "markdown",
      "source": [
        "## Con funciones predefinidas\n",
        "* Función de función de función de función de función.\n",
        "* Se ejecutan de dentro hacia afuera"
      ],
      "metadata": {
        "id": "_j_tKa9F1lk4"
      }
    },
    {
      "cell_type": "code",
      "source": [
        "print(len(list(max(\"br\", \"agru\", \"xy\"))))"
      ],
      "metadata": {
        "colab": {
          "base_uri": "https://localhost:8080/"
        },
        "id": "_cRbvW981rKH",
        "outputId": "94a9fcf0-e148-4b38-a05f-4a53d0797298"
      },
      "execution_count": null,
      "outputs": [
        {
          "output_type": "stream",
          "name": "stdout",
          "text": [
            "2\n"
          ]
        }
      ]
    },
    {
      "cell_type": "markdown",
      "source": [
        "### Función que devuelve el mayor de tres números"
      ],
      "metadata": {
        "id": "7ekz5mq_2Sy2"
      }
    },
    {
      "cell_type": "markdown",
      "source": [
        "#### Método 1"
      ],
      "metadata": {
        "id": "CU4Eqr5XIfxl"
      }
    },
    {
      "cell_type": "code",
      "source": [
        "def mayor_de_tres(args):\n",
        "  '''Función que toma tres números y devuelve el mayor.'''\n",
        "  a,b,c = args\n",
        "  mayor = a\n",
        "  if b > mayor:\n",
        "    mayor = b\n",
        "  if c > mayor:\n",
        "    mayor = c\n",
        "  return mayor\n",
        "\n",
        "for trio in [(1,2,3),(1,3,2),(2,1,3),(2,3,1),(3,1,2),(3,2,1),(2,2,3),(3,2,2),(2,3,2),(3,3,1),(1,3,3),(3,1,3),(3,3,3)]:\n",
        "  print(mayor_de_tres(trio))"
      ],
      "metadata": {
        "colab": {
          "base_uri": "https://localhost:8080/"
        },
        "id": "xEsHPtrpIjsG",
        "outputId": "3e52a1f6-0df6-4180-dd35-cde1d02a62fc"
      },
      "execution_count": null,
      "outputs": [
        {
          "output_type": "stream",
          "name": "stdout",
          "text": [
            "3\n",
            "3\n",
            "3\n",
            "3\n",
            "3\n",
            "3\n",
            "3\n",
            "3\n",
            "3\n",
            "3\n",
            "3\n",
            "3\n",
            "3\n"
          ]
        }
      ]
    },
    {
      "cell_type": "markdown",
      "source": [
        "#### Método 2"
      ],
      "metadata": {
        "id": "c00sUiodOM01"
      }
    },
    {
      "cell_type": "code",
      "source": [
        "def mayor_de_dos(a,b):\n",
        "  '''Función que toma dos números y devuelve el mayor.'''\n",
        "  if a > b:\n",
        "    return a\n",
        "  else:          # si b>=a\n",
        "    return b\n",
        "\n",
        "def mayor_de_tres(args):\n",
        "  '''Función que toma tres números y devuelve el mayor.'''\n",
        "  a,b,c = args\n",
        "  m = mayor_de_dos(a, b)\n",
        "  if m > c:\n",
        "    return m\n",
        "  else:\n",
        "    return c\n",
        "\n",
        "for trio in [(1,2,3),(1,3,2),(2,1,3),(2,3,1),(3,1,2),(3,2,1),(2,2,3),(3,2,2),(2,3,2),(3,3,1),(1,3,3),(3,1,3),(3,3,3)]:\n",
        "  print(mayor_de_tres(trio))"
      ],
      "metadata": {
        "colab": {
          "base_uri": "https://localhost:8080/"
        },
        "id": "_XNILEhfOPib",
        "outputId": "a9bc27ea-2cf5-4075-b63d-3ccaf2c0303d"
      },
      "execution_count": null,
      "outputs": [
        {
          "output_type": "stream",
          "name": "stdout",
          "text": [
            "3\n",
            "3\n",
            "3\n",
            "3\n",
            "3\n",
            "3\n",
            "3\n",
            "3\n",
            "3\n",
            "3\n",
            "3\n",
            "3\n",
            "3\n"
          ]
        }
      ]
    },
    {
      "cell_type": "markdown",
      "source": [
        "#### Método 3"
      ],
      "metadata": {
        "id": "S4tb031HP0LI"
      }
    },
    {
      "cell_type": "code",
      "source": [
        "def mayor_de_dos(a,b):\n",
        "  '''Función que toma dos números y devuelve el mayor.'''\n",
        "  if a > b:\n",
        "    return a\n",
        "  else:          # si b>=a\n",
        "    return b\n",
        "\n",
        "def mayor_de_tres(args):\n",
        "  '''Función que toma tres números y devuelve el mayor.'''\n",
        "  a,b,c = args\n",
        "  m = mayor_de_dos(a, b)\n",
        "  n = mayor_de_dos(m, c)\n",
        "  return n\n",
        "\n",
        "for trio in [(1,2,3),(1,3,2),(2,1,3),(2,3,1),(3,1,2),(3,2,1),(2,2,3),(3,2,2),(2,3,2),(3,3,1),(1,3,3),(3,1,3),(3,3,3)]:\n",
        "  print(mayor_de_tres(trio))"
      ],
      "metadata": {
        "colab": {
          "base_uri": "https://localhost:8080/"
        },
        "id": "GG95-yELP3Od",
        "outputId": "07ffe4f5-3595-46c6-943a-f6f1df7441cf"
      },
      "execution_count": null,
      "outputs": [
        {
          "output_type": "stream",
          "name": "stdout",
          "text": [
            "3\n",
            "3\n",
            "3\n",
            "3\n",
            "3\n",
            "3\n",
            "3\n",
            "3\n",
            "3\n",
            "3\n",
            "3\n",
            "3\n",
            "3\n"
          ]
        }
      ]
    },
    {
      "cell_type": "markdown",
      "source": [
        "#### Método 4\n",
        "Ahora nos ahorramos las variables locales m y n."
      ],
      "metadata": {
        "id": "znAbyFCTQRjP"
      }
    },
    {
      "cell_type": "code",
      "source": [
        "def mayor_de_dos(a,b):\n",
        "  '''Función que toma dos números y devuelve el mayor.'''\n",
        "  if a > b:\n",
        "    return a\n",
        "  else:          # si b>=a\n",
        "    return b\n",
        "\n",
        "def mayor_de_tres(args):\n",
        "  '''Función que toma tres números y devuelve el mayor.'''\n",
        "  a,b,c = args\n",
        "  return mayor_de_dos(mayor_de_dos(a, b), c)\n",
        "\n",
        "for trio in [(1,2,3),(1,3,2),(2,1,3),(2,3,1),(3,1,2),(3,2,1),(2,2,3),(3,2,2),(2,3,2),(3,3,1),(1,3,3),(3,1,3),(3,3,3)]:\n",
        "  print(mayor_de_tres(trio))"
      ],
      "metadata": {
        "colab": {
          "base_uri": "https://localhost:8080/"
        },
        "id": "tH_ckg9OQUZ7",
        "outputId": "2425047c-d0dd-4094-f449-07c23ca77416"
      },
      "execution_count": null,
      "outputs": [
        {
          "output_type": "stream",
          "name": "stdout",
          "text": [
            "3\n",
            "3\n",
            "3\n",
            "3\n",
            "3\n",
            "3\n",
            "3\n",
            "3\n",
            "3\n",
            "3\n",
            "3\n",
            "3\n",
            "3\n"
          ]
        }
      ]
    },
    {
      "cell_type": "markdown",
      "source": [
        "### Función que devuelve el valor intermedio de tres números\n",
        "* Ya vimos esta función por dos métodos.\n",
        "* Veamos algún método más."
      ],
      "metadata": {
        "id": "o91NqO6UT3sp"
      }
    },
    {
      "cell_type": "markdown",
      "source": [
        "#### Método 3"
      ],
      "metadata": {
        "id": "GFWMI1TIUQdx"
      }
    },
    {
      "cell_type": "code",
      "source": [
        "import random\n",
        "random.seed()\n",
        "\n",
        "def mayor_de_dos(a,b):\n",
        "  if a > b:\n",
        "    return a\n",
        "  else:\n",
        "    return b\n",
        "\n",
        "def menor_de_dos(a,b):\n",
        "  if a < b:\n",
        "    return a\n",
        "  else:\n",
        "    return b\n",
        "\n",
        "def intermedio(a,b,c):\n",
        "  if a < b:\n",
        "    m = menor_de_dos(b,c)\n",
        "    n = mayor_de_dos(m,a)\n",
        "    return n\n",
        "  else:\n",
        "    m = menor_de_dos(a,c)\n",
        "    n = mayor_de_dos(m,b)\n",
        "    return n\n",
        "\n",
        "a = random.randint(0,9)\n",
        "b = random.randint(0,9)\n",
        "c = random.randint(0,9)\n",
        "print(a,b,c)\n",
        "print(\"Número intermedio:\", intermedio(a,b,c))"
      ],
      "metadata": {
        "colab": {
          "base_uri": "https://localhost:8080/"
        },
        "id": "7Tysd09VUgXo",
        "outputId": "0ac65233-2cde-40d7-90ba-26c1a8af52f5"
      },
      "execution_count": 30,
      "outputs": [
        {
          "output_type": "stream",
          "name": "stdout",
          "text": [
            "0 8 4\n",
            "Número intermedio: 4\n"
          ]
        }
      ]
    },
    {
      "cell_type": "markdown",
      "source": [
        "#### Método 4"
      ],
      "metadata": {
        "id": "Qyry75vtW6-Q"
      }
    },
    {
      "cell_type": "code",
      "source": [
        "def mayor_de_dos(a,b):\n",
        "  if a > b:\n",
        "    return a\n",
        "  else:\n",
        "    return b\n",
        "\n",
        "def menor_de_dos(a,b):\n",
        "  if a < b:\n",
        "    return a\n",
        "  else:\n",
        "    return b\n",
        "\n",
        "def intermedio(a,b,c):\n",
        "  if a < b:\n",
        "    return mayor_de_dos(a, menor_de_dos(b,c))\n",
        "  else:\n",
        "    return mayor_de_dos(b, menor_de_dos(a,c))\n",
        "\n",
        "print(intermedio(1,2,3))\n",
        "print(intermedio(3,2,1))\n",
        "print(intermedio(2,3,1))\n",
        "print(intermedio(3,1,2))\n",
        "print(intermedio(1,3,2))\n",
        "print(intermedio(2,1,3))\n",
        "print(intermedio(2,2,3))\n",
        "print(intermedio(2,3,2))\n",
        "print(intermedio(3,2,2))\n",
        "print(intermedio(2,2,1))\n",
        "print(intermedio(2,1,2))\n",
        "print(intermedio(1,2,2))\n",
        "print(intermedio(2,2,2))"
      ],
      "metadata": {
        "colab": {
          "base_uri": "https://localhost:8080/"
        },
        "id": "SpnJbu21XAwW",
        "outputId": "634042b9-bbd8-4443-e409-16f7dd70445b"
      },
      "execution_count": 36,
      "outputs": [
        {
          "output_type": "stream",
          "name": "stdout",
          "text": [
            "2\n",
            "2\n",
            "2\n",
            "2\n",
            "2\n",
            "2\n",
            "2\n",
            "2\n",
            "2\n",
            "2\n",
            "2\n",
            "2\n",
            "2\n"
          ]
        }
      ]
    },
    {
      "cell_type": "markdown",
      "source": [
        "### Calculadora\n",
        "* Usa las funciones\n",
        " - Sumar\n",
        " - Restar\n",
        " - Multiplicar\n",
        " - Dividir"
      ],
      "metadata": {
        "id": "hHJVbc5Gg5Mn"
      }
    },
    {
      "cell_type": "markdown",
      "source": [
        "#### Método 1\n",
        "* Haciendo un cálculo único\n",
        "* sin encadenar cálculos con el resultado de la operación previa."
      ],
      "metadata": {
        "id": "xxHW2ZPXjEzq"
      }
    },
    {
      "cell_type": "code",
      "source": [
        "def sumar(a,b):\n",
        "  return a + b\n",
        "\n",
        "def restar(a,b):\n",
        "  return a - b\n",
        "\n",
        "def multiplicar(a,b):\n",
        "  return a * b\n",
        "\n",
        "def dividir(a,b):\n",
        "  return a / b\n",
        "\n",
        "def menu_calculadora():\n",
        "  print(\"1. Sumar\")\n",
        "  print(\"2. Restar\")\n",
        "  print(\"3. Multiplicar\")\n",
        "  print(\"4. Dividir\")\n",
        "  opcion = input(\"--> \")\n",
        "\n",
        "  n1 = float(input(\"Introduce número: \"))\n",
        "  n2 = float(input(\"Introduce número: \"))\n",
        "  \n",
        "  if opcion == \"1\":\n",
        "    resultado = sumar(n1,n2)\n",
        "  elif opcion == \"2\":\n",
        "    resultado = restar(n1,n2)\n",
        "  elif opcion == \"3\":\n",
        "    resultado = multiplicar(n1,n2)\n",
        "  elif opcion == \"4\":\n",
        "    resultado = dividir(n1,n2)\n",
        "  return resultado\n",
        "\n",
        "mi_resultado = menu_calculadora()\n",
        "print(mi_resultado)"
      ],
      "metadata": {
        "colab": {
          "base_uri": "https://localhost:8080/"
        },
        "id": "rhulWpuuhEnc",
        "outputId": "3d48f55a-c0ed-4af0-c86c-9e6b5f18d1ca"
      },
      "execution_count": 40,
      "outputs": [
        {
          "output_type": "stream",
          "name": "stdout",
          "text": [
            "1. Sumar\n",
            "2. Restar\n",
            "3. Multiplicar\n",
            "4. Dividir\n",
            "--> 4\n",
            "Introduce número: 15\n",
            "Introduce número: 3\n",
            "5.0\n"
          ]
        }
      ]
    },
    {
      "cell_type": "markdown",
      "source": [
        "#### Método 2\n",
        "* El método anterior tiene el inconveniente de que no podemos reiterar las opeaciones aritméticas.\n",
        "* Lo que deseamos es que después de haber realizado una operaciones, con el resultado obtenido se pueda hacer la siguiente operación y así hasta que queramos salir.\n",
        "* Lo recomendable en todos los casos es hace funciones sencillas que no impriman dentro de ellas sino que retornen valores que luego podamos manejar\n",
        "* Al simplificar el códgio haciendo funciones simples será más sencillo adaptar el código en el futuro a nuevos requerimientos"
      ],
      "metadata": {
        "id": "5VWbBwf6jHMK"
      }
    },
    {
      "cell_type": "code",
      "source": [
        "def sumar(a,b):\n",
        "  return a + b\n",
        "\n",
        "def restar(a,b):\n",
        "  return a - b\n",
        "\n",
        "def multiplicar(a,b):\n",
        "  return a * b\n",
        "\n",
        "def dividir(a,b):\n",
        "  return a / b\n",
        "\n",
        "def menu_calculadora():\n",
        "  print(\"1. Sumar\")\n",
        "  print(\"2. Restar\")\n",
        "  print(\"3. Multiplicar\")\n",
        "  print(\"4. Dividir\")\n",
        "  opcion = input(\"--> \")\n",
        "  return opcion\n",
        "\n",
        "n1 = float(input(\"Introduce número: \"))\n",
        "\n",
        "while True:\n",
        "  opcion = menu_calculadora()\n",
        "  n2 = float(input(\"Introduce número: \"))\n",
        "  if opcion == \"1\":\n",
        "    resultado = sumar(n1,n2)\n",
        "  elif opcion == \"2\":\n",
        "    resultado = restar(n1,n2)\n",
        "  elif opcion == \"3\":\n",
        "    resultado = multiplicar(n1,n2)\n",
        "  elif opcion == \"4\":\n",
        "    resultado = dividir(n1,n2)\n",
        "  print(resultado)\n",
        "  n1 =resultado  # antes n1 se pedía fuera del bucle, ahora n1 es el resultado, y así seguiremos operando\n",
        "  seguir = input(\"Seguir operado (s/n): \")\n",
        "  if seguir == \"n\":\n",
        "    break"
      ],
      "metadata": {
        "colab": {
          "base_uri": "https://localhost:8080/"
        },
        "id": "f25hCTVXjRYJ",
        "outputId": "054ea540-af87-4684-c985-812f687e5f01"
      },
      "execution_count": 46,
      "outputs": [
        {
          "name": "stdout",
          "output_type": "stream",
          "text": [
            "Introduce número: 6\n",
            "1. Sumar\n",
            "2. Restar\n",
            "3. Multiplicar\n",
            "4. Dividir\n",
            "--> 1\n",
            "Introduce número: 4\n",
            "10.0\n",
            "Seguir operado (s/n): s\n",
            "1. Sumar\n",
            "2. Restar\n",
            "3. Multiplicar\n",
            "4. Dividir\n",
            "--> 3\n",
            "Introduce número: 12\n",
            "120.0\n",
            "Seguir operado (s/n): j\n",
            "1. Sumar\n",
            "2. Restar\n",
            "3. Multiplicar\n",
            "4. Dividir\n",
            "--> 2\n",
            "Introduce número: 80\n",
            "40.0\n",
            "Seguir operado (s/n): p\n",
            "1. Sumar\n",
            "2. Restar\n",
            "3. Multiplicar\n",
            "4. Dividir\n",
            "--> 4\n",
            "Introduce número: 8\n",
            "5.0\n",
            "Seguir operado (s/n): n\n"
          ]
        }
      ]
    },
    {
      "cell_type": "markdown",
      "source": [
        "## Reutilizando funciones\n",
        "* Crearemos un único programa que tenga las dos opciones de calculadora:\n",
        " - La opción de cálculo único\n",
        " - La opción de cálculo múltiple\n",
        "* El nuevo programa dispone de las dos opciones"
      ],
      "metadata": {
        "id": "hw7Wll5Ml5x2"
      }
    },
    {
      "cell_type": "code",
      "source": [
        "''' Calculadora con funciones '''\n",
        "\n",
        "def sumar(a,b):\n",
        "  return a + b\n",
        "\n",
        "def restar(a,b):\n",
        "  return a - b\n",
        "\n",
        "def multiplicar(a,b):\n",
        "  return a * b\n",
        "\n",
        "def dividir(a,b):\n",
        "  return a / b\n",
        "\n",
        "def menu_calculadora():\n",
        "  print(\"1. Sumar\")\n",
        "  print(\"2. Restar\")\n",
        "  print(\"3. Multiplicar\")\n",
        "  print(\"4. Dividir\")\n",
        "  opcion = input(\"--> \")\n",
        "  return opcion\n",
        "\n",
        "def calcular(op, n1, n2):\n",
        "  pass\n"
      ],
      "metadata": {
        "id": "eoELxtyKo7K7"
      },
      "execution_count": null,
      "outputs": []
    }
  ]
}