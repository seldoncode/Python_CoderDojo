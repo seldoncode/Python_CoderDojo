{
  "nbformat": 4,
  "nbformat_minor": 0,
  "metadata": {
    "colab": {
      "name": "Python_CoderDojo17.ipynb",
      "provenance": [],
      "authorship_tag": "ABX9TyOSNxLr9zmJ3pIDlEnfGair",
      "include_colab_link": true
    },
    "kernelspec": {
      "name": "python3",
      "display_name": "Python 3"
    },
    "language_info": {
      "name": "python"
    }
  },
  "cells": [
    {
      "cell_type": "markdown",
      "metadata": {
        "id": "view-in-github",
        "colab_type": "text"
      },
      "source": [
        "<a href=\"https://colab.research.google.com/github/seldoncode/Python_CoderDojo/blob/main/Python_CoderDojo17.ipynb\" target=\"_parent\"><img src=\"https://colab.research.google.com/assets/colab-badge.svg\" alt=\"Open In Colab\"/></a>"
      ]
    },
    {
      "cell_type": "markdown",
      "source": [
        "# Funciones de funciones"
      ],
      "metadata": {
        "id": "atOAOTsE1Mqq"
      }
    },
    {
      "cell_type": "markdown",
      "source": [
        "## Con funciones predefinidas\n",
        "* Función de función de función de función de función.\n",
        "* Se ejecutan de dentro hacia afuera"
      ],
      "metadata": {
        "id": "_j_tKa9F1lk4"
      }
    },
    {
      "cell_type": "code",
      "source": [
        "print(len(list(max(\"br\", \"agru\", \"xy\"))))"
      ],
      "metadata": {
        "colab": {
          "base_uri": "https://localhost:8080/"
        },
        "id": "_cRbvW981rKH",
        "outputId": "94a9fcf0-e148-4b38-a05f-4a53d0797298"
      },
      "execution_count": 1,
      "outputs": [
        {
          "output_type": "stream",
          "name": "stdout",
          "text": [
            "2\n"
          ]
        }
      ]
    },
    {
      "cell_type": "markdown",
      "source": [
        "### Función que devuelve el mayor de tres números"
      ],
      "metadata": {
        "id": "7ekz5mq_2Sy2"
      }
    },
    {
      "cell_type": "markdown",
      "source": [
        "#### Método 1"
      ],
      "metadata": {
        "id": "CU4Eqr5XIfxl"
      }
    },
    {
      "cell_type": "code",
      "source": [
        "def mayor_de_tres(args):\n",
        "  '''Función que toma tres números y devuelve el mayor.'''\n",
        "  a,b,c = args\n",
        "  mayor = a\n",
        "  if b > mayor:\n",
        "    mayor = b\n",
        "  if c > mayor:\n",
        "    mayor = c\n",
        "  return mayor\n",
        "\n",
        "for trio in [(1,2,3),(1,3,2),(2,1,3),(2,3,1),(3,1,2),(3,2,1),(2,2,3),(3,2,2),(2,3,2),(3,3,1),(1,3,3),(3,1,3),(3,3,3)]:\n",
        "  print(mayor_de_tres(trio))"
      ],
      "metadata": {
        "colab": {
          "base_uri": "https://localhost:8080/"
        },
        "id": "xEsHPtrpIjsG",
        "outputId": "3e52a1f6-0df6-4180-dd35-cde1d02a62fc"
      },
      "execution_count": 23,
      "outputs": [
        {
          "output_type": "stream",
          "name": "stdout",
          "text": [
            "3\n",
            "3\n",
            "3\n",
            "3\n",
            "3\n",
            "3\n",
            "3\n",
            "3\n",
            "3\n",
            "3\n",
            "3\n",
            "3\n",
            "3\n"
          ]
        }
      ]
    },
    {
      "cell_type": "markdown",
      "source": [
        "#### Método 2"
      ],
      "metadata": {
        "id": "c00sUiodOM01"
      }
    },
    {
      "cell_type": "code",
      "source": [
        "def mayor_de_dos(a,b):\n",
        "  '''Función que toma dos números y devuelve el mayor.'''\n",
        "  if a > b:\n",
        "    return a\n",
        "  else:          # si b>=a\n",
        "    return b\n",
        "\n",
        "def mayor_de_tres(args):\n",
        "  '''Función que toma tres números y devuelve el mayor.'''\n",
        "  a,b,c = args\n",
        "  m = mayor_de_dos(a, b)\n",
        "  if m > c:\n",
        "    return m\n",
        "  else:\n",
        "    return c\n",
        "\n",
        "for trio in [(1,2,3),(1,3,2),(2,1,3),(2,3,1),(3,1,2),(3,2,1),(2,2,3),(3,2,2),(2,3,2),(3,3,1),(1,3,3),(3,1,3),(3,3,3)]:\n",
        "  print(mayor_de_tres(trio))"
      ],
      "metadata": {
        "colab": {
          "base_uri": "https://localhost:8080/"
        },
        "id": "_XNILEhfOPib",
        "outputId": "a9bc27ea-2cf5-4075-b63d-3ccaf2c0303d"
      },
      "execution_count": 24,
      "outputs": [
        {
          "output_type": "stream",
          "name": "stdout",
          "text": [
            "3\n",
            "3\n",
            "3\n",
            "3\n",
            "3\n",
            "3\n",
            "3\n",
            "3\n",
            "3\n",
            "3\n",
            "3\n",
            "3\n",
            "3\n"
          ]
        }
      ]
    },
    {
      "cell_type": "markdown",
      "source": [
        "#### Método 3"
      ],
      "metadata": {
        "id": "S4tb031HP0LI"
      }
    },
    {
      "cell_type": "code",
      "source": [
        "def mayor_de_dos(a,b):\n",
        "  '''Función que toma dos números y devuelve el mayor.'''\n",
        "  if a > b:\n",
        "    return a\n",
        "  else:          # si b>=a\n",
        "    return b\n",
        "\n",
        "def mayor_de_tres(args):\n",
        "  '''Función que toma tres números y devuelve el mayor.'''\n",
        "  a,b,c = args\n",
        "  m = mayor_de_dos(a, b)\n",
        "  n = mayor_de_dos(m, c)\n",
        "  return n\n",
        "\n",
        "for trio in [(1,2,3),(1,3,2),(2,1,3),(2,3,1),(3,1,2),(3,2,1),(2,2,3),(3,2,2),(2,3,2),(3,3,1),(1,3,3),(3,1,3),(3,3,3)]:\n",
        "  print(mayor_de_tres(trio))"
      ],
      "metadata": {
        "colab": {
          "base_uri": "https://localhost:8080/"
        },
        "id": "GG95-yELP3Od",
        "outputId": "07ffe4f5-3595-46c6-943a-f6f1df7441cf"
      },
      "execution_count": 25,
      "outputs": [
        {
          "output_type": "stream",
          "name": "stdout",
          "text": [
            "3\n",
            "3\n",
            "3\n",
            "3\n",
            "3\n",
            "3\n",
            "3\n",
            "3\n",
            "3\n",
            "3\n",
            "3\n",
            "3\n",
            "3\n"
          ]
        }
      ]
    },
    {
      "cell_type": "markdown",
      "source": [
        "#### Método 4\n",
        "Ahora nos ahorramos las variables locales m y n."
      ],
      "metadata": {
        "id": "znAbyFCTQRjP"
      }
    },
    {
      "cell_type": "code",
      "source": [
        "def mayor_de_dos(a,b):\n",
        "  '''Función que toma dos números y devuelve el mayor.'''\n",
        "  if a > b:\n",
        "    return a\n",
        "  else:          # si b>=a\n",
        "    return b\n",
        "\n",
        "def mayor_de_tres(args):\n",
        "  '''Función que toma tres números y devuelve el mayor.'''\n",
        "  a,b,c = args\n",
        "  return mayor_de_dos(mayor_de_dos(a, b), c)\n",
        "\n",
        "for trio in [(1,2,3),(1,3,2),(2,1,3),(2,3,1),(3,1,2),(3,2,1),(2,2,3),(3,2,2),(2,3,2),(3,3,1),(1,3,3),(3,1,3),(3,3,3)]:\n",
        "  print(mayor_de_tres(trio))"
      ],
      "metadata": {
        "colab": {
          "base_uri": "https://localhost:8080/"
        },
        "id": "tH_ckg9OQUZ7",
        "outputId": "2425047c-d0dd-4094-f449-07c23ca77416"
      },
      "execution_count": 26,
      "outputs": [
        {
          "output_type": "stream",
          "name": "stdout",
          "text": [
            "3\n",
            "3\n",
            "3\n",
            "3\n",
            "3\n",
            "3\n",
            "3\n",
            "3\n",
            "3\n",
            "3\n",
            "3\n",
            "3\n",
            "3\n"
          ]
        }
      ]
    }
  ]
}