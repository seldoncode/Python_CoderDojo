{
  "nbformat": 4,
  "nbformat_minor": 0,
  "metadata": {
    "colab": {
      "name": "Python_CoderDojo17.ipynb",
      "provenance": [],
      "authorship_tag": "ABX9TyPnNOd4C2m0Q/jS8Ea/WBcP",
      "include_colab_link": true
    },
    "kernelspec": {
      "name": "python3",
      "display_name": "Python 3"
    },
    "language_info": {
      "name": "python"
    }
  },
  "cells": [
    {
      "cell_type": "markdown",
      "metadata": {
        "id": "view-in-github",
        "colab_type": "text"
      },
      "source": [
        "<a href=\"https://colab.research.google.com/github/seldoncode/Python_CoderDojo/blob/main/Python_CoderDojo17.ipynb\" target=\"_parent\"><img src=\"https://colab.research.google.com/assets/colab-badge.svg\" alt=\"Open In Colab\"/></a>"
      ]
    },
    {
      "cell_type": "markdown",
      "source": [
        "# Funciones de funciones"
      ],
      "metadata": {
        "id": "atOAOTsE1Mqq"
      }
    },
    {
      "cell_type": "markdown",
      "source": [
        "## Con funciones predefinidas\n",
        "* Función de función, de función, de función, de función.\n",
        "* Se ejecutan de dentro hacia afuera"
      ],
      "metadata": {
        "id": "_j_tKa9F1lk4"
      }
    },
    {
      "cell_type": "code",
      "source": [
        "print(len(list(max(\"bre\", \"agru\", \"xy\"))))"
      ],
      "metadata": {
        "colab": {
          "base_uri": "https://localhost:8080/"
        },
        "id": "_cRbvW981rKH",
        "outputId": "94a9fcf0-e148-4b38-a05f-4a53d0797298"
      },
      "execution_count": null,
      "outputs": [
        {
          "output_type": "stream",
          "name": "stdout",
          "text": [
            "2\n"
          ]
        }
      ]
    },
    {
      "cell_type": "markdown",
      "source": [
        "### Función que devuelve el mayor de tres números"
      ],
      "metadata": {
        "id": "7ekz5mq_2Sy2"
      }
    },
    {
      "cell_type": "markdown",
      "source": [
        "#### Método 1"
      ],
      "metadata": {
        "id": "CU4Eqr5XIfxl"
      }
    },
    {
      "cell_type": "code",
      "source": [
        "def mayor_de_tres(args):\n",
        "  '''Función que toma tres números y devuelve el mayor.'''\n",
        "  a,b,c = args\n",
        "  mayor = a\n",
        "  if b > mayor:\n",
        "    mayor = b\n",
        "  if c > mayor:\n",
        "    mayor = c\n",
        "  return mayor\n",
        "\n",
        "for trio in [(1,2,3),(1,3,2),(2,1,3),(2,3,1),(3,1,2),(3,2,1),(2,2,3),(3,2,2),(2,3,2),(3,3,1),(1,3,3),(3,1,3),(3,3,3)]:\n",
        "  print(mayor_de_tres(trio))"
      ],
      "metadata": {
        "colab": {
          "base_uri": "https://localhost:8080/"
        },
        "id": "xEsHPtrpIjsG",
        "outputId": "3e52a1f6-0df6-4180-dd35-cde1d02a62fc"
      },
      "execution_count": null,
      "outputs": [
        {
          "output_type": "stream",
          "name": "stdout",
          "text": [
            "3\n",
            "3\n",
            "3\n",
            "3\n",
            "3\n",
            "3\n",
            "3\n",
            "3\n",
            "3\n",
            "3\n",
            "3\n",
            "3\n",
            "3\n"
          ]
        }
      ]
    },
    {
      "cell_type": "markdown",
      "source": [
        "#### Método 2"
      ],
      "metadata": {
        "id": "c00sUiodOM01"
      }
    },
    {
      "cell_type": "code",
      "source": [
        "def mayor_de_dos(a,b):\n",
        "  '''Función que toma dos números y devuelve el mayor.'''\n",
        "  if a > b:\n",
        "    return a\n",
        "  else:          # si b>=a\n",
        "    return b\n",
        "\n",
        "def mayor_de_tres(args):\n",
        "  '''Función que toma tres números y devuelve el mayor.'''\n",
        "  a,b,c = args\n",
        "  m = mayor_de_dos(a, b)\n",
        "  if m > c:\n",
        "    return m\n",
        "  else:\n",
        "    return c\n",
        "\n",
        "for trio in [(1,2,3),(1,3,2),(2,1,3),(2,3,1),(3,1,2),(3,2,1),(2,2,3),(3,2,2),(2,3,2),(3,3,1),(1,3,3),(3,1,3),(3,3,3)]:\n",
        "  print(mayor_de_tres(trio))"
      ],
      "metadata": {
        "colab": {
          "base_uri": "https://localhost:8080/"
        },
        "id": "_XNILEhfOPib",
        "outputId": "a9bc27ea-2cf5-4075-b63d-3ccaf2c0303d"
      },
      "execution_count": null,
      "outputs": [
        {
          "output_type": "stream",
          "name": "stdout",
          "text": [
            "3\n",
            "3\n",
            "3\n",
            "3\n",
            "3\n",
            "3\n",
            "3\n",
            "3\n",
            "3\n",
            "3\n",
            "3\n",
            "3\n",
            "3\n"
          ]
        }
      ]
    },
    {
      "cell_type": "markdown",
      "source": [
        "#### Método 3"
      ],
      "metadata": {
        "id": "S4tb031HP0LI"
      }
    },
    {
      "cell_type": "code",
      "source": [
        "def mayor_de_dos(a,b):\n",
        "  '''Función que toma dos números y devuelve el mayor.'''\n",
        "  if a > b:\n",
        "    return a\n",
        "  else:          # si b>=a\n",
        "    return b\n",
        "\n",
        "def mayor_de_tres(args):\n",
        "  '''Función que toma tres números y devuelve el mayor.'''\n",
        "  a,b,c = args\n",
        "  m = mayor_de_dos(a, b)\n",
        "  n = mayor_de_dos(m, c)\n",
        "  return n\n",
        "\n",
        "for trio in [(1,2,3),(1,3,2),(2,1,3),(2,3,1),(3,1,2),(3,2,1),(2,2,3),(3,2,2),(2,3,2),(3,3,1),(1,3,3),(3,1,3),(3,3,3)]:\n",
        "  print(mayor_de_tres(trio))"
      ],
      "metadata": {
        "colab": {
          "base_uri": "https://localhost:8080/"
        },
        "id": "GG95-yELP3Od",
        "outputId": "07ffe4f5-3595-46c6-943a-f6f1df7441cf"
      },
      "execution_count": null,
      "outputs": [
        {
          "output_type": "stream",
          "name": "stdout",
          "text": [
            "3\n",
            "3\n",
            "3\n",
            "3\n",
            "3\n",
            "3\n",
            "3\n",
            "3\n",
            "3\n",
            "3\n",
            "3\n",
            "3\n",
            "3\n"
          ]
        }
      ]
    },
    {
      "cell_type": "markdown",
      "source": [
        "#### Método 4\n",
        "Ahora nos ahorramos las variables locales m y n."
      ],
      "metadata": {
        "id": "znAbyFCTQRjP"
      }
    },
    {
      "cell_type": "code",
      "source": [
        "def mayor_de_dos(a,b):\n",
        "  '''Función que toma dos números y devuelve el mayor.'''\n",
        "  if a > b:\n",
        "    return a\n",
        "  else:          # si b>=a\n",
        "    return b\n",
        "\n",
        "def mayor_de_tres(args):\n",
        "  '''Función que toma tres números y devuelve el mayor.'''\n",
        "  a,b,c = args\n",
        "  return mayor_de_dos(mayor_de_dos(a, b), c)\n",
        "\n",
        "for trio in [(1,2,3),(1,3,2),(2,1,3),(2,3,1),(3,1,2),(3,2,1),(2,2,3),(3,2,2),(2,3,2),(3,3,1),(1,3,3),(3,1,3),(3,3,3)]:\n",
        "  print(mayor_de_tres(trio))"
      ],
      "metadata": {
        "colab": {
          "base_uri": "https://localhost:8080/"
        },
        "id": "tH_ckg9OQUZ7",
        "outputId": "2425047c-d0dd-4094-f449-07c23ca77416"
      },
      "execution_count": null,
      "outputs": [
        {
          "output_type": "stream",
          "name": "stdout",
          "text": [
            "3\n",
            "3\n",
            "3\n",
            "3\n",
            "3\n",
            "3\n",
            "3\n",
            "3\n",
            "3\n",
            "3\n",
            "3\n",
            "3\n",
            "3\n"
          ]
        }
      ]
    },
    {
      "cell_type": "markdown",
      "source": [
        "### Función que devuelve el valor intermedio de tres números\n",
        "* Ya vimos esta función por dos métodos.\n",
        "* Veamos algún método más."
      ],
      "metadata": {
        "id": "o91NqO6UT3sp"
      }
    },
    {
      "cell_type": "markdown",
      "source": [
        "#### Método 3"
      ],
      "metadata": {
        "id": "GFWMI1TIUQdx"
      }
    },
    {
      "cell_type": "code",
      "source": [
        "import random\n",
        "random.seed()\n",
        "\n",
        "def mayor_de_dos(a,b):\n",
        "  if a > b:\n",
        "    return a\n",
        "  else:\n",
        "    return b\n",
        "\n",
        "def menor_de_dos(a,b):\n",
        "  if a < b:\n",
        "    return a\n",
        "  else:\n",
        "    return b\n",
        "\n",
        "def intermedio(a,b,c):\n",
        "  if a < b:\n",
        "    m = menor_de_dos(b,c)\n",
        "    n = mayor_de_dos(m,a)\n",
        "    return n\n",
        "  else:\n",
        "    m = menor_de_dos(a,c)\n",
        "    n = mayor_de_dos(m,b)\n",
        "    return n\n",
        "\n",
        "a = random.randint(0,9)\n",
        "b = random.randint(0,9)\n",
        "c = random.randint(0,9)\n",
        "print(a,b,c)\n",
        "print(\"Número intermedio:\", intermedio(a,b,c))"
      ],
      "metadata": {
        "colab": {
          "base_uri": "https://localhost:8080/"
        },
        "id": "7Tysd09VUgXo",
        "outputId": "0ac65233-2cde-40d7-90ba-26c1a8af52f5"
      },
      "execution_count": null,
      "outputs": [
        {
          "output_type": "stream",
          "name": "stdout",
          "text": [
            "0 8 4\n",
            "Número intermedio: 4\n"
          ]
        }
      ]
    },
    {
      "cell_type": "markdown",
      "source": [
        "#### Método 4"
      ],
      "metadata": {
        "id": "Qyry75vtW6-Q"
      }
    },
    {
      "cell_type": "code",
      "source": [
        "def mayor_de_dos(a,b):\n",
        "  if a > b:\n",
        "    return a\n",
        "  else:\n",
        "    return b\n",
        "\n",
        "def menor_de_dos(a,b):\n",
        "  if a < b:\n",
        "    return a\n",
        "  else:\n",
        "    return b\n",
        "\n",
        "def intermedio(a,b,c):\n",
        "  if a < b:\n",
        "    return mayor_de_dos(a, menor_de_dos(b,c))\n",
        "  else:\n",
        "    return mayor_de_dos(b, menor_de_dos(a,c))\n",
        "\n",
        "print(intermedio(1,2,3))\n",
        "print(intermedio(3,2,1))\n",
        "print(intermedio(2,3,1))\n",
        "print(intermedio(3,1,2))\n",
        "print(intermedio(1,3,2))\n",
        "print(intermedio(2,1,3))\n",
        "print(intermedio(2,2,3))\n",
        "print(intermedio(2,3,2))\n",
        "print(intermedio(3,2,2))\n",
        "print(intermedio(2,2,1))\n",
        "print(intermedio(2,1,2))\n",
        "print(intermedio(1,2,2))\n",
        "print(intermedio(2,2,2))"
      ],
      "metadata": {
        "colab": {
          "base_uri": "https://localhost:8080/"
        },
        "id": "SpnJbu21XAwW",
        "outputId": "634042b9-bbd8-4443-e409-16f7dd70445b"
      },
      "execution_count": null,
      "outputs": [
        {
          "output_type": "stream",
          "name": "stdout",
          "text": [
            "2\n",
            "2\n",
            "2\n",
            "2\n",
            "2\n",
            "2\n",
            "2\n",
            "2\n",
            "2\n",
            "2\n",
            "2\n",
            "2\n",
            "2\n"
          ]
        }
      ]
    },
    {
      "cell_type": "markdown",
      "source": [
        "### Calculadora\n",
        "* Usa las funciones\n",
        " - Sumar\n",
        " - Restar\n",
        " - Multiplicar\n",
        " - Dividir"
      ],
      "metadata": {
        "id": "hHJVbc5Gg5Mn"
      }
    },
    {
      "cell_type": "markdown",
      "source": [
        "#### Método 1\n",
        "* Haciendo un cálculo único\n",
        "* sin encadenar cálculos con el resultado de la operación previa."
      ],
      "metadata": {
        "id": "xxHW2ZPXjEzq"
      }
    },
    {
      "cell_type": "code",
      "source": [
        "def sumar(a,b):\n",
        "  return a + b\n",
        "\n",
        "def restar(a,b):\n",
        "  return a - b\n",
        "\n",
        "def multiplicar(a,b):\n",
        "  return a * b\n",
        "\n",
        "def dividir(a,b):\n",
        "  return a / b\n",
        "\n",
        "def menu_calculadora():\n",
        "  print(\"1. Sumar\")\n",
        "  print(\"2. Restar\")\n",
        "  print(\"3. Multiplicar\")\n",
        "  print(\"4. Dividir\")\n",
        "  opcion = input(\"--> \")\n",
        "\n",
        "  n1 = float(input(\"Introduce número: \"))\n",
        "  n2 = float(input(\"Introduce número: \"))\n",
        "  \n",
        "  if opcion == \"1\":\n",
        "    resultado = sumar(n1,n2)\n",
        "  elif opcion == \"2\":\n",
        "    resultado = restar(n1,n2)\n",
        "  elif opcion == \"3\":\n",
        "    resultado = multiplicar(n1,n2)\n",
        "  elif opcion == \"4\":\n",
        "    resultado = dividir(n1,n2)\n",
        "  return resultado\n",
        "\n",
        "mi_resultado = menu_calculadora()\n",
        "print(mi_resultado)"
      ],
      "metadata": {
        "colab": {
          "base_uri": "https://localhost:8080/"
        },
        "id": "rhulWpuuhEnc",
        "outputId": "3d48f55a-c0ed-4af0-c86c-9e6b5f18d1ca"
      },
      "execution_count": null,
      "outputs": [
        {
          "output_type": "stream",
          "name": "stdout",
          "text": [
            "1. Sumar\n",
            "2. Restar\n",
            "3. Multiplicar\n",
            "4. Dividir\n",
            "--> 4\n",
            "Introduce número: 15\n",
            "Introduce número: 3\n",
            "5.0\n"
          ]
        }
      ]
    },
    {
      "cell_type": "markdown",
      "source": [
        "#### Método 2\n",
        "* El método anterior tiene el inconveniente de que no podemos reiterar las opeaciones aritméticas.\n",
        "* Lo que deseamos es que después de haber realizado una operaciones, con el resultado obtenido se pueda hacer la siguiente operación y así hasta que queramos salir.\n",
        "* Lo recomendable en todos los casos es hace funciones sencillas que no impriman dentro de ellas sino que retornen valores que luego podamos manejar\n",
        "* Al simplificar el códgio haciendo funciones simples será más sencillo adaptar el código en el futuro a nuevos requerimientos"
      ],
      "metadata": {
        "id": "5VWbBwf6jHMK"
      }
    },
    {
      "cell_type": "code",
      "source": [
        "def sumar(a,b):\n",
        "  return a + b\n",
        "\n",
        "def restar(a,b):\n",
        "  return a - b\n",
        "\n",
        "def multiplicar(a,b):\n",
        "  return a * b\n",
        "\n",
        "def dividir(a,b):\n",
        "  return a / b\n",
        "\n",
        "def menu_calculadora():\n",
        "  print(\"1. Sumar\")\n",
        "  print(\"2. Restar\")\n",
        "  print(\"3. Multiplicar\")\n",
        "  print(\"4. Dividir\")\n",
        "  opcion = input(\"--> \")\n",
        "  return opcion\n",
        "\n",
        "n1 = float(input(\"Introduce número: \"))\n",
        "\n",
        "while True:\n",
        "  opcion = menu_calculadora()\n",
        "  n2 = float(input(\"Introduce número: \"))\n",
        "  if opcion == \"1\":\n",
        "    resultado = sumar(n1,n2)\n",
        "  elif opcion == \"2\":\n",
        "    resultado = restar(n1,n2)\n",
        "  elif opcion == \"3\":\n",
        "    resultado = multiplicar(n1,n2)\n",
        "  elif opcion == \"4\":\n",
        "    resultado = dividir(n1,n2)\n",
        "  print(resultado)\n",
        "  n1 =resultado  # antes n1 se pedía fuera del bucle, ahora n1 es el resultado, y así seguiremos operando\n",
        "  seguir = input(\"Seguir operado (s/n): \")\n",
        "  if seguir == \"n\":\n",
        "    break"
      ],
      "metadata": {
        "colab": {
          "base_uri": "https://localhost:8080/"
        },
        "id": "f25hCTVXjRYJ",
        "outputId": "054ea540-af87-4684-c985-812f687e5f01"
      },
      "execution_count": null,
      "outputs": [
        {
          "name": "stdout",
          "output_type": "stream",
          "text": [
            "Introduce número: 6\n",
            "1. Sumar\n",
            "2. Restar\n",
            "3. Multiplicar\n",
            "4. Dividir\n",
            "--> 1\n",
            "Introduce número: 4\n",
            "10.0\n",
            "Seguir operado (s/n): s\n",
            "1. Sumar\n",
            "2. Restar\n",
            "3. Multiplicar\n",
            "4. Dividir\n",
            "--> 3\n",
            "Introduce número: 12\n",
            "120.0\n",
            "Seguir operado (s/n): j\n",
            "1. Sumar\n",
            "2. Restar\n",
            "3. Multiplicar\n",
            "4. Dividir\n",
            "--> 2\n",
            "Introduce número: 80\n",
            "40.0\n",
            "Seguir operado (s/n): p\n",
            "1. Sumar\n",
            "2. Restar\n",
            "3. Multiplicar\n",
            "4. Dividir\n",
            "--> 4\n",
            "Introduce número: 8\n",
            "5.0\n",
            "Seguir operado (s/n): n\n"
          ]
        }
      ]
    },
    {
      "cell_type": "markdown",
      "source": [
        "## Reutilizando funciones\n",
        "* Crearemos un único programa que tenga las dos opciones de calculadora:\n",
        " - La opción de cálculo único\n",
        " - La opción de cálculo múltiple\n",
        "* El nuevo programa dispone de las dos opciones\n",
        "\n",
        "Las funciones que no devuelven nada en otros lenguajes se denominan procedimientos."
      ],
      "metadata": {
        "id": "hw7Wll5Ml5x2"
      }
    },
    {
      "cell_type": "code",
      "source": [
        "''' Calculadora con funciones '''\n",
        "\n",
        "def sumar(a,b):\n",
        "  return a + b\n",
        "\n",
        "def restar(a,b):\n",
        "  return a - b\n",
        "\n",
        "def multiplicar(a,b):\n",
        "  return a * b\n",
        "\n",
        "def dividir(a,b):\n",
        "  return a / b\n",
        "\n",
        "def menu_calculadora():\n",
        "  print(\"1. Sumar\")\n",
        "  print(\"2. Restar\")\n",
        "  print(\"3. Multiplicar\")\n",
        "  print(\"4. Dividir\")\n",
        "  opcion = input(\"--> \")\n",
        "  return opcion\n",
        "\n",
        "def calcular(op, n1, n2):\n",
        "  if o == \"1\":\n",
        "    resultado = sumar(n1,n2)\n",
        "  elif op == \"2\":\n",
        "    resultado = restar(n1,n2)\n",
        "  elif op == \"3\":\n",
        "    resultado = multiplicar(n1,n2)\n",
        "  elif op == \"4\":\n",
        "    resultado = dividir(n1,n2)\n",
        "  return resultado\n",
        "\n",
        "def tipo_calculo():\n",
        "  print(\"1. Cálculo único\")\n",
        "  print(\"1. Cálculo múltiple\")\n",
        "  tipo = input(\"--> \")\n",
        "  return tipo\n",
        "\n",
        "def calculo_unico():                           # procedimiento\n",
        "  print(\"CALCULO ÚNICO\")\n",
        "  while True:\n",
        "    op = menu_calculadora()\n",
        "    n1 = float(input(\"Introduce un número: \"))\n",
        "    n2 = float(input(\"Introduce un número: \"))\n",
        "    resultado = calcular(op, n1, n2)\n",
        "    print(\"Resultado: \"; resultado)\n",
        "    seguir = input(\"Seguir operando (s/n): \")\n",
        "    if seguir == \"n\":\n",
        "      break\n",
        "\n",
        "def calculo_multiple():                       # procedimiento\n",
        "  print(\"CALCULO MÚLTIPLE\")\n",
        "  n1 = float(input(\"Introduce un número: \"))\n",
        "  while True:\n",
        "    op = menu_calculadora()\n",
        "    n2 = float(input(\"Introduce un número: \"))\n",
        "    resultado = calcular(op, n1, n2)\n",
        "    print(\"Resultado: \"; resultado)\n",
        "    n1 = resultado\n",
        "    seguir = input(\"Seguir operando (s/n): \")\n",
        "    if seguir == \"n\":\n",
        "      break\n",
        "\n",
        "def main():\n",
        "  eleccion = tipo_calculo()\n",
        "  if eleccion == \"1\":\n",
        "    calculo_unico()\n",
        "  if eleccion == \"2\":\n",
        "    calculo_multiple\n",
        "\n",
        "main()"
      ],
      "metadata": {
        "id": "eoELxtyKo7K7"
      },
      "execution_count": null,
      "outputs": []
    },
    {
      "cell_type": "markdown",
      "source": [
        "# Funciones que devuelven varios valores\n",
        "Veamos una función que devuelve dos valores en forma de tupla."
      ],
      "metadata": {
        "id": "vyxgTq8WyYxq"
      }
    },
    {
      "cell_type": "markdown",
      "source": [
        "#### Método 1\n",
        "Recogemos el resultado en forma de tupla."
      ],
      "metadata": {
        "id": "ONm9A2M17zyH"
      }
    },
    {
      "cell_type": "code",
      "source": [
        "def operaciones(n):\n",
        "  doble = 2*n\n",
        "  triple = 3*n\n",
        "  return doble, triple\n",
        "\n",
        "n = 5\n",
        "resultado = operaciones(n)\n",
        "resultado"
      ],
      "metadata": {
        "id": "kh0d0W0n8C2D",
        "outputId": "e5806a2c-1b7c-421c-8c59-8e831e3f527b",
        "colab": {
          "base_uri": "https://localhost:8080/"
        }
      },
      "execution_count": null,
      "outputs": [
        {
          "output_type": "execute_result",
          "data": {
            "text/plain": [
              "(10, 15)"
            ]
          },
          "metadata": {},
          "execution_count": 4
        }
      ]
    },
    {
      "cell_type": "markdown",
      "source": [
        "#### Método 2\n",
        "La tupla de dos valores se asigna a dos variables."
      ],
      "metadata": {
        "id": "t_UILDf476gC"
      }
    },
    {
      "cell_type": "code",
      "source": [
        "def operaciones(n):\n",
        "  doble = 2*n\n",
        "  triple = 3*n\n",
        "  return doble, triple\n",
        "\n",
        "n = 5\n",
        "d,t = operaciones(n)\n",
        "print(f\"Siendo n={n}, el doble es {d} y el triple es {t}.\")"
      ],
      "metadata": {
        "id": "Ymp9Ih2366bl",
        "outputId": "d3fa6494-be8c-4fdf-e6a2-678566baaf69",
        "colab": {
          "base_uri": "https://localhost:8080/"
        }
      },
      "execution_count": null,
      "outputs": [
        {
          "output_type": "stream",
          "name": "stdout",
          "text": [
            "Siendo n=5, el doble es 10 y el triple es 15.\n"
          ]
        }
      ]
    },
    {
      "cell_type": "markdown",
      "source": [
        "### Convertir segundos en hh:mm:ss\n",
        "Dado un número de segundos, crear una función que los convierta en horas:minutos:segundos"
      ],
      "metadata": {
        "id": "jOTpiVtS8pRP"
      }
    },
    {
      "cell_type": "markdown",
      "source": [
        "#### Método 1"
      ],
      "metadata": {
        "id": "vvcLueJiyJXs"
      }
    },
    {
      "cell_type": "code",
      "source": [
        "def convertir(segundos):\n",
        "  h = segundos//3600\n",
        "  m = segundos%3600//60\n",
        "  # m = segundos //60 % 60  # otra forma de calcular los minutos\n",
        "  s = segundos%60\n",
        "  return h, m, s\n",
        "\n",
        "h, m, s = convertir(31555)\n",
        "print(f\"Tiempo:  {h}:{m}:{s}\")"
      ],
      "metadata": {
        "id": "xhP2IMX988aG",
        "outputId": "6c7dfa2d-9419-48fd-c269-bddee847ebe4",
        "colab": {
          "base_uri": "https://localhost:8080/"
        }
      },
      "execution_count": null,
      "outputs": [
        {
          "output_type": "stream",
          "name": "stdout",
          "text": [
            "Tiempo:  8:45:55\n"
          ]
        }
      ]
    },
    {
      "cell_type": "markdown",
      "source": [
        "#### Método 2"
      ],
      "metadata": {
        "id": "Z8YHLn5pyM17"
      }
    },
    {
      "cell_type": "code",
      "source": [
        "def convertir(segundos):\n",
        "  minutos = segundos // 60\n",
        "  segundos_resto = segundos % 60\n",
        "  horas = minutos // 60\n",
        "  minutos_resto = minutos % 60\n",
        "  return horas, minutos_resto, segundos_resto\n",
        "\n",
        "tiempo = convertir(31555)\n",
        "print(f\"Tiempo:  {tiempo[0]}:{tiempo[1]}:{tiempo[2]}\")"
      ],
      "metadata": {
        "id": "DyxE8fObyPHt",
        "outputId": "432b7209-dca1-4dfb-f774-89a26a08666e",
        "colab": {
          "base_uri": "https://localhost:8080/"
        }
      },
      "execution_count": null,
      "outputs": [
        {
          "output_type": "stream",
          "name": "stdout",
          "text": [
            "Tiempo:  8:45:55\n"
          ]
        }
      ]
    },
    {
      "cell_type": "markdown",
      "source": [
        "# Número variable de argumentos\n",
        "* Veamos el caso de una función a la que pasamos un número de argumentos que puede variar."
      ],
      "metadata": {
        "id": "B59RL6GVb5XG"
      }
    },
    {
      "cell_type": "markdown",
      "source": [
        "#### Método 1 Función que solo vale para 4 notas\n",
        "* Calcula la nota media de 4 notas\n",
        "* Aquí el número de argumentos no es variable, es siempre 4"
      ],
      "metadata": {
        "id": "05CZVMCtcGWn"
      }
    },
    {
      "cell_type": "code",
      "source": [
        "def calcular_media(nota1, nota2, nota3, nota4):\n",
        "  ''' Calcula la nota media de 4 notas '''\n",
        "  return (nota1+nota2+nota3+nota4) / 4\n",
        "\n",
        "print(calcular_media(6,7,8,9))"
      ],
      "metadata": {
        "id": "q6hXJ8cncIUW",
        "outputId": "a5a65fe7-ea14-4f99-c4d6-9520dc60b0e2",
        "colab": {
          "base_uri": "https://localhost:8080/"
        }
      },
      "execution_count": 4,
      "outputs": [
        {
          "output_type": "stream",
          "name": "stdout",
          "text": [
            "7.5\n"
          ]
        }
      ]
    },
    {
      "cell_type": "markdown",
      "source": [
        "#### Método 2\n",
        "* Usando el **desempaquetado** de listas (o tuplas) con el asterisco\n",
        "* Si el asterisco va en los argumentos lo que hacemos es desempaquetar los datos"
      ],
      "metadata": {
        "id": "Z_TRFPdNdClc"
      }
    },
    {
      "cell_type": "code",
      "source": [
        "def calcular_media(nota1, nota2, nota3, nota4):\n",
        "  ''' Calcula la nota media de una lista de notas '''\n",
        "  return (nota1+nota2+nota3+nota4) / 4\n",
        "\n",
        "notas = [6,7,8,9]\n",
        "print(calcular_media(*notas))  # desempaquetado de datos"
      ],
      "metadata": {
        "id": "GRBkKxUwdJZg",
        "outputId": "e3a57597-2bfc-4f28-be16-2e965c4b5f83",
        "colab": {
          "base_uri": "https://localhost:8080/"
        }
      },
      "execution_count": 6,
      "outputs": [
        {
          "output_type": "stream",
          "name": "stdout",
          "text": [
            "7.5\n"
          ]
        }
      ]
    },
    {
      "cell_type": "markdown",
      "source": [
        "#### Método 3"
      ],
      "metadata": {
        "id": "N2koAI6Vdydp"
      }
    },
    {
      "cell_type": "code",
      "source": [
        "def calcular_media(notas):\n",
        "  ''' Calcula la nota media de una lista de notas '''\n",
        "  suma = 0\n",
        "  for nota in notas:\n",
        "    suma += nota\n",
        "  media = suma / len(notas)\n",
        "  return media\n",
        "\n",
        "notas = [6,7,8,9]\n",
        "print(calcular_media(notas))"
      ],
      "metadata": {
        "id": "8yl_1UfbfBJm",
        "outputId": "912c57df-99c5-4970-ea7d-37e1713caef1",
        "colab": {
          "base_uri": "https://localhost:8080/"
        }
      },
      "execution_count": 20,
      "outputs": [
        {
          "output_type": "stream",
          "name": "stdout",
          "text": [
            "7.5\n"
          ]
        }
      ]
    },
    {
      "cell_type": "markdown",
      "source": [
        "#### Método 4\n",
        "Igual que el anterior pero ahora todo va en el ```return```."
      ],
      "metadata": {
        "id": "nbXv53vhfy9m"
      }
    },
    {
      "cell_type": "code",
      "source": [
        "def calcular_media(notas):\n",
        "  ''' Calcula la nota media de una lista de notas '''\n",
        "  return sum(notas) / len(notas)\n",
        "\n",
        "notas = [6,7,8,9]\n",
        "print(calcular_media(notas))"
      ],
      "metadata": {
        "id": "S6VrCHlf0TCU",
        "outputId": "8530c8b3-914d-4c90-afef-7b0d91dd6746",
        "colab": {
          "base_uri": "https://localhost:8080/"
        }
      },
      "execution_count": 4,
      "outputs": [
        {
          "output_type": "stream",
          "name": "stdout",
          "text": [
            "7.5\n"
          ]
        }
      ]
    },
    {
      "cell_type": "markdown",
      "source": [
        "#### Método 5\n",
        "* Usando el **empaquetado** de tuplas en la definición de la función.\n",
        "* Los parámetros de las notas se recogen usando el asterisco.\n",
        "* Esto permite pasar una serie variable de argumentos.\n",
        "* Vamos a pasarle cuatro notas individuales, pero podrían ser tres u otra cantidad variable."
      ],
      "metadata": {
        "id": "kOXoHHWs0yLf"
      }
    },
    {
      "cell_type": "code",
      "source": [
        "def calcular_media(*notas):\n",
        "  ''' Calcula la nota media de una serie idefinida de notas '''\n",
        "  return sum(notas) / len(notas)\n",
        "\n",
        "nota1 = 6\n",
        "nota2 = 7\n",
        "nota3 = 8\n",
        "nota4 = 9\n",
        "print(calcular_media(nota1, nota2, nota3, nota4))\n"
      ],
      "metadata": {
        "id": "tN1GiQn811ht",
        "outputId": "125ce636-864c-484a-efb1-059b9040dda7",
        "colab": {
          "base_uri": "https://localhost:8080/"
        }
      },
      "execution_count": 7,
      "outputs": [
        {
          "output_type": "stream",
          "name": "stdout",
          "text": [
            "7.5\n"
          ]
        }
      ]
    },
    {
      "cell_type": "markdown",
      "source": [
        "## Objetos mutables como argumentos a una función\n",
        "Precaución a la hora de definir objetos mutables, como las listas."
      ],
      "metadata": {
        "id": "VelXZDMP34GK"
      }
    },
    {
      "cell_type": "markdown",
      "source": [
        "### Ejemplo 1\n",
        "* Haciendo la media de las notas que vienen en dos listas."
      ],
      "metadata": {
        "id": "jrqBEGEP5vf5"
      }
    },
    {
      "cell_type": "markdown",
      "source": [
        "#### Método 1\n",
        "* La siguiente solución funciona a la hora de calcular la nota media de las dos listas pero no es aconsejable.\n",
        "* En el siguiente código la lista1 no es una variable local de la función sino que ya venía definida\n",
        "* Al usar ```extend``` se ha modificado la lista notas1"
      ],
      "metadata": {
        "id": "4bJpvTfN54uR"
      }
    },
    {
      "cell_type": "code",
      "source": [
        "def calcular_media(lista1, lista2):\n",
        "  lista1.extend(lista2)               # al usar extend ahora la lista1 contiene todas las notas\n",
        "  return sum(lista1) / len(lista1)\n",
        "\n",
        "notas1 = [5,7,9]\n",
        "notas2 = [6,8,10]\n",
        "\n",
        "print(notas1) # imprimimos las notas1 antes de llamar a la función\n",
        "\n",
        "nota_media = calcular_media(notas1, notas2)\n",
        "print(\"Media:\", nota_media)\n",
        "\n",
        "print(notas1)  # imprimimos las notas1 después de llamar a la función\n",
        "# el problema es que ahora la lista notas1 es la extendida y al imprimirla puede confundir"
      ],
      "metadata": {
        "id": "a276Wdmm6BiP",
        "outputId": "0a71656b-e073-4eec-c916-0debd9f6642e",
        "colab": {
          "base_uri": "https://localhost:8080/"
        }
      },
      "execution_count": 11,
      "outputs": [
        {
          "output_type": "stream",
          "name": "stdout",
          "text": [
            "7.5\n",
            "[5, 7, 9, 6, 8, 10]\n",
            "[6, 8, 10]\n"
          ]
        }
      ]
    },
    {
      "cell_type": "markdown",
      "source": [
        "#### Método 2\n",
        "* Definiendo la lista total de forma que no se modifique la lista notas1 definida previamente fuera de la función.\n",
        "* Hay que tener esta precaución."
      ],
      "metadata": {
        "id": "r5ep6Tk-9nsW"
      }
    },
    {
      "cell_type": "code",
      "source": [
        "def calcular_media(lista1, lista2):\n",
        "  total = lista1 + lista2   # tenemos la precaución de definir total, una variable local\n",
        "  return sum(total) / len(total)\n",
        "\n",
        "notas1 = [5,7,9]\n",
        "notas2 = [6,8,10]\n",
        "\n",
        "print(notas1) # imprimimos las notas1 antes de llamar a la función\n",
        "\n",
        "nota_media = calcular_media(notas1, notas2)\n",
        "print(\"Media:\", nota_media)\n",
        "\n",
        "print(notas1) # vemos que la lista notas1 no se ha modificado"
      ],
      "metadata": {
        "id": "NaXy4yC592R2",
        "outputId": "9a2185ff-a052-4e04-8feb-00bf71ce7c17",
        "colab": {
          "base_uri": "https://localhost:8080/"
        }
      },
      "execution_count": 13,
      "outputs": [
        {
          "output_type": "stream",
          "name": "stdout",
          "text": [
            "[5, 7, 9]\n",
            "Media: 7.5\n",
            "[5, 7, 9]\n"
          ]
        }
      ]
    },
    {
      "cell_type": "markdown",
      "source": [
        "### Ejemplo 2"
      ],
      "metadata": {
        "id": "yb3oqIG0-hvs"
      }
    },
    {
      "cell_type": "markdown",
      "source": [
        "#### Método 1\n",
        "* Método incorrecto, no deseable, ya que se altera la lista al ejecutarse la función"
      ],
      "metadata": {
        "id": "8M74ib5__ucu"
      }
    },
    {
      "cell_type": "code",
      "source": [
        "def mejores_tres_notas(lista):\n",
        "  lista.sort(reverse=True)\n",
        "  return lista[:3]\n",
        "\n",
        "notas = [3,5,8,6,2,9,4,7]\n",
        "print(notas)               # imprimiendo las notas antes de ejecutar la función\n",
        "\n",
        "print(\"Las mejores: \", mejores_tres_notas(notas))\n",
        "print(notas)               # imprimiendo las notas después de ejecutar la función\n",
        "# el problema es que la lista notas ha cambiado su orden después de ejecutarse la función"
      ],
      "metadata": {
        "id": "uu53FpJB-mTo",
        "outputId": "4f789cb4-bcdf-4047-bd22-77ca9cc8bffb",
        "colab": {
          "base_uri": "https://localhost:8080/"
        }
      },
      "execution_count": 18,
      "outputs": [
        {
          "output_type": "stream",
          "name": "stdout",
          "text": [
            "[3, 5, 8, 6, 2, 9, 4, 7]\n",
            "Las mejores:  [9, 8, 7]\n",
            "[9, 8, 7, 6, 5, 4, 3, 2]\n"
          ]
        }
      ]
    },
    {
      "cell_type": "markdown",
      "source": [
        "#### Método 2\n",
        "* Haciendo una copia de la lista solucionamos el problema.\n",
        "* Haciendo una copia logramos dejar la lista original intacta"
      ],
      "metadata": {
        "id": "dRC0jas-_1sj"
      }
    },
    {
      "cell_type": "code",
      "source": [
        "def mejores_tres_notas(lista):\n",
        "  copia = list(lista)\n",
        "  copia.sort(reverse=True)\n",
        "  return copia[:3]         # devuelve los tres primeros elementos de la copia\n",
        "\n",
        "notas = [3,5,8,6,2,9,4,7]\n",
        "print(notas)               # imprimiendo las notas antes de ejecutar la función\n",
        "\n",
        "print(\"Las mejores: \", mejores_tres_notas(notas))\n",
        "print(notas)               # imprimiendo las notas después de ejecutar la función"
      ],
      "metadata": {
        "id": "u4RqiCFA_8bJ",
        "outputId": "0f901a2c-c1a9-433b-f11b-fa09aa5ff876",
        "colab": {
          "base_uri": "https://localhost:8080/"
        }
      },
      "execution_count": 21,
      "outputs": [
        {
          "output_type": "stream",
          "name": "stdout",
          "text": [
            "[3, 5, 8, 6, 2, 9, 4, 7]\n",
            "Las mejores:  [9, 8, 7]\n",
            "[3, 5, 8, 6, 2, 9, 4, 7]\n"
          ]
        }
      ]
    }
  ]
}