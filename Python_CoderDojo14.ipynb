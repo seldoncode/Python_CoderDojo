{
  "nbformat": 4,
  "nbformat_minor": 0,
  "metadata": {
    "colab": {
      "name": "Python_CoderDojo14.ipynb",
      "provenance": [],
      "collapsed_sections": [],
      "authorship_tag": "ABX9TyNUrk8yh5ZW7zTMgM20SC8Z",
      "include_colab_link": true
    },
    "kernelspec": {
      "name": "python3",
      "display_name": "Python 3"
    },
    "language_info": {
      "name": "python"
    }
  },
  "cells": [
    {
      "cell_type": "markdown",
      "metadata": {
        "id": "view-in-github",
        "colab_type": "text"
      },
      "source": [
        "<a href=\"https://colab.research.google.com/github/seldoncode/Python_CoderDojo/blob/main/Python_CoderDojo14.ipynb\" target=\"_parent\"><img src=\"https://colab.research.google.com/assets/colab-badge.svg\" alt=\"Open In Colab\"/></a>"
      ]
    },
    {
      "cell_type": "markdown",
      "metadata": {
        "id": "b_n3uqr_wl9w"
      },
      "source": [
        "# Eliminar elementos de una lista\n",
        "## Usando ```remove```\n",
        "* Tanto el método ```append``` como el método ```remove``` no devuelven nada, simplemente modifican la lista sobre la que se aplican.\n",
        "* El método ```remove``` elimina el elemento indicado, pero si hay dos solo elimina el primero.\n",
        "* Si queremos eliminar con ```remove``` un elemento que no existe da error."
      ]
    },
    {
      "cell_type": "code",
      "metadata": {
        "colab": {
          "base_uri": "https://localhost:8080/"
        },
        "id": "YwtRyVEEwjV_",
        "outputId": "e5664258-f0bc-4ee0-a4d4-105ded9d4314"
      },
      "source": [
        "compra = [\"pan\", \"aceite\", \"azúcar\"]\n",
        "compra.append(\"pasta\")                 # añadimos un elemento con append\n",
        "compra"
      ],
      "execution_count": null,
      "outputs": [
        {
          "output_type": "execute_result",
          "data": {
            "text/plain": [
              "['pan', 'aceite', 'azúcar', 'pasta']"
            ]
          },
          "metadata": {},
          "execution_count": 1
        }
      ]
    },
    {
      "cell_type": "code",
      "metadata": {
        "colab": {
          "base_uri": "https://localhost:8080/"
        },
        "id": "cZRdJ5kqxFxL",
        "outputId": "afe94632-19cd-4cda-a6f7-f4c1f8b637fa"
      },
      "source": [
        "compra.remove(\"azúcar\")\n",
        "compra"
      ],
      "execution_count": null,
      "outputs": [
        {
          "output_type": "execute_result",
          "data": {
            "text/plain": [
              "['pan', 'aceite', 'pasta']"
            ]
          },
          "metadata": {},
          "execution_count": 2
        }
      ]
    },
    {
      "cell_type": "code",
      "metadata": {
        "colab": {
          "base_uri": "https://localhost:8080/"
        },
        "id": "rL95TUI5yAXH",
        "outputId": "5f104169-234c-478b-dc73-cffeb860cc5c"
      },
      "source": [
        "compra.append('pan')   # ahora está repetido el pan\n",
        "print(compra)\n",
        "compra.remove('pan')   # elimina solo el primer elemento de los repetidos\n",
        "print(compra)"
      ],
      "execution_count": null,
      "outputs": [
        {
          "output_type": "stream",
          "name": "stdout",
          "text": [
            "['pan', 'aceite', 'pasta', 'pan', 'pan']\n",
            "['aceite', 'pasta', 'pan', 'pan']\n"
          ]
        }
      ]
    },
    {
      "cell_type": "code",
      "metadata": {
        "id": "6He0QUOtydQP"
      },
      "source": [
        "#compra.remove('tomate')       # da error al intentar eliminar un elemento que no existe en la lista"
      ],
      "execution_count": null,
      "outputs": []
    },
    {
      "cell_type": "markdown",
      "metadata": {
        "id": "v8ec26JS0jnO"
      },
      "source": [
        "### Lista de la compra\n",
        "1. Mostrar un mensaje de presentación\n",
        "2. Mostrar menú opciones: Pedir que se elija una opción.\n",
        " - Añadir producto\n",
        " - Eliminar producto\n",
        " - Mostrar lista\n",
        " - Salir\n",
        "3. Opción \"Añadir producto\": Pedir nombre del producto.\n",
        " - Si ya está en la lista indicarlo\n",
        " - sino añadirlo\n",
        "4. Opción \"Eliminar producto\": Pedir nombre del producto.\n",
        " - Si no está indicarlo\n",
        " - sino eliminarlo\n",
        "5. Opción \"Mostrar lista\": Mostrar la lista.\n",
        "6. Opción \"Salir\": Salir del programa.\n",
        "7. Opción incorrecta: Indicarlo.\n",
        "8. Tras cada acción volver al menú, hasta que se elija \"Salir\".\n",
        "\n"
      ]
    },
    {
      "cell_type": "code",
      "metadata": {
        "colab": {
          "base_uri": "https://localhost:8080/"
        },
        "id": "kMVp4Kqf2FFQ",
        "outputId": "53a05bfa-4899-4bd3-ac0f-3dd3713fd8a7"
      },
      "source": [
        "menu = '''Elija una de las siguienes opciones:\n",
        "       1. Añadir producto\n",
        "       2. Eliminar producto\n",
        "       3. Mostrar lista\n",
        "       4. Salir \n",
        "'''\n",
        "lista = []\n",
        "while True:\n",
        "  print()\n",
        "  print(\"LISTA DE LA COMPRA\".center(40))\n",
        "  print(\"=\"*40)\n",
        "  print(menu)\n",
        "  n = int(input(\"número → \"))\n",
        "  if n==1:\n",
        "    producto = input(\"Indique el nombre del producto que desea añadir: \").capitalize()\n",
        "    if producto in lista:\n",
        "      print(\"Este producto ya está en la lista. No se duplicará.\")\n",
        "    else:\n",
        "      lista.append(producto)\n",
        "      print(f\"El producto {producto} ha sido añadido a la lista.\")\n",
        "  elif n == 2:\n",
        "    producto = input(\"Indique el nombre del producto que desea eliminar: \").capitalize()\n",
        "    if producto in lista:\n",
        "      lista.remove(producto)\n",
        "      print(f\"El producto {producto} ha sido eliminado de la lista.\")\n",
        "    else:\n",
        "      print(\"Este producto no está en la lista. No se puede eliminar.\")\n",
        "  elif n == 3:\n",
        "      for i in range(len(lista)):\n",
        "        print(f\"\\t{i+1}. {lista[i]}\")\n",
        "  elif n==4:\n",
        "    print(\"Fin del programa\")\n",
        "    break\n",
        "  else:\n",
        "    print(\"Debe elegir una opción permitida\")"
      ],
      "execution_count": null,
      "outputs": [
        {
          "output_type": "stream",
          "name": "stdout",
          "text": [
            "\n",
            "           LISTA DE LA COMPRA           \n",
            "========================================\n",
            "Elija una de las siguienes opciones:\n",
            "       1. Añadir producto\n",
            "       2. Eliminar producto\n",
            "       3. Mostrar lista\n",
            "       4. Salir \n",
            "\n",
            "número → 1\n",
            "Indique el nombre del producto que desea añadir: pan\n",
            "El producto Pan ha sido añadido a la lista.\n",
            "\n",
            "           LISTA DE LA COMPRA           \n",
            "========================================\n",
            "Elija una de las siguienes opciones:\n",
            "       1. Añadir producto\n",
            "       2. Eliminar producto\n",
            "       3. Mostrar lista\n",
            "       4. Salir \n",
            "\n",
            "número → 1\n",
            "Indique el nombre del producto que desea añadir: leche\n",
            "El producto Leche ha sido añadido a la lista.\n",
            "\n",
            "           LISTA DE LA COMPRA           \n",
            "========================================\n",
            "Elija una de las siguienes opciones:\n",
            "       1. Añadir producto\n",
            "       2. Eliminar producto\n",
            "       3. Mostrar lista\n",
            "       4. Salir \n",
            "\n",
            "número → 1\n",
            "Indique el nombre del producto que desea añadir: tomate\n",
            "El producto Tomate ha sido añadido a la lista.\n",
            "\n",
            "           LISTA DE LA COMPRA           \n",
            "========================================\n",
            "Elija una de las siguienes opciones:\n",
            "       1. Añadir producto\n",
            "       2. Eliminar producto\n",
            "       3. Mostrar lista\n",
            "       4. Salir \n",
            "\n",
            "número → 3\n",
            "\t1. Pan\n",
            "\t2. Leche\n",
            "\t3. Tomate\n",
            "\n",
            "           LISTA DE LA COMPRA           \n",
            "========================================\n",
            "Elija una de las siguienes opciones:\n",
            "       1. Añadir producto\n",
            "       2. Eliminar producto\n",
            "       3. Mostrar lista\n",
            "       4. Salir \n",
            "\n",
            "número → 2\n",
            "Indique el nombre del producto que desea eliminar: pasta\n",
            "Este producto no está en la lista. No se puede eliminar.\n",
            "\n",
            "           LISTA DE LA COMPRA           \n",
            "========================================\n",
            "Elija una de las siguienes opciones:\n",
            "       1. Añadir producto\n",
            "       2. Eliminar producto\n",
            "       3. Mostrar lista\n",
            "       4. Salir \n",
            "\n",
            "número → 2\n",
            "Indique el nombre del producto que desea eliminar: leche\n",
            "El producto Leche ha sido eliminado de la lista.\n",
            "\n",
            "           LISTA DE LA COMPRA           \n",
            "========================================\n",
            "Elija una de las siguienes opciones:\n",
            "       1. Añadir producto\n",
            "       2. Eliminar producto\n",
            "       3. Mostrar lista\n",
            "       4. Salir \n",
            "\n",
            "número → 3\n",
            "\t1. Pan\n",
            "\t2. Tomate\n",
            "\n",
            "           LISTA DE LA COMPRA           \n",
            "========================================\n",
            "Elija una de las siguienes opciones:\n",
            "       1. Añadir producto\n",
            "       2. Eliminar producto\n",
            "       3. Mostrar lista\n",
            "       4. Salir \n",
            "\n",
            "número → 4\n",
            "Fin del programa\n"
          ]
        }
      ]
    },
    {
      "cell_type": "markdown",
      "metadata": {
        "id": "uKNDs_uK8ysP"
      },
      "source": [
        "### Eliminar los meses con cierta letra\n",
        "Eliminar los mese con la letra b.\n",
        "* meses = ['enero','febrero','marzo','abril','mayo','junio','julio','agosto','septiembre','octubre','noviembre','diciembre']"
      ]
    },
    {
      "cell_type": "markdown",
      "metadata": {
        "id": "bahLcNJm7GZW"
      },
      "source": [
        "#### Solución incorrecta\n",
        "* La siguiente solución no es correcta.\n",
        "* No funciona bien.\n",
        "* No da error pero el resultado es incorrecto.\n",
        "* El motivo es que la lista meses con ```remove``` se va alterando cuando ya ha comenzado el bucle ```for```\n",
        "* Esto supone que la lista puede cambiar en cada iteración y por lo tanto el bucle ```for``` no lleva bien la cuenta de por que elemento va. \n",
        "* Cuando comienza el bucle ```for``` la lista meses tiene 12 elementos, pero a medida que ```remove``` actúa la lista meses va cambiando el número de elementos pero el bucle no se adapta."
      ]
    },
    {
      "cell_type": "code",
      "metadata": {
        "colab": {
          "base_uri": "https://localhost:8080/"
        },
        "id": "eYqXenFp9RGO",
        "outputId": "22cc9924-a775-4098-ab7f-ae0044856a92"
      },
      "source": [
        "meses = ['enero','febrero','marzo','abril','mayo','junio','julio','agosto','septiembre','octubre','noviembre','diciembre']\n",
        "\n",
        "###############  C Ó D I G O     Q U E     N O      F U N C I O N A     B I E N    ###################\n",
        "\n",
        "for mes in meses:\n",
        "  if 'b' in mes:\n",
        "    meses.remove(mes)\n",
        "\n",
        "meses            # observe que en el resultado aparecen octubre y diciembre que no deberían aparecer ya que tienen letra 'b'       "
      ],
      "execution_count": 1,
      "outputs": [
        {
          "output_type": "execute_result",
          "data": {
            "text/plain": [
              "['enero', 'marzo', 'mayo', 'junio', 'julio', 'agosto', 'octubre', 'diciembre']"
            ]
          },
          "metadata": {},
          "execution_count": 1
        }
      ]
    },
    {
      "cell_type": "markdown",
      "metadata": {
        "id": "1c_qxLrDDDeb"
      },
      "source": [
        "#### Solución 1\n",
        "Haciendo una copia independiente de la lista meses."
      ]
    },
    {
      "cell_type": "code",
      "metadata": {
        "colab": {
          "base_uri": "https://localhost:8080/"
        },
        "id": "h3YTlw6QDRHF",
        "outputId": "c896f5a9-a5e9-418a-fc64-9fd0ae51f88b"
      },
      "source": [
        "meses = ['enero','febrero','marzo','abril','mayo','junio','julio','agosto','septiembre','octubre','noviembre','diciembre']\n",
        "copia_meses = list(meses)\n",
        "for mes in copia_meses:\n",
        "  if 'b' in mes:\n",
        "    meses.remove(mes)\n",
        "\n",
        "meses"
      ],
      "execution_count": 25,
      "outputs": [
        {
          "output_type": "execute_result",
          "data": {
            "text/plain": [
              "['enero', 'marzo', 'mayo', 'junio', 'julio', 'agosto']"
            ]
          },
          "metadata": {},
          "execution_count": 25
        }
      ]
    },
    {
      "cell_type": "markdown",
      "metadata": {
        "id": "uMKQ65oS9Xo-"
      },
      "source": [
        "#### Solución 2\n",
        "Comenzando por el final."
      ]
    },
    {
      "cell_type": "code",
      "metadata": {
        "colab": {
          "base_uri": "https://localhost:8080/"
        },
        "id": "4xEgbnnB8S9c",
        "outputId": "5b00801d-e577-4c78-b165-93bfa35d67ea"
      },
      "source": [
        "meses = ['enero','febrero','marzo','abril','mayo','junio','julio','agosto','septiembre','octubre','noviembre','diciembre']\n",
        "\n",
        "for i in range(len(meses),0,-1):\n",
        "  if 'b' in meses[i-1]:              # se pone i-1 porque el mes 12 tiene índice 11, y el mes 1 tiene índice 0\n",
        "    meses.remove(meses[i-1])\n",
        "\n",
        "meses"
      ],
      "execution_count": 9,
      "outputs": [
        {
          "output_type": "execute_result",
          "data": {
            "text/plain": [
              "['enero', 'marzo', 'mayo', 'junio', 'julio', 'agosto']"
            ]
          },
          "metadata": {},
          "execution_count": 9
        }
      ]
    },
    {
      "cell_type": "markdown",
      "metadata": {
        "id": "y4iwPmdP9h4U"
      },
      "source": [
        "#### Solución 3\n",
        "Creando otra lista con los resultados que pasan el filtro."
      ]
    },
    {
      "cell_type": "code",
      "metadata": {
        "colab": {
          "base_uri": "https://localhost:8080/"
        },
        "id": "VgSyuRnB9p96",
        "outputId": "42b2d82b-4adb-4eb7-9839-ac3310903574"
      },
      "source": [
        "meses = ['enero','febrero','marzo','abril','mayo','junio','julio','agosto','septiembre','octubre','noviembre','diciembre']\n",
        "resultado = []\n",
        "for mes in meses:\n",
        "  if 'b' not in mes:\n",
        "    resultado.append(mes)\n",
        "\n",
        "resultado"
      ],
      "execution_count": 11,
      "outputs": [
        {
          "output_type": "execute_result",
          "data": {
            "text/plain": [
              "['enero', 'marzo', 'mayo', 'junio', 'julio', 'agosto']"
            ]
          },
          "metadata": {},
          "execution_count": 11
        }
      ]
    },
    {
      "cell_type": "markdown",
      "metadata": {
        "id": "tIwQAMNCCEss"
      },
      "source": [
        "#### Solución 4\n",
        "* Usando un bucle ```while``` y controlando si el contador del índex (i) avanza o no, y controlando la longitud (n) de la lista meses.\n",
        "* Es una solución que posiblemente resulta más complicada que las anteriores"
      ]
    },
    {
      "cell_type": "code",
      "metadata": {
        "colab": {
          "base_uri": "https://localhost:8080/"
        },
        "id": "Mlol23O1AHfA",
        "outputId": "966f0009-74a2-4c28-bfbe-19c7758b0f62"
      },
      "source": [
        "meses = ['enero','febrero','marzo','abril','mayo','junio','julio','agosto','septiembre','octubre','noviembre','diciembre']\n",
        "n = len(meses)         # inicialmente n es 12 pero luego se acorta cuando removemos un mes\n",
        "i = 0\n",
        "while i < n:\n",
        "  if 'b' in meses[i]:\n",
        "    meses.remove(meses[i])\n",
        "    n -= 1\n",
        "  else:\n",
        "    i += 1\n",
        "\n",
        "meses "
      ],
      "execution_count": 22,
      "outputs": [
        {
          "output_type": "execute_result",
          "data": {
            "text/plain": [
              "['enero', 'marzo', 'mayo', 'junio', 'julio', 'agosto']"
            ]
          },
          "metadata": {},
          "execution_count": 22
        }
      ]
    },
    {
      "cell_type": "markdown",
      "metadata": {
        "id": "zgmxWsY5EWqq"
      },
      "source": [
        "### Eliminar elementos repetidos de una lista"
      ]
    },
    {
      "cell_type": "markdown",
      "metadata": {
        "id": "qNyjELqGFxH3"
      },
      "source": [
        "#### Solución 1\n",
        "Creando una lista auxiliar."
      ]
    },
    {
      "cell_type": "code",
      "metadata": {
        "colab": {
          "base_uri": "https://localhost:8080/"
        },
        "id": "XFB3kJ2IGqNH",
        "outputId": "258cf5df-fc73-4cfb-be45-eb4dbca08ce4"
      },
      "source": [
        "numeros = [1,2,3,2,5,3,4,6,5,7,8]\n",
        "unicos = []\n",
        "for n in numeros:\n",
        "  if n not in unicos:\n",
        "    unicos.append(n)\n",
        "unicos"
      ],
      "execution_count": 31,
      "outputs": [
        {
          "output_type": "execute_result",
          "data": {
            "text/plain": [
              "[1, 2, 3, 5, 4, 6, 7, 8]"
            ]
          },
          "metadata": {},
          "execution_count": 31
        }
      ]
    },
    {
      "cell_type": "markdown",
      "metadata": {
        "id": "UidoRVW4HP5h"
      },
      "source": [
        "#### Solución 2\n",
        "Creando una copia de la lista."
      ]
    },
    {
      "cell_type": "code",
      "metadata": {
        "colab": {
          "base_uri": "https://localhost:8080/"
        },
        "id": "m0irvTAtHSfJ",
        "outputId": "9f0a81f0-193e-4c86-be36-7ea42ec99869"
      },
      "source": [
        "numeros = [1,2,3,2,5,3,4,6,5,7,8]\n",
        "unicos = []\n",
        "numeros_copia = list(numeros)\n",
        "\n",
        "for n in numeros_copia:\n",
        "  if n not in unicos:\n",
        "    unicos.append(n)\n",
        "  else:\n",
        "    numeros.remove(n)\n",
        "\n",
        "print(unicos)        # ambas listas (unicos y numeros) contienen los elementos sin repetición\n",
        "print(numeros)"
      ],
      "execution_count": 32,
      "outputs": [
        {
          "output_type": "stream",
          "name": "stdout",
          "text": [
            "[1, 2, 3, 5, 4, 6, 7, 8]\n",
            "[1, 2, 3, 4, 6, 5, 7, 8]\n"
          ]
        }
      ]
    },
    {
      "cell_type": "markdown",
      "metadata": {
        "id": "94FQl3vgFrjO"
      },
      "source": [
        "#### Solución 3.1.\n",
        "Comenzando por atrás."
      ]
    },
    {
      "cell_type": "code",
      "metadata": {
        "colab": {
          "base_uri": "https://localhost:8080/"
        },
        "id": "15NJT9nFJQ-7",
        "outputId": "4a6b4f62-5c06-43ed-dd29-fd05389bd423"
      },
      "source": [
        "numeros = [1,2,3,2,5,3,4,6,5,7,8]\n",
        "unicos = []\n",
        "\n",
        "for i in range(len(numeros)-1,-1,-1):\n",
        "  if numeros[i] not in unicos:\n",
        "    unicos.append(numeros[i])\n",
        "\n",
        "unicos"
      ],
      "execution_count": 36,
      "outputs": [
        {
          "output_type": "execute_result",
          "data": {
            "text/plain": [
              "[8, 7, 5, 6, 4, 3, 2, 1]"
            ]
          },
          "metadata": {},
          "execution_count": 36
        }
      ]
    },
    {
      "cell_type": "markdown",
      "metadata": {
        "id": "aD8R03R5KFlz"
      },
      "source": [
        "Solución 3.2.\n",
        "* Es una variante de la solución anterior.\n",
        "* Se quiere que la lista números al final también contenga los elementos sin repetición.\n",
        "* En la solución anterior la lista numeros queda inalterada (igual que al inicio)"
      ]
    },
    {
      "cell_type": "code",
      "metadata": {
        "colab": {
          "base_uri": "https://localhost:8080/"
        },
        "id": "Ns9L6SckGq_9",
        "outputId": "405f2866-9a84-4088-b058-f845fc0b0cf6"
      },
      "source": [
        "numeros = [1,2,3,2,5,3,4,6,5,7,8]\n",
        "unicos = []\n",
        "\n",
        "for i in range(len(numeros)-1,-1,-1):\n",
        "  if numeros[i] not in unicos:\n",
        "    unicos.append(numeros[i])\n",
        "  else:\n",
        "    numeros.remove(numeros[i])\n",
        "\n",
        "print(unicos)        # ambas listas (unicos y numeros) contienen los elementos sin repetición\n",
        "print(numeros)"
      ],
      "execution_count": 33,
      "outputs": [
        {
          "output_type": "stream",
          "name": "stdout",
          "text": [
            "[8, 7, 5, 6, 4, 3, 2, 1]\n",
            "[1, 2, 3, 4, 6, 5, 7, 8]\n"
          ]
        }
      ]
    },
    {
      "cell_type": "markdown",
      "metadata": {
        "id": "06bBW2C3GfKz"
      },
      "source": [
        "#### Solución 4\n",
        "Usando ```count```, que cuenta cuantas veces aparece un elemento en una lista."
      ]
    },
    {
      "cell_type": "code",
      "metadata": {
        "colab": {
          "base_uri": "https://localhost:8080/"
        },
        "id": "uJGen5hLEdom",
        "outputId": "fe109490-425d-462c-966f-b67039c0adae"
      },
      "source": [
        "numeros = [1,2,3,2,5,3,4,6,5,7,8]\n",
        "for i in range(len(numeros)-1,-1,-1):\n",
        "  if numeros.count(numeros[i])>1:\n",
        "    numeros.remove(numeros[i])\n",
        "\n",
        "numeros"
      ],
      "execution_count": 34,
      "outputs": [
        {
          "output_type": "execute_result",
          "data": {
            "text/plain": [
              "[1, 2, 3, 4, 6, 5, 7, 8]"
            ]
          },
          "metadata": {},
          "execution_count": 34
        }
      ]
    },
    {
      "cell_type": "markdown",
      "metadata": {
        "id": "mWKQOSe7I8PK"
      },
      "source": [
        "## La sentencia ```del```\n",
        "* Elimina elementos de una lista\n",
        "* Elimina variables\n"
      ]
    },
    {
      "cell_type": "code",
      "metadata": {
        "id": "WzI2RmLAKnhj"
      },
      "source": [
        "x = 5\n",
        "del x     # con esto eliminamos la variable x. También se puede poner del(x)\n",
        "#x        # da ERROR porque la variable x ya no existe"
      ],
      "execution_count": 39,
      "outputs": []
    },
    {
      "cell_type": "code",
      "metadata": {
        "id": "l3rP7mvWLG6i"
      },
      "source": [
        "lista = [1,2,3]\n",
        "del lista        # elimina la lista. También se puede poner del(lista)"
      ],
      "execution_count": 41,
      "outputs": []
    },
    {
      "cell_type": "markdown",
      "metadata": {
        "id": "GuDgzDw7Lpth"
      },
      "source": [
        "## Eliminando un elemento de una lista"
      ]
    },
    {
      "cell_type": "code",
      "metadata": {
        "colab": {
          "base_uri": "https://localhost:8080/"
        },
        "id": "lMJ-LQECLvGP",
        "outputId": "2a5702fa-127e-47c6-e0ed-16b3376e570d"
      },
      "source": [
        "numeros = [1, 2, 3, 4, 5, 6, 7, 8, 9]\n",
        "del numeros[0]                            # eliminamos el elemento de índice 0\n",
        "numeros"
      ],
      "execution_count": 44,
      "outputs": [
        {
          "output_type": "execute_result",
          "data": {
            "text/plain": [
              "[2, 3, 4, 5, 6, 7, 8, 9]"
            ]
          },
          "metadata": {},
          "execution_count": 44
        }
      ]
    },
    {
      "cell_type": "markdown",
      "metadata": {
        "id": "DOaYlauEMG5s"
      },
      "source": [
        "## Eliminando segmentos de una lista"
      ]
    },
    {
      "cell_type": "code",
      "metadata": {
        "colab": {
          "base_uri": "https://localhost:8080/"
        },
        "id": "CyO9es4MMMPd",
        "outputId": "d3e80d8c-7a35-46a2-9f1e-41c9d1630223"
      },
      "source": [
        "numeros = [1, 2, 3, 4, 5, 6, 7, 8, 9]\n",
        "del numeros[3:5]                            # eliminamos los elementos ente el índice 3 y 5 (excluido el 5)\n",
        "numeros                                     # [1, 2, 3, 6, 7, 8, 9]  se han eliminado los números 4 y 5 que ocupaban los índice 3 y 4"
      ],
      "execution_count": 45,
      "outputs": [
        {
          "output_type": "execute_result",
          "data": {
            "text/plain": [
              "[1, 2, 3, 6, 7, 8, 9]"
            ]
          },
          "metadata": {},
          "execution_count": 45
        }
      ]
    },
    {
      "cell_type": "markdown",
      "metadata": {
        "id": "cmjodgyNMq1r"
      },
      "source": [
        "### Vaciando toda la lista"
      ]
    },
    {
      "cell_type": "markdown",
      "metadata": {
        "id": "jbpHM8_BM2xL"
      },
      "source": [
        "#### con ```del```"
      ]
    },
    {
      "cell_type": "code",
      "metadata": {
        "colab": {
          "base_uri": "https://localhost:8080/"
        },
        "id": "oO9Ntr8ZMt6l",
        "outputId": "9bf40cdf-3333-420f-f9ff-4b6b617fb817"
      },
      "source": [
        "numeros = [1, 2, 3, 4, 5, 6, 7, 8, 9]\n",
        "del numeros[:]\n",
        "numeros "
      ],
      "execution_count": 46,
      "outputs": [
        {
          "output_type": "execute_result",
          "data": {
            "text/plain": [
              "[]"
            ]
          },
          "metadata": {},
          "execution_count": 46
        }
      ]
    },
    {
      "cell_type": "markdown",
      "metadata": {
        "id": "9NCzMXS3M9L7"
      },
      "source": [
        "#### Con el método ```clear```"
      ]
    },
    {
      "cell_type": "code",
      "metadata": {
        "colab": {
          "base_uri": "https://localhost:8080/"
        },
        "id": "zo52lLSxM_XD",
        "outputId": "30bbec2f-11a2-4030-ab3d-52ff7222c444"
      },
      "source": [
        "numeros = [1, 2, 3, 4, 5, 6, 7, 8, 9]\n",
        "numeros.clear()\n",
        "numeros "
      ],
      "execution_count": 48,
      "outputs": [
        {
          "output_type": "execute_result",
          "data": {
            "text/plain": [
              "[]"
            ]
          },
          "metadata": {},
          "execution_count": 48
        }
      ]
    }
  ]
}