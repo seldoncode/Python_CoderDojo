{
  "nbformat": 4,
  "nbformat_minor": 0,
  "metadata": {
    "colab": {
      "name": "RepasoPython04.ipynb",
      "provenance": [],
      "authorship_tag": "ABX9TyNcFFNcxBpK1rt+8FZ93vwD",
      "include_colab_link": true
    },
    "kernelspec": {
      "name": "python3",
      "display_name": "Python 3"
    },
    "language_info": {
      "name": "python"
    }
  },
  "cells": [
    {
      "cell_type": "markdown",
      "metadata": {
        "id": "view-in-github",
        "colab_type": "text"
      },
      "source": [
        "<a href=\"https://colab.research.google.com/github/seldoncode/Python_CoderDojo/blob/main/RepasoPython04.ipynb\" target=\"_parent\"><img src=\"https://colab.research.google.com/assets/colab-badge.svg\" alt=\"Open In Colab\"/></a>"
      ]
    },
    {
      "cell_type": "markdown",
      "metadata": {
        "id": "83iVs8UBbZpw"
      },
      "source": [
        "# Accediendo a los caracteres de un string\n",
        "* Los caracteres de un string comienzan a numerarse por cero.\n",
        "* Se denomina índice (index)"
      ]
    },
    {
      "cell_type": "code",
      "metadata": {
        "colab": {
          "base_uri": "https://localhost:8080/"
        },
        "id": "6T6i-R7ebV4i",
        "outputId": "b28e8e85-05df-474d-8554-b0728bfede7b"
      },
      "source": [
        "palabra = \"Hola\"\n",
        "print(palabra[0])            # así accedemos al caracter de índice 0\n",
        "print(palabra[1])\n",
        "print(palabra[2])\n",
        "print(palabra[3])"
      ],
      "execution_count": null,
      "outputs": [
        {
          "output_type": "stream",
          "name": "stdout",
          "text": [
            "H\n",
            "o\n",
            "l\n",
            "a\n"
          ]
        }
      ]
    },
    {
      "cell_type": "code",
      "metadata": {
        "colab": {
          "base_uri": "https://localhost:8080/"
        },
        "id": "8nZArXJycsz6",
        "outputId": "b125735e-c0de-48bc-8338-aa10817dac6b"
      },
      "source": [
        "print(palabra[-1])          # último caracter"
      ],
      "execution_count": null,
      "outputs": [
        {
          "output_type": "stream",
          "name": "stdout",
          "text": [
            "a\n"
          ]
        }
      ]
    },
    {
      "cell_type": "markdown",
      "metadata": {
        "id": "1Yl2zr0Fc45z"
      },
      "source": [
        "## Slicing strings"
      ]
    },
    {
      "cell_type": "code",
      "metadata": {
        "colab": {
          "base_uri": "https://localhost:8080/"
        },
        "id": "rIvfw_PDc53Z",
        "outputId": "7a426907-1265-4031-bad2-95dde070fb21"
      },
      "source": [
        "cadena = \"Buenos Aires\"\n",
        "print(cadena[0:5])              # recortamos la cadena desde el caracter de índice 0 al índice 4\n",
        "print(cadena[:5])               # si no se pone el inicio se comienza desde el índice cero\n",
        "print(cadena[2:6])\n",
        "print(cadena[7:] )"
      ],
      "execution_count": null,
      "outputs": [
        {
          "output_type": "stream",
          "name": "stdout",
          "text": [
            "Bueno\n",
            "Bueno\n",
            "enos\n",
            "Aires\n"
          ]
        }
      ]
    },
    {
      "cell_type": "code",
      "metadata": {
        "colab": {
          "base_uri": "https://localhost:8080/"
        },
        "id": "_mYaK4zMddrm",
        "outputId": "9007af53-aabf-495b-ce01-7544f9d2c98f"
      },
      "source": [
        "a = \"Frecuencia\"\n",
        "b = \"casa\"\n",
        "c = a[:3] + b[2:]\n",
        "print(c)"
      ],
      "execution_count": null,
      "outputs": [
        {
          "output_type": "stream",
          "name": "stdout",
          "text": [
            "Fresa\n"
          ]
        }
      ]
    },
    {
      "cell_type": "markdown",
      "metadata": {
        "id": "x9xYCPODdkgw"
      },
      "source": [
        "# Longitud de una cadena"
      ]
    },
    {
      "cell_type": "code",
      "metadata": {
        "colab": {
          "base_uri": "https://localhost:8080/"
        },
        "id": "IlCe7vY6dlYO",
        "outputId": "8c223975-bf6a-4954-e51e-ee8240d0f1ec"
      },
      "source": [
        "print(len(\"Hola\"))"
      ],
      "execution_count": null,
      "outputs": [
        {
          "output_type": "stream",
          "name": "stdout",
          "text": [
            "4\n"
          ]
        }
      ]
    },
    {
      "cell_type": "markdown",
      "metadata": {
        "id": "hH9RGrxrd_4s"
      },
      "source": [
        "# Listar caracteres de una cadena"
      ]
    },
    {
      "cell_type": "code",
      "metadata": {
        "colab": {
          "base_uri": "https://localhost:8080/"
        },
        "id": "UfGQbAynd-qG",
        "outputId": "5f2ffded-0a5f-4eb8-e1bc-0ff867f92494"
      },
      "source": [
        "palabra = \"Playa\"\n",
        "i=0\n",
        "while i<len(palabra):       # la variable auxiliar i toma los valores 0, 1, 2, 3, 4 de esta forma recorre los 5 caracteres de Playa por su índice\n",
        "  print(palabra[i])\n",
        "  i += 1"
      ],
      "execution_count": null,
      "outputs": [
        {
          "output_type": "stream",
          "name": "stdout",
          "text": [
            "P\n",
            "l\n",
            "a\n",
            "y\n",
            "a\n"
          ]
        }
      ]
    },
    {
      "cell_type": "markdown",
      "metadata": {
        "id": "iFtPjO1veenU"
      },
      "source": [
        "# Los string son inmutables\n",
        "Podemos acceder al contenido de un caracter dentro de un string pero no podemos cambiarlo."
      ]
    },
    {
      "cell_type": "code",
      "metadata": {
        "id": "jpPTw4rsen2q"
      },
      "source": [
        "palabra = \"libro\"\n",
        "#palabra[4] = 'e'        # ERROR"
      ],
      "execution_count": null,
      "outputs": []
    },
    {
      "cell_type": "markdown",
      "metadata": {
        "id": "nIVeV64we-un"
      },
      "source": [
        "# Instrucción ```in```\n",
        "Ver si un caracter está en una cadena."
      ]
    },
    {
      "cell_type": "code",
      "metadata": {
        "colab": {
          "base_uri": "https://localhost:8080/"
        },
        "id": "4fC9Zv8EfDq3",
        "outputId": "4e358dd4-bab5-431c-de17-244e937d5e5e"
      },
      "source": [
        "'h' in 'ahora'"
      ],
      "execution_count": null,
      "outputs": [
        {
          "output_type": "execute_result",
          "data": {
            "text/plain": [
              "True"
            ]
          },
          "metadata": {},
          "execution_count": 11
        }
      ]
    },
    {
      "cell_type": "code",
      "metadata": {
        "colab": {
          "base_uri": "https://localhost:8080/"
        },
        "id": "S4Syena1fMHQ",
        "outputId": "bf3a6b1e-5274-4436-ba5e-8adf9d4c9081"
      },
      "source": [
        "'cosmo' not in 'astronauta'"
      ],
      "execution_count": null,
      "outputs": [
        {
          "output_type": "execute_result",
          "data": {
            "text/plain": [
              "True"
            ]
          },
          "metadata": {},
          "execution_count": 13
        }
      ]
    },
    {
      "cell_type": "markdown",
      "metadata": {
        "id": "3S-ygoashEA5"
      },
      "source": [
        "## Contar cuantas veces aparece un caracter en una frase\n",
        "Contar cuantas veces aparece la letra 'i' acentuada o sin acentuar en una frase."
      ]
    },
    {
      "cell_type": "code",
      "metadata": {
        "colab": {
          "base_uri": "https://localhost:8080/"
        },
        "id": "jrCuP-QshJ4X",
        "outputId": "a5222936-4e30-47d8-f467-8ee7e43b64e1"
      },
      "source": [
        "frase = '''\n",
        "En un lugar de la Mancha, de cuyo nombre no quiero acordarme, \n",
        "no ha mucho tiempo que vivía un hidalgo de los de lanza en astillero, \n",
        "adarga antigua, rocín flaco y galgo corredor.'''\n",
        "\n",
        "contador = 0\n",
        "n=0\n",
        "while n < len(frase):\n",
        "  if frase[n]=='i' or frase[n]=='í':\n",
        "    contador += 1\n",
        "  n += 1\n",
        "\n",
        "print(contador)"
      ],
      "execution_count": null,
      "outputs": [
        {
          "output_type": "stream",
          "name": "stdout",
          "text": [
            "8\n"
          ]
        }
      ]
    },
    {
      "cell_type": "markdown",
      "metadata": {
        "id": "aKbKn6GLhTsq"
      },
      "source": [
        "### Vocales de una palabra\n",
        "Dada una palabra o frase contar cuántas vocales tiene, incluyendo las que llevan o no llevan tilde."
      ]
    },
    {
      "cell_type": "code",
      "metadata": {
        "colab": {
          "base_uri": "https://localhost:8080/"
        },
        "id": "UXKYf6qGhXAb",
        "outputId": "fe530a2c-e677-48e8-a040-6a7d8db908eb"
      },
      "source": [
        "palabra = \"América\"\n",
        "palabra = palabra.lower()  # convertimos todo a minúsculas\n",
        "vocales = \"aeiouáéíóú\"\n",
        "i = 0                      # i es el índice\n",
        "num_voc = 0\n",
        "while i < len(palabra):\n",
        "  if palabra[i] in vocales:\n",
        "    num_voc += 1\n",
        "  i += 1\n",
        "print(\"El número de vocales es\", num_voc)"
      ],
      "execution_count": null,
      "outputs": [
        {
          "output_type": "stream",
          "name": "stdout",
          "text": [
            "El número de vocales es 4\n"
          ]
        }
      ]
    },
    {
      "cell_type": "markdown",
      "metadata": {
        "id": "-EjaoHW8haK1"
      },
      "source": [
        "## Reto. Frecuencia de caracteres de un texto\n",
        "* Nos dan un texto y nos piden decir cuántas veces aparece cada caracter, incluidos espacios, vocales con tilde, comas, puntos, etc.\n",
        " - ¿Qué es poesía?, dices mientras clavas\n",
        " - en mi pupila tu pupila azul.\n",
        " - ¡Qué es poesía!, ¿Y tú me lo preguntas?\n",
        " - Poesía... eres tú."
      ]
    }
  ]
}