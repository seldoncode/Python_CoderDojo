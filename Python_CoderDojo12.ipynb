{
  "nbformat": 4,
  "nbformat_minor": 0,
  "metadata": {
    "colab": {
      "name": "Python_CoderDojo12.ipynb",
      "provenance": [],
      "collapsed_sections": [],
      "authorship_tag": "ABX9TyO2j8/6yyYtcjUpoy7Fue2n",
      "include_colab_link": true
    },
    "kernelspec": {
      "name": "python3",
      "display_name": "Python 3"
    },
    "language_info": {
      "name": "python"
    }
  },
  "cells": [
    {
      "cell_type": "markdown",
      "metadata": {
        "id": "view-in-github",
        "colab_type": "text"
      },
      "source": [
        "<a href=\"https://colab.research.google.com/github/seldoncode/Python_CoderDojo/blob/main/Python_CoderDojo12.ipynb\" target=\"_parent\"><img src=\"https://colab.research.google.com/assets/colab-badge.svg\" alt=\"Open In Colab\"/></a>"
      ]
    },
    {
      "cell_type": "markdown",
      "metadata": {
        "id": "6jdzxeVj7LXh"
      },
      "source": [
        "# Bucles ```for``` anidados"
      ]
    },
    {
      "cell_type": "code",
      "metadata": {
        "colab": {
          "base_uri": "https://localhost:8080/"
        },
        "id": "LMco6vZ27S8_",
        "outputId": "4521f7d1-8ac3-434d-9368-bdce448c2dea"
      },
      "source": [
        "for i in range(1,4):           # i toma los valores de 1 a 3\n",
        "  print(\"~\"*10)\n",
        "  for j in range(5):           # j toma los valores de 0 a 4\n",
        "    print(f\"i={i}, j={j}.\")"
      ],
      "execution_count": null,
      "outputs": [
        {
          "output_type": "stream",
          "name": "stdout",
          "text": [
            "~~~~~~~~~~\n",
            "i=1, j=0.\n",
            "i=1, j=1.\n",
            "i=1, j=2.\n",
            "i=1, j=3.\n",
            "i=1, j=4.\n",
            "~~~~~~~~~~\n",
            "i=2, j=0.\n",
            "i=2, j=1.\n",
            "i=2, j=2.\n",
            "i=2, j=3.\n",
            "i=2, j=4.\n",
            "~~~~~~~~~~\n",
            "i=3, j=0.\n",
            "i=3, j=1.\n",
            "i=3, j=2.\n",
            "i=3, j=3.\n",
            "i=3, j=4.\n"
          ]
        }
      ]
    }
  ]
}