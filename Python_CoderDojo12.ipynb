{
  "nbformat": 4,
  "nbformat_minor": 0,
  "metadata": {
    "colab": {
      "name": "Python_CoderDojo12.ipynb",
      "provenance": [],
      "collapsed_sections": [],
      "authorship_tag": "ABX9TyMMTMLv6G2l0NXVx/x0fzv2",
      "include_colab_link": true
    },
    "kernelspec": {
      "name": "python3",
      "display_name": "Python 3"
    },
    "language_info": {
      "name": "python"
    }
  },
  "cells": [
    {
      "cell_type": "markdown",
      "metadata": {
        "id": "view-in-github",
        "colab_type": "text"
      },
      "source": [
        "<a href=\"https://colab.research.google.com/github/seldoncode/Python_CoderDojo/blob/main/Python_CoderDojo12.ipynb\" target=\"_parent\"><img src=\"https://colab.research.google.com/assets/colab-badge.svg\" alt=\"Open In Colab\"/></a>"
      ]
    },
    {
      "cell_type": "markdown",
      "metadata": {
        "id": "6jdzxeVj7LXh"
      },
      "source": [
        "# Bucles ```for``` anidados"
      ]
    },
    {
      "cell_type": "code",
      "metadata": {
        "colab": {
          "base_uri": "https://localhost:8080/"
        },
        "id": "LMco6vZ27S8_",
        "outputId": "4521f7d1-8ac3-434d-9368-bdce448c2dea"
      },
      "source": [
        "for i in range(1,4):           # i toma los valores de 1 a 3\n",
        "  print(\"~\"*10)\n",
        "  for j in range(5):           # j toma los valores de 0 a 4\n",
        "    print(f\"i={i}, j={j}.\")"
      ],
      "execution_count": null,
      "outputs": [
        {
          "output_type": "stream",
          "name": "stdout",
          "text": [
            "~~~~~~~~~~\n",
            "i=1, j=0.\n",
            "i=1, j=1.\n",
            "i=1, j=2.\n",
            "i=1, j=3.\n",
            "i=1, j=4.\n",
            "~~~~~~~~~~\n",
            "i=2, j=0.\n",
            "i=2, j=1.\n",
            "i=2, j=2.\n",
            "i=2, j=3.\n",
            "i=2, j=4.\n",
            "~~~~~~~~~~\n",
            "i=3, j=0.\n",
            "i=3, j=1.\n",
            "i=3, j=2.\n",
            "i=3, j=3.\n",
            "i=3, j=4.\n"
          ]
        }
      ]
    },
    {
      "cell_type": "markdown",
      "metadata": {
        "id": "6IgEZmIZoWnr"
      },
      "source": [
        "### Crear una baraja española utilizando bucles anidados\n",
        "Disponemos de una lista con los tantos y otra con los palos.\n",
        "* tantos = ['A','2','3','4','5','6','7','S','C','R']\n",
        "* palos = ['oros','copas','espadas','bastos']"
      ]
    },
    {
      "cell_type": "markdown",
      "metadata": {
        "id": "Bwd5vznXs0Jd"
      },
      "source": [
        "#### Solución 1"
      ]
    },
    {
      "cell_type": "code",
      "metadata": {
        "colab": {
          "base_uri": "https://localhost:8080/"
        },
        "id": "lYIDUDjcpGFz",
        "outputId": "02e3c595-39d7-4d90-9412-378965a527f9"
      },
      "source": [
        "tantos = ['A','2','3','4','5','6','7','S','C','R']\n",
        "palos = ['oros','copas','espadas','bastos']\n",
        "for tanto in tantos:\n",
        "  for palo in palos:\n",
        "    carta = f\"{tanto} de {palo}\"\n",
        "    print(carta)\n",
        "  print(\"=\"*15)"
      ],
      "execution_count": null,
      "outputs": [
        {
          "output_type": "stream",
          "name": "stdout",
          "text": [
            "A de oros\n",
            "A de copas\n",
            "A de espadas\n",
            "A de bastos\n",
            "===============\n",
            "2 de oros\n",
            "2 de copas\n",
            "2 de espadas\n",
            "2 de bastos\n",
            "===============\n",
            "3 de oros\n",
            "3 de copas\n",
            "3 de espadas\n",
            "3 de bastos\n",
            "===============\n",
            "4 de oros\n",
            "4 de copas\n",
            "4 de espadas\n",
            "4 de bastos\n",
            "===============\n",
            "5 de oros\n",
            "5 de copas\n",
            "5 de espadas\n",
            "5 de bastos\n",
            "===============\n",
            "6 de oros\n",
            "6 de copas\n",
            "6 de espadas\n",
            "6 de bastos\n",
            "===============\n",
            "7 de oros\n",
            "7 de copas\n",
            "7 de espadas\n",
            "7 de bastos\n",
            "===============\n",
            "S de oros\n",
            "S de copas\n",
            "S de espadas\n",
            "S de bastos\n",
            "===============\n",
            "C de oros\n",
            "C de copas\n",
            "C de espadas\n",
            "C de bastos\n",
            "===============\n",
            "R de oros\n",
            "R de copas\n",
            "R de espadas\n",
            "R de bastos\n",
            "===============\n"
          ]
        }
      ]
    },
    {
      "cell_type": "markdown",
      "metadata": {
        "id": "0mtYffe6s4KY"
      },
      "source": [
        "#### Solución 2\n",
        "Creando la lista baraja que contiene todas las cartas e imprimiendo luego esa lista."
      ]
    },
    {
      "cell_type": "code",
      "metadata": {
        "colab": {
          "base_uri": "https://localhost:8080/"
        },
        "id": "M27AQyu3s-pE",
        "outputId": "a186f598-cbc7-41db-9eea-932e63ad647f"
      },
      "source": [
        "tantos = ['A','2','3','4','5','6','7','S','C','R']\n",
        "palos = ['oros','copas','espadas','bastos']\n",
        "baraja = []\n",
        "for tanto in tantos:\n",
        "  for palo in palos:\n",
        "    carta = f\"{tanto} de {palo}\"\n",
        "    baraja.append(carta)\n",
        "print(baraja)"
      ],
      "execution_count": null,
      "outputs": [
        {
          "output_type": "stream",
          "name": "stdout",
          "text": [
            "['A de oros', 'A de copas', 'A de espadas', 'A de bastos', '2 de oros', '2 de copas', '2 de espadas', '2 de bastos', '3 de oros', '3 de copas', '3 de espadas', '3 de bastos', '4 de oros', '4 de copas', '4 de espadas', '4 de bastos', '5 de oros', '5 de copas', '5 de espadas', '5 de bastos', '6 de oros', '6 de copas', '6 de espadas', '6 de bastos', '7 de oros', '7 de copas', '7 de espadas', '7 de bastos', 'S de oros', 'S de copas', 'S de espadas', 'S de bastos', 'C de oros', 'C de copas', 'C de espadas', 'C de bastos', 'R de oros', 'R de copas', 'R de espadas', 'R de bastos']\n"
          ]
        }
      ]
    },
    {
      "cell_type": "markdown",
      "metadata": {
        "id": "KhkWI-eJt7W1"
      },
      "source": [
        "#### Solución 3"
      ]
    },
    {
      "cell_type": "code",
      "metadata": {
        "colab": {
          "base_uri": "https://localhost:8080/"
        },
        "id": "F-wYIfdOuCAc",
        "outputId": "a964f867-b14d-4e30-9e69-42e889387a8f"
      },
      "source": [
        "tantos = ['A','2','3','4','5','6','7','S','C','R']\n",
        "palos = ['oros','copas','espadas','bastos']\n",
        "baraja = []\n",
        "for t in tantos:\n",
        "  for p in palos:\n",
        "    carta = f\"{t} de {p}\"\n",
        "    baraja.append(carta)\n",
        "\n",
        "for i in range(0,40,4):\n",
        "  print(f\"{baraja[i]}, {baraja[i+1]}, {baraja[i+2]}, {baraja[i+3]}.\")"
      ],
      "execution_count": null,
      "outputs": [
        {
          "output_type": "stream",
          "name": "stdout",
          "text": [
            "A de oros, A de copas, A de espadas, A de bastos.\n",
            "2 de oros, 2 de copas, 2 de espadas, 2 de bastos.\n",
            "3 de oros, 3 de copas, 3 de espadas, 3 de bastos.\n",
            "4 de oros, 4 de copas, 4 de espadas, 4 de bastos.\n",
            "5 de oros, 5 de copas, 5 de espadas, 5 de bastos.\n",
            "6 de oros, 6 de copas, 6 de espadas, 6 de bastos.\n",
            "7 de oros, 7 de copas, 7 de espadas, 7 de bastos.\n",
            "S de oros, S de copas, S de espadas, S de bastos.\n",
            "C de oros, C de copas, C de espadas, C de bastos.\n",
            "R de oros, R de copas, R de espadas, R de bastos.\n"
          ]
        }
      ]
    },
    {
      "cell_type": "markdown",
      "metadata": {
        "id": "SbD-r8PFvICm"
      },
      "source": [
        "#### Solución 4"
      ]
    },
    {
      "cell_type": "code",
      "metadata": {
        "colab": {
          "base_uri": "https://localhost:8080/"
        },
        "id": "ImBptu_Hyz-y",
        "outputId": "b58bbeb8-bbd0-4f98-a19a-78c89af3571d"
      },
      "source": [
        "tantos = ['A','2','3','4','5','6','7','S','C','R']\n",
        "palos = ['oros','copas','espadas','bastos']\n",
        "baraja = []\n",
        "for t in tantos:\n",
        "  for p in palos:\n",
        "    carta = f\"{t} de {p}\"\n",
        "    baraja.append(carta)\n",
        "\n",
        "for i in range(0,40,4):\n",
        "  for j in range(4):\n",
        "    print(f\" {baraja[i+j]:16} \", end=\"\")\n",
        "  print()"
      ],
      "execution_count": null,
      "outputs": [
        {
          "output_type": "stream",
          "name": "stdout",
          "text": [
            " A de oros         A de copas        A de espadas      A de bastos      \n",
            " 2 de oros         2 de copas        2 de espadas      2 de bastos      \n",
            " 3 de oros         3 de copas        3 de espadas      3 de bastos      \n",
            " 4 de oros         4 de copas        4 de espadas      4 de bastos      \n",
            " 5 de oros         5 de copas        5 de espadas      5 de bastos      \n",
            " 6 de oros         6 de copas        6 de espadas      6 de bastos      \n",
            " 7 de oros         7 de copas        7 de espadas      7 de bastos      \n",
            " S de oros         S de copas        S de espadas      S de bastos      \n",
            " C de oros         C de copas        C de espadas      C de bastos      \n",
            " R de oros         R de copas        R de espadas      R de bastos      \n"
          ]
        }
      ]
    },
    {
      "cell_type": "markdown",
      "metadata": {
        "id": "pq17qPMcy3RD"
      },
      "source": [
        "#### Solución 5"
      ]
    },
    {
      "cell_type": "code",
      "metadata": {
        "colab": {
          "base_uri": "https://localhost:8080/"
        },
        "id": "IFUYLqcKvJzG",
        "outputId": "9c5ebd00-7ad9-4458-e65d-9ada7d71a8d9"
      },
      "source": [
        "tantos = ['A','2','3','4','5','6','7','S','C','R']\n",
        "palos = ['oros','copas','espadas','bastos']\n",
        "baraja = []\n",
        "for t in tantos:\n",
        "  for p in palos:\n",
        "    carta = f\"{t} de {p}\"\n",
        "    baraja.append(carta)\n",
        "\n",
        "for p in palos:\n",
        "  for t in tantos:\n",
        "    print(f\"{t} de {p}\")\n",
        "  print(\"*\"*15)"
      ],
      "execution_count": null,
      "outputs": [
        {
          "output_type": "stream",
          "name": "stdout",
          "text": [
            "A de oros\n",
            "2 de oros\n",
            "3 de oros\n",
            "4 de oros\n",
            "5 de oros\n",
            "6 de oros\n",
            "7 de oros\n",
            "S de oros\n",
            "C de oros\n",
            "R de oros\n",
            "***************\n",
            "A de copas\n",
            "2 de copas\n",
            "3 de copas\n",
            "4 de copas\n",
            "5 de copas\n",
            "6 de copas\n",
            "7 de copas\n",
            "S de copas\n",
            "C de copas\n",
            "R de copas\n",
            "***************\n",
            "A de espadas\n",
            "2 de espadas\n",
            "3 de espadas\n",
            "4 de espadas\n",
            "5 de espadas\n",
            "6 de espadas\n",
            "7 de espadas\n",
            "S de espadas\n",
            "C de espadas\n",
            "R de espadas\n",
            "***************\n",
            "A de bastos\n",
            "2 de bastos\n",
            "3 de bastos\n",
            "4 de bastos\n",
            "5 de bastos\n",
            "6 de bastos\n",
            "7 de bastos\n",
            "S de bastos\n",
            "C de bastos\n",
            "R de bastos\n",
            "***************\n"
          ]
        }
      ]
    },
    {
      "cell_type": "markdown",
      "metadata": {
        "id": "YN2WSjEWqPOW"
      },
      "source": [
        "### Reto 12.1. Baraja inglesa\n",
        "Imprime las cartas de una baraja inglesa, donde se imprimar agrupados los tantos de cada palo.  \n",
        "Primero se imprimirían todos los tantos de picas, luego de corazones, etc:\n",
        "* ♠ → Picas\n",
        "* ♥ → Corazones\n",
        "* ♦ → Rombos\n",
        "* ♣ → Tréboles\n",
        "\n",
        "Los tantos son:\n",
        "* A → As\n",
        "*\t2\n",
        "*\t3\n",
        "*\t4\n",
        "*\t5\n",
        "*\t6\n",
        "*\t7\n",
        "*\t8\n",
        "*\t9\n",
        "*\t10\n",
        "*\tJ → Jota/Sota/Jack\n",
        "*\tQ → Reina/Dama\n",
        "*\tK → Rey"
      ]
    },
    {
      "cell_type": "markdown",
      "metadata": {
        "id": "gLGXutDuwOVB"
      },
      "source": [
        "### Tablas de multiplicar\n",
        "Programar las tablas de multiplicar del 2 al 9 para que salgan en diferentes columnas y no una debajo de otra."
      ]
    },
    {
      "cell_type": "code",
      "metadata": {
        "colab": {
          "base_uri": "https://localhost:8080/"
        },
        "id": "Uziyq8Eoz6ZU",
        "outputId": "eda7a49a-a7e1-4802-f8b4-6d6a226033ae"
      },
      "source": [
        "for i in range(1,11):\n",
        "  for j in range(2,10):\n",
        "    print(f\"{i:2} x {j:1} = {i*j:2}\", end=\" |\")\n",
        "  print()"
      ],
      "execution_count": null,
      "outputs": [
        {
          "output_type": "stream",
          "name": "stdout",
          "text": [
            " 1 x 2 =  2 | 1 x 3 =  3 | 1 x 4 =  4 | 1 x 5 =  5 | 1 x 6 =  6 | 1 x 7 =  7 | 1 x 8 =  8 | 1 x 9 =  9 |\n",
            " 2 x 2 =  4 | 2 x 3 =  6 | 2 x 4 =  8 | 2 x 5 = 10 | 2 x 6 = 12 | 2 x 7 = 14 | 2 x 8 = 16 | 2 x 9 = 18 |\n",
            " 3 x 2 =  6 | 3 x 3 =  9 | 3 x 4 = 12 | 3 x 5 = 15 | 3 x 6 = 18 | 3 x 7 = 21 | 3 x 8 = 24 | 3 x 9 = 27 |\n",
            " 4 x 2 =  8 | 4 x 3 = 12 | 4 x 4 = 16 | 4 x 5 = 20 | 4 x 6 = 24 | 4 x 7 = 28 | 4 x 8 = 32 | 4 x 9 = 36 |\n",
            " 5 x 2 = 10 | 5 x 3 = 15 | 5 x 4 = 20 | 5 x 5 = 25 | 5 x 6 = 30 | 5 x 7 = 35 | 5 x 8 = 40 | 5 x 9 = 45 |\n",
            " 6 x 2 = 12 | 6 x 3 = 18 | 6 x 4 = 24 | 6 x 5 = 30 | 6 x 6 = 36 | 6 x 7 = 42 | 6 x 8 = 48 | 6 x 9 = 54 |\n",
            " 7 x 2 = 14 | 7 x 3 = 21 | 7 x 4 = 28 | 7 x 5 = 35 | 7 x 6 = 42 | 7 x 7 = 49 | 7 x 8 = 56 | 7 x 9 = 63 |\n",
            " 8 x 2 = 16 | 8 x 3 = 24 | 8 x 4 = 32 | 8 x 5 = 40 | 8 x 6 = 48 | 8 x 7 = 56 | 8 x 8 = 64 | 8 x 9 = 72 |\n",
            " 9 x 2 = 18 | 9 x 3 = 27 | 9 x 4 = 36 | 9 x 5 = 45 | 9 x 6 = 54 | 9 x 7 = 63 | 9 x 8 = 72 | 9 x 9 = 81 |\n",
            "10 x 2 = 20 |10 x 3 = 30 |10 x 4 = 40 |10 x 5 = 50 |10 x 6 = 60 |10 x 7 = 70 |10 x 8 = 80 |10 x 9 = 90 |\n"
          ]
        }
      ]
    },
    {
      "cell_type": "markdown",
      "metadata": {
        "id": "t12i-onR3fDx"
      },
      "source": [
        "### Fuerza bruta: combinatoria\n",
        "* Tenemos un candado de tres ruedas.\n",
        "* Cada rueda tiene los números del 0 al 9\n",
        "* Se nos ha olvidado la contraseña\n",
        "* Probar todas las combinaciones posibles\n",
        "* Mostrarlas en pantalla"
      ]
    },
    {
      "cell_type": "markdown",
      "metadata": {
        "id": "WX_lWyAn4mX_"
      },
      "source": [
        "#### Solución\n",
        "Hablamos de combinaciones pero en realidad, en este caso, se tratan de las variaciones con repetición de 10 elementos tomados de 3 en 3.\n",
        "\n",
        "[http://www.apuntesmareaverde.org.es/grupos/mat/4B/14_Combinatoria_4B.pdf](http://www.apuntesmareaverde.org.es/grupos/mat/4B/14_Combinatoria_4B.pdf)\n",
        "\n",
        "El número de posibilidades es $$VR(n,m) = n^m = 10^3=1.000$$\n"
      ]
    },
    {
      "cell_type": "code",
      "metadata": {
        "colab": {
          "base_uri": "https://localhost:8080/"
        },
        "id": "Qrwbw72U34zP",
        "outputId": "675c35de-5764-4369-a932-4a8de76e24eb"
      },
      "source": [
        "for i in range(10):\n",
        "  for j in range(10):\n",
        "    for k in range(10):\n",
        "      print(str(i) + str(j) + str(k))  # concatenando los strings"
      ],
      "execution_count": null,
      "outputs": [
        {
          "output_type": "stream",
          "name": "stdout",
          "text": [
            "000\n",
            "001\n",
            "002\n",
            "003\n",
            "004\n",
            "005\n",
            "006\n",
            "007\n",
            "008\n",
            "009\n",
            "010\n",
            "011\n",
            "012\n",
            "013\n",
            "014\n",
            "015\n",
            "016\n",
            "017\n",
            "018\n",
            "019\n",
            "020\n",
            "021\n",
            "022\n",
            "023\n",
            "024\n",
            "025\n",
            "026\n",
            "027\n",
            "028\n",
            "029\n",
            "030\n",
            "031\n",
            "032\n",
            "033\n",
            "034\n",
            "035\n",
            "036\n",
            "037\n",
            "038\n",
            "039\n",
            "040\n",
            "041\n",
            "042\n",
            "043\n",
            "044\n",
            "045\n",
            "046\n",
            "047\n",
            "048\n",
            "049\n",
            "050\n",
            "051\n",
            "052\n",
            "053\n",
            "054\n",
            "055\n",
            "056\n",
            "057\n",
            "058\n",
            "059\n",
            "060\n",
            "061\n",
            "062\n",
            "063\n",
            "064\n",
            "065\n",
            "066\n",
            "067\n",
            "068\n",
            "069\n",
            "070\n",
            "071\n",
            "072\n",
            "073\n",
            "074\n",
            "075\n",
            "076\n",
            "077\n",
            "078\n",
            "079\n",
            "080\n",
            "081\n",
            "082\n",
            "083\n",
            "084\n",
            "085\n",
            "086\n",
            "087\n",
            "088\n",
            "089\n",
            "090\n",
            "091\n",
            "092\n",
            "093\n",
            "094\n",
            "095\n",
            "096\n",
            "097\n",
            "098\n",
            "099\n",
            "100\n",
            "101\n",
            "102\n",
            "103\n",
            "104\n",
            "105\n",
            "106\n",
            "107\n",
            "108\n",
            "109\n",
            "110\n",
            "111\n",
            "112\n",
            "113\n",
            "114\n",
            "115\n",
            "116\n",
            "117\n",
            "118\n",
            "119\n",
            "120\n",
            "121\n",
            "122\n",
            "123\n",
            "124\n",
            "125\n",
            "126\n",
            "127\n",
            "128\n",
            "129\n",
            "130\n",
            "131\n",
            "132\n",
            "133\n",
            "134\n",
            "135\n",
            "136\n",
            "137\n",
            "138\n",
            "139\n",
            "140\n",
            "141\n",
            "142\n",
            "143\n",
            "144\n",
            "145\n",
            "146\n",
            "147\n",
            "148\n",
            "149\n",
            "150\n",
            "151\n",
            "152\n",
            "153\n",
            "154\n",
            "155\n",
            "156\n",
            "157\n",
            "158\n",
            "159\n",
            "160\n",
            "161\n",
            "162\n",
            "163\n",
            "164\n",
            "165\n",
            "166\n",
            "167\n",
            "168\n",
            "169\n",
            "170\n",
            "171\n",
            "172\n",
            "173\n",
            "174\n",
            "175\n",
            "176\n",
            "177\n",
            "178\n",
            "179\n",
            "180\n",
            "181\n",
            "182\n",
            "183\n",
            "184\n",
            "185\n",
            "186\n",
            "187\n",
            "188\n",
            "189\n",
            "190\n",
            "191\n",
            "192\n",
            "193\n",
            "194\n",
            "195\n",
            "196\n",
            "197\n",
            "198\n",
            "199\n",
            "200\n",
            "201\n",
            "202\n",
            "203\n",
            "204\n",
            "205\n",
            "206\n",
            "207\n",
            "208\n",
            "209\n",
            "210\n",
            "211\n",
            "212\n",
            "213\n",
            "214\n",
            "215\n",
            "216\n",
            "217\n",
            "218\n",
            "219\n",
            "220\n",
            "221\n",
            "222\n",
            "223\n",
            "224\n",
            "225\n",
            "226\n",
            "227\n",
            "228\n",
            "229\n",
            "230\n",
            "231\n",
            "232\n",
            "233\n",
            "234\n",
            "235\n",
            "236\n",
            "237\n",
            "238\n",
            "239\n",
            "240\n",
            "241\n",
            "242\n",
            "243\n",
            "244\n",
            "245\n",
            "246\n",
            "247\n",
            "248\n",
            "249\n",
            "250\n",
            "251\n",
            "252\n",
            "253\n",
            "254\n",
            "255\n",
            "256\n",
            "257\n",
            "258\n",
            "259\n",
            "260\n",
            "261\n",
            "262\n",
            "263\n",
            "264\n",
            "265\n",
            "266\n",
            "267\n",
            "268\n",
            "269\n",
            "270\n",
            "271\n",
            "272\n",
            "273\n",
            "274\n",
            "275\n",
            "276\n",
            "277\n",
            "278\n",
            "279\n",
            "280\n",
            "281\n",
            "282\n",
            "283\n",
            "284\n",
            "285\n",
            "286\n",
            "287\n",
            "288\n",
            "289\n",
            "290\n",
            "291\n",
            "292\n",
            "293\n",
            "294\n",
            "295\n",
            "296\n",
            "297\n",
            "298\n",
            "299\n",
            "300\n",
            "301\n",
            "302\n",
            "303\n",
            "304\n",
            "305\n",
            "306\n",
            "307\n",
            "308\n",
            "309\n",
            "310\n",
            "311\n",
            "312\n",
            "313\n",
            "314\n",
            "315\n",
            "316\n",
            "317\n",
            "318\n",
            "319\n",
            "320\n",
            "321\n",
            "322\n",
            "323\n",
            "324\n",
            "325\n",
            "326\n",
            "327\n",
            "328\n",
            "329\n",
            "330\n",
            "331\n",
            "332\n",
            "333\n",
            "334\n",
            "335\n",
            "336\n",
            "337\n",
            "338\n",
            "339\n",
            "340\n",
            "341\n",
            "342\n",
            "343\n",
            "344\n",
            "345\n",
            "346\n",
            "347\n",
            "348\n",
            "349\n",
            "350\n",
            "351\n",
            "352\n",
            "353\n",
            "354\n",
            "355\n",
            "356\n",
            "357\n",
            "358\n",
            "359\n",
            "360\n",
            "361\n",
            "362\n",
            "363\n",
            "364\n",
            "365\n",
            "366\n",
            "367\n",
            "368\n",
            "369\n",
            "370\n",
            "371\n",
            "372\n",
            "373\n",
            "374\n",
            "375\n",
            "376\n",
            "377\n",
            "378\n",
            "379\n",
            "380\n",
            "381\n",
            "382\n",
            "383\n",
            "384\n",
            "385\n",
            "386\n",
            "387\n",
            "388\n",
            "389\n",
            "390\n",
            "391\n",
            "392\n",
            "393\n",
            "394\n",
            "395\n",
            "396\n",
            "397\n",
            "398\n",
            "399\n",
            "400\n",
            "401\n",
            "402\n",
            "403\n",
            "404\n",
            "405\n",
            "406\n",
            "407\n",
            "408\n",
            "409\n",
            "410\n",
            "411\n",
            "412\n",
            "413\n",
            "414\n",
            "415\n",
            "416\n",
            "417\n",
            "418\n",
            "419\n",
            "420\n",
            "421\n",
            "422\n",
            "423\n",
            "424\n",
            "425\n",
            "426\n",
            "427\n",
            "428\n",
            "429\n",
            "430\n",
            "431\n",
            "432\n",
            "433\n",
            "434\n",
            "435\n",
            "436\n",
            "437\n",
            "438\n",
            "439\n",
            "440\n",
            "441\n",
            "442\n",
            "443\n",
            "444\n",
            "445\n",
            "446\n",
            "447\n",
            "448\n",
            "449\n",
            "450\n",
            "451\n",
            "452\n",
            "453\n",
            "454\n",
            "455\n",
            "456\n",
            "457\n",
            "458\n",
            "459\n",
            "460\n",
            "461\n",
            "462\n",
            "463\n",
            "464\n",
            "465\n",
            "466\n",
            "467\n",
            "468\n",
            "469\n",
            "470\n",
            "471\n",
            "472\n",
            "473\n",
            "474\n",
            "475\n",
            "476\n",
            "477\n",
            "478\n",
            "479\n",
            "480\n",
            "481\n",
            "482\n",
            "483\n",
            "484\n",
            "485\n",
            "486\n",
            "487\n",
            "488\n",
            "489\n",
            "490\n",
            "491\n",
            "492\n",
            "493\n",
            "494\n",
            "495\n",
            "496\n",
            "497\n",
            "498\n",
            "499\n",
            "500\n",
            "501\n",
            "502\n",
            "503\n",
            "504\n",
            "505\n",
            "506\n",
            "507\n",
            "508\n",
            "509\n",
            "510\n",
            "511\n",
            "512\n",
            "513\n",
            "514\n",
            "515\n",
            "516\n",
            "517\n",
            "518\n",
            "519\n",
            "520\n",
            "521\n",
            "522\n",
            "523\n",
            "524\n",
            "525\n",
            "526\n",
            "527\n",
            "528\n",
            "529\n",
            "530\n",
            "531\n",
            "532\n",
            "533\n",
            "534\n",
            "535\n",
            "536\n",
            "537\n",
            "538\n",
            "539\n",
            "540\n",
            "541\n",
            "542\n",
            "543\n",
            "544\n",
            "545\n",
            "546\n",
            "547\n",
            "548\n",
            "549\n",
            "550\n",
            "551\n",
            "552\n",
            "553\n",
            "554\n",
            "555\n",
            "556\n",
            "557\n",
            "558\n",
            "559\n",
            "560\n",
            "561\n",
            "562\n",
            "563\n",
            "564\n",
            "565\n",
            "566\n",
            "567\n",
            "568\n",
            "569\n",
            "570\n",
            "571\n",
            "572\n",
            "573\n",
            "574\n",
            "575\n",
            "576\n",
            "577\n",
            "578\n",
            "579\n",
            "580\n",
            "581\n",
            "582\n",
            "583\n",
            "584\n",
            "585\n",
            "586\n",
            "587\n",
            "588\n",
            "589\n",
            "590\n",
            "591\n",
            "592\n",
            "593\n",
            "594\n",
            "595\n",
            "596\n",
            "597\n",
            "598\n",
            "599\n",
            "600\n",
            "601\n",
            "602\n",
            "603\n",
            "604\n",
            "605\n",
            "606\n",
            "607\n",
            "608\n",
            "609\n",
            "610\n",
            "611\n",
            "612\n",
            "613\n",
            "614\n",
            "615\n",
            "616\n",
            "617\n",
            "618\n",
            "619\n",
            "620\n",
            "621\n",
            "622\n",
            "623\n",
            "624\n",
            "625\n",
            "626\n",
            "627\n",
            "628\n",
            "629\n",
            "630\n",
            "631\n",
            "632\n",
            "633\n",
            "634\n",
            "635\n",
            "636\n",
            "637\n",
            "638\n",
            "639\n",
            "640\n",
            "641\n",
            "642\n",
            "643\n",
            "644\n",
            "645\n",
            "646\n",
            "647\n",
            "648\n",
            "649\n",
            "650\n",
            "651\n",
            "652\n",
            "653\n",
            "654\n",
            "655\n",
            "656\n",
            "657\n",
            "658\n",
            "659\n",
            "660\n",
            "661\n",
            "662\n",
            "663\n",
            "664\n",
            "665\n",
            "666\n",
            "667\n",
            "668\n",
            "669\n",
            "670\n",
            "671\n",
            "672\n",
            "673\n",
            "674\n",
            "675\n",
            "676\n",
            "677\n",
            "678\n",
            "679\n",
            "680\n",
            "681\n",
            "682\n",
            "683\n",
            "684\n",
            "685\n",
            "686\n",
            "687\n",
            "688\n",
            "689\n",
            "690\n",
            "691\n",
            "692\n",
            "693\n",
            "694\n",
            "695\n",
            "696\n",
            "697\n",
            "698\n",
            "699\n",
            "700\n",
            "701\n",
            "702\n",
            "703\n",
            "704\n",
            "705\n",
            "706\n",
            "707\n",
            "708\n",
            "709\n",
            "710\n",
            "711\n",
            "712\n",
            "713\n",
            "714\n",
            "715\n",
            "716\n",
            "717\n",
            "718\n",
            "719\n",
            "720\n",
            "721\n",
            "722\n",
            "723\n",
            "724\n",
            "725\n",
            "726\n",
            "727\n",
            "728\n",
            "729\n",
            "730\n",
            "731\n",
            "732\n",
            "733\n",
            "734\n",
            "735\n",
            "736\n",
            "737\n",
            "738\n",
            "739\n",
            "740\n",
            "741\n",
            "742\n",
            "743\n",
            "744\n",
            "745\n",
            "746\n",
            "747\n",
            "748\n",
            "749\n",
            "750\n",
            "751\n",
            "752\n",
            "753\n",
            "754\n",
            "755\n",
            "756\n",
            "757\n",
            "758\n",
            "759\n",
            "760\n",
            "761\n",
            "762\n",
            "763\n",
            "764\n",
            "765\n",
            "766\n",
            "767\n",
            "768\n",
            "769\n",
            "770\n",
            "771\n",
            "772\n",
            "773\n",
            "774\n",
            "775\n",
            "776\n",
            "777\n",
            "778\n",
            "779\n",
            "780\n",
            "781\n",
            "782\n",
            "783\n",
            "784\n",
            "785\n",
            "786\n",
            "787\n",
            "788\n",
            "789\n",
            "790\n",
            "791\n",
            "792\n",
            "793\n",
            "794\n",
            "795\n",
            "796\n",
            "797\n",
            "798\n",
            "799\n",
            "800\n",
            "801\n",
            "802\n",
            "803\n",
            "804\n",
            "805\n",
            "806\n",
            "807\n",
            "808\n",
            "809\n",
            "810\n",
            "811\n",
            "812\n",
            "813\n",
            "814\n",
            "815\n",
            "816\n",
            "817\n",
            "818\n",
            "819\n",
            "820\n",
            "821\n",
            "822\n",
            "823\n",
            "824\n",
            "825\n",
            "826\n",
            "827\n",
            "828\n",
            "829\n",
            "830\n",
            "831\n",
            "832\n",
            "833\n",
            "834\n",
            "835\n",
            "836\n",
            "837\n",
            "838\n",
            "839\n",
            "840\n",
            "841\n",
            "842\n",
            "843\n",
            "844\n",
            "845\n",
            "846\n",
            "847\n",
            "848\n",
            "849\n",
            "850\n",
            "851\n",
            "852\n",
            "853\n",
            "854\n",
            "855\n",
            "856\n",
            "857\n",
            "858\n",
            "859\n",
            "860\n",
            "861\n",
            "862\n",
            "863\n",
            "864\n",
            "865\n",
            "866\n",
            "867\n",
            "868\n",
            "869\n",
            "870\n",
            "871\n",
            "872\n",
            "873\n",
            "874\n",
            "875\n",
            "876\n",
            "877\n",
            "878\n",
            "879\n",
            "880\n",
            "881\n",
            "882\n",
            "883\n",
            "884\n",
            "885\n",
            "886\n",
            "887\n",
            "888\n",
            "889\n",
            "890\n",
            "891\n",
            "892\n",
            "893\n",
            "894\n",
            "895\n",
            "896\n",
            "897\n",
            "898\n",
            "899\n",
            "900\n",
            "901\n",
            "902\n",
            "903\n",
            "904\n",
            "905\n",
            "906\n",
            "907\n",
            "908\n",
            "909\n",
            "910\n",
            "911\n",
            "912\n",
            "913\n",
            "914\n",
            "915\n",
            "916\n",
            "917\n",
            "918\n",
            "919\n",
            "920\n",
            "921\n",
            "922\n",
            "923\n",
            "924\n",
            "925\n",
            "926\n",
            "927\n",
            "928\n",
            "929\n",
            "930\n",
            "931\n",
            "932\n",
            "933\n",
            "934\n",
            "935\n",
            "936\n",
            "937\n",
            "938\n",
            "939\n",
            "940\n",
            "941\n",
            "942\n",
            "943\n",
            "944\n",
            "945\n",
            "946\n",
            "947\n",
            "948\n",
            "949\n",
            "950\n",
            "951\n",
            "952\n",
            "953\n",
            "954\n",
            "955\n",
            "956\n",
            "957\n",
            "958\n",
            "959\n",
            "960\n",
            "961\n",
            "962\n",
            "963\n",
            "964\n",
            "965\n",
            "966\n",
            "967\n",
            "968\n",
            "969\n",
            "970\n",
            "971\n",
            "972\n",
            "973\n",
            "974\n",
            "975\n",
            "976\n",
            "977\n",
            "978\n",
            "979\n",
            "980\n",
            "981\n",
            "982\n",
            "983\n",
            "984\n",
            "985\n",
            "986\n",
            "987\n",
            "988\n",
            "989\n",
            "990\n",
            "991\n",
            "992\n",
            "993\n",
            "994\n",
            "995\n",
            "996\n",
            "997\n",
            "998\n",
            "999\n"
          ]
        }
      ]
    },
    {
      "cell_type": "markdown",
      "metadata": {
        "id": "c0kvjmvK7SJQ"
      },
      "source": [
        "### Reto 12.1. Candado de cuatro ruedas\n",
        "* Se nos ha olvidado la clave de un candado de 4 ruedas.\n",
        "* Cada rueda contiene los números del 0 al 9.\n",
        "* Generar las posibles combinaciones del candado.\n",
        "* Mostrar en pantalla todas las claves posibles probando por fuerza bruta."
      ]
    },
    {
      "cell_type": "markdown",
      "metadata": {
        "id": "VRnPxNKzKOrp"
      },
      "source": [
        "## Conjunto\n",
        "Un conjunto (set) es similar a una lista pero:\n",
        "* va entre llaves, por ejemplo: {1,2,3}\n",
        "* no acepta reptidos\n",
        "* si se intentan incluir elemento repteidos los elimina\n",
        "* una lista se puede convertir en un conjunto con set\n",
        "* lista = [1,2,3]\n",
        "* conjunto = set(lista)\n",
        "* conjunto es {1,2,3}"
      ]
    },
    {
      "cell_type": "code",
      "metadata": {
        "colab": {
          "base_uri": "https://localhost:8080/"
        },
        "id": "_M43jas6KYOq",
        "outputId": "f4ffd826-48c6-40a7-ceef-b2d3cf9ce330"
      },
      "source": [
        "lista = [1,2,3]\n",
        "conjunto = set(lista)  # convertimos la lista en un conjunto\n",
        "conjunto"
      ],
      "execution_count": null,
      "outputs": [
        {
          "output_type": "execute_result",
          "data": {
            "text/plain": [
              "{1, 2, 3}"
            ]
          },
          "metadata": {},
          "execution_count": 46
        }
      ]
    },
    {
      "cell_type": "code",
      "metadata": {
        "id": "mEox5bvnKyWo"
      },
      "source": [
        ""
      ],
      "execution_count": null,
      "outputs": []
    },
    {
      "cell_type": "code",
      "metadata": {
        "colab": {
          "base_uri": "https://localhost:8080/"
        },
        "id": "abpJSomZKfzg",
        "outputId": "6b4cf0df-6413-49a4-eb83-f98ef376720d"
      },
      "source": [
        "lista = [1,2,3,2,2,3]\n",
        "conjunto = set(lista)  # elimina repetidos\n",
        "conjunto"
      ],
      "execution_count": null,
      "outputs": [
        {
          "output_type": "execute_result",
          "data": {
            "text/plain": [
              "{1, 2, 3}"
            ]
          },
          "metadata": {},
          "execution_count": 47
        }
      ]
    },
    {
      "cell_type": "markdown",
      "metadata": {
        "id": "y9iRdPKUDInD"
      },
      "source": [
        "### Cinco amigos hacen una carrera\n",
        "* A = Ana\n",
        "* E = Edu\n",
        "* I = Isa\n",
        "* O = Oscar\n",
        "* U = Unai\n",
        "\n",
        "Queremos saber todas las posibles combinaciones en las que pueden llegar a la meta.\n",
        "\n",
        "Incluir un contador para calcular cuantas posibilidades existen."
      ]
    },
    {
      "cell_type": "markdown",
      "metadata": {
        "id": "y1UDje15EKEx"
      },
      "source": [
        "#### Solución\n",
        "Se trata de las permutaciones sin repetición de 5 elementos que es 5 factorial.\n",
        "\n",
        "$$P(n) = n! = 5! = 5*4*3*2*1 = 120$$"
      ]
    },
    {
      "cell_type": "code",
      "metadata": {
        "colab": {
          "base_uri": "https://localhost:8080/"
        },
        "id": "jpGQgYFKEck9",
        "outputId": "272a87ad-3940-49eb-8dbc-1457e24c99fc"
      },
      "source": [
        "amigos = \"AEIOU\"\n",
        "lista =list(amigos)\n",
        "contador = 0\n",
        "for i in lista:\n",
        "  for j in lista:\n",
        "    for k in lista:\n",
        "      for l in lista:\n",
        "        for m in lista:\n",
        "          if i!=j and i!=k and i!=l and i!=m and \\\n",
        "            j!=k and j!=l and j!=m and \\\n",
        "            k!=l and k!=m and \\\n",
        "            l!=m:\n",
        "            orden =[i,j,k,l,m]\n",
        "            contador += 1\n",
        "            print(f\"{contador:3d} → {orden}\")"
      ],
      "execution_count": null,
      "outputs": [
        {
          "output_type": "stream",
          "name": "stdout",
          "text": [
            "  1 → ['A', 'E', 'I', 'O', 'U']\n",
            "  2 → ['A', 'E', 'I', 'U', 'O']\n",
            "  3 → ['A', 'E', 'O', 'I', 'U']\n",
            "  4 → ['A', 'E', 'O', 'U', 'I']\n",
            "  5 → ['A', 'E', 'U', 'I', 'O']\n",
            "  6 → ['A', 'E', 'U', 'O', 'I']\n",
            "  7 → ['A', 'I', 'E', 'O', 'U']\n",
            "  8 → ['A', 'I', 'E', 'U', 'O']\n",
            "  9 → ['A', 'I', 'O', 'E', 'U']\n",
            " 10 → ['A', 'I', 'O', 'U', 'E']\n",
            " 11 → ['A', 'I', 'U', 'E', 'O']\n",
            " 12 → ['A', 'I', 'U', 'O', 'E']\n",
            " 13 → ['A', 'O', 'E', 'I', 'U']\n",
            " 14 → ['A', 'O', 'E', 'U', 'I']\n",
            " 15 → ['A', 'O', 'I', 'E', 'U']\n",
            " 16 → ['A', 'O', 'I', 'U', 'E']\n",
            " 17 → ['A', 'O', 'U', 'E', 'I']\n",
            " 18 → ['A', 'O', 'U', 'I', 'E']\n",
            " 19 → ['A', 'U', 'E', 'I', 'O']\n",
            " 20 → ['A', 'U', 'E', 'O', 'I']\n",
            " 21 → ['A', 'U', 'I', 'E', 'O']\n",
            " 22 → ['A', 'U', 'I', 'O', 'E']\n",
            " 23 → ['A', 'U', 'O', 'E', 'I']\n",
            " 24 → ['A', 'U', 'O', 'I', 'E']\n",
            " 25 → ['E', 'A', 'I', 'O', 'U']\n",
            " 26 → ['E', 'A', 'I', 'U', 'O']\n",
            " 27 → ['E', 'A', 'O', 'I', 'U']\n",
            " 28 → ['E', 'A', 'O', 'U', 'I']\n",
            " 29 → ['E', 'A', 'U', 'I', 'O']\n",
            " 30 → ['E', 'A', 'U', 'O', 'I']\n",
            " 31 → ['E', 'I', 'A', 'O', 'U']\n",
            " 32 → ['E', 'I', 'A', 'U', 'O']\n",
            " 33 → ['E', 'I', 'O', 'A', 'U']\n",
            " 34 → ['E', 'I', 'O', 'U', 'A']\n",
            " 35 → ['E', 'I', 'U', 'A', 'O']\n",
            " 36 → ['E', 'I', 'U', 'O', 'A']\n",
            " 37 → ['E', 'O', 'A', 'I', 'U']\n",
            " 38 → ['E', 'O', 'A', 'U', 'I']\n",
            " 39 → ['E', 'O', 'I', 'A', 'U']\n",
            " 40 → ['E', 'O', 'I', 'U', 'A']\n",
            " 41 → ['E', 'O', 'U', 'A', 'I']\n",
            " 42 → ['E', 'O', 'U', 'I', 'A']\n",
            " 43 → ['E', 'U', 'A', 'I', 'O']\n",
            " 44 → ['E', 'U', 'A', 'O', 'I']\n",
            " 45 → ['E', 'U', 'I', 'A', 'O']\n",
            " 46 → ['E', 'U', 'I', 'O', 'A']\n",
            " 47 → ['E', 'U', 'O', 'A', 'I']\n",
            " 48 → ['E', 'U', 'O', 'I', 'A']\n",
            " 49 → ['I', 'A', 'E', 'O', 'U']\n",
            " 50 → ['I', 'A', 'E', 'U', 'O']\n",
            " 51 → ['I', 'A', 'O', 'E', 'U']\n",
            " 52 → ['I', 'A', 'O', 'U', 'E']\n",
            " 53 → ['I', 'A', 'U', 'E', 'O']\n",
            " 54 → ['I', 'A', 'U', 'O', 'E']\n",
            " 55 → ['I', 'E', 'A', 'O', 'U']\n",
            " 56 → ['I', 'E', 'A', 'U', 'O']\n",
            " 57 → ['I', 'E', 'O', 'A', 'U']\n",
            " 58 → ['I', 'E', 'O', 'U', 'A']\n",
            " 59 → ['I', 'E', 'U', 'A', 'O']\n",
            " 60 → ['I', 'E', 'U', 'O', 'A']\n",
            " 61 → ['I', 'O', 'A', 'E', 'U']\n",
            " 62 → ['I', 'O', 'A', 'U', 'E']\n",
            " 63 → ['I', 'O', 'E', 'A', 'U']\n",
            " 64 → ['I', 'O', 'E', 'U', 'A']\n",
            " 65 → ['I', 'O', 'U', 'A', 'E']\n",
            " 66 → ['I', 'O', 'U', 'E', 'A']\n",
            " 67 → ['I', 'U', 'A', 'E', 'O']\n",
            " 68 → ['I', 'U', 'A', 'O', 'E']\n",
            " 69 → ['I', 'U', 'E', 'A', 'O']\n",
            " 70 → ['I', 'U', 'E', 'O', 'A']\n",
            " 71 → ['I', 'U', 'O', 'A', 'E']\n",
            " 72 → ['I', 'U', 'O', 'E', 'A']\n",
            " 73 → ['O', 'A', 'E', 'I', 'U']\n",
            " 74 → ['O', 'A', 'E', 'U', 'I']\n",
            " 75 → ['O', 'A', 'I', 'E', 'U']\n",
            " 76 → ['O', 'A', 'I', 'U', 'E']\n",
            " 77 → ['O', 'A', 'U', 'E', 'I']\n",
            " 78 → ['O', 'A', 'U', 'I', 'E']\n",
            " 79 → ['O', 'E', 'A', 'I', 'U']\n",
            " 80 → ['O', 'E', 'A', 'U', 'I']\n",
            " 81 → ['O', 'E', 'I', 'A', 'U']\n",
            " 82 → ['O', 'E', 'I', 'U', 'A']\n",
            " 83 → ['O', 'E', 'U', 'A', 'I']\n",
            " 84 → ['O', 'E', 'U', 'I', 'A']\n",
            " 85 → ['O', 'I', 'A', 'E', 'U']\n",
            " 86 → ['O', 'I', 'A', 'U', 'E']\n",
            " 87 → ['O', 'I', 'E', 'A', 'U']\n",
            " 88 → ['O', 'I', 'E', 'U', 'A']\n",
            " 89 → ['O', 'I', 'U', 'A', 'E']\n",
            " 90 → ['O', 'I', 'U', 'E', 'A']\n",
            " 91 → ['O', 'U', 'A', 'E', 'I']\n",
            " 92 → ['O', 'U', 'A', 'I', 'E']\n",
            " 93 → ['O', 'U', 'E', 'A', 'I']\n",
            " 94 → ['O', 'U', 'E', 'I', 'A']\n",
            " 95 → ['O', 'U', 'I', 'A', 'E']\n",
            " 96 → ['O', 'U', 'I', 'E', 'A']\n",
            " 97 → ['U', 'A', 'E', 'I', 'O']\n",
            " 98 → ['U', 'A', 'E', 'O', 'I']\n",
            " 99 → ['U', 'A', 'I', 'E', 'O']\n",
            "100 → ['U', 'A', 'I', 'O', 'E']\n",
            "101 → ['U', 'A', 'O', 'E', 'I']\n",
            "102 → ['U', 'A', 'O', 'I', 'E']\n",
            "103 → ['U', 'E', 'A', 'I', 'O']\n",
            "104 → ['U', 'E', 'A', 'O', 'I']\n",
            "105 → ['U', 'E', 'I', 'A', 'O']\n",
            "106 → ['U', 'E', 'I', 'O', 'A']\n",
            "107 → ['U', 'E', 'O', 'A', 'I']\n",
            "108 → ['U', 'E', 'O', 'I', 'A']\n",
            "109 → ['U', 'I', 'A', 'E', 'O']\n",
            "110 → ['U', 'I', 'A', 'O', 'E']\n",
            "111 → ['U', 'I', 'E', 'A', 'O']\n",
            "112 → ['U', 'I', 'E', 'O', 'A']\n",
            "113 → ['U', 'I', 'O', 'A', 'E']\n",
            "114 → ['U', 'I', 'O', 'E', 'A']\n",
            "115 → ['U', 'O', 'A', 'E', 'I']\n",
            "116 → ['U', 'O', 'A', 'I', 'E']\n",
            "117 → ['U', 'O', 'E', 'A', 'I']\n",
            "118 → ['U', 'O', 'E', 'I', 'A']\n",
            "119 → ['U', 'O', 'I', 'A', 'E']\n",
            "120 → ['U', 'O', 'I', 'E', 'A']\n"
          ]
        }
      ]
    },
    {
      "cell_type": "markdown",
      "metadata": {
        "id": "H52qCD0eJfq4"
      },
      "source": [
        "#### Solución 2"
      ]
    },
    {
      "cell_type": "code",
      "metadata": {
        "colab": {
          "base_uri": "https://localhost:8080/"
        },
        "id": "jOrbJz1BIwhb",
        "outputId": "5fee676f-1f91-4805-90d4-7f8fb00616db"
      },
      "source": [
        "amigos = \"AEIOU\"\n",
        "lista =list(amigos)\n",
        "contador = 0\n",
        "for i in lista:\n",
        "  for j in lista:\n",
        "    for k in lista:\n",
        "      for l in lista:\n",
        "        for m in lista:\n",
        "          orden =[i,j,k,l,m]\n",
        "          if len(set(orden))==5:  # set convierte la lista en un conjunto que no admite repetidos\n",
        "            contador += 1\n",
        "            print(f\"{contador:3d} → {orden}\")"
      ],
      "execution_count": null,
      "outputs": [
        {
          "output_type": "stream",
          "name": "stdout",
          "text": [
            "  1 → ['A', 'E', 'I', 'O', 'U']\n",
            "  2 → ['A', 'E', 'I', 'U', 'O']\n",
            "  3 → ['A', 'E', 'O', 'I', 'U']\n",
            "  4 → ['A', 'E', 'O', 'U', 'I']\n",
            "  5 → ['A', 'E', 'U', 'I', 'O']\n",
            "  6 → ['A', 'E', 'U', 'O', 'I']\n",
            "  7 → ['A', 'I', 'E', 'O', 'U']\n",
            "  8 → ['A', 'I', 'E', 'U', 'O']\n",
            "  9 → ['A', 'I', 'O', 'E', 'U']\n",
            " 10 → ['A', 'I', 'O', 'U', 'E']\n",
            " 11 → ['A', 'I', 'U', 'E', 'O']\n",
            " 12 → ['A', 'I', 'U', 'O', 'E']\n",
            " 13 → ['A', 'O', 'E', 'I', 'U']\n",
            " 14 → ['A', 'O', 'E', 'U', 'I']\n",
            " 15 → ['A', 'O', 'I', 'E', 'U']\n",
            " 16 → ['A', 'O', 'I', 'U', 'E']\n",
            " 17 → ['A', 'O', 'U', 'E', 'I']\n",
            " 18 → ['A', 'O', 'U', 'I', 'E']\n",
            " 19 → ['A', 'U', 'E', 'I', 'O']\n",
            " 20 → ['A', 'U', 'E', 'O', 'I']\n",
            " 21 → ['A', 'U', 'I', 'E', 'O']\n",
            " 22 → ['A', 'U', 'I', 'O', 'E']\n",
            " 23 → ['A', 'U', 'O', 'E', 'I']\n",
            " 24 → ['A', 'U', 'O', 'I', 'E']\n",
            " 25 → ['E', 'A', 'I', 'O', 'U']\n",
            " 26 → ['E', 'A', 'I', 'U', 'O']\n",
            " 27 → ['E', 'A', 'O', 'I', 'U']\n",
            " 28 → ['E', 'A', 'O', 'U', 'I']\n",
            " 29 → ['E', 'A', 'U', 'I', 'O']\n",
            " 30 → ['E', 'A', 'U', 'O', 'I']\n",
            " 31 → ['E', 'I', 'A', 'O', 'U']\n",
            " 32 → ['E', 'I', 'A', 'U', 'O']\n",
            " 33 → ['E', 'I', 'O', 'A', 'U']\n",
            " 34 → ['E', 'I', 'O', 'U', 'A']\n",
            " 35 → ['E', 'I', 'U', 'A', 'O']\n",
            " 36 → ['E', 'I', 'U', 'O', 'A']\n",
            " 37 → ['E', 'O', 'A', 'I', 'U']\n",
            " 38 → ['E', 'O', 'A', 'U', 'I']\n",
            " 39 → ['E', 'O', 'I', 'A', 'U']\n",
            " 40 → ['E', 'O', 'I', 'U', 'A']\n",
            " 41 → ['E', 'O', 'U', 'A', 'I']\n",
            " 42 → ['E', 'O', 'U', 'I', 'A']\n",
            " 43 → ['E', 'U', 'A', 'I', 'O']\n",
            " 44 → ['E', 'U', 'A', 'O', 'I']\n",
            " 45 → ['E', 'U', 'I', 'A', 'O']\n",
            " 46 → ['E', 'U', 'I', 'O', 'A']\n",
            " 47 → ['E', 'U', 'O', 'A', 'I']\n",
            " 48 → ['E', 'U', 'O', 'I', 'A']\n",
            " 49 → ['I', 'A', 'E', 'O', 'U']\n",
            " 50 → ['I', 'A', 'E', 'U', 'O']\n",
            " 51 → ['I', 'A', 'O', 'E', 'U']\n",
            " 52 → ['I', 'A', 'O', 'U', 'E']\n",
            " 53 → ['I', 'A', 'U', 'E', 'O']\n",
            " 54 → ['I', 'A', 'U', 'O', 'E']\n",
            " 55 → ['I', 'E', 'A', 'O', 'U']\n",
            " 56 → ['I', 'E', 'A', 'U', 'O']\n",
            " 57 → ['I', 'E', 'O', 'A', 'U']\n",
            " 58 → ['I', 'E', 'O', 'U', 'A']\n",
            " 59 → ['I', 'E', 'U', 'A', 'O']\n",
            " 60 → ['I', 'E', 'U', 'O', 'A']\n",
            " 61 → ['I', 'O', 'A', 'E', 'U']\n",
            " 62 → ['I', 'O', 'A', 'U', 'E']\n",
            " 63 → ['I', 'O', 'E', 'A', 'U']\n",
            " 64 → ['I', 'O', 'E', 'U', 'A']\n",
            " 65 → ['I', 'O', 'U', 'A', 'E']\n",
            " 66 → ['I', 'O', 'U', 'E', 'A']\n",
            " 67 → ['I', 'U', 'A', 'E', 'O']\n",
            " 68 → ['I', 'U', 'A', 'O', 'E']\n",
            " 69 → ['I', 'U', 'E', 'A', 'O']\n",
            " 70 → ['I', 'U', 'E', 'O', 'A']\n",
            " 71 → ['I', 'U', 'O', 'A', 'E']\n",
            " 72 → ['I', 'U', 'O', 'E', 'A']\n",
            " 73 → ['O', 'A', 'E', 'I', 'U']\n",
            " 74 → ['O', 'A', 'E', 'U', 'I']\n",
            " 75 → ['O', 'A', 'I', 'E', 'U']\n",
            " 76 → ['O', 'A', 'I', 'U', 'E']\n",
            " 77 → ['O', 'A', 'U', 'E', 'I']\n",
            " 78 → ['O', 'A', 'U', 'I', 'E']\n",
            " 79 → ['O', 'E', 'A', 'I', 'U']\n",
            " 80 → ['O', 'E', 'A', 'U', 'I']\n",
            " 81 → ['O', 'E', 'I', 'A', 'U']\n",
            " 82 → ['O', 'E', 'I', 'U', 'A']\n",
            " 83 → ['O', 'E', 'U', 'A', 'I']\n",
            " 84 → ['O', 'E', 'U', 'I', 'A']\n",
            " 85 → ['O', 'I', 'A', 'E', 'U']\n",
            " 86 → ['O', 'I', 'A', 'U', 'E']\n",
            " 87 → ['O', 'I', 'E', 'A', 'U']\n",
            " 88 → ['O', 'I', 'E', 'U', 'A']\n",
            " 89 → ['O', 'I', 'U', 'A', 'E']\n",
            " 90 → ['O', 'I', 'U', 'E', 'A']\n",
            " 91 → ['O', 'U', 'A', 'E', 'I']\n",
            " 92 → ['O', 'U', 'A', 'I', 'E']\n",
            " 93 → ['O', 'U', 'E', 'A', 'I']\n",
            " 94 → ['O', 'U', 'E', 'I', 'A']\n",
            " 95 → ['O', 'U', 'I', 'A', 'E']\n",
            " 96 → ['O', 'U', 'I', 'E', 'A']\n",
            " 97 → ['U', 'A', 'E', 'I', 'O']\n",
            " 98 → ['U', 'A', 'E', 'O', 'I']\n",
            " 99 → ['U', 'A', 'I', 'E', 'O']\n",
            "100 → ['U', 'A', 'I', 'O', 'E']\n",
            "101 → ['U', 'A', 'O', 'E', 'I']\n",
            "102 → ['U', 'A', 'O', 'I', 'E']\n",
            "103 → ['U', 'E', 'A', 'I', 'O']\n",
            "104 → ['U', 'E', 'A', 'O', 'I']\n",
            "105 → ['U', 'E', 'I', 'A', 'O']\n",
            "106 → ['U', 'E', 'I', 'O', 'A']\n",
            "107 → ['U', 'E', 'O', 'A', 'I']\n",
            "108 → ['U', 'E', 'O', 'I', 'A']\n",
            "109 → ['U', 'I', 'A', 'E', 'O']\n",
            "110 → ['U', 'I', 'A', 'O', 'E']\n",
            "111 → ['U', 'I', 'E', 'A', 'O']\n",
            "112 → ['U', 'I', 'E', 'O', 'A']\n",
            "113 → ['U', 'I', 'O', 'A', 'E']\n",
            "114 → ['U', 'I', 'O', 'E', 'A']\n",
            "115 → ['U', 'O', 'A', 'E', 'I']\n",
            "116 → ['U', 'O', 'A', 'I', 'E']\n",
            "117 → ['U', 'O', 'E', 'A', 'I']\n",
            "118 → ['U', 'O', 'E', 'I', 'A']\n",
            "119 → ['U', 'O', 'I', 'A', 'E']\n",
            "120 → ['U', 'O', 'I', 'E', 'A']\n"
          ]
        }
      ]
    },
    {
      "cell_type": "markdown",
      "metadata": {
        "id": "4V2Ql4sILUUe"
      },
      "source": [
        "### Dando nombre a 20.000 planetas\n",
        "* Con el telescopio espacial es posible que se descubran 20.000 planetas\n",
        "* Una asociación astronómica quiere dar nombre a todos ellos.\n",
        "* Deseamos formar nombres de 3 sílabas que se puedan formar con 3 consonantes y 5 vocales.\n",
        "* En el nombre se alterna consonante y vocal\n",
        "* Será: consonante + vocal + consonante + vocal + consonante + vocal\n",
        "* No se repite ninguna letra en cada nombre\n",
        "* Se genera una lista con todas las combinaciones\n",
        "* Esa lista no se mustra porque es muy larga\n",
        "* De la lista se mustran aleatoriamente 20 nombres."
      ]
    },
    {
      "cell_type": "markdown",
      "metadata": {
        "id": "Hm7kALTmMYK2"
      },
      "source": [
        "#### Solución\n",
        "* El orden si importa, ya que no es lo mismo 'cosati' que 'ticosa'.\n",
        "* Se toman algunos elementos ya que de las 10 consonantes disponibles se toman 3, y de las 5 vocales vamos a tomar 3.\n",
        "* Sin repetición, ya que no se puede repetir ninguna consonante ni ninguna vocal.\n",
        "* Se trata de VARIACIONES sin repetición.\n",
        "\n",
        "$$V(n,m) = \\frac{m!}{(m-n)!}$$\n",
        "\n",
        "* Aplicando la fórmula a las consonantes tenemos:\n",
        "$$\\frac{10!}{(10-3)!} = 10*9*8 =720$$\n",
        "\n",
        "* Aplicando la fórmula a las vocales tenemos:\n",
        "$$\\frac{5!}{(5-3)!} = 5*4*3 =60$$\n",
        "\n",
        "* Total = Consonantes * Vocales\n",
        "* Total = 710 * 60 = 43.200\n",
        "\n",
        "* Como son 20.000 planetas nos sobran combinaciones de nombres para atender a todos."
      ]
    },
    {
      "cell_type": "code",
      "metadata": {
        "colab": {
          "base_uri": "https://localhost:8080/"
        },
        "id": "5BWGUnSzOg0P",
        "outputId": "238a0f51-b9ea-4e47-cc8a-e35e1a23e03e"
      },
      "source": [
        "import random\n",
        "consonantes = \"bcdflnprst\"\n",
        "vocales = \"aeiou\"\n",
        "nombres = []  # lista que recoge los nombres que se formen\n",
        "# seis bucles for ya que son nombres de 6 letras\n",
        "for c1 in consonantes:\n",
        "  for v1 in vocales:\n",
        "    for c2 in consonantes:\n",
        "      for v2 in vocales:\n",
        "        for c3 in consonantes:\n",
        "          for v3 in vocales:\n",
        "            if c1!=c2 and c1!=c3 and c2!=c3 and \\\n",
        "               v1!=v2 and v1!=v3 and v2!=v3:           # si todas las consonantes son distintas y todas las vocales son distintas\n",
        "               nombre = c1+v1+c2+v2+c3+v3\n",
        "               nombres.append(nombre.capitalize())\n",
        "               #print(nombre)\n",
        "print(f\"Se han generado {len(nombres)} nombres.\")\n",
        "print(\"De entre ellos elegimos 20 nombres.\")\n",
        "random.choices(nombres, k=20)"
      ],
      "execution_count": null,
      "outputs": [
        {
          "output_type": "stream",
          "name": "stdout",
          "text": [
            "Se han generado 43200 nombres.\n",
            "De entre ellos elegimos 20 nombres.\n"
          ]
        },
        {
          "output_type": "execute_result",
          "data": {
            "text/plain": [
              "['Sofeta',\n",
              " 'Pufice',\n",
              " 'Cenisa',\n",
              " 'Nalebi',\n",
              " 'Sedubo',\n",
              " 'Poreni',\n",
              " 'Nerosu',\n",
              " 'Cibote',\n",
              " 'Ducole',\n",
              " 'Leconi',\n",
              " 'Bopesu',\n",
              " 'Topebu',\n",
              " 'Fesanu',\n",
              " 'Rotasu',\n",
              " 'Delino',\n",
              " 'Fepobu',\n",
              " 'Bafeci',\n",
              " 'Cinofu',\n",
              " 'Funola',\n",
              " 'Dasibo']"
            ]
          },
          "metadata": {},
          "execution_count": 52
        }
      ]
    },
    {
      "cell_type": "markdown",
      "metadata": {
        "id": "C-oPgDivUJof"
      },
      "source": [
        "### Lotería\n",
        "* En una lotería hay un bombo que tiene 10 bolas, con los números del 0 al 9.\n",
        "* En un sorteo se sacan 5 bolas\n",
        "* Las bolsas que se sacan no se vuleven a introducir\n",
        "* Queremos conocer todas las apustas posibles, esto es\n",
        "* queremos conocer todas las combinaciones posibles que se pueden dar en esa lotería\n",
        "* Incluiremos un contador para comprobar el número de combinaciones obtenidas."
      ]
    },
    {
      "cell_type": "markdown",
      "metadata": {
        "id": "03VY3zP-ZTSf"
      },
      "source": [
        "#### Solución 1\n",
        "* Son combinaciones sin repetición de 10 elementos tomados de 5 en 5.\n",
        "\n",
        "$$C(10,5)=\\frac{m!}{n!*(m-n)!}=\\frac{10!}{5!*(10-5)!}=\\frac{10*9*8*7*6}{5*4*3*2*1}=\\frac{30240}{120}=252$$"
      ]
    },
    {
      "cell_type": "code",
      "metadata": {
        "colab": {
          "base_uri": "https://localhost:8080/"
        },
        "id": "6puVUL7dU5dZ",
        "outputId": "a6b97d81-8e80-481d-d0c1-17850e53efc3"
      },
      "source": [
        "numeros = '9876543210'\n",
        "bolas = list(numeros)\n",
        "bolas.sort()\n",
        "bolas\n",
        "contador = 0\n",
        "combinaciones = []\n",
        "for i in range(10):\n",
        "  for j in range(10):\n",
        "    for k in range(10):\n",
        "      for l in range(10):\n",
        "        for m in range(10):\n",
        "          n = str(i) + str(j) + str(k) + str(l) + str(m)\n",
        "          n=sorted(n)\n",
        "          if len(set(n))==5 and n not in combinaciones:\n",
        "            combinaciones.append(n)\n",
        "            contador += 1\n",
        "print(f\"Existen {contador} combinaciones\")\n",
        "print(combinaciones)"
      ],
      "execution_count": null,
      "outputs": [
        {
          "output_type": "stream",
          "name": "stdout",
          "text": [
            "Existen 252 combinaciones\n",
            "[['0', '1', '2', '3', '4'], ['0', '1', '2', '3', '5'], ['0', '1', '2', '3', '6'], ['0', '1', '2', '3', '7'], ['0', '1', '2', '3', '8'], ['0', '1', '2', '3', '9'], ['0', '1', '2', '4', '5'], ['0', '1', '2', '4', '6'], ['0', '1', '2', '4', '7'], ['0', '1', '2', '4', '8'], ['0', '1', '2', '4', '9'], ['0', '1', '2', '5', '6'], ['0', '1', '2', '5', '7'], ['0', '1', '2', '5', '8'], ['0', '1', '2', '5', '9'], ['0', '1', '2', '6', '7'], ['0', '1', '2', '6', '8'], ['0', '1', '2', '6', '9'], ['0', '1', '2', '7', '8'], ['0', '1', '2', '7', '9'], ['0', '1', '2', '8', '9'], ['0', '1', '3', '4', '5'], ['0', '1', '3', '4', '6'], ['0', '1', '3', '4', '7'], ['0', '1', '3', '4', '8'], ['0', '1', '3', '4', '9'], ['0', '1', '3', '5', '6'], ['0', '1', '3', '5', '7'], ['0', '1', '3', '5', '8'], ['0', '1', '3', '5', '9'], ['0', '1', '3', '6', '7'], ['0', '1', '3', '6', '8'], ['0', '1', '3', '6', '9'], ['0', '1', '3', '7', '8'], ['0', '1', '3', '7', '9'], ['0', '1', '3', '8', '9'], ['0', '1', '4', '5', '6'], ['0', '1', '4', '5', '7'], ['0', '1', '4', '5', '8'], ['0', '1', '4', '5', '9'], ['0', '1', '4', '6', '7'], ['0', '1', '4', '6', '8'], ['0', '1', '4', '6', '9'], ['0', '1', '4', '7', '8'], ['0', '1', '4', '7', '9'], ['0', '1', '4', '8', '9'], ['0', '1', '5', '6', '7'], ['0', '1', '5', '6', '8'], ['0', '1', '5', '6', '9'], ['0', '1', '5', '7', '8'], ['0', '1', '5', '7', '9'], ['0', '1', '5', '8', '9'], ['0', '1', '6', '7', '8'], ['0', '1', '6', '7', '9'], ['0', '1', '6', '8', '9'], ['0', '1', '7', '8', '9'], ['0', '2', '3', '4', '5'], ['0', '2', '3', '4', '6'], ['0', '2', '3', '4', '7'], ['0', '2', '3', '4', '8'], ['0', '2', '3', '4', '9'], ['0', '2', '3', '5', '6'], ['0', '2', '3', '5', '7'], ['0', '2', '3', '5', '8'], ['0', '2', '3', '5', '9'], ['0', '2', '3', '6', '7'], ['0', '2', '3', '6', '8'], ['0', '2', '3', '6', '9'], ['0', '2', '3', '7', '8'], ['0', '2', '3', '7', '9'], ['0', '2', '3', '8', '9'], ['0', '2', '4', '5', '6'], ['0', '2', '4', '5', '7'], ['0', '2', '4', '5', '8'], ['0', '2', '4', '5', '9'], ['0', '2', '4', '6', '7'], ['0', '2', '4', '6', '8'], ['0', '2', '4', '6', '9'], ['0', '2', '4', '7', '8'], ['0', '2', '4', '7', '9'], ['0', '2', '4', '8', '9'], ['0', '2', '5', '6', '7'], ['0', '2', '5', '6', '8'], ['0', '2', '5', '6', '9'], ['0', '2', '5', '7', '8'], ['0', '2', '5', '7', '9'], ['0', '2', '5', '8', '9'], ['0', '2', '6', '7', '8'], ['0', '2', '6', '7', '9'], ['0', '2', '6', '8', '9'], ['0', '2', '7', '8', '9'], ['0', '3', '4', '5', '6'], ['0', '3', '4', '5', '7'], ['0', '3', '4', '5', '8'], ['0', '3', '4', '5', '9'], ['0', '3', '4', '6', '7'], ['0', '3', '4', '6', '8'], ['0', '3', '4', '6', '9'], ['0', '3', '4', '7', '8'], ['0', '3', '4', '7', '9'], ['0', '3', '4', '8', '9'], ['0', '3', '5', '6', '7'], ['0', '3', '5', '6', '8'], ['0', '3', '5', '6', '9'], ['0', '3', '5', '7', '8'], ['0', '3', '5', '7', '9'], ['0', '3', '5', '8', '9'], ['0', '3', '6', '7', '8'], ['0', '3', '6', '7', '9'], ['0', '3', '6', '8', '9'], ['0', '3', '7', '8', '9'], ['0', '4', '5', '6', '7'], ['0', '4', '5', '6', '8'], ['0', '4', '5', '6', '9'], ['0', '4', '5', '7', '8'], ['0', '4', '5', '7', '9'], ['0', '4', '5', '8', '9'], ['0', '4', '6', '7', '8'], ['0', '4', '6', '7', '9'], ['0', '4', '6', '8', '9'], ['0', '4', '7', '8', '9'], ['0', '5', '6', '7', '8'], ['0', '5', '6', '7', '9'], ['0', '5', '6', '8', '9'], ['0', '5', '7', '8', '9'], ['0', '6', '7', '8', '9'], ['1', '2', '3', '4', '5'], ['1', '2', '3', '4', '6'], ['1', '2', '3', '4', '7'], ['1', '2', '3', '4', '8'], ['1', '2', '3', '4', '9'], ['1', '2', '3', '5', '6'], ['1', '2', '3', '5', '7'], ['1', '2', '3', '5', '8'], ['1', '2', '3', '5', '9'], ['1', '2', '3', '6', '7'], ['1', '2', '3', '6', '8'], ['1', '2', '3', '6', '9'], ['1', '2', '3', '7', '8'], ['1', '2', '3', '7', '9'], ['1', '2', '3', '8', '9'], ['1', '2', '4', '5', '6'], ['1', '2', '4', '5', '7'], ['1', '2', '4', '5', '8'], ['1', '2', '4', '5', '9'], ['1', '2', '4', '6', '7'], ['1', '2', '4', '6', '8'], ['1', '2', '4', '6', '9'], ['1', '2', '4', '7', '8'], ['1', '2', '4', '7', '9'], ['1', '2', '4', '8', '9'], ['1', '2', '5', '6', '7'], ['1', '2', '5', '6', '8'], ['1', '2', '5', '6', '9'], ['1', '2', '5', '7', '8'], ['1', '2', '5', '7', '9'], ['1', '2', '5', '8', '9'], ['1', '2', '6', '7', '8'], ['1', '2', '6', '7', '9'], ['1', '2', '6', '8', '9'], ['1', '2', '7', '8', '9'], ['1', '3', '4', '5', '6'], ['1', '3', '4', '5', '7'], ['1', '3', '4', '5', '8'], ['1', '3', '4', '5', '9'], ['1', '3', '4', '6', '7'], ['1', '3', '4', '6', '8'], ['1', '3', '4', '6', '9'], ['1', '3', '4', '7', '8'], ['1', '3', '4', '7', '9'], ['1', '3', '4', '8', '9'], ['1', '3', '5', '6', '7'], ['1', '3', '5', '6', '8'], ['1', '3', '5', '6', '9'], ['1', '3', '5', '7', '8'], ['1', '3', '5', '7', '9'], ['1', '3', '5', '8', '9'], ['1', '3', '6', '7', '8'], ['1', '3', '6', '7', '9'], ['1', '3', '6', '8', '9'], ['1', '3', '7', '8', '9'], ['1', '4', '5', '6', '7'], ['1', '4', '5', '6', '8'], ['1', '4', '5', '6', '9'], ['1', '4', '5', '7', '8'], ['1', '4', '5', '7', '9'], ['1', '4', '5', '8', '9'], ['1', '4', '6', '7', '8'], ['1', '4', '6', '7', '9'], ['1', '4', '6', '8', '9'], ['1', '4', '7', '8', '9'], ['1', '5', '6', '7', '8'], ['1', '5', '6', '7', '9'], ['1', '5', '6', '8', '9'], ['1', '5', '7', '8', '9'], ['1', '6', '7', '8', '9'], ['2', '3', '4', '5', '6'], ['2', '3', '4', '5', '7'], ['2', '3', '4', '5', '8'], ['2', '3', '4', '5', '9'], ['2', '3', '4', '6', '7'], ['2', '3', '4', '6', '8'], ['2', '3', '4', '6', '9'], ['2', '3', '4', '7', '8'], ['2', '3', '4', '7', '9'], ['2', '3', '4', '8', '9'], ['2', '3', '5', '6', '7'], ['2', '3', '5', '6', '8'], ['2', '3', '5', '6', '9'], ['2', '3', '5', '7', '8'], ['2', '3', '5', '7', '9'], ['2', '3', '5', '8', '9'], ['2', '3', '6', '7', '8'], ['2', '3', '6', '7', '9'], ['2', '3', '6', '8', '9'], ['2', '3', '7', '8', '9'], ['2', '4', '5', '6', '7'], ['2', '4', '5', '6', '8'], ['2', '4', '5', '6', '9'], ['2', '4', '5', '7', '8'], ['2', '4', '5', '7', '9'], ['2', '4', '5', '8', '9'], ['2', '4', '6', '7', '8'], ['2', '4', '6', '7', '9'], ['2', '4', '6', '8', '9'], ['2', '4', '7', '8', '9'], ['2', '5', '6', '7', '8'], ['2', '5', '6', '7', '9'], ['2', '5', '6', '8', '9'], ['2', '5', '7', '8', '9'], ['2', '6', '7', '8', '9'], ['3', '4', '5', '6', '7'], ['3', '4', '5', '6', '8'], ['3', '4', '5', '6', '9'], ['3', '4', '5', '7', '8'], ['3', '4', '5', '7', '9'], ['3', '4', '5', '8', '9'], ['3', '4', '6', '7', '8'], ['3', '4', '6', '7', '9'], ['3', '4', '6', '8', '9'], ['3', '4', '7', '8', '9'], ['3', '5', '6', '7', '8'], ['3', '5', '6', '7', '9'], ['3', '5', '6', '8', '9'], ['3', '5', '7', '8', '9'], ['3', '6', '7', '8', '9'], ['4', '5', '6', '7', '8'], ['4', '5', '6', '7', '9'], ['4', '5', '6', '8', '9'], ['4', '5', '7', '8', '9'], ['4', '6', '7', '8', '9'], ['5', '6', '7', '8', '9']]\n"
          ]
        }
      ]
    },
    {
      "cell_type": "markdown",
      "metadata": {
        "id": "SG2uZ0SaaF-n"
      },
      "source": [
        "#### Solución 2"
      ]
    },
    {
      "cell_type": "code",
      "metadata": {
        "colab": {
          "base_uri": "https://localhost:8080/"
        },
        "id": "-YHUJlGZaI22",
        "outputId": "7d6d6f6b-acf4-4cd8-f966-5e6accf27ee4"
      },
      "source": [
        "combinaciones = []\n",
        "contador = 0\n",
        "for i in range(10):\n",
        "  for j in range(10):\n",
        "    for k in range(10):\n",
        "      for l in range(10):\n",
        "        for m in range(10):\n",
        "          if i!=j and i!=k and i!=l and i!=m and \\\n",
        "             j!=k and j!=l and j!=m and \\\n",
        "             k!=l and k!=m and \\\n",
        "             l!=m:\n",
        "             comb = [i,j,k,l,m]\n",
        "             comb.sort()\n",
        "             if comb not in combinaciones:\n",
        "               combinaciones.append(comb)\n",
        "               contador += 1\n",
        "               print(f\"{contador:3d} {comb}\")\n"
      ],
      "execution_count": null,
      "outputs": [
        {
          "output_type": "stream",
          "name": "stdout",
          "text": [
            "  1 [0, 1, 2, 3, 4]\n",
            "  2 [0, 1, 2, 3, 5]\n",
            "  3 [0, 1, 2, 3, 6]\n",
            "  4 [0, 1, 2, 3, 7]\n",
            "  5 [0, 1, 2, 3, 8]\n",
            "  6 [0, 1, 2, 3, 9]\n",
            "  7 [0, 1, 2, 4, 5]\n",
            "  8 [0, 1, 2, 4, 6]\n",
            "  9 [0, 1, 2, 4, 7]\n",
            " 10 [0, 1, 2, 4, 8]\n",
            " 11 [0, 1, 2, 4, 9]\n",
            " 12 [0, 1, 2, 5, 6]\n",
            " 13 [0, 1, 2, 5, 7]\n",
            " 14 [0, 1, 2, 5, 8]\n",
            " 15 [0, 1, 2, 5, 9]\n",
            " 16 [0, 1, 2, 6, 7]\n",
            " 17 [0, 1, 2, 6, 8]\n",
            " 18 [0, 1, 2, 6, 9]\n",
            " 19 [0, 1, 2, 7, 8]\n",
            " 20 [0, 1, 2, 7, 9]\n",
            " 21 [0, 1, 2, 8, 9]\n",
            " 22 [0, 1, 3, 4, 5]\n",
            " 23 [0, 1, 3, 4, 6]\n",
            " 24 [0, 1, 3, 4, 7]\n",
            " 25 [0, 1, 3, 4, 8]\n",
            " 26 [0, 1, 3, 4, 9]\n",
            " 27 [0, 1, 3, 5, 6]\n",
            " 28 [0, 1, 3, 5, 7]\n",
            " 29 [0, 1, 3, 5, 8]\n",
            " 30 [0, 1, 3, 5, 9]\n",
            " 31 [0, 1, 3, 6, 7]\n",
            " 32 [0, 1, 3, 6, 8]\n",
            " 33 [0, 1, 3, 6, 9]\n",
            " 34 [0, 1, 3, 7, 8]\n",
            " 35 [0, 1, 3, 7, 9]\n",
            " 36 [0, 1, 3, 8, 9]\n",
            " 37 [0, 1, 4, 5, 6]\n",
            " 38 [0, 1, 4, 5, 7]\n",
            " 39 [0, 1, 4, 5, 8]\n",
            " 40 [0, 1, 4, 5, 9]\n",
            " 41 [0, 1, 4, 6, 7]\n",
            " 42 [0, 1, 4, 6, 8]\n",
            " 43 [0, 1, 4, 6, 9]\n",
            " 44 [0, 1, 4, 7, 8]\n",
            " 45 [0, 1, 4, 7, 9]\n",
            " 46 [0, 1, 4, 8, 9]\n",
            " 47 [0, 1, 5, 6, 7]\n",
            " 48 [0, 1, 5, 6, 8]\n",
            " 49 [0, 1, 5, 6, 9]\n",
            " 50 [0, 1, 5, 7, 8]\n",
            " 51 [0, 1, 5, 7, 9]\n",
            " 52 [0, 1, 5, 8, 9]\n",
            " 53 [0, 1, 6, 7, 8]\n",
            " 54 [0, 1, 6, 7, 9]\n",
            " 55 [0, 1, 6, 8, 9]\n",
            " 56 [0, 1, 7, 8, 9]\n",
            " 57 [0, 2, 3, 4, 5]\n",
            " 58 [0, 2, 3, 4, 6]\n",
            " 59 [0, 2, 3, 4, 7]\n",
            " 60 [0, 2, 3, 4, 8]\n",
            " 61 [0, 2, 3, 4, 9]\n",
            " 62 [0, 2, 3, 5, 6]\n",
            " 63 [0, 2, 3, 5, 7]\n",
            " 64 [0, 2, 3, 5, 8]\n",
            " 65 [0, 2, 3, 5, 9]\n",
            " 66 [0, 2, 3, 6, 7]\n",
            " 67 [0, 2, 3, 6, 8]\n",
            " 68 [0, 2, 3, 6, 9]\n",
            " 69 [0, 2, 3, 7, 8]\n",
            " 70 [0, 2, 3, 7, 9]\n",
            " 71 [0, 2, 3, 8, 9]\n",
            " 72 [0, 2, 4, 5, 6]\n",
            " 73 [0, 2, 4, 5, 7]\n",
            " 74 [0, 2, 4, 5, 8]\n",
            " 75 [0, 2, 4, 5, 9]\n",
            " 76 [0, 2, 4, 6, 7]\n",
            " 77 [0, 2, 4, 6, 8]\n",
            " 78 [0, 2, 4, 6, 9]\n",
            " 79 [0, 2, 4, 7, 8]\n",
            " 80 [0, 2, 4, 7, 9]\n",
            " 81 [0, 2, 4, 8, 9]\n",
            " 82 [0, 2, 5, 6, 7]\n",
            " 83 [0, 2, 5, 6, 8]\n",
            " 84 [0, 2, 5, 6, 9]\n",
            " 85 [0, 2, 5, 7, 8]\n",
            " 86 [0, 2, 5, 7, 9]\n",
            " 87 [0, 2, 5, 8, 9]\n",
            " 88 [0, 2, 6, 7, 8]\n",
            " 89 [0, 2, 6, 7, 9]\n",
            " 90 [0, 2, 6, 8, 9]\n",
            " 91 [0, 2, 7, 8, 9]\n",
            " 92 [0, 3, 4, 5, 6]\n",
            " 93 [0, 3, 4, 5, 7]\n",
            " 94 [0, 3, 4, 5, 8]\n",
            " 95 [0, 3, 4, 5, 9]\n",
            " 96 [0, 3, 4, 6, 7]\n",
            " 97 [0, 3, 4, 6, 8]\n",
            " 98 [0, 3, 4, 6, 9]\n",
            " 99 [0, 3, 4, 7, 8]\n",
            "100 [0, 3, 4, 7, 9]\n",
            "101 [0, 3, 4, 8, 9]\n",
            "102 [0, 3, 5, 6, 7]\n",
            "103 [0, 3, 5, 6, 8]\n",
            "104 [0, 3, 5, 6, 9]\n",
            "105 [0, 3, 5, 7, 8]\n",
            "106 [0, 3, 5, 7, 9]\n",
            "107 [0, 3, 5, 8, 9]\n",
            "108 [0, 3, 6, 7, 8]\n",
            "109 [0, 3, 6, 7, 9]\n",
            "110 [0, 3, 6, 8, 9]\n",
            "111 [0, 3, 7, 8, 9]\n",
            "112 [0, 4, 5, 6, 7]\n",
            "113 [0, 4, 5, 6, 8]\n",
            "114 [0, 4, 5, 6, 9]\n",
            "115 [0, 4, 5, 7, 8]\n",
            "116 [0, 4, 5, 7, 9]\n",
            "117 [0, 4, 5, 8, 9]\n",
            "118 [0, 4, 6, 7, 8]\n",
            "119 [0, 4, 6, 7, 9]\n",
            "120 [0, 4, 6, 8, 9]\n",
            "121 [0, 4, 7, 8, 9]\n",
            "122 [0, 5, 6, 7, 8]\n",
            "123 [0, 5, 6, 7, 9]\n",
            "124 [0, 5, 6, 8, 9]\n",
            "125 [0, 5, 7, 8, 9]\n",
            "126 [0, 6, 7, 8, 9]\n",
            "127 [1, 2, 3, 4, 5]\n",
            "128 [1, 2, 3, 4, 6]\n",
            "129 [1, 2, 3, 4, 7]\n",
            "130 [1, 2, 3, 4, 8]\n",
            "131 [1, 2, 3, 4, 9]\n",
            "132 [1, 2, 3, 5, 6]\n",
            "133 [1, 2, 3, 5, 7]\n",
            "134 [1, 2, 3, 5, 8]\n",
            "135 [1, 2, 3, 5, 9]\n",
            "136 [1, 2, 3, 6, 7]\n",
            "137 [1, 2, 3, 6, 8]\n",
            "138 [1, 2, 3, 6, 9]\n",
            "139 [1, 2, 3, 7, 8]\n",
            "140 [1, 2, 3, 7, 9]\n",
            "141 [1, 2, 3, 8, 9]\n",
            "142 [1, 2, 4, 5, 6]\n",
            "143 [1, 2, 4, 5, 7]\n",
            "144 [1, 2, 4, 5, 8]\n",
            "145 [1, 2, 4, 5, 9]\n",
            "146 [1, 2, 4, 6, 7]\n",
            "147 [1, 2, 4, 6, 8]\n",
            "148 [1, 2, 4, 6, 9]\n",
            "149 [1, 2, 4, 7, 8]\n",
            "150 [1, 2, 4, 7, 9]\n",
            "151 [1, 2, 4, 8, 9]\n",
            "152 [1, 2, 5, 6, 7]\n",
            "153 [1, 2, 5, 6, 8]\n",
            "154 [1, 2, 5, 6, 9]\n",
            "155 [1, 2, 5, 7, 8]\n",
            "156 [1, 2, 5, 7, 9]\n",
            "157 [1, 2, 5, 8, 9]\n",
            "158 [1, 2, 6, 7, 8]\n",
            "159 [1, 2, 6, 7, 9]\n",
            "160 [1, 2, 6, 8, 9]\n",
            "161 [1, 2, 7, 8, 9]\n",
            "162 [1, 3, 4, 5, 6]\n",
            "163 [1, 3, 4, 5, 7]\n",
            "164 [1, 3, 4, 5, 8]\n",
            "165 [1, 3, 4, 5, 9]\n",
            "166 [1, 3, 4, 6, 7]\n",
            "167 [1, 3, 4, 6, 8]\n",
            "168 [1, 3, 4, 6, 9]\n",
            "169 [1, 3, 4, 7, 8]\n",
            "170 [1, 3, 4, 7, 9]\n",
            "171 [1, 3, 4, 8, 9]\n",
            "172 [1, 3, 5, 6, 7]\n",
            "173 [1, 3, 5, 6, 8]\n",
            "174 [1, 3, 5, 6, 9]\n",
            "175 [1, 3, 5, 7, 8]\n",
            "176 [1, 3, 5, 7, 9]\n",
            "177 [1, 3, 5, 8, 9]\n",
            "178 [1, 3, 6, 7, 8]\n",
            "179 [1, 3, 6, 7, 9]\n",
            "180 [1, 3, 6, 8, 9]\n",
            "181 [1, 3, 7, 8, 9]\n",
            "182 [1, 4, 5, 6, 7]\n",
            "183 [1, 4, 5, 6, 8]\n",
            "184 [1, 4, 5, 6, 9]\n",
            "185 [1, 4, 5, 7, 8]\n",
            "186 [1, 4, 5, 7, 9]\n",
            "187 [1, 4, 5, 8, 9]\n",
            "188 [1, 4, 6, 7, 8]\n",
            "189 [1, 4, 6, 7, 9]\n",
            "190 [1, 4, 6, 8, 9]\n",
            "191 [1, 4, 7, 8, 9]\n",
            "192 [1, 5, 6, 7, 8]\n",
            "193 [1, 5, 6, 7, 9]\n",
            "194 [1, 5, 6, 8, 9]\n",
            "195 [1, 5, 7, 8, 9]\n",
            "196 [1, 6, 7, 8, 9]\n",
            "197 [2, 3, 4, 5, 6]\n",
            "198 [2, 3, 4, 5, 7]\n",
            "199 [2, 3, 4, 5, 8]\n",
            "200 [2, 3, 4, 5, 9]\n",
            "201 [2, 3, 4, 6, 7]\n",
            "202 [2, 3, 4, 6, 8]\n",
            "203 [2, 3, 4, 6, 9]\n",
            "204 [2, 3, 4, 7, 8]\n",
            "205 [2, 3, 4, 7, 9]\n",
            "206 [2, 3, 4, 8, 9]\n",
            "207 [2, 3, 5, 6, 7]\n",
            "208 [2, 3, 5, 6, 8]\n",
            "209 [2, 3, 5, 6, 9]\n",
            "210 [2, 3, 5, 7, 8]\n",
            "211 [2, 3, 5, 7, 9]\n",
            "212 [2, 3, 5, 8, 9]\n",
            "213 [2, 3, 6, 7, 8]\n",
            "214 [2, 3, 6, 7, 9]\n",
            "215 [2, 3, 6, 8, 9]\n",
            "216 [2, 3, 7, 8, 9]\n",
            "217 [2, 4, 5, 6, 7]\n",
            "218 [2, 4, 5, 6, 8]\n",
            "219 [2, 4, 5, 6, 9]\n",
            "220 [2, 4, 5, 7, 8]\n",
            "221 [2, 4, 5, 7, 9]\n",
            "222 [2, 4, 5, 8, 9]\n",
            "223 [2, 4, 6, 7, 8]\n",
            "224 [2, 4, 6, 7, 9]\n",
            "225 [2, 4, 6, 8, 9]\n",
            "226 [2, 4, 7, 8, 9]\n",
            "227 [2, 5, 6, 7, 8]\n",
            "228 [2, 5, 6, 7, 9]\n",
            "229 [2, 5, 6, 8, 9]\n",
            "230 [2, 5, 7, 8, 9]\n",
            "231 [2, 6, 7, 8, 9]\n",
            "232 [3, 4, 5, 6, 7]\n",
            "233 [3, 4, 5, 6, 8]\n",
            "234 [3, 4, 5, 6, 9]\n",
            "235 [3, 4, 5, 7, 8]\n",
            "236 [3, 4, 5, 7, 9]\n",
            "237 [3, 4, 5, 8, 9]\n",
            "238 [3, 4, 6, 7, 8]\n",
            "239 [3, 4, 6, 7, 9]\n",
            "240 [3, 4, 6, 8, 9]\n",
            "241 [3, 4, 7, 8, 9]\n",
            "242 [3, 5, 6, 7, 8]\n",
            "243 [3, 5, 6, 7, 9]\n",
            "244 [3, 5, 6, 8, 9]\n",
            "245 [3, 5, 7, 8, 9]\n",
            "246 [3, 6, 7, 8, 9]\n",
            "247 [4, 5, 6, 7, 8]\n",
            "248 [4, 5, 6, 7, 9]\n",
            "249 [4, 5, 6, 8, 9]\n",
            "250 [4, 5, 7, 8, 9]\n",
            "251 [4, 6, 7, 8, 9]\n",
            "252 [5, 6, 7, 8, 9]\n"
          ]
        }
      ]
    },
    {
      "cell_type": "markdown",
      "metadata": {
        "id": "HOeSQtHZb9Vc"
      },
      "source": [
        "## Módulo ```itertools```\n",
        "Este módulo es útil en el campo de la combinatoria."
      ]
    },
    {
      "cell_type": "code",
      "metadata": {
        "colab": {
          "base_uri": "https://localhost:8080/"
        },
        "id": "tx3njH3icKEH",
        "outputId": "08a238bc-270f-4d3b-a8fb-6e1a18811f33"
      },
      "source": [
        "import itertools\n",
        "dir(itertools)"
      ],
      "execution_count": null,
      "outputs": [
        {
          "output_type": "execute_result",
          "data": {
            "text/plain": [
              "['__doc__',\n",
              " '__loader__',\n",
              " '__name__',\n",
              " '__package__',\n",
              " '__spec__',\n",
              " '_grouper',\n",
              " '_tee',\n",
              " '_tee_dataobject',\n",
              " 'accumulate',\n",
              " 'chain',\n",
              " 'combinations',\n",
              " 'combinations_with_replacement',\n",
              " 'compress',\n",
              " 'count',\n",
              " 'cycle',\n",
              " 'dropwhile',\n",
              " 'filterfalse',\n",
              " 'groupby',\n",
              " 'islice',\n",
              " 'permutations',\n",
              " 'product',\n",
              " 'repeat',\n",
              " 'starmap',\n",
              " 'takewhile',\n",
              " 'tee',\n",
              " 'zip_longest']"
            ]
          },
          "metadata": {},
          "execution_count": 5
        }
      ]
    },
    {
      "cell_type": "code",
      "metadata": {
        "colab": {
          "base_uri": "https://localhost:8080/"
        },
        "id": "uVn_WDU0s5UX",
        "outputId": "fc580f3d-fcf5-4898-ec9a-8ea2562dc034"
      },
      "source": [
        "print(\"El número de combinaciones es:\", len(list(itertools.combinations(range(10),5))))\n",
        "print()\n",
        "list(itertools.combinations(range(10),5))"
      ],
      "execution_count": null,
      "outputs": [
        {
          "output_type": "stream",
          "name": "stdout",
          "text": [
            "El número de combinaciones es: 252\n",
            "\n"
          ]
        },
        {
          "output_type": "execute_result",
          "data": {
            "text/plain": [
              "[(0, 1, 2, 3, 4),\n",
              " (0, 1, 2, 3, 5),\n",
              " (0, 1, 2, 3, 6),\n",
              " (0, 1, 2, 3, 7),\n",
              " (0, 1, 2, 3, 8),\n",
              " (0, 1, 2, 3, 9),\n",
              " (0, 1, 2, 4, 5),\n",
              " (0, 1, 2, 4, 6),\n",
              " (0, 1, 2, 4, 7),\n",
              " (0, 1, 2, 4, 8),\n",
              " (0, 1, 2, 4, 9),\n",
              " (0, 1, 2, 5, 6),\n",
              " (0, 1, 2, 5, 7),\n",
              " (0, 1, 2, 5, 8),\n",
              " (0, 1, 2, 5, 9),\n",
              " (0, 1, 2, 6, 7),\n",
              " (0, 1, 2, 6, 8),\n",
              " (0, 1, 2, 6, 9),\n",
              " (0, 1, 2, 7, 8),\n",
              " (0, 1, 2, 7, 9),\n",
              " (0, 1, 2, 8, 9),\n",
              " (0, 1, 3, 4, 5),\n",
              " (0, 1, 3, 4, 6),\n",
              " (0, 1, 3, 4, 7),\n",
              " (0, 1, 3, 4, 8),\n",
              " (0, 1, 3, 4, 9),\n",
              " (0, 1, 3, 5, 6),\n",
              " (0, 1, 3, 5, 7),\n",
              " (0, 1, 3, 5, 8),\n",
              " (0, 1, 3, 5, 9),\n",
              " (0, 1, 3, 6, 7),\n",
              " (0, 1, 3, 6, 8),\n",
              " (0, 1, 3, 6, 9),\n",
              " (0, 1, 3, 7, 8),\n",
              " (0, 1, 3, 7, 9),\n",
              " (0, 1, 3, 8, 9),\n",
              " (0, 1, 4, 5, 6),\n",
              " (0, 1, 4, 5, 7),\n",
              " (0, 1, 4, 5, 8),\n",
              " (0, 1, 4, 5, 9),\n",
              " (0, 1, 4, 6, 7),\n",
              " (0, 1, 4, 6, 8),\n",
              " (0, 1, 4, 6, 9),\n",
              " (0, 1, 4, 7, 8),\n",
              " (0, 1, 4, 7, 9),\n",
              " (0, 1, 4, 8, 9),\n",
              " (0, 1, 5, 6, 7),\n",
              " (0, 1, 5, 6, 8),\n",
              " (0, 1, 5, 6, 9),\n",
              " (0, 1, 5, 7, 8),\n",
              " (0, 1, 5, 7, 9),\n",
              " (0, 1, 5, 8, 9),\n",
              " (0, 1, 6, 7, 8),\n",
              " (0, 1, 6, 7, 9),\n",
              " (0, 1, 6, 8, 9),\n",
              " (0, 1, 7, 8, 9),\n",
              " (0, 2, 3, 4, 5),\n",
              " (0, 2, 3, 4, 6),\n",
              " (0, 2, 3, 4, 7),\n",
              " (0, 2, 3, 4, 8),\n",
              " (0, 2, 3, 4, 9),\n",
              " (0, 2, 3, 5, 6),\n",
              " (0, 2, 3, 5, 7),\n",
              " (0, 2, 3, 5, 8),\n",
              " (0, 2, 3, 5, 9),\n",
              " (0, 2, 3, 6, 7),\n",
              " (0, 2, 3, 6, 8),\n",
              " (0, 2, 3, 6, 9),\n",
              " (0, 2, 3, 7, 8),\n",
              " (0, 2, 3, 7, 9),\n",
              " (0, 2, 3, 8, 9),\n",
              " (0, 2, 4, 5, 6),\n",
              " (0, 2, 4, 5, 7),\n",
              " (0, 2, 4, 5, 8),\n",
              " (0, 2, 4, 5, 9),\n",
              " (0, 2, 4, 6, 7),\n",
              " (0, 2, 4, 6, 8),\n",
              " (0, 2, 4, 6, 9),\n",
              " (0, 2, 4, 7, 8),\n",
              " (0, 2, 4, 7, 9),\n",
              " (0, 2, 4, 8, 9),\n",
              " (0, 2, 5, 6, 7),\n",
              " (0, 2, 5, 6, 8),\n",
              " (0, 2, 5, 6, 9),\n",
              " (0, 2, 5, 7, 8),\n",
              " (0, 2, 5, 7, 9),\n",
              " (0, 2, 5, 8, 9),\n",
              " (0, 2, 6, 7, 8),\n",
              " (0, 2, 6, 7, 9),\n",
              " (0, 2, 6, 8, 9),\n",
              " (0, 2, 7, 8, 9),\n",
              " (0, 3, 4, 5, 6),\n",
              " (0, 3, 4, 5, 7),\n",
              " (0, 3, 4, 5, 8),\n",
              " (0, 3, 4, 5, 9),\n",
              " (0, 3, 4, 6, 7),\n",
              " (0, 3, 4, 6, 8),\n",
              " (0, 3, 4, 6, 9),\n",
              " (0, 3, 4, 7, 8),\n",
              " (0, 3, 4, 7, 9),\n",
              " (0, 3, 4, 8, 9),\n",
              " (0, 3, 5, 6, 7),\n",
              " (0, 3, 5, 6, 8),\n",
              " (0, 3, 5, 6, 9),\n",
              " (0, 3, 5, 7, 8),\n",
              " (0, 3, 5, 7, 9),\n",
              " (0, 3, 5, 8, 9),\n",
              " (0, 3, 6, 7, 8),\n",
              " (0, 3, 6, 7, 9),\n",
              " (0, 3, 6, 8, 9),\n",
              " (0, 3, 7, 8, 9),\n",
              " (0, 4, 5, 6, 7),\n",
              " (0, 4, 5, 6, 8),\n",
              " (0, 4, 5, 6, 9),\n",
              " (0, 4, 5, 7, 8),\n",
              " (0, 4, 5, 7, 9),\n",
              " (0, 4, 5, 8, 9),\n",
              " (0, 4, 6, 7, 8),\n",
              " (0, 4, 6, 7, 9),\n",
              " (0, 4, 6, 8, 9),\n",
              " (0, 4, 7, 8, 9),\n",
              " (0, 5, 6, 7, 8),\n",
              " (0, 5, 6, 7, 9),\n",
              " (0, 5, 6, 8, 9),\n",
              " (0, 5, 7, 8, 9),\n",
              " (0, 6, 7, 8, 9),\n",
              " (1, 2, 3, 4, 5),\n",
              " (1, 2, 3, 4, 6),\n",
              " (1, 2, 3, 4, 7),\n",
              " (1, 2, 3, 4, 8),\n",
              " (1, 2, 3, 4, 9),\n",
              " (1, 2, 3, 5, 6),\n",
              " (1, 2, 3, 5, 7),\n",
              " (1, 2, 3, 5, 8),\n",
              " (1, 2, 3, 5, 9),\n",
              " (1, 2, 3, 6, 7),\n",
              " (1, 2, 3, 6, 8),\n",
              " (1, 2, 3, 6, 9),\n",
              " (1, 2, 3, 7, 8),\n",
              " (1, 2, 3, 7, 9),\n",
              " (1, 2, 3, 8, 9),\n",
              " (1, 2, 4, 5, 6),\n",
              " (1, 2, 4, 5, 7),\n",
              " (1, 2, 4, 5, 8),\n",
              " (1, 2, 4, 5, 9),\n",
              " (1, 2, 4, 6, 7),\n",
              " (1, 2, 4, 6, 8),\n",
              " (1, 2, 4, 6, 9),\n",
              " (1, 2, 4, 7, 8),\n",
              " (1, 2, 4, 7, 9),\n",
              " (1, 2, 4, 8, 9),\n",
              " (1, 2, 5, 6, 7),\n",
              " (1, 2, 5, 6, 8),\n",
              " (1, 2, 5, 6, 9),\n",
              " (1, 2, 5, 7, 8),\n",
              " (1, 2, 5, 7, 9),\n",
              " (1, 2, 5, 8, 9),\n",
              " (1, 2, 6, 7, 8),\n",
              " (1, 2, 6, 7, 9),\n",
              " (1, 2, 6, 8, 9),\n",
              " (1, 2, 7, 8, 9),\n",
              " (1, 3, 4, 5, 6),\n",
              " (1, 3, 4, 5, 7),\n",
              " (1, 3, 4, 5, 8),\n",
              " (1, 3, 4, 5, 9),\n",
              " (1, 3, 4, 6, 7),\n",
              " (1, 3, 4, 6, 8),\n",
              " (1, 3, 4, 6, 9),\n",
              " (1, 3, 4, 7, 8),\n",
              " (1, 3, 4, 7, 9),\n",
              " (1, 3, 4, 8, 9),\n",
              " (1, 3, 5, 6, 7),\n",
              " (1, 3, 5, 6, 8),\n",
              " (1, 3, 5, 6, 9),\n",
              " (1, 3, 5, 7, 8),\n",
              " (1, 3, 5, 7, 9),\n",
              " (1, 3, 5, 8, 9),\n",
              " (1, 3, 6, 7, 8),\n",
              " (1, 3, 6, 7, 9),\n",
              " (1, 3, 6, 8, 9),\n",
              " (1, 3, 7, 8, 9),\n",
              " (1, 4, 5, 6, 7),\n",
              " (1, 4, 5, 6, 8),\n",
              " (1, 4, 5, 6, 9),\n",
              " (1, 4, 5, 7, 8),\n",
              " (1, 4, 5, 7, 9),\n",
              " (1, 4, 5, 8, 9),\n",
              " (1, 4, 6, 7, 8),\n",
              " (1, 4, 6, 7, 9),\n",
              " (1, 4, 6, 8, 9),\n",
              " (1, 4, 7, 8, 9),\n",
              " (1, 5, 6, 7, 8),\n",
              " (1, 5, 6, 7, 9),\n",
              " (1, 5, 6, 8, 9),\n",
              " (1, 5, 7, 8, 9),\n",
              " (1, 6, 7, 8, 9),\n",
              " (2, 3, 4, 5, 6),\n",
              " (2, 3, 4, 5, 7),\n",
              " (2, 3, 4, 5, 8),\n",
              " (2, 3, 4, 5, 9),\n",
              " (2, 3, 4, 6, 7),\n",
              " (2, 3, 4, 6, 8),\n",
              " (2, 3, 4, 6, 9),\n",
              " (2, 3, 4, 7, 8),\n",
              " (2, 3, 4, 7, 9),\n",
              " (2, 3, 4, 8, 9),\n",
              " (2, 3, 5, 6, 7),\n",
              " (2, 3, 5, 6, 8),\n",
              " (2, 3, 5, 6, 9),\n",
              " (2, 3, 5, 7, 8),\n",
              " (2, 3, 5, 7, 9),\n",
              " (2, 3, 5, 8, 9),\n",
              " (2, 3, 6, 7, 8),\n",
              " (2, 3, 6, 7, 9),\n",
              " (2, 3, 6, 8, 9),\n",
              " (2, 3, 7, 8, 9),\n",
              " (2, 4, 5, 6, 7),\n",
              " (2, 4, 5, 6, 8),\n",
              " (2, 4, 5, 6, 9),\n",
              " (2, 4, 5, 7, 8),\n",
              " (2, 4, 5, 7, 9),\n",
              " (2, 4, 5, 8, 9),\n",
              " (2, 4, 6, 7, 8),\n",
              " (2, 4, 6, 7, 9),\n",
              " (2, 4, 6, 8, 9),\n",
              " (2, 4, 7, 8, 9),\n",
              " (2, 5, 6, 7, 8),\n",
              " (2, 5, 6, 7, 9),\n",
              " (2, 5, 6, 8, 9),\n",
              " (2, 5, 7, 8, 9),\n",
              " (2, 6, 7, 8, 9),\n",
              " (3, 4, 5, 6, 7),\n",
              " (3, 4, 5, 6, 8),\n",
              " (3, 4, 5, 6, 9),\n",
              " (3, 4, 5, 7, 8),\n",
              " (3, 4, 5, 7, 9),\n",
              " (3, 4, 5, 8, 9),\n",
              " (3, 4, 6, 7, 8),\n",
              " (3, 4, 6, 7, 9),\n",
              " (3, 4, 6, 8, 9),\n",
              " (3, 4, 7, 8, 9),\n",
              " (3, 5, 6, 7, 8),\n",
              " (3, 5, 6, 7, 9),\n",
              " (3, 5, 6, 8, 9),\n",
              " (3, 5, 7, 8, 9),\n",
              " (3, 6, 7, 8, 9),\n",
              " (4, 5, 6, 7, 8),\n",
              " (4, 5, 6, 7, 9),\n",
              " (4, 5, 6, 8, 9),\n",
              " (4, 5, 7, 8, 9),\n",
              " (4, 6, 7, 8, 9),\n",
              " (5, 6, 7, 8, 9)]"
            ]
          },
          "metadata": {},
          "execution_count": 12
        }
      ]
    },
    {
      "cell_type": "markdown",
      "metadata": {
        "id": "p3lUP3hKz95C"
      },
      "source": [
        "### Adivinar una contraseña por fuerza bruta\n",
        "* Adivinar una contraseña de 4 letras minúsculas por fuerza bruta.\n",
        "* Medir el tiempo que se tarda en hacer todas las combinaciones.\n",
        "* alfabeto = \"abcdefghijklmnñopqrstuvwxyz\"\n",
        "* En español son 27 letras"
      ]
    },
    {
      "cell_type": "code",
      "metadata": {
        "colab": {
          "base_uri": "https://localhost:8080/"
        },
        "id": "fHtwIbDR06wz",
        "outputId": "1f00e590-51b0-4092-ce03-ab58cf8dab48"
      },
      "source": [
        "import time\n",
        "clave = input(\"Dime una clave de 4 letras minúsculas: \").lower()\n",
        "alfabeto = \"abcdefghijklmnñopqrstuvwxyz\"\n",
        "inicio = time.time()\n",
        "for c1 in alfabeto:\n",
        "  for c2 in alfabeto:\n",
        "    for c3 in alfabeto:\n",
        "      for c4 in alfabeto:\n",
        "        intento = c1+c2+c3+c4\n",
        "        if intento == clave:\n",
        "          print(\"Clave encontrada:\", intento)\n",
        "final = time.time()\n",
        "print(\"Tiempo empleado:\", final-inicio)\n"
      ],
      "execution_count": null,
      "outputs": [
        {
          "output_type": "stream",
          "name": "stdout",
          "text": [
            "Dime una clave de 4 letras minúsculas: Jose\n",
            "Clave encontrada: jose\n",
            "Tiempo empleado: 0.18987131118774414\n"
          ]
        }
      ]
    },
    {
      "cell_type": "markdown",
      "metadata": {
        "id": "fkVt14R03tim"
      },
      "source": [
        "### Contraseña de 5 letras minúsculas\n",
        "* Mismo caso que el anterior pero con 5 letras minúsculas.\n",
        "* Observe que existe un lapso de tiempo entre que encuentra la clave y termina de ejecutar todos los bucles for anidados."
      ]
    },
    {
      "cell_type": "code",
      "metadata": {
        "colab": {
          "base_uri": "https://localhost:8080/"
        },
        "id": "g2d-8NRZ365f",
        "outputId": "e5ee8660-3e38-45cb-8a2d-ec46d659f60c"
      },
      "source": [
        "import time\n",
        "clave = input(\"Dime una clave de 5 letras minúsculas: \").lower()\n",
        "alfabeto = \"abcdefghijklmnñopqrstuvwxyz\"\n",
        "inicio = time.time()\n",
        "for c1 in alfabeto:\n",
        "  for c2 in alfabeto:\n",
        "    for c3 in alfabeto:\n",
        "      for c4 in alfabeto:\n",
        "        for c5 in alfabeto:\n",
        "          intento = c1+c2+c3+c4+c5\n",
        "          if intento == clave:\n",
        "            print(\"Clave encontrada:\", intento)\n",
        "final = time.time()\n",
        "print(f\"Tiempo empleado: {round(final-inicio)} segundos.\")"
      ],
      "execution_count": null,
      "outputs": [
        {
          "output_type": "stream",
          "name": "stdout",
          "text": [
            "Dime una clave de 5 letras minúsculas: Anita\n",
            "Clave encontrada: anita\n",
            "Tiempo empleado: 6 segundos.\n"
          ]
        }
      ]
    },
    {
      "cell_type": "markdown",
      "metadata": {
        "id": "bcpuysCf1_-0"
      },
      "source": [
        "### Contraseña de 5 caracteres con mayúsculas, minúsculas y números\n",
        "Mismo caso que el anterior pero con 5 caracteres que pueden ser letras minúsculas, mayúsculas o números."
      ]
    },
    {
      "cell_type": "code",
      "metadata": {
        "colab": {
          "base_uri": "https://localhost:8080/"
        },
        "id": "EQzYzUwY2UPD",
        "outputId": "d56de122-7f4d-4382-f1f5-9be0381eb5eb"
      },
      "source": [
        "import time\n",
        "clave = input(\"Dime una clave de 5 caracteres (minúsculas, mayúsculas, números): \")\n",
        "alfabeto = \"abcdefghijklmnñopqrstuvwxyzABCDEFGHIJKLMNÑOPQRSTUVWXYZ0123456789\"\n",
        "inicio = time.time()\n",
        "for c1 in alfabeto:\n",
        "  for c2 in alfabeto:\n",
        "    for c3 in alfabeto:\n",
        "      for c4 in alfabeto:\n",
        "        for c5 in alfabeto:\n",
        "          intento = c1+c2+c3+c4+c5\n",
        "          if intento == clave:\n",
        "            print(\"Clave encontrada:\", intento)\n",
        "final = time.time()\n",
        "print(f\"Tiempo empleado aproximado: {round((final-inicio)/60,1)} minutos.\")"
      ],
      "execution_count": null,
      "outputs": [
        {
          "output_type": "stream",
          "name": "stdout",
          "text": [
            "Dime una clave de 5 caracteres (minúsculas, mayúsculas, números): Ana12\n",
            "Clave encontrada: Ana12\n",
            "Tiempo empleado aproximado: 7.5 minutos.\n"
          ]
        }
      ]
    },
    {
      "cell_type": "markdown",
      "metadata": {
        "id": "GAAJl9HQH0rJ"
      },
      "source": [
        "### Contraseña de hasta 5 caracteres\n",
        "* En base al caso anterior\n",
        "* Ahora la contraseña introducida puede ser de 1 o 2 o 3 o 4 o 5 caracteres\n",
        "* Conseguir que cuando se detecte la contraseña no sea necesario esperar hasta que los bucles anidados terminen."
      ]
    },
    {
      "cell_type": "code",
      "metadata": {
        "colab": {
          "base_uri": "https://localhost:8080/"
        },
        "id": "IsO7hDOHZJ10",
        "outputId": "dc07c076-3ceb-4992-98e9-a804eaef3209"
      },
      "source": [
        "import time\n",
        "clave = input(\"Dime una clave de hasta 5 caracteres (minúsculas, mayúsculas, números): \")\n",
        "alfabeto = \" abcdefghijklmnñopqrstuvwxyzABCDEFGHIJKLMNÑOPQRSTUVWXYZ0123456789\" # incluimos un espacio\n",
        "intento = None\n",
        "inicio = time.time()\n",
        "for c1 in alfabeto:\n",
        "  if intento != clave:                  # añadiendo condicional\n",
        "    for c2 in alfabeto:\n",
        "      if intento != clave:              # añadiendo condicional\n",
        "        for c3 in alfabeto:\n",
        "          if intento != clave:          # añadiendo condicional\n",
        "            for c4 in alfabeto:\n",
        "              if intento != clave:      # añadiendo condicional\n",
        "                for c5 in alfabeto:\n",
        "                  cc = c1+c2+c3+c4+c5\n",
        "                  intento = cc.strip()  # eliminamos los espacios iniciales y finales, así analizamos las claves de menos de 5\n",
        "                  if intento == clave:\n",
        "                    print(\"Clave encontrada:\", intento)\n",
        "                  break\n",
        "              else: break\n",
        "          else: break\n",
        "      else: break\n",
        "  else: break\n",
        "final = time.time()\n",
        "print(f\"Tiempo empleado aproximado: {round((final-inicio)/60,1)} minutos.\")"
      ],
      "execution_count": null,
      "outputs": [
        {
          "output_type": "stream",
          "name": "stdout",
          "text": [
            "Dime una clave de hasta 5 caracteres (minúsculas, mayúsculas, números): Zz9a\n",
            "Clave encontrada: Zz9a\n",
            "Tiempo empleado aproximado: 0.2 minutos.\n"
          ]
        }
      ]
    },
    {
      "cell_type": "markdown",
      "metadata": {
        "id": "AZsjRRLXk6GC"
      },
      "source": [
        "### Otro método para salir de bucles ```for``` anidados"
      ]
    },
    {
      "cell_type": "markdown",
      "metadata": {
        "id": "sVHMf4k8lFkq"
      },
      "source": [
        "#### Caso 1.A.\n",
        "* Primero veamos el tiempo parcial y total\n",
        "* El tiempo parcial hasta fin1 que es cuando se cumple la condición es una fracción del tiempo total.\n",
        "* El tiempo total es mayor porque se tienen que cumplir todos los bucles ```for``` hasta el final de sus iteraciones."
      ]
    },
    {
      "cell_type": "code",
      "metadata": {
        "colab": {
          "base_uri": "https://localhost:8080/"
        },
        "id": "lCBL6TsSgRgT",
        "outputId": "b356b953-0c9a-4fcd-d7f6-c0cb365554a5"
      },
      "source": [
        "import time\n",
        "inicio = time.time()\n",
        "for a in range(10000):\n",
        "  for b in range(10000):\n",
        "    if a==b==2000:\n",
        "      print(\"Todos iguales al valor establecido.\")\n",
        "      fin1 = time.time()\n",
        "\n",
        "fin2 = time.time()\n",
        "print(fin1-inicio,\"Tiempo hasta que se cumple el condicional\")\n",
        "print(fin2-inicio, \"Tiempo total\")"
      ],
      "execution_count": null,
      "outputs": [
        {
          "output_type": "stream",
          "name": "stdout",
          "text": [
            "Todos iguales al valor establecido.\n",
            "1.6832444667816162 Tiempo hasta que se cumple el condicional\n",
            "8.337207555770874 Tiempo total\n"
          ]
        }
      ]
    },
    {
      "cell_type": "markdown",
      "metadata": {
        "id": "0MkKaI6HlpMZ"
      },
      "source": [
        "#### Caso 2.A.\n",
        "* Ahora vemos que el tiempo total y parcial coinciden\n",
        "* El motivo es que una vez que se cumple la condición salimos completamente de todos los bucles, sin esperar a que se cumplan todas las iteraciones."
      ]
    },
    {
      "cell_type": "code",
      "metadata": {
        "colab": {
          "base_uri": "https://localhost:8080/"
        },
        "id": "xr_9rxHQjRBf",
        "outputId": "df0bad8f-6753-40e8-8e0d-cfd93ae5a574"
      },
      "source": [
        "import time\n",
        "inicio = time.time()\n",
        "for a in range(10000):\n",
        "  for b in range(10000):\n",
        "    if a==b==2000:\n",
        "      print(\"Todos iguales al valor establecido.\")\n",
        "      fin1 = time.time()\n",
        "      break\n",
        "  else: continue\n",
        "  break\n",
        "\n",
        "fin2 = time.time()\n",
        "print(fin1-inicio,\"Tiempo hasta que se cumple el condicional\")\n",
        "print(fin2-inicio, \"Tiempo total\")"
      ],
      "execution_count": null,
      "outputs": [
        {
          "output_type": "stream",
          "name": "stdout",
          "text": [
            "Todos iguales al valor establecido.\n",
            "1.679574966430664 Tiempo hasta que se cumple el condicional\n",
            "1.6796507835388184 Tiempo total\n"
          ]
        }
      ]
    },
    {
      "cell_type": "markdown",
      "metadata": {
        "id": "lYFguR3nmEUi"
      },
      "source": [
        "#### Caso 1.B.\n",
        "Veamos ahora los tiempos total y parcial en un caso con 8 bucles ```for``` anidados."
      ]
    },
    {
      "cell_type": "code",
      "metadata": {
        "colab": {
          "base_uri": "https://localhost:8080/"
        },
        "id": "wtN070tve_fD",
        "outputId": "c2804ab4-440b-47ca-e9d3-d32517096d3d"
      },
      "source": [
        "import time\n",
        "inicio = time.time()\n",
        "for i in range(10):\n",
        "  for j in range(10):\n",
        "    for k in range(10):\n",
        "      for l in range(10):\n",
        "        for m in range(10):\n",
        "          for n in range(10):\n",
        "            for o in range(10):\n",
        "              for p in range(10):\n",
        "                if i==j==k==l==m==n==o==p==2:\n",
        "                  print(\"Todos iguales al valor establecido.\")\n",
        "                  fin1 = time.time()\n",
        "\n",
        "fin2 = time.time()\n",
        "print(fin1-inicio,\"Tiempo hasta que se cumple el condicional\")\n",
        "print(fin2-inicio, \"Tiempo total\")"
      ],
      "execution_count": null,
      "outputs": [
        {
          "output_type": "stream",
          "name": "stdout",
          "text": [
            "Todos iguales al valor establecido.\n",
            "2.370201826095581 Tiempo hasta que se cumple el condicional\n",
            "10.610024690628052 Tiempo total\n"
          ]
        }
      ]
    },
    {
      "cell_type": "markdown",
      "metadata": {
        "id": "3ZlP2u_smXYK"
      },
      "source": [
        "#### Caso 2.B.\n",
        "* En el caso de los 8 bucles anidados conseguimos salir inmediatamente en el momento en el que se cumple la condición sin esperar a que todas las iteraciones terminen.\n",
        "* La gran diferencia de este caso con el caso 2.A. es que aquí, gracias al ```continue``` no necesitamos ir poniendo condicionales en cada bucle."
      ]
    },
    {
      "cell_type": "code",
      "metadata": {
        "colab": {
          "base_uri": "https://localhost:8080/"
        },
        "id": "jBW7VZYKj6Er",
        "outputId": "aa60fe70-2b62-4bd3-93c1-0f2f0e76dd43"
      },
      "source": [
        "import time\n",
        "inicio = time.time()\n",
        "for i in range(10):\n",
        "  for j in range(10):\n",
        "    for k in range(10):\n",
        "      for l in range(10):\n",
        "        for m in range(10):\n",
        "          for n in range(10):\n",
        "            for o in range(10):\n",
        "              for p in range(10):\n",
        "                if i==j==k==l==m==n==o==p==2:\n",
        "                  print(\"Todos iguales al valor establecido.\")\n",
        "                  fin1 = time.time()\n",
        "                  break\n",
        "              else: continue\n",
        "              break\n",
        "            else: continue\n",
        "            break\n",
        "          else: continue\n",
        "          break\n",
        "        else: continue\n",
        "        break\n",
        "      else: continue\n",
        "      break\n",
        "    else: continue\n",
        "    break\n",
        "  else: continue\n",
        "  break\n",
        "\n",
        "fin2 = time.time()\n",
        "print(fin1-inicio,\"Tiempo hasta que se cumple el condicional\")\n",
        "print(fin2-inicio, \"Tiempo total\")"
      ],
      "execution_count": null,
      "outputs": [
        {
          "output_type": "stream",
          "name": "stdout",
          "text": [
            "Todos iguales al valor establecido.\n",
            "2.3656673431396484 Tiempo hasta que se cumple el condicional\n",
            "2.36576247215271 Tiempo total\n"
          ]
        }
      ]
    },
    {
      "cell_type": "markdown",
      "metadata": {
        "id": "vl2DI7XNnQjq"
      },
      "source": [
        "### Nota sobre cómo salir eficientemente de bucles anidados\n",
        "Aún no hemos visto funciones, pero realmente la forma más eficiente para salir de bucles anidados es tener nuestro código dentro de una función, de forma que cuando se cumpla la condición y queramos salir, sin esperar a que se ejecuten todas las iteraciones, lo mejor es poner un ```return``` que finaliza instantáneamente la función."
      ]
    },
    {
      "cell_type": "code",
      "metadata": {
        "colab": {
          "base_uri": "https://localhost:8080/"
        },
        "id": "xKQngWZDnvvH",
        "outputId": "61837eb7-f29f-4f12-a6f6-9f6a8f6be748"
      },
      "source": [
        "import time\n",
        "\n",
        "def funcion():\n",
        "  inicio = time.time()\n",
        "  for a in range(10000):\n",
        "    for b in range(10000):\n",
        "      if a==b==2000:\n",
        "        print(\"Todos iguales al valor establecido.\")\n",
        "        fin = time.time()\n",
        "        print(fin-inicio, \"Tiempo total\")\n",
        "        return\n",
        "      \n",
        "funcion()"
      ],
      "execution_count": null,
      "outputs": [
        {
          "output_type": "stream",
          "name": "stdout",
          "text": [
            "Todos iguales al valor establecido.\n",
            "1.1493608951568604 Tiempo total\n"
          ]
        }
      ]
    },
    {
      "cell_type": "markdown",
      "metadata": {
        "id": "pBuLBnMrlDHC"
      },
      "source": [
        "# Range con salto\n",
        "El tercer argumento de range nos indica el salto o paso (step)."
      ]
    },
    {
      "cell_type": "code",
      "metadata": {
        "colab": {
          "base_uri": "https://localhost:8080/"
        },
        "id": "kYzgqPjslOMZ",
        "outputId": "8e26a21e-078f-49a4-9fce-60d5fd65e30b"
      },
      "source": [
        "for i in range(1,11,2):     # va de 2 en 2\n",
        "  print(i)"
      ],
      "execution_count": null,
      "outputs": [
        {
          "output_type": "stream",
          "name": "stdout",
          "text": [
            "1\n",
            "3\n",
            "5\n",
            "7\n",
            "9\n"
          ]
        }
      ]
    },
    {
      "cell_type": "code",
      "metadata": {
        "colab": {
          "base_uri": "https://localhost:8080/"
        },
        "id": "Es8-4EP5lqDC",
        "outputId": "5e5edd5a-ebeb-4253-e623-e8059264289b"
      },
      "source": [
        "for i in range(12,0,-2):\n",
        "  print(i)"
      ],
      "execution_count": null,
      "outputs": [
        {
          "output_type": "stream",
          "name": "stdout",
          "text": [
            "12\n",
            "10\n",
            "8\n",
            "6\n",
            "4\n",
            "2\n"
          ]
        }
      ]
    },
    {
      "cell_type": "markdown",
      "metadata": {
        "id": "inwQXwOHl-Wn"
      },
      "source": [
        "## Convertir un range en una lista y memoria ocupada\n"
      ]
    },
    {
      "cell_type": "code",
      "metadata": {
        "colab": {
          "base_uri": "https://localhost:8080/"
        },
        "id": "GL7bmXIumGAP",
        "outputId": "f01702c1-0a2b-4cb7-be66-8130e59be248"
      },
      "source": [
        "rango10 = range(10)         # es un objeto de tipo range\n",
        "rango10"
      ],
      "execution_count": null,
      "outputs": [
        {
          "output_type": "execute_result",
          "data": {
            "text/plain": [
              "range(0, 10)"
            ]
          },
          "metadata": {},
          "execution_count": 8
        }
      ]
    },
    {
      "cell_type": "code",
      "metadata": {
        "colab": {
          "base_uri": "https://localhost:8080/"
        },
        "id": "_f4OcKFsmO9f",
        "outputId": "5c4a00b7-4cdb-42c9-ebe8-42805e5b562d"
      },
      "source": [
        "lista10 = list(range(10))   # es un objeto de tipo lista\n",
        "lista10"
      ],
      "execution_count": null,
      "outputs": [
        {
          "output_type": "execute_result",
          "data": {
            "text/plain": [
              "[0, 1, 2, 3, 4, 5, 6, 7, 8, 9]"
            ]
          },
          "metadata": {},
          "execution_count": 9
        }
      ]
    },
    {
      "cell_type": "markdown",
      "metadata": {
        "id": "jU6UCsqFmmbX"
      },
      "source": [
        "### Los rangos ocupan menos memoria que las listas"
      ]
    },
    {
      "cell_type": "code",
      "metadata": {
        "colab": {
          "base_uri": "https://localhost:8080/"
        },
        "id": "5LeBTcWdmvHV",
        "outputId": "16203c7d-1d3e-46eb-fa8f-8843c8eaf04d"
      },
      "source": [
        "import sys\n",
        "bytes_rango10 = sys.getsizeof(rango10)\n",
        "bytes_lista10 = sys.getsizeof(lista10)\n",
        "print(bytes_rango10)                        #  48 bytes\n",
        "print(bytes_lista10)                        # 208 bytes"
      ],
      "execution_count": null,
      "outputs": [
        {
          "output_type": "stream",
          "name": "stdout",
          "text": [
            "48\n",
            "208\n"
          ]
        }
      ]
    },
    {
      "cell_type": "code",
      "metadata": {
        "colab": {
          "base_uri": "https://localhost:8080/"
        },
        "id": "LWdxavwMng-m",
        "outputId": "bece940c-b14c-4178-b6d4-7cbec72776fa"
      },
      "source": [
        "import sys\n",
        "rango10000 = range(10000) \n",
        "lista10000 = list(range(10000))\n",
        "bytes_rango10000 = sys.getsizeof(rango10000)\n",
        "bytes_lista10000 = sys.getsizeof(lista10000)\n",
        "print(bytes_rango10000)                        #    48 bytes, el rango sigue ocupando lo mismo\n",
        "print(bytes_lista10000)                        # 90120 bytes, la lista ocupa mucho más"
      ],
      "execution_count": null,
      "outputs": [
        {
          "output_type": "stream",
          "name": "stdout",
          "text": [
            "48\n",
            "90120\n"
          ]
        }
      ]
    },
    {
      "cell_type": "markdown",
      "metadata": {
        "id": "-xU6ym8FoMoG"
      },
      "source": [
        "### Listar 100 números\n",
        "* Listar los números del 1 al 100 en 10 columnas y 10 filas.\n",
        "* La primera fila con los números del 1 al 10\n",
        "* La última fila con los números del 91 al 100."
      ]
    },
    {
      "cell_type": "markdown",
      "metadata": {
        "id": "HefgbBynpLVG"
      },
      "source": [
        "#### Solución 1"
      ]
    },
    {
      "cell_type": "code",
      "metadata": {
        "colab": {
          "base_uri": "https://localhost:8080/"
        },
        "id": "09uzJ3mXoo9N",
        "outputId": "d04d4806-7cfc-40bd-9c74-5fa1462395be"
      },
      "source": [
        "for i in range(0,10):\n",
        "  for j in range(1,11):\n",
        "    print(f\"{i*10+j:4}\", end=\"\")\n",
        "  print()"
      ],
      "execution_count": null,
      "outputs": [
        {
          "output_type": "stream",
          "name": "stdout",
          "text": [
            "   1   2   3   4   5   6   7   8   9  10\n",
            "  11  12  13  14  15  16  17  18  19  20\n",
            "  21  22  23  24  25  26  27  28  29  30\n",
            "  31  32  33  34  35  36  37  38  39  40\n",
            "  41  42  43  44  45  46  47  48  49  50\n",
            "  51  52  53  54  55  56  57  58  59  60\n",
            "  61  62  63  64  65  66  67  68  69  70\n",
            "  71  72  73  74  75  76  77  78  79  80\n",
            "  81  82  83  84  85  86  87  88  89  90\n",
            "  91  92  93  94  95  96  97  98  99 100\n"
          ]
        }
      ]
    },
    {
      "cell_type": "markdown",
      "metadata": {
        "id": "vzp6H_6apOVS"
      },
      "source": [
        "#### Solución 2\n",
        "Usando el salto en el rango."
      ]
    },
    {
      "cell_type": "code",
      "metadata": {
        "colab": {
          "base_uri": "https://localhost:8080/"
        },
        "id": "fudRfjGGpS2C",
        "outputId": "edb199b9-1154-4df4-ee42-3e177392395f"
      },
      "source": [
        "for i in range(0,91,10):\n",
        "  for j in range(1,11):\n",
        "    print(f\"{i+j:4}\", end=\"\")\n",
        "  print()"
      ],
      "execution_count": null,
      "outputs": [
        {
          "output_type": "stream",
          "name": "stdout",
          "text": [
            "   1   2   3   4   5   6   7   8   9  10\n",
            "  11  12  13  14  15  16  17  18  19  20\n",
            "  21  22  23  24  25  26  27  28  29  30\n",
            "  31  32  33  34  35  36  37  38  39  40\n",
            "  41  42  43  44  45  46  47  48  49  50\n",
            "  51  52  53  54  55  56  57  58  59  60\n",
            "  61  62  63  64  65  66  67  68  69  70\n",
            "  71  72  73  74  75  76  77  78  79  80\n",
            "  81  82  83  84  85  86  87  88  89  90\n",
            "  91  92  93  94  95  96  97  98  99 100\n"
          ]
        }
      ]
    },
    {
      "cell_type": "markdown",
      "metadata": {
        "id": "bmU97551qbsu"
      },
      "source": [
        "### Listar 100 números en orden inverso\n",
        "* Listar los números del 100 al 1 en 10 columnas y 10 filas.\n",
        "* La primera fila con los números del 100 al 91\n",
        "* La última fila con los números del 10 al 1."
      ]
    },
    {
      "cell_type": "markdown",
      "metadata": {
        "id": "nMvWh16Mqmpg"
      },
      "source": [
        "#### Solución 1"
      ]
    },
    {
      "cell_type": "code",
      "metadata": {
        "colab": {
          "base_uri": "https://localhost:8080/"
        },
        "id": "-2dpcASZqpA7",
        "outputId": "e3b8fc95-35d9-4560-94fd-43799dfeeda6"
      },
      "source": [
        "for i in range(0,10):\n",
        "  for j in range(1,11):\n",
        "    print(f\"{101-i*10-j:4}\", end=\"\")\n",
        "  print()"
      ],
      "execution_count": null,
      "outputs": [
        {
          "output_type": "stream",
          "name": "stdout",
          "text": [
            " 100  99  98  97  96  95  94  93  92  91\n",
            "  90  89  88  87  86  85  84  83  82  81\n",
            "  80  79  78  77  76  75  74  73  72  71\n",
            "  70  69  68  67  66  65  64  63  62  61\n",
            "  60  59  58  57  56  55  54  53  52  51\n",
            "  50  49  48  47  46  45  44  43  42  41\n",
            "  40  39  38  37  36  35  34  33  32  31\n",
            "  30  29  28  27  26  25  24  23  22  21\n",
            "  20  19  18  17  16  15  14  13  12  11\n",
            "  10   9   8   7   6   5   4   3   2   1\n"
          ]
        }
      ]
    },
    {
      "cell_type": "markdown",
      "metadata": {
        "id": "KkY4opG6q53A"
      },
      "source": [
        "#### Solución 2\n",
        "Usando el salto en el rango."
      ]
    },
    {
      "cell_type": "code",
      "metadata": {
        "colab": {
          "base_uri": "https://localhost:8080/"
        },
        "id": "uNGQUnfIq-o2",
        "outputId": "e2ad407e-f3ad-4918-dff9-37546670cee3"
      },
      "source": [
        "for i in range(90,-1,-10):\n",
        "  for j in range(10,0,-1):\n",
        "    print(f\"{i+j:4}\", end=\"\")\n",
        "  print()"
      ],
      "execution_count": null,
      "outputs": [
        {
          "output_type": "stream",
          "name": "stdout",
          "text": [
            " 100  99  98  97  96  95  94  93  92  91\n",
            "  90  89  88  87  86  85  84  83  82  81\n",
            "  80  79  78  77  76  75  74  73  72  71\n",
            "  70  69  68  67  66  65  64  63  62  61\n",
            "  60  59  58  57  56  55  54  53  52  51\n",
            "  50  49  48  47  46  45  44  43  42  41\n",
            "  40  39  38  37  36  35  34  33  32  31\n",
            "  30  29  28  27  26  25  24  23  22  21\n",
            "  20  19  18  17  16  15  14  13  12  11\n",
            "  10   9   8   7   6   5   4   3   2   1\n"
          ]
        }
      ]
    },
    {
      "cell_type": "markdown",
      "metadata": {
        "id": "UqBGg2kbry1l"
      },
      "source": [
        "## Encontrar los números repetidos de una lista"
      ]
    },
    {
      "cell_type": "markdown",
      "metadata": {
        "id": "0CcRZiJyr47P"
      },
      "source": [
        "#### Solución 1\n",
        "Por cada número comparamos con los restantes, para ver si los hay iguales."
      ]
    },
    {
      "cell_type": "code",
      "metadata": {
        "colab": {
          "base_uri": "https://localhost:8080/"
        },
        "id": "rbGddgjlsBP5",
        "outputId": "5014f328-c606-4506-991f-752b84e0533f"
      },
      "source": [
        "numeros = [3,4,6,2,5,4,2,7,8,0,6,9,1]\n",
        "print(numeros)\n",
        "repetidos = []\n",
        "for i in range(len(numeros)):\n",
        "  for j in range(i+1,len(numeros)):\n",
        "    if numeros[i]==numeros[j]:\n",
        "      repetidos.append(numeros[i])\n",
        "print(\"Repetidos: \", repetidos)"
      ],
      "execution_count": null,
      "outputs": [
        {
          "output_type": "stream",
          "name": "stdout",
          "text": [
            "[3, 4, 6, 2, 5, 4, 2, 7, 8, 0, 6, 9, 1]\n",
            "Repetidos:  [4, 6, 2]\n"
          ]
        }
      ]
    },
    {
      "cell_type": "markdown",
      "metadata": {
        "id": "K4bglvANt_I7"
      },
      "source": [
        "#### Solución 2\n",
        "Recorriendo todos y excluyendo cuando i, j son iguales."
      ]
    },
    {
      "cell_type": "code",
      "metadata": {
        "colab": {
          "base_uri": "https://localhost:8080/"
        },
        "id": "-HASZxQAuKgD",
        "outputId": "82d87bcc-6d48-40e5-c7db-64e3bcb4598d"
      },
      "source": [
        "numeros = [3,4,6,2,5,4,2,7,8,0,6,9,1]\n",
        "print(numeros)\n",
        "repetidos = []\n",
        "for i in range(len(numeros)):\n",
        "  for j in range(len(numeros)):\n",
        "    if i!=j and numeros[i]==numeros[j] and numeros[i] not in repetidos:  # la tercera condición se pone para evitar duplicar valores en la lista repetidos\n",
        "      repetidos.append(numeros[i])\n",
        "print(\"Repetidos: \", repetidos)"
      ],
      "execution_count": null,
      "outputs": [
        {
          "output_type": "stream",
          "name": "stdout",
          "text": [
            "[3, 4, 6, 2, 5, 4, 2, 7, 8, 0, 6, 9, 1]\n",
            "Repetidos:  [4, 6, 2]\n"
          ]
        }
      ]
    },
    {
      "cell_type": "markdown",
      "metadata": {
        "id": "yLnl-vz2u33u"
      },
      "source": [
        "#### Solución 3\n",
        "Con un solo ```for```."
      ]
    },
    {
      "cell_type": "code",
      "metadata": {
        "colab": {
          "base_uri": "https://localhost:8080/"
        },
        "id": "E6EFk2M4u-pM",
        "outputId": "eea3dc98-502c-41c2-b915-e31f2d4b927f"
      },
      "source": [
        "numeros = [3,4,6,2,5,4,2,7,8,0,6,9,1]\n",
        "print(\"Números:  \", numeros)\n",
        "repetidos = []\n",
        "unicos = []\n",
        "for n in numeros:\n",
        "  if n not in unicos:          # si el número no está en la lista unicos\n",
        "    unicos.append(n)           # se añade a la lista unicos\n",
        "  else:                        # en caso contrario\n",
        "    repetidos.append(n)        # se trata de un número repetido y se añade a la lista repetidos\n",
        "print(\"Repetidos:\", repetidos)\n",
        "print(\"Únicos:   \", unicos)"
      ],
      "execution_count": null,
      "outputs": [
        {
          "output_type": "stream",
          "name": "stdout",
          "text": [
            "Números:   [3, 4, 6, 2, 5, 4, 2, 7, 8, 0, 6, 9, 1]\n",
            "Repetidos: [4, 2, 6]\n",
            "Únicos:    [3, 4, 6, 2, 5, 7, 8, 0, 9, 1]\n"
          ]
        }
      ]
    },
    {
      "cell_type": "markdown",
      "metadata": {
        "id": "yTQLYg-Kwj0x"
      },
      "source": [
        "### Eficiencia si usamos un único bucle ```for```\n",
        "Vamos a comparar las dos soluciones anteriores midiendo tiempos.\n",
        "\n",
        "Comprobaremos que la solución más eficiente es la que usa un único bucle ```for```."
      ]
    },
    {
      "cell_type": "code",
      "metadata": {
        "colab": {
          "base_uri": "https://localhost:8080/"
        },
        "id": "_nIHsoBTwsbz",
        "outputId": "2234990b-1620-40e2-8ee1-69bd30569147"
      },
      "source": [
        "import random\n",
        "import time\n",
        "numeros = []\n",
        "for i in range(10_000):                # creamos una lista que contien 10.000 números\n",
        "  n = random.randint(1, 10_000_000)    # los números son aleatorios entre 1 y 10 millones\n",
        "  numeros.append(n)                    # es posible que en la lista existan números repetidos\n",
        "\n",
        "t0 = time.time()                       # ponemos en marcha el cronómetro\n",
        "\n",
        "# Solución no eficiente\n",
        "\n",
        "repetidos = []\n",
        "for i in range(len(numeros)):\n",
        "  for j in range(len(numeros)):\n",
        "    if i!=j and numeros[i]==numeros[j] and numeros[i] not in repetidos:\n",
        "      repetidos.append(numeros[i])\n",
        "\n",
        "t1 = time.time()\n",
        "print(\"Repetidos:\", repetidos)\n",
        "print(f\"Tiempo: {t1-t0} segundos.\")\n",
        "print(\"=\"*40)\n",
        "# Solución eficiente\n",
        "\n",
        "repetidos = []\n",
        "unicos = []\n",
        "\n",
        "t2 = time.time()\n",
        "\n",
        "for n in numeros:\n",
        "  if n not in unicos:\n",
        "    unicos.append(n)\n",
        "  else:\n",
        "    repetidos.append(n)\n",
        "\n",
        "t3 =time.time()\n",
        "print(\"Repetidos:\", repetidos)\n",
        "print(f\"Tiempo: {t3-t2} segundos.\")   # es mucho más eficiente este método"
      ],
      "execution_count": null,
      "outputs": [
        {
          "output_type": "stream",
          "name": "stdout",
          "text": [
            "Repetidos: [64289, 3630261, 5855429]\n",
            "Tiempo: 25.705004930496216 segundos.\n",
            "========================================\n",
            "Repetidos: [64289, 3630261, 5855429]\n",
            "Tiempo: 0.9574470520019531 segundos.\n"
          ]
        }
      ]
    },
    {
      "cell_type": "markdown",
      "metadata": {
        "id": "ahBl_rfkq9UL"
      },
      "source": [
        "### Comprobar si la suma de dos números de una lista es igual al *target*\n",
        "* Disponemos de una lista de 12 números **con repetición**, entre -9 y +9.\n",
        "* Comprobar si la suma de dos de ellos da el valor objetivo, denominado *target*.\n",
        "* *Target* = 4\n",
        "* Mostrar todas las parejas de números que sumadas den el *target*.\n",
        "* En la pareja no puede intervenir la suma de un número con sí mismo.\n",
        "* Pero si el 2 está repetido y el target es 4, si encontraremos la pareja [2,2]\n",
        "* Si están repetidos tanto el -3 como el 7, solo encontraremos una pareja [-3,7] que sumados den 4.\n",
        "* Con la lista\n",
        " - numeros = [-3, 1, -7, -3, 2, 7, -5, 3, 2, 1, 7, 9]   # están repetidos: -3, 1, 7, 2\n",
        "* El resultado de las parejas que suman 4 es:\n",
        " - [[-3, 7], [1, 3], [2, 2], [-5, 9]]"
      ]
    },
    {
      "cell_type": "markdown",
      "metadata": {
        "id": "GwcAHTdApZgj"
      },
      "source": [
        "#### Solución 1"
      ]
    },
    {
      "cell_type": "code",
      "metadata": {
        "colab": {
          "base_uri": "https://localhost:8080/"
        },
        "id": "T9LbhnZXwKww",
        "outputId": "76e744d8-5aa5-4895-8c20-83eda5e895c0"
      },
      "source": [
        "numeros = [-3, 1, -7, -3, 2, 7, -5, 3, 2, 1, 7, 9]   # están repetidos: -3, 1, 7, 2\n",
        "print(numeros)\n",
        "parejas = []\n",
        "target = 4\n",
        "for i in range(len(numeros)):                      # por cada número de la lista\n",
        "  for j in range(len(numeros)):                    # recorremos todos los números\n",
        "    if numeros[i] + numeros[j] == target and i!=j: # si la suma de una pareja es igual al target y el index i es distinto de j\n",
        "      pareja = sorted([numeros[i], numeros[j]])    # al estar ordenada la pareja\n",
        "      if pareja not in parejas:                    # podemos comparar la pareja con otra previa\n",
        "        parejas.append(pareja)                     # de forma que [1,3] no sea distinto de [3,1]\n",
        "print(parejas)"
      ],
      "execution_count": 2,
      "outputs": [
        {
          "output_type": "stream",
          "name": "stdout",
          "text": [
            "[-3, 1, -7, -3, 2, 7, -5, 3, 2, 1, 7, 9]\n",
            "[[-3, 7], [1, 3], [2, 2], [-5, 9]]\n"
          ]
        }
      ]
    },
    {
      "cell_type": "markdown",
      "metadata": {
        "id": "RSFc8oJXpfiN"
      },
      "source": [
        "#### Solución 2\n",
        "En este caso en lugar de pedir que i sea distinto de j\n",
        "* ```i != j```\n",
        "\n",
        "lo que se piede es que el index j sea mayor que el index i\n",
        "* ```j > i```\n",
        "\n",
        "Esto mejora la eficiencia ya que no solo se evitan los casos en los que i y j coinciden sino que en el condicional el filtro exige que j sea estrictamente mayor que i.  \n",
        "\n",
        "Ejemplo: Supongamos la lista [0,1,2,3,4,5] y el target=5.  \n",
        "Las parejas serían [[0,5], [1,4], [2,3]]\n",
        "\n",
        "Valores de i y j que cumplen que j>i son:  \n",
        "* i=0, j=1\n",
        "* i=0, j=2\n",
        "* i=0, j=3\n",
        "* i=0, j=4\n",
        "* i=0, j=5    pareja 0+5 = target\n",
        "* ========\n",
        "* i=1, j=2\n",
        "* i=1, j=3\n",
        "* i=1, j=4    pareja 1+4 = target\n",
        "* i=1, j=5\n",
        "* ========\n",
        "* i=2, j=3    pareja 2+3 = target\n",
        "* i=2, j=4\n",
        "* i=2, j=5\n",
        "* ========\n",
        "* i=3, j=4\n",
        "* i=3, j=5\n",
        "* ========\n",
        "* i=4, j=5"
      ]
    },
    {
      "cell_type": "code",
      "metadata": {
        "colab": {
          "base_uri": "https://localhost:8080/"
        },
        "id": "iM7BbJJ8sE2F",
        "outputId": "1dd79799-fc0f-4e12-d7db-26adfa54ac08"
      },
      "source": [
        "numeros = [-3, 1, -7, -3, 2, 7, -5, 3, 2, 1, 7, 9]   # están repetidos: -3, 1, 7, 2\n",
        "print(numeros)\n",
        "parejas = []\n",
        "target = 4\n",
        "for i in range(len(numeros)):\n",
        "  for j in range(len(numeros)):\n",
        "    if numeros[i] + numeros[j] == target and j>i:  # si la suma de una pareja es igual al target y el index j es mayor que el i\n",
        "      pareja = sorted([numeros[i], numeros[j]])    # al estar ordenada la pareja\n",
        "      if pareja not in parejas:                    # podemos comparar la pareja con otra previa\n",
        "        parejas.append(pareja)                     # de forma que [1,3] no sea distinto de [3,1]\n",
        "print(parejas)"
      ],
      "execution_count": 5,
      "outputs": [
        {
          "output_type": "stream",
          "name": "stdout",
          "text": [
            "[-3, 1, -7, -3, 2, 7, -5, 3, 2, 1, 7, 9]\n",
            "[[-3, 7], [1, 3], [2, 2], [-5, 9]]\n"
          ]
        }
      ]
    },
    {
      "cell_type": "markdown",
      "metadata": {
        "id": "8AiA48qlsi-Z"
      },
      "source": [
        "#### Solución 3\n",
        "* La variable i recorre todos index salvo el último.\n",
        "* La variable j recorre todos los index desde el i+1\n",
        "* Esto es más eficiente ya que no es necesario recorrer todos.\n",
        "* Además, como no es necesario recorrer todos, no es necesario poner la salvedad i!=j, ya que i y j nunca coinciden"
      ]
    },
    {
      "cell_type": "code",
      "metadata": {
        "colab": {
          "base_uri": "https://localhost:8080/"
        },
        "id": "SqnzOfOD37E8",
        "outputId": "f140e275-4fb3-4d14-b4ce-d898794b0d3a"
      },
      "source": [
        "numeros = [-3, 1, -7, -3, 2, 7, -5, 3, 2, 1, 7, 9]   # están repetidos: -3, 1, 7, 2\n",
        "print(numeros)\n",
        "parejas = []\n",
        "target = 4\n",
        "for i in range(len(numeros)-1):       # hasta el penúltimo elemento\n",
        "  for j in range(i+1, len(numeros)):  # desde el i+1, así se recorren todas las parejas sin repetir\n",
        "    if numeros[i] + numeros[j] == target:\n",
        "      pareja = sorted([numeros[i], numeros[j]])\n",
        "      if pareja not in parejas:\n",
        "        parejas.append(pareja)\n",
        "print(parejas)"
      ],
      "execution_count": 4,
      "outputs": [
        {
          "output_type": "stream",
          "name": "stdout",
          "text": [
            "[-3, 1, -7, -3, 2, 7, -5, 3, 2, 1, 7, 9]\n",
            "[[-3, 7], [1, 3], [2, 2], [-5, 9]]\n"
          ]
        }
      ]
    },
    {
      "cell_type": "markdown",
      "metadata": {
        "id": "ib6AiiDX5BI8"
      },
      "source": [
        "#### Solución 4\n",
        "* Eliminando un bucle ```for``` anidado ganamos en eficiencia.\n",
        "* La variable t es el target.\n",
        "* Recorremos todos los valores de la lista números con el for que usa como variable la n.\n",
        "* Supongamos que el primer valor de la lista números es 3 y que el target es t=4.\n",
        "* Entonces, se ira buscando por toda la lista el valor t-n = 4-3 = 1.\n",
        "* Si existe un 1 en la lista números ya hemos encontrado una pareja cuya suma da el target.\n",
        "* La pareja encontrada es [n, t-n] = [3, 1]\n",
        "* Con cada loop del bucle ```for``` la variable n va tomando todos los valores de la lista números.\n",
        "* De esta forma se irań buscando todas las parejas."
      ]
    },
    {
      "cell_type": "code",
      "metadata": {
        "colab": {
          "base_uri": "https://localhost:8080/"
        },
        "id": "moTtPgpZ5EcV",
        "outputId": "f8a4d677-c6a0-4b6e-a24c-952a255ca9ad"
      },
      "source": [
        "numeros = [-3, 1, -7, -3, 2, 7, -5, 3, 2, 1, 7, 9]   # están repetidos: -3, 1, 7, 2\n",
        "print(numeros)\n",
        "parejas = []\n",
        "t = 4         # target\n",
        "for n in numeros:               # recorremos todos los valores de la lista números\n",
        "  if t-n in numeros:            # Si t-n está en la lista números, es que ya hemos encontrado una pareja\n",
        "    pareja = sorted([n, t-n])\n",
        "    if pareja not in parejas:\n",
        "      parejas.append(pareja)\n",
        "print(parejas)"
      ],
      "execution_count": 6,
      "outputs": [
        {
          "output_type": "stream",
          "name": "stdout",
          "text": [
            "[-3, 1, -7, -3, 2, 7, -5, 3, 2, 1, 7, 9]\n",
            "[[-3, 7], [1, 3], [2, 2], [-5, 9]]\n"
          ]
        }
      ]
    },
    {
      "cell_type": "markdown",
      "metadata": {
        "id": "IOJLezf9nv8w"
      },
      "source": [
        "#### Solución 5\n",
        "Haciendo una copia"
      ]
    },
    {
      "cell_type": "code",
      "metadata": {
        "colab": {
          "base_uri": "https://localhost:8080/"
        },
        "id": "EcPXlIOmn1jO",
        "outputId": "6f7c7711-fba4-48a7-d674-657f553c8661"
      },
      "source": [
        "numeros = [-3, 1, -7, -3, 2, 7, -5, 3, 2, 1, 7, 9]   # están repetidos: -3, 1, 7, 2\n",
        "print(numeros)\n",
        "parejas = []\n",
        "t = 4         # target\n",
        "for n in numeros:\n",
        "  copia = list(numeros)\n",
        "  copia.remove(n)\n",
        "  if t-n in copia:\n",
        "    pareja = sorted([n, t-n])\n",
        "    if pareja not in parejas:\n",
        "      parejas.append(pareja)\n",
        "print(parejas)"
      ],
      "execution_count": 7,
      "outputs": [
        {
          "output_type": "stream",
          "name": "stdout",
          "text": [
            "[-3, 1, -7, -3, 2, 7, -5, 3, 2, 1, 7, 9]\n",
            "[[-3, 7], [1, 3], [2, 2], [-5, 9]]\n"
          ]
        }
      ]
    }
  ]
}