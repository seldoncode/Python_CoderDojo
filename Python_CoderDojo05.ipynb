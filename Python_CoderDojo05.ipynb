{
  "nbformat": 4,
  "nbformat_minor": 0,
  "metadata": {
    "colab": {
      "name": "Python_CoderDojo05.ipynb",
      "provenance": [],
      "collapsed_sections": [],
      "authorship_tag": "ABX9TyMx/lywKxlFbm3XCZ7zq8MW",
      "include_colab_link": true
    },
    "kernelspec": {
      "name": "python3",
      "display_name": "Python 3"
    },
    "language_info": {
      "name": "python"
    }
  },
  "cells": [
    {
      "cell_type": "markdown",
      "metadata": {
        "id": "view-in-github",
        "colab_type": "text"
      },
      "source": [
        "<a href=\"https://colab.research.google.com/github/seldoncode/Python_CoderDojo/blob/main/Python_CoderDojo05.ipynb\" target=\"_parent\"><img src=\"https://colab.research.google.com/assets/colab-badge.svg\" alt=\"Open In Colab\"/></a>"
      ]
    },
    {
      "cell_type": "markdown",
      "metadata": {
        "id": "lc-0lCy7SHA2"
      },
      "source": [
        "# Practicando\n",
        "## División entera y resto\n",
        "* // División entera o parte entera\n",
        "* % Resto"
      ]
    },
    {
      "cell_type": "code",
      "metadata": {
        "colab": {
          "base_uri": "https://localhost:8080/"
        },
        "id": "e35NOIBkTQE2",
        "outputId": "22b9eef1-3c44-4b59-c823-eeeb042cf275"
      },
      "source": [
        "print(17/5)         # División normal\n",
        "print(17//5)        # División entera\n",
        "print(17%5)         # Resto, módulo o resíduo"
      ],
      "execution_count": null,
      "outputs": [
        {
          "output_type": "stream",
          "name": "stdout",
          "text": [
            "3.4\n",
            "3\n",
            "2\n"
          ]
        }
      ]
    },
    {
      "cell_type": "markdown",
      "metadata": {
        "id": "veVKXLZvypZ_"
      },
      "source": [
        "### Reto 5.1. Repartir bombones\n",
        "Una caja de bombones tiene 50 unidades. Se van a repartir entre 8 amigos a partes iguales.  \n",
        "* ¿A cuántos bombones toca cada uno?\n",
        "* ¿Cuántos han sobrado?"
      ]
    },
    {
      "cell_type": "markdown",
      "metadata": {
        "id": "YmbX0kf2Knmy"
      },
      "source": [
        "### Reto 5.2. Convertir segundos\n",
        "Solicite al usuario un número de segundos para convertirlos en su equivalente en días, horas, minutos y segundos.  \n",
        "Compruebe que en 319.000 segundos hay:\n",
        "*  3 días\n",
        "* 16 horas\n",
        "* 36 minutos\n",
        "* 40 segundos\n"
      ]
    },
    {
      "cell_type": "markdown",
      "metadata": {
        "id": "cxX1BfxrMQnM"
      },
      "source": [
        "## Valor por defecto en un input\n",
        "Podemos establecer un valor por defecto al solicitar a usuario que introduzca un dato.  \n",
        "Si el usuario no introduce nada y pulsa ENTER se aplicará el valor por defecto.  \n",
        "Esto se consiguie con un ```or```."
      ]
    },
    {
      "cell_type": "code",
      "metadata": {
        "colab": {
          "base_uri": "https://localhost:8080/"
        },
        "id": "BQfVL_3JMqby",
        "outputId": "eaf76a1e-d161-406b-f653-dec9ecacb1c7"
      },
      "source": [
        "ciudad = input(\"Indique su ciudad de nacimiento: \") or \"Madrid\"      # si se pulsa ENTER el valor por defecto es Madrid\n",
        "print(\"Usted ha nacido en\", ciudad)"
      ],
      "execution_count": 2,
      "outputs": [
        {
          "output_type": "stream",
          "name": "stdout",
          "text": [
            "Indique su ciudad de nacimiento: \n",
            "Usted ha nacido en Madrid\n"
          ]
        }
      ]
    },
    {
      "cell_type": "code",
      "metadata": {
        "colab": {
          "base_uri": "https://localhost:8080/"
        },
        "id": "9_Zc2752NC6o",
        "outputId": "291b8ec2-90eb-4361-960a-b420406dc63e"
      },
      "source": [
        "edad = int(input(\"Indique su edad: \") or 16)                         # si se pulsa ENTER el valor por defecto es 16\n",
        "print(f\"Usted tiene {edad} años.\")"
      ],
      "execution_count": 5,
      "outputs": [
        {
          "output_type": "stream",
          "name": "stdout",
          "text": [
            "Indique su edad: \n",
            "Usted tiene 16 años.\n"
          ]
        }
      ]
    },
    {
      "cell_type": "markdown",
      "metadata": {
        "id": "KD9ikcG2ORY8"
      },
      "source": [
        "## Daterminar si un número es par o impar\n",
        "Un número par es aquel que al dividir entre 2 tiene división exacta. Esto es, su resto o módulo es cero.\n",
        "El cero se considera par."
      ]
    },
    {
      "cell_type": "code",
      "metadata": {
        "colab": {
          "base_uri": "https://localhost:8080/"
        },
        "id": "6t6z15ttOtL3",
        "outputId": "ee6aad42-f29f-43ec-c79a-4439528f5612"
      },
      "source": [
        "n = 148                                # probar el código poniendo tanto números pares como impares\n",
        "if n%2==0:\n",
        "  print(f\"El número {n} es par.\")\n",
        "else:\n",
        "  print(f\"El número {n} es impar.\")"
      ],
      "execution_count": 8,
      "outputs": [
        {
          "output_type": "stream",
          "name": "stdout",
          "text": [
            "El número 147 es impar.\n"
          ]
        }
      ]
    },
    {
      "cell_type": "markdown",
      "metadata": {
        "id": "lfNkFv_FPOlB"
      },
      "source": [
        "La condición anterior n%2==0 se puede sustituir por n%2 simplemente, ya que ella misma ya es True o False.  \n",
        "Veamos la pequeña mejora del código."
      ]
    },
    {
      "cell_type": "code",
      "metadata": {
        "colab": {
          "base_uri": "https://localhost:8080/"
        },
        "id": "dLSL4hCvPhhc",
        "outputId": "7665a709-38ba-44c0-c3c1-3e7518dc70b1"
      },
      "source": [
        "n = 148\n",
        "if n%2:\n",
        "  print(f\"El número {n} es par.\")\n",
        "else:\n",
        "  print(f\"El número {n} es impar.\")"
      ],
      "execution_count": 9,
      "outputs": [
        {
          "output_type": "stream",
          "name": "stdout",
          "text": [
            "El número 148 es impar.\n"
          ]
        }
      ]
    },
    {
      "cell_type": "markdown",
      "metadata": {
        "id": "y4K_mnjdPrfN"
      },
      "source": [
        "### Reto 5.3. Comprobar números impares y pares\n",
        "Solicite un número al usuario y compruebe si su triple es impar o par."
      ]
    },
    {
      "cell_type": "markdown",
      "metadata": {
        "id": "n7mL1UVQQd-k"
      },
      "source": [
        "### Reto 5.4 Multiplos\n",
        "Crear un programa que comprueba si un número es múltiplo de 3, de 5, de ambos, o de ninguno de ellos.  \n",
        "\n",
        "Ejemplo:\n",
        "* 6 es múltiplo de 3\n",
        "* 10 es múltiplo de 5\n",
        "* 15 es múltiplo de 3 y de 5\n",
        "* 26 no es múltiplo de 3, ni de 5"
      ]
    },
    {
      "cell_type": "markdown",
      "metadata": {
        "id": "-v2sxrBqZYgH"
      },
      "source": [
        "### Reto 5.5. Dados tres números identificar el mayor\n",
        "Pedir al usuario que introduzca por teclado tres números.  \n",
        "Mostrar por pantalla una frase que identifique el mayor de los tres.  \n",
        "Nota: resuelve el reto sin usar la función ```max()``` que calcula el máximo y luego comprueba que con la función ```max()``` se obtiene el mismo resultado."
      ]
    },
    {
      "cell_type": "markdown",
      "metadata": {
        "id": "-uSN7DuzaNmM"
      },
      "source": [
        "## Comparaciones múltiples\n",
        "Podemos realizar comparaciones múltiples cuyo resultado será True o False."
      ]
    },
    {
      "cell_type": "code",
      "metadata": {
        "colab": {
          "base_uri": "https://localhost:8080/"
        },
        "id": "VeK_yR6oa1OG",
        "outputId": "c355f12b-a1a7-4670-a266-829c278768c5"
      },
      "source": [
        "1 < 5 < 9"
      ],
      "execution_count": 12,
      "outputs": [
        {
          "output_type": "execute_result",
          "data": {
            "text/plain": [
              "True"
            ]
          },
          "metadata": {},
          "execution_count": 12
        }
      ]
    },
    {
      "cell_type": "code",
      "metadata": {
        "colab": {
          "base_uri": "https://localhost:8080/"
        },
        "id": "0zX03_x7a5zn",
        "outputId": "662f47b8-dc18-445f-b9a0-03284d578b53"
      },
      "source": [
        "1 < 2 < 3 < 4 > 9"
      ],
      "execution_count": 13,
      "outputs": [
        {
          "output_type": "execute_result",
          "data": {
            "text/plain": [
              "False"
            ]
          },
          "metadata": {},
          "execution_count": 13
        }
      ]
    },
    {
      "cell_type": "code",
      "metadata": {
        "colab": {
          "base_uri": "https://localhost:8080/"
        },
        "id": "ca2E7OE8bMko",
        "outputId": "1ef55396-18e5-4a54-b26d-cd05af72b01f"
      },
      "source": [
        "4 == 2*2 == 2+2 == 8/2"
      ],
      "execution_count": 15,
      "outputs": [
        {
          "output_type": "execute_result",
          "data": {
            "text/plain": [
              "True"
            ]
          },
          "metadata": {},
          "execution_count": 15
        }
      ]
    },
    {
      "cell_type": "markdown",
      "metadata": {
        "id": "Od_FdO8Lbtkf"
      },
      "source": [
        "### Comprobar si se introduce un número dentro de un rango\n",
        "Nos piden que se introduzca un número entre 10 y 50 ambos incluidos.  Este será el rango válido.  \n",
        "En caso contrario informar que el número no es válido."
      ]
    },
    {
      "cell_type": "markdown",
      "metadata": {
        "id": "qB-FsxX_cphC"
      },
      "source": [
        "#### Solución 1\n",
        "Usando ```and```"
      ]
    },
    {
      "cell_type": "code",
      "metadata": {
        "colab": {
          "base_uri": "https://localhost:8080/"
        },
        "id": "8kYfd09Wcl9o",
        "outputId": "fe9e35d0-2df5-495e-9877-54a03ddc6926"
      },
      "source": [
        "n = int(input(\"Introduzca un número entero entre 10 y 50: \"))\n",
        "if n>=10 and n<=50:\n",
        "  print(f\"Se ha introducido el número {n} que SI es un número válido.\")\n",
        "else:\n",
        "  print(f\"Se ha introducido el número {n} que NO es un número válido.\")"
      ],
      "execution_count": 19,
      "outputs": [
        {
          "output_type": "stream",
          "name": "stdout",
          "text": [
            "Introduzca un número entero entre 10 y 50: -10\n",
            "Se ha introducido el número -10 que NO es un número válido\n"
          ]
        }
      ]
    },
    {
      "cell_type": "markdown",
      "metadata": {
        "id": "QIsusjaEd6AR"
      },
      "source": [
        "#### Solución 2\n",
        "Usando comparaciones múltiples."
      ]
    },
    {
      "cell_type": "code",
      "metadata": {
        "colab": {
          "base_uri": "https://localhost:8080/"
        },
        "id": "Uw34hHJDeDdV",
        "outputId": "c744a360-341b-41a4-cecb-1713802f43d2"
      },
      "source": [
        "n = int(input(\"Introduzca un número entero entre 10 y 50: \"))\n",
        "if 10 <= n <= 50:\n",
        "  print(f\"Se ha introducido el número {n} que SI es un número válido.\")\n",
        "else:\n",
        "  print(f\"Se ha introducido el número {n} que NO es un número válido.\")"
      ],
      "execution_count": 20,
      "outputs": [
        {
          "output_type": "stream",
          "name": "stdout",
          "text": [
            "Introduzca un número entero entre 10 y 50: 30\n",
            "Se ha introducido el número 30 que SI es un número válido\n"
          ]
        }
      ]
    },
    {
      "cell_type": "markdown",
      "metadata": {
        "id": "JDw2zLyvgjlj"
      },
      "source": [
        "## Introducir vocal\n",
        "Pedir al usuario que introduzca una vocal minúscula, no acentuada. En caso contrario informar de que el caracter no cumple los requisitos."
      ]
    },
    {
      "cell_type": "code",
      "metadata": {
        "colab": {
          "base_uri": "https://localhost:8080/"
        },
        "id": "n7C0Ziqxg4s6",
        "outputId": "5c11a244-97d8-4d39-829c-c4b34d74d8dd"
      },
      "source": [
        "vocal = input(\"Introduzca una vocal minúscula, no acentuada: \")\n",
        "if vocal=='a' or vocal=='e' or vocal=='i' or vocal=='o' or vocal=='u':\n",
        "  print(f\"El caracter {vocal} cumple que es una vocal minúscula, no acentuada.\")\n",
        "else:\n",
        "  print(f\"El caracter {vocal} no cumple que sea una vocal minúscula, no acentuada.\")\n"
      ],
      "execution_count": 22,
      "outputs": [
        {
          "output_type": "stream",
          "name": "stdout",
          "text": [
            "Introduzca una vocal minúscula, no acentuada: e\n",
            "El caracter e cumple que es una vocal minúscula, no acentuada.\n"
          ]
        }
      ]
    },
    {
      "cell_type": "markdown",
      "metadata": {
        "id": "S8OBlU_Ye8YV"
      },
      "source": [
        "### Reto 5.6. Repetir una contraseña\n",
        "Pedir a usuario que escriba una contraseña y luego repetirla dos veces más.  \n",
        "Finalmente se dice si la contraseña se ha introducido correctamente o no.  \n",
        "Será correcta cuando las tres veces que se ha introducido coincidan."
      ]
    },
    {
      "cell_type": "markdown",
      "metadata": {
        "id": "S7wYVXR6f4PL"
      },
      "source": [
        "### Reto 5.7. Admitiendo solo números válidos\n",
        "Solicite al usuario un número entero entre 0 y 9.  \n",
        "* Si el número introducido es válido informar por pantalla con una frase que indique el número introducido y diga que si es válido.\n",
        "* Si el número introducido no es válido informar por pantalla con una frase que indique el número introducido y diga que no es válido."
      ]
    }
  ]
}