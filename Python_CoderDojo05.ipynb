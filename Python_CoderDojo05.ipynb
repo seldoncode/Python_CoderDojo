{
  "nbformat": 4,
  "nbformat_minor": 0,
  "metadata": {
    "colab": {
      "name": "Python_CoderDojo05.ipynb",
      "provenance": [],
      "collapsed_sections": [
        "veVKXLZvypZ_",
        "YmbX0kf2Knmy",
        "y4K_mnjdPrfN",
        "n7mL1UVQQd-k",
        "-v2sxrBqZYgH",
        "S8OBlU_Ye8YV",
        "S7wYVXR6f4PL"
      ],
      "authorship_tag": "ABX9TyOBm+AC/jFCe+eJeDD0DAdr",
      "include_colab_link": true
    },
    "kernelspec": {
      "name": "python3",
      "display_name": "Python 3"
    },
    "language_info": {
      "name": "python"
    }
  },
  "cells": [
    {
      "cell_type": "markdown",
      "metadata": {
        "id": "view-in-github",
        "colab_type": "text"
      },
      "source": [
        "<a href=\"https://colab.research.google.com/github/seldoncode/Python_CoderDojo/blob/main/Python_CoderDojo05.ipynb\" target=\"_parent\"><img src=\"https://colab.research.google.com/assets/colab-badge.svg\" alt=\"Open In Colab\"/></a>"
      ]
    },
    {
      "cell_type": "markdown",
      "metadata": {
        "id": "lc-0lCy7SHA2"
      },
      "source": [
        "# Practicando\n",
        "## División entera y resto\n",
        "* // División entera o parte entera\n",
        "* % Resto"
      ]
    },
    {
      "cell_type": "code",
      "metadata": {
        "colab": {
          "base_uri": "https://localhost:8080/"
        },
        "id": "e35NOIBkTQE2",
        "outputId": "dfec5859-16a4-411a-bbe7-51fd38e6671f"
      },
      "source": [
        "print(17/5)         # División normal\n",
        "print(17//5)        # División entera\n",
        "print(17%5)         # Resto, módulo o resíduo"
      ],
      "execution_count": 3,
      "outputs": [
        {
          "output_type": "stream",
          "name": "stdout",
          "text": [
            "3.4\n",
            "3\n",
            "2\n"
          ]
        }
      ]
    },
    {
      "cell_type": "markdown",
      "metadata": {
        "id": "veVKXLZvypZ_"
      },
      "source": [
        "### Reto 5.1. Repartir bombones\n",
        "Una caja de bombones tiene 50 unidades. Se van a repartir entre 8 amigos a partes iguales.  \n",
        "* ¿A cuántos bombones toca cada uno?\n",
        "* ¿Cuántos han sobrado?"
      ]
    },
    {
      "cell_type": "markdown",
      "metadata": {
        "id": "YmbX0kf2Knmy"
      },
      "source": [
        "### Reto 5.2. Convertir segundos\n",
        "Solicite al usuario un número de segundos para convertirlos en su equivalente en días, horas, minutos y segundos.  \n",
        "Compruebe que en 319.000 segundos hay:\n",
        "*  3 días\n",
        "* 16 horas\n",
        "* 36 minutos\n",
        "* 40 segundos\n"
      ]
    },
    {
      "cell_type": "markdown",
      "metadata": {
        "id": "cxX1BfxrMQnM"
      },
      "source": [
        "## Valor por defecto en un input\n",
        "Podemos establecer un valor por defecto al solicitar a usuario que introduzca un dato.  \n",
        "Si el usuario no introduce nada y pulsa ENTER se aplicará el valor por defecto.  \n",
        "Esto se consiguie con un ```or```."
      ]
    },
    {
      "cell_type": "code",
      "metadata": {
        "colab": {
          "base_uri": "https://localhost:8080/"
        },
        "id": "BQfVL_3JMqby",
        "outputId": "c8afa023-8664-41e5-92c7-29ada5ebdffb"
      },
      "source": [
        "ciudad = input(\"Indique su ciudad de nacimiento: \") or \"Madrid\"      # si se pulsa ENTER el valor por defecto es Madrid\n",
        "print(\"Usted ha nacido en\", ciudad)"
      ],
      "execution_count": 10,
      "outputs": [
        {
          "output_type": "stream",
          "name": "stdout",
          "text": [
            "Indique su ciudad de nacimiento: \n",
            "Usted ha nacido en Madrid\n"
          ]
        }
      ]
    },
    {
      "cell_type": "code",
      "metadata": {
        "colab": {
          "base_uri": "https://localhost:8080/"
        },
        "id": "9_Zc2752NC6o",
        "outputId": "9b176ea6-1671-4429-ad58-e63744a63f53"
      },
      "source": [
        "edad = int(input(\"Indique su edad: \") or 16)                         # si se pulsa ENTER el valor por defecto es 16\n",
        "print(f\"Usted tiene {edad} años.\")"
      ],
      "execution_count": 5,
      "outputs": [
        {
          "output_type": "stream",
          "name": "stdout",
          "text": [
            "Indique su edad: \n",
            "Usted tiene 16 años.\n"
          ]
        }
      ]
    },
    {
      "cell_type": "markdown",
      "metadata": {
        "id": "KD9ikcG2ORY8"
      },
      "source": [
        "## Daterminar si un número es par o impar\n",
        "Un número par es aquel que al dividir entre 2 tiene división exacta.  \n",
        "Esto es, su resto o módulo es cero.  \n",
        "El cero se considera par."
      ]
    },
    {
      "cell_type": "code",
      "metadata": {
        "colab": {
          "base_uri": "https://localhost:8080/"
        },
        "id": "6t6z15ttOtL3",
        "outputId": "039f6375-47b1-4763-d1c3-bcfde909ecec"
      },
      "source": [
        "n = 148                                # probar el código poniendo tanto números pares como impares\n",
        "if n%2==0:\n",
        "  print(f\"El número {n} es par.\")\n",
        "else:\n",
        "  print(f\"El número {n} es impar.\")"
      ],
      "execution_count": 8,
      "outputs": [
        {
          "output_type": "stream",
          "name": "stdout",
          "text": [
            "El número 148 es par.\n"
          ]
        }
      ]
    },
    {
      "cell_type": "markdown",
      "metadata": {
        "id": "lfNkFv_FPOlB"
      },
      "source": [
        "La condición anterior ```n%2==0``` se puede sustituir por ```n%2``` simplemente, ya que ella misma ya es True o False.  \n",
        "* Si n es impar al dividir entre 2 el resto es 1, y uno en informática equivales a True.\n",
        "* Si n es par al dividir entre 2 el resto es 0, y cero en informática equivales a False.\n",
        "\n",
        "Veamos la pequeña mejora del código."
      ]
    },
    {
      "cell_type": "code",
      "metadata": {
        "colab": {
          "base_uri": "https://localhost:8080/"
        },
        "id": "dLSL4hCvPhhc",
        "outputId": "2f48d2cb-1630-4f80-f909-6375327ce208"
      },
      "source": [
        "n = 147\n",
        "if n%2:                                # n%2 no se iguala a nada ya que en si mismo es 1 (True) o 0 (False)\n",
        "  print(f\"El número {n} es impar.\")\n",
        "else:\n",
        "  print(f\"El número {n} es par.\")"
      ],
      "execution_count": 12,
      "outputs": [
        {
          "output_type": "stream",
          "name": "stdout",
          "text": [
            "El número 147 es impar.\n"
          ]
        }
      ]
    },
    {
      "cell_type": "markdown",
      "metadata": {
        "id": "y4K_mnjdPrfN"
      },
      "source": [
        "### Reto 5.3. Comprobar números pares e impares\n",
        "Solicite un número al usuario y compruebe si su triple es par o impar."
      ]
    },
    {
      "cell_type": "markdown",
      "metadata": {
        "id": "n7mL1UVQQd-k"
      },
      "source": [
        "### Reto 5.4 Multiplos\n",
        "Crear un programa que comprueba si un número es múltiplo de 3, de 5, de ambos, o de ninguno de ellos.  \n",
        "\n",
        "Ejemplo:\n",
        "* 6 es múltiplo de 3\n",
        "* 10 es múltiplo de 5\n",
        "* 15 es múltiplo de 3 y de 5\n",
        "* 26 no es múltiplo de 3, ni de 5"
      ]
    },
    {
      "cell_type": "markdown",
      "metadata": {
        "id": "-v2sxrBqZYgH"
      },
      "source": [
        "### Reto 5.5. Dados tres números identificar el mayor\n",
        "Pedir al usuario que introduzca por teclado tres números.  \n",
        "Mostrar por pantalla una frase que identifique el mayor de los tres.  \n",
        "Nota: resuelve el reto sin usar la función ```max()``` que calcula el máximo y luego comprueba que con la función ```max()``` se obtiene el mismo resultado."
      ]
    },
    {
      "cell_type": "markdown",
      "metadata": {
        "id": "-uSN7DuzaNmM"
      },
      "source": [
        "## Comparaciones múltiples\n",
        "Podemos realizar comparaciones múltiples cuyo resultado será True o False."
      ]
    },
    {
      "cell_type": "code",
      "metadata": {
        "colab": {
          "base_uri": "https://localhost:8080/"
        },
        "id": "VeK_yR6oa1OG",
        "outputId": "93c1d84b-23c7-44a3-9de8-293a42a1adc3"
      },
      "source": [
        "1 < 5 < 9"
      ],
      "execution_count": 13,
      "outputs": [
        {
          "output_type": "execute_result",
          "data": {
            "text/plain": [
              "True"
            ]
          },
          "metadata": {},
          "execution_count": 13
        }
      ]
    },
    {
      "cell_type": "code",
      "metadata": {
        "colab": {
          "base_uri": "https://localhost:8080/"
        },
        "id": "0zX03_x7a5zn",
        "outputId": "d284db1e-050e-4cda-a764-9bcacd19bee1"
      },
      "source": [
        "1 < 2 < 3 < 4 > 9"
      ],
      "execution_count": 14,
      "outputs": [
        {
          "output_type": "execute_result",
          "data": {
            "text/plain": [
              "False"
            ]
          },
          "metadata": {},
          "execution_count": 14
        }
      ]
    },
    {
      "cell_type": "code",
      "metadata": {
        "colab": {
          "base_uri": "https://localhost:8080/"
        },
        "id": "ca2E7OE8bMko",
        "outputId": "7b629ecf-8c42-40f8-8dcc-3baba4667a76"
      },
      "source": [
        "4 == 2*2 == 2+2 == 8/2"
      ],
      "execution_count": 15,
      "outputs": [
        {
          "output_type": "execute_result",
          "data": {
            "text/plain": [
              "True"
            ]
          },
          "metadata": {},
          "execution_count": 15
        }
      ]
    },
    {
      "cell_type": "markdown",
      "metadata": {
        "id": "Od_FdO8Lbtkf"
      },
      "source": [
        "### Comprobar si se introduce un número dentro de un rango\n",
        "Nos piden que se introduzca un número entre 10 y 50 ambos incluidos.  Este será el rango válido.  \n",
        "En caso contrario informar que el número no es válido."
      ]
    },
    {
      "cell_type": "markdown",
      "metadata": {
        "id": "qB-FsxX_cphC"
      },
      "source": [
        "#### Solución 1\n",
        "Usando ```and```"
      ]
    },
    {
      "cell_type": "code",
      "metadata": {
        "colab": {
          "base_uri": "https://localhost:8080/"
        },
        "id": "8kYfd09Wcl9o",
        "outputId": "8b6246ab-c011-490d-d27a-33085263fdb8"
      },
      "source": [
        "n = int(input(\"Introduzca un número entero entre 10 y 50: \"))\n",
        "if n>=10 and n<=50:\n",
        "  print(f\"Se ha introducido el número {n} que SI es un número válido.\")\n",
        "else:\n",
        "  print(f\"Se ha introducido el número {n} que NO es un número válido.\")"
      ],
      "execution_count": 16,
      "outputs": [
        {
          "output_type": "stream",
          "name": "stdout",
          "text": [
            "Introduzca un número entero entre 10 y 50: 222\n",
            "Se ha introducido el número 222 que NO es un número válido.\n"
          ]
        }
      ]
    },
    {
      "cell_type": "markdown",
      "metadata": {
        "id": "QIsusjaEd6AR"
      },
      "source": [
        "#### Solución 2\n",
        "Usando comparaciones múltiples."
      ]
    },
    {
      "cell_type": "code",
      "metadata": {
        "colab": {
          "base_uri": "https://localhost:8080/"
        },
        "id": "Uw34hHJDeDdV",
        "outputId": "9eff83e9-fb92-49a7-b1a4-657c61c8c18f"
      },
      "source": [
        "n = int(input(\"Introduzca un número entero entre 10 y 50: \"))\n",
        "if 10 <= n <= 50:\n",
        "  print(f\"Se ha introducido el número {n} que SI es un número válido.\")\n",
        "else:\n",
        "  print(f\"Se ha introducido el número {n} que NO es un número válido.\")"
      ],
      "execution_count": 17,
      "outputs": [
        {
          "output_type": "stream",
          "name": "stdout",
          "text": [
            "Introduzca un número entero entre 10 y 50: 15\n",
            "Se ha introducido el número 15 que SI es un número válido.\n"
          ]
        }
      ]
    },
    {
      "cell_type": "markdown",
      "metadata": {
        "id": "JDw2zLyvgjlj"
      },
      "source": [
        "## Introducir vocal\n",
        "Pedir al usuario que introduzca una vocal minúscula, no acentuada. En caso contrario informar de que el caracter no cumple los requisitos."
      ]
    },
    {
      "cell_type": "code",
      "metadata": {
        "colab": {
          "base_uri": "https://localhost:8080/"
        },
        "id": "n7C0Ziqxg4s6",
        "outputId": "b18b861d-9aca-43c0-8011-e5e6a7ff0be8"
      },
      "source": [
        "vocal = input(\"Introduzca una vocal minúscula, no acentuada: \")\n",
        "if vocal=='a' or vocal=='e' or vocal=='i' or vocal=='o' or vocal=='u':\n",
        "  print(f\"El caracter {vocal} cumple que es una vocal minúscula, no acentuada.\")\n",
        "else:\n",
        "  print(f\"El caracter {vocal} no cumple que sea una vocal minúscula, no acentuada.\")\n"
      ],
      "execution_count": 18,
      "outputs": [
        {
          "output_type": "stream",
          "name": "stdout",
          "text": [
            "Introduzca una vocal minúscula, no acentuada: e\n",
            "El caracter e cumple que es una vocal minúscula, no acentuada.\n"
          ]
        }
      ]
    },
    {
      "cell_type": "markdown",
      "metadata": {
        "id": "S8OBlU_Ye8YV"
      },
      "source": [
        "### Reto 5.6. Repetir una contraseña\n",
        "* Pedir a usuario que escriba una contraseña y luego repetirla dos veces más.  \n",
        "* Finalmente se dice si la contraseña se ha introducido correctamente o no.  \n",
        "* Será correcta cuando las tres veces que se ha introducido coincidan."
      ]
    },
    {
      "cell_type": "markdown",
      "metadata": {
        "id": "S7wYVXR6f4PL"
      },
      "source": [
        "### Reto 5.7. Admitiendo solo números válidos\n",
        "Solicite al usuario un número entero entre 0 y 9.  \n",
        "* Si el número introducido es válido informar por pantalla con una frase que indique el número introducido y diga que si es válido.\n",
        "* Si el número introducido no es válido informar por pantalla con una frase que indique el número introducido y diga que no es válido."
      ]
    }
  ]
}